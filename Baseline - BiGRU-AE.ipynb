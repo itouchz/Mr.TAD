{
 "cells": [
  {
   "cell_type": "code",
   "execution_count": 1,
   "id": "a80a379b-932c-4401-8d76-b5ae5dedc6cc",
   "metadata": {},
   "outputs": [],
   "source": [
    "import os\n",
    "import random\n",
    "\n",
    "os.environ[\"CUDA_DEVICE_ORDER\"] = \"PCI_BUS_ID\";\n",
    "os.environ[\"CUDA_VISIBLE_DEVICES\"] = \"0\"\n",
    "os.environ[\"TF_FORCE_GPU_ALLOW_GROWTH\"] = \"true\""
   ]
  },
  {
   "cell_type": "code",
   "execution_count": 2,
   "id": "saving-behavior",
   "metadata": {},
   "outputs": [],
   "source": [
    "import numpy as np\n",
    "import pandas as pd\n",
    "import tensorflow as tf\n",
    "\n",
    "from evaluator import evaluate\n",
    "from data_loader import load_kdd_cup_urc, load_yahoo_A1, load_yahoo_A2, load_yahoo_A3, load_yahoo_A4, load_power_demand # Univariate Datasets\n",
    "from data_loader import load_nasa, load_ecg, load_gesture, load_smd # Multivariate Datasets\n",
    "\n",
    "from tensorflow import keras\n",
    "from tensorflow.keras import layers\n",
    "from tqdm.notebook import tqdm\n",
    "\n",
    "# THESE LINES ARE FOR REPRODUCIBILITY\n",
    "random.seed(0)\n",
    "np.random.seed(0)\n",
    "tf.random.set_seed(0)"
   ]
  },
  {
   "cell_type": "code",
   "execution_count": 3,
   "id": "217dc48d-fda8-478a-878a-a8024d942e34",
   "metadata": {},
   "outputs": [],
   "source": [
    "def GRU_AE(X_train):\n",
    "    Bi = layers.Bidirectional\n",
    "    GRU = layers.GRU\n",
    "    model = keras.Sequential(\n",
    "        [\n",
    "            layers.InputLayer(input_shape=(X_train.shape[1], X_train.shape[2])),\n",
    "            Bi(GRU(128, return_sequences=True)),\n",
    "            layers.Dropout(rate=0.2),\n",
    "            Bi(GRU(64)),\n",
    "            layers.RepeatVector(X_train.shape[1]),\n",
    "            Bi(GRU(64, return_sequences=True)),\n",
    "            layers.Dropout(rate=0.2),\n",
    "            Bi(GRU(128)),\n",
    "            layers.Dense(X_train.shape[1] *  X_train.shape[2]),\n",
    "            layers.Reshape([X_train.shape[1], X_train.shape[2]])\n",
    "        ]\n",
    "    )\n",
    "    model.compile(optimizer=keras.optimizers.Adam(learning_rate=0.001), loss=\"mse\")\n",
    "    history = model.fit(X_train, X_train, epochs=50, batch_size=128, validation_split=0.3, verbose=0, callbacks=[keras.callbacks.EarlyStopping(monitor=\"val_loss\", patience=5, mode=\"min\", restore_best_weights=True)])\n",
    "    return model"
   ]
  },
  {
   "cell_type": "markdown",
   "id": "fa97c067-d18d-4c06-ae1b-2cbfe88788b6",
   "metadata": {},
   "source": [
    "### Yahoo S5"
   ]
  },
  {
   "cell_type": "code",
   "execution_count": 4,
   "id": "eight-partition",
   "metadata": {},
   "outputs": [],
   "source": [
    "total_scores = {'dataset': [], 'f1': [], 'pr_auc': [], 'roc_auc': []}"
   ]
  },
  {
   "cell_type": "code",
   "execution_count": 5,
   "id": "71866d92-1163-4975-bb99-4302ccda66c3",
   "metadata": {
    "scrolled": true,
    "tags": []
   },
   "outputs": [
    {
     "data": {
      "application/vnd.jupyter.widget-view+json": {
       "model_id": "100be5c7dd2446f78bdd58fc2aade411",
       "version_major": 2,
       "version_minor": 0
      },
      "text/plain": [
       "  0%|          | 0/67 [00:00<?, ?it/s]"
      ]
     },
     "metadata": {},
     "output_type": "display_data"
    },
    {
     "data": {
      "application/vnd.jupyter.widget-view+json": {
       "model_id": "b077042c56a248b3bdb358abced258eb",
       "version_major": 2,
       "version_minor": 0
      },
      "text/plain": [
       "  0%|          | 0/56 [00:00<?, ?it/s]"
      ]
     },
     "metadata": {},
     "output_type": "display_data"
    },
    {
     "name": "stdout",
     "output_type": "stream",
     "text": [
      "yahoo_A1 0.5714285142857172 0.24999997875000163 0.33333328888889363\n",
      "yahoo_A1 0.0 0.0 0.0\n",
      "yahoo_A1 0.0 0.0 0.0\n",
      "yahoo_A1 0.0 0.0 0.0\n",
      "WARNING:tensorflow:5 out of the last 5 calls to <function Model.make_predict_function.<locals>.predict_function at 0x7f961c715310> triggered tf.function retracing. Tracing is expensive and the excessive number of tracings could be due to (1) creating @tf.function repeatedly in a loop, (2) passing tensors with different shapes, (3) passing Python objects instead of tensors. For (1), please define your @tf.function outside of the loop. For (2), @tf.function has experimental_relax_shapes=True option that relaxes argument shapes that can avoid unnecessary retracing. For (3), please refer to https://www.tensorflow.org/guide/function#controlling_retracing and https://www.tensorflow.org/api_docs/python/tf/function for  more details.\n",
      "yahoo_A1 0.0 0.0 0.0\n",
      "WARNING:tensorflow:6 out of the last 6 calls to <function Model.make_predict_function.<locals>.predict_function at 0x7f96fc3cba60> triggered tf.function retracing. Tracing is expensive and the excessive number of tracings could be due to (1) creating @tf.function repeatedly in a loop, (2) passing tensors with different shapes, (3) passing Python objects instead of tensors. For (1), please define your @tf.function outside of the loop. For (2), @tf.function has experimental_relax_shapes=True option that relaxes argument shapes that can avoid unnecessary retracing. For (3), please refer to https://www.tensorflow.org/guide/function#controlling_retracing and https://www.tensorflow.org/api_docs/python/tf/function for  more details.\n",
      "yahoo_A1 0.0 0.0 0.0\n",
      "yahoo_A1 0.33333329444444565 0.09999998800000123 0.49999993750000654\n",
      "yahoo_A1 0.7999999200000041 0.4999999416666725 0.8333332638888935\n",
      "yahoo_A1 0.666666577777783 0.37499995687500437 0.4999999583333361\n",
      "yahoo_A1 0.33333329444444565 0.09999998800000123 0.12499998437500164\n",
      "yahoo_A1 0.8888888197530895 0.25000000993055255 -0.0\n",
      "yahoo_A1 0.5714285142857172 0.1666666606944441 0.33333328888889363\n",
      "yahoo_A1 0.9999998500000123 0.49999990000001493 0.9999998750000131\n",
      "yahoo_A1 0.0 0.0 0.0\n",
      "yahoo_A1 0.33333329444444565 0.09999998800000123 0.0\n",
      "yahoo_A1 0.0 0.0 -0.0\n",
      "yahoo_A1 0.7499999343750033 0.37499997479166813 0.24999997500000196\n",
      "yahoo_A1 0.7499999343750033 0.16666667444444216 -0.0\n",
      "yahoo_A1 0.7499999343750033 0.24999999249999968 -0.0\n",
      "yahoo_A1 0.7499999343750033 9.166665633334498e-09 0.0\n",
      "yahoo_A1 0.0 0.0 0.0\n",
      "yahoo_A1 0.0 0.0 -0.0\n",
      "yahoo_A1 0.9999999166666703 0.49999996666666835 0.9999999166666721\n",
      "yahoo_A1 0.9999999166666703 0.8333332347222326 0.9999999166666721\n",
      "yahoo_A1 0.0 0.0 0.0\n",
      "yahoo_A1 0.8888888197530895 0.25000000993055255 -0.0\n",
      "yahoo_A1 0.6666666000000033 0.4166666194444491 0.6666666111111148\n",
      "yahoo_A1 0.7499999343750033 0.0 0.0\n",
      "yahoo_A1 0.7499999343750033 0.0 0.0\n",
      "yahoo_A1 0.0 0.0 -0.0\n",
      "yahoo_A1 0.999999930000003 0.7499999466666705 0.0\n",
      "yahoo_A1 0.5714285142857172 0.1250000006249989 -0.0\n",
      "yahoo_A1 0.9999998500000123 0.49999990000001493 0.9999998750000131\n",
      "yahoo_A1 0.6666666000000033 0.0 0.33333330555555735\n",
      "yahoo_A1 0.5714285142857172 0.1250000006249989 -0.0\n",
      "yahoo_A1 0.7499999343750033 0.1666666744444422 -0.0\n",
      "yahoo_A1 0.7499999343750033 9.166665633334498e-09 0.0\n",
      "yahoo_A1 0.0 0.0 0.0\n",
      "yahoo_A1 0.7499999343750033 0.0 0.0\n",
      "yahoo_A1 0.7499999343750033 0.0 0.0\n",
      "yahoo_A1 0.33333329444444565 0.09999998800000123 0.0\n",
      "yahoo_A1 0.8888888197530895 0.0 0.0\n",
      "yahoo_A1 0.8888888197530895 6.458332776441446e-09 0.0\n",
      "yahoo_A1 0.9999998500000123 0.49999993000001025 0.9999998500000176\n",
      "yahoo_A1 0.0 0.0 0.0\n",
      "yahoo_A1 0.0 0.0 0.0\n",
      "yahoo_A1 0.5714285142857172 0.1250000006249989 -0.0\n",
      "yahoo_A1 0.0 0.0 -0.0\n",
      "yahoo_A1 0.0 0.0 0.0\n",
      "yahoo_A1 0.0 0.0 0.0\n",
      "yahoo_A1 0.5714285142857172 0.24999998187500094 0.3333333055555574\n",
      "yahoo_A1 0.666666577777783 0.5999999180000092 0.7499999375000042\n",
      "yahoo_A1 0.0 0.0 0.0\n",
      "yahoo_A1 0.9999998500000123 0.49999990000001493 0.9999998750000131\n",
      "yahoo_A1 0.5714285142857172 0.1250000006249989 -0.0\n",
      "yahoo_A1 0.5714285142857172 0.0 0.0\n"
     ]
    },
    {
     "data": {
      "application/vnd.jupyter.widget-view+json": {
       "model_id": "75231f03fae64c6887acd565b8076403",
       "version_major": 2,
       "version_minor": 0
      },
      "text/plain": [
       "  0%|          | 0/100 [00:00<?, ?it/s]"
      ]
     },
     "metadata": {},
     "output_type": "display_data"
    },
    {
     "data": {
      "application/vnd.jupyter.widget-view+json": {
       "model_id": "f6eb7d9ee722488693c39a947d1ba694",
       "version_major": 2,
       "version_minor": 0
      },
      "text/plain": [
       "  0%|          | 0/100 [00:00<?, ?it/s]"
      ]
     },
     "metadata": {},
     "output_type": "display_data"
    },
    {
     "name": "stdout",
     "output_type": "stream",
     "text": [
      "yahoo_A2 0.46153841893491365 1.3032405600333905e-08 0.0\n",
      "yahoo_A2 0.46153841893491365 4.351851412631487e-09 0.0\n",
      "yahoo_A2 0.46153841893491365 0.06250000600115631 -0.0\n",
      "yahoo_A2 0.4285713887755125 0.09999999971717134 0.49999994375000567\n",
      "yahoo_A2 0.28571425306122533 0.08333332361111209 0.1666666472222242\n",
      "yahoo_A2 0.46153841893491365 0.21527776702546342 0.4880952106859423\n",
      "yahoo_A2 0.4285713887755125 0.10714285482941653 0.24999997187500275\n",
      "yahoo_A2 0.24999997187500062 0.07142856326530694 0.0\n",
      "yahoo_A2 0.46153841893491365 0.06250000600115631 -0.0\n",
      "yahoo_A2 0.4285713887755125 1.1717170107356334e-08 0.0\n",
      "yahoo_A2 0.24999997187500062 0.07142856326530694 0.0\n",
      "yahoo_A2 0.46153841893491365 0.06250000600115631 0.0\n",
      "yahoo_A2 0.4285713887755125 1.1717170107356334e-08 0.0\n",
      "yahoo_A2 0.4285713887755125 0.08680555636898456 0.0624999960937502\n",
      "yahoo_A2 0.24999997187500062 0.07142856326530694 -0.0\n",
      "yahoo_A2 0.46153841893491365 0.0 0.0\n",
      "yahoo_A2 0.4285713887755125 0.07142857498247705 0.24999997187500275\n",
      "yahoo_A2 0.24999997187500062 0.07142856326530694 0.0\n",
      "yahoo_A2 0.46153841893491365 0.06250000600115631 -0.0\n",
      "yahoo_A2 0.4285713887755125 0.07407407101758334 0.29166665121527846\n",
      "yahoo_A2 0.24999997187500062 0.07142856326530694 -0.0\n",
      "yahoo_A2 0.46153841893491365 0.06250000600115631 -0.0\n",
      "yahoo_A2 0.4285713887755125 3.9393935457305224e-09 0.0\n",
      "yahoo_A2 0.24999997187500062 0.07142856326530694 0.0\n",
      "yahoo_A2 0.24999997187500062 0.07142856326530694 -0.0\n",
      "yahoo_A2 0.46153841893491365 0.14583332778935199 0.42857138673469763\n",
      "yahoo_A2 0.4285713887755125 0.05555556109988678 -0.0\n",
      "yahoo_A2 0.24999997187500062 0.07142856326530694 -0.0\n",
      "yahoo_A2 0.46153841893491365 0.12499999750661356 0.28571426020408375\n",
      "yahoo_A2 0.4285713887755125 0.09999999793939388 -0.0\n",
      "yahoo_A2 0.24999997187500062 0.0 0.0\n",
      "yahoo_A2 0.46153841893491365 0.06250000600115631 -0.0\n",
      "yahoo_A2 0.4285713887755125 0.05555556109988678 -0.0\n",
      "yahoo_A2 0.24999997187500062 0.07142856326530694 -0.0\n",
      "yahoo_A2 0.46153841893491365 0.06250000600115631 -0.0\n",
      "yahoo_A2 0.46153841893491365 0.06250000600115631 -0.0\n",
      "yahoo_A2 0.4285713887755125 0.16964285033784923 0.3958333120659732\n",
      "yahoo_A2 0.24999997187500062 0.07142856326530694 -0.0\n",
      "yahoo_A2 0.46153841893491365 0.06250000600115631 -0.0\n",
      "yahoo_A2 0.4285713887755125 0.05555556109988678 -0.0\n",
      "yahoo_A2 0.24999997187500062 0.0 0.0\n",
      "yahoo_A2 0.46153841893491365 0.06250000600115631 -0.0\n",
      "yahoo_A2 0.4285713887755125 0.09374999960779642 0.12499998593750138\n",
      "yahoo_A2 0.24999997187500062 0.07142856326530694 -0.0\n",
      "yahoo_A2 0.46153841893491365 0.06250000600115631 -0.0\n",
      "yahoo_A2 0.4285713887755125 0.08333333289772701 0.24999998020833497\n",
      "yahoo_A2 0.4285713887755125 1.1717170107356334e-08 0.0\n",
      "yahoo_A2 0.24999997187500062 0.07142856326530694 -0.0\n",
      "yahoo_A2 0.46153841893491365 0.06250000600115631 -0.0\n",
      "yahoo_A2 0.4285713887755125 0.05555556109988678 -0.0\n",
      "yahoo_A2 0.24999997187500062 0.07142856326530694 0.0\n",
      "yahoo_A2 0.46153841893491365 0.06250000600115631 -0.0\n",
      "yahoo_A2 0.4285713887755125 0.05555556109988678 -0.0\n",
      "yahoo_A2 0.24999997187500062 0.07142856326530694 0.0\n",
      "yahoo_A2 0.46153841893491365 0.06250000600115631 -0.0\n",
      "yahoo_A2 0.4285713887755125 0.05555556109988678 -0.0\n",
      "yahoo_A2 0.24999997187500062 0.07142856326530694 -0.0\n",
      "yahoo_A2 0.24999997187500062 0.07142856326530694 -0.0\n",
      "yahoo_A2 0.46153841893491365 0.07142857272628454 0.14285712653061383\n",
      "yahoo_A2 0.4285713887755125 0.05555556109988678 -0.0\n",
      "yahoo_A2 0.24999997187500062 0.07142856326530694 -0.0\n",
      "yahoo_A2 0.46153841893491365 0.0 0.0\n",
      "yahoo_A2 0.4285713887755125 0.12301586928519892 0.2916666366319473\n",
      "yahoo_A2 0.24999997187500062 0.0 0.0\n",
      "yahoo_A2 0.46153841893491365 0.06250000600115631 -0.0\n",
      "yahoo_A2 0.4444443901234612 0.06666666438383843 0.33333331805555616\n",
      "yahoo_A2 0.24999997187500062 0.07142856326530694 -0.0\n",
      "yahoo_A2 0.46153841893491365 0.09821428629452428 0.07142856683673492\n",
      "yahoo_A2 0.46153841893491365 0.06250000600115631 -0.0\n",
      "yahoo_A2 0.4285713887755125 0.06250000468592082 0.12499998593750138\n",
      "yahoo_A2 0.24999997187500062 0.07142856326530694 -0.0\n",
      "yahoo_A2 0.46153841893491365 0.07142857629771254 0.14285712653061383\n",
      "yahoo_A2 0.4285713887755125 0.05555556109988678 -0.0\n",
      "yahoo_A2 0.24999997187500062 0.07142856326530694 -0.0\n",
      "yahoo_A2 0.46153841893491365 0.06250000600115631 -0.0\n",
      "yahoo_A2 0.4285713887755125 0.05555556109988678 0.06249999296875069\n",
      "yahoo_A2 0.24999997187500062 0.0 0.0\n",
      "yahoo_A2 0.46153841893491365 0.06250000600115631 -0.0\n",
      "yahoo_A2 0.4285713887755125 3.9393935457305224e-09 0.0\n",
      "yahoo_A2 0.4285713887755125 0.05555556109988678 -0.0\n",
      "yahoo_A2 0.24999997187500062 0.07142856326530694 -0.0\n",
      "yahoo_A2 0.46153841893491365 0.06250000600115631 -0.0\n",
      "yahoo_A2 0.4285713887755125 0.05555556109988678 -0.0\n",
      "yahoo_A2 0.24999997187500062 0.07142856326530694 -0.0\n",
      "yahoo_A2 0.46153841893491365 0.11904761688728249 0.14285712653061383\n",
      "yahoo_A2 0.4285713887755125 0.07142857498247705 0.24999997187500275\n",
      "yahoo_A2 0.24999997187500062 0.0 0.0\n",
      "yahoo_A2 0.46153841893491365 0.06250000600115631 -0.0\n",
      "yahoo_A2 0.4285713887755125 0.12499999687342159 0.37499997031250226\n",
      "yahoo_A2 0.24999997187500062 0.07142856326530694 -0.0\n",
      "yahoo_A2 0.24999997187500062 0.07142856326530694 -0.0\n",
      "yahoo_A2 0.46153841893491365 0.06250000600115631 -0.0\n",
      "yahoo_A2 0.4285713887755125 0.08333333440235645 -0.0\n",
      "yahoo_A2 0.24999997187500062 0.07142856326530694 -0.0\n",
      "yahoo_A2 0.46153841893491365 0.06250000600115631 -0.0\n",
      "yahoo_A2 0.4285713887755125 0.05555556109988678 -0.0\n",
      "yahoo_A2 0.24999997187500062 0.07142856326530694 -0.0\n",
      "yahoo_A2 0.46153841893491365 0.06250000600115631 -0.0\n",
      "yahoo_A2 0.4285713887755125 0.05555556109988678 -0.0\n",
      "yahoo_A2 0.24999997187500062 0.07142856326530694 0.0\n"
     ]
    },
    {
     "data": {
      "application/vnd.jupyter.widget-view+json": {
       "model_id": "6308cb09f984462ba7b92bead335a416",
       "version_major": 2,
       "version_minor": 0
      },
      "text/plain": [
       "  0%|          | 0/100 [00:00<?, ?it/s]"
      ]
     },
     "metadata": {},
     "output_type": "display_data"
    },
    {
     "data": {
      "application/vnd.jupyter.widget-view+json": {
       "model_id": "c80b5303d40046e18caeca3fc1520703",
       "version_major": 2,
       "version_minor": 0
      },
      "text/plain": [
       "  0%|          | 0/92 [00:00<?, ?it/s]"
      ]
     },
     "metadata": {},
     "output_type": "display_data"
    },
    {
     "name": "stdout",
     "output_type": "stream",
     "text": [
      "yahoo_A3 0.4999999500000025 1.3333331148236856e-08 0.0\n",
      "yahoo_A3 0.33333329444444565 0.09999998300000205 0.12499999062500056\n",
      "yahoo_A3 0.7999999360000031 1.4444442978045904e-08 0.0\n",
      "yahoo_A3 0.4999999500000025 0.0 0.0\n",
      "yahoo_A3 0.9090908429752097 0.0 0.0\n",
      "yahoo_A3 0.4999999500000025 0.10000000133333238 -0.0\n",
      "yahoo_A3 0.9999999250000032 2.4999997023184203e-08 0.9999999250000045\n",
      "yahoo_A3 0.6666666074074105 0.0 0.0\n",
      "yahoo_A3 0.7999999360000031 5.277777344711406e-09 0.0\n",
      "yahoo_A3 0.9999999333333361 0.33333331944444494 0.0\n",
      "yahoo_A3 0.9090908429752097 4.083333052458349e-09 0.0\n",
      "yahoo_A3 0.9090908429752097 5.1513881203937667e-08 0.0\n",
      "yahoo_A3 0.39999995200000177 0.0 0.39999995200000493\n",
      "yahoo_A3 0.7999999360000031 0.0 0.0\n",
      "yahoo_A3 0.28571425306122533 0.0 0.0\n",
      "yahoo_A3 0.9090908429752097 0.0 0.0\n",
      "yahoo_A3 0.4999999500000025 1.3333331148236856e-08 0.0\n",
      "yahoo_A3 0.4999999500000025 0.10000000133333238 0.0\n",
      "yahoo_A3 0.6666666074074105 0.1250000081249981 0.0\n",
      "yahoo_A3 0.28571425306122533 0.08333332361111209 -0.0\n",
      "yahoo_A3 0.28571425306122533 0.0 0.0\n",
      "yahoo_A3 0.6666666074074105 0.1250000081249981 0.0\n",
      "yahoo_A3 0.9090908429752097 2.2347219975155517e-08 0.0\n",
      "yahoo_A3 0.28571425306122533 0.08333332361111209 -0.0\n",
      "yahoo_A3 0.4999999500000025 0.0 0.0\n",
      "yahoo_A3 0.6666666074074105 0.0 0.0\n",
      "yahoo_A3 0.4999999500000025 0.0 0.0\n",
      "yahoo_A3 0.4999999500000025 0.0 0.0\n",
      "yahoo_A3 0.6666666074074105 0.0 0.0\n",
      "yahoo_A3 0.7999999360000031 0.0 0.0\n",
      "yahoo_A3 0.9999999333333361 0.49999998333333373 0.0\n",
      "yahoo_A3 0.9999999333333361 0.4999999833333337 0.0\n",
      "yahoo_A3 0.9999999250000032 7.499998597490645e-08 0.9999999250000045\n",
      "yahoo_A3 0.9090908429752097 1.0541665828899795e-08 0.0\n",
      "yahoo_A3 0.7999999360000031 0.2499999894444448 0.0\n",
      "yahoo_A3 0.9090908429752097 1.0541665828899795e-08 0.0\n",
      "yahoo_A3 0.9090908429752097 0.0 0.0\n",
      "yahoo_A3 0.7999999360000031 5.277777344711406e-09 0.0\n",
      "yahoo_A3 0.7499999343750033 0.23611110141203717 0.3333333111111122\n",
      "yahoo_A3 0.9090908429752097 2.2347219975155517e-08 0.0\n",
      "yahoo_A3 0.0 0.0 0.0\n",
      "yahoo_A3 0.9999999333333361 8.3333328500246e-09 0.0\n",
      "yahoo_A3 0.28571425306122533 0.08333332361111209 0.0\n",
      "yahoo_A3 0.4999999500000025 0.10000000133333238 -0.0\n",
      "yahoo_A3 0.9090908429752097 2.2347219975155517e-08 0.0\n",
      "yahoo_A3 0.9090908429752097 5.151388120393767e-08 0.0\n",
      "yahoo_A3 0.9999999333333361 3.3333332149565532e-09 0.0\n",
      "yahoo_A3 0.8571427836734729 0.18749998965277825 0.49999995833333605\n",
      "yahoo_A3 0.4999999500000025 1.3333331148236856e-08 0.0\n",
      "yahoo_A3 0.4999999500000025 1.3333331148236856e-08 0.0\n",
      "yahoo_A3 0.6666666074074105 0.0 0.0\n",
      "yahoo_A3 0.6666666074074105 0.18749999718749943 0.0\n",
      "yahoo_A3 0.7999999360000031 1.4444442978045904e-08 0.0\n",
      "yahoo_A3 0.9090908429752097 0.2500000140138856 0.0\n",
      "yahoo_A3 0.7999999360000031 0.0 0.0\n",
      "yahoo_A3 0.6666666074074105 2.374999645729026e-08 0.0\n",
      "yahoo_A3 0.9090908429752097 0.0 0.0\n",
      "yahoo_A3 0.4999999500000025 1.3333331148236856e-08 0.0\n",
      "yahoo_A3 0.9090908429752097 0.0 0.0\n",
      "yahoo_A3 0.9090908429752097 0.0 0.0\n",
      "yahoo_A3 0.7999999360000031 0.0 0.0\n",
      "yahoo_A3 0.9090908429752097 0.41666665012500065 -0.0\n",
      "yahoo_A3 0.4999999500000025 0.10000000133333238 0.0\n",
      "yahoo_A3 0.7999999360000031 0.16666667972221955 0.0\n",
      "yahoo_A3 0.7999999360000031 0.0 0.0\n",
      "yahoo_A3 0.7999999360000031 0.0 0.0\n",
      "yahoo_A3 0.6666666074074105 0.0 0.0\n",
      "yahoo_A3 0.9999999333333361 0.0 0.0\n",
      "yahoo_A3 0.9090908429752097 4.083333052458349e-09 0.0\n",
      "yahoo_A3 0.28571425306122533 0.0 0.0\n",
      "yahoo_A3 0.6666666074074105 0.13333332705555573 0.22222220740740814\n",
      "yahoo_A3 0.7499999343750033 0.3194444278009265 0.3333333111111122\n",
      "yahoo_A3 0.7999999360000031 1.4444442978045904e-08 0.0\n",
      "yahoo_A3 0.6666666074074105 7.499999185480748e-09 0.0\n",
      "yahoo_A3 0.4999999500000025 0.0 0.0\n",
      "yahoo_A3 0.4999999500000025 1.3333331148236856e-08 0.0\n",
      "yahoo_A3 0.7999999360000031 5.277777344711406e-09 0.0\n",
      "yahoo_A3 0.6666666074074105 0.0 0.0\n",
      "yahoo_A3 0.4999999500000025 0.0 0.0\n",
      "yahoo_A3 0.9090908429752097 4.083333052458349e-09 0.0\n",
      "yahoo_A3 0.9090908429752097 0.37499998588888944 0.0\n",
      "yahoo_A3 0.7999999360000031 0.0 0.0\n",
      "yahoo_A3 0.9090908429752097 0.0 0.0\n",
      "yahoo_A3 0.6666666074074105 0.24999998937500012 0.3333333055555574\n",
      "yahoo_A3 0.4999999500000025 0.10000000133333238 -0.0\n",
      "yahoo_A3 0.6666666074074105 0.0 0.0\n",
      "yahoo_A3 0.6666666074074105 7.499999185480748e-09 0.0\n",
      "yahoo_A3 0.666666577777783 0.41666659861111943 -0.0\n",
      "yahoo_A3 0.6666666074074105 0.0 0.0\n",
      "yahoo_A3 0.6666666074074105 0.16666665611111167 0.33333330555555735\n",
      "yahoo_A3 0.6666666074074105 7.499999185480748e-09 0.0\n",
      "yahoo_A3 0.33333329444444565 0.14999997950000227 -0.0\n"
     ]
    },
    {
     "data": {
      "application/vnd.jupyter.widget-view+json": {
       "model_id": "b75d2011d0d24cc1a64b76c234aba69c",
       "version_major": 2,
       "version_minor": 0
      },
      "text/plain": [
       "  0%|          | 0/100 [00:00<?, ?it/s]"
      ]
     },
     "metadata": {},
     "output_type": "display_data"
    },
    {
     "data": {
      "application/vnd.jupyter.widget-view+json": {
       "model_id": "93087aa2115241a993be240a06b2c09b",
       "version_major": 2,
       "version_minor": 0
      },
      "text/plain": [
       "  0%|          | 0/82 [00:00<?, ?it/s]"
      ]
     },
     "metadata": {},
     "output_type": "display_data"
    },
    {
     "name": "stdout",
     "output_type": "stream",
     "text": [
      "yahoo_A4 0.6666666074074105 0.0 0.0\n",
      "yahoo_A4 0.6666666000000033 0.16666666527777654 0.2499999812500011\n",
      "yahoo_A4 0.6666666074074105 2.374999645729026e-08 0.0\n",
      "yahoo_A4 0.6666666000000033 0.2499999833333341 0.24999996875000327\n",
      "yahoo_A4 0.9090908429752097 0.4374999812013897 -0.0\n",
      "yahoo_A4 0.7999999360000031 0.5138888513657436 0.4166666340277798\n",
      "yahoo_A4 0.4999999500000025 0.0 0.0\n",
      "yahoo_A4 0.4999999500000025 0.0 0.0\n",
      "yahoo_A4 0.9090908429752097 4.083333052458349e-09 0.0\n",
      "yahoo_A4 0.7999999360000031 0.16666667972221952 0.0\n",
      "yahoo_A4 0.9090908429752097 0.0 0.0\n",
      "yahoo_A4 0.6666666074074105 0.1250000081249981 0.0\n",
      "yahoo_A4 0.6666666074074105 0.12500000187499916 0.0\n",
      "yahoo_A4 0.28571425306122533 0.0 0.0\n",
      "yahoo_A4 0.33333329444444565 0.09999998800000123 0.19999997600000247\n",
      "yahoo_A4 0.4999999500000025 0.0 0.0\n",
      "yahoo_A4 0.9090908429752097 0.0 0.0\n",
      "yahoo_A4 0.7999999360000031 5.277777344711406e-09 0.0\n",
      "yahoo_A4 0.9999999333333361 0.0 0.0\n",
      "yahoo_A4 0.9090908429752097 0.0 0.0\n",
      "yahoo_A4 0.4999999500000025 0.0 0.0\n",
      "yahoo_A4 0.7999999360000031 0.16666667972221952 0.0\n",
      "yahoo_A4 0.7999999360000031 0.0 0.0\n",
      "yahoo_A4 0.4999999500000025 0.0 0.0\n",
      "yahoo_A4 0.6666666074074105 0.0 0.0\n",
      "yahoo_A4 0.7999999360000031 5.277777344711406e-09 0.0\n",
      "yahoo_A4 0.9999999333333361 8.3333328500246e-09 0.0\n",
      "yahoo_A4 0.4999999500000025 0.0 0.0\n",
      "yahoo_A4 0.9090908429752097 0.0 0.0\n",
      "yahoo_A4 0.9999999333333361 3.33333298732088e-08 0.0\n",
      "yahoo_A4 0.28571425306122533 0.08333332361111209 -0.0\n",
      "yahoo_A4 0.6666666074074105 0.0 0.0\n",
      "yahoo_A4 0.4999999500000025 0.10000000133333238 -0.0\n",
      "yahoo_A4 0.4999999500000025 0.0 0.0\n",
      "yahoo_A4 0.7999999360000031 0.0 0.0\n",
      "yahoo_A4 0.9090908429752097 0.788194371016211 0.6666665777777874\n",
      "yahoo_A4 0.8571427836734729 0.2500000087499971 0.49999995833333605\n",
      "yahoo_A4 0.9090908429752097 0.0 0.0\n",
      "yahoo_A4 0.8571427836734729 0.34374998281250047 0.0\n",
      "yahoo_A4 0.6666666074074105 0.0 0.0\n",
      "yahoo_A4 0.9090908429752097 1.0541665828899795e-08 0.0\n",
      "yahoo_A4 0.0 0.0 0.0\n",
      "yahoo_A4 0.7999999360000031 0.0 0.0\n",
      "yahoo_A4 0.4999999500000025 0.0 0.0\n",
      "yahoo_A4 0.4999999500000025 1.3333331148236856e-08 0.0\n",
      "yahoo_A4 0.4999999500000025 1.3333331148236856e-08 0.0\n",
      "yahoo_A4 0.6666666074074105 0.28611109707870414 0.22222220740740814\n",
      "yahoo_A4 0.4999999500000025 0.0 0.0\n",
      "yahoo_A4 0.7999999360000031 1.4444442978045904e-08 0.0\n",
      "yahoo_A4 0.7999999360000031 3.5277772680152144e-08 0.0\n",
      "yahoo_A4 0.7999999360000031 0.0 0.0\n",
      "yahoo_A4 0.7999999360000031 0.48611106675926363 0.7499999250000059\n",
      "yahoo_A4 0.4999999500000025 0.0 0.0\n",
      "yahoo_A4 0.28571425306122533 0.08333332361111209 0.0\n",
      "yahoo_A4 0.9090908429752097 0.0 0.0\n",
      "yahoo_A4 0.6666666074074105 7.499999185480748e-09 0.0\n",
      "yahoo_A4 0.6666666074074105 0.1250000081249981 0.0\n",
      "yahoo_A4 0.4999999500000025 0.0 0.0\n",
      "yahoo_A4 0.6666666000000033 0.2499999833333341 0.7499999312500055\n",
      "yahoo_A4 0.7999999360000031 0.0 0.0\n",
      "yahoo_A4 0.6666666074074105 7.499999185480748e-09 0.0\n",
      "yahoo_A4 0.7999999360000031 0.0 0.0\n",
      "yahoo_A4 0.9999999000000052 0.8333332518055627 0.99999990833334\n",
      "yahoo_A4 0.7999999360000031 0.0 0.0\n",
      "yahoo_A4 0.4999999500000025 0.0 0.0\n",
      "yahoo_A4 0.6666666074074105 0.0 0.0\n",
      "yahoo_A4 0.6666666074074105 0.0 0.0\n",
      "yahoo_A4 0.4999999500000025 0.0 0.0\n",
      "yahoo_A4 0.6666666074074105 0.0 0.0\n",
      "yahoo_A4 0.7999999360000031 0.0 0.0\n",
      "yahoo_A4 0.28571425306122533 0.0 0.0\n",
      "yahoo_A4 0.9090908429752097 0.0 0.0\n",
      "yahoo_A4 0.9090908429752097 2.2347219975155517e-08 0.0\n",
      "yahoo_A4 0.7999999360000031 0.16666667972221952 0.0\n",
      "yahoo_A4 0.39999993600000633 0.10416665746527841 -0.0\n",
      "yahoo_A4 0.9090908429752097 0.18749999491666675 0.0\n",
      "yahoo_A4 0.6666666074074105 0.0 0.0\n",
      "yahoo_A4 0.6666666074074105 7.499999185480748e-09 0.0\n",
      "yahoo_A4 0.7999999360000031 0.0 0.0\n",
      "yahoo_A4 0.49999993750000526 0.12499999375000022 -0.0\n",
      "yahoo_A4 0.9090908429752097 0.4499999800138898 0.09999998800000123\n",
      "yahoo_A4 0.28571425306122533 0.0 0.0\n"
     ]
    }
   ],
   "source": [
    "for loader in [load_yahoo_A1, load_yahoo_A2, load_yahoo_A3, load_yahoo_A4]:\n",
    "    datasets = loader(128, 64)\n",
    "    x_trains, x_tests, y_tests = datasets['x_train'], datasets['x_test'], datasets['y_test']\n",
    "    \n",
    "    for i in tqdm(range(len(x_trains))):\n",
    "        X_train = x_trains[i]\n",
    "        X_test = x_tests[i]\n",
    "        \n",
    "        model = GRU_AE(X_train)\n",
    "        scores = evaluate(X_test, model.predict(X_test), y_tests[i], is_reconstructed=True)\n",
    "    \n",
    "        total_scores['dataset'].append(loader.__name__.replace('load_', ''))\n",
    "        total_scores['f1'].append(np.max(scores['f1']))\n",
    "        total_scores['pr_auc'].append(scores['pr_auc'])\n",
    "        total_scores['roc_auc'].append(scores['roc_auc'])\n",
    "        print(loader.__name__.replace('load_', ''), np.max(scores['f1']), scores['pr_auc'], scores['roc_auc'])   "
   ]
  },
  {
   "cell_type": "code",
   "execution_count": 6,
   "id": "bd9e37fd-124c-4f5c-8f1f-a9d61a4b0315",
   "metadata": {},
   "outputs": [
    {
     "data": {
      "text/html": [
       "<div>\n",
       "<style scoped>\n",
       "    .dataframe tbody tr th:only-of-type {\n",
       "        vertical-align: middle;\n",
       "    }\n",
       "\n",
       "    .dataframe tbody tr th {\n",
       "        vertical-align: top;\n",
       "    }\n",
       "\n",
       "    .dataframe thead th {\n",
       "        text-align: right;\n",
       "    }\n",
       "</style>\n",
       "<table border=\"1\" class=\"dataframe\">\n",
       "  <thead>\n",
       "    <tr style=\"text-align: right;\">\n",
       "      <th></th>\n",
       "      <th>f1</th>\n",
       "      <th>pr_auc</th>\n",
       "      <th>roc_auc</th>\n",
       "    </tr>\n",
       "    <tr>\n",
       "      <th>dataset</th>\n",
       "      <th></th>\n",
       "      <th></th>\n",
       "      <th></th>\n",
       "    </tr>\n",
       "  </thead>\n",
       "  <tbody>\n",
       "    <tr>\n",
       "      <th>yahoo_A1</th>\n",
       "      <td>0.489768</td>\n",
       "      <td>0.160714</td>\n",
       "      <td>0.195685</td>\n",
       "    </tr>\n",
       "    <tr>\n",
       "      <th>yahoo_A2</th>\n",
       "      <td>0.381367</td>\n",
       "      <td>0.064360</td>\n",
       "      <td>0.054315</td>\n",
       "    </tr>\n",
       "    <tr>\n",
       "      <th>yahoo_A3</th>\n",
       "      <td>0.700941</td>\n",
       "      <td>0.064553</td>\n",
       "      <td>0.049789</td>\n",
       "    </tr>\n",
       "    <tr>\n",
       "      <th>yahoo_A4</th>\n",
       "      <td>0.685002</td>\n",
       "      <td>0.081877</td>\n",
       "      <td>0.062263</td>\n",
       "    </tr>\n",
       "  </tbody>\n",
       "</table>\n",
       "</div>"
      ],
      "text/plain": [
       "                f1    pr_auc   roc_auc\n",
       "dataset                               \n",
       "yahoo_A1  0.489768  0.160714  0.195685\n",
       "yahoo_A2  0.381367  0.064360  0.054315\n",
       "yahoo_A3  0.700941  0.064553  0.049789\n",
       "yahoo_A4  0.685002  0.081877  0.062263"
      ]
     },
     "execution_count": 6,
     "metadata": {},
     "output_type": "execute_result"
    }
   ],
   "source": [
    "yahoo_results = pd.DataFrame(total_scores)\n",
    "yahoo_results.groupby('dataset').mean()"
   ]
  },
  {
   "cell_type": "markdown",
   "id": "8890a678-6116-4222-b0ff-395fcd7f41aa",
   "metadata": {},
   "source": [
    "### NASA"
   ]
  },
  {
   "cell_type": "code",
   "execution_count": 7,
   "id": "e4387a80-585a-488e-94a8-546f42d47632",
   "metadata": {},
   "outputs": [],
   "source": [
    "total_scores = {'dataset': [], 'f1': [], 'pr_auc': [], 'roc_auc': []}"
   ]
  },
  {
   "cell_type": "code",
   "execution_count": 8,
   "id": "106a238d-c5cb-49e9-9764-b1bc37f09436",
   "metadata": {},
   "outputs": [
    {
     "data": {
      "application/vnd.jupyter.widget-view+json": {
       "model_id": "902940c5805242f9b0bb9bf11b5c9147",
       "version_major": 2,
       "version_minor": 0
      },
      "text/plain": [
       "  0%|          | 0/2 [00:00<?, ?it/s]"
      ]
     },
     "metadata": {},
     "output_type": "display_data"
    },
    {
     "data": {
      "application/vnd.jupyter.widget-view+json": {
       "model_id": "9d75ed3ff9424bdd973e54ae4461de4f",
       "version_major": 2,
       "version_minor": 0
      },
      "text/plain": [
       "  0%|          | 0/2 [00:00<?, ?it/s]"
      ]
     },
     "metadata": {},
     "output_type": "display_data"
    },
    {
     "name": "stdout",
     "output_type": "stream",
     "text": [
      "D1 0.27054187472880764 0.05547500453211374 0.20591594521826848\n",
      "D2 0.2987124192342488 0.19086556201111204 0.5297422235491536\n"
     ]
    }
   ],
   "source": [
    "for loader in [load_nasa]:\n",
    "    datasets = loader(128, 64)\n",
    "    x_trains, x_tests, y_tests = datasets['x_train'], datasets['x_test'], datasets['y_test']\n",
    "    \n",
    "    for i in tqdm(range(len(x_trains))):\n",
    "        X_train = x_trains[i]\n",
    "        X_test = x_tests[i]\n",
    "        \n",
    "        model = GRU_AE(X_train)\n",
    "        scores = evaluate(X_test, model.predict(X_test), y_tests[i], is_reconstructed=True)\n",
    "        \n",
    "        total_scores['dataset'].append(f'D{i+1}')\n",
    "        total_scores['f1'].append(np.max(scores['f1']))\n",
    "        total_scores['pr_auc'].append(scores['pr_auc'])\n",
    "        total_scores['roc_auc'].append(scores['roc_auc'])\n",
    "        print(f'D{i+1}', np.max(scores['f1']), scores['pr_auc'], scores['roc_auc'])   "
   ]
  },
  {
   "cell_type": "code",
   "execution_count": 9,
   "id": "abb7a6a5-3924-4a33-bc54-871559819602",
   "metadata": {},
   "outputs": [
    {
     "data": {
      "text/html": [
       "<div>\n",
       "<style scoped>\n",
       "    .dataframe tbody tr th:only-of-type {\n",
       "        vertical-align: middle;\n",
       "    }\n",
       "\n",
       "    .dataframe tbody tr th {\n",
       "        vertical-align: top;\n",
       "    }\n",
       "\n",
       "    .dataframe thead th {\n",
       "        text-align: right;\n",
       "    }\n",
       "</style>\n",
       "<table border=\"1\" class=\"dataframe\">\n",
       "  <thead>\n",
       "    <tr style=\"text-align: right;\">\n",
       "      <th></th>\n",
       "      <th>f1</th>\n",
       "      <th>pr_auc</th>\n",
       "      <th>roc_auc</th>\n",
       "    </tr>\n",
       "    <tr>\n",
       "      <th>dataset</th>\n",
       "      <th></th>\n",
       "      <th></th>\n",
       "      <th></th>\n",
       "    </tr>\n",
       "  </thead>\n",
       "  <tbody>\n",
       "    <tr>\n",
       "      <th>D1</th>\n",
       "      <td>0.270542</td>\n",
       "      <td>0.055475</td>\n",
       "      <td>0.205916</td>\n",
       "    </tr>\n",
       "    <tr>\n",
       "      <th>D2</th>\n",
       "      <td>0.298712</td>\n",
       "      <td>0.190866</td>\n",
       "      <td>0.529742</td>\n",
       "    </tr>\n",
       "  </tbody>\n",
       "</table>\n",
       "</div>"
      ],
      "text/plain": [
       "               f1    pr_auc   roc_auc\n",
       "dataset                              \n",
       "D1       0.270542  0.055475  0.205916\n",
       "D2       0.298712  0.190866  0.529742"
      ]
     },
     "execution_count": 9,
     "metadata": {},
     "output_type": "execute_result"
    }
   ],
   "source": [
    "nasa_results = pd.DataFrame(total_scores)\n",
    "nasa_results.groupby('dataset').mean()"
   ]
  },
  {
   "cell_type": "markdown",
   "id": "41754734-5c75-4caf-9069-fb3b39c7a0da",
   "metadata": {},
   "source": [
    "### SMD"
   ]
  },
  {
   "cell_type": "code",
   "execution_count": 10,
   "id": "60a26807-8359-42d4-82b4-9e1d37b6acaa",
   "metadata": {},
   "outputs": [],
   "source": [
    "total_scores = {'dataset': [], 'f1': [], 'pr_auc': [], 'roc_auc': []}"
   ]
  },
  {
   "cell_type": "code",
   "execution_count": 11,
   "id": "41af318e-1b08-4cc9-a680-6b4a978544f2",
   "metadata": {},
   "outputs": [
    {
     "data": {
      "application/vnd.jupyter.widget-view+json": {
       "model_id": "797cc8bc082b42bd821fee4b0edd0227",
       "version_major": 2,
       "version_minor": 0
      },
      "text/plain": [
       "  0%|          | 0/28 [00:00<?, ?it/s]"
      ]
     },
     "metadata": {},
     "output_type": "display_data"
    },
    {
     "data": {
      "application/vnd.jupyter.widget-view+json": {
       "model_id": "5da39a377eaa4b38ab9990d792ece014",
       "version_major": 2,
       "version_minor": 0
      },
      "text/plain": [
       "  0%|          | 0/28 [00:00<?, ?it/s]"
      ]
     },
     "metadata": {},
     "output_type": "display_data"
    },
    {
     "name": "stdout",
     "output_type": "stream",
     "text": [
      "smd 0.23153690558205123 0.06546275382269463 0.49999999900806086\n",
      "smd 0.1424936253701881 0.0 0.011730205233258859\n",
      "smd 0.18378376568444288 0.09075988285121814 0.47930148029837544\n",
      "smd 0.2095237660226846 0.15294130455310678 0.5557853335620123\n",
      "smd 0.08823528509688669 0.029248531875446893 0.42340651277802754\n",
      "smd 0.4861406875073337 0.30040744259703983 0.5226071277427815\n",
      "smd 0.3040379788243149 0.1505521070381119 0.4480047505374323\n",
      "smd 0.24864861156465118 0.15083085963432236 0.5758023125783926\n",
      "smd 0.21359221382788363 0.10090537830700243 0.43771647202857\n",
      "smd 0.43609018948499356 0.1483420370642837 0.7307937167703097\n",
      "smd 0.12690354134994566 0.08636809236937637 0.4029927998668187\n",
      "smd 0.29953914490114675 0.19525366670407357 0.256056914279959\n",
      "smd 0.3577981294588032 0.21318835392937732 0.6747564121009431\n",
      "smd 0.08547007725180877 0.022321428454838966 0.4999999973831775\n",
      "smd 0.227390160607337 0.115308871948264 0.5383303553623384\n",
      "smd 0.026737965262089488 0.006775067613340092 0.4999999898626375\n",
      "smd 0.19028338351472884 0.052572706811504985 0.4999999988111702\n",
      "smd 0.05652173361342205 0.014541386909498574 0.4999999960386388\n",
      "smd 0.2670622908082332 0.003338774289087051 0.23825548465828622\n",
      "smd 0.03516483169472315 0.008948545747438804 0.49999999363610487\n",
      "smd 0.16873447578151593 0.0 0.0\n",
      "smd 0.28372090575338227 0.0 0.0\n",
      "smd 0.1596009827401584 0.028277003464119373 0.19954782963518264\n",
      "smd 0.13636362358815537 0.06083518420932611 0.39790577410474914\n",
      "smd 0.4411764194636735 0.3574243830246136 0.813406845398162\n",
      "smd 0.07741934736316405 0.02013422807155834 0.49999999710567206\n",
      "smd 0.233463012454392 0.10752217577363192 0.7004863360591307\n",
      "smd 0.05652173361342205 0.02332960457089407 0.4852150498925073\n"
     ]
    }
   ],
   "source": [
    "for loader in [load_smd]:\n",
    "    datasets = loader(128, 64)\n",
    "    x_trains, x_tests, y_tests = datasets['x_train'], datasets['x_test'], datasets['y_test']\n",
    "    \n",
    "    for i in tqdm(range(len(x_trains))):\n",
    "        X_train = x_trains[i]\n",
    "        X_test = x_tests[i]\n",
    "        \n",
    "        model = GRU_AE(X_train)\n",
    "        scores = evaluate(X_test, model.predict(X_test), y_tests[i], is_reconstructed=True)\n",
    "\n",
    "        total_scores['dataset'].append(loader.__name__.replace('load_', ''))\n",
    "        total_scores['f1'].append(np.max(scores['f1']))\n",
    "        total_scores['pr_auc'].append(scores['pr_auc'])\n",
    "        total_scores['roc_auc'].append(scores['roc_auc'])\n",
    "        print(loader.__name__.replace('load_', ''), np.max(scores['f1']), scores['pr_auc'], scores['roc_auc'])   "
   ]
  },
  {
   "cell_type": "code",
   "execution_count": 12,
   "id": "23474773-bac1-4145-ac75-c1a686bca5c6",
   "metadata": {},
   "outputs": [
    {
     "data": {
      "text/html": [
       "<div>\n",
       "<style scoped>\n",
       "    .dataframe tbody tr th:only-of-type {\n",
       "        vertical-align: middle;\n",
       "    }\n",
       "\n",
       "    .dataframe tbody tr th {\n",
       "        vertical-align: top;\n",
       "    }\n",
       "\n",
       "    .dataframe thead th {\n",
       "        text-align: right;\n",
       "    }\n",
       "</style>\n",
       "<table border=\"1\" class=\"dataframe\">\n",
       "  <thead>\n",
       "    <tr style=\"text-align: right;\">\n",
       "      <th></th>\n",
       "      <th>f1</th>\n",
       "      <th>pr_auc</th>\n",
       "      <th>roc_auc</th>\n",
       "    </tr>\n",
       "    <tr>\n",
       "      <th>dataset</th>\n",
       "      <th></th>\n",
       "      <th></th>\n",
       "      <th></th>\n",
       "    </tr>\n",
       "  </thead>\n",
       "  <tbody>\n",
       "    <tr>\n",
       "      <th>smd</th>\n",
       "      <td>0.206213</td>\n",
       "      <td>0.089485</td>\n",
       "      <td>0.442575</td>\n",
       "    </tr>\n",
       "  </tbody>\n",
       "</table>\n",
       "</div>"
      ],
      "text/plain": [
       "               f1    pr_auc   roc_auc\n",
       "dataset                              \n",
       "smd      0.206213  0.089485  0.442575"
      ]
     },
     "execution_count": 12,
     "metadata": {},
     "output_type": "execute_result"
    }
   ],
   "source": [
    "smd_results = pd.DataFrame(total_scores)\n",
    "smd_results.groupby('dataset').mean()"
   ]
  },
  {
   "cell_type": "markdown",
   "id": "ef82c29f-d012-4e70-8113-27f47a13be0a",
   "metadata": {},
   "source": [
    "### ECG"
   ]
  },
  {
   "cell_type": "code",
   "execution_count": 13,
   "id": "6602301b-d573-483a-881f-584bcf36d824",
   "metadata": {},
   "outputs": [],
   "source": [
    "total_scores = {'dataset': [], 'f1': [], 'pr_auc': [], 'roc_auc': []}"
   ]
  },
  {
   "cell_type": "code",
   "execution_count": 14,
   "id": "92c50920-f809-4413-953b-458115f9f680",
   "metadata": {},
   "outputs": [
    {
     "data": {
      "application/vnd.jupyter.widget-view+json": {
       "model_id": "2a3325eefee3482d90241f67248bce61",
       "version_major": 2,
       "version_minor": 0
      },
      "text/plain": [
       "  0%|          | 0/9 [00:00<?, ?it/s]"
      ]
     },
     "metadata": {},
     "output_type": "display_data"
    },
    {
     "data": {
      "application/vnd.jupyter.widget-view+json": {
       "model_id": "198b72516d3f44ab87d0ba05ed9ff648",
       "version_major": 2,
       "version_minor": 0
      },
      "text/plain": [
       "  0%|          | 0/9 [00:00<?, ?it/s]"
      ]
     },
     "metadata": {},
     "output_type": "display_data"
    },
    {
     "name": "stdout",
     "output_type": "stream",
     "text": [
      "D1 0.32786882397205264 0.21949724434983772 0.5318840513227964\n",
      "D2 0.3043477989603044 0.02316602278801385 0.03124999938151046\n",
      "D3 0.11009173251409898 0.0 0.0\n",
      "D4 0.2999999730000019 0.0 0.0\n",
      "D5 0.27450977916186264 0.08888880619771528 0.18918918584646421\n",
      "D6 0.36363631074380753 0.2242243328136513 0.6624423857622446\n",
      "D7 0.05079364581103594 0.0 0.0\n",
      "D8 0.21276593798098847 0.0 0.0\n",
      "D9 0.417910413455115 0.0 0.0\n"
     ]
    }
   ],
   "source": [
    "for loader in [load_ecg]:\n",
    "    datasets = loader(64, 32)\n",
    "    x_trains, x_tests, y_tests = datasets['x_train'], datasets['x_test'], datasets['y_test']\n",
    "    \n",
    "    for i in tqdm(range(len(x_trains))):\n",
    "        X_train = x_trains[i]\n",
    "        X_test = x_tests[i]\n",
    "        \n",
    "        model = GRU_AE(X_train)\n",
    "        scores = evaluate(X_test, model.predict(X_test), y_tests[i], is_reconstructed=True)\n",
    "\n",
    "        total_scores['dataset'].append(f'D{i+1}')\n",
    "        total_scores['f1'].append(np.max(scores['f1']))\n",
    "        total_scores['pr_auc'].append(scores['pr_auc'])\n",
    "        total_scores['roc_auc'].append(scores['roc_auc'])\n",
    "        print(f'D{i+1}', np.max(scores['f1']), scores['pr_auc'], scores['roc_auc'])  "
   ]
  },
  {
   "cell_type": "code",
   "execution_count": 15,
   "id": "8cad6cf5-72c7-4748-a9a7-4852d64b41e0",
   "metadata": {},
   "outputs": [
    {
     "data": {
      "text/html": [
       "<div>\n",
       "<style scoped>\n",
       "    .dataframe tbody tr th:only-of-type {\n",
       "        vertical-align: middle;\n",
       "    }\n",
       "\n",
       "    .dataframe tbody tr th {\n",
       "        vertical-align: top;\n",
       "    }\n",
       "\n",
       "    .dataframe thead th {\n",
       "        text-align: right;\n",
       "    }\n",
       "</style>\n",
       "<table border=\"1\" class=\"dataframe\">\n",
       "  <thead>\n",
       "    <tr style=\"text-align: right;\">\n",
       "      <th></th>\n",
       "      <th>f1</th>\n",
       "      <th>pr_auc</th>\n",
       "      <th>roc_auc</th>\n",
       "    </tr>\n",
       "    <tr>\n",
       "      <th>dataset</th>\n",
       "      <th></th>\n",
       "      <th></th>\n",
       "      <th></th>\n",
       "    </tr>\n",
       "  </thead>\n",
       "  <tbody>\n",
       "    <tr>\n",
       "      <th>D1</th>\n",
       "      <td>0.327869</td>\n",
       "      <td>0.219497</td>\n",
       "      <td>0.531884</td>\n",
       "    </tr>\n",
       "    <tr>\n",
       "      <th>D2</th>\n",
       "      <td>0.304348</td>\n",
       "      <td>0.023166</td>\n",
       "      <td>0.031250</td>\n",
       "    </tr>\n",
       "    <tr>\n",
       "      <th>D3</th>\n",
       "      <td>0.110092</td>\n",
       "      <td>0.000000</td>\n",
       "      <td>0.000000</td>\n",
       "    </tr>\n",
       "    <tr>\n",
       "      <th>D4</th>\n",
       "      <td>0.300000</td>\n",
       "      <td>0.000000</td>\n",
       "      <td>0.000000</td>\n",
       "    </tr>\n",
       "    <tr>\n",
       "      <th>D5</th>\n",
       "      <td>0.274510</td>\n",
       "      <td>0.088889</td>\n",
       "      <td>0.189189</td>\n",
       "    </tr>\n",
       "    <tr>\n",
       "      <th>D6</th>\n",
       "      <td>0.363636</td>\n",
       "      <td>0.224224</td>\n",
       "      <td>0.662442</td>\n",
       "    </tr>\n",
       "    <tr>\n",
       "      <th>D7</th>\n",
       "      <td>0.050794</td>\n",
       "      <td>0.000000</td>\n",
       "      <td>0.000000</td>\n",
       "    </tr>\n",
       "    <tr>\n",
       "      <th>D8</th>\n",
       "      <td>0.212766</td>\n",
       "      <td>0.000000</td>\n",
       "      <td>0.000000</td>\n",
       "    </tr>\n",
       "    <tr>\n",
       "      <th>D9</th>\n",
       "      <td>0.417910</td>\n",
       "      <td>0.000000</td>\n",
       "      <td>0.000000</td>\n",
       "    </tr>\n",
       "  </tbody>\n",
       "</table>\n",
       "</div>"
      ],
      "text/plain": [
       "               f1    pr_auc   roc_auc\n",
       "dataset                              \n",
       "D1       0.327869  0.219497  0.531884\n",
       "D2       0.304348  0.023166  0.031250\n",
       "D3       0.110092  0.000000  0.000000\n",
       "D4       0.300000  0.000000  0.000000\n",
       "D5       0.274510  0.088889  0.189189\n",
       "D6       0.363636  0.224224  0.662442\n",
       "D7       0.050794  0.000000  0.000000\n",
       "D8       0.212766  0.000000  0.000000\n",
       "D9       0.417910  0.000000  0.000000"
      ]
     },
     "execution_count": 15,
     "metadata": {},
     "output_type": "execute_result"
    }
   ],
   "source": [
    "ecg_results = pd.DataFrame(total_scores)\n",
    "ecg_results.groupby('dataset').mean()"
   ]
  },
  {
   "cell_type": "markdown",
   "id": "6c463f3e-5639-4118-a303-b05bec17c751",
   "metadata": {},
   "source": [
    "### Power Demand"
   ]
  },
  {
   "cell_type": "code",
   "execution_count": 16,
   "id": "436fa532-5c72-4132-ba39-5e5bd2264ad9",
   "metadata": {},
   "outputs": [],
   "source": [
    "total_scores = {'dataset': [], 'f1': [], 'pr_auc': [], 'roc_auc': []}"
   ]
  },
  {
   "cell_type": "code",
   "execution_count": 17,
   "id": "d4e5eba9-0930-4901-a368-fc7e0d3d0e24",
   "metadata": {},
   "outputs": [
    {
     "data": {
      "application/vnd.jupyter.widget-view+json": {
       "model_id": "5ad8605c5bdc4455a29a97656f0a93b3",
       "version_major": 2,
       "version_minor": 0
      },
      "text/plain": [
       "  0%|          | 0/1 [00:00<?, ?it/s]"
      ]
     },
     "metadata": {},
     "output_type": "display_data"
    },
    {
     "name": "stdout",
     "output_type": "stream",
     "text": [
      "power_demand 0.7499999343750033 0.1666666744444422 -0.0\n"
     ]
    }
   ],
   "source": [
    "for loader in [load_power_demand]:\n",
    "    datasets = loader(512, 256)\n",
    "    x_trains, x_tests, y_tests = datasets['x_train'], datasets['x_test'], datasets['y_test']\n",
    "    \n",
    "    for i in tqdm(range(len(x_trains))):\n",
    "        X_train = x_trains[i]\n",
    "        X_test = x_tests[i]\n",
    "        \n",
    "        model = GRU_AE(X_train)\n",
    "        scores = evaluate(X_test, model.predict(X_test), y_tests[i], is_reconstructed=True)\n",
    "\n",
    "        total_scores['dataset'].append(loader.__name__.replace('load_', ''))\n",
    "        total_scores['f1'].append(np.max(scores['f1']))\n",
    "        total_scores['pr_auc'].append(scores['pr_auc'])\n",
    "        total_scores['roc_auc'].append(scores['roc_auc'])\n",
    "        print(loader.__name__.replace('load_', ''), np.max(scores['f1']), scores['pr_auc'], scores['roc_auc']) "
   ]
  },
  {
   "cell_type": "code",
   "execution_count": 18,
   "id": "49a6ff34-8c3d-4b36-8510-93a668d4fa67",
   "metadata": {},
   "outputs": [
    {
     "data": {
      "text/html": [
       "<div>\n",
       "<style scoped>\n",
       "    .dataframe tbody tr th:only-of-type {\n",
       "        vertical-align: middle;\n",
       "    }\n",
       "\n",
       "    .dataframe tbody tr th {\n",
       "        vertical-align: top;\n",
       "    }\n",
       "\n",
       "    .dataframe thead th {\n",
       "        text-align: right;\n",
       "    }\n",
       "</style>\n",
       "<table border=\"1\" class=\"dataframe\">\n",
       "  <thead>\n",
       "    <tr style=\"text-align: right;\">\n",
       "      <th></th>\n",
       "      <th>f1</th>\n",
       "      <th>pr_auc</th>\n",
       "      <th>roc_auc</th>\n",
       "    </tr>\n",
       "    <tr>\n",
       "      <th>dataset</th>\n",
       "      <th></th>\n",
       "      <th></th>\n",
       "      <th></th>\n",
       "    </tr>\n",
       "  </thead>\n",
       "  <tbody>\n",
       "    <tr>\n",
       "      <th>power_demand</th>\n",
       "      <td>0.75</td>\n",
       "      <td>0.166667</td>\n",
       "      <td>0.0</td>\n",
       "    </tr>\n",
       "  </tbody>\n",
       "</table>\n",
       "</div>"
      ],
      "text/plain": [
       "                f1    pr_auc  roc_auc\n",
       "dataset                              \n",
       "power_demand  0.75  0.166667      0.0"
      ]
     },
     "execution_count": 18,
     "metadata": {},
     "output_type": "execute_result"
    }
   ],
   "source": [
    "power_results = pd.DataFrame(total_scores)\n",
    "power_results.groupby('dataset').mean()"
   ]
  },
  {
   "cell_type": "markdown",
   "id": "693b8c0f-ca11-4832-92f3-4e844badc78a",
   "metadata": {},
   "source": [
    "### 2D Gesture"
   ]
  },
  {
   "cell_type": "code",
   "execution_count": 19,
   "id": "f1c90eef-8e67-4021-ba00-00864e2b147d",
   "metadata": {},
   "outputs": [],
   "source": [
    "total_scores = {'dataset': [], 'f1': [], 'pr_auc': [], 'roc_auc': []}"
   ]
  },
  {
   "cell_type": "code",
   "execution_count": 20,
   "id": "aa004936-6dfa-4898-9704-66d9fdd593ab",
   "metadata": {},
   "outputs": [
    {
     "data": {
      "application/vnd.jupyter.widget-view+json": {
       "model_id": "ecafd0aeccab42e4a57a27e683c31303",
       "version_major": 2,
       "version_minor": 0
      },
      "text/plain": [
       "  0%|          | 0/1 [00:00<?, ?it/s]"
      ]
     },
     "metadata": {},
     "output_type": "display_data"
    },
    {
     "name": "stdout",
     "output_type": "stream",
     "text": [
      "gesture 0.42201831455264965 0.0 0.0\n"
     ]
    }
   ],
   "source": [
    "for loader in [load_gesture]:\n",
    "    datasets = loader(64, 32)\n",
    "    x_trains, x_tests, y_tests = datasets['x_train'], datasets['x_test'], datasets['y_test']\n",
    "    \n",
    "    for i in tqdm(range(len(x_trains))):\n",
    "        X_train = x_trains[i]\n",
    "        X_test = x_tests[i]\n",
    "\n",
    "        model = GRU_AE(X_train)\n",
    "        scores = evaluate(X_test, model.predict(X_test), y_tests[i], is_reconstructed=True)\n",
    "\n",
    "        total_scores['dataset'].append(loader.__name__.replace('load_', ''))\n",
    "        total_scores['f1'].append(np.max(scores['f1']))\n",
    "        total_scores['pr_auc'].append(scores['pr_auc'])\n",
    "        total_scores['roc_auc'].append(scores['roc_auc'])\n",
    "        print(loader.__name__.replace('load_', ''), np.max(scores['f1']), scores['pr_auc'], scores['roc_auc'])  "
   ]
  },
  {
   "cell_type": "code",
   "execution_count": 21,
   "id": "1228fa87-0591-47f4-b4de-e871546b3ad1",
   "metadata": {},
   "outputs": [
    {
     "data": {
      "text/html": [
       "<div>\n",
       "<style scoped>\n",
       "    .dataframe tbody tr th:only-of-type {\n",
       "        vertical-align: middle;\n",
       "    }\n",
       "\n",
       "    .dataframe tbody tr th {\n",
       "        vertical-align: top;\n",
       "    }\n",
       "\n",
       "    .dataframe thead th {\n",
       "        text-align: right;\n",
       "    }\n",
       "</style>\n",
       "<table border=\"1\" class=\"dataframe\">\n",
       "  <thead>\n",
       "    <tr style=\"text-align: right;\">\n",
       "      <th></th>\n",
       "      <th>f1</th>\n",
       "      <th>pr_auc</th>\n",
       "      <th>roc_auc</th>\n",
       "    </tr>\n",
       "    <tr>\n",
       "      <th>dataset</th>\n",
       "      <th></th>\n",
       "      <th></th>\n",
       "      <th></th>\n",
       "    </tr>\n",
       "  </thead>\n",
       "  <tbody>\n",
       "    <tr>\n",
       "      <th>gesture</th>\n",
       "      <td>0.422018</td>\n",
       "      <td>0.0</td>\n",
       "      <td>0.0</td>\n",
       "    </tr>\n",
       "  </tbody>\n",
       "</table>\n",
       "</div>"
      ],
      "text/plain": [
       "               f1  pr_auc  roc_auc\n",
       "dataset                           \n",
       "gesture  0.422018     0.0      0.0"
      ]
     },
     "execution_count": 21,
     "metadata": {},
     "output_type": "execute_result"
    }
   ],
   "source": [
    "gesture_results = pd.DataFrame(total_scores)\n",
    "gesture_results.groupby('dataset').mean()"
   ]
  }
 ],
 "metadata": {
  "kernelspec": {
   "display_name": "Python 3",
   "language": "python",
   "name": "python3"
  },
  "language_info": {
   "codemirror_mode": {
    "name": "ipython",
    "version": 3
   },
   "file_extension": ".py",
   "mimetype": "text/x-python",
   "name": "python",
   "nbconvert_exporter": "python",
   "pygments_lexer": "ipython3",
   "version": "3.9.4"
  }
 },
 "nbformat": 4,
 "nbformat_minor": 5
}
