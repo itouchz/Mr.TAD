{
 "cells": [
  {
   "cell_type": "code",
   "execution_count": 1,
   "id": "a80a379b-932c-4401-8d76-b5ae5dedc6cc",
   "metadata": {},
   "outputs": [],
   "source": [
    "import os\n",
    "\n",
    "os.environ[\"CUDA_DEVICE_ORDER\"] = \"PCI_BUS_ID\";\n",
    "os.environ[\"CUDA_VISIBLE_DEVICES\"] = \"1\"\n",
    "os.environ[\"TF_FORCE_GPU_ALLOW_GROWTH\"] = \"true\""
   ]
  },
  {
   "cell_type": "code",
   "execution_count": 2,
   "id": "saving-behavior",
   "metadata": {},
   "outputs": [],
   "source": [
    "import numpy as np\n",
    "import pandas as pd\n",
    "import tensorflow as tf\n",
    "\n",
    "from save_submission import save\n",
    "from evaluator import evaluate\n",
    "from data_loader import load_kdd_cup_urc, load_yahoo_A1, load_yahoo_A2, load_yahoo_A3, load_yahoo_A4, load_power_demand # Univariate Datasets\n",
    "from data_loader import load_nasa, load_ecg, load_gesture, load_smd # Multivariate Datasets\n",
    "\n",
    "from tensorflow import keras\n",
    "from tensorflow.keras import layers\n",
    "from tqdm.notebook import tqdm\n",
    "\n",
    "from matplotlib import pyplot as plt"
   ]
  },
  {
   "cell_type": "code",
   "execution_count": 3,
   "id": "eight-partition",
   "metadata": {},
   "outputs": [
    {
     "data": {
      "application/vnd.jupyter.widget-view+json": {
       "model_id": "b837e3a0651d412c8efa3ce0dcb5b8c5",
       "version_major": 2,
       "version_minor": 0
      },
      "text/plain": [
       "  0%|          | 0/67 [00:00<?, ?it/s]"
      ]
     },
     "metadata": {},
     "output_type": "display_data"
    }
   ],
   "source": [
    "datasets = load_yahoo_A1(128)"
   ]
  },
  {
   "cell_type": "code",
   "execution_count": 4,
   "id": "71866d92-1163-4975-bb99-4302ccda66c3",
   "metadata": {},
   "outputs": [],
   "source": [
    "x_train, x_test, y_test = datasets['x_train'], datasets['x_test'], datasets['y_test']"
   ]
  },
  {
   "cell_type": "code",
   "execution_count": 5,
   "id": "e458e993-ea9e-406e-8bd9-645ddfa3e567",
   "metadata": {},
   "outputs": [],
   "source": [
    "total_scores = {'f1': [], 'pr_auc': [], 'roc_auc': []}"
   ]
  },
  {
   "cell_type": "code",
   "execution_count": null,
   "id": "joint-palmer",
   "metadata": {
    "tags": []
   },
   "outputs": [
    {
     "data": {
      "application/vnd.jupyter.widget-view+json": {
       "model_id": "c186939f9ae4403896cc71b6c345e116",
       "version_major": 2,
       "version_minor": 0
      },
      "text/plain": [
       "  0%|          | 0/67 [00:00<?, ?it/s]"
      ]
     },
     "metadata": {},
     "output_type": "display_data"
    },
    {
     "data": {
      "application/vnd.jupyter.widget-view+json": {
       "model_id": "fdd8636e085d4eedb2d8f936c80df3a5",
       "version_major": 2,
       "version_minor": 0
      },
      "text/plain": [
       "  0%|          | 0/1000 [00:00<?, ?it/s]"
      ]
     },
     "metadata": {},
     "output_type": "display_data"
    },
    {
     "name": "stdout",
     "output_type": "stream",
     "text": [
      "Best F1 0.6074765929338837 PR-AUC: 0.11292811635243033 ROC-AUC: 0.6490726849153547\n"
     ]
    },
    {
     "data": {
      "application/vnd.jupyter.widget-view+json": {
       "model_id": "9fde548dcb884305944f2d1065172559",
       "version_major": 2,
       "version_minor": 0
      },
      "text/plain": [
       "  0%|          | 0/1000 [00:00<?, ?it/s]"
      ]
     },
     "metadata": {},
     "output_type": "display_data"
    },
    {
     "name": "stdout",
     "output_type": "stream",
     "text": [
      "Best F1 0.9999999416666693 PR-AUC: 0.9583332995911376 ROC-AUC: 0.999999991323024\n"
     ]
    },
    {
     "data": {
      "application/vnd.jupyter.widget-view+json": {
       "model_id": "c47b24c97e1b4a1fae1847651209b661",
       "version_major": 2,
       "version_minor": 0
      },
      "text/plain": [
       "  0%|          | 0/1000 [00:00<?, ?it/s]"
      ]
     },
     "metadata": {},
     "output_type": "display_data"
    },
    {
     "name": "stdout",
     "output_type": "stream",
     "text": [
      "Best F1 0.9499999453750025 PR-AUC: 0.5952380887672342 ROC-AUC: 0.9992481151390736\n"
     ]
    },
    {
     "data": {
      "application/vnd.jupyter.widget-view+json": {
       "model_id": "d209e6453f6c4968b927616a19334193",
       "version_major": 2,
       "version_minor": 0
      },
      "text/plain": [
       "  0%|          | 0/1000 [00:00<?, ?it/s]"
      ]
     },
     "metadata": {},
     "output_type": "display_data"
    },
    {
     "name": "stdout",
     "output_type": "stream",
     "text": [
      "Best F1 0.999999930000003 PR-AUC: 0.7499999441666713 ROC-AUC: 0.9999999796644299\n"
     ]
    },
    {
     "data": {
      "application/vnd.jupyter.widget-view+json": {
       "model_id": "6e834a5bec5e448d86ae46f28ffeee99",
       "version_major": 2,
       "version_minor": 0
      },
      "text/plain": [
       "  0%|          | 0/1000 [00:00<?, ?it/s]"
      ]
     },
     "metadata": {},
     "output_type": "display_data"
    },
    {
     "name": "stdout",
     "output_type": "stream",
     "text": [
      "Best F1 0.04516128587929277 PR-AUC: 0.0021276601423792165 ROC-AUC: 0.21452701922651163\n"
     ]
    }
   ],
   "source": [
    "for i in tqdm(range(len(x_train))):\n",
    "    train_df = x_train[i]\n",
    "    test_df = x_test[i]\n",
    "    \n",
    "    Bi = layers.Bidirectional\n",
    "    LSTM = layers.LSTM\n",
    "    model = keras.Sequential(\n",
    "        [\n",
    "            layers.InputLayer(input_shape=(train_df.shape[1], train_df.shape[2])),\n",
    "            Bi(LSTM(64, return_sequences=True)),\n",
    "            layers.Dropout(rate=0.2),\n",
    "            Bi(LSTM(32)),\n",
    "            layers.RepeatVector(train_df.shape[1]),\n",
    "            Bi(LSTM(32, return_sequences=True)),\n",
    "            layers.Dropout(rate=0.2),\n",
    "            Bi(LSTM(64)),\n",
    "            layers.Dense(train_df.shape[1]),\n",
    "            layers.Reshape([train_df.shape[1], train_df.shape[2]])\n",
    "        ]\n",
    "    )\n",
    "    \n",
    "    model.compile(optimizer=keras.optimizers.Adam(learning_rate=0.001), loss=\"mse\")\n",
    "    history = model.fit(train_df, train_df, epochs=50, batch_size=128, validation_split=0.3, verbose=0,\n",
    "                        callbacks=[keras.callbacks.EarlyStopping(monitor=\"val_loss\", patience=5, mode=\"min\", restore_best_weights=True)])    \n",
    "    \n",
    "    \n",
    "    scores = evaluate(test_df, model.predict(test_df), y_test[i], is_reconstructed=True)\n",
    "    \n",
    "    total_scores['f1'].append(np.max(scores['f1']))\n",
    "    total_scores['pr_auc'].append(scores['pr_auc'])\n",
    "    total_scores['roc_auc'].append(scores['roc_auc'])\n",
    "    print(f\"Best F1 {np.max(scores['f1'])} PR-AUC: {scores['pr_auc']} ROC-AUC: {scores['roc_auc']}\")"
   ]
  },
  {
   "cell_type": "code",
   "execution_count": null,
   "id": "bd9e37fd-124c-4f5c-8f1f-a9d61a4b0315",
   "metadata": {},
   "outputs": [],
   "source": [
    "'F1', np.mean(total_scores['f1']), 'PR-AUC', np.mean(total_scores['pr_auc']), 'ROC-AUC', np.mean(total_scores['roc_auc'])"
   ]
  },
  {
   "cell_type": "code",
   "execution_count": null,
   "id": "dd0ffd29-f548-4ff5-bced-b8ea85ef0697",
   "metadata": {},
   "outputs": [],
   "source": []
  },
  {
   "cell_type": "code",
   "execution_count": null,
   "id": "bf8b8b4c-5f72-4d96-a50b-5cdb24973bab",
   "metadata": {},
   "outputs": [],
   "source": []
  }
 ],
 "metadata": {
  "kernelspec": {
   "display_name": "Python 3",
   "language": "python",
   "name": "python3"
  },
  "language_info": {
   "codemirror_mode": {
    "name": "ipython",
    "version": 3
   },
   "file_extension": ".py",
   "mimetype": "text/x-python",
   "name": "python",
   "nbconvert_exporter": "python",
   "pygments_lexer": "ipython3",
   "version": "3.7.10"
  }
 },
 "nbformat": 4,
 "nbformat_minor": 5
}
