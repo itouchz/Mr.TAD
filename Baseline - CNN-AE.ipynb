{
 "cells": [
  {
   "cell_type": "code",
   "execution_count": 1,
   "id": "a80a379b-932c-4401-8d76-b5ae5dedc6cc",
   "metadata": {},
   "outputs": [],
   "source": [
    "import os\n",
    "import random\n",
    "\n",
    "os.environ[\"CUDA_DEVICE_ORDER\"] = \"PCI_BUS_ID\";\n",
    "os.environ[\"CUDA_VISIBLE_DEVICES\"] = \"1\"\n",
    "os.environ[\"TF_FORCE_GPU_ALLOW_GROWTH\"] = \"true\""
   ]
  },
  {
   "cell_type": "code",
   "execution_count": 2,
   "id": "saving-behavior",
   "metadata": {},
   "outputs": [],
   "source": [
    "import numpy as np\n",
    "import pandas as pd\n",
    "import tensorflow as tf\n",
    "\n",
    "from evaluator import evaluate\n",
    "from data_loader import load_kdd_cup_urc, load_yahoo_A1, load_yahoo_A2, load_yahoo_A3, load_yahoo_A4, load_power_demand # Univariate Datasets\n",
    "from data_loader import load_nasa, load_ecg, load_gesture, load_smd # Multivariate Datasets\n",
    "\n",
    "from tensorflow import keras\n",
    "from tensorflow.keras import layers\n",
    "from tqdm.notebook import tqdm\n",
    "\n",
    "# THESE LINES ARE FOR REPRODUCIBILITY\n",
    "random.seed(0)\n",
    "np.random.seed(0)\n",
    "tf.random.set_seed(0)"
   ]
  },
  {
   "cell_type": "code",
   "execution_count": 3,
   "id": "df48f9cd-3d69-4496-9823-0a66187dabc9",
   "metadata": {},
   "outputs": [],
   "source": [
    "def CNN_AE(X_train):\n",
    "    Conv1D = layers.Conv1D\n",
    "    Conv1DT = layers.Conv1DTranspose\n",
    "    Dropout = layers.Dropout\n",
    "\n",
    "    model = keras.Sequential(\n",
    "        [\n",
    "            layers.InputLayer(input_shape=(X_train.shape[1], X_train.shape[2])),\n",
    "            Conv1D(32, 7, padding='same', strides=2, activation='relu'),\n",
    "            Dropout(0.2),\n",
    "            Conv1D(16, 7, padding='same', strides=2, activation='relu'),\n",
    "            Conv1DT(16, 7, padding='same', strides=2, activation='relu'),\n",
    "            Dropout(0.2),\n",
    "            Conv1DT(32, 7, padding='same', strides=2, activation='relu'),\n",
    "            Conv1DT(1, 7, padding='same')\n",
    "        ]\n",
    "    )\n",
    "    model.compile(optimizer=keras.optimizers.Adam(learning_rate=0.001), loss=\"mse\")\n",
    "    model.fit(X_train, X_train, epochs=50, batch_size=128, validation_split=0.3, verbose=0, callbacks=[keras.callbacks.EarlyStopping(monitor=\"val_loss\", patience=5, mode=\"min\", restore_best_weights=True)])    \n",
    "    return model"
   ]
  },
  {
   "cell_type": "markdown",
   "id": "fa97c067-d18d-4c06-ae1b-2cbfe88788b6",
   "metadata": {},
   "source": [
    "### Yahoo S5"
   ]
  },
  {
   "cell_type": "code",
   "execution_count": 4,
   "id": "eight-partition",
   "metadata": {},
   "outputs": [],
   "source": [
    "total_scores = {'dataset': [], 'f1': [], 'pr_auc': [], 'roc_auc': []}"
   ]
  },
  {
   "cell_type": "code",
   "execution_count": 5,
   "id": "71866d92-1163-4975-bb99-4302ccda66c3",
   "metadata": {
    "scrolled": true,
    "tags": []
   },
   "outputs": [
    {
     "data": {
      "application/vnd.jupyter.widget-view+json": {
       "model_id": "f25ae186ba5a45e4becf1a6d300a180a",
       "version_major": 2,
       "version_minor": 0
      },
      "text/plain": [
       "  0%|          | 0/67 [00:00<?, ?it/s]"
      ]
     },
     "metadata": {},
     "output_type": "display_data"
    },
    {
     "data": {
      "application/vnd.jupyter.widget-view+json": {
       "model_id": "a5f2560b596b471f8223c3a285237709",
       "version_major": 2,
       "version_minor": 0
      },
      "text/plain": [
       "  0%|          | 0/56 [00:00<?, ?it/s]"
      ]
     },
     "metadata": {},
     "output_type": "display_data"
    },
    {
     "name": "stdout",
     "output_type": "stream",
     "text": [
      "yahoo_A1 0.9999999000000052 0.4999999500000039 0.9999999166666722\n",
      "yahoo_A1 0.0 0.0 0.0\n",
      "yahoo_A1 0.0 0.0 0.0\n",
      "yahoo_A1 0.0 0.0 0.0\n",
      "WARNING:tensorflow:5 out of the last 5 calls to <function Model.make_predict_function.<locals>.predict_function at 0x7f42e7ab95e0> triggered tf.function retracing. Tracing is expensive and the excessive number of tracings could be due to (1) creating @tf.function repeatedly in a loop, (2) passing tensors with different shapes, (3) passing Python objects instead of tensors. For (1), please define your @tf.function outside of the loop. For (2), @tf.function has experimental_relax_shapes=True option that relaxes argument shapes that can avoid unnecessary retracing. For (3), please refer to https://www.tensorflow.org/guide/function#controlling_retracing and https://www.tensorflow.org/api_docs/python/tf/function for  more details.\n",
      "yahoo_A1 0.0 0.0 0.0\n",
      "WARNING:tensorflow:6 out of the last 6 calls to <function Model.make_predict_function.<locals>.predict_function at 0x7f42e7a588b0> triggered tf.function retracing. Tracing is expensive and the excessive number of tracings could be due to (1) creating @tf.function repeatedly in a loop, (2) passing tensors with different shapes, (3) passing Python objects instead of tensors. For (1), please define your @tf.function outside of the loop. For (2), @tf.function has experimental_relax_shapes=True option that relaxes argument shapes that can avoid unnecessary retracing. For (3), please refer to https://www.tensorflow.org/guide/function#controlling_retracing and https://www.tensorflow.org/api_docs/python/tf/function for  more details.\n",
      "yahoo_A1 0.0 0.0 0.0\n",
      "yahoo_A1 0.9999998500000123 0.49999990000001493 0.9999998750000131\n",
      "yahoo_A1 0.9999999000000052 0.7499999000000107 0.9999999166666721\n",
      "yahoo_A1 0.9999999000000052 0.0 0.9999999166666722\n",
      "yahoo_A1 0.9999998500000123 0.49999990000001493 0.9999998750000131\n",
      "yahoo_A1 0.9999999250000032 0.7499999500000026 0.9999998750000131\n",
      "yahoo_A1 0.9999999000000052 0.4999999500000039 0.9999999166666721\n",
      "yahoo_A1 0.9999998500000123 0.49999990000001493 0.9999998750000131\n",
      "yahoo_A1 0.0 0.0 0.0\n",
      "yahoo_A1 0.33333329444444565 0.0 0.0\n",
      "yahoo_A1 0.0 0.0 -0.0\n",
      "yahoo_A1 0.7499999343750033 0.16666667555555306 0.0\n",
      "yahoo_A1 0.7499999343750033 0.16666667444444216 -0.0\n",
      "yahoo_A1 0.7499999343750033 0.38888886518518634 0.3333333055555574\n",
      "yahoo_A1 0.7499999343750033 0.0 0.0\n",
      "yahoo_A1 0.0 0.0 0.0\n",
      "yahoo_A1 0.0 0.0 0.0\n",
      "yahoo_A1 0.9999999166666703 0.6666666111111148 0.9999999166666721\n",
      "yahoo_A1 0.9999999166666703 0.7499999166666752 0.9999999166666721\n",
      "yahoo_A1 0.0 0.0 0.0\n",
      "yahoo_A1 0.8888888197530895 0.0 0.0\n",
      "yahoo_A1 0.5714285142857172 0.0 0.0\n",
      "yahoo_A1 0.7499999343750033 0.0 0.0\n",
      "yahoo_A1 0.7499999343750033 0.0 0.0\n",
      "yahoo_A1 0.0 0.0 -0.0\n",
      "yahoo_A1 0.999999930000003 2.999999665825225e-08 0.0\n",
      "yahoo_A1 0.9999999000000052 0.49999995000000386 0.9999999166666722\n",
      "yahoo_A1 0.9999998500000123 0.49999990000001493 0.9999998750000131\n",
      "yahoo_A1 0.6666666000000033 0.0 0.33333330555555735\n",
      "yahoo_A1 0.9999999000000052 0.7499999000000107 0.9999999166666722\n",
      "yahoo_A1 0.7499999343750033 2.9999995335440736e-08 0.0\n",
      "yahoo_A1 0.7499999343750033 0.1666666744444422 0.0\n",
      "yahoo_A1 0.0 0.0 0.0\n",
      "yahoo_A1 0.7499999343750033 9.166665633334498e-09 0.0\n",
      "yahoo_A1 0.7499999343750033 9.166665633334498e-09 0.0\n",
      "yahoo_A1 0.33333329444444565 0.0 0.0\n",
      "yahoo_A1 0.8888888197530895 0.0 0.0\n",
      "yahoo_A1 0.8888888197530895 1.8263886922697167e-08 0.0\n",
      "yahoo_A1 0.7499999343750033 0.16666667555555306 -0.0\n",
      "yahoo_A1 0.0 0.0 0.0\n",
      "yahoo_A1 0.0 0.0 0.0\n",
      "yahoo_A1 0.9999999000000052 0.7499999000000107 0.9999999166666721\n",
      "yahoo_A1 0.0 0.0 0.0\n",
      "yahoo_A1 0.0 0.0 0.0\n",
      "yahoo_A1 0.0 0.0 0.0\n",
      "yahoo_A1 0.9999999000000052 0.4999999500000039 0.9999999166666722\n",
      "yahoo_A1 0.9999999000000052 0.7499999000000107 0.9999999166666721\n",
      "yahoo_A1 0.0 0.0 0.0\n",
      "yahoo_A1 0.9999998500000123 0.49999990000001493 0.9999998750000131\n",
      "yahoo_A1 0.9999999000000052 0.4999999500000039 0.9999999166666721\n",
      "yahoo_A1 0.5714285142857172 0.0 0.0\n"
     ]
    },
    {
     "data": {
      "application/vnd.jupyter.widget-view+json": {
       "model_id": "d8da163ba7f6456db36f1d004aefe61c",
       "version_major": 2,
       "version_minor": 0
      },
      "text/plain": [
       "  0%|          | 0/100 [00:00<?, ?it/s]"
      ]
     },
     "metadata": {},
     "output_type": "display_data"
    },
    {
     "data": {
      "application/vnd.jupyter.widget-view+json": {
       "model_id": "dfd50fe7f7044d478f41758bd4cb5f03",
       "version_major": 2,
       "version_minor": 0
      },
      "text/plain": [
       "  0%|          | 0/100 [00:00<?, ?it/s]"
      ]
     },
     "metadata": {},
     "output_type": "display_data"
    },
    {
     "name": "stdout",
     "output_type": "stream",
     "text": [
      "yahoo_A2 0.46153841893491365 0.11111110867283944 0.0\n",
      "yahoo_A2 0.46153841893491365 0.06250000713541536 0.0\n",
      "yahoo_A2 0.46153841893491365 0.15740740094393024 0.09523809070294799\n",
      "yahoo_A2 0.4285713887755125 0.09999999793939388 -0.0\n",
      "yahoo_A2 0.24999997187500062 0.07142856326530694 0.0\n",
      "yahoo_A2 0.46153841893491365 0.11111110867283944 -0.0\n",
      "yahoo_A2 0.46153841893491365 0.10267857121958815 0.21874998528645928\n",
      "yahoo_A2 0.24999997187500062 0.07142856326530694 0.0\n",
      "yahoo_A2 0.46153841893491365 0.11111110867283944 -0.0\n",
      "yahoo_A2 0.4285713887755125 1.1717170107356334e-08 0.0\n",
      "yahoo_A2 0.24999997187500062 0.07142856326530694 -0.0\n",
      "yahoo_A2 0.46153841893491365 0.06250000600115631 0.0\n",
      "yahoo_A2 0.4285713887755125 0.055555562177327655 -0.0\n",
      "yahoo_A2 0.4285713887755125 0.10714285482941653 0.24999997187500275\n",
      "yahoo_A2 0.24999997187500062 0.07142856326530694 -0.0\n",
      "yahoo_A2 0.46153841893491365 0.11111110867283944 0.0\n",
      "yahoo_A2 0.49999995416666926 0.07142857913832053 0.24999998854166702\n",
      "yahoo_A2 0.24999997187500062 0.07142856326530694 0.0\n",
      "yahoo_A2 0.46153841893491365 0.11111110867283944 -0.0\n",
      "yahoo_A2 0.4285713887755125 0.05555556109988678 -0.0\n",
      "yahoo_A2 0.24999997187500062 0.07142856326530694 -0.0\n",
      "yahoo_A2 0.46153841893491365 0.16203703007844675 0.1190476121882089\n",
      "yahoo_A2 0.4285713887755125 0.09999999793939388 -0.0\n",
      "yahoo_A2 0.24999997187500062 0.07142856326530694 0.0\n",
      "yahoo_A2 0.24999997187500062 0.07142856326530694 -0.0\n",
      "yahoo_A2 0.46153841893491365 0.11111110867283944 -0.0\n",
      "yahoo_A2 0.4285713887755125 0.05555556109988678 0.06249999296875069\n",
      "yahoo_A2 0.24999997187500062 0.07142856326530694 -0.0\n",
      "yahoo_A2 0.46153841893491365 0.11111110867283944 -0.0\n",
      "yahoo_A2 0.5714285061224537 0.2499999871527783 0.5833333065972233\n",
      "yahoo_A2 0.24999997187500062 0.07142856326530694 0.0\n",
      "yahoo_A2 0.46153841893491365 0.15740740094393024 0.09523809070294799\n",
      "yahoo_A2 0.4285713887755125 1.1717170107356334e-08 0.0\n",
      "yahoo_A2 0.24999997187500062 0.07142856326530694 -0.0\n",
      "yahoo_A2 0.46153841893491365 0.11111110867283944 0.0\n",
      "yahoo_A2 0.46153841893491365 0.06250000600115631 -0.0\n",
      "yahoo_A2 0.5454544958677713 0.38888884644511024 0.833333270138894\n",
      "yahoo_A2 0.24999997187500062 0.07142856326530694 -0.0\n",
      "yahoo_A2 0.46153841893491365 0.11111110867283944 -0.0\n",
      "yahoo_A2 0.4285713887755125 0.13511904315545126 0.16666665902777802\n",
      "yahoo_A2 0.24999997187500062 0.07142856326530694 -0.0\n",
      "yahoo_A2 0.46153841893491365 0.1481481422119343 -0.0\n",
      "yahoo_A2 0.4285713887755125 0.12037036655256272 -0.0\n",
      "yahoo_A2 0.24999997187500062 0.07142856326530694 -0.0\n",
      "yahoo_A2 0.5714285061224537 0.24537035750900257 0.499999975000001\n",
      "yahoo_A2 0.4285713887755125 0.05555556109988678 -0.0\n",
      "yahoo_A2 0.4285713887755125 0.05555556109988678 -0.0\n",
      "yahoo_A2 0.24999997187500062 0.07142856326530694 -0.0\n",
      "yahoo_A2 0.46153841893491365 0.11111110867283944 -0.0\n",
      "yahoo_A2 0.49999995416666926 0.19246030854631238 0.3333333180555561\n",
      "yahoo_A2 0.24999997187500062 0.07142856326530694 0.0\n",
      "yahoo_A2 0.46153841893491365 0.16203703007844675 0.16666665753968293\n",
      "yahoo_A2 0.49999995416666926 0.16666665972222244 0.24999998854166702\n",
      "yahoo_A2 0.24999997187500062 0.07142856326530694 -0.0\n",
      "yahoo_A2 0.46153841893491365 0.15740740094393024 0.09523809070294799\n",
      "yahoo_A2 0.46153841893491365 0.138492060291383 0.3854166359809053\n",
      "yahoo_A2 0.24999997187500062 0.07142856326530694 0.0\n",
      "yahoo_A2 0.24999997187500062 0.07142856326530694 -0.0\n",
      "yahoo_A2 0.46153841893491365 0.11111110867283944 0.0\n",
      "yahoo_A2 0.46153841893491365 0.16269840634306515 0.333333315972223\n",
      "yahoo_A2 0.24999997187500062 0.07142856326530694 -0.0\n",
      "yahoo_A2 0.46153841893491365 0.11111110867283944 0.0\n",
      "yahoo_A2 0.7999999200000041 0.6111110468254028 0.8333332920138907\n",
      "yahoo_A2 0.24999997187500062 0.07142856326530694 0.0\n",
      "yahoo_A2 0.46153841893491365 0.16931216213298922 0.19047618140589606\n",
      "yahoo_A2 0.4285713887755125 0.05555556109988678 -0.0\n",
      "yahoo_A2 0.24999997187500062 0.07142856326530694 -0.0\n",
      "yahoo_A2 0.46153841893491365 0.11111110867283944 -0.0\n",
      "yahoo_A2 0.46153841893491365 0.14252645020165403 0.09523809070294799\n",
      "yahoo_A2 0.4285713887755125 0.09999999793939388 -0.0\n",
      "yahoo_A2 0.24999997187500062 0.07142856326530694 -0.0\n",
      "yahoo_A2 0.46153841893491365 0.11111110867283944 -0.0\n",
      "yahoo_A2 0.46153841893491365 0.15548941199589283 0.20833332378472252\n",
      "yahoo_A2 0.24999997187500062 0.07142856326530694 -0.0\n",
      "yahoo_A2 0.46153841893491365 0.16203703007844675 0.1190476121882089\n",
      "yahoo_A2 0.7999999200000041 0.4666666299722246 0.8749999536458355\n",
      "yahoo_A2 0.24999997187500062 0.07142856326530694 0.0\n",
      "yahoo_A2 0.6666665944444489 0.2962962788374494 0.5714285442176881\n",
      "yahoo_A2 0.4285713887755125 0.05555556109988678 0.0\n",
      "yahoo_A2 0.4285713887755125 1.1717170107356334e-08 0.24999997187500275\n",
      "yahoo_A2 0.24999997187500062 0.07142856326530694 -0.0\n",
      "yahoo_A2 0.46153841893491365 0.11111110867283944 -0.0\n",
      "yahoo_A2 0.7499999343750033 0.1666666744444422 0.7499999656250014\n",
      "yahoo_A2 0.24999997187500062 0.07142856326530694 -0.0\n",
      "yahoo_A2 0.46153841893491365 0.11111110867283944 -0.0\n",
      "yahoo_A2 0.4444443901234612 0.17777777036069045 0.41666664444444546\n",
      "yahoo_A2 0.24999997187500062 0.07142856326530694 -0.0\n",
      "yahoo_A2 0.46153841893491365 0.14252645020165405 0.09523809070294799\n",
      "yahoo_A2 0.4285713887755125 0.12685184776218206 0.08333332951388901\n",
      "yahoo_A2 0.24999997187500062 0.07142856326530694 -0.0\n",
      "yahoo_A2 0.24999997187500062 0.07142856326530694 -0.0\n",
      "yahoo_A2 0.5714285061224537 0.24074072837448607 0.47619045351474004\n",
      "yahoo_A2 0.4285713887755125 0.05555556109988678 -0.0\n",
      "yahoo_A2 0.24999997187500062 0.07142856326530694 -0.0\n",
      "yahoo_A2 0.46153841893491365 0.11111110867283944 -0.0\n",
      "yahoo_A2 0.5454544958677713 0.22857141766921807 0.5416666418402787\n",
      "yahoo_A2 0.24999997187500062 0.07142856326530694 0.0\n",
      "yahoo_A2 0.4999999406250046 0.19537036225900226 0.40476188429705295\n",
      "yahoo_A2 0.49999995416666926 0.15178570897994625 0.24999998854166702\n",
      "yahoo_A2 0.24999997187500062 0.07142856326530694 -0.0\n"
     ]
    },
    {
     "data": {
      "application/vnd.jupyter.widget-view+json": {
       "model_id": "1e5798debb61466490937388ba836bec",
       "version_major": 2,
       "version_minor": 0
      },
      "text/plain": [
       "  0%|          | 0/100 [00:00<?, ?it/s]"
      ]
     },
     "metadata": {},
     "output_type": "display_data"
    },
    {
     "data": {
      "application/vnd.jupyter.widget-view+json": {
       "model_id": "bd3a4b782409437fbfcfc93ce6531e13",
       "version_major": 2,
       "version_minor": 0
      },
      "text/plain": [
       "  0%|          | 0/92 [00:00<?, ?it/s]"
      ]
     },
     "metadata": {},
     "output_type": "display_data"
    },
    {
     "name": "stdout",
     "output_type": "stream",
     "text": [
      "yahoo_A3 0.4999999500000025 0.0 0.0\n",
      "yahoo_A3 0.4999999500000025 0.2499999789583348 0.4999999500000044\n",
      "yahoo_A3 0.7999999360000031 0.0 0.0\n",
      "yahoo_A3 0.4999999500000025 0.0 0.0\n",
      "yahoo_A3 0.9090908429752097 0.0 0.0\n",
      "yahoo_A3 0.4999999500000025 0.0 0.0\n",
      "yahoo_A3 0.7999999360000031 0.29166666104166605 -0.0\n",
      "yahoo_A3 0.6666666074074105 7.499999185480748e-09 0.0\n",
      "yahoo_A3 0.7999999360000031 0.0 0.0\n",
      "yahoo_A3 0.9999999333333361 0.39999998200000086 0.0\n",
      "yahoo_A3 0.9090908429752097 0.0 0.0\n",
      "yahoo_A3 0.9090908429752097 4.083333052458349e-09 0.0\n",
      "yahoo_A3 0.28571425306122533 0.0 0.0\n",
      "yahoo_A3 0.7999999360000031 0.0 0.0\n",
      "yahoo_A3 0.28571425306122533 0.0 0.0\n",
      "yahoo_A3 0.9090908429752097 1.0541665828899795e-08 0.0\n",
      "yahoo_A3 0.4999999500000025 0.0 0.0\n",
      "yahoo_A3 0.4999999500000025 0.0 0.0\n",
      "yahoo_A3 0.6666666074074105 7.499999185480748e-09 0.0\n",
      "yahoo_A3 0.28571425306122533 0.0 0.0\n",
      "yahoo_A3 0.28571425306122533 0.0 0.0\n",
      "yahoo_A3 0.6666666074074105 0.0 0.0\n",
      "yahoo_A3 0.9090908429752097 0.0 0.0\n",
      "yahoo_A3 0.28571425306122533 0.0 0.0\n",
      "yahoo_A3 0.4999999500000025 0.0 0.0\n",
      "yahoo_A3 0.6666666074074105 0.0 0.0\n",
      "yahoo_A3 0.4999999500000025 0.0 0.0\n",
      "yahoo_A3 0.4999999500000025 0.0 0.0\n",
      "yahoo_A3 0.6666666074074105 0.1250000081249981 0.0\n",
      "yahoo_A3 0.7999999360000031 0.0 0.0\n",
      "yahoo_A3 0.9999999333333361 0.0 0.0\n",
      "yahoo_A3 0.9999999333333361 0.0 0.0\n",
      "yahoo_A3 0.7999999360000031 0.27777777342592525 -0.0\n",
      "yahoo_A3 0.9090908429752097 0.0 0.0\n",
      "yahoo_A3 0.7999999360000031 0.2777777723148144 0.0\n",
      "yahoo_A3 0.9090908429752097 0.0 0.0\n",
      "yahoo_A3 0.9090908429752097 0.0 0.0\n",
      "yahoo_A3 0.7999999360000031 0.0 0.0\n",
      "yahoo_A3 0.6666666074074105 0.0 0.0\n",
      "yahoo_A3 0.9090908429752097 0.0 0.0\n",
      "yahoo_A3 0.0 0.0 0.0\n",
      "yahoo_A3 0.9999999333333361 0.0 0.0\n",
      "yahoo_A3 0.28571425306122533 0.0 0.0\n",
      "yahoo_A3 0.4999999500000025 0.0 0.0\n",
      "yahoo_A3 0.9090908429752097 4.083333052458349e-09 0.0\n",
      "yahoo_A3 0.9090908429752097 0.0 0.0\n",
      "yahoo_A3 0.9999999333333361 1.666666540856017e-08 0.0\n",
      "yahoo_A3 0.7999999360000031 0.0 0.0\n",
      "yahoo_A3 0.4999999500000025 1.3333331148236856e-08 0.0\n",
      "yahoo_A3 0.4999999500000025 0.0 0.0\n",
      "yahoo_A3 0.6666666074074105 0.0 0.0\n",
      "yahoo_A3 0.6666666074074105 0.1250000081249981 0.0\n",
      "yahoo_A3 0.7999999360000031 3.5277772680152144e-08 0.0\n",
      "yahoo_A3 0.9090908429752097 2.236110886341413e-08 0.0\n",
      "yahoo_A3 0.7999999360000031 0.0 0.0\n",
      "yahoo_A3 0.6666666074074105 0.0 0.0\n",
      "yahoo_A3 0.9090908429752097 4.083333052458349e-09 0.0\n",
      "yahoo_A3 0.4999999500000025 0.0 0.0\n",
      "yahoo_A3 0.9090908429752097 0.0 0.0\n",
      "yahoo_A3 0.9090908429752097 0.0 0.0\n",
      "yahoo_A3 0.7999999360000031 0.0 0.0\n",
      "yahoo_A3 0.9090908429752097 0.2500000140138856 -0.0\n",
      "yahoo_A3 0.4999999500000025 1.3333331148236856e-08 0.0\n",
      "yahoo_A3 0.7999999360000031 0.0 0.0\n",
      "yahoo_A3 0.7999999360000031 0.0 0.0\n",
      "yahoo_A3 0.7999999360000031 0.0 0.0\n",
      "yahoo_A3 0.6666666074074105 0.0 0.0\n",
      "yahoo_A3 0.9999999333333361 0.0 0.0\n",
      "yahoo_A3 0.9090908429752097 0.0 0.0\n",
      "yahoo_A3 0.28571425306122533 0.0 0.0\n",
      "yahoo_A3 0.6666666074074105 0.13333332705555573 0.22222220740740814\n",
      "yahoo_A3 0.6666666074074105 0.1250000081249981 -0.0\n",
      "yahoo_A3 0.9999998500000123 0.49999993527778763 0.9999998500000176\n",
      "yahoo_A3 0.6666666074074105 0.0 0.0\n",
      "yahoo_A3 0.4999999500000025 0.0 0.0\n",
      "yahoo_A3 0.4999999500000025 0.0 0.0\n",
      "yahoo_A3 0.7999999360000031 0.0 0.0\n",
      "yahoo_A3 0.6666666074074105 0.0 0.0\n",
      "yahoo_A3 0.4999999500000025 0.0 0.0\n",
      "yahoo_A3 0.9090908429752097 0.0 0.0\n",
      "yahoo_A3 0.9090908429752097 0.4999999765277787 -0.0\n",
      "yahoo_A3 0.7999999360000031 0.0 0.0\n",
      "yahoo_A3 0.9090908429752097 2.2347219975155517e-08 0.0\n",
      "yahoo_A3 0.6666666074074105 0.1250000081249981 -0.0\n",
      "yahoo_A3 0.4999999500000025 0.0 0.0\n",
      "yahoo_A3 0.6666666074074105 0.0 0.0\n",
      "yahoo_A3 0.6666666074074105 0.0 0.0\n",
      "yahoo_A3 0.9090908429752097 0.638888841560189 0.3333332888888937\n",
      "yahoo_A3 0.6666666074074105 0.0 0.0\n",
      "yahoo_A3 0.6666666074074105 0.0 0.0\n",
      "yahoo_A3 0.6666666074074105 0.0 0.0\n",
      "yahoo_A3 0.4999999500000025 0.10000000133333238 -0.0\n"
     ]
    },
    {
     "data": {
      "application/vnd.jupyter.widget-view+json": {
       "model_id": "120b2dc0730542c292f35e45b8424c14",
       "version_major": 2,
       "version_minor": 0
      },
      "text/plain": [
       "  0%|          | 0/100 [00:00<?, ?it/s]"
      ]
     },
     "metadata": {},
     "output_type": "display_data"
    },
    {
     "data": {
      "application/vnd.jupyter.widget-view+json": {
       "model_id": "9fffac64402a4531b042fe113f892718",
       "version_major": 2,
       "version_minor": 0
      },
      "text/plain": [
       "  0%|          | 0/82 [00:00<?, ?it/s]"
      ]
     },
     "metadata": {},
     "output_type": "display_data"
    },
    {
     "name": "stdout",
     "output_type": "stream",
     "text": [
      "yahoo_A4 0.6666666074074105 0.0 0.0\n",
      "yahoo_A4 0.6666666000000033 0.16666666527777654 0.4999999625000022\n",
      "yahoo_A4 0.6666666074074105 0.0 0.0\n",
      "yahoo_A4 0.4999999500000025 0.16666665555555618 -0.0\n",
      "yahoo_A4 0.9999998500000123 0.8999998635139098 0.9999998000000299\n",
      "yahoo_A4 0.7999999360000031 0.2777777723148144 -0.0\n",
      "yahoo_A4 0.4999999500000025 0.0 0.0\n",
      "yahoo_A4 0.4999999500000025 0.0 0.0\n",
      "yahoo_A4 0.9090908429752097 4.083333052458349e-09 0.0\n",
      "yahoo_A4 0.7999999360000031 1.4444442978045904e-08 0.0\n",
      "yahoo_A4 0.9090908429752097 0.0 0.0\n",
      "yahoo_A4 0.6666666074074105 0.19999999349999997 -0.0\n",
      "yahoo_A4 0.6666666074074105 0.0 0.0\n",
      "yahoo_A4 0.28571425306122533 0.0 0.0\n",
      "yahoo_A4 0.28571425306122533 0.08333332361111209 -0.0\n",
      "yahoo_A4 0.4999999500000025 0.0 0.0\n",
      "yahoo_A4 0.9090908429752097 0.0 0.0\n",
      "yahoo_A4 0.7999999360000031 5.277777344711406e-09 0.0\n",
      "yahoo_A4 0.9999999333333361 0.0 0.0\n",
      "yahoo_A4 0.9090908429752097 0.0 0.0\n",
      "yahoo_A4 0.4999999500000025 1.3333331148236856e-08 0.0\n",
      "yahoo_A4 0.7999999360000031 0.16666667152777656 0.0\n",
      "yahoo_A4 0.7999999360000031 0.0 0.0\n",
      "yahoo_A4 0.4999999500000025 0.0 0.0\n",
      "yahoo_A4 0.6666666074074105 0.0 0.0\n",
      "yahoo_A4 0.7999999360000031 0.0 0.0\n",
      "yahoo_A4 0.9999999333333361 0.0 0.0\n",
      "yahoo_A4 0.4999999500000025 0.0 0.0\n",
      "yahoo_A4 0.9090908429752097 0.0 0.0\n",
      "yahoo_A4 0.9999999333333361 0.0 0.0\n",
      "yahoo_A4 0.28571425306122533 0.08333332361111209 0.0\n",
      "yahoo_A4 0.6666666074074105 0.0 0.0\n",
      "yahoo_A4 0.4999999500000025 0.0 0.0\n",
      "yahoo_A4 0.4999999500000025 0.0 0.0\n",
      "yahoo_A4 0.7999999360000031 0.0 0.0\n",
      "yahoo_A4 0.9090908429752097 0.0 0.0\n",
      "yahoo_A4 0.7999999360000031 1.4444442978045904e-08 0.0\n",
      "yahoo_A4 0.9090908429752097 0.0 0.0\n",
      "yahoo_A4 0.7999999360000031 0.45416663990972367 0.24999997500000196\n",
      "yahoo_A4 0.6666666074074105 0.0 0.0\n",
      "yahoo_A4 0.9090908429752097 0.0 0.0\n",
      "yahoo_A4 0.0 0.0 0.0\n",
      "yahoo_A4 0.7999999360000031 0.0 0.0\n",
      "yahoo_A4 0.4999999500000025 0.0 0.0\n",
      "yahoo_A4 0.4999999500000025 1.3333331148236856e-08 0.0\n",
      "yahoo_A4 0.4999999500000025 0.0 0.0\n",
      "yahoo_A4 0.6666666074074105 0.28749998504861174 0.16666665277777867\n",
      "yahoo_A4 0.4999999500000025 0.0 0.0\n",
      "yahoo_A4 0.7999999360000031 0.0 0.0\n",
      "yahoo_A4 0.7999999360000031 0.0 0.0\n",
      "yahoo_A4 0.7999999360000031 0.0 0.0\n",
      "yahoo_A4 0.7999999360000031 0.2222222107407414 0.4999999500000039\n",
      "yahoo_A4 0.4999999500000025 0.0 0.0\n",
      "yahoo_A4 0.28571425306122533 0.0 0.0\n",
      "yahoo_A4 0.9090908429752097 0.0 0.0\n",
      "yahoo_A4 0.6666666074074105 0.1250000081249981 0.0\n",
      "yahoo_A4 0.6666666074074105 0.0 0.0\n",
      "yahoo_A4 0.4999999500000025 0.0 0.0\n",
      "yahoo_A4 0.9999999000000052 0.4999999500000039 0.9999999250000045\n",
      "yahoo_A4 0.7999999360000031 5.277777344711406e-09 0.0\n",
      "yahoo_A4 0.6666666074074105 0.0 0.0\n",
      "yahoo_A4 0.7999999360000031 0.0 0.0\n",
      "yahoo_A4 0.7999999360000031 0.49999995506944894 0.45833328888889224\n",
      "yahoo_A4 0.7999999360000031 0.0 0.0\n",
      "yahoo_A4 0.4999999500000025 0.0 0.0\n",
      "yahoo_A4 0.6666666074074105 0.0 0.0\n",
      "yahoo_A4 0.6666666074074105 0.0 0.0\n",
      "yahoo_A4 0.4999999500000025 0.0 0.0\n",
      "yahoo_A4 0.6666666074074105 0.0 0.0\n",
      "yahoo_A4 0.7999999360000031 0.0 0.0\n",
      "yahoo_A4 0.28571425306122533 0.0 0.0\n",
      "yahoo_A4 0.9090908429752097 0.0 0.0\n",
      "yahoo_A4 0.9090908429752097 0.0 0.0\n",
      "yahoo_A4 0.7999999360000031 0.0 0.0\n",
      "yahoo_A4 0.7999999360000031 0.31944443321759275 -0.0\n",
      "yahoo_A4 0.9090908429752097 2.236110886341413e-08 0.0\n",
      "yahoo_A4 0.6666666074074105 0.0 0.0\n",
      "yahoo_A4 0.6666666074074105 0.0 0.0\n",
      "yahoo_A4 0.7999999360000031 0.0 0.0\n",
      "yahoo_A4 0.7999999360000031 0.2916666599305552 -0.0\n",
      "yahoo_A4 0.9090908429752097 0.0 0.0\n",
      "yahoo_A4 0.28571425306122533 0.0 0.0\n"
     ]
    }
   ],
   "source": [
    "for loader in [load_yahoo_A1, load_yahoo_A2, load_yahoo_A3, load_yahoo_A4]:\n",
    "    datasets = loader(128, 64)\n",
    "    x_trains, x_tests, y_tests = datasets['x_train'], datasets['x_test'], datasets['y_test']\n",
    "    \n",
    "    for i in tqdm(range(len(x_trains))):\n",
    "        X_train = x_trains[i]\n",
    "        X_test = x_tests[i]\n",
    "\n",
    "        model = CNN_AE(X_train)\n",
    "        scores = evaluate(X_test, model.predict(X_test), y_tests[i], is_reconstructed=True)\n",
    "    \n",
    "        total_scores['dataset'].append(loader.__name__.replace('load_', ''))\n",
    "        total_scores['f1'].append(np.max(scores['f1']))\n",
    "        total_scores['pr_auc'].append(scores['pr_auc'])\n",
    "        total_scores['roc_auc'].append(scores['roc_auc'])\n",
    "        print(loader.__name__.replace('load_', ''), np.max(scores['f1']), scores['pr_auc'], scores['roc_auc'])   "
   ]
  },
  {
   "cell_type": "code",
   "execution_count": 6,
   "id": "bd9e37fd-124c-4f5c-8f1f-a9d61a4b0315",
   "metadata": {},
   "outputs": [
    {
     "data": {
      "text/html": [
       "<div>\n",
       "<style scoped>\n",
       "    .dataframe tbody tr th:only-of-type {\n",
       "        vertical-align: middle;\n",
       "    }\n",
       "\n",
       "    .dataframe tbody tr th {\n",
       "        vertical-align: top;\n",
       "    }\n",
       "\n",
       "    .dataframe thead th {\n",
       "        text-align: right;\n",
       "    }\n",
       "</style>\n",
       "<table border=\"1\" class=\"dataframe\">\n",
       "  <thead>\n",
       "    <tr style=\"text-align: right;\">\n",
       "      <th></th>\n",
       "      <th>f1</th>\n",
       "      <th>pr_auc</th>\n",
       "      <th>roc_auc</th>\n",
       "    </tr>\n",
       "    <tr>\n",
       "      <th>dataset</th>\n",
       "      <th></th>\n",
       "      <th></th>\n",
       "      <th></th>\n",
       "    </tr>\n",
       "  </thead>\n",
       "  <tbody>\n",
       "    <tr>\n",
       "      <th>yahoo_A1</th>\n",
       "      <td>0.578444</td>\n",
       "      <td>0.200397</td>\n",
       "      <td>0.333333</td>\n",
       "    </tr>\n",
       "    <tr>\n",
       "      <th>yahoo_A2</th>\n",
       "      <td>0.404229</td>\n",
       "      <td>0.116375</td>\n",
       "      <td>0.108988</td>\n",
       "    </tr>\n",
       "    <tr>\n",
       "      <th>yahoo_A3</th>\n",
       "      <td>0.701350</td>\n",
       "      <td>0.044777</td>\n",
       "      <td>0.022343</td>\n",
       "    </tr>\n",
       "    <tr>\n",
       "      <th>yahoo_A4</th>\n",
       "      <td>0.692266</td>\n",
       "      <td>0.057859</td>\n",
       "      <td>0.047256</td>\n",
       "    </tr>\n",
       "  </tbody>\n",
       "</table>\n",
       "</div>"
      ],
      "text/plain": [
       "                f1    pr_auc   roc_auc\n",
       "dataset                               \n",
       "yahoo_A1  0.578444  0.200397  0.333333\n",
       "yahoo_A2  0.404229  0.116375  0.108988\n",
       "yahoo_A3  0.701350  0.044777  0.022343\n",
       "yahoo_A4  0.692266  0.057859  0.047256"
      ]
     },
     "execution_count": 6,
     "metadata": {},
     "output_type": "execute_result"
    }
   ],
   "source": [
    "yahoo_results = pd.DataFrame(total_scores)\n",
    "yahoo_results.groupby('dataset').mean()"
   ]
  },
  {
   "cell_type": "markdown",
   "id": "8890a678-6116-4222-b0ff-395fcd7f41aa",
   "metadata": {},
   "source": [
    "### NASA"
   ]
  },
  {
   "cell_type": "code",
   "execution_count": 7,
   "id": "e4387a80-585a-488e-94a8-546f42d47632",
   "metadata": {},
   "outputs": [],
   "source": [
    "total_scores = {'dataset': [], 'f1': [], 'pr_auc': [], 'roc_auc': []}"
   ]
  },
  {
   "cell_type": "code",
   "execution_count": 8,
   "id": "106a238d-c5cb-49e9-9764-b1bc37f09436",
   "metadata": {},
   "outputs": [
    {
     "data": {
      "application/vnd.jupyter.widget-view+json": {
       "model_id": "6ee82b6ebe764bc189bd642e805e50fe",
       "version_major": 2,
       "version_minor": 0
      },
      "text/plain": [
       "  0%|          | 0/2 [00:00<?, ?it/s]"
      ]
     },
     "metadata": {},
     "output_type": "display_data"
    },
    {
     "data": {
      "application/vnd.jupyter.widget-view+json": {
       "model_id": "40efa7d516c743d78a8a63ca8d47a86f",
       "version_major": 2,
       "version_minor": 0
      },
      "text/plain": [
       "  0%|          | 0/2 [00:00<?, ?it/s]"
      ]
     },
     "metadata": {},
     "output_type": "display_data"
    },
    {
     "name": "stdout",
     "output_type": "stream",
     "text": [
      "D1 0.26965063099188846 0.11596555596168923 0.396472600547932\n",
      "D2 0.28464975199693254 0.5023415037551785 0.5125572784281391\n"
     ]
    }
   ],
   "source": [
    "for loader in [load_nasa]:\n",
    "    datasets = loader(128, 64)\n",
    "    x_trains, x_tests, y_tests = datasets['x_train'], datasets['x_test'], datasets['y_test']\n",
    "    \n",
    "    for i in tqdm(range(len(x_trains))):\n",
    "        X_train = x_trains[i]\n",
    "        X_test = x_tests[i]\n",
    "        \n",
    "        model = CNN_AE(X_train)\n",
    "        scores = evaluate(X_test, model.predict(X_test), y_tests[i], is_reconstructed=True)\n",
    "        \n",
    "        total_scores['dataset'].append(f'D{i+1}')\n",
    "        total_scores['f1'].append(np.max(scores['f1']))\n",
    "        total_scores['pr_auc'].append(scores['pr_auc'])\n",
    "        total_scores['roc_auc'].append(scores['roc_auc'])\n",
    "        print(f'D{i+1}', np.max(scores['f1']), scores['pr_auc'], scores['roc_auc'])   "
   ]
  },
  {
   "cell_type": "code",
   "execution_count": 9,
   "id": "abb7a6a5-3924-4a33-bc54-871559819602",
   "metadata": {},
   "outputs": [
    {
     "data": {
      "text/html": [
       "<div>\n",
       "<style scoped>\n",
       "    .dataframe tbody tr th:only-of-type {\n",
       "        vertical-align: middle;\n",
       "    }\n",
       "\n",
       "    .dataframe tbody tr th {\n",
       "        vertical-align: top;\n",
       "    }\n",
       "\n",
       "    .dataframe thead th {\n",
       "        text-align: right;\n",
       "    }\n",
       "</style>\n",
       "<table border=\"1\" class=\"dataframe\">\n",
       "  <thead>\n",
       "    <tr style=\"text-align: right;\">\n",
       "      <th></th>\n",
       "      <th>f1</th>\n",
       "      <th>pr_auc</th>\n",
       "      <th>roc_auc</th>\n",
       "    </tr>\n",
       "    <tr>\n",
       "      <th>dataset</th>\n",
       "      <th></th>\n",
       "      <th></th>\n",
       "      <th></th>\n",
       "    </tr>\n",
       "  </thead>\n",
       "  <tbody>\n",
       "    <tr>\n",
       "      <th>D1</th>\n",
       "      <td>0.269651</td>\n",
       "      <td>0.115966</td>\n",
       "      <td>0.396473</td>\n",
       "    </tr>\n",
       "    <tr>\n",
       "      <th>D2</th>\n",
       "      <td>0.284650</td>\n",
       "      <td>0.502342</td>\n",
       "      <td>0.512557</td>\n",
       "    </tr>\n",
       "  </tbody>\n",
       "</table>\n",
       "</div>"
      ],
      "text/plain": [
       "               f1    pr_auc   roc_auc\n",
       "dataset                              \n",
       "D1       0.269651  0.115966  0.396473\n",
       "D2       0.284650  0.502342  0.512557"
      ]
     },
     "execution_count": 9,
     "metadata": {},
     "output_type": "execute_result"
    }
   ],
   "source": [
    "nasa_results = pd.DataFrame(total_scores)\n",
    "nasa_results.groupby('dataset').mean()"
   ]
  },
  {
   "cell_type": "markdown",
   "id": "41754734-5c75-4caf-9069-fb3b39c7a0da",
   "metadata": {},
   "source": [
    "### SMD"
   ]
  },
  {
   "cell_type": "code",
   "execution_count": 10,
   "id": "60a26807-8359-42d4-82b4-9e1d37b6acaa",
   "metadata": {},
   "outputs": [],
   "source": [
    "total_scores = {'dataset': [], 'f1': [], 'pr_auc': [], 'roc_auc': []}"
   ]
  },
  {
   "cell_type": "code",
   "execution_count": 11,
   "id": "41af318e-1b08-4cc9-a680-6b4a978544f2",
   "metadata": {},
   "outputs": [
    {
     "data": {
      "application/vnd.jupyter.widget-view+json": {
       "model_id": "4073f1bc603c44f38ca16dab165c98b0",
       "version_major": 2,
       "version_minor": 0
      },
      "text/plain": [
       "  0%|          | 0/28 [00:00<?, ?it/s]"
      ]
     },
     "metadata": {},
     "output_type": "display_data"
    },
    {
     "data": {
      "application/vnd.jupyter.widget-view+json": {
       "model_id": "514390125a2d4d1fb3bb43a0721e6892",
       "version_major": 2,
       "version_minor": 0
      },
      "text/plain": [
       "  0%|          | 0/28 [00:00<?, ?it/s]"
      ]
     },
     "metadata": {},
     "output_type": "display_data"
    },
    {
     "name": "stdout",
     "output_type": "stream",
     "text": [
      "smd 0.23153690558205123 0.5632053916219133 0.5172413782842009\n",
      "smd 0.48780483236169325 0.4622570630786299 0.8528224338038802\n",
      "smd 0.2666666278628313 0.19349110532959493 0.6505965928771728\n",
      "smd 0.3384614877159836 0.2669679707861683 0.6876784801744443\n",
      "smd 0.7407406869684531 0.6729027939848469 0.8117917793988815\n",
      "smd 0.5114942087247363 0.5633697101710562 0.6821719975724383\n",
      "smd 0.31192657420531683 0.21179727231651138 0.5338121623999641\n",
      "smd 0.23958329890408475 0.21073495187428443 0.5654520839198749\n",
      "smd 0.37777772733333986 0.3126415686033896 0.6681635057182809\n",
      "smd 0.29953914490114675 0.33730902837773014 0.5419787439271754\n",
      "smd 0.6111110652777806 0.5797333993481124 0.7612790663387384\n",
      "smd 0.29953914490114675 0.1564205937552239 0.23750587008511434\n",
      "smd 0.2635293887601403 0.18825856244921163 0.42315665535651015\n",
      "smd 0.46153842248520954 0.6406249788767215 0.6499999965981308\n",
      "smd 0.23999997792000163 0.18522467569580525 0.39050511182598874\n",
      "smd 0.8888888197530895 0.7013549728560032 0.8999999817527475\n",
      "smd 0.37931031278240424 0.6253748298589408 0.617021275128678\n",
      "smd 0.37499996484375203 0.5496471966858085 0.615384610509094\n",
      "smd 0.5483870552029163 0.1122394249746008 0.7528305228907227\n",
      "smd 0.03516483169472315 0.008948545747438804 0.49999999363610487\n",
      "smd 0.16873447578151593 0.06307992372647295 0.41342961135867573\n",
      "smd 0.3072916397827171 0.08273510029218659 0.28382661554842803\n",
      "smd 0.5666666148333377 0.6318660118175432 0.7905379504463091\n",
      "smd 0.3783783368882437 0.3215445270756908 0.6229465239405303\n",
      "smd 0.6071428126913294 0.5452265093356654 0.6983138191815973\n",
      "smd 0.199999980000001 0.2640592329379805 0.6103341068010962\n",
      "smd 0.6153845635029624 0.5861501555674709 0.9041135967900378\n",
      "smd 0.37499996484375203 0.5496471966858085 0.615384610509094\n"
     ]
    }
   ],
   "source": [
    "for loader in [load_smd]:\n",
    "    datasets = loader(128, 64)\n",
    "    x_trains, x_tests, y_tests = datasets['x_train'], datasets['x_test'], datasets['y_test']\n",
    "    \n",
    "    for i in tqdm(range(len(x_trains))):\n",
    "        X_train = x_trains[i]\n",
    "        X_test = x_tests[i]\n",
    "        \n",
    "        model = CNN_AE(X_train)        \n",
    "        scores = evaluate(X_test, model.predict(X_test), y_tests[i], is_reconstructed=True)\n",
    "\n",
    "        total_scores['dataset'].append(loader.__name__.replace('load_', ''))\n",
    "        total_scores['f1'].append(np.max(scores['f1']))\n",
    "        total_scores['pr_auc'].append(scores['pr_auc'])\n",
    "        total_scores['roc_auc'].append(scores['roc_auc'])\n",
    "        print(loader.__name__.replace('load_', ''), np.max(scores['f1']), scores['pr_auc'], scores['roc_auc'])   "
   ]
  },
  {
   "cell_type": "code",
   "execution_count": 12,
   "id": "23474773-bac1-4145-ac75-c1a686bca5c6",
   "metadata": {},
   "outputs": [
    {
     "data": {
      "text/html": [
       "<div>\n",
       "<style scoped>\n",
       "    .dataframe tbody tr th:only-of-type {\n",
       "        vertical-align: middle;\n",
       "    }\n",
       "\n",
       "    .dataframe tbody tr th {\n",
       "        vertical-align: top;\n",
       "    }\n",
       "\n",
       "    .dataframe thead th {\n",
       "        text-align: right;\n",
       "    }\n",
       "</style>\n",
       "<table border=\"1\" class=\"dataframe\">\n",
       "  <thead>\n",
       "    <tr style=\"text-align: right;\">\n",
       "      <th></th>\n",
       "      <th>f1</th>\n",
       "      <th>pr_auc</th>\n",
       "      <th>roc_auc</th>\n",
       "    </tr>\n",
       "    <tr>\n",
       "      <th>dataset</th>\n",
       "      <th></th>\n",
       "      <th></th>\n",
       "      <th></th>\n",
       "    </tr>\n",
       "  </thead>\n",
       "  <tbody>\n",
       "    <tr>\n",
       "      <th>smd</th>\n",
       "      <td>0.397379</td>\n",
       "      <td>0.3781</td>\n",
       "      <td>0.617796</td>\n",
       "    </tr>\n",
       "  </tbody>\n",
       "</table>\n",
       "</div>"
      ],
      "text/plain": [
       "               f1  pr_auc   roc_auc\n",
       "dataset                            \n",
       "smd      0.397379  0.3781  0.617796"
      ]
     },
     "execution_count": 12,
     "metadata": {},
     "output_type": "execute_result"
    }
   ],
   "source": [
    "smd_results = pd.DataFrame(total_scores)\n",
    "smd_results.groupby('dataset').mean()"
   ]
  },
  {
   "cell_type": "markdown",
   "id": "08c4fe00-b56d-4368-964b-ce337cecb61b",
   "metadata": {},
   "source": [
    "### ECG"
   ]
  },
  {
   "cell_type": "code",
   "execution_count": 13,
   "id": "8a2f4c6f-5b06-4a68-82c5-f12bdbc6e527",
   "metadata": {},
   "outputs": [],
   "source": [
    "total_scores = {'dataset': [], 'f1': [], 'pr_auc': [], 'roc_auc': []}"
   ]
  },
  {
   "cell_type": "code",
   "execution_count": 14,
   "id": "624fcf10-52db-43bb-b076-6324616e27b8",
   "metadata": {},
   "outputs": [
    {
     "data": {
      "application/vnd.jupyter.widget-view+json": {
       "model_id": "cb430dade2784d69aeff3ef650b26d24",
       "version_major": 2,
       "version_minor": 0
      },
      "text/plain": [
       "  0%|          | 0/9 [00:00<?, ?it/s]"
      ]
     },
     "metadata": {},
     "output_type": "display_data"
    },
    {
     "data": {
      "application/vnd.jupyter.widget-view+json": {
       "model_id": "454b381eadbf449fa7cee148f4b3e15d",
       "version_major": 2,
       "version_minor": 0
      },
      "text/plain": [
       "  0%|          | 0/9 [00:00<?, ?it/s]"
      ]
     },
     "metadata": {},
     "output_type": "display_data"
    },
    {
     "name": "stdout",
     "output_type": "stream",
     "text": [
      "D1 0.46153841893491365 0.37604365911978516 0.5103950930733676\n",
      "D2 0.333333303968256 0.2137915582852804 0.49739582400987425\n",
      "D3 0.11009173251409898 0.0 0.0\n",
      "D4 0.2999999730000019 0.0 0.0\n",
      "D5 0.27586203043995716 0.11686293387607471 0.40669239931144613\n",
      "D6 0.3809523328798237 0.16954827545277182 0.6394009114933956\n",
      "D7 0.05079364581103594 0.0 0.0\n",
      "D8 0.21276593798098847 0.0 0.0\n",
      "D9 0.417910413455115 1.4125024236541218e-10 0.0\n"
     ]
    }
   ],
   "source": [
    "for loader in [load_ecg]:\n",
    "    datasets = loader(64, 32)\n",
    "    x_trains, x_tests, y_tests = datasets['x_train'], datasets['x_test'], datasets['y_test']\n",
    "    \n",
    "    for i in tqdm(range(len(x_trains))):\n",
    "        X_train = x_trains[i]\n",
    "        X_test = x_tests[i]\n",
    "        \n",
    "        model = CNN_AE(X_train)        \n",
    "        scores = evaluate(X_test, model.predict(X_test), y_tests[i], is_reconstructed=True)\n",
    "\n",
    "        total_scores['dataset'].append(f'D{i+1}')\n",
    "        total_scores['f1'].append(np.max(scores['f1']))\n",
    "        total_scores['pr_auc'].append(scores['pr_auc'])\n",
    "        total_scores['roc_auc'].append(scores['roc_auc'])\n",
    "        print(f'D{i+1}', np.max(scores['f1']), scores['pr_auc'], scores['roc_auc'])  "
   ]
  },
  {
   "cell_type": "code",
   "execution_count": 15,
   "id": "a0b2faa2-35cf-49a7-ab64-6295c870e458",
   "metadata": {},
   "outputs": [
    {
     "data": {
      "text/html": [
       "<div>\n",
       "<style scoped>\n",
       "    .dataframe tbody tr th:only-of-type {\n",
       "        vertical-align: middle;\n",
       "    }\n",
       "\n",
       "    .dataframe tbody tr th {\n",
       "        vertical-align: top;\n",
       "    }\n",
       "\n",
       "    .dataframe thead th {\n",
       "        text-align: right;\n",
       "    }\n",
       "</style>\n",
       "<table border=\"1\" class=\"dataframe\">\n",
       "  <thead>\n",
       "    <tr style=\"text-align: right;\">\n",
       "      <th></th>\n",
       "      <th>f1</th>\n",
       "      <th>pr_auc</th>\n",
       "      <th>roc_auc</th>\n",
       "    </tr>\n",
       "    <tr>\n",
       "      <th>dataset</th>\n",
       "      <th></th>\n",
       "      <th></th>\n",
       "      <th></th>\n",
       "    </tr>\n",
       "  </thead>\n",
       "  <tbody>\n",
       "    <tr>\n",
       "      <th>D1</th>\n",
       "      <td>0.461538</td>\n",
       "      <td>3.760437e-01</td>\n",
       "      <td>0.510395</td>\n",
       "    </tr>\n",
       "    <tr>\n",
       "      <th>D2</th>\n",
       "      <td>0.333333</td>\n",
       "      <td>2.137916e-01</td>\n",
       "      <td>0.497396</td>\n",
       "    </tr>\n",
       "    <tr>\n",
       "      <th>D3</th>\n",
       "      <td>0.110092</td>\n",
       "      <td>0.000000e+00</td>\n",
       "      <td>0.000000</td>\n",
       "    </tr>\n",
       "    <tr>\n",
       "      <th>D4</th>\n",
       "      <td>0.300000</td>\n",
       "      <td>0.000000e+00</td>\n",
       "      <td>0.000000</td>\n",
       "    </tr>\n",
       "    <tr>\n",
       "      <th>D5</th>\n",
       "      <td>0.275862</td>\n",
       "      <td>1.168629e-01</td>\n",
       "      <td>0.406692</td>\n",
       "    </tr>\n",
       "    <tr>\n",
       "      <th>D6</th>\n",
       "      <td>0.380952</td>\n",
       "      <td>1.695483e-01</td>\n",
       "      <td>0.639401</td>\n",
       "    </tr>\n",
       "    <tr>\n",
       "      <th>D7</th>\n",
       "      <td>0.050794</td>\n",
       "      <td>0.000000e+00</td>\n",
       "      <td>0.000000</td>\n",
       "    </tr>\n",
       "    <tr>\n",
       "      <th>D8</th>\n",
       "      <td>0.212766</td>\n",
       "      <td>0.000000e+00</td>\n",
       "      <td>0.000000</td>\n",
       "    </tr>\n",
       "    <tr>\n",
       "      <th>D9</th>\n",
       "      <td>0.417910</td>\n",
       "      <td>1.412502e-10</td>\n",
       "      <td>0.000000</td>\n",
       "    </tr>\n",
       "  </tbody>\n",
       "</table>\n",
       "</div>"
      ],
      "text/plain": [
       "               f1        pr_auc   roc_auc\n",
       "dataset                                  \n",
       "D1       0.461538  3.760437e-01  0.510395\n",
       "D2       0.333333  2.137916e-01  0.497396\n",
       "D3       0.110092  0.000000e+00  0.000000\n",
       "D4       0.300000  0.000000e+00  0.000000\n",
       "D5       0.275862  1.168629e-01  0.406692\n",
       "D6       0.380952  1.695483e-01  0.639401\n",
       "D7       0.050794  0.000000e+00  0.000000\n",
       "D8       0.212766  0.000000e+00  0.000000\n",
       "D9       0.417910  1.412502e-10  0.000000"
      ]
     },
     "execution_count": 15,
     "metadata": {},
     "output_type": "execute_result"
    }
   ],
   "source": [
    "ecg_results = pd.DataFrame(total_scores)\n",
    "ecg_results.groupby('dataset').mean()"
   ]
  },
  {
   "cell_type": "markdown",
   "id": "41cd6896-bf51-421b-951f-9925fbeecfbf",
   "metadata": {},
   "source": [
    "### Power Demand"
   ]
  },
  {
   "cell_type": "code",
   "execution_count": 16,
   "id": "2f14a65f-50c1-4603-9221-3fc70fd12eff",
   "metadata": {},
   "outputs": [],
   "source": [
    "total_scores = {'dataset': [], 'f1': [], 'pr_auc': [], 'roc_auc': []}"
   ]
  },
  {
   "cell_type": "code",
   "execution_count": 17,
   "id": "8c8caf36-0ab6-49d3-b367-9584f298416b",
   "metadata": {},
   "outputs": [
    {
     "data": {
      "application/vnd.jupyter.widget-view+json": {
       "model_id": "8563b82e185c4685a3b41a6d933c4f5b",
       "version_major": 2,
       "version_minor": 0
      },
      "text/plain": [
       "  0%|          | 0/1 [00:00<?, ?it/s]"
      ]
     },
     "metadata": {},
     "output_type": "display_data"
    },
    {
     "name": "stdout",
     "output_type": "stream",
     "text": [
      "power_demand 0.7499999343750033 0.0 0.0\n"
     ]
    }
   ],
   "source": [
    "for loader in [load_power_demand]:\n",
    "    datasets = loader(512, 256)\n",
    "    x_trains, x_tests, y_tests = datasets['x_train'], datasets['x_test'], datasets['y_test']\n",
    "    \n",
    "    for i in tqdm(range(len(x_trains))):\n",
    "        X_train = x_trains[i]\n",
    "        X_test = x_tests[i]\n",
    "        \n",
    "        model = CNN_AE(X_train)        \n",
    "        scores = evaluate(X_test, model.predict(X_test), y_tests[i], is_reconstructed=True)\n",
    "\n",
    "        total_scores['dataset'].append(loader.__name__.replace('load_', ''))\n",
    "        total_scores['f1'].append(np.max(scores['f1']))\n",
    "        total_scores['pr_auc'].append(scores['pr_auc'])\n",
    "        total_scores['roc_auc'].append(scores['roc_auc'])\n",
    "        print(loader.__name__.replace('load_', ''), np.max(scores['f1']), scores['pr_auc'], scores['roc_auc']) "
   ]
  },
  {
   "cell_type": "code",
   "execution_count": 18,
   "id": "6d2f7903-a1ac-4b48-8af4-b98053444541",
   "metadata": {},
   "outputs": [
    {
     "data": {
      "text/html": [
       "<div>\n",
       "<style scoped>\n",
       "    .dataframe tbody tr th:only-of-type {\n",
       "        vertical-align: middle;\n",
       "    }\n",
       "\n",
       "    .dataframe tbody tr th {\n",
       "        vertical-align: top;\n",
       "    }\n",
       "\n",
       "    .dataframe thead th {\n",
       "        text-align: right;\n",
       "    }\n",
       "</style>\n",
       "<table border=\"1\" class=\"dataframe\">\n",
       "  <thead>\n",
       "    <tr style=\"text-align: right;\">\n",
       "      <th></th>\n",
       "      <th>f1</th>\n",
       "      <th>pr_auc</th>\n",
       "      <th>roc_auc</th>\n",
       "    </tr>\n",
       "    <tr>\n",
       "      <th>dataset</th>\n",
       "      <th></th>\n",
       "      <th></th>\n",
       "      <th></th>\n",
       "    </tr>\n",
       "  </thead>\n",
       "  <tbody>\n",
       "    <tr>\n",
       "      <th>power_demand</th>\n",
       "      <td>0.75</td>\n",
       "      <td>0.0</td>\n",
       "      <td>0.0</td>\n",
       "    </tr>\n",
       "  </tbody>\n",
       "</table>\n",
       "</div>"
      ],
      "text/plain": [
       "                f1  pr_auc  roc_auc\n",
       "dataset                            \n",
       "power_demand  0.75     0.0      0.0"
      ]
     },
     "execution_count": 18,
     "metadata": {},
     "output_type": "execute_result"
    }
   ],
   "source": [
    "power_results = pd.DataFrame(total_scores)\n",
    "power_results.groupby('dataset').mean()"
   ]
  },
  {
   "cell_type": "markdown",
   "id": "a3148df3-815e-428d-bf3f-c74f8ea01cd1",
   "metadata": {},
   "source": [
    "### 2D Gesture"
   ]
  },
  {
   "cell_type": "code",
   "execution_count": 19,
   "id": "33358f80-7d35-46cd-83a3-387982d50c17",
   "metadata": {},
   "outputs": [],
   "source": [
    "total_scores = {'dataset': [], 'f1': [], 'pr_auc': [], 'roc_auc': []}"
   ]
  },
  {
   "cell_type": "code",
   "execution_count": 20,
   "id": "3876815f-1b4c-417a-8739-f3a8aea08430",
   "metadata": {},
   "outputs": [
    {
     "data": {
      "application/vnd.jupyter.widget-view+json": {
       "model_id": "158d154e3f4d438084747cec95511be9",
       "version_major": 2,
       "version_minor": 0
      },
      "text/plain": [
       "  0%|          | 0/1 [00:00<?, ?it/s]"
      ]
     },
     "metadata": {},
     "output_type": "display_data"
    },
    {
     "name": "stdout",
     "output_type": "stream",
     "text": [
      "gesture 0.42201831455264965 0.0 0.0\n"
     ]
    }
   ],
   "source": [
    "for loader in [load_gesture]:\n",
    "    datasets = loader(64, 32)\n",
    "    x_trains, x_tests, y_tests = datasets['x_train'], datasets['x_test'], datasets['y_test']\n",
    "    \n",
    "    for i in tqdm(range(len(x_trains))):\n",
    "        X_train = x_trains[i]\n",
    "        X_test = x_tests[i]\n",
    "\n",
    "        model = CNN_AE(X_train)        \n",
    "        scores = evaluate(X_test, model.predict(X_test), y_tests[i], is_reconstructed=True)\n",
    "\n",
    "        total_scores['dataset'].append(loader.__name__.replace('load_', ''))\n",
    "        total_scores['f1'].append(np.max(scores['f1']))\n",
    "        total_scores['pr_auc'].append(scores['pr_auc'])\n",
    "        total_scores['roc_auc'].append(scores['roc_auc'])\n",
    "        print(loader.__name__.replace('load_', ''), np.max(scores['f1']), scores['pr_auc'], scores['roc_auc'])  "
   ]
  },
  {
   "cell_type": "code",
   "execution_count": 21,
   "id": "9a16c15d-745f-4bd0-b4e1-1d1775fc9e10",
   "metadata": {},
   "outputs": [
    {
     "data": {
      "text/html": [
       "<div>\n",
       "<style scoped>\n",
       "    .dataframe tbody tr th:only-of-type {\n",
       "        vertical-align: middle;\n",
       "    }\n",
       "\n",
       "    .dataframe tbody tr th {\n",
       "        vertical-align: top;\n",
       "    }\n",
       "\n",
       "    .dataframe thead th {\n",
       "        text-align: right;\n",
       "    }\n",
       "</style>\n",
       "<table border=\"1\" class=\"dataframe\">\n",
       "  <thead>\n",
       "    <tr style=\"text-align: right;\">\n",
       "      <th></th>\n",
       "      <th>f1</th>\n",
       "      <th>pr_auc</th>\n",
       "      <th>roc_auc</th>\n",
       "    </tr>\n",
       "    <tr>\n",
       "      <th>dataset</th>\n",
       "      <th></th>\n",
       "      <th></th>\n",
       "      <th></th>\n",
       "    </tr>\n",
       "  </thead>\n",
       "  <tbody>\n",
       "    <tr>\n",
       "      <th>gesture</th>\n",
       "      <td>0.422018</td>\n",
       "      <td>0.0</td>\n",
       "      <td>0.0</td>\n",
       "    </tr>\n",
       "  </tbody>\n",
       "</table>\n",
       "</div>"
      ],
      "text/plain": [
       "               f1  pr_auc  roc_auc\n",
       "dataset                           \n",
       "gesture  0.422018     0.0      0.0"
      ]
     },
     "execution_count": 21,
     "metadata": {},
     "output_type": "execute_result"
    }
   ],
   "source": [
    "gesture_results = pd.DataFrame(total_scores)\n",
    "gesture_results.groupby('dataset').mean()"
   ]
  },
  {
   "cell_type": "code",
   "execution_count": null,
   "id": "1d9dd8de-a66e-45f8-ba83-b696d5f47939",
   "metadata": {},
   "outputs": [],
   "source": []
  }
 ],
 "metadata": {
  "kernelspec": {
   "display_name": "Python 3",
   "language": "python",
   "name": "python3"
  },
  "language_info": {
   "codemirror_mode": {
    "name": "ipython",
    "version": 3
   },
   "file_extension": ".py",
   "mimetype": "text/x-python",
   "name": "python",
   "nbconvert_exporter": "python",
   "pygments_lexer": "ipython3",
   "version": "3.9.4"
  }
 },
 "nbformat": 4,
 "nbformat_minor": 5
}
