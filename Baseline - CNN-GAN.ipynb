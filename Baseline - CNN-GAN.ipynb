{
 "cells": [
  {
   "cell_type": "code",
   "execution_count": 1,
   "id": "a80a379b-932c-4401-8d76-b5ae5dedc6cc",
   "metadata": {},
   "outputs": [],
   "source": [
    "import os\n",
    "import random\n",
    "\n",
    "os.environ[\"CUDA_DEVICE_ORDER\"] = \"PCI_BUS_ID\";\n",
    "os.environ[\"CUDA_VISIBLE_DEVICES\"] = \"1\"\n",
    "os.environ[\"TF_FORCE_GPU_ALLOW_GROWTH\"] = \"true\""
   ]
  },
  {
   "cell_type": "code",
   "execution_count": 2,
   "id": "saving-behavior",
   "metadata": {},
   "outputs": [],
   "source": [
    "import numpy as np\n",
    "import pandas as pd\n",
    "import tensorflow as tf\n",
    "\n",
    "from evaluator import evaluate\n",
    "from data_loader import load_kdd_cup_urc, load_yahoo_A1, load_yahoo_A2, load_yahoo_A3, load_yahoo_A4, load_power_demand # Univariate Datasets\n",
    "from data_loader import load_nasa, load_ecg, load_gesture, load_smd # Multivariate Datasets\n",
    "\n",
    "from tensorflow import keras\n",
    "from tensorflow.keras import layers\n",
    "from tqdm.notebook import tqdm\n",
    "\n",
    "# THESE LINES ARE FOR REPRODUCIBILITY\n",
    "random.seed(0)\n",
    "np.random.seed(0)\n",
    "tf.random.set_seed(0)"
   ]
  },
  {
   "cell_type": "code",
   "execution_count": 3,
   "id": "49c0a8e3-705d-429b-b7a0-c3c26a3a7b2b",
   "metadata": {},
   "outputs": [],
   "source": [
    "def train_gan(gan, dataset, batch_size, codings_size, dim=1, n_epochs=50):\n",
    "    generator, discriminator = gan.layers\n",
    "    for epoch in range(n_epochs):\n",
    "        for X_batch in dataset:\n",
    "            X_batch = tf.cast(X_batch, tf.float32)\n",
    "            # phase 1 - training the discriminator\n",
    "            noise = tf.random.normal(shape=[batch_size, codings_size, dim])\n",
    "            generated_images = generator(noise)\n",
    "            X_fake_and_real = tf.concat([generated_images, X_batch], axis=0)\n",
    "            y1 = tf.constant([[0.]] * batch_size + [[1.]] * batch_size)\n",
    "            discriminator.trainable = True\n",
    "            discriminator.train_on_batch(X_fake_and_real, y1)\n",
    "            # phase 2 - training the generator\n",
    "            noise = tf.random.normal(shape=[batch_size, codings_size, dim])\n",
    "            y2 = tf.constant([[1.]] * batch_size)\n",
    "            discriminator.trainable = False\n",
    "            gan.train_on_batch(noise, y2)\n",
    "            \n",
    "def get_gan(x_train):\n",
    "    generator = keras.models.Sequential([\n",
    "        layers.InputLayer(input_shape=(x_train.shape[1], x_train.shape[2])),\n",
    "        keras.layers.Conv1D(128, kernel_size=3, padding='same', activation=keras.layers.LeakyReLU(0.2)),\n",
    "        keras.layers.MaxPool1D(3, padding='same'),\n",
    "        keras.layers.Conv1D(64, kernel_size=3, padding='same', activation=keras.layers.LeakyReLU(0.2)),\n",
    "        keras.layers.MaxPool1D(3, padding='same'),\n",
    "        keras.layers.BatchNormalization(),\n",
    "        keras.layers.Conv1DTranspose(64, kernel_size=5, strides=2, padding=\"SAME\", activation=\"selu\"),\n",
    "        keras.layers.BatchNormalization(),\n",
    "        layers.Flatten(),\n",
    "        layers.Dense(x_train.shape[1] * x_train.shape[2]),\n",
    "        layers.Reshape([x_train.shape[1], x_train.shape[2]])\n",
    "    ])\n",
    "\n",
    "    discriminator = keras.models.Sequential([\n",
    "        layers.InputLayer(input_shape=(x_train.shape[1], x_train.shape[2])),\n",
    "        keras.layers.Conv1D(64, kernel_size=5, strides=2, padding=\"SAME\", activation=keras.layers.LeakyReLU(0.2)),\n",
    "        keras.layers.Dropout(0.4),\n",
    "        keras.layers.Conv1D(128, kernel_size=5, strides=2, padding=\"SAME\", activation=keras.layers.LeakyReLU(0.2)),\n",
    "        keras.layers.Dropout(0.4),\n",
    "        keras.layers.Flatten(),\n",
    "        keras.layers.Dense(1, activation=\"sigmoid\")\n",
    "    ])\n",
    "\n",
    "    gan = keras.models.Sequential([generator, discriminator])\n",
    "\n",
    "    discriminator.compile(loss=\"binary_crossentropy\", optimizer=\"adam\")\n",
    "    discriminator.trainable = False\n",
    "    gan.compile(loss=\"binary_crossentropy\", optimizer=\"adam\")\n",
    "    return gan"
   ]
  },
  {
   "cell_type": "markdown",
   "id": "fa97c067-d18d-4c06-ae1b-2cbfe88788b6",
   "metadata": {},
   "source": [
    "### Yahoo S5"
   ]
  },
  {
   "cell_type": "code",
   "execution_count": 4,
   "id": "eight-partition",
   "metadata": {},
   "outputs": [],
   "source": [
    "total_scores = {'dataset': [], 'f1': [], 'pr_auc': [], 'roc_auc': []}"
   ]
  },
  {
   "cell_type": "code",
   "execution_count": 5,
   "id": "71866d92-1163-4975-bb99-4302ccda66c3",
   "metadata": {
    "scrolled": true,
    "tags": []
   },
   "outputs": [
    {
     "data": {
      "application/vnd.jupyter.widget-view+json": {
       "model_id": "7642db7c25d5489187614af8707c25be",
       "version_major": 2,
       "version_minor": 0
      },
      "text/plain": [
       "  0%|          | 0/67 [00:00<?, ?it/s]"
      ]
     },
     "metadata": {},
     "output_type": "display_data"
    },
    {
     "data": {
      "application/vnd.jupyter.widget-view+json": {
       "model_id": "8516999e3e5d4b039d9d31cb7e24b52b",
       "version_major": 2,
       "version_minor": 0
      },
      "text/plain": [
       "  0%|          | 0/56 [00:00<?, ?it/s]"
      ]
     },
     "metadata": {},
     "output_type": "display_data"
    },
    {
     "name": "stdout",
     "output_type": "stream",
     "text": [
      "yahoo_A1 0.666666577777783 0.24999997875000166 0.6666665777777873\n",
      "yahoo_A1 0.0 0.0 -0.0\n",
      "yahoo_A1 0.0 0.0 -0.0\n",
      "yahoo_A1 0.0 0.0 -0.0\n",
      "WARNING:tensorflow:5 out of the last 5 calls to <function Model.make_predict_function.<locals>.predict_function at 0x7fd8b871b700> triggered tf.function retracing. Tracing is expensive and the excessive number of tracings could be due to (1) creating @tf.function repeatedly in a loop, (2) passing tensors with different shapes, (3) passing Python objects instead of tensors. For (1), please define your @tf.function outside of the loop. For (2), @tf.function has experimental_relax_shapes=True option that relaxes argument shapes that can avoid unnecessary retracing. For (3), please refer to https://www.tensorflow.org/guide/function#controlling_retracing and https://www.tensorflow.org/api_docs/python/tf/function for  more details.\n",
      "yahoo_A1 0.0 0.0 -0.0\n",
      "WARNING:tensorflow:6 out of the last 6 calls to <function Model.make_predict_function.<locals>.predict_function at 0x7fd8b86a1310> triggered tf.function retracing. Tracing is expensive and the excessive number of tracings could be due to (1) creating @tf.function repeatedly in a loop, (2) passing tensors with different shapes, (3) passing Python objects instead of tensors. For (1), please define your @tf.function outside of the loop. For (2), @tf.function has experimental_relax_shapes=True option that relaxes argument shapes that can avoid unnecessary retracing. For (3), please refer to https://www.tensorflow.org/guide/function#controlling_retracing and https://www.tensorflow.org/api_docs/python/tf/function for  more details.\n",
      "yahoo_A1 0.0 0.0 -0.0\n",
      "yahoo_A1 0.0 0.0 -0.0\n",
      "yahoo_A1 0.9999999000000052 0.49999995000000386 0.9999999166666722\n",
      "yahoo_A1 0.9999999000000052 0.7499998875000145 0.9999999166666722\n",
      "yahoo_A1 0.9999998500000123 0.49999990000001493 0.9999998750000131\n",
      "yahoo_A1 0.9999999000000052 0.8333332265972362 0.9999998583333494\n",
      "yahoo_A1 0.39999995200000177 0.12499998437500164 -0.0\n",
      "yahoo_A1 0.9999998500000123 0.49999990000001493 0.9999998750000131\n",
      "yahoo_A1 0.0 0.0 -0.0\n",
      "yahoo_A1 0.33333329444444565 0.09999998800000123 -0.0\n",
      "yahoo_A1 0.0 0.0 -0.0\n",
      "yahoo_A1 0.7499999343750033 0.3194444278009265 -0.0\n",
      "yahoo_A1 0.6666666000000033 0.16666666527777654 -0.0\n",
      "yahoo_A1 0.6666666000000033 0.16666666527777654 -0.0\n",
      "yahoo_A1 0.7499999343750033 0.1666666744444422 -0.0\n",
      "yahoo_A1 0.0 0.0 -0.0\n",
      "yahoo_A1 0.0 0.0 -0.0\n",
      "yahoo_A1 0.9999999166666703 0.49999996666666835 0.9999999166666721\n",
      "yahoo_A1 0.9999999166666703 0.7499999166666752 0.9999999166666721\n",
      "yahoo_A1 0.0 0.0 -0.0\n",
      "yahoo_A1 0.8571427836734729 0.2500000034722198 -0.0\n",
      "yahoo_A1 0.9999998500000123 0.7499998583333551 0.9999998833333448\n",
      "yahoo_A1 0.6666666000000033 0.16666666527777654 -0.0\n",
      "yahoo_A1 0.4999999375000028 0.16666664444444684 -0.0\n",
      "yahoo_A1 0.0 0.0 -0.0\n",
      "yahoo_A1 0.9999999250000032 0.8749999218750064 0.0\n",
      "yahoo_A1 0.7999999200000041 0.24999999166666562 0.6666666111111148\n",
      "yahoo_A1 0.9999998500000123 0.49999990000001493 0.9999998750000131\n",
      "yahoo_A1 0.6666666000000033 0.16666666527777654 0.33333330555555735\n",
      "yahoo_A1 0.39999995200000177 0.12499998437500164 -0.0\n",
      "yahoo_A1 0.0 0.0 -0.0\n",
      "yahoo_A1 0.4999999375000028 0.16666664444444684 -0.0\n",
      "yahoo_A1 0.0 0.0 -0.0\n",
      "yahoo_A1 0.6666666000000033 0.16666666527777654 -0.0\n",
      "yahoo_A1 0.6666666000000033 0.16666666527777654 -0.0\n",
      "yahoo_A1 0.33333329444444565 0.09999998800000123 -0.0\n",
      "yahoo_A1 0.9999998500000123 0.49999994097223033 0.9999998000000299\n",
      "yahoo_A1 0.9999998500000123 0.7499998666666867 0.9999998000000299\n",
      "yahoo_A1 0.7499999343750033 0.1666666744444422 -0.0\n",
      "yahoo_A1 0.0 0.0 -0.0\n",
      "yahoo_A1 0.0 0.0 -0.0\n",
      "yahoo_A1 0.9999999000000052 0.49999995000000386 0.9999999166666722\n",
      "yahoo_A1 0.0 0.0 -0.0\n",
      "yahoo_A1 0.0 0.0 -0.0\n",
      "yahoo_A1 0.0 0.0 -0.0\n",
      "yahoo_A1 0.666666577777783 0.24999997875000166 0.6666665777777874\n",
      "yahoo_A1 0.9999999000000052 0.4999999500000039 0.9999999166666721\n",
      "yahoo_A1 0.0 0.0 -0.0\n",
      "yahoo_A1 0.9999998500000123 0.49999990000001493 0.9999998750000131\n",
      "yahoo_A1 0.9999999000000052 0.49999995000000386 0.9999999166666722\n",
      "yahoo_A1 0.5714285142857172 0.1250000006249989 -0.0\n"
     ]
    },
    {
     "data": {
      "application/vnd.jupyter.widget-view+json": {
       "model_id": "31bfe01bc6464c97a8b94d0709685f1e",
       "version_major": 2,
       "version_minor": 0
      },
      "text/plain": [
       "  0%|          | 0/100 [00:00<?, ?it/s]"
      ]
     },
     "metadata": {},
     "output_type": "display_data"
    },
    {
     "data": {
      "application/vnd.jupyter.widget-view+json": {
       "model_id": "d18124cc676441a981922460618e74ef",
       "version_major": 2,
       "version_minor": 0
      },
      "text/plain": [
       "  0%|          | 0/100 [00:00<?, ?it/s]"
      ]
     },
     "metadata": {},
     "output_type": "display_data"
    },
    {
     "name": "stdout",
     "output_type": "stream",
     "text": [
      "yahoo_A2 0.46153841893491365 0.06250000600115631 -0.0\n",
      "yahoo_A2 0.3636363272727291 0.0625000016493049 -0.0\n",
      "yahoo_A2 0.46153841893491365 0.06250000600115631 -0.0\n",
      "yahoo_A2 0.24999997187500062 0.07142856326530694 0.3124999648437535\n",
      "yahoo_A2 0.0 0.0 -0.0\n",
      "yahoo_A2 0.46153841893491365 0.06250000600115631 -0.0\n",
      "yahoo_A2 0.4285713887755125 0.05555556109988678 -0.0\n",
      "yahoo_A2 0.24999997187500062 0.07142856326530694 -0.0\n",
      "yahoo_A2 0.3636363272727291 0.0625000016493049 -0.0\n",
      "yahoo_A2 0.3636363272727291 0.07142857194586114 0.24999997812500177\n",
      "yahoo_A2 0.0 0.0 -0.0\n",
      "yahoo_A2 0.46153841893491365 0.06250000600115631 -0.0\n",
      "yahoo_A2 0.4285713887755125 0.05555556109988678 -0.0\n",
      "yahoo_A2 0.4285713887755125 0.0833333353282822 0.3749999578125042\n",
      "yahoo_A2 0.0 0.0 -0.0\n",
      "yahoo_A2 0.2222221975308647 0.06249999296875071 -0.0\n",
      "yahoo_A2 0.4285713887755125 0.055555562177327655 -0.0\n",
      "yahoo_A2 0.0 0.0 -0.0\n",
      "yahoo_A2 0.3636363272727291 0.0625000016493049 -0.0\n",
      "yahoo_A2 0.4285713887755125 0.12797618728229346 0.31249997630208515\n",
      "yahoo_A2 0.0 0.0 -0.0\n",
      "yahoo_A2 0.46153841893491365 0.06250000600115631 -0.0\n",
      "yahoo_A2 0.4285713887755125 0.05555556109988678 -0.0\n",
      "yahoo_A2 0.0 0.0 -0.0\n",
      "yahoo_A2 0.0 0.0 -0.0\n",
      "yahoo_A2 0.3636363272727291 0.0625000016493049 -0.0\n",
      "yahoo_A2 0.4999999500000025 0.16666665949494971 0.49999996875000174\n",
      "yahoo_A2 0.0 0.0 -0.0\n",
      "yahoo_A2 0.46153841893491365 0.09821428629452428 0.07142856683673492\n",
      "yahoo_A2 0.4285713887755125 0.05555556109988678 -0.0\n",
      "yahoo_A2 0.0 0.0 -0.0\n",
      "yahoo_A2 0.3636363272727291 0.0625000016493049 -0.0\n",
      "yahoo_A2 0.4285713887755125 0.05555556109988678 -0.0\n",
      "yahoo_A2 0.0 0.0 -0.0\n",
      "yahoo_A2 0.3636363272727291 0.0625000016493049 -0.0\n",
      "yahoo_A2 0.46153841893491365 0.06250000600115631 -0.0\n",
      "yahoo_A2 0.4285713887755125 0.05555556109988678 -0.0\n",
      "yahoo_A2 0.24999997187500062 0.07142856326530694 -0.0\n",
      "yahoo_A2 0.3636363272727291 0.11111110432098803 -0.0\n",
      "yahoo_A2 0.4285713887755125 0.05555556109988678 -0.0\n",
      "yahoo_A2 0.0 0.0 -0.0\n",
      "yahoo_A2 0.46153841893491365 0.06250000600115631 -0.0\n",
      "yahoo_A2 0.4285713887755125 0.05555556109988678 -0.0\n",
      "yahoo_A2 0.24999997187500062 0.07142856326530694 -0.0\n",
      "yahoo_A2 0.46153841893491365 0.06250000600115631 -0.0\n",
      "yahoo_A2 0.4285713887755125 0.05555556109988678 -0.0\n",
      "yahoo_A2 0.4285713887755125 0.09999999793939388 -0.0\n",
      "yahoo_A2 0.0 0.0 -0.0\n",
      "yahoo_A2 0.2222221975308647 0.06249999296875071 -0.0\n",
      "yahoo_A2 0.4285713887755125 0.05555556109988678 -0.0\n",
      "yahoo_A2 0.0 0.0 -0.0\n",
      "yahoo_A2 0.3636363272727291 0.0625000016493049 -0.0\n",
      "yahoo_A2 0.4285713887755125 0.055555562177327655 -0.0\n",
      "yahoo_A2 0.24999997187500062 0.07142856326530694 -0.0\n",
      "yahoo_A2 0.46153841893491365 0.06250000600115631 -0.0\n",
      "yahoo_A2 0.4285713887755125 0.09999999793939388 -0.0\n",
      "yahoo_A2 0.24999997187500062 0.07142856326530694 -0.0\n",
      "yahoo_A2 0.0 0.0 -0.0\n",
      "yahoo_A2 0.3636363272727291 0.0625000016493049 -0.0\n",
      "yahoo_A2 0.4285713887755125 0.05555556109988678 -0.0\n",
      "yahoo_A2 0.24999997187500062 0.07142856326530694 -0.0\n",
      "yahoo_A2 0.3636363272727291 0.0625000016493049 -0.0\n",
      "yahoo_A2 0.4285713887755125 0.05555556109988678 -0.0\n",
      "yahoo_A2 0.0 0.0 -0.0\n",
      "yahoo_A2 0.3636363272727291 0.0625000016493049 -0.0\n",
      "yahoo_A2 0.4285713887755125 0.08333333440235645 0.0312499980468751\n",
      "yahoo_A2 0.0 0.0 -0.0\n",
      "yahoo_A2 0.46153841893491365 0.06250000600115631 -0.0\n",
      "yahoo_A2 0.3636363272727291 0.0625000016493049 -0.0\n",
      "yahoo_A2 0.4285713887755125 0.06250000468592082 0.12499998593750138\n",
      "yahoo_A2 0.24999997187500062 0.07142856326530694 -0.0\n",
      "yahoo_A2 0.3636363272727291 0.0625000016493049 -0.0\n",
      "yahoo_A2 0.33333330000000166 0.055555557160493235 -0.0\n",
      "yahoo_A2 0.24999997187500062 0.07142856326530694 -0.0\n",
      "yahoo_A2 0.2222221975308647 0.06249999296875071 -0.0\n",
      "yahoo_A2 0.9999998500000123 0.8333331719949745 0.9999999093750079\n",
      "yahoo_A2 0.24999997187500062 0.07142856326530694 -0.0\n",
      "yahoo_A2 0.46153841893491365 0.06250000600115631 -0.0\n",
      "yahoo_A2 0.4285713887755125 0.05555556109988678 -0.0\n",
      "yahoo_A2 0.33333330000000166 0.055555557160493235 -0.0\n",
      "yahoo_A2 0.24999997187500062 0.07142856326530694 -0.0\n",
      "yahoo_A2 0.46153841893491365 0.06250000600115631 -0.0\n",
      "yahoo_A2 0.4285713887755125 0.05555556109988678 -0.0\n",
      "yahoo_A2 0.24999997187500062 0.07142856326530694 -0.0\n",
      "yahoo_A2 0.46153841893491365 0.06250000600115631 -0.0\n",
      "yahoo_A2 0.4285713887755125 0.05555556109988678 -0.0\n",
      "yahoo_A2 0.0 0.0 -0.0\n",
      "yahoo_A2 0.3636363272727291 0.0625000016493049 -0.0\n",
      "yahoo_A2 0.4285713887755125 0.06250000576336169 0.18749997890625206\n",
      "yahoo_A2 0.24999997187500062 0.07142856326530694 -0.0\n",
      "yahoo_A2 0.24999997187500062 0.07142856326530694 -0.0\n",
      "yahoo_A2 0.3636363272727291 0.0625000016493049 -0.0\n",
      "yahoo_A2 0.4285713887755125 0.05555556109988678 -0.0\n",
      "yahoo_A2 0.24999997187500062 0.07142856326530694 -0.0\n",
      "yahoo_A2 0.46153841893491365 0.06250000600115631 -0.0\n",
      "yahoo_A2 0.33333330000000166 0.055555557160493235 0.12499998593750138\n",
      "yahoo_A2 0.0 0.0 -0.0\n",
      "yahoo_A2 0.46153841893491365 0.06250000600115631 -0.0\n",
      "yahoo_A2 0.33333330000000166 0.055555557160493235 -0.0\n",
      "yahoo_A2 0.24999997187500062 0.07142856326530694 -0.0\n"
     ]
    },
    {
     "data": {
      "application/vnd.jupyter.widget-view+json": {
       "model_id": "6483b5caf127497580d1b936088adacf",
       "version_major": 2,
       "version_minor": 0
      },
      "text/plain": [
       "  0%|          | 0/100 [00:00<?, ?it/s]"
      ]
     },
     "metadata": {},
     "output_type": "display_data"
    },
    {
     "data": {
      "application/vnd.jupyter.widget-view+json": {
       "model_id": "df65daee9b2641ba95feddf89967d495",
       "version_major": 2,
       "version_minor": 0
      },
      "text/plain": [
       "  0%|          | 0/92 [00:00<?, ?it/s]"
      ]
     },
     "metadata": {},
     "output_type": "display_data"
    },
    {
     "name": "stdout",
     "output_type": "stream",
     "text": [
      "yahoo_A3 0.33333329444444565 0.09999998800000123 -0.0\n",
      "yahoo_A3 0.33333329444444565 0.09999998800000123 -0.0\n",
      "yahoo_A3 0.7499999343750033 0.16666667444444216 -0.0\n",
      "yahoo_A3 0.33333329444444565 0.09999998800000123 -0.0\n",
      "yahoo_A3 0.7999999200000041 0.24999999166666562 -0.0\n",
      "yahoo_A3 0.33333329444444565 0.09999998800000123 -0.0\n",
      "yahoo_A3 0.6666666000000033 0.16666666527777654 -0.0\n",
      "yahoo_A3 0.5714285142857172 0.1250000006249989 -0.0\n",
      "yahoo_A3 0.0 0.0 -0.0\n",
      "yahoo_A3 0.9999999000000052 0.49999995000000386 0.0\n",
      "yahoo_A3 0.7999999200000041 0.24999999166666562 -0.0\n",
      "yahoo_A3 0.8571427836734729 0.2500000034722198 -0.0\n",
      "yahoo_A3 0.28571425306122533 0.08333332361111209 -0.0\n",
      "yahoo_A3 0.6666666000000033 0.16666666527777654 -0.0\n",
      "yahoo_A3 0.28571425306122533 0.08333332361111209 -0.0\n",
      "yahoo_A3 0.8571427836734729 0.2500000034722198 -0.0\n",
      "yahoo_A3 0.33333329444444565 0.09999998800000123 -0.0\n",
      "yahoo_A3 0.4999999500000025 0.10000000133333238 -0.0\n",
      "yahoo_A3 0.39999995200000177 0.12499998437500164 -0.0\n",
      "yahoo_A3 0.28571425306122533 0.08333332361111209 -0.0\n",
      "yahoo_A3 0.0 0.0 -0.0\n",
      "yahoo_A3 0.5714285142857172 0.1250000006249989 -0.0\n",
      "yahoo_A3 0.9090908429752097 0.2500000140138856 -0.0\n",
      "yahoo_A3 0.28571425306122533 0.08333332361111209 -0.0\n",
      "yahoo_A3 0.33333329444444565 0.09999998800000123 -0.0\n",
      "yahoo_A3 0.5714285142857172 0.1250000006249989 -0.0\n",
      "yahoo_A3 0.33333329444444565 0.09999998800000123 -0.0\n",
      "yahoo_A3 0.33333329444444565 0.09999998800000123 -0.0\n",
      "yahoo_A3 0.6666666074074105 0.1250000081249981 -0.0\n",
      "yahoo_A3 0.7999999360000031 0.16666667972221952 -0.0\n",
      "yahoo_A3 0.9999999000000052 0.8749998656250171 0.0\n",
      "yahoo_A3 0.9999999000000052 0.49999995000000386 0.0\n",
      "yahoo_A3 0.7499999343750033 0.16666667444444216 -0.0\n",
      "yahoo_A3 0.666666577777783 0.2499999625000044 -0.0\n",
      "yahoo_A3 0.4999999375000028 0.16666664444444684 -0.0\n",
      "yahoo_A3 0.7999999200000041 0.24999999166666562 -0.0\n",
      "yahoo_A3 0.7999999200000041 0.24999999166666562 -0.0\n",
      "yahoo_A3 0.7499999343750033 0.24999999041666673 -0.0\n",
      "yahoo_A3 0.5714285142857172 0.1250000006249989 -0.0\n",
      "yahoo_A3 0.8888888197530895 0.25000000993055255 -0.0\n",
      "yahoo_A3 0.0 0.0 -0.0\n",
      "yahoo_A3 0.9999999000000052 0.49999995000000386 0.0\n",
      "yahoo_A3 0.28571425306122533 0.08333332361111209 -0.0\n",
      "yahoo_A3 0.0 0.0 -0.0\n",
      "yahoo_A3 0.8888888197530895 0.4166666460416676 -0.0\n",
      "yahoo_A3 0.8888888197530895 0.25000000993055255 -0.0\n",
      "yahoo_A3 0.9999999250000032 0.4999999750000009 0.0\n",
      "yahoo_A3 0.7499999343750033 0.1666666744444422 -0.0\n",
      "yahoo_A3 0.0 0.0 -0.0\n",
      "yahoo_A3 0.33333329444444565 0.09999998800000123 -0.0\n",
      "yahoo_A3 0.5714285142857172 0.1250000006249989 -0.0\n",
      "yahoo_A3 0.4999999375000028 0.16666664444444684 0.33333328888889363\n",
      "yahoo_A3 0.4999999375000028 0.16666664444444684 -0.0\n",
      "yahoo_A3 0.666666577777783 0.2499999625000044 -0.0\n",
      "yahoo_A3 0.7499999343750033 0.24999999041666673 -0.0\n",
      "yahoo_A3 0.0 0.0 -0.0\n",
      "yahoo_A3 0.8571427836734729 0.2500000034722198 -0.0\n",
      "yahoo_A3 0.0 0.0 -0.0\n",
      "yahoo_A3 0.9999998500000123 0.49999994097223033 0.9999998000000299\n",
      "yahoo_A3 0.8571427836734729 0.2500000034722198 -0.0\n",
      "yahoo_A3 0.6666666000000033 0.16666666527777654 -0.0\n",
      "yahoo_A3 0.7999999200000041 0.24999999166666562 -0.0\n",
      "yahoo_A3 0.0 0.0 -0.0\n",
      "yahoo_A3 0.7499999343750033 0.277777767037037 0.08333332638888935\n",
      "yahoo_A3 0.7999999360000031 0.1666666798611084 -0.0\n",
      "yahoo_A3 0.6666666000000033 0.16666666527777654 -0.0\n",
      "yahoo_A3 0.6666666074074105 0.1250000081249981 -0.0\n",
      "yahoo_A3 0.999999930000003 0.8999998920000143 0.0\n",
      "yahoo_A3 0.666666577777783 0.2499999625000044 -0.0\n",
      "yahoo_A3 0.0 0.0 -0.0\n",
      "yahoo_A3 0.5714285142857172 0.1250000006249989 -0.0\n",
      "yahoo_A3 0.39999995200000177 0.12499998437500164 -0.0\n",
      "yahoo_A3 0.7499999343750033 0.1666666744444422 -0.0\n",
      "yahoo_A3 0.6666666074074105 0.1250000081249981 -0.0\n",
      "yahoo_A3 0.33333329444444565 0.09999998800000123 -0.0\n",
      "yahoo_A3 0.4999999500000025 0.12499999770833278 0.24999996875000327\n",
      "yahoo_A3 0.6666666000000033 0.16666666527777654 -0.0\n",
      "yahoo_A3 0.39999995200000177 0.12499998437500164 -0.0\n",
      "yahoo_A3 0.33333329444444565 0.09999998800000123 -0.0\n",
      "yahoo_A3 0.7999999200000041 0.24999999166666562 -0.0\n",
      "yahoo_A3 0.8571427836734729 0.2500000034722198 -0.0\n",
      "yahoo_A3 0.4999999375000028 0.16666664444444684 -0.0\n",
      "yahoo_A3 0.7999999200000041 0.24999999166666562 -0.0\n",
      "yahoo_A3 0.39999995200000177 0.12499998437500164 -0.0\n",
      "yahoo_A3 0.4999999500000025 0.10000000133333238 -0.0\n",
      "yahoo_A3 0.5714285142857172 0.1250000006249989 -0.0\n",
      "yahoo_A3 0.5714285142857172 0.1250000006249989 -0.0\n",
      "yahoo_A3 0.8571427836734729 0.41666663958333483 -0.0\n",
      "yahoo_A3 0.5714285142857172 0.1250000006249989 -0.0\n",
      "yahoo_A3 0.5714285142857172 0.1250000006249989 -0.0\n",
      "yahoo_A3 0.6666666074074105 0.1250000081249981 -0.0\n",
      "yahoo_A3 0.6666666000000033 0.2499999833333341 0.7499999312500055\n"
     ]
    },
    {
     "data": {
      "application/vnd.jupyter.widget-view+json": {
       "model_id": "502fda53cadf41eab5f1723a23c917c9",
       "version_major": 2,
       "version_minor": 0
      },
      "text/plain": [
       "  0%|          | 0/100 [00:00<?, ?it/s]"
      ]
     },
     "metadata": {},
     "output_type": "display_data"
    },
    {
     "data": {
      "application/vnd.jupyter.widget-view+json": {
       "model_id": "9ab20b1997d64ffebb7b4f015ea5ce83",
       "version_major": 2,
       "version_minor": 0
      },
      "text/plain": [
       "  0%|          | 0/82 [00:00<?, ?it/s]"
      ]
     },
     "metadata": {},
     "output_type": "display_data"
    },
    {
     "name": "stdout",
     "output_type": "stream",
     "text": [
      "yahoo_A4 0.39999995200000177 0.12499998437500164 -0.0\n",
      "yahoo_A4 0.33333329444444565 0.09999998800000123 -0.0\n",
      "yahoo_A4 0.39999995200000177 0.12499998437500164 -0.0\n",
      "yahoo_A4 0.4999999500000025 0.10000000133333238 0.12499998437500164\n",
      "yahoo_A4 0.7999999200000041 0.24999999166666562 -0.0\n",
      "yahoo_A4 0.7999999360000031 0.16666667972221952 -0.0\n",
      "yahoo_A4 0.4999999500000025 0.10000000133333238 -0.0\n",
      "yahoo_A4 0.4999999500000025 0.10000000133333238 -0.0\n",
      "yahoo_A4 0.8571427836734729 0.2500000034722198 -0.0\n",
      "yahoo_A4 0.4999999375000028 0.16666664444444684 -0.0\n",
      "yahoo_A4 0.9090908429752097 0.2500000140138856 -0.0\n",
      "yahoo_A4 0.6666666074074105 0.1250000081249981 -0.0\n",
      "yahoo_A4 0.39999995200000177 0.12499998437500164 -0.0\n",
      "yahoo_A4 0.28571425306122533 0.08333332361111209 -0.0\n",
      "yahoo_A4 0.28571425306122533 0.08333332361111209 -0.0\n",
      "yahoo_A4 0.39999995200000177 0.20833330451389204 0.43749995468750413\n",
      "yahoo_A4 0.7999999200000041 0.24999999166666562 0.49999990000001493\n",
      "yahoo_A4 0.4999999375000028 0.16666664444444684 -0.0\n",
      "yahoo_A4 0.9999999250000032 0.49999997500000093 0.0\n",
      "yahoo_A4 0.7999999200000041 0.24999999166666562 -0.0\n",
      "yahoo_A4 0.0 0.0 -0.0\n",
      "yahoo_A4 0.7999999360000031 0.16666668083333042 -0.0\n",
      "yahoo_A4 0.0 0.0 -0.0\n",
      "yahoo_A4 0.33333329444444565 0.09999998800000123 -0.0\n",
      "yahoo_A4 0.6666666074074105 0.1250000081249981 -0.0\n",
      "yahoo_A4 0.7499999343750033 0.1666666744444422 -0.0\n",
      "yahoo_A4 0.9999999166666703 0.4999999666666683 0.0\n",
      "yahoo_A4 0.4999999500000025 0.10000000133333238 -0.0\n",
      "yahoo_A4 0.8571427836734729 0.2500000034722198 -0.0\n",
      "yahoo_A4 0.999999930000003 0.749999917500011 0.0\n",
      "yahoo_A4 0.28571425306122533 0.08333332361111209 -0.0\n",
      "yahoo_A4 0.5714285142857172 0.1250000006249989 -0.0\n",
      "yahoo_A4 0.33333329444444565 0.09999998800000123 -0.0\n",
      "yahoo_A4 0.4999999500000025 0.10000000133333238 -0.0\n",
      "yahoo_A4 0.7499999343750033 0.16666667444444216 -0.0\n",
      "yahoo_A4 0.8888888197530895 0.25000000993055255 -0.0\n",
      "yahoo_A4 0.6666666000000033 0.16666666527777654 -0.0\n",
      "yahoo_A4 0.8571427836734729 0.2500000034722198 -0.0\n",
      "yahoo_A4 0.0 0.0 -0.0\n",
      "yahoo_A4 0.5714285142857172 0.1250000006249989 -0.0\n",
      "yahoo_A4 0.8888888197530895 0.25000000993055255 -0.0\n",
      "yahoo_A4 0.0 0.0 -0.0\n",
      "yahoo_A4 0.7499999343750033 0.1666666744444422 -0.0\n",
      "yahoo_A4 0.4999999500000025 0.10000000133333238 -0.0\n",
      "yahoo_A4 0.4999999500000025 0.10000000133333238 -0.0\n",
      "yahoo_A4 0.33333329444444565 0.09999998800000123 -0.0\n",
      "yahoo_A4 0.5714285142857172 0.1250000006249989 -0.0\n",
      "yahoo_A4 0.0 0.0 -0.0\n",
      "yahoo_A4 0.7999999360000031 0.16666667972221952 -0.0\n",
      "yahoo_A4 0.4999999375000028 0.16666664444444684 -0.0\n",
      "yahoo_A4 0.7999999360000031 0.2916666588888887 0.24999997500000196\n",
      "yahoo_A4 0.7499999343750033 0.16666667444444216 -0.0\n",
      "yahoo_A4 0.0 0.0 -0.0\n",
      "yahoo_A4 0.0 0.0 -0.0\n",
      "yahoo_A4 0.8571427836734729 0.2500000034722198 -0.0\n",
      "yahoo_A4 0.6666666074074105 0.1250000081249981 -0.0\n",
      "yahoo_A4 0.39999995200000177 0.12499998437500164 -0.0\n",
      "yahoo_A4 0.4999999500000025 0.10000000133333238 -0.0\n",
      "yahoo_A4 0.33333329444444565 0.09999998800000123 -0.0\n",
      "yahoo_A4 0.4999999375000028 0.16666664444444684 -0.0\n",
      "yahoo_A4 0.5714285142857172 0.1250000006249989 -0.0\n",
      "yahoo_A4 0.7499999343750033 0.1666666744444422 -0.0\n",
      "yahoo_A4 0.4999999375000028 0.16666664444444684 -0.0\n",
      "yahoo_A4 0.7499999343750033 0.1666666744444422 -0.0\n",
      "yahoo_A4 0.0 0.0 -0.0\n",
      "yahoo_A4 0.5714285142857172 0.2222222083796301 0.1666666555555561\n",
      "yahoo_A4 0.39999995200000177 0.12499998437500164 -0.0\n",
      "yahoo_A4 0.33333329444444565 0.09999998800000123 -0.0\n",
      "yahoo_A4 0.6666666074074105 0.1250000081249981 -0.0\n",
      "yahoo_A4 0.7999999360000031 0.16666667972221952 -0.0\n",
      "yahoo_A4 0.0 0.0 -0.0\n",
      "yahoo_A4 0.9090908429752097 0.2500000140138856 -0.0\n",
      "yahoo_A4 0.666666577777783 0.2499999625000044 -0.0\n",
      "yahoo_A4 0.7499999343750033 0.1666666744444422 -0.0\n",
      "yahoo_A4 0.6666666000000033 0.16666666527777654 -0.0\n",
      "yahoo_A4 0.9999998500000123 0.7499998890139067 0.9999998000000299\n",
      "yahoo_A4 0.6666666074074105 0.1250000081249981 -0.0\n",
      "yahoo_A4 0.5714285142857172 0.1250000006249989 -0.0\n",
      "yahoo_A4 0.6666666000000033 0.16666666527777654 -0.0\n",
      "yahoo_A4 0.6666666000000033 0.16666666527777654 -0.0\n",
      "yahoo_A4 0.8571427836734729 0.2500000034722198 -0.0\n",
      "yahoo_A4 0.0 0.0 -0.0\n"
     ]
    }
   ],
   "source": [
    "for loader in [load_yahoo_A1, load_yahoo_A2, load_yahoo_A3, load_yahoo_A4]:\n",
    "    datasets = loader(128, 64)\n",
    "    x_trains, x_tests, y_tests = datasets['x_train'], datasets['x_test'], datasets['y_test']\n",
    "    \n",
    "    for i in tqdm(range(len(x_trains))):\n",
    "        tf.keras.backend.clear_session()\n",
    "\n",
    "        X_train = x_trains[i]\n",
    "        X_test = x_tests[i]\n",
    "        \n",
    "        gan = get_gan(X_train)\n",
    "        dataset = tf.data.Dataset.from_tensor_slices(X_train)\n",
    "        dataset = dataset.batch(128, drop_remainder=True).prefetch(1)\n",
    "\n",
    "        train_gan(gan, dataset, 128, X_train.shape[1], X_train.shape[2])\n",
    "        \n",
    "        X_test_rec = gan.layers[0].predict(X_test)\n",
    "        scores = evaluate(X_test, X_test_rec, y_tests[i], is_reconstructed=True)\n",
    "    \n",
    "        total_scores['dataset'].append(loader.__name__.replace('load_', ''))\n",
    "        total_scores['f1'].append(np.max(scores['f1']))\n",
    "        total_scores['pr_auc'].append(scores['pr_auc'])\n",
    "        total_scores['roc_auc'].append(scores['roc_auc'])\n",
    "        print(loader.__name__.replace('load_', ''), np.max(scores['f1']), scores['pr_auc'], scores['roc_auc'])   "
   ]
  },
  {
   "cell_type": "code",
   "execution_count": 6,
   "id": "bd9e37fd-124c-4f5c-8f1f-a9d61a4b0315",
   "metadata": {},
   "outputs": [
    {
     "data": {
      "text/html": [
       "<div>\n",
       "<style scoped>\n",
       "    .dataframe tbody tr th:only-of-type {\n",
       "        vertical-align: middle;\n",
       "    }\n",
       "\n",
       "    .dataframe tbody tr th {\n",
       "        vertical-align: top;\n",
       "    }\n",
       "\n",
       "    .dataframe thead th {\n",
       "        text-align: right;\n",
       "    }\n",
       "</style>\n",
       "<table border=\"1\" class=\"dataframe\">\n",
       "  <thead>\n",
       "    <tr style=\"text-align: right;\">\n",
       "      <th></th>\n",
       "      <th>f1</th>\n",
       "      <th>pr_auc</th>\n",
       "      <th>roc_auc</th>\n",
       "    </tr>\n",
       "    <tr>\n",
       "      <th>dataset</th>\n",
       "      <th></th>\n",
       "      <th></th>\n",
       "      <th></th>\n",
       "    </tr>\n",
       "  </thead>\n",
       "  <tbody>\n",
       "    <tr>\n",
       "      <th>yahoo_A1</th>\n",
       "      <td>0.504974</td>\n",
       "      <td>0.236954</td>\n",
       "      <td>0.309524</td>\n",
       "    </tr>\n",
       "    <tr>\n",
       "      <th>yahoo_A2</th>\n",
       "      <td>0.314171</td>\n",
       "      <td>0.062655</td>\n",
       "      <td>0.032902</td>\n",
       "    </tr>\n",
       "    <tr>\n",
       "      <th>yahoo_A3</th>\n",
       "      <td>0.573313</td>\n",
       "      <td>0.187258</td>\n",
       "      <td>0.026268</td>\n",
       "    </tr>\n",
       "    <tr>\n",
       "      <th>yahoo_A4</th>\n",
       "      <td>0.553464</td>\n",
       "      <td>0.162568</td>\n",
       "      <td>0.030234</td>\n",
       "    </tr>\n",
       "  </tbody>\n",
       "</table>\n",
       "</div>"
      ],
      "text/plain": [
       "                f1    pr_auc   roc_auc\n",
       "dataset                               \n",
       "yahoo_A1  0.504974  0.236954  0.309524\n",
       "yahoo_A2  0.314171  0.062655  0.032902\n",
       "yahoo_A3  0.573313  0.187258  0.026268\n",
       "yahoo_A4  0.553464  0.162568  0.030234"
      ]
     },
     "execution_count": 6,
     "metadata": {},
     "output_type": "execute_result"
    }
   ],
   "source": [
    "yahoo_results = pd.DataFrame(total_scores)\n",
    "yahoo_results.groupby('dataset').mean()"
   ]
  },
  {
   "cell_type": "markdown",
   "id": "8890a678-6116-4222-b0ff-395fcd7f41aa",
   "metadata": {},
   "source": [
    "### NASA"
   ]
  },
  {
   "cell_type": "code",
   "execution_count": 7,
   "id": "e4387a80-585a-488e-94a8-546f42d47632",
   "metadata": {},
   "outputs": [],
   "source": [
    "total_scores = {'dataset': [], 'f1': [], 'pr_auc': [], 'roc_auc': []}"
   ]
  },
  {
   "cell_type": "code",
   "execution_count": 8,
   "id": "106a238d-c5cb-49e9-9764-b1bc37f09436",
   "metadata": {},
   "outputs": [
    {
     "data": {
      "application/vnd.jupyter.widget-view+json": {
       "model_id": "e4f5512c25284bb2976af2dd2516e6b2",
       "version_major": 2,
       "version_minor": 0
      },
      "text/plain": [
       "  0%|          | 0/2 [00:00<?, ?it/s]"
      ]
     },
     "metadata": {},
     "output_type": "display_data"
    },
    {
     "data": {
      "application/vnd.jupyter.widget-view+json": {
       "model_id": "7c22099254454f8bab850e1efdbbbd7b",
       "version_major": 2,
       "version_minor": 0
      },
      "text/plain": [
       "  0%|          | 0/2 [00:00<?, ?it/s]"
      ]
     },
     "metadata": {},
     "output_type": "display_data"
    },
    {
     "name": "stdout",
     "output_type": "stream",
     "text": [
      "D1 0.261768477932986 0.13566182676713515 0.528350196170301\n",
      "D2 0.28464975199693254 0.3043227591117296 0.5233555679794182\n"
     ]
    }
   ],
   "source": [
    "for loader in [load_nasa]:\n",
    "    datasets = loader(128, 64)\n",
    "    x_trains, x_tests, y_tests = datasets['x_train'], datasets['x_test'], datasets['y_test']\n",
    "    \n",
    "    for i in tqdm(range(len(x_trains))):\n",
    "        tf.keras.backend.clear_session()\n",
    "\n",
    "        X_train = x_trains[i]\n",
    "        X_test = x_tests[i]\n",
    "        \n",
    "        gan = get_gan(X_train)\n",
    "        dataset = tf.data.Dataset.from_tensor_slices(X_train)\n",
    "        dataset = dataset.batch(128, drop_remainder=True).prefetch(1)\n",
    "\n",
    "        train_gan(gan, dataset, 128, X_train.shape[1], X_train.shape[2])\n",
    "        \n",
    "        X_test_rec = gan.layers[0].predict(X_test)\n",
    "        scores = evaluate(X_test, X_test_rec, y_tests[i], is_reconstructed=True)\n",
    "        \n",
    "        total_scores['dataset'].append(f'D{i+1}')\n",
    "        total_scores['f1'].append(np.max(scores['f1']))\n",
    "        total_scores['pr_auc'].append(scores['pr_auc'])\n",
    "        total_scores['roc_auc'].append(scores['roc_auc'])\n",
    "        print(f'D{i+1}', np.max(scores['f1']), scores['pr_auc'], scores['roc_auc'])   "
   ]
  },
  {
   "cell_type": "code",
   "execution_count": 9,
   "id": "abb7a6a5-3924-4a33-bc54-871559819602",
   "metadata": {},
   "outputs": [
    {
     "data": {
      "text/html": [
       "<div>\n",
       "<style scoped>\n",
       "    .dataframe tbody tr th:only-of-type {\n",
       "        vertical-align: middle;\n",
       "    }\n",
       "\n",
       "    .dataframe tbody tr th {\n",
       "        vertical-align: top;\n",
       "    }\n",
       "\n",
       "    .dataframe thead th {\n",
       "        text-align: right;\n",
       "    }\n",
       "</style>\n",
       "<table border=\"1\" class=\"dataframe\">\n",
       "  <thead>\n",
       "    <tr style=\"text-align: right;\">\n",
       "      <th></th>\n",
       "      <th>f1</th>\n",
       "      <th>pr_auc</th>\n",
       "      <th>roc_auc</th>\n",
       "    </tr>\n",
       "    <tr>\n",
       "      <th>dataset</th>\n",
       "      <th></th>\n",
       "      <th></th>\n",
       "      <th></th>\n",
       "    </tr>\n",
       "  </thead>\n",
       "  <tbody>\n",
       "    <tr>\n",
       "      <th>D1</th>\n",
       "      <td>0.261768</td>\n",
       "      <td>0.135662</td>\n",
       "      <td>0.528350</td>\n",
       "    </tr>\n",
       "    <tr>\n",
       "      <th>D2</th>\n",
       "      <td>0.284650</td>\n",
       "      <td>0.304323</td>\n",
       "      <td>0.523356</td>\n",
       "    </tr>\n",
       "  </tbody>\n",
       "</table>\n",
       "</div>"
      ],
      "text/plain": [
       "               f1    pr_auc   roc_auc\n",
       "dataset                              \n",
       "D1       0.261768  0.135662  0.528350\n",
       "D2       0.284650  0.304323  0.523356"
      ]
     },
     "execution_count": 9,
     "metadata": {},
     "output_type": "execute_result"
    }
   ],
   "source": [
    "nasa_results = pd.DataFrame(total_scores)\n",
    "nasa_results.groupby('dataset').mean()"
   ]
  },
  {
   "cell_type": "markdown",
   "id": "41754734-5c75-4caf-9069-fb3b39c7a0da",
   "metadata": {},
   "source": [
    "### SMD"
   ]
  },
  {
   "cell_type": "code",
   "execution_count": 10,
   "id": "60a26807-8359-42d4-82b4-9e1d37b6acaa",
   "metadata": {},
   "outputs": [],
   "source": [
    "total_scores = {'dataset': [], 'f1': [], 'pr_auc': [], 'roc_auc': []}"
   ]
  },
  {
   "cell_type": "code",
   "execution_count": 11,
   "id": "41af318e-1b08-4cc9-a680-6b4a978544f2",
   "metadata": {},
   "outputs": [
    {
     "data": {
      "application/vnd.jupyter.widget-view+json": {
       "model_id": "cc2a41b7dd65445791f7145e738e4cd2",
       "version_major": 2,
       "version_minor": 0
      },
      "text/plain": [
       "  0%|          | 0/28 [00:00<?, ?it/s]"
      ]
     },
     "metadata": {},
     "output_type": "display_data"
    },
    {
     "data": {
      "application/vnd.jupyter.widget-view+json": {
       "model_id": "c8bc02d28c354d4a93e3025b49817166",
       "version_major": 2,
       "version_minor": 0
      },
      "text/plain": [
       "  0%|          | 0/28 [00:00<?, ?it/s]"
      ]
     },
     "metadata": {},
     "output_type": "display_data"
    },
    {
     "name": "stdout",
     "output_type": "stream",
     "text": [
      "smd 0.23153690558205123 0.5718260799691193 0.5172413782842009\n",
      "smd 0.2424242012855895 0.16353417466979295 0.695751620242163\n",
      "smd 0.18226599319687592 0.07249635962646318 0.35093894998285413\n",
      "smd 0.1739130063327107 0.20710560496380762 0.520627687742403\n",
      "smd 0.7199999481600029 0.6228193985938766 0.8547625468218552\n",
      "smd 0.47835047887257154 0.11003125359988719 0.048064223521040686\n",
      "smd 0.29561198390945814 0.1209592096546521 0.3984547134313108\n",
      "smd 0.23444973995673352 0.17261160362048433 0.36955211780170333\n",
      "smd 0.21307504139204825 0.06043745297727772 0.19127268471124986\n",
      "smd 0.30023092122738076 0.1590783706874283 0.2607417834763463\n",
      "smd 0.12690354134994566 0.01765508589845189 0.16680557665789147\n",
      "smd 0.29953914490114675 0.12156297138451184 0.434544794556826\n",
      "smd 0.2635293887601403 0.1495031024277427 0.4722874289200717\n",
      "smd 0.33333330277777967 0.2156452969390002 0.5278816156252074\n",
      "smd 0.23999997792000163 0.21025405462423108 0.46663514650511184\n",
      "smd 0.7499999343750033 0.609776013976966 0.8499999827664837\n",
      "smd 0.28070172446907027 0.22070877688509544 0.28430888368293633\n",
      "smd 0.31578942714682023 0.375732993275625 0.6124601153539878\n",
      "smd 0.22168672716969254 0.05767907396102457 0.13010303635365808\n",
      "smd 0.12799998781440103 0.03444591760637048 0.8603359799382067\n",
      "smd 0.16873447578151593 0.05312943362808283 0.3552136259911375\n",
      "smd 0.28372090575338227 0.07810997337377927 0.4332026132968184\n",
      "smd 0.4999999600000027 0.4462726651909319 0.6639971972638072\n",
      "smd 0.19999998066666785 0.1603967270605151 0.5124798172845562\n",
      "smd 0.16049381233297902 0.04236193053387835 0.1837501235504688\n",
      "smd 0.199999980000001 0.2329960280037252 0.5969955926937606\n",
      "smd 0.37037032117055957 0.2827316769778116 0.6734364204348435\n",
      "smd 0.26666664000000134 0.15113379781252584 0.4947276160411678\n"
     ]
    }
   ],
   "source": [
    "for loader in [load_smd]:\n",
    "    datasets = loader(128, 64)\n",
    "    x_trains, x_tests, y_tests = datasets['x_train'], datasets['x_test'], datasets['y_test']\n",
    "    \n",
    "    for i in tqdm(range(len(x_trains))):\n",
    "        tf.keras.backend.clear_session()\n",
    "\n",
    "        X_train = x_trains[i]\n",
    "        X_test = x_tests[i]\n",
    "        \n",
    "        gan = get_gan(X_train)\n",
    "        dataset = tf.data.Dataset.from_tensor_slices(X_train)\n",
    "        dataset = dataset.batch(128, drop_remainder=True).prefetch(1)\n",
    "\n",
    "        train_gan(gan, dataset, 128, X_train.shape[1], X_train.shape[2])\n",
    "        \n",
    "        X_test_rec = gan.layers[0].predict(X_test)\n",
    "        scores = evaluate(X_test, X_test_rec, y_tests[i], is_reconstructed=True)\n",
    "\n",
    "        total_scores['dataset'].append(loader.__name__.replace('load_', ''))\n",
    "        total_scores['f1'].append(np.max(scores['f1']))\n",
    "        total_scores['pr_auc'].append(scores['pr_auc'])\n",
    "        total_scores['roc_auc'].append(scores['roc_auc'])\n",
    "        print(loader.__name__.replace('load_', ''), np.max(scores['f1']), scores['pr_auc'], scores['roc_auc'])   "
   ]
  },
  {
   "cell_type": "code",
   "execution_count": 12,
   "id": "23474773-bac1-4145-ac75-c1a686bca5c6",
   "metadata": {},
   "outputs": [
    {
     "data": {
      "text/html": [
       "<div>\n",
       "<style scoped>\n",
       "    .dataframe tbody tr th:only-of-type {\n",
       "        vertical-align: middle;\n",
       "    }\n",
       "\n",
       "    .dataframe tbody tr th {\n",
       "        vertical-align: top;\n",
       "    }\n",
       "\n",
       "    .dataframe thead th {\n",
       "        text-align: right;\n",
       "    }\n",
       "</style>\n",
       "<table border=\"1\" class=\"dataframe\">\n",
       "  <thead>\n",
       "    <tr style=\"text-align: right;\">\n",
       "      <th></th>\n",
       "      <th>f1</th>\n",
       "      <th>pr_auc</th>\n",
       "      <th>roc_auc</th>\n",
       "    </tr>\n",
       "    <tr>\n",
       "      <th>dataset</th>\n",
       "      <th></th>\n",
       "      <th></th>\n",
       "      <th></th>\n",
       "    </tr>\n",
       "  </thead>\n",
       "  <tbody>\n",
       "    <tr>\n",
       "      <th>smd</th>\n",
       "      <td>0.29219</td>\n",
       "      <td>0.204321</td>\n",
       "      <td>0.461663</td>\n",
       "    </tr>\n",
       "  </tbody>\n",
       "</table>\n",
       "</div>"
      ],
      "text/plain": [
       "              f1    pr_auc   roc_auc\n",
       "dataset                             \n",
       "smd      0.29219  0.204321  0.461663"
      ]
     },
     "execution_count": 12,
     "metadata": {},
     "output_type": "execute_result"
    }
   ],
   "source": [
    "smd_results = pd.DataFrame(total_scores)\n",
    "smd_results.groupby('dataset').mean()"
   ]
  },
  {
   "cell_type": "markdown",
   "id": "c24a19b0-3072-4b5e-a500-ade737dc0e5f",
   "metadata": {},
   "source": [
    "### ECG"
   ]
  },
  {
   "cell_type": "code",
   "execution_count": 13,
   "id": "f9cec61b-9422-4eca-ae5a-9ced594ec7d9",
   "metadata": {},
   "outputs": [],
   "source": [
    "total_scores = {'dataset': [], 'f1': [], 'pr_auc': [], 'roc_auc': []}"
   ]
  },
  {
   "cell_type": "code",
   "execution_count": 14,
   "id": "d9345004-df07-4f26-8e4d-109a3008765a",
   "metadata": {},
   "outputs": [
    {
     "data": {
      "application/vnd.jupyter.widget-view+json": {
       "model_id": "54288282673949a69fbc9d2356eb511c",
       "version_major": 2,
       "version_minor": 0
      },
      "text/plain": [
       "  0%|          | 0/9 [00:00<?, ?it/s]"
      ]
     },
     "metadata": {},
     "output_type": "display_data"
    },
    {
     "data": {
      "application/vnd.jupyter.widget-view+json": {
       "model_id": "6c72c9d7f9ea4a4ca2047d315ca09c84",
       "version_major": 2,
       "version_minor": 0
      },
      "text/plain": [
       "  0%|          | 0/9 [00:00<?, ?it/s]"
      ]
     },
     "metadata": {},
     "output_type": "display_data"
    },
    {
     "name": "stdout",
     "output_type": "stream",
     "text": [
      "D1 0.6666666133333363 0.5349760021940008 0.5788043401328832\n",
      "D2 0.5454544892562023 0.39764073858826815 0.6871279627823951\n",
      "D3 0.04545452169422684 0.0021929824138196374 0.011168384682071545\n",
      "D4 0.4347825708884712 0.21898341974738095 0.7011904590770978\n",
      "D5 0.49999994950000415 0.2192999988733287 0.6566923954987047\n",
      "D6 0.3999999440000059 0.1895495232925521 0.6315284071222699\n",
      "D7 0.0769230652544395 0.030410211209186647 0.6462513845923926\n",
      "D8 0.2249999794687516 0.09430991875255643 0.45998497935228944\n",
      "D9 0.421052596860575 0.16905922603957924 0.3386752100009588\n"
     ]
    }
   ],
   "source": [
    "for loader in [load_ecg]:\n",
    "    datasets = loader(64, 32)\n",
    "    x_trains, x_tests, y_tests = datasets['x_train'], datasets['x_test'], datasets['y_test']\n",
    "    \n",
    "    for i in tqdm(range(len(x_trains))):\n",
    "        tf.keras.backend.clear_session()\n",
    "\n",
    "        X_train = x_trains[i]\n",
    "        X_test = x_tests[i]\n",
    "        \n",
    "        gan = get_gan(X_train)\n",
    "        dataset = tf.data.Dataset.from_tensor_slices(X_train)\n",
    "        dataset = dataset.batch(128, drop_remainder=True).prefetch(1)\n",
    "\n",
    "        train_gan(gan, dataset, 128, X_train.shape[1], X_train.shape[2])\n",
    "        \n",
    "        X_test_rec = gan.layers[0].predict(X_test)\n",
    "        scores = evaluate(X_test, X_test_rec, y_tests[i], is_reconstructed=True)\n",
    "\n",
    "        total_scores['dataset'].append(f'D{i+1}')\n",
    "        total_scores['f1'].append(np.max(scores['f1']))\n",
    "        total_scores['pr_auc'].append(scores['pr_auc'])\n",
    "        total_scores['roc_auc'].append(scores['roc_auc'])\n",
    "        print(f'D{i+1}', np.max(scores['f1']), scores['pr_auc'], scores['roc_auc'])  "
   ]
  },
  {
   "cell_type": "code",
   "execution_count": 15,
   "id": "8bcd9fe8-7266-4987-a08f-abf2ab2d6a7f",
   "metadata": {},
   "outputs": [
    {
     "data": {
      "text/html": [
       "<div>\n",
       "<style scoped>\n",
       "    .dataframe tbody tr th:only-of-type {\n",
       "        vertical-align: middle;\n",
       "    }\n",
       "\n",
       "    .dataframe tbody tr th {\n",
       "        vertical-align: top;\n",
       "    }\n",
       "\n",
       "    .dataframe thead th {\n",
       "        text-align: right;\n",
       "    }\n",
       "</style>\n",
       "<table border=\"1\" class=\"dataframe\">\n",
       "  <thead>\n",
       "    <tr style=\"text-align: right;\">\n",
       "      <th></th>\n",
       "      <th>f1</th>\n",
       "      <th>pr_auc</th>\n",
       "      <th>roc_auc</th>\n",
       "    </tr>\n",
       "    <tr>\n",
       "      <th>dataset</th>\n",
       "      <th></th>\n",
       "      <th></th>\n",
       "      <th></th>\n",
       "    </tr>\n",
       "  </thead>\n",
       "  <tbody>\n",
       "    <tr>\n",
       "      <th>D1</th>\n",
       "      <td>0.666667</td>\n",
       "      <td>0.534976</td>\n",
       "      <td>0.578804</td>\n",
       "    </tr>\n",
       "    <tr>\n",
       "      <th>D2</th>\n",
       "      <td>0.545454</td>\n",
       "      <td>0.397641</td>\n",
       "      <td>0.687128</td>\n",
       "    </tr>\n",
       "    <tr>\n",
       "      <th>D3</th>\n",
       "      <td>0.045455</td>\n",
       "      <td>0.002193</td>\n",
       "      <td>0.011168</td>\n",
       "    </tr>\n",
       "    <tr>\n",
       "      <th>D4</th>\n",
       "      <td>0.434783</td>\n",
       "      <td>0.218983</td>\n",
       "      <td>0.701190</td>\n",
       "    </tr>\n",
       "    <tr>\n",
       "      <th>D5</th>\n",
       "      <td>0.500000</td>\n",
       "      <td>0.219300</td>\n",
       "      <td>0.656692</td>\n",
       "    </tr>\n",
       "    <tr>\n",
       "      <th>D6</th>\n",
       "      <td>0.400000</td>\n",
       "      <td>0.189550</td>\n",
       "      <td>0.631528</td>\n",
       "    </tr>\n",
       "    <tr>\n",
       "      <th>D7</th>\n",
       "      <td>0.076923</td>\n",
       "      <td>0.030410</td>\n",
       "      <td>0.646251</td>\n",
       "    </tr>\n",
       "    <tr>\n",
       "      <th>D8</th>\n",
       "      <td>0.225000</td>\n",
       "      <td>0.094310</td>\n",
       "      <td>0.459985</td>\n",
       "    </tr>\n",
       "    <tr>\n",
       "      <th>D9</th>\n",
       "      <td>0.421053</td>\n",
       "      <td>0.169059</td>\n",
       "      <td>0.338675</td>\n",
       "    </tr>\n",
       "  </tbody>\n",
       "</table>\n",
       "</div>"
      ],
      "text/plain": [
       "               f1    pr_auc   roc_auc\n",
       "dataset                              \n",
       "D1       0.666667  0.534976  0.578804\n",
       "D2       0.545454  0.397641  0.687128\n",
       "D3       0.045455  0.002193  0.011168\n",
       "D4       0.434783  0.218983  0.701190\n",
       "D5       0.500000  0.219300  0.656692\n",
       "D6       0.400000  0.189550  0.631528\n",
       "D7       0.076923  0.030410  0.646251\n",
       "D8       0.225000  0.094310  0.459985\n",
       "D9       0.421053  0.169059  0.338675"
      ]
     },
     "execution_count": 15,
     "metadata": {},
     "output_type": "execute_result"
    }
   ],
   "source": [
    "ecg_results = pd.DataFrame(total_scores)\n",
    "ecg_results.groupby('dataset').mean()"
   ]
  },
  {
   "cell_type": "markdown",
   "id": "50445086-b227-45e5-9f6f-be55e3a3d9d4",
   "metadata": {},
   "source": [
    "### Power Demand"
   ]
  },
  {
   "cell_type": "code",
   "execution_count": 16,
   "id": "7c7f442f-ff64-49f6-8059-faef927b5317",
   "metadata": {},
   "outputs": [],
   "source": [
    "total_scores = {'dataset': [], 'f1': [], 'pr_auc': [], 'roc_auc': []}"
   ]
  },
  {
   "cell_type": "code",
   "execution_count": 17,
   "id": "e0a58889-ce90-4689-ae48-125f80236863",
   "metadata": {},
   "outputs": [
    {
     "data": {
      "application/vnd.jupyter.widget-view+json": {
       "model_id": "7ce05263ff064ead9c8dd11a75ce47eb",
       "version_major": 2,
       "version_minor": 0
      },
      "text/plain": [
       "  0%|          | 0/1 [00:00<?, ?it/s]"
      ]
     },
     "metadata": {},
     "output_type": "display_data"
    },
    {
     "name": "stdout",
     "output_type": "stream",
     "text": [
      "power_demand 0.7499999343750033 0.2916666525694449 -0.0\n"
     ]
    }
   ],
   "source": [
    "for loader in [load_power_demand]:\n",
    "    datasets = loader(512, 256)\n",
    "    x_trains, x_tests, y_tests = datasets['x_train'], datasets['x_test'], datasets['y_test']\n",
    "    \n",
    "    for i in tqdm(range(len(x_trains))):\n",
    "        tf.keras.backend.clear_session()\n",
    "\n",
    "        X_train = x_trains[i]\n",
    "        X_test = x_tests[i]\n",
    "        \n",
    "        gan = get_gan(X_train)\n",
    "        dataset = tf.data.Dataset.from_tensor_slices(X_train)\n",
    "        dataset = dataset.batch(128, drop_remainder=True).prefetch(1)\n",
    "\n",
    "        train_gan(gan, dataset, 128, X_train.shape[1], X_train.shape[2])\n",
    "        \n",
    "        X_test_rec = gan.layers[0].predict(X_test)\n",
    "        scores = evaluate(X_test, X_test_rec, y_tests[i], is_reconstructed=True)\n",
    "\n",
    "        total_scores['dataset'].append(loader.__name__.replace('load_', ''))\n",
    "        total_scores['f1'].append(np.max(scores['f1']))\n",
    "        total_scores['pr_auc'].append(scores['pr_auc'])\n",
    "        total_scores['roc_auc'].append(scores['roc_auc'])\n",
    "        print(loader.__name__.replace('load_', ''), np.max(scores['f1']), scores['pr_auc'], scores['roc_auc']) "
   ]
  },
  {
   "cell_type": "code",
   "execution_count": 18,
   "id": "fbfc80f1-271a-4956-b7c9-4b7e0b07684a",
   "metadata": {},
   "outputs": [
    {
     "data": {
      "text/html": [
       "<div>\n",
       "<style scoped>\n",
       "    .dataframe tbody tr th:only-of-type {\n",
       "        vertical-align: middle;\n",
       "    }\n",
       "\n",
       "    .dataframe tbody tr th {\n",
       "        vertical-align: top;\n",
       "    }\n",
       "\n",
       "    .dataframe thead th {\n",
       "        text-align: right;\n",
       "    }\n",
       "</style>\n",
       "<table border=\"1\" class=\"dataframe\">\n",
       "  <thead>\n",
       "    <tr style=\"text-align: right;\">\n",
       "      <th></th>\n",
       "      <th>f1</th>\n",
       "      <th>pr_auc</th>\n",
       "      <th>roc_auc</th>\n",
       "    </tr>\n",
       "    <tr>\n",
       "      <th>dataset</th>\n",
       "      <th></th>\n",
       "      <th></th>\n",
       "      <th></th>\n",
       "    </tr>\n",
       "  </thead>\n",
       "  <tbody>\n",
       "    <tr>\n",
       "      <th>power_demand</th>\n",
       "      <td>0.75</td>\n",
       "      <td>0.291667</td>\n",
       "      <td>0.0</td>\n",
       "    </tr>\n",
       "  </tbody>\n",
       "</table>\n",
       "</div>"
      ],
      "text/plain": [
       "                f1    pr_auc  roc_auc\n",
       "dataset                              \n",
       "power_demand  0.75  0.291667      0.0"
      ]
     },
     "execution_count": 18,
     "metadata": {},
     "output_type": "execute_result"
    }
   ],
   "source": [
    "power_results = pd.DataFrame(total_scores)\n",
    "power_results.groupby('dataset').mean()"
   ]
  },
  {
   "cell_type": "markdown",
   "id": "640debe7-c0f3-458d-a098-f7b56790e145",
   "metadata": {},
   "source": [
    "### 2D Gesture"
   ]
  },
  {
   "cell_type": "code",
   "execution_count": 19,
   "id": "9635a708-ecde-4e0e-8778-a2b33cbcc36f",
   "metadata": {},
   "outputs": [],
   "source": [
    "total_scores = {'dataset': [], 'f1': [], 'pr_auc': [], 'roc_auc': []}"
   ]
  },
  {
   "cell_type": "code",
   "execution_count": 20,
   "id": "467d0456-2733-424a-9033-ed6ffbccc6b7",
   "metadata": {},
   "outputs": [
    {
     "data": {
      "application/vnd.jupyter.widget-view+json": {
       "model_id": "ee353f7405c041028ae771b60c134e84",
       "version_major": 2,
       "version_minor": 0
      },
      "text/plain": [
       "  0%|          | 0/1 [00:00<?, ?it/s]"
      ]
     },
     "metadata": {},
     "output_type": "display_data"
    },
    {
     "name": "stdout",
     "output_type": "stream",
     "text": [
      "gesture 0.5238094717687121 0.5173993788885469 0.696906953603218\n"
     ]
    }
   ],
   "source": [
    "for loader in [load_gesture]:\n",
    "    datasets = loader(64, 32)\n",
    "    x_trains, x_tests, y_tests = datasets['x_train'], datasets['x_test'], datasets['y_test']\n",
    "    \n",
    "    for i in tqdm(range(len(x_trains))):\n",
    "        tf.keras.backend.clear_session()\n",
    "\n",
    "        X_train = x_trains[i]\n",
    "        X_test = x_tests[i]\n",
    "        \n",
    "        gan = get_gan(X_train)\n",
    "        dataset = tf.data.Dataset.from_tensor_slices(X_train)\n",
    "        dataset = dataset.batch(128, drop_remainder=True).prefetch(1)\n",
    "\n",
    "        train_gan(gan, dataset, 128, X_train.shape[1], X_train.shape[2])\n",
    "        \n",
    "        X_test_rec = gan.layers[0].predict(X_test)\n",
    "        scores = evaluate(X_test, X_test_rec, y_tests[i], is_reconstructed=True)\n",
    "\n",
    "        total_scores['dataset'].append(loader.__name__.replace('load_', ''))\n",
    "        total_scores['f1'].append(np.max(scores['f1']))\n",
    "        total_scores['pr_auc'].append(scores['pr_auc'])\n",
    "        total_scores['roc_auc'].append(scores['roc_auc'])\n",
    "        print(loader.__name__.replace('load_', ''), np.max(scores['f1']), scores['pr_auc'], scores['roc_auc'])  "
   ]
  },
  {
   "cell_type": "code",
   "execution_count": 21,
   "id": "179706c4-4f1c-47c5-94f9-490c135ba258",
   "metadata": {},
   "outputs": [
    {
     "data": {
      "text/html": [
       "<div>\n",
       "<style scoped>\n",
       "    .dataframe tbody tr th:only-of-type {\n",
       "        vertical-align: middle;\n",
       "    }\n",
       "\n",
       "    .dataframe tbody tr th {\n",
       "        vertical-align: top;\n",
       "    }\n",
       "\n",
       "    .dataframe thead th {\n",
       "        text-align: right;\n",
       "    }\n",
       "</style>\n",
       "<table border=\"1\" class=\"dataframe\">\n",
       "  <thead>\n",
       "    <tr style=\"text-align: right;\">\n",
       "      <th></th>\n",
       "      <th>f1</th>\n",
       "      <th>pr_auc</th>\n",
       "      <th>roc_auc</th>\n",
       "    </tr>\n",
       "    <tr>\n",
       "      <th>dataset</th>\n",
       "      <th></th>\n",
       "      <th></th>\n",
       "      <th></th>\n",
       "    </tr>\n",
       "  </thead>\n",
       "  <tbody>\n",
       "    <tr>\n",
       "      <th>gesture</th>\n",
       "      <td>0.523809</td>\n",
       "      <td>0.517399</td>\n",
       "      <td>0.696907</td>\n",
       "    </tr>\n",
       "  </tbody>\n",
       "</table>\n",
       "</div>"
      ],
      "text/plain": [
       "               f1    pr_auc   roc_auc\n",
       "dataset                              \n",
       "gesture  0.523809  0.517399  0.696907"
      ]
     },
     "execution_count": 21,
     "metadata": {},
     "output_type": "execute_result"
    }
   ],
   "source": [
    "gesture_results = pd.DataFrame(total_scores)\n",
    "gesture_results.groupby('dataset').mean()"
   ]
  }
 ],
 "metadata": {
  "kernelspec": {
   "display_name": "Python 3",
   "language": "python",
   "name": "python3"
  },
  "language_info": {
   "codemirror_mode": {
    "name": "ipython",
    "version": 3
   },
   "file_extension": ".py",
   "mimetype": "text/x-python",
   "name": "python",
   "nbconvert_exporter": "python",
   "pygments_lexer": "ipython3",
   "version": "3.9.4"
  }
 },
 "nbformat": 4,
 "nbformat_minor": 5
}
