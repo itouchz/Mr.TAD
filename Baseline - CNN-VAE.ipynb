{
 "cells": [
  {
   "cell_type": "code",
   "execution_count": 1,
   "id": "a80a379b-932c-4401-8d76-b5ae5dedc6cc",
   "metadata": {},
   "outputs": [],
   "source": [
    "import os\n",
    "import random\n",
    "\n",
    "os.environ[\"CUDA_DEVICE_ORDER\"] = \"PCI_BUS_ID\";\n",
    "os.environ[\"CUDA_VISIBLE_DEVICES\"] = \"1\"\n",
    "os.environ[\"TF_FORCE_GPU_ALLOW_GROWTH\"] = \"true\""
   ]
  },
  {
   "cell_type": "code",
   "execution_count": 2,
   "id": "saving-behavior",
   "metadata": {},
   "outputs": [],
   "source": [
    "import numpy as np\n",
    "import pandas as pd\n",
    "import tensorflow as tf\n",
    "\n",
    "from evaluator import evaluate\n",
    "from data_loader import load_kdd_cup_urc, load_yahoo_A1, load_yahoo_A2, load_yahoo_A3, load_yahoo_A4, load_power_demand # Univariate Datasets\n",
    "from data_loader import load_nasa, load_ecg, load_gesture, load_smd # Multivariate Datasets\n",
    "\n",
    "from tensorflow import keras\n",
    "from tensorflow.keras import layers\n",
    "from tqdm.notebook import tqdm\n",
    "\n",
    "# THESE LINES ARE FOR REPRODUCIBILITY\n",
    "random.seed(0)\n",
    "np.random.seed(0)\n",
    "tf.random.set_seed(0)"
   ]
  },
  {
   "cell_type": "code",
   "execution_count": 3,
   "id": "49c0a8e3-705d-429b-b7a0-c3c26a3a7b2b",
   "metadata": {},
   "outputs": [],
   "source": [
    "class Sampling(layers.Layer):\n",
    "    \"\"\"Uses (z_mean, z_log_var) to sample z, the vector encoding a digit.\"\"\"\n",
    "\n",
    "    def call(self, inputs):\n",
    "        z_mean, z_log_var = inputs\n",
    "        batch = tf.shape(z_mean)[0]\n",
    "        dim = tf.shape(z_mean)[1]\n",
    "        epsilon = tf.keras.backend.random_normal(shape=(batch, dim))\n",
    "        return z_mean + tf.exp(0.5 * z_log_var) * epsilon"
   ]
  },
  {
   "cell_type": "code",
   "execution_count": 4,
   "id": "24e86739-e767-4960-b7ea-9904d224a0d4",
   "metadata": {},
   "outputs": [],
   "source": [
    "class VAE(keras.Model):\n",
    "    def __init__(self, encoder, decoder, **kwargs):\n",
    "        super(VAE, self).__init__(**kwargs)\n",
    "        self.encoder = encoder\n",
    "        self.decoder = decoder\n",
    "        self.total_loss_tracker = keras.metrics.Mean(name=\"total_loss\")\n",
    "        self.reconstruction_loss_tracker = keras.metrics.Mean(\n",
    "            name=\"reconstruction_loss\"\n",
    "        )\n",
    "        self.kl_loss_tracker = keras.metrics.Mean(name=\"kl_loss\")\n",
    "\n",
    "    @property\n",
    "    def metrics(self):\n",
    "        return [\n",
    "            self.total_loss_tracker,\n",
    "            self.reconstruction_loss_tracker,\n",
    "            self.kl_loss_tracker,\n",
    "        ]\n",
    "\n",
    "    def train_step(self, data):\n",
    "        with tf.GradientTape() as tape:\n",
    "            z_mean, z_log_var, z = self.encoder(data)\n",
    "            reconstruction = self.decoder(z)\n",
    "            reconstruction_loss = tf.reduce_mean(\n",
    "                tf.reduce_sum(\n",
    "                    keras.losses.binary_crossentropy(data, reconstruction), axis=1\n",
    "                )\n",
    "            )\n",
    "            kl_loss = -0.5 * (1 + z_log_var - tf.square(z_mean) - tf.exp(z_log_var))\n",
    "            kl_loss = tf.reduce_mean(tf.reduce_sum(kl_loss, axis=1))\n",
    "            total_loss = reconstruction_loss + kl_loss\n",
    "        grads = tape.gradient(total_loss, self.trainable_weights)\n",
    "        self.optimizer.apply_gradients(zip(grads, self.trainable_weights))\n",
    "        self.total_loss_tracker.update_state(total_loss)\n",
    "        self.reconstruction_loss_tracker.update_state(reconstruction_loss)\n",
    "        self.kl_loss_tracker.update_state(kl_loss)\n",
    "        return {\n",
    "            \"loss\": self.total_loss_tracker.result(),\n",
    "            \"reconstruction_loss\": self.reconstruction_loss_tracker.result(),\n",
    "            \"kl_loss\": self.kl_loss_tracker.result(),\n",
    "        }"
   ]
  },
  {
   "cell_type": "markdown",
   "id": "fa97c067-d18d-4c06-ae1b-2cbfe88788b6",
   "metadata": {},
   "source": [
    "### Yahoo S5"
   ]
  },
  {
   "cell_type": "code",
   "execution_count": 5,
   "id": "eight-partition",
   "metadata": {},
   "outputs": [],
   "source": [
    "total_scores = {'dataset': [], 'f1': [], 'pr_auc': [], 'roc_auc': []}"
   ]
  },
  {
   "cell_type": "code",
   "execution_count": null,
   "id": "71866d92-1163-4975-bb99-4302ccda66c3",
   "metadata": {
    "scrolled": true,
    "tags": []
   },
   "outputs": [
    {
     "data": {
      "application/vnd.jupyter.widget-view+json": {
       "model_id": "91d16598e034409996fcd8101cf7c9ef",
       "version_major": 2,
       "version_minor": 0
      },
      "text/plain": [
       "  0%|          | 0/67 [00:00<?, ?it/s]"
      ]
     },
     "metadata": {},
     "output_type": "display_data"
    },
    {
     "data": {
      "application/vnd.jupyter.widget-view+json": {
       "model_id": "c4cc14ed40db452a8a5e051b4af303c5",
       "version_major": 2,
       "version_minor": 0
      },
      "text/plain": [
       "  0%|          | 0/67 [00:00<?, ?it/s]"
      ]
     },
     "metadata": {},
     "output_type": "display_data"
    },
    {
     "name": "stdout",
     "output_type": "stream",
     "text": [
      "yahoo_A1 0.5714285224489823 0.16666666570436459 0.416666641666668\n",
      "yahoo_A1 0.0 0.0 -0.0\n",
      "WARNING:tensorflow:5 out of the last 5 calls to <function Model.make_predict_function.<locals>.predict_function at 0x7f97101524c0> triggered tf.function retracing. Tracing is expensive and the excessive number of tracings could be due to (1) creating @tf.function repeatedly in a loop, (2) passing tensors with different shapes, (3) passing Python objects instead of tensors. For (1), please define your @tf.function outside of the loop. For (2), @tf.function has experimental_relax_shapes=True option that relaxes argument shapes that can avoid unnecessary retracing. For (3), please refer to https://www.tensorflow.org/guide/function#controlling_retracing and https://www.tensorflow.org/api_docs/python/tf/function for  more details.\n",
      "WARNING:tensorflow:6 out of the last 6 calls to <function Model.make_predict_function.<locals>.predict_function at 0x7f97280b3c10> triggered tf.function retracing. Tracing is expensive and the excessive number of tracings could be due to (1) creating @tf.function repeatedly in a loop, (2) passing tensors with different shapes, (3) passing Python objects instead of tensors. For (1), please define your @tf.function outside of the loop. For (2), @tf.function has experimental_relax_shapes=True option that relaxes argument shapes that can avoid unnecessary retracing. For (3), please refer to https://www.tensorflow.org/guide/function#controlling_retracing and https://www.tensorflow.org/api_docs/python/tf/function for  more details.\n",
      "yahoo_A1 0.666666577777783 0.2499999625000044 0.8888887901234668\n",
      "yahoo_A1 0.0 0.0 0.0\n",
      "yahoo_A1 0.0 0.0 0.0\n",
      "yahoo_A1 0.0 0.0 -0.0\n",
      "yahoo_A1 0.0 0.0 0.0\n",
      "yahoo_A1 0.46153841893491365 0.14999999350000026 0.49999997619047704\n",
      "yahoo_A1 0.6666666133333363 0.4214285474078342 0.3999999830000005\n",
      "yahoo_A1 0.0 0.0 -0.0\n",
      "yahoo_A1 0.8333332708333363 0.7930951820434847 0.8799999648000009\n",
      "yahoo_A1 0.3636363272727291 0.11111110432098803 0.49999996875000174\n",
      "yahoo_A1 0.9090908429752097 0.7223809201395328 0.7249999496666695\n",
      "yahoo_A1 0.6666666133333363 0.2494444395492283 0.17999999230000024\n",
      "yahoo_A1 0.666666577777783 0.6249998958333479 0.9687499269531303\n",
      "yahoo_A1 0.4999999375000028 0.16666664444444684 0.7777776913580334\n",
      "yahoo_A1 0.399999960000002 0.07142857308673395 0.14285713367346983\n",
      "yahoo_A1 0.18181816198347142 0.049999994500000554 0.49999994444445006\n",
      "yahoo_A1 0.7142856581632683 0.47992060771546535 0.5499999772500006\n",
      "yahoo_A1 0.6666666133333363 0.3900793471797532 0.4999999758333342\n",
      "yahoo_A1 0.749999943750003 0.38916665357354535 0.38124998143750066\n",
      "yahoo_A1 0.749999943750003 0.3877976042864235 0.2187499880208338\n",
      "yahoo_A1 0.0 0.0 -0.0\n",
      "yahoo_A1 0.0 0.0 -0.0\n",
      "yahoo_A1 0.8235293536332209 0.7333332999723338 0.7380952017573709\n",
      "yahoo_A1 0.8235293536332209 0.53333331281217 0.5277777493055568\n",
      "yahoo_A1 0.0 0.0 0.0\n",
      "yahoo_A1 0.8333332708333363 0.5266666459849214 0.4666666417777787\n",
      "yahoo_A1 0.0 0.0 -0.0\n",
      "yahoo_A1 0.0 0.0 -0.0\n",
      "yahoo_A1 0.7999999340000034 0.6359523397477069 0.7699999679500009\n",
      "yahoo_A1 0.7499999312500037 0.47569442104993487 0.699999969500001\n",
      "yahoo_A1 0.6666666133333363 0.0 0.0\n",
      "yahoo_A1 0.4999999375000028 0.16666664444444684 0.7777776913580334\n",
      "yahoo_A1 0.9999999400000027 0.9285713816578118 0.0\n",
      "yahoo_A1 0.5714285224489823 0.0714285810033999 -0.0\n",
      "yahoo_A1 0.9999999000000052 0.7499998875000143 0.9999999375000035\n",
      "yahoo_A1 0.5714285224489823 7.916665942980902e-09 0.0\n",
      "yahoo_A1 0.0 0.0 -0.0\n",
      "yahoo_A1 0.5714285224489823 0.07142858121173319 -0.0\n",
      "yahoo_A1 0.749999943750003 0.3666666513783077 0.5916666293472241\n",
      "yahoo_A1 0.6666666133333363 0.1996031714220048 0.0999999930000004\n",
      "yahoo_A1 0.0 0.0 0.0\n",
      "yahoo_A1 0.0 0.0 -0.0\n",
      "yahoo_A1 0.0 0.0 0.0\n",
      "yahoo_A1 0.0 0.0 0.0\n",
      "yahoo_A1 0.6666666133333363 0.2577876887861929 0.4633333117722229\n",
      "yahoo_A1 0.749999943750003 0.33345237172055486 -0.0\n",
      "yahoo_A1 0.46153841893491365 0.06250000600115631 -0.0\n",
      "yahoo_A1 0.0 0.0 -0.0\n",
      "yahoo_A1 0.8888888296296326 0.4128755554560711 0.6666666222222247\n",
      "yahoo_A1 0.8888888296296326 0.25499999621203706 0.2999999790000012\n",
      "yahoo_A1 0.7142856581632683 0.24930554943353178 0.12499999062500056\n",
      "yahoo_A1 0.18181816198347142 0.049999994500000554 0.49999994444445006\n",
      "yahoo_A1 0.0 0.0 -0.0\n",
      "yahoo_A1 0.0 0.0 0.0\n",
      "yahoo_A1 0.5714285224489823 0.1388888885714282 0.1666666472222242\n",
      "yahoo_A1 0.0 0.0 -0.0\n",
      "yahoo_A1 0.0 0.0 0.0\n",
      "yahoo_A1 0.0 0.0 -0.0\n",
      "yahoo_A1 0.0 0.0 -0.0\n",
      "yahoo_A1 0.749999943750003 0.4111110973302473 0.32499998537500047\n",
      "yahoo_A1 0.6666666000000033 0.5999999590000024 0.749999968750001\n",
      "yahoo_A1 0.18181816198347142 0.049999994500000554 0.49999994444445006\n",
      "yahoo_A1 0.46153841893491365 0.10714285614465202 0.14285712653061383\n",
      "yahoo_A1 0.6666666133333363 0.12500000592427152 -0.0\n",
      "yahoo_A1 0.5714285224489823 0.0 0.0\n"
     ]
    },
    {
     "data": {
      "application/vnd.jupyter.widget-view+json": {
       "model_id": "59178f4ac37d4cc286fc0505bf96b77e",
       "version_major": 2,
       "version_minor": 0
      },
      "text/plain": [
       "  0%|          | 0/100 [00:00<?, ?it/s]"
      ]
     },
     "metadata": {},
     "output_type": "display_data"
    },
    {
     "data": {
      "application/vnd.jupyter.widget-view+json": {
       "model_id": "0bba3ed52a054d239c80d7d6a391ace5",
       "version_major": 2,
       "version_minor": 0
      },
      "text/plain": [
       "  0%|          | 0/100 [00:00<?, ?it/s]"
      ]
     },
     "metadata": {},
     "output_type": "display_data"
    },
    {
     "name": "stdout",
     "output_type": "stream",
     "text": [
      "yahoo_A2 0.0 0.0 -0.0\n",
      "yahoo_A2 0.0 0.0 0.0\n",
      "yahoo_A2 0.0 0.0 -0.0\n",
      "yahoo_A2 0.0 0.0 -0.0\n",
      "yahoo_A2 0.0 0.0 -0.0\n",
      "yahoo_A2 0.0 0.0 0.0\n",
      "yahoo_A2 0.0 0.0 -0.0\n",
      "yahoo_A2 0.0 0.0 -0.0\n",
      "yahoo_A2 0.0 0.0 0.0\n",
      "yahoo_A2 0.0 0.0 0.0\n",
      "yahoo_A2 0.0 0.0 -0.0\n",
      "yahoo_A2 0.0 0.0 0.0\n",
      "yahoo_A2 0.0 0.0 -0.0\n",
      "yahoo_A2 0.0 0.0 -0.0\n",
      "yahoo_A2 0.0 0.0 0.0\n",
      "yahoo_A2 0.0 0.0 0.0\n",
      "yahoo_A2 0.0 0.0 0.0\n",
      "yahoo_A2 0.0 0.0 -0.0\n",
      "yahoo_A2 0.0 0.0 -0.0\n",
      "yahoo_A2 0.0 0.0 -0.0\n",
      "yahoo_A2 0.0 0.0 0.0\n",
      "yahoo_A2 0.0 0.0 -0.0\n",
      "yahoo_A2 0.0 0.0 -0.0\n",
      "yahoo_A2 0.0 0.0 0.0\n",
      "yahoo_A2 0.0 0.0 -0.0\n",
      "yahoo_A2 0.0 0.0 -0.0\n",
      "yahoo_A2 0.0 0.0 -0.0\n",
      "yahoo_A2 0.0 0.0 -0.0\n",
      "yahoo_A2 0.0 0.0 -0.0\n",
      "yahoo_A2 0.0 0.0 0.0\n",
      "yahoo_A2 0.0 0.0 -0.0\n",
      "yahoo_A2 0.0 0.0 0.0\n",
      "yahoo_A2 0.0 0.0 -0.0\n",
      "yahoo_A2 0.0 0.0 -0.0\n",
      "yahoo_A2 0.0 0.0 -0.0\n",
      "yahoo_A2 0.0 0.0 -0.0\n",
      "yahoo_A2 0.0 0.0 0.0\n",
      "yahoo_A2 0.0 0.0 -0.0\n",
      "yahoo_A2 0.0 0.0 -0.0\n",
      "yahoo_A2 0.0 0.0 -0.0\n",
      "yahoo_A2 0.0 0.0 -0.0\n",
      "yahoo_A2 0.0 0.0 -0.0\n",
      "yahoo_A2 0.0 0.0 -0.0\n",
      "yahoo_A2 0.0 0.0 -0.0\n",
      "yahoo_A2 0.0 0.0 -0.0\n",
      "yahoo_A2 0.0 0.0 -0.0\n",
      "yahoo_A2 0.0 0.0 -0.0\n",
      "yahoo_A2 0.0 0.0 0.0\n",
      "yahoo_A2 0.0 0.0 -0.0\n",
      "yahoo_A2 0.0 0.0 0.0\n",
      "yahoo_A2 0.0 0.0 -0.0\n",
      "yahoo_A2 0.0 0.0 -0.0\n",
      "yahoo_A2 0.0 0.0 -0.0\n",
      "yahoo_A2 0.0 0.0 -0.0\n",
      "yahoo_A2 0.0 0.0 -0.0\n",
      "yahoo_A2 0.0 0.0 0.0\n",
      "yahoo_A2 0.0 0.0 -0.0\n",
      "yahoo_A2 0.0 0.0 -0.0\n",
      "yahoo_A2 0.0 0.0 0.0\n",
      "yahoo_A2 0.0 0.0 -0.0\n",
      "yahoo_A2 0.0 0.0 0.0\n",
      "yahoo_A2 0.0 0.0 -0.0\n",
      "yahoo_A2 0.0 0.0 0.0\n",
      "yahoo_A2 0.0 0.0 -0.0\n",
      "yahoo_A2 0.0 0.0 -0.0\n",
      "yahoo_A2 0.0 0.0 -0.0\n",
      "yahoo_A2 0.0 0.0 0.0\n",
      "yahoo_A2 0.0 0.0 0.0\n",
      "yahoo_A2 0.0 0.0 0.0\n",
      "yahoo_A2 0.0 0.0 -0.0\n",
      "yahoo_A2 0.0 0.0 -0.0\n",
      "yahoo_A2 0.0 0.0 0.0\n",
      "yahoo_A2 0.0 0.0 -0.0\n",
      "yahoo_A2 0.0 0.0 0.0\n",
      "yahoo_A2 0.0 0.0 0.0\n",
      "yahoo_A2 0.0 0.0 -0.0\n",
      "yahoo_A2 0.0 0.0 -0.0\n",
      "yahoo_A2 0.0 0.0 0.0\n",
      "yahoo_A2 0.0 0.0 -0.0\n",
      "yahoo_A2 0.0 0.0 -0.0\n",
      "yahoo_A2 0.0 0.0 0.0\n",
      "yahoo_A2 0.0 0.0 -0.0\n",
      "yahoo_A2 0.0 0.0 0.0\n",
      "yahoo_A2 0.0 0.0 -0.0\n",
      "yahoo_A2 0.0 0.0 0.0\n",
      "yahoo_A2 0.0 0.0 0.0\n",
      "yahoo_A2 0.0 0.0 -0.0\n",
      "yahoo_A2 0.0 0.0 -0.0\n",
      "yahoo_A2 0.0 0.0 -0.0\n",
      "yahoo_A2 0.0 0.0 0.0\n",
      "yahoo_A2 0.0 0.0 -0.0\n",
      "yahoo_A2 0.0 0.0 -0.0\n",
      "yahoo_A2 0.0 0.0 -0.0\n",
      "yahoo_A2 0.0 0.0 -0.0\n",
      "yahoo_A2 0.0 0.0 -0.0\n",
      "yahoo_A2 0.0 0.0 -0.0\n",
      "yahoo_A2 0.0 0.0 -0.0\n",
      "yahoo_A2 0.0 0.0 0.0\n",
      "yahoo_A2 0.0 0.0 -0.0\n",
      "yahoo_A2 0.0 0.0 -0.0\n"
     ]
    },
    {
     "data": {
      "application/vnd.jupyter.widget-view+json": {
       "model_id": "5f815db44ef74a24a61e28576b511aab",
       "version_major": 2,
       "version_minor": 0
      },
      "text/plain": [
       "  0%|          | 0/100 [00:00<?, ?it/s]"
      ]
     },
     "metadata": {},
     "output_type": "display_data"
    },
    {
     "data": {
      "application/vnd.jupyter.widget-view+json": {
       "model_id": "0b2f55f71af64550b02bf4141897c022",
       "version_major": 2,
       "version_minor": 0
      },
      "text/plain": [
       "  0%|          | 0/100 [00:00<?, ?it/s]"
      ]
     },
     "metadata": {},
     "output_type": "display_data"
    },
    {
     "name": "stdout",
     "output_type": "stream",
     "text": [
      "yahoo_A3 0.5333332871111137 0.10000000693578515 0.49999996770833555\n",
      "yahoo_A3 0.5882352456747433 0.1820761156452809 0.10714285293367355\n",
      "yahoo_A3 0.736842050969532 1.4367633554077069e-08 0.0\n",
      "yahoo_A3 0.4999999562500026 0.1041666691166871 0.12499999427083351\n",
      "yahoo_A3 0.8749999398437528 0.620833296813961 0.5833333028769854\n",
      "yahoo_A3 0.4999999562500026 0.140211637158566 0.1249999921875004\n",
      "yahoo_A3 0.749999943750003 0.42043649389383175 0.43333331522222274\n",
      "yahoo_A3 0.7058822989619408 0.18134920550654918 0.36111109444444517\n",
      "yahoo_A3 0.7777777216049413 0.4601983939112567 0.44374997831250085\n",
      "yahoo_A3 0.0 0.0 -0.0\n",
      "yahoo_A3 0.9565216809073751 0.7412783168094822 0.12499998593750142\n",
      "yahoo_A3 0.9565216809073751 0.0 0.0\n",
      "yahoo_A3 0.799999944000003 0.3761309429913805 0.1499999932500002\n",
      "yahoo_A3 0.3636363272727291 0.0625000016493049 0.29999998200000094\n",
      "yahoo_A3 0.736842050969532 0.22812499803616132 -0.0\n",
      "yahoo_A3 0.16666664861111138 0.045454540495868265 0.09090908099173658\n",
      "yahoo_A3 0.9473683612188393 0.628650772338993 0.49999996944444614\n",
      "yahoo_A3 0.4999999562500026 0.0 0.0\n",
      "yahoo_A3 0.4999999562500026 0.22582069852335085 0.43749998151041736\n",
      "yahoo_A3 0.5999999460000028 0.12500000915476034 0.5714285362414988\n",
      "yahoo_A3 0.33333329444444565 0.09999999504545469 0.5999999390000058\n",
      "yahoo_A3 0.28571425714285853 0.04545454693526121 -0.0\n",
      "yahoo_A3 0.736842050969532 0.2733333291211399 0.1999999920000002\n",
      "yahoo_A3 0.9565216809073751 0.5626388721071238 -0.0\n",
      "yahoo_A3 0.3999999626666689 0.07142857554434563 0.3333333074074094\n",
      "yahoo_A3 0.666666577777783 0.42261900766629285 0.770833296961807\n",
      "yahoo_A3 0.736842050969532 0.17500000280215797 0.2666666391111137\n",
      "yahoo_A3 0.5882352456747433 0.0 0.0\n",
      "yahoo_A3 0.0 0.0 -0.0\n",
      "yahoo_A3 0.4999999562500026 0.1861111054577021 0.2916666543402782\n",
      "yahoo_A3 0.6666666148148177 0.20208333150177105 0.2222222111111116\n",
      "yahoo_A3 0.8571428000000028 0.2261904745302515 0.0\n",
      "yahoo_A3 0.0 0.0 -0.0\n",
      "yahoo_A3 0.9999999416666693 0.9545454106687574 0.0\n",
      "yahoo_A3 0.9565216809073751 0.828571383153262 0.5999999280000073\n",
      "yahoo_A3 0.736842050969532 0.35984125938134426 0.5199999782000007\n",
      "yahoo_A3 0.9565216809073751 0.0 0.0\n",
      "yahoo_A3 0.8571428000000028 0.4310714172027859 0.1333333262222225\n",
      "yahoo_A3 0.9090908512396723 0.5948128956478546 0.29166664340277926\n",
      "yahoo_A3 0.8571428000000028 0.0 0.0\n",
      "yahoo_A3 0.799999944000003 0.27638888578442156 0.29166664756944544\n",
      "yahoo_A3 0.736842050969532 0.42403197131823256 0.4333333130000008\n",
      "yahoo_A3 0.9090908512396723 0.6831859118946084 0.47916663498264067\n",
      "yahoo_A3 0.24999997187500062 0.07142856326530694 0.4545454049586827\n",
      "yahoo_A3 0.9999999416666693 0.9374999549006312 0.0\n",
      "yahoo_A3 0.3076922769230785 0.0833333297306398 0.1999999830000014\n",
      "yahoo_A3 0.4999999562500026 0.09821428840731876 0.18749998828125058\n",
      "yahoo_A3 0.8571428000000028 0.33978174173881315 -0.0\n",
      "yahoo_A3 0.0 0.0 0.0\n",
      "yahoo_A3 0.9565216809073751 0.919483375404835 0.8571427591836833\n",
      "yahoo_A3 0.9999999416666693 0.9374999436979207 0.0\n",
      "yahoo_A3 0.8571428000000028 0.27916666395896467 0.33333331666666727\n",
      "yahoo_A3 0.0 0.0 -0.0\n",
      "yahoo_A3 0.0 0.0 -0.0\n",
      "yahoo_A3 0.46153841893491365 0.06250000600115631 0.22222221234567935\n",
      "yahoo_A3 0.5882352456747433 0.151785713986259 0.14285713724489807\n",
      "yahoo_A3 0.7142856581632683 0.33948411386785005 0.5555555327777786\n",
      "yahoo_A3 0.736842050969532 0.30692459606671124 0.16666665972222244\n",
      "yahoo_A3 0.799999944000003 0.2660714265473892 -0.0\n",
      "yahoo_A3 0.9565216809073751 0.885629212731804 0.6249999296875072\n",
      "yahoo_A3 0.8571428000000028 0.6496031402979694 0.47301584870294877\n",
      "yahoo_A3 0.6666666148148177 0.4303438938890103 0.47777775979629683\n",
      "yahoo_A3 0.8571428000000028 0.7524999425990493 0.7777777303703726\n",
      "yahoo_A3 0.4999999562500026 0.11408730286310116 0.2291666530381951\n",
      "yahoo_A3 0.9090908512396723 2.041245759923482e-09 0.0\n",
      "yahoo_A3 0.9565216809073751 8.298898041037347e-10 0.0\n",
      "yahoo_A3 0.842105205540169 0.3894047523644019 0.34999998612500044\n",
      "yahoo_A3 0.8571428000000028 0.474861097623113 0.2499999854166673\n",
      "yahoo_A3 0.4999999562500026 0.10902777759176818 0.0624999960937502\n",
      "yahoo_A3 0.799999944000003 0.3757034541386733 0.23749998837500041\n",
      "yahoo_A3 0.0 0.0 -0.0\n",
      "yahoo_A3 0.8571428000000028 0.33407737620391575 0.04464285505420926\n",
      "yahoo_A3 0.0 0.0 -0.0\n",
      "yahoo_A3 0.8571428000000028 2.3002345183742616e-09 0.0\n",
      "yahoo_A3 0.6666666148148177 0.0 0.0\n",
      "yahoo_A3 0.9999999416666693 0.5555555420910497 0.0\n",
      "yahoo_A3 0.9473683612188393 0.9185713793261207 0.9499999424444476\n",
      "yahoo_A3 0.28571425714285853 0.09821427970151163 0.34999996400000344\n",
      "yahoo_A3 0.736842050969532 0.23015872817621355 -0.0\n",
      "yahoo_A3 0.6666666148148177 0.21285714042039686 0.19999999266666688\n",
      "yahoo_A3 0.799999944000003 0.3736507840021751 0.2999999865000004\n",
      "yahoo_A3 0.7142856581632683 0.20833333302218576 0.5277777457407431\n",
      "yahoo_A3 0.4999999562500026 0.0 0.0\n",
      "yahoo_A3 0.4999999562500026 1.628607289663713e-08 0.37499997031250226\n",
      "yahoo_A3 0.799999944000003 2.6352813019987666e-09 0.0\n",
      "yahoo_A3 0.6249999492187529 0.08333334497366353 0.28571427163265367\n",
      "yahoo_A3 0.4999999562500026 0.14675925578344792 0.041666664756944506\n",
      "yahoo_A3 0.8571428000000028 0.5167077519004456 0.2916666532986116\n",
      "yahoo_A3 0.9090908512396723 0.3815887157953836 -0.0\n",
      "yahoo_A3 0.799999944000003 0.0 0.0\n",
      "yahoo_A3 0.8571428000000028 0.6767970131497295 0.6551586963634746\n",
      "yahoo_A3 0.6666666148148177 0.3125165257109011 0.3083333218194448\n",
      "yahoo_A3 0.5882352456747433 0.10714286200143362 0.14285713367346983\n",
      "yahoo_A3 0.6666666148148177 0.2514880895519864 0.17777776885185226\n",
      "yahoo_A3 0.5882352456747433 0.1785714250807286 0.35714283418367465\n",
      "yahoo_A3 0.9090908512396723 0.5871244140306713 0.1999999860000008\n",
      "yahoo_A3 0.5882352456747433 0.30416665460479836 0.4999999767857151\n",
      "yahoo_A3 0.6666666148148177 0.33805554337403243 0.42499998379166715\n",
      "yahoo_A3 0.7058822989619408 0.08888888800476993 0.0\n",
      "yahoo_A3 0.666666611111114 0.29999998671825445 0.70833330295139\n"
     ]
    },
    {
     "data": {
      "application/vnd.jupyter.widget-view+json": {
       "model_id": "bd4444d9528049669c74ff342973404c",
       "version_major": 2,
       "version_minor": 0
      },
      "text/plain": [
       "  0%|          | 0/100 [00:00<?, ?it/s]"
      ]
     },
     "metadata": {},
     "output_type": "display_data"
    },
    {
     "data": {
      "application/vnd.jupyter.widget-view+json": {
       "model_id": "83e964602194414db73fe714894fc4ca",
       "version_major": 2,
       "version_minor": 0
      },
      "text/plain": [
       "  0%|          | 0/100 [00:00<?, ?it/s]"
      ]
     },
     "metadata": {},
     "output_type": "display_data"
    },
    {
     "name": "stdout",
     "output_type": "stream",
     "text": [
      "yahoo_A4 0.6666666148148177 0.40849204766817154 0.527777757546297\n",
      "yahoo_A4 0.0 0.0 -0.0\n",
      "yahoo_A4 0.4999999562500026 0.0714285775077294 0.24999997187500275\n",
      "yahoo_A4 0.6666666148148177 0.12321428488378036 0.3333333202777782\n",
      "yahoo_A4 0.4999999562500026 0.07142857955137984 0.2499999843750008\n",
      "yahoo_A4 0.999999930000003 0.9166665921675762 0.999999930000004\n",
      "yahoo_A4 0.736842050969532 0.3207804158246333 0.1999999920000002\n",
      "yahoo_A4 0.5333332871111137 0.16736110679852345 0.24999998750000055\n",
      "yahoo_A4 0.0 0.0 -0.0\n",
      "yahoo_A4 0.5333332871111137 2.7651513124356705e-09 0.0\n",
      "yahoo_A4 0.0 0.0 -0.0\n",
      "yahoo_A4 0.9090908512396723 0.861892142833962 0.7152777334587216\n",
      "yahoo_A4 0.736842050969532 0.2596230115339825 0.04999999775000007\n",
      "yahoo_A4 0.9090908512396723 0.4724702285105039 -0.0\n",
      "yahoo_A4 0.6666666148148177 0.1269841325481336 0.0833333277777781\n",
      "yahoo_A4 0.736842050969532 0.08333334512160165 0.0\n",
      "yahoo_A4 0.0 0.0 -0.0\n",
      "yahoo_A4 0.3999999626666689 0.0 0.0\n",
      "yahoo_A4 0.15384613727810673 0.04166666215277823 -0.0\n",
      "yahoo_A4 0.4999999562500026 2.5252523422138635e-09 0.0\n",
      "yahoo_A4 0.9090908512396723 2.041245759923482e-09 0.0\n",
      "yahoo_A4 0.8571428000000028 0.0 0.0\n",
      "yahoo_A4 0.9999999416666693 0.9444444018709455 0.0\n",
      "yahoo_A4 0.9565216809073751 0.13888889101314167 0.0\n",
      "yahoo_A4 0.4999999562500026 0.13872354229267167 0.18749998828125058\n",
      "yahoo_A4 0.7058822989619408 0.32476189550154677 0.1799999931333335\n",
      "yahoo_A4 0.799999944000003 0.0 0.0\n",
      "yahoo_A4 0.4999999562500026 0.09375000344828427 0.12499999427083351\n",
      "yahoo_A4 0.6666666148148177 0.0 0.0\n",
      "yahoo_A4 0.8333332708333363 0.5333333111557248 0.6249999720833342\n",
      "yahoo_A4 0.9999999416666693 0.28571428276360555 0.0\n",
      "yahoo_A4 0.0 0.0 0.0\n",
      "yahoo_A4 0.4999999562500026 0.0 0.0\n",
      "yahoo_A4 0.8571428000000028 0.44499431975376513 0.19999998933333374\n",
      "yahoo_A4 0.9565216809073751 0.7701028844160853 0.16666664722222418\n",
      "yahoo_A4 0.15384613727810673 0.04166666215277823 -0.0\n",
      "yahoo_A4 0.6666666148148177 0.2829665635625628 0.3055555439814818\n",
      "yahoo_A4 0.4999999562500026 0.1387235420843384 0.11458332651909756\n",
      "yahoo_A4 0.5882352456747433 0.1771825363237842 0.2619047458616788\n",
      "yahoo_A4 0.799999944000003 0.43970897805552567 0.21696427638934979\n"
     ]
    }
   ],
   "source": [
    "for loader in [load_yahoo_A1, load_yahoo_A2, load_yahoo_A3, load_yahoo_A4]:\n",
    "    datasets = loader(128, 32)\n",
    "    x_trains, x_tests, y_tests = datasets['x_train'], datasets['x_test'], datasets['y_test']\n",
    "    \n",
    "    for i in tqdm(range(len(x_trains))):\n",
    "        tf.keras.backend.clear_session()\n",
    "\n",
    "        X_train = x_trains[i]\n",
    "        X_test = x_tests[i]\n",
    "        \n",
    "        latent_dim = 16\n",
    "\n",
    "        encoder_inputs = keras.Input(shape=(X_train.shape[1], X_train.shape[2]))\n",
    "        x = layers.Conv1D(32, 3, activation=\"relu\", strides=2, padding=\"same\")(encoder_inputs)\n",
    "        x = layers.Conv1D(64, 3, activation=\"relu\", strides=2, padding=\"same\")(x)\n",
    "        x = layers.Flatten()(x)\n",
    "        x = layers.Dense(128, activation=\"relu\")(x)\n",
    "        z_mean = layers.Dense(latent_dim, name=\"z_mean\")(x)\n",
    "        z_log_var = layers.Dense(latent_dim, name=\"z_log_var\")(x)\n",
    "        z = Sampling()([z_mean, z_log_var])\n",
    "        encoder = keras.Model(encoder_inputs, [z_mean, z_log_var, z], name=\"encoder\")\n",
    "        \n",
    "        latent_inputs = keras.Input(shape=(latent_dim,))\n",
    "        x = layers.Dense(32* 64, activation=\"relu\")(latent_inputs)\n",
    "        x = layers.Reshape((32, 64))(x)\n",
    "        x = layers.Conv1DTranspose(64, 3, activation=\"relu\", strides=2, padding=\"same\")(x)\n",
    "        x = layers.Conv1DTranspose(32, 3, activation=\"relu\", strides=2, padding=\"same\")(x)\n",
    "        x = layers.Flatten()(x)\n",
    "        x = layers.Dense(X_train.shape[1] * X_train.shape[2])(x)\n",
    "        decoder_outputs = layers.Reshape([X_train.shape[1], X_train.shape[2]])(x)\n",
    "        decoder = keras.Model(latent_inputs, decoder_outputs, name=\"decoder\")\n",
    "        \n",
    "        model = VAE(encoder, decoder)\n",
    "        model.compile(optimizer=keras.optimizers.Adam(learning_rate=0.001))\n",
    "        history = model.fit(X_train, epochs=50, batch_size=128, verbose=0)\n",
    "        \n",
    "        X_test_rec = model.decoder.predict(model.encoder.predict(X_test)[-1])\n",
    "        scores = evaluate(X_test, X_test_rec, y_tests[i], is_reconstructed=True)\n",
    "    \n",
    "        total_scores['dataset'].append(loader.__name__.replace('load_', ''))\n",
    "        total_scores['f1'].append(np.max(scores['f1']))\n",
    "        total_scores['pr_auc'].append(scores['pr_auc'])\n",
    "        total_scores['roc_auc'].append(scores['roc_auc'])\n",
    "        print(loader.__name__.replace('load_', ''), np.max(scores['f1']), scores['pr_auc'], scores['roc_auc'])   "
   ]
  },
  {
   "cell_type": "code",
   "execution_count": null,
   "id": "bd9e37fd-124c-4f5c-8f1f-a9d61a4b0315",
   "metadata": {},
   "outputs": [],
   "source": [
    "yahoo_results = pd.DataFrame(total_scores)"
   ]
  },
  {
   "cell_type": "code",
   "execution_count": null,
   "id": "dd0ffd29-f548-4ff5-bced-b8ea85ef0697",
   "metadata": {},
   "outputs": [],
   "source": [
    "yahoo_results.groupby('dataset').mean()"
   ]
  },
  {
   "cell_type": "markdown",
   "id": "8890a678-6116-4222-b0ff-395fcd7f41aa",
   "metadata": {},
   "source": [
    "### NASA"
   ]
  },
  {
   "cell_type": "code",
   "execution_count": null,
   "id": "e4387a80-585a-488e-94a8-546f42d47632",
   "metadata": {},
   "outputs": [],
   "source": [
    "total_scores = {'dataset': [], 'f1': [], 'pr_auc': [], 'roc_auc': []}"
   ]
  },
  {
   "cell_type": "code",
   "execution_count": null,
   "id": "106a238d-c5cb-49e9-9764-b1bc37f09436",
   "metadata": {},
   "outputs": [],
   "source": [
    "for loader in [load_nasa]:\n",
    "    datasets = loader(100, 100)\n",
    "    x_trains, x_tests, y_tests = datasets['x_train'], datasets['x_test'], datasets['y_test']\n",
    "    \n",
    "    for i in tqdm(range(len(x_trains))):\n",
    "        tf.keras.backend.clear_session()\n",
    "\n",
    "        X_train = x_trains[i]\n",
    "        X_test = x_tests[i]\n",
    "        \n",
    "        latent_dim = 16\n",
    "\n",
    "        encoder_inputs = keras.Input(shape=(X_train.shape[1], X_train.shape[2]))\n",
    "        x = layers.Conv1D(32, 3, activation=\"relu\", strides=2, padding=\"same\")(encoder_inputs)\n",
    "        x = layers.Conv1D(64, 3, activation=\"relu\", strides=2, padding=\"same\")(x)\n",
    "        x = layers.Flatten()(x)\n",
    "        x = layers.Dense(128, activation=\"relu\")(x)\n",
    "        z_mean = layers.Dense(latent_dim, name=\"z_mean\")(x)\n",
    "        z_log_var = layers.Dense(latent_dim, name=\"z_log_var\")(x)\n",
    "        z = Sampling()([z_mean, z_log_var])\n",
    "        encoder = keras.Model(encoder_inputs, [z_mean, z_log_var, z], name=\"encoder\")\n",
    "        \n",
    "        latent_inputs = keras.Input(shape=(latent_dim,))\n",
    "        x = layers.Dense(32* 64, activation=\"relu\")(latent_inputs)\n",
    "        x = layers.Reshape((32, 64))(x)\n",
    "        x = layers.Conv1DTranspose(64, 3, activation=\"relu\", strides=2, padding=\"same\")(x)\n",
    "        x = layers.Conv1DTranspose(32, 3, activation=\"relu\", strides=2, padding=\"same\")(x)\n",
    "        x = layers.Flatten()(x)\n",
    "        x = layers.Dense(X_train.shape[1] * X_train.shape[2])(x)\n",
    "        decoder_outputs = layers.Reshape([X_train.shape[1], X_train.shape[2]])(x)\n",
    "        decoder = keras.Model(latent_inputs, decoder_outputs, name=\"decoder\")\n",
    "        \n",
    "        model = VAE(encoder, decoder)\n",
    "        model.compile(optimizer=keras.optimizers.Adam(learning_rate=0.001))\n",
    "        history = model.fit(X_train, epochs=50, batch_size=128, verbose=0)\n",
    "        \n",
    "        X_test_rec = model.decoder.predict(model.encoder.predict(X_test)[-1])\n",
    "        scores = evaluate(X_test, X_test_rec, y_tests[i], is_reconstructed=True)\n",
    "        \n",
    "        total_scores['dataset'].append(f'D{i+1}')\n",
    "        total_scores['f1'].append(np.max(scores['f1']))\n",
    "        total_scores['pr_auc'].append(scores['pr_auc'])\n",
    "        total_scores['roc_auc'].append(scores['roc_auc'])\n",
    "        print(f'D{i+1}', np.max(scores['f1']), scores['pr_auc'], scores['roc_auc'])   "
   ]
  },
  {
   "cell_type": "code",
   "execution_count": null,
   "id": "abb7a6a5-3924-4a33-bc54-871559819602",
   "metadata": {},
   "outputs": [],
   "source": [
    "nasa_results = pd.DataFrame(total_scores)"
   ]
  },
  {
   "cell_type": "code",
   "execution_count": null,
   "id": "47b35a95-f236-4ae8-b244-5395fe9955bd",
   "metadata": {},
   "outputs": [],
   "source": [
    "nasa_results.groupby('dataset').mean()"
   ]
  },
  {
   "cell_type": "markdown",
   "id": "41754734-5c75-4caf-9069-fb3b39c7a0da",
   "metadata": {},
   "source": [
    "### SMD"
   ]
  },
  {
   "cell_type": "code",
   "execution_count": null,
   "id": "60a26807-8359-42d4-82b4-9e1d37b6acaa",
   "metadata": {},
   "outputs": [],
   "source": [
    "total_scores = {'dataset': [], 'f1': [], 'pr_auc': [], 'roc_auc': []}"
   ]
  },
  {
   "cell_type": "code",
   "execution_count": null,
   "id": "41af318e-1b08-4cc9-a680-6b4a978544f2",
   "metadata": {},
   "outputs": [],
   "source": [
    "for loader in [load_smd]:\n",
    "    datasets = loader(100, 100)\n",
    "    x_trains, x_tests, y_tests = datasets['x_train'], datasets['x_test'], datasets['y_test']\n",
    "    \n",
    "    for i in tqdm(range(len(x_trains))):\n",
    "        tf.keras.backend.clear_session()\n",
    "\n",
    "        X_train = x_trains[i]\n",
    "        X_test = x_tests[i]\n",
    "        \n",
    "        latent_dim = 16\n",
    "\n",
    "        encoder_inputs = keras.Input(shape=(X_train.shape[1], X_train.shape[2]))\n",
    "        x = layers.Conv1D(32, 3, activation=\"relu\", strides=2, padding=\"same\")(encoder_inputs)\n",
    "        x = layers.Conv1D(64, 3, activation=\"relu\", strides=2, padding=\"same\")(x)\n",
    "        x = layers.Flatten()(x)\n",
    "        x = layers.Dense(128, activation=\"relu\")(x)\n",
    "        z_mean = layers.Dense(latent_dim, name=\"z_mean\")(x)\n",
    "        z_log_var = layers.Dense(latent_dim, name=\"z_log_var\")(x)\n",
    "        z = Sampling()([z_mean, z_log_var])\n",
    "        encoder = keras.Model(encoder_inputs, [z_mean, z_log_var, z], name=\"encoder\")\n",
    "        \n",
    "        latent_inputs = keras.Input(shape=(latent_dim,))\n",
    "        x = layers.Dense(32* 64, activation=\"relu\")(latent_inputs)\n",
    "        x = layers.Reshape((32, 64))(x)\n",
    "        x = layers.Conv1DTranspose(64, 3, activation=\"relu\", strides=2, padding=\"same\")(x)\n",
    "        x = layers.Conv1DTranspose(32, 3, activation=\"relu\", strides=2, padding=\"same\")(x)\n",
    "        x = layers.Flatten()(x)\n",
    "        x = layers.Dense(X_train.shape[1] * X_train.shape[2])(x)\n",
    "        decoder_outputs = layers.Reshape([X_train.shape[1], X_train.shape[2]])(x)\n",
    "        decoder = keras.Model(latent_inputs, decoder_outputs, name=\"decoder\")\n",
    "        \n",
    "        model = VAE(encoder, decoder)\n",
    "        model.compile(optimizer=keras.optimizers.Adam(learning_rate=0.001))\n",
    "        history = model.fit(X_train, epochs=50, batch_size=128, verbose=0)\n",
    "        \n",
    "        X_test_rec = model.decoder.predict(model.encoder.predict(X_test)[-1])\n",
    "        scores = evaluate(X_test, X_test_rec, y_tests[i], is_reconstructed=True)\n",
    "\n",
    "        total_scores['dataset'].append(loader.__name__.replace('load_', ''))\n",
    "        total_scores['f1'].append(np.max(scores['f1']))\n",
    "        total_scores['pr_auc'].append(scores['pr_auc'])\n",
    "        total_scores['roc_auc'].append(scores['roc_auc'])\n",
    "        print(loader.__name__.replace('load_', ''), np.max(scores['f1']), scores['pr_auc'], scores['roc_auc'])   "
   ]
  },
  {
   "cell_type": "code",
   "execution_count": null,
   "id": "23474773-bac1-4145-ac75-c1a686bca5c6",
   "metadata": {},
   "outputs": [],
   "source": [
    "smd_results = pd.DataFrame(total_scores)"
   ]
  },
  {
   "cell_type": "code",
   "execution_count": null,
   "id": "0f82f57f-4d93-4003-b22b-93bd75cf36e7",
   "metadata": {},
   "outputs": [],
   "source": [
    "smd_results.groupby('dataset').mean()"
   ]
  },
  {
   "cell_type": "code",
   "execution_count": null,
   "id": "8a2f4c6f-5b06-4a68-82c5-f12bdbc6e527",
   "metadata": {},
   "outputs": [],
   "source": []
  }
 ],
 "metadata": {
  "kernelspec": {
   "display_name": "Python 3",
   "language": "python",
   "name": "python3"
  },
  "language_info": {
   "codemirror_mode": {
    "name": "ipython",
    "version": 3
   },
   "file_extension": ".py",
   "mimetype": "text/x-python",
   "name": "python",
   "nbconvert_exporter": "python",
   "pygments_lexer": "ipython3",
   "version": "3.9.4"
  }
 },
 "nbformat": 4,
 "nbformat_minor": 5
}
