{
 "cells": [
  {
   "cell_type": "code",
   "execution_count": 1,
   "id": "a80a379b-932c-4401-8d76-b5ae5dedc6cc",
   "metadata": {},
   "outputs": [],
   "source": [
    "import os\n",
    "import random\n",
    "\n",
    "os.environ[\"CUDA_DEVICE_ORDER\"] = \"PCI_BUS_ID\";\n",
    "os.environ[\"CUDA_VISIBLE_DEVICES\"] = \"0\"\n",
    "os.environ[\"TF_FORCE_GPU_ALLOW_GROWTH\"] = \"true\""
   ]
  },
  {
   "cell_type": "code",
   "execution_count": 2,
   "id": "saving-behavior",
   "metadata": {},
   "outputs": [],
   "source": [
    "import numpy as np\n",
    "import pandas as pd\n",
    "import tensorflow as tf\n",
    "\n",
    "from evaluator import evaluate\n",
    "from data_loader import load_kdd_cup_urc, load_yahoo_A1, load_yahoo_A2, load_yahoo_A3, load_yahoo_A4, load_power_demand # Univariate Datasets\n",
    "from data_loader import load_nasa, load_ecg, load_gesture, load_smd # Multivariate Datasets\n",
    "\n",
    "from tensorflow import keras\n",
    "from tensorflow.keras import layers\n",
    "from tqdm.notebook import tqdm\n",
    "\n",
    "# THESE LINES ARE FOR REPRODUCIBILITY\n",
    "random.seed(0)\n",
    "np.random.seed(0)\n",
    "tf.random.set_seed(0)"
   ]
  },
  {
   "cell_type": "code",
   "execution_count": 3,
   "id": "49c0a8e3-705d-429b-b7a0-c3c26a3a7b2b",
   "metadata": {},
   "outputs": [],
   "source": [
    "class Sampling(layers.Layer):\n",
    "    \"\"\"Uses (z_mean, z_log_var) to sample z, the vector encoding a digit.\"\"\"\n",
    "\n",
    "    def call(self, inputs):\n",
    "        z_mean, z_log_var = inputs\n",
    "        batch = tf.shape(z_mean)[0]\n",
    "        dim = tf.shape(z_mean)[1]\n",
    "        epsilon = tf.keras.backend.random_normal(shape=(batch, dim))\n",
    "        return z_mean + tf.exp(0.5 * z_log_var) * epsilon"
   ]
  },
  {
   "cell_type": "code",
   "execution_count": 4,
   "id": "24e86739-e767-4960-b7ea-9904d224a0d4",
   "metadata": {},
   "outputs": [],
   "source": [
    "class VAE(keras.Model):\n",
    "    def __init__(self, encoder, decoder, **kwargs):\n",
    "        super(VAE, self).__init__(**kwargs)\n",
    "        self.encoder = encoder\n",
    "        self.decoder = decoder\n",
    "        self.total_loss_tracker = keras.metrics.Mean(name=\"total_loss\")\n",
    "        self.reconstruction_loss_tracker = keras.metrics.Mean(\n",
    "            name=\"reconstruction_loss\"\n",
    "        )\n",
    "        self.kl_loss_tracker = keras.metrics.Mean(name=\"kl_loss\")\n",
    "\n",
    "    @property\n",
    "    def metrics(self):\n",
    "        return [\n",
    "            self.total_loss_tracker,\n",
    "            self.reconstruction_loss_tracker,\n",
    "            self.kl_loss_tracker,\n",
    "        ]\n",
    "\n",
    "    def train_step(self, data):\n",
    "        with tf.GradientTape() as tape:\n",
    "            z_mean, z_log_var, z = self.encoder(data)\n",
    "            reconstruction = self.decoder(z)\n",
    "            reconstruction_loss = tf.reduce_mean(\n",
    "                tf.reduce_sum(\n",
    "                    keras.losses.binary_crossentropy(data, reconstruction), axis=1\n",
    "                )\n",
    "            )\n",
    "            kl_loss = -0.5 * (1 + z_log_var - tf.square(z_mean) - tf.exp(z_log_var))\n",
    "            kl_loss = tf.reduce_mean(tf.reduce_sum(kl_loss, axis=1))\n",
    "            total_loss = reconstruction_loss + kl_loss\n",
    "        grads = tape.gradient(total_loss, self.trainable_weights)\n",
    "        self.optimizer.apply_gradients(zip(grads, self.trainable_weights))\n",
    "        self.total_loss_tracker.update_state(total_loss)\n",
    "        self.reconstruction_loss_tracker.update_state(reconstruction_loss)\n",
    "        self.kl_loss_tracker.update_state(kl_loss)\n",
    "        return {\n",
    "            \"loss\": self.total_loss_tracker.result(),\n",
    "            \"reconstruction_loss\": self.reconstruction_loss_tracker.result(),\n",
    "            \"kl_loss\": self.kl_loss_tracker.result(),\n",
    "        }"
   ]
  },
  {
   "cell_type": "code",
   "execution_count": 5,
   "id": "25e36252-2bfc-4f40-9e62-ada4d1878573",
   "metadata": {},
   "outputs": [],
   "source": [
    "def CNN_VAE(X_train):\n",
    "    latent_dim = 16\n",
    "\n",
    "    encoder_inputs = keras.Input(shape=(X_train.shape[1], X_train.shape[2]))\n",
    "    x = layers.Conv1D(32, 3, activation=\"relu\", strides=2, padding=\"same\")(encoder_inputs)\n",
    "    x = layers.Conv1D(64, 3, activation=\"relu\", strides=2, padding=\"same\")(x)\n",
    "    x = layers.Flatten()(x)\n",
    "    x = layers.Dense(128, activation=\"relu\")(x)\n",
    "    z_mean = layers.Dense(latent_dim, name=\"z_mean\")(x)\n",
    "    z_log_var = layers.Dense(latent_dim, name=\"z_log_var\")(x)\n",
    "    z = Sampling()([z_mean, z_log_var])\n",
    "    encoder = keras.Model(encoder_inputs, [z_mean, z_log_var, z], name=\"encoder\")\n",
    "\n",
    "    latent_inputs = keras.Input(shape=(latent_dim,))\n",
    "    x = layers.Dense(32* 64, activation=\"relu\")(latent_inputs)\n",
    "    x = layers.Reshape((32, 64))(x)\n",
    "    x = layers.Conv1DTranspose(64, 3, activation=\"relu\", strides=2, padding=\"same\")(x)\n",
    "    x = layers.Conv1DTranspose(32, 3, activation=\"relu\", strides=2, padding=\"same\")(x)\n",
    "    x = layers.Flatten()(x)\n",
    "    x = layers.Dense(X_train.shape[1] * X_train.shape[2])(x)\n",
    "    decoder_outputs = layers.Reshape([X_train.shape[1], X_train.shape[2]])(x)\n",
    "    decoder = keras.Model(latent_inputs, decoder_outputs, name=\"decoder\")\n",
    "\n",
    "    model = VAE(encoder, decoder)\n",
    "    model.compile(optimizer=keras.optimizers.Adam(learning_rate=0.001))\n",
    "    history = model.fit(X_train, epochs=50, batch_size=128, verbose=0)\n",
    "    return model"
   ]
  },
  {
   "cell_type": "markdown",
   "id": "fa97c067-d18d-4c06-ae1b-2cbfe88788b6",
   "metadata": {},
   "source": [
    "### Yahoo S5"
   ]
  },
  {
   "cell_type": "code",
   "execution_count": 6,
   "id": "eight-partition",
   "metadata": {},
   "outputs": [],
   "source": [
    "total_scores = {'dataset': [], 'f1': [], 'pr_auc': [], 'roc_auc': []}"
   ]
  },
  {
   "cell_type": "code",
   "execution_count": 7,
   "id": "71866d92-1163-4975-bb99-4302ccda66c3",
   "metadata": {
    "scrolled": true,
    "tags": []
   },
   "outputs": [
    {
     "data": {
      "application/vnd.jupyter.widget-view+json": {
       "model_id": "12538794836640eb9c5246ec6c4a0e44",
       "version_major": 2,
       "version_minor": 0
      },
      "text/plain": [
       "  0%|          | 0/67 [00:00<?, ?it/s]"
      ]
     },
     "metadata": {},
     "output_type": "display_data"
    },
    {
     "data": {
      "application/vnd.jupyter.widget-view+json": {
       "model_id": "8251b440a11f4d5aa450ac5082234975",
       "version_major": 2,
       "version_minor": 0
      },
      "text/plain": [
       "  0%|          | 0/56 [00:00<?, ?it/s]"
      ]
     },
     "metadata": {},
     "output_type": "display_data"
    },
    {
     "name": "stdout",
     "output_type": "stream",
     "text": [
      "yahoo_A1 0.5714285142857172 0.1666666606944441 0.33333328888889363\n",
      "yahoo_A1 0.0 0.0 -0.0\n",
      "WARNING:tensorflow:5 out of the last 5 calls to <function Model.make_predict_function.<locals>.predict_function at 0x7fa76c330dc0> triggered tf.function retracing. Tracing is expensive and the excessive number of tracings could be due to (1) creating @tf.function repeatedly in a loop, (2) passing tensors with different shapes, (3) passing Python objects instead of tensors. For (1), please define your @tf.function outside of the loop. For (2), @tf.function has experimental_relax_shapes=True option that relaxes argument shapes that can avoid unnecessary retracing. For (3), please refer to https://www.tensorflow.org/guide/function#controlling_retracing and https://www.tensorflow.org/api_docs/python/tf/function for  more details.\n",
      "WARNING:tensorflow:6 out of the last 6 calls to <function Model.make_predict_function.<locals>.predict_function at 0x7fa76c3305e0> triggered tf.function retracing. Tracing is expensive and the excessive number of tracings could be due to (1) creating @tf.function repeatedly in a loop, (2) passing tensors with different shapes, (3) passing Python objects instead of tensors. For (1), please define your @tf.function outside of the loop. For (2), @tf.function has experimental_relax_shapes=True option that relaxes argument shapes that can avoid unnecessary retracing. For (3), please refer to https://www.tensorflow.org/guide/function#controlling_retracing and https://www.tensorflow.org/api_docs/python/tf/function for  more details.\n",
      "yahoo_A1 0.0 0.0 -0.0\n",
      "yahoo_A1 0.0 0.0 0.0\n",
      "yahoo_A1 0.0 0.0 0.0\n",
      "yahoo_A1 0.0 0.0 0.0\n",
      "yahoo_A1 0.33333329444444565 0.09999998800000123 0.49999993750000654\n",
      "yahoo_A1 0.9999998500000123 0.7499998666666867 0.9999999000000085\n",
      "yahoo_A1 0.9999998500000123 0.7499998666666867 0.9999999000000084\n",
      "yahoo_A1 0.33333329444444565 0.09999998800000123 -0.0\n",
      "yahoo_A1 0.8888888197530895 0.25000000993055255 -0.0\n",
      "yahoo_A1 0.5714285142857172 0.1999999860000008 0.16666665277777867\n",
      "yahoo_A1 0.9999998500000123 0.49999990000001493 0.9999998750000131\n",
      "yahoo_A1 0.0 0.0 -0.0\n",
      "yahoo_A1 0.33333329444444565 0.0 0.0\n",
      "yahoo_A1 0.0 0.0 -0.0\n",
      "yahoo_A1 0.7499999343750033 0.2916666536111113 0.24999997500000196\n",
      "yahoo_A1 0.7499999343750033 0.1666666744444422 -0.0\n",
      "yahoo_A1 0.7499999343750033 0.3194444278009265 -0.0\n",
      "yahoo_A1 0.7499999343750033 0.5972221582407472 0.5833332805555593\n",
      "yahoo_A1 0.0 0.0 0.0\n",
      "yahoo_A1 0.0 0.0 0.0\n",
      "yahoo_A1 0.7999999200000041 0.5833332772222273 0.6666666111111148\n",
      "yahoo_A1 0.9999999000000052 0.7499999175000078 0.9999999000000078\n",
      "yahoo_A1 0.0 0.0 0.0\n",
      "yahoo_A1 0.8888888197530895 0.7187499298958404 0.4999999250000088\n",
      "yahoo_A1 0.7999999200000041 0.5416666027777841 0.8333332638888935\n",
      "yahoo_A1 0.7499999343750033 0.3194444278009265 0.0\n",
      "yahoo_A1 0.7499999343750033 0.0 0.0\n",
      "yahoo_A1 0.0 0.0 -0.0\n",
      "yahoo_A1 0.999999930000003 0.0 0.0\n",
      "yahoo_A1 0.5714285142857172 0.1250000006249989 -0.0\n",
      "yahoo_A1 0.39999995200000177 0.12499998437500164 0.6249999218750082\n",
      "yahoo_A1 0.6666666000000033 0.1666666569444447 0.33333330555555735\n",
      "yahoo_A1 0.5714285142857172 0.1250000006249989 -0.0\n",
      "yahoo_A1 0.7499999343750033 0.16666667444444216 -0.0\n",
      "yahoo_A1 0.7999999200000041 0.5833332688888956 0.7499999250000059\n",
      "yahoo_A1 0.0 0.0 -0.0\n",
      "yahoo_A1 0.8571427836734729 0.41666663958333483 0.49999995833333605\n",
      "yahoo_A1 0.7499999343750033 0.3472222023379638 -0.0\n",
      "yahoo_A1 0.33333329444444565 0.0 0.0\n",
      "yahoo_A1 0.8888888197530895 0.22222221456018534 0.0\n",
      "yahoo_A1 0.8888888197530895 0.4166666460416676 -0.0\n",
      "yahoo_A1 0.7499999343750033 0.16666667444444216 -0.0\n",
      "yahoo_A1 0.0 0.0 0.0\n",
      "yahoo_A1 0.0 0.0 0.0\n",
      "yahoo_A1 0.5714285142857172 0.1250000006249989 -0.0\n",
      "yahoo_A1 0.0 0.0 -0.0\n",
      "yahoo_A1 0.0 0.0 0.0\n",
      "yahoo_A1 0.0 0.0 0.0\n",
      "yahoo_A1 0.5714285142857172 0.1250000006249989 -0.0\n",
      "yahoo_A1 0.5714285142857172 0.1999999860000008 0.49999995833333605\n",
      "yahoo_A1 0.0 0.0 -0.0\n",
      "yahoo_A1 0.666666577777783 0.2499999625000044 0.7499999062500098\n",
      "yahoo_A1 0.39999995200000177 0.12499998437500164 -0.0\n",
      "yahoo_A1 0.5714285142857172 0.0 0.0\n"
     ]
    },
    {
     "data": {
      "application/vnd.jupyter.widget-view+json": {
       "model_id": "0bd37deec605405d9b5b5af1dbdea232",
       "version_major": 2,
       "version_minor": 0
      },
      "text/plain": [
       "  0%|          | 0/100 [00:00<?, ?it/s]"
      ]
     },
     "metadata": {},
     "output_type": "display_data"
    },
    {
     "data": {
      "application/vnd.jupyter.widget-view+json": {
       "model_id": "9f78030b2c3f499c980680ac7c42f107",
       "version_major": 2,
       "version_minor": 0
      },
      "text/plain": [
       "  0%|          | 0/100 [00:00<?, ?it/s]"
      ]
     },
     "metadata": {},
     "output_type": "display_data"
    },
    {
     "name": "stdout",
     "output_type": "stream",
     "text": [
      "yahoo_A2 0.46153841893491365 0.10416666659143475 -0.0\n",
      "yahoo_A2 0.46153841893491365 0.12499999899470854 0.2857142673469398\n",
      "yahoo_A2 0.46153841893491365 0.06250000600115631 -0.0\n",
      "yahoo_A2 0.4285713887755125 0.07142857588525468 0.24999997812500177\n",
      "yahoo_A2 0.24999997187500062 0.0 0.0\n",
      "yahoo_A2 0.46153841893491365 0.1190476180281553 0.14285713367346983\n",
      "yahoo_A2 0.46153841893491365 0.10863095196292713 0.17708332469618088\n",
      "yahoo_A2 0.33333329444444565 0.09999998800000123 0.3333332944444484\n",
      "yahoo_A2 0.46153841893491365 0.06250000600115631 -0.0\n",
      "yahoo_A2 0.46153841893491365 0.07142857629771254 0.2499999802083349\n",
      "yahoo_A2 0.24999997187500062 0.07142856326530694 -0.0\n",
      "yahoo_A2 0.46153841893491365 0.13425925480838485 -0.0\n",
      "yahoo_A2 0.4285713887755125 0.06250000558869845 0.1249999921875004\n",
      "yahoo_A2 0.4444443901234612 0.17361110408522745 0.39583331414930634\n",
      "yahoo_A2 0.24999997187500062 0.07142856326530694 -0.0\n",
      "yahoo_A2 0.46153841893491365 0.06250000600115631 -0.0\n",
      "yahoo_A2 0.46153841893491365 0.1884920544368862 0.3749999786458344\n",
      "yahoo_A2 0.24999997187500062 0.07142856326530694 -0.0\n",
      "yahoo_A2 0.46153841893491365 0.13425925480838485 -0.0\n",
      "yahoo_A2 0.4285713887755125 0.11249999806092151 0.31249997421875203\n",
      "yahoo_A2 0.24999997187500062 0.07142856326530694 -0.0\n",
      "yahoo_A2 0.46153841893491365 0.09375000092303193 -0.0\n",
      "yahoo_A2 0.4285713887755125 0.0714285770261275 0.2499999843750008\n",
      "yahoo_A2 0.33333329444444565 0.09999998800000123 0.3333332944444484\n",
      "yahoo_A2 0.24999997187500062 0.07142856326530694 -0.0\n",
      "yahoo_A2 0.46153841893491365 0.10416666676504585 0.1428571336734699\n",
      "yahoo_A2 0.4285713887755125 0.1626984059306073 0.33333331388888987\n",
      "yahoo_A2 0.39999995200000177 0.12499998437500164 0.4999999416666726\n",
      "yahoo_A2 0.4999999250000064 0.2916666397685209 0.7142856397959254\n",
      "yahoo_A2 0.4285713887755125 0.09374999995501859 0.12499998906250087\n",
      "yahoo_A2 0.24999997187500062 0.07142856326530694 -0.0\n",
      "yahoo_A2 0.46153841893491365 0.06250000600115631 -0.0\n",
      "yahoo_A2 0.4285713887755125 0.12301587018797655 0.2916666428819463\n",
      "yahoo_A2 0.24999997187500062 0.07142856326530694 -0.0\n",
      "yahoo_A2 0.46153841893491365 0.06250000600115631 -0.0\n",
      "yahoo_A2 0.46153841893491365 0.06250000600115631 -0.0\n",
      "yahoo_A2 0.4999999375000028 0.388888844878552 0.8333332638888946\n",
      "yahoo_A2 0.24999997187500062 0.07142856326530694 -0.0\n",
      "yahoo_A2 0.46153841893491365 0.07142857629771254 0.14285712653061383\n",
      "yahoo_A2 0.4285713887755125 0.14467592042312608 0.2499999854166674\n",
      "yahoo_A2 0.24999997187500062 0.07142856326530694 -0.0\n",
      "yahoo_A2 0.6666666074074105 0.12500000937499783 0.5714285442176881\n",
      "yahoo_A2 0.46153841893491365 0.11964285591697336 0.2708333198784728\n",
      "yahoo_A2 0.24999997187500062 0.07142856326530694 -0.0\n",
      "yahoo_A2 0.46153841893491365 0.1333333289768519 0.3571428198979627\n",
      "yahoo_A2 0.49999995416666926 0.19722221168716986 0.6041666212673646\n",
      "yahoo_A2 0.4285713887755125 0.2043650684306076 0.5208333021701406\n",
      "yahoo_A2 0.24999997187500062 0.07142856326530694 -0.0\n",
      "yahoo_A2 0.49999995416666926 0.33333329875000367 0.8214285031462639\n",
      "yahoo_A2 0.46153841893491365 0.08333333664351769 0.4374999591145871\n",
      "yahoo_A2 0.33333329444444565 0.09999998800000123 0.3333332944444484\n",
      "yahoo_A2 0.46153841893491365 0.14365078940684045 0.32142854481292726\n",
      "yahoo_A2 0.4285713887755125 0.07142857498247705 0.24999997187500275\n",
      "yahoo_A2 0.24999997187500062 0.07142856326530694 -0.0\n",
      "yahoo_A2 0.46153841893491365 0.06250000600115631 -0.0\n",
      "yahoo_A2 0.4285713887755125 0.15773808852875074 0.31249998046875105\n",
      "yahoo_A2 0.24999997187500062 0.07142856326530694 -0.0\n",
      "yahoo_A2 0.24999997187500062 0.07142856326530694 -0.0\n",
      "yahoo_A2 0.46153841893491365 0.12857142576710112 0.23809521723356186\n",
      "yahoo_A2 0.4285713887755125 0.13425925439592698 0.1249999921875004\n",
      "yahoo_A2 0.24999997187500062 0.07142856326530694 -0.0\n",
      "yahoo_A2 0.46153841893491365 0.23273808133009805 0.4285714034013618\n",
      "yahoo_A2 0.4285713887755125 0.12037036655256272 -0.0\n",
      "yahoo_A2 0.24999997187500062 0.07142856326530694 -0.0\n",
      "yahoo_A2 0.46153841893491365 0.11904761688728248 0.14285712653061383\n",
      "yahoo_A2 0.4999999500000025 0.10000000591666525 0.49999997187500145\n",
      "yahoo_A2 0.24999997187500062 0.07142856326530694 -0.0\n",
      "yahoo_A2 0.46153841893491365 0.06250000600115631 -0.0\n",
      "yahoo_A2 0.49999995416666926 0.1577380894504678 0.21428570289115695\n",
      "yahoo_A2 0.4285713887755125 0.07142857588525468 0.24999997812500177\n",
      "yahoo_A2 0.24999997187500062 0.07142856326530694 -0.0\n",
      "yahoo_A2 0.46153841893491365 0.18055554911044966 0.4761904463718836\n",
      "yahoo_A2 0.4285713887755125 0.1324915775837841 -0.0\n",
      "yahoo_A2 0.24999997187500062 0.07142856326530694 -0.0\n",
      "yahoo_A2 0.46153841893491365 0.1446759206503988 0.1428571336734699\n",
      "yahoo_A2 0.4285713887755125 0.08333333440235645 -0.0\n",
      "yahoo_A2 0.24999997187500062 0.07142856326530694 -0.0\n",
      "yahoo_A2 0.46153841893491365 0.11904761688728248 0.14285712653061383\n",
      "yahoo_A2 0.4285713887755125 3.9393935457305224e-09 0.0\n",
      "yahoo_A2 0.4285713887755125 0.16865078541567918 0.47916662491319795\n",
      "yahoo_A2 0.24999997187500062 0.07142856326530694 -0.0\n",
      "yahoo_A2 0.5999999460000028 0.2861110959279106 0.6666666325396838\n",
      "yahoo_A2 0.4285713887755125 0.06250000576336169 0.12499998593750138\n",
      "yahoo_A2 0.24999997187500062 0.07142856326530694 -0.0\n",
      "yahoo_A2 0.46153841893491365 0.07142857743858536 0.14285713367346983\n",
      "yahoo_A2 0.4285713887755125 0.09374999960779642 0.12499998593750138\n",
      "yahoo_A2 0.24999997187500062 0.07142856326530694 -0.0\n",
      "yahoo_A2 0.46153841893491365 0.16412036331706556 0.19047617902494388\n",
      "yahoo_A2 0.4285713887755125 0.06250000468592082 0.12499998593750138\n",
      "yahoo_A2 0.24999997187500062 0.07142856326530694 -0.0\n",
      "yahoo_A2 0.24999997187500062 0.07142856326530694 -0.0\n",
      "yahoo_A2 0.46153841893491365 0.09821428742878333 0.1071428502551024\n",
      "yahoo_A2 0.4285713887755125 0.06250000468592082 0.12499998593750138\n",
      "yahoo_A2 0.24999997187500062 0.07142856326530694 -0.0\n",
      "yahoo_A2 0.46153841893491365 0.18101851113143025 0.35714283894557897\n",
      "yahoo_A2 0.46153841893491365 0.07142857767006681 0.24999998750000046\n",
      "yahoo_A2 0.24999997187500062 0.07142856326530694 -0.0\n",
      "yahoo_A2 0.46153841893491365 0.08333333664351769 0.2857142530612278\n",
      "yahoo_A2 0.4285713887755125 0.06250000558869845 0.1249999921875004\n",
      "yahoo_A2 0.28571425306122533 0.08333332361111209 0.1666666472222242\n"
     ]
    },
    {
     "data": {
      "application/vnd.jupyter.widget-view+json": {
       "model_id": "030c788de28f4c29860a5d2fc5af42f2",
       "version_major": 2,
       "version_minor": 0
      },
      "text/plain": [
       "  0%|          | 0/100 [00:00<?, ?it/s]"
      ]
     },
     "metadata": {},
     "output_type": "display_data"
    },
    {
     "data": {
      "application/vnd.jupyter.widget-view+json": {
       "model_id": "06316afce34843d7a59a354562caec49",
       "version_major": 2,
       "version_minor": 0
      },
      "text/plain": [
       "  0%|          | 0/92 [00:00<?, ?it/s]"
      ]
     },
     "metadata": {},
     "output_type": "display_data"
    },
    {
     "name": "stdout",
     "output_type": "stream",
     "text": [
      "yahoo_A3 0.4999999500000025 0.12499999770833278 0.24999996875000327\n",
      "yahoo_A3 0.4999999500000025 0.2083333178472232 0.37499995937500386\n",
      "yahoo_A3 0.7999999360000031 0.16666667972221952 -0.0\n",
      "yahoo_A3 0.4999999500000025 0.16249999164583348 0.12499999062500056\n",
      "yahoo_A3 0.9090908429752097 0.49999997151389086 0.19999997600000247\n",
      "yahoo_A3 0.4999999500000025 0.10000000133333238 -0.0\n",
      "yahoo_A3 0.8571427836734729 0.6499999463055601 0.7499999437500033\n",
      "yahoo_A3 0.6666666074074105 7.499999185480748e-09 0.0\n",
      "yahoo_A3 0.8888888197530895 0.722222152060192 0.8333332680555596\n",
      "yahoo_A3 0.9999999333333361 0.8999999229027853 0.0\n",
      "yahoo_A3 0.8888888197530895 0.43749997541666774 0.7499999062500098\n",
      "yahoo_A3 0.9090908429752097 0.6749999523888925 0.39999995200000493\n",
      "yahoo_A3 0.4999999375000028 0.16666664444444684 0.5999999280000075\n",
      "yahoo_A3 0.7999999360000031 0.34722220761574113 -0.0\n",
      "yahoo_A3 0.28571425306122533 0.08333332361111209 -0.0\n",
      "yahoo_A3 0.9090908429752097 0.2500000140138856 -0.0\n",
      "yahoo_A3 0.4999999500000025 0.12499999770833278 0.24999996875000327\n",
      "yahoo_A3 0.4999999500000025 0.10000000133333238 -0.0\n",
      "yahoo_A3 0.6666666074074105 0.1250000081249981 -0.0\n",
      "yahoo_A3 0.9999998500000123 0.49999990000001493 0.9999998800000123\n",
      "yahoo_A3 0.28571425306122533 0.08333332361111209 -0.0\n",
      "yahoo_A3 0.6666666074074105 0.3124999819791675 0.22222220740740817\n",
      "yahoo_A3 0.9090908429752097 0.25000000151388807 0.0\n",
      "yahoo_A3 0.28571425306122533 0.08333332361111209 -0.0\n",
      "yahoo_A3 0.4999999500000025 0.12499999145833385 0.24999996875000327\n",
      "yahoo_A3 0.6666666074074105 0.0 0.0\n",
      "yahoo_A3 0.4999999500000025 0.0 0.0\n",
      "yahoo_A3 0.4999999375000028 0.16666664444444684 0.49999993750000654\n",
      "yahoo_A3 0.6666666074074105 0.1874999934375 0.0\n",
      "yahoo_A3 0.7999999360000031 5.277777344711406e-09 0.0\n",
      "yahoo_A3 0.9999999333333361 0.9166665956250059 0.0\n",
      "yahoo_A3 0.9999999333333361 0.9166665854166747 0.0\n",
      "yahoo_A3 0.7999999360000031 0.16666667972221952 -0.0\n",
      "yahoo_A3 0.9090908429752097 0.2500000140138856 -0.0\n",
      "yahoo_A3 0.7999999360000031 0.2777777723148143 -0.0\n",
      "yahoo_A3 0.9999999166666703 0.8333332667916719 0.9999998666666811\n",
      "yahoo_A3 0.9090908429752097 0.46874998085416725 0.0\n",
      "yahoo_A3 0.8571427836734729 0.5972221762268554 0.6666666111111148\n",
      "yahoo_A3 0.6666666074074105 0.1250000081249981 0.0\n",
      "yahoo_A3 0.9090908429752097 0.5347221945115753 -0.0\n",
      "yahoo_A3 0.0 0.0 -0.0\n",
      "yahoo_A3 0.9999999333333361 0.666666620138893 0.0\n",
      "yahoo_A3 0.9999998500000123 0.49999990000001493 0.9999998800000124\n",
      "yahoo_A3 0.4999999500000025 0.10000000133333238 -0.0\n",
      "yahoo_A3 0.9090908429752097 0.5069444182384273 -0.0\n",
      "yahoo_A3 0.9090908429752097 0.0 0.0\n",
      "yahoo_A3 0.9999999333333361 0.4999999802083341 0.0\n",
      "yahoo_A3 0.7999999360000031 0.16666667972221952 0.0\n",
      "yahoo_A3 0.4999999500000025 0.10000000133333238 -0.0\n",
      "yahoo_A3 0.666666577777783 0.24999997875000166 0.7499999187500077\n",
      "yahoo_A3 0.7499999343750033 0.36111108891203814 0.4999999638888909\n",
      "yahoo_A3 0.6666666074074105 0.1250000081249981 -0.0\n",
      "yahoo_A3 0.8888888197530895 0.3437499892708332 0.7499999375000042\n",
      "yahoo_A3 0.9090908429752097 0.5722221936226864 -0.0\n",
      "yahoo_A3 0.7999999360000031 0.2777777723148143 -0.0\n",
      "yahoo_A3 0.6666666074074105 0.16666666819444328 0.33333328888889363\n",
      "yahoo_A3 0.9090908429752097 0.0 0.0\n",
      "yahoo_A3 0.4999999500000025 0.14999999283333343 -0.0\n",
      "yahoo_A3 0.9090908429752097 0.37083331868055597 0.0\n",
      "yahoo_A3 0.9090908429752097 0.0 0.0\n",
      "yahoo_A3 0.8571427836734729 0.5104166367013904 0.49999995833333605\n",
      "yahoo_A3 0.9090908429752097 0.25000001401388555 -0.0\n",
      "yahoo_A3 0.4999999500000025 0.12499999770833278 0.24999996875000327\n",
      "yahoo_A3 0.7999999360000031 0.38888887046296367 0.3333333055555574\n",
      "yahoo_A3 0.7999999360000031 0.0 0.0\n",
      "yahoo_A3 0.7999999360000031 0.265277771384259 0.0\n",
      "yahoo_A3 0.7999999200000041 0.4444444128703723 0.6666666166666696\n",
      "yahoo_A3 0.9999999333333361 3.333332987320881e-08 0.0\n",
      "yahoo_A3 0.9090908429752097 0.6124999608263916 0.24999996875000327\n",
      "yahoo_A3 0.28571425306122533 0.0 0.0\n",
      "yahoo_A3 0.6666666074074105 0.1666666681944433 0.33333328888889363\n",
      "yahoo_A3 0.6666666074074105 0.4166666223611159 0.6666665777777874\n",
      "yahoo_A3 0.7999999360000031 0.31944443307870385 -0.0\n",
      "yahoo_A3 0.6666666074074105 0.18749999718749943 0.0\n",
      "yahoo_A3 0.4999999500000025 0.10000000133333238 -0.0\n",
      "yahoo_A3 0.4999999500000025 0.10000000133333238 -0.0\n",
      "yahoo_A3 0.8888888197530895 0.25000000993055255 0.4999999625000022\n",
      "yahoo_A3 0.6666666074074105 0.27083331982638936 0.16666665277777867\n",
      "yahoo_A3 0.7999999200000041 0.24999999166666562 0.7499999437500033\n",
      "yahoo_A3 0.9090908429752097 0.47999998088333384 -0.0\n",
      "yahoo_A3 0.9090908429752097 0.4687499808541673 -0.0\n",
      "yahoo_A3 0.7999999360000031 5.277777344711406e-09 0.0\n",
      "yahoo_A3 0.8888888197530895 0.25000000993055255 -0.0\n",
      "yahoo_A3 0.6666666074074105 0.20277777068981478 0.38888886018518687\n",
      "yahoo_A3 0.4999999500000025 0.10000000133333238 -0.0\n",
      "yahoo_A3 0.6666666074074105 0.0 0.0\n",
      "yahoo_A3 0.6666666074074105 0.3472221953935206 0.3888888601851868\n",
      "yahoo_A3 0.9090908429752097 0.41666665013888954 -0.0\n",
      "yahoo_A3 0.7999999200000041 0.16666665611111167 0.7777777203703737\n",
      "yahoo_A3 0.6666666074074105 2.8333328887586987e-08 0.33333330555555735\n",
      "yahoo_A3 0.6666666074074105 0.0 0.0\n",
      "yahoo_A3 0.4999999500000025 0.10000000133333238 -0.0\n"
     ]
    },
    {
     "data": {
      "application/vnd.jupyter.widget-view+json": {
       "model_id": "afebe56c1b254f648aebb33f3e8db475",
       "version_major": 2,
       "version_minor": 0
      },
      "text/plain": [
       "  0%|          | 0/100 [00:00<?, ?it/s]"
      ]
     },
     "metadata": {},
     "output_type": "display_data"
    },
    {
     "data": {
      "application/vnd.jupyter.widget-view+json": {
       "model_id": "564139c52174482a8f9cf70748b13523",
       "version_major": 2,
       "version_minor": 0
      },
      "text/plain": [
       "  0%|          | 0/82 [00:00<?, ?it/s]"
      ]
     },
     "metadata": {},
     "output_type": "display_data"
    },
    {
     "name": "stdout",
     "output_type": "stream",
     "text": [
      "yahoo_A4 0.7999999200000041 0.25000000083333124 0.6666666166666696\n",
      "yahoo_A4 0.4999999500000025 0.10000000133333238 -0.0\n",
      "yahoo_A4 0.6666666074074105 0.37499996750000286 0.5833332680555616\n",
      "yahoo_A4 0.5714285142857172 0.1250000006249989 0.2499999812500011\n",
      "yahoo_A4 0.9090908429752097 0.47999998088333384 -0.0\n",
      "yahoo_A4 0.7999999360000031 0.336111098439815 -0.0\n",
      "yahoo_A4 0.4999999500000025 0.12499999770833278 0.24999996875000327\n",
      "yahoo_A4 0.4999999500000025 0.0 0.0\n",
      "yahoo_A4 0.9090908429752097 0.4861110871620382 -0.0\n",
      "yahoo_A4 0.7999999360000031 0.37638887231018564 -0.0\n",
      "yahoo_A4 0.9090908429752097 4.083333052458349e-09 0.0\n",
      "yahoo_A4 0.6666666074074105 0.1666666681944433 0.33333328888889363\n",
      "yahoo_A4 0.6666666074074105 0.12500000187499916 0.0\n",
      "yahoo_A4 0.28571425306122533 0.0 0.0\n",
      "yahoo_A4 0.39999995200000177 0.12499998437500164 0.39999995200000493\n",
      "yahoo_A4 0.4999999500000025 0.0 0.0\n",
      "yahoo_A4 0.9090908429752097 0.0 0.0\n",
      "yahoo_A4 0.7999999360000031 0.0 0.0\n",
      "yahoo_A4 0.9999999333333361 0.7499999208333443 0.0\n",
      "yahoo_A4 0.999999930000003 4.999999635068048e-09 0.9999998800000123\n",
      "yahoo_A4 0.4999999500000025 0.10000000133333238 -0.0\n",
      "yahoo_A4 0.9999998500000123 0.7499998727777981 0.9999998500000176\n",
      "yahoo_A4 0.7999999360000031 0.0 0.0\n",
      "yahoo_A4 0.4999999500000025 0.10000000133333238 -0.0\n",
      "yahoo_A4 0.6666666074074105 2.374999645729026e-08 0.0\n",
      "yahoo_A4 0.8888888197530895 0.4687499767708342 0.4999999625000022\n",
      "yahoo_A4 0.9999999333333361 0.19999999433333351 0.0\n",
      "yahoo_A4 0.4999999500000025 0.0 0.0\n",
      "yahoo_A4 0.9090908429752097 0.6763888406713 0.4166666131944501\n",
      "yahoo_A4 0.9999999333333361 0.8333332729166714 0.0\n",
      "yahoo_A4 0.39999995200000177 0.12499998437500164 0.39999995200000493\n",
      "yahoo_A4 0.6666666074074105 0.16666667277777572 0.33333330555555735\n",
      "yahoo_A4 0.666666577777783 0.24999997583333555 0.7499999062500098\n",
      "yahoo_A4 0.4999999500000025 0.10000000133333238 -0.0\n",
      "yahoo_A4 0.7999999360000031 0.24999998527777953 0.4999999250000088\n",
      "yahoo_A4 0.9090908429752097 0.3333333237361113 0.0\n",
      "yahoo_A4 0.7999999360000031 0.16666667972221952 -0.0\n",
      "yahoo_A4 0.9090908429752097 0.0 0.0\n",
      "yahoo_A4 0.7999999360000031 0.31944443307870385 -0.0\n",
      "yahoo_A4 0.6666666074074105 0.27083331982638936 -0.0\n",
      "yahoo_A4 0.9090908429752097 0.2222222186435184 0.0\n",
      "yahoo_A4 0.0 0.0 0.0\n",
      "yahoo_A4 0.7999999360000031 0.5138888534490765 0.37499997187500167\n",
      "yahoo_A4 0.4999999500000025 0.10000000133333238 -0.0\n",
      "yahoo_A4 0.4999999500000025 0.18749998677083413 0.24999996875000327\n",
      "yahoo_A4 0.4999999500000025 0.0 0.0\n",
      "yahoo_A4 0.6666666074074105 0.2083333282638885 0.16666665277777867\n",
      "yahoo_A4 0.5714285142857172 0.1666666606944441 0.4999999500000044\n",
      "yahoo_A4 0.7999999360000031 0.24999999777777704 -0.0\n",
      "yahoo_A4 0.7999999360000031 0.35416665107638934 0.24999997500000196\n",
      "yahoo_A4 0.7999999360000031 0.0 0.0\n",
      "yahoo_A4 0.8571427836734729 0.2500000087499971 0.49999995833333605\n",
      "yahoo_A4 0.4999999500000025 0.10000000133333238 -0.0\n",
      "yahoo_A4 0.4999999375000028 0.16666664444444684 0.5999999280000075\n",
      "yahoo_A4 0.9090908429752097 0.0 0.0\n",
      "yahoo_A4 0.6666666074074105 0.2499999887500003 -0.0\n",
      "yahoo_A4 0.6666666074074105 0.3055555353240754 0.4444443925925977\n",
      "yahoo_A4 0.4999999500000025 0.18749998677083413 0.24999996875000327\n",
      "yahoo_A4 0.4999999500000025 0.166666657777778 0.49999993750000654\n",
      "yahoo_A4 0.7999999360000031 0.24999999777777707 0.4999999250000088\n",
      "yahoo_A4 0.6666666074074105 0.35555553446296395 0.44444441481481634\n",
      "yahoo_A4 0.7999999360000031 5.277777344711406e-09 0.0\n",
      "yahoo_A4 0.7999999360000031 0.39583331322916754 0.1666666527777787\n",
      "yahoo_A4 0.7999999360000031 3.5277772680152144e-08 0.0\n",
      "yahoo_A4 0.4999999500000025 0.0999999963333332 0.0\n",
      "yahoo_A4 0.6666666074074105 0.18749999718749943 -0.0\n",
      "yahoo_A4 0.6666666074074105 7.499999185480748e-09 0.0\n",
      "yahoo_A4 0.5714285142857172 0.1250000006249989 0.2499999812500011\n",
      "yahoo_A4 0.6666666074074105 0.0 0.0\n",
      "yahoo_A4 0.7999999360000031 1.4444442978045904e-08 0.0\n",
      "yahoo_A4 0.4999999375000028 0.16666664444444684 0.5999999280000075\n",
      "yahoo_A4 0.9090908429752097 0.0 0.0\n",
      "yahoo_A4 0.9090908429752097 0.5104166419652789 -0.0\n",
      "yahoo_A4 0.7999999360000031 0.32638887792824073 0.1666666527777787\n",
      "yahoo_A4 0.7999999360000031 0.35416665107638934 0.24999997500000196\n",
      "yahoo_A4 0.9090908429752097 0.37499998901388903 -0.0\n",
      "yahoo_A4 0.6666666074074105 0.0 0.0\n",
      "yahoo_A4 0.6666666074074105 0.1250000081249981 -0.0\n",
      "yahoo_A4 0.8888888197530895 0.25000000993055255 0.4999999625000022\n",
      "yahoo_A4 0.7999999360000031 0.31944443307870385 -0.0\n",
      "yahoo_A4 0.9090908429752097 0.46874998085416725 -0.0\n",
      "yahoo_A4 0.666666577777783 0.2499999625000044 0.7999999040000099\n"
     ]
    }
   ],
   "source": [
    "for loader in [load_yahoo_A1, load_yahoo_A2, load_yahoo_A3, load_yahoo_A4]:\n",
    "    datasets = loader(128, 64)\n",
    "    x_trains, x_tests, y_tests = datasets['x_train'], datasets['x_test'], datasets['y_test']\n",
    "    \n",
    "    for i in tqdm(range(len(x_trains))):\n",
    "        tf.keras.backend.clear_session()\n",
    "\n",
    "        X_train = x_trains[i]\n",
    "        X_test = x_tests[i]\n",
    "        \n",
    "        model = CNN_VAE(X_train)\n",
    "        X_test_rec = model.decoder.predict(model.encoder.predict(X_test)[-1])\n",
    "        scores = evaluate(X_test, X_test_rec, y_tests[i], is_reconstructed=True)\n",
    "    \n",
    "        total_scores['dataset'].append(loader.__name__.replace('load_', ''))\n",
    "        total_scores['f1'].append(np.max(scores['f1']))\n",
    "        total_scores['pr_auc'].append(scores['pr_auc'])\n",
    "        total_scores['roc_auc'].append(scores['roc_auc'])\n",
    "        print(loader.__name__.replace('load_', ''), np.max(scores['f1']), scores['pr_auc'], scores['roc_auc'])   "
   ]
  },
  {
   "cell_type": "code",
   "execution_count": 8,
   "id": "bd9e37fd-124c-4f5c-8f1f-a9d61a4b0315",
   "metadata": {},
   "outputs": [
    {
     "data": {
      "text/html": [
       "<div>\n",
       "<style scoped>\n",
       "    .dataframe tbody tr th:only-of-type {\n",
       "        vertical-align: middle;\n",
       "    }\n",
       "\n",
       "    .dataframe tbody tr th {\n",
       "        vertical-align: top;\n",
       "    }\n",
       "\n",
       "    .dataframe thead th {\n",
       "        text-align: right;\n",
       "    }\n",
       "</style>\n",
       "<table border=\"1\" class=\"dataframe\">\n",
       "  <thead>\n",
       "    <tr style=\"text-align: right;\">\n",
       "      <th></th>\n",
       "      <th>f1</th>\n",
       "      <th>pr_auc</th>\n",
       "      <th>roc_auc</th>\n",
       "    </tr>\n",
       "    <tr>\n",
       "      <th>dataset</th>\n",
       "      <th></th>\n",
       "      <th></th>\n",
       "      <th></th>\n",
       "    </tr>\n",
       "  </thead>\n",
       "  <tbody>\n",
       "    <tr>\n",
       "      <th>yahoo_A1</th>\n",
       "      <td>0.475014</td>\n",
       "      <td>0.192696</td>\n",
       "      <td>0.201637</td>\n",
       "    </tr>\n",
       "    <tr>\n",
       "      <th>yahoo_A2</th>\n",
       "      <td>0.394078</td>\n",
       "      <td>0.106491</td>\n",
       "      <td>0.172961</td>\n",
       "    </tr>\n",
       "    <tr>\n",
       "      <th>yahoo_A3</th>\n",
       "      <td>0.731221</td>\n",
       "      <td>0.271597</td>\n",
       "      <td>0.193599</td>\n",
       "    </tr>\n",
       "    <tr>\n",
       "      <th>yahoo_A4</th>\n",
       "      <td>0.708371</td>\n",
       "      <td>0.206336</td>\n",
       "      <td>0.181673</td>\n",
       "    </tr>\n",
       "  </tbody>\n",
       "</table>\n",
       "</div>"
      ],
      "text/plain": [
       "                f1    pr_auc   roc_auc\n",
       "dataset                               \n",
       "yahoo_A1  0.475014  0.192696  0.201637\n",
       "yahoo_A2  0.394078  0.106491  0.172961\n",
       "yahoo_A3  0.731221  0.271597  0.193599\n",
       "yahoo_A4  0.708371  0.206336  0.181673"
      ]
     },
     "execution_count": 8,
     "metadata": {},
     "output_type": "execute_result"
    }
   ],
   "source": [
    "yahoo_results = pd.DataFrame(total_scores)\n",
    "yahoo_results.groupby('dataset').mean()"
   ]
  },
  {
   "cell_type": "markdown",
   "id": "8890a678-6116-4222-b0ff-395fcd7f41aa",
   "metadata": {},
   "source": [
    "### NASA"
   ]
  },
  {
   "cell_type": "code",
   "execution_count": 9,
   "id": "e4387a80-585a-488e-94a8-546f42d47632",
   "metadata": {},
   "outputs": [],
   "source": [
    "total_scores = {'dataset': [], 'f1': [], 'pr_auc': [], 'roc_auc': []}"
   ]
  },
  {
   "cell_type": "code",
   "execution_count": 10,
   "id": "106a238d-c5cb-49e9-9764-b1bc37f09436",
   "metadata": {},
   "outputs": [
    {
     "data": {
      "application/vnd.jupyter.widget-view+json": {
       "model_id": "2f961595d1c74c1cacbfaffbf24c7be2",
       "version_major": 2,
       "version_minor": 0
      },
      "text/plain": [
       "  0%|          | 0/2 [00:00<?, ?it/s]"
      ]
     },
     "metadata": {},
     "output_type": "display_data"
    },
    {
     "data": {
      "application/vnd.jupyter.widget-view+json": {
       "model_id": "3099932adcc845aca6c75f8ed1fa36a7",
       "version_major": 2,
       "version_minor": 0
      },
      "text/plain": [
       "  0%|          | 0/2 [00:00<?, ?it/s]"
      ]
     },
     "metadata": {},
     "output_type": "display_data"
    },
    {
     "name": "stdout",
     "output_type": "stream",
     "text": [
      "D1 0.2588265274197952 0.130779545894996 0.5126536849158938\n",
      "D2 0.28464975199693254 0.17769140073605816 0.47706698066140557\n"
     ]
    }
   ],
   "source": [
    "for loader in [load_nasa]:\n",
    "    datasets = loader(128, 64)\n",
    "    x_trains, x_tests, y_tests = datasets['x_train'], datasets['x_test'], datasets['y_test']\n",
    "    \n",
    "    for i in tqdm(range(len(x_trains))):\n",
    "        tf.keras.backend.clear_session()\n",
    "\n",
    "        X_train = x_trains[i]\n",
    "        X_test = x_tests[i]\n",
    "        \n",
    "        model = CNN_VAE(X_train)\n",
    "        \n",
    "        X_test_rec = model.decoder.predict(model.encoder.predict(X_test)[-1])\n",
    "        scores = evaluate(X_test, X_test_rec, y_tests[i], is_reconstructed=True)\n",
    "        \n",
    "        total_scores['dataset'].append(f'D{i+1}')\n",
    "        total_scores['f1'].append(np.max(scores['f1']))\n",
    "        total_scores['pr_auc'].append(scores['pr_auc'])\n",
    "        total_scores['roc_auc'].append(scores['roc_auc'])\n",
    "        print(f'D{i+1}', np.max(scores['f1']), scores['pr_auc'], scores['roc_auc'])   "
   ]
  },
  {
   "cell_type": "code",
   "execution_count": 11,
   "id": "abb7a6a5-3924-4a33-bc54-871559819602",
   "metadata": {},
   "outputs": [
    {
     "data": {
      "text/html": [
       "<div>\n",
       "<style scoped>\n",
       "    .dataframe tbody tr th:only-of-type {\n",
       "        vertical-align: middle;\n",
       "    }\n",
       "\n",
       "    .dataframe tbody tr th {\n",
       "        vertical-align: top;\n",
       "    }\n",
       "\n",
       "    .dataframe thead th {\n",
       "        text-align: right;\n",
       "    }\n",
       "</style>\n",
       "<table border=\"1\" class=\"dataframe\">\n",
       "  <thead>\n",
       "    <tr style=\"text-align: right;\">\n",
       "      <th></th>\n",
       "      <th>f1</th>\n",
       "      <th>pr_auc</th>\n",
       "      <th>roc_auc</th>\n",
       "    </tr>\n",
       "    <tr>\n",
       "      <th>dataset</th>\n",
       "      <th></th>\n",
       "      <th></th>\n",
       "      <th></th>\n",
       "    </tr>\n",
       "  </thead>\n",
       "  <tbody>\n",
       "    <tr>\n",
       "      <th>D1</th>\n",
       "      <td>0.258827</td>\n",
       "      <td>0.130780</td>\n",
       "      <td>0.512654</td>\n",
       "    </tr>\n",
       "    <tr>\n",
       "      <th>D2</th>\n",
       "      <td>0.284650</td>\n",
       "      <td>0.177691</td>\n",
       "      <td>0.477067</td>\n",
       "    </tr>\n",
       "  </tbody>\n",
       "</table>\n",
       "</div>"
      ],
      "text/plain": [
       "               f1    pr_auc   roc_auc\n",
       "dataset                              \n",
       "D1       0.258827  0.130780  0.512654\n",
       "D2       0.284650  0.177691  0.477067"
      ]
     },
     "execution_count": 11,
     "metadata": {},
     "output_type": "execute_result"
    }
   ],
   "source": [
    "nasa_results = pd.DataFrame(total_scores)\n",
    "nasa_results.groupby('dataset').mean()"
   ]
  },
  {
   "cell_type": "markdown",
   "id": "41754734-5c75-4caf-9069-fb3b39c7a0da",
   "metadata": {},
   "source": [
    "### SMD"
   ]
  },
  {
   "cell_type": "code",
   "execution_count": 12,
   "id": "60a26807-8359-42d4-82b4-9e1d37b6acaa",
   "metadata": {},
   "outputs": [],
   "source": [
    "total_scores = {'dataset': [], 'f1': [], 'pr_auc': [], 'roc_auc': []}"
   ]
  },
  {
   "cell_type": "code",
   "execution_count": 13,
   "id": "41af318e-1b08-4cc9-a680-6b4a978544f2",
   "metadata": {},
   "outputs": [
    {
     "data": {
      "application/vnd.jupyter.widget-view+json": {
       "model_id": "756bf371f27b4d4fb662b02ebccb1f8b",
       "version_major": 2,
       "version_minor": 0
      },
      "text/plain": [
       "  0%|          | 0/28 [00:00<?, ?it/s]"
      ]
     },
     "metadata": {},
     "output_type": "display_data"
    },
    {
     "data": {
      "application/vnd.jupyter.widget-view+json": {
       "model_id": "652d25ce608d4f36a498a6aaaf630dee",
       "version_major": 2,
       "version_minor": 0
      },
      "text/plain": [
       "  0%|          | 0/28 [00:00<?, ?it/s]"
      ]
     },
     "metadata": {},
     "output_type": "display_data"
    },
    {
     "name": "stdout",
     "output_type": "stream",
     "text": [
      "smd 0.23153690558205123 0.06546275382269463 0.49999999900806086\n",
      "smd 0.14358973018803536 0.051524977043008735 0.4204458726363449\n",
      "smd 0.18333329170834262 0.09897133089320162 0.5170733698579677\n",
      "smd 0.1739130063327107 0.15493154868859857 0.5585805328265103\n",
      "smd 0.08311687510743873 0.02272194339105235 0.5152030181603926\n",
      "smd 0.47835047887257154 0.26011977871826253 0.420672406991159\n",
      "smd 0.29561198390945814 0.1497332197833547 0.4604838576047268\n",
      "smd 0.23444973995673352 0.19217705628810036 0.5291982169388214\n",
      "smd 0.21307504139204825 0.09788794504719664 0.4128161223261762\n",
      "smd 0.29953914490114675 0.2875592806986414 0.5797697357568089\n",
      "smd 0.12690354134994566 0.03418687277992775 0.3146802309601826\n",
      "smd 0.29953914490114675 0.09983383503846552 0.16139170828286709\n",
      "smd 0.26477539061415617 0.2181505348064992 0.5167846935337239\n",
      "smd 0.09999998950000007 0.08503720991001343 0.4505925637295893\n",
      "smd 0.23999997792000163 0.20675320376453563 0.47097447130341674\n",
      "smd 0.8888888197530895 0.8013549525226726 0.8999999817527475\n",
      "smd 0.19028338351472884 0.052572706811504985 0.4999999988111702\n",
      "smd 0.26666664000000134 0.5507657540121815 0.5769230723522755\n",
      "smd 0.22168672716969254 0.0 0.0\n",
      "smd 0.03516483169472315 0.008948545747438804 0.49999999363610487\n",
      "smd 0.16873447578151593 0.0 0.0\n",
      "smd 0.28372090575338227 0.0 0.0\n",
      "smd 0.17270193352627763 0.04002075402853391 0.3512733272121423\n",
      "smd 0.22857139200000529 0.35523937502804387 0.5686593003050109\n",
      "smd 0.16049381233297902 0.05290927170030381 0.350964276924724\n",
      "smd 0.07741934736316405 0.02013422807155834 0.49999999710567206\n",
      "smd 0.3793102940547032 0.31857268173159303 0.7304184808354431\n",
      "smd 0.3333332895061776 0.41887797017890543 0.6134349472845548\n"
     ]
    }
   ],
   "source": [
    "for loader in [load_smd]:\n",
    "    datasets = loader(128, 64)\n",
    "    x_trains, x_tests, y_tests = datasets['x_train'], datasets['x_test'], datasets['y_test']\n",
    "    \n",
    "    for i in tqdm(range(len(x_trains))):\n",
    "        tf.keras.backend.clear_session()\n",
    "\n",
    "        X_train = x_trains[i]\n",
    "        X_test = x_tests[i]\n",
    "\n",
    "        model = CNN_VAE(X_train)\n",
    "        \n",
    "        X_test_rec = model.decoder.predict(model.encoder.predict(X_test)[-1])\n",
    "        scores = evaluate(X_test, X_test_rec, y_tests[i], is_reconstructed=True)\n",
    "\n",
    "        total_scores['dataset'].append(loader.__name__.replace('load_', ''))\n",
    "        total_scores['f1'].append(np.max(scores['f1']))\n",
    "        total_scores['pr_auc'].append(scores['pr_auc'])\n",
    "        total_scores['roc_auc'].append(scores['roc_auc'])\n",
    "        print(loader.__name__.replace('load_', ''), np.max(scores['f1']), scores['pr_auc'], scores['roc_auc'])   "
   ]
  },
  {
   "cell_type": "code",
   "execution_count": 14,
   "id": "23474773-bac1-4145-ac75-c1a686bca5c6",
   "metadata": {},
   "outputs": [
    {
     "data": {
      "text/html": [
       "<div>\n",
       "<style scoped>\n",
       "    .dataframe tbody tr th:only-of-type {\n",
       "        vertical-align: middle;\n",
       "    }\n",
       "\n",
       "    .dataframe tbody tr th {\n",
       "        vertical-align: top;\n",
       "    }\n",
       "\n",
       "    .dataframe thead th {\n",
       "        text-align: right;\n",
       "    }\n",
       "</style>\n",
       "<table border=\"1\" class=\"dataframe\">\n",
       "  <thead>\n",
       "    <tr style=\"text-align: right;\">\n",
       "      <th></th>\n",
       "      <th>f1</th>\n",
       "      <th>pr_auc</th>\n",
       "      <th>roc_auc</th>\n",
       "    </tr>\n",
       "    <tr>\n",
       "      <th>dataset</th>\n",
       "      <th></th>\n",
       "      <th></th>\n",
       "      <th></th>\n",
       "    </tr>\n",
       "  </thead>\n",
       "  <tbody>\n",
       "    <tr>\n",
       "      <th>smd</th>\n",
       "      <td>0.241954</td>\n",
       "      <td>0.165873</td>\n",
       "      <td>0.443584</td>\n",
       "    </tr>\n",
       "  </tbody>\n",
       "</table>\n",
       "</div>"
      ],
      "text/plain": [
       "               f1    pr_auc   roc_auc\n",
       "dataset                              \n",
       "smd      0.241954  0.165873  0.443584"
      ]
     },
     "execution_count": 14,
     "metadata": {},
     "output_type": "execute_result"
    }
   ],
   "source": [
    "smd_results = pd.DataFrame(total_scores)\n",
    "smd_results.groupby('dataset').mean()"
   ]
  },
  {
   "cell_type": "markdown",
   "id": "89bf290c-6263-49f8-b544-6537bcfeaeb8",
   "metadata": {},
   "source": [
    "### ECG"
   ]
  },
  {
   "cell_type": "code",
   "execution_count": 15,
   "id": "d2a5ab3b-f911-4698-8224-5bad41d0d2f1",
   "metadata": {},
   "outputs": [],
   "source": [
    "total_scores = {'dataset': [], 'f1': [], 'pr_auc': [], 'roc_auc': []}"
   ]
  },
  {
   "cell_type": "code",
   "execution_count": 16,
   "id": "d09ecce4-8928-407a-ac46-085b003de37f",
   "metadata": {},
   "outputs": [
    {
     "data": {
      "application/vnd.jupyter.widget-view+json": {
       "model_id": "e6181e9a732d467cb9ba3646db125671",
       "version_major": 2,
       "version_minor": 0
      },
      "text/plain": [
       "  0%|          | 0/9 [00:00<?, ?it/s]"
      ]
     },
     "metadata": {},
     "output_type": "display_data"
    },
    {
     "data": {
      "application/vnd.jupyter.widget-view+json": {
       "model_id": "840bc071acef4d41aed96de99ff6d67b",
       "version_major": 2,
       "version_minor": 0
      },
      "text/plain": [
       "  0%|          | 0/9 [00:00<?, ?it/s]"
      ]
     },
     "metadata": {},
     "output_type": "display_data"
    },
    {
     "name": "stdout",
     "output_type": "stream",
     "text": [
      "D1 0.3783783368882437 0.18832833974714877 0.5782608625255199\n",
      "D2 0.32558136657652986 0.047432305466370756 0.13839285473333862\n",
      "D3 0.12195120565139933 0.050069384345644646 0.45704466529628857\n",
      "D4 0.2999999730000019 0.027332144442154066 0.05952380831916099\n",
      "D5 0.2857142600583109 0.05502330776494324 0.1364221339543902\n",
      "D6 0.1904761701184196 0.07696890734615067 0.4078340945912705\n",
      "D7 0.05079364581103594 0.0 0.0\n",
      "D8 0.22471908067163407 0.09273817914080493 0.41381380903805615\n",
      "D9 0.417910413455115 0.0 0.0\n"
     ]
    }
   ],
   "source": [
    "for loader in [load_ecg]:\n",
    "    datasets = loader(64, 32)\n",
    "    x_trains, x_tests, y_tests = datasets['x_train'], datasets['x_test'], datasets['y_test']\n",
    "    \n",
    "    for i in tqdm(range(len(x_trains))):\n",
    "        tf.keras.backend.clear_session()\n",
    "\n",
    "        X_train = x_trains[i]\n",
    "        X_test = x_tests[i]\n",
    "\n",
    "        model = CNN_VAE(X_train)\n",
    "        \n",
    "        X_test_rec = model.decoder.predict(model.encoder.predict(X_test)[-1])\n",
    "        scores = evaluate(X_test, X_test_rec, y_tests[i], is_reconstructed=True)\n",
    "\n",
    "        total_scores['dataset'].append(f'D{i+1}')\n",
    "        total_scores['f1'].append(np.max(scores['f1']))\n",
    "        total_scores['pr_auc'].append(scores['pr_auc'])\n",
    "        total_scores['roc_auc'].append(scores['roc_auc'])\n",
    "        print(f'D{i+1}', np.max(scores['f1']), scores['pr_auc'], scores['roc_auc'])  "
   ]
  },
  {
   "cell_type": "code",
   "execution_count": 17,
   "id": "427055ff-a5d6-4994-96a1-d55878130385",
   "metadata": {},
   "outputs": [
    {
     "data": {
      "text/html": [
       "<div>\n",
       "<style scoped>\n",
       "    .dataframe tbody tr th:only-of-type {\n",
       "        vertical-align: middle;\n",
       "    }\n",
       "\n",
       "    .dataframe tbody tr th {\n",
       "        vertical-align: top;\n",
       "    }\n",
       "\n",
       "    .dataframe thead th {\n",
       "        text-align: right;\n",
       "    }\n",
       "</style>\n",
       "<table border=\"1\" class=\"dataframe\">\n",
       "  <thead>\n",
       "    <tr style=\"text-align: right;\">\n",
       "      <th></th>\n",
       "      <th>f1</th>\n",
       "      <th>pr_auc</th>\n",
       "      <th>roc_auc</th>\n",
       "    </tr>\n",
       "    <tr>\n",
       "      <th>dataset</th>\n",
       "      <th></th>\n",
       "      <th></th>\n",
       "      <th></th>\n",
       "    </tr>\n",
       "  </thead>\n",
       "  <tbody>\n",
       "    <tr>\n",
       "      <th>D1</th>\n",
       "      <td>0.378378</td>\n",
       "      <td>0.188328</td>\n",
       "      <td>0.578261</td>\n",
       "    </tr>\n",
       "    <tr>\n",
       "      <th>D2</th>\n",
       "      <td>0.325581</td>\n",
       "      <td>0.047432</td>\n",
       "      <td>0.138393</td>\n",
       "    </tr>\n",
       "    <tr>\n",
       "      <th>D3</th>\n",
       "      <td>0.121951</td>\n",
       "      <td>0.050069</td>\n",
       "      <td>0.457045</td>\n",
       "    </tr>\n",
       "    <tr>\n",
       "      <th>D4</th>\n",
       "      <td>0.300000</td>\n",
       "      <td>0.027332</td>\n",
       "      <td>0.059524</td>\n",
       "    </tr>\n",
       "    <tr>\n",
       "      <th>D5</th>\n",
       "      <td>0.285714</td>\n",
       "      <td>0.055023</td>\n",
       "      <td>0.136422</td>\n",
       "    </tr>\n",
       "    <tr>\n",
       "      <th>D6</th>\n",
       "      <td>0.190476</td>\n",
       "      <td>0.076969</td>\n",
       "      <td>0.407834</td>\n",
       "    </tr>\n",
       "    <tr>\n",
       "      <th>D7</th>\n",
       "      <td>0.050794</td>\n",
       "      <td>0.000000</td>\n",
       "      <td>0.000000</td>\n",
       "    </tr>\n",
       "    <tr>\n",
       "      <th>D8</th>\n",
       "      <td>0.224719</td>\n",
       "      <td>0.092738</td>\n",
       "      <td>0.413814</td>\n",
       "    </tr>\n",
       "    <tr>\n",
       "      <th>D9</th>\n",
       "      <td>0.417910</td>\n",
       "      <td>0.000000</td>\n",
       "      <td>0.000000</td>\n",
       "    </tr>\n",
       "  </tbody>\n",
       "</table>\n",
       "</div>"
      ],
      "text/plain": [
       "               f1    pr_auc   roc_auc\n",
       "dataset                              \n",
       "D1       0.378378  0.188328  0.578261\n",
       "D2       0.325581  0.047432  0.138393\n",
       "D3       0.121951  0.050069  0.457045\n",
       "D4       0.300000  0.027332  0.059524\n",
       "D5       0.285714  0.055023  0.136422\n",
       "D6       0.190476  0.076969  0.407834\n",
       "D7       0.050794  0.000000  0.000000\n",
       "D8       0.224719  0.092738  0.413814\n",
       "D9       0.417910  0.000000  0.000000"
      ]
     },
     "execution_count": 17,
     "metadata": {},
     "output_type": "execute_result"
    }
   ],
   "source": [
    "ecg_results = pd.DataFrame(total_scores)\n",
    "ecg_results.groupby('dataset').mean()"
   ]
  },
  {
   "cell_type": "markdown",
   "id": "89524a09-75d8-4b7b-8734-851c2c63c710",
   "metadata": {},
   "source": [
    "### Power Demand"
   ]
  },
  {
   "cell_type": "code",
   "execution_count": 18,
   "id": "601f6885-93dc-443e-b085-bd6bc36882d6",
   "metadata": {},
   "outputs": [],
   "source": [
    "total_scores = {'dataset': [], 'f1': [], 'pr_auc': [], 'roc_auc': []}"
   ]
  },
  {
   "cell_type": "code",
   "execution_count": 19,
   "id": "b4b978e2-8105-4622-bb2c-abbb1fddd5b0",
   "metadata": {},
   "outputs": [
    {
     "data": {
      "application/vnd.jupyter.widget-view+json": {
       "model_id": "b052bac64d9f4b88a832246b795251c4",
       "version_major": 2,
       "version_minor": 0
      },
      "text/plain": [
       "  0%|          | 0/1 [00:00<?, ?it/s]"
      ]
     },
     "metadata": {},
     "output_type": "display_data"
    },
    {
     "name": "stdout",
     "output_type": "stream",
     "text": [
      "power_demand 0.7999999200000041 0.6666665994444505 0.6666666111111148\n"
     ]
    }
   ],
   "source": [
    "for loader in [load_power_demand]:\n",
    "    datasets = loader(512, 256)\n",
    "    x_trains, x_tests, y_tests = datasets['x_train'], datasets['x_test'], datasets['y_test']\n",
    "    \n",
    "    for i in tqdm(range(len(x_trains))):\n",
    "        tf.keras.backend.clear_session()\n",
    "\n",
    "        X_train = x_trains[i]\n",
    "        X_test = x_tests[i]\n",
    "\n",
    "        model = CNN_VAE(X_train)\n",
    "        \n",
    "        X_test_rec = model.decoder.predict(model.encoder.predict(X_test)[-1])\n",
    "        scores = evaluate(X_test, X_test_rec, y_tests[i], is_reconstructed=True)\n",
    "\n",
    "        total_scores['dataset'].append(loader.__name__.replace('load_', ''))\n",
    "        total_scores['f1'].append(np.max(scores['f1']))\n",
    "        total_scores['pr_auc'].append(scores['pr_auc'])\n",
    "        total_scores['roc_auc'].append(scores['roc_auc'])\n",
    "        print(loader.__name__.replace('load_', ''), np.max(scores['f1']), scores['pr_auc'], scores['roc_auc']) "
   ]
  },
  {
   "cell_type": "code",
   "execution_count": 20,
   "id": "b325edbc-9c9c-429e-a8ab-78353b6cdadc",
   "metadata": {},
   "outputs": [
    {
     "data": {
      "text/html": [
       "<div>\n",
       "<style scoped>\n",
       "    .dataframe tbody tr th:only-of-type {\n",
       "        vertical-align: middle;\n",
       "    }\n",
       "\n",
       "    .dataframe tbody tr th {\n",
       "        vertical-align: top;\n",
       "    }\n",
       "\n",
       "    .dataframe thead th {\n",
       "        text-align: right;\n",
       "    }\n",
       "</style>\n",
       "<table border=\"1\" class=\"dataframe\">\n",
       "  <thead>\n",
       "    <tr style=\"text-align: right;\">\n",
       "      <th></th>\n",
       "      <th>f1</th>\n",
       "      <th>pr_auc</th>\n",
       "      <th>roc_auc</th>\n",
       "    </tr>\n",
       "    <tr>\n",
       "      <th>dataset</th>\n",
       "      <th></th>\n",
       "      <th></th>\n",
       "      <th></th>\n",
       "    </tr>\n",
       "  </thead>\n",
       "  <tbody>\n",
       "    <tr>\n",
       "      <th>power_demand</th>\n",
       "      <td>0.8</td>\n",
       "      <td>0.666667</td>\n",
       "      <td>0.666667</td>\n",
       "    </tr>\n",
       "  </tbody>\n",
       "</table>\n",
       "</div>"
      ],
      "text/plain": [
       "               f1    pr_auc   roc_auc\n",
       "dataset                              \n",
       "power_demand  0.8  0.666667  0.666667"
      ]
     },
     "execution_count": 20,
     "metadata": {},
     "output_type": "execute_result"
    }
   ],
   "source": [
    "power_results = pd.DataFrame(total_scores)\n",
    "power_results.groupby('dataset').mean()"
   ]
  },
  {
   "cell_type": "markdown",
   "id": "9d780512-bc48-49b4-8ee7-31e4e418cd7e",
   "metadata": {},
   "source": [
    "### 2D Gesture"
   ]
  },
  {
   "cell_type": "code",
   "execution_count": 21,
   "id": "2587ede7-1e7f-435e-b382-29388c3b2d76",
   "metadata": {},
   "outputs": [],
   "source": [
    "total_scores = {'dataset': [], 'f1': [], 'pr_auc': [], 'roc_auc': []}"
   ]
  },
  {
   "cell_type": "code",
   "execution_count": 22,
   "id": "597108eb-cc0f-450c-9301-9144e9b52fdc",
   "metadata": {},
   "outputs": [
    {
     "data": {
      "application/vnd.jupyter.widget-view+json": {
       "model_id": "c82f4890bbfb408aa59adbe091fb94a3",
       "version_major": 2,
       "version_minor": 0
      },
      "text/plain": [
       "  0%|          | 0/1 [00:00<?, ?it/s]"
      ]
     },
     "metadata": {},
     "output_type": "display_data"
    },
    {
     "name": "stdout",
     "output_type": "stream",
     "text": [
      "gesture 0.4380952030476216 0.1212413551714061 0.3873047219258263\n"
     ]
    }
   ],
   "source": [
    "for loader in [load_gesture]:\n",
    "    datasets = loader(64, 32)\n",
    "    x_trains, x_tests, y_tests = datasets['x_train'], datasets['x_test'], datasets['y_test']\n",
    "    \n",
    "    for i in tqdm(range(len(x_trains))):\n",
    "        tf.keras.backend.clear_session()\n",
    "\n",
    "        X_train = x_trains[i]\n",
    "        X_test = x_tests[i]\n",
    "\n",
    "        model = CNN_VAE(X_train)\n",
    "        \n",
    "        X_test_rec = model.decoder.predict(model.encoder.predict(X_test)[-1])\n",
    "        scores = evaluate(X_test, X_test_rec, y_tests[i], is_reconstructed=True)\n",
    "\n",
    "        total_scores['dataset'].append(loader.__name__.replace('load_', ''))\n",
    "        total_scores['f1'].append(np.max(scores['f1']))\n",
    "        total_scores['pr_auc'].append(scores['pr_auc'])\n",
    "        total_scores['roc_auc'].append(scores['roc_auc'])\n",
    "        print(loader.__name__.replace('load_', ''), np.max(scores['f1']), scores['pr_auc'], scores['roc_auc'])  "
   ]
  },
  {
   "cell_type": "code",
   "execution_count": 23,
   "id": "ce3433e8-bb01-4ca0-b861-43676a8aa3dd",
   "metadata": {},
   "outputs": [
    {
     "data": {
      "text/html": [
       "<div>\n",
       "<style scoped>\n",
       "    .dataframe tbody tr th:only-of-type {\n",
       "        vertical-align: middle;\n",
       "    }\n",
       "\n",
       "    .dataframe tbody tr th {\n",
       "        vertical-align: top;\n",
       "    }\n",
       "\n",
       "    .dataframe thead th {\n",
       "        text-align: right;\n",
       "    }\n",
       "</style>\n",
       "<table border=\"1\" class=\"dataframe\">\n",
       "  <thead>\n",
       "    <tr style=\"text-align: right;\">\n",
       "      <th></th>\n",
       "      <th>f1</th>\n",
       "      <th>pr_auc</th>\n",
       "      <th>roc_auc</th>\n",
       "    </tr>\n",
       "    <tr>\n",
       "      <th>dataset</th>\n",
       "      <th></th>\n",
       "      <th></th>\n",
       "      <th></th>\n",
       "    </tr>\n",
       "  </thead>\n",
       "  <tbody>\n",
       "    <tr>\n",
       "      <th>gesture</th>\n",
       "      <td>0.438095</td>\n",
       "      <td>0.121241</td>\n",
       "      <td>0.387305</td>\n",
       "    </tr>\n",
       "  </tbody>\n",
       "</table>\n",
       "</div>"
      ],
      "text/plain": [
       "               f1    pr_auc   roc_auc\n",
       "dataset                              \n",
       "gesture  0.438095  0.121241  0.387305"
      ]
     },
     "execution_count": 23,
     "metadata": {},
     "output_type": "execute_result"
    }
   ],
   "source": [
    "gesture_results = pd.DataFrame(total_scores)\n",
    "gesture_results.groupby('dataset').mean()"
   ]
  }
 ],
 "metadata": {
  "kernelspec": {
   "display_name": "Python 3",
   "language": "python",
   "name": "python3"
  },
  "language_info": {
   "codemirror_mode": {
    "name": "ipython",
    "version": 3
   },
   "file_extension": ".py",
   "mimetype": "text/x-python",
   "name": "python",
   "nbconvert_exporter": "python",
   "pygments_lexer": "ipython3",
   "version": "3.9.4"
  }
 },
 "nbformat": 4,
 "nbformat_minor": 5
}
