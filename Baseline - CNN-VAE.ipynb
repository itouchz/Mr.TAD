{
 "cells": [
  {
   "cell_type": "code",
   "execution_count": 1,
   "id": "a80a379b-932c-4401-8d76-b5ae5dedc6cc",
   "metadata": {},
   "outputs": [],
   "source": [
    "import os\n",
    "import random\n",
    "\n",
    "os.environ[\"CUDA_DEVICE_ORDER\"] = \"PCI_BUS_ID\";\n",
    "os.environ[\"CUDA_VISIBLE_DEVICES\"] = \"1\"\n",
    "os.environ[\"TF_FORCE_GPU_ALLOW_GROWTH\"] = \"true\""
   ]
  },
  {
   "cell_type": "code",
   "execution_count": 2,
   "id": "saving-behavior",
   "metadata": {},
   "outputs": [],
   "source": [
    "import numpy as np\n",
    "import pandas as pd\n",
    "import tensorflow as tf\n",
    "\n",
    "from evaluator import evaluate\n",
    "from data_loader import load_kdd_cup_urc, load_yahoo_A1, load_yahoo_A2, load_yahoo_A3, load_yahoo_A4, load_power_demand # Univariate Datasets\n",
    "from data_loader import load_nasa, load_ecg, load_gesture, load_smd # Multivariate Datasets\n",
    "\n",
    "from tensorflow import keras\n",
    "from tensorflow.keras import layers\n",
    "from tqdm.notebook import tqdm\n",
    "\n",
    "# THESE LINES ARE FOR REPRODUCIBILITY\n",
    "random.seed(0)\n",
    "np.random.seed(0)\n",
    "tf.random.set_seed(0)"
   ]
  },
  {
   "cell_type": "code",
   "execution_count": 3,
   "id": "49c0a8e3-705d-429b-b7a0-c3c26a3a7b2b",
   "metadata": {},
   "outputs": [],
   "source": [
    "class Sampling(layers.Layer):\n",
    "    \"\"\"Uses (z_mean, z_log_var) to sample z, the vector encoding a digit.\"\"\"\n",
    "\n",
    "    def call(self, inputs):\n",
    "        z_mean, z_log_var = inputs\n",
    "        batch = tf.shape(z_mean)[0]\n",
    "        dim = tf.shape(z_mean)[1]\n",
    "        epsilon = tf.keras.backend.random_normal(shape=(batch, dim))\n",
    "        return z_mean + tf.exp(0.5 * z_log_var) * epsilon"
   ]
  },
  {
   "cell_type": "code",
   "execution_count": 4,
   "id": "24e86739-e767-4960-b7ea-9904d224a0d4",
   "metadata": {},
   "outputs": [],
   "source": [
    "class VAE(keras.Model):\n",
    "    def __init__(self, encoder, decoder, **kwargs):\n",
    "        super(VAE, self).__init__(**kwargs)\n",
    "        self.encoder = encoder\n",
    "        self.decoder = decoder\n",
    "        self.total_loss_tracker = keras.metrics.Mean(name=\"total_loss\")\n",
    "        self.reconstruction_loss_tracker = keras.metrics.Mean(\n",
    "            name=\"reconstruction_loss\"\n",
    "        )\n",
    "        self.kl_loss_tracker = keras.metrics.Mean(name=\"kl_loss\")\n",
    "\n",
    "    @property\n",
    "    def metrics(self):\n",
    "        return [\n",
    "            self.total_loss_tracker,\n",
    "            self.reconstruction_loss_tracker,\n",
    "            self.kl_loss_tracker,\n",
    "        ]\n",
    "\n",
    "    def train_step(self, data):\n",
    "        with tf.GradientTape() as tape:\n",
    "            z_mean, z_log_var, z = self.encoder(data)\n",
    "            reconstruction = self.decoder(z)\n",
    "            reconstruction_loss = tf.reduce_mean(\n",
    "                tf.reduce_sum(\n",
    "                    keras.losses.binary_crossentropy(data, reconstruction), axis=1\n",
    "                )\n",
    "            )\n",
    "            kl_loss = -0.5 * (1 + z_log_var - tf.square(z_mean) - tf.exp(z_log_var))\n",
    "            kl_loss = tf.reduce_mean(tf.reduce_sum(kl_loss, axis=1))\n",
    "            total_loss = reconstruction_loss + kl_loss\n",
    "        grads = tape.gradient(total_loss, self.trainable_weights)\n",
    "        self.optimizer.apply_gradients(zip(grads, self.trainable_weights))\n",
    "        self.total_loss_tracker.update_state(total_loss)\n",
    "        self.reconstruction_loss_tracker.update_state(reconstruction_loss)\n",
    "        self.kl_loss_tracker.update_state(kl_loss)\n",
    "        return {\n",
    "            \"loss\": self.total_loss_tracker.result(),\n",
    "            \"reconstruction_loss\": self.reconstruction_loss_tracker.result(),\n",
    "            \"kl_loss\": self.kl_loss_tracker.result(),\n",
    "        }"
   ]
  },
  {
   "cell_type": "markdown",
   "id": "fa97c067-d18d-4c06-ae1b-2cbfe88788b6",
   "metadata": {},
   "source": [
    "### Yahoo S5"
   ]
  },
  {
   "cell_type": "code",
   "execution_count": 5,
   "id": "eight-partition",
   "metadata": {},
   "outputs": [],
   "source": [
    "total_scores = {'dataset': [], 'f1': [], 'pr_auc': [], 'roc_auc': []}"
   ]
  },
  {
   "cell_type": "code",
   "execution_count": 6,
   "id": "71866d92-1163-4975-bb99-4302ccda66c3",
   "metadata": {
    "scrolled": true,
    "tags": []
   },
   "outputs": [
    {
     "data": {
      "application/vnd.jupyter.widget-view+json": {
       "model_id": "91d16598e034409996fcd8101cf7c9ef",
       "version_major": 2,
       "version_minor": 0
      },
      "text/plain": [
       "  0%|          | 0/67 [00:00<?, ?it/s]"
      ]
     },
     "metadata": {},
     "output_type": "display_data"
    },
    {
     "data": {
      "application/vnd.jupyter.widget-view+json": {
       "model_id": "c4cc14ed40db452a8a5e051b4af303c5",
       "version_major": 2,
       "version_minor": 0
      },
      "text/plain": [
       "  0%|          | 0/67 [00:00<?, ?it/s]"
      ]
     },
     "metadata": {},
     "output_type": "display_data"
    },
    {
     "name": "stdout",
     "output_type": "stream",
     "text": [
      "yahoo_A1 0.5714285224489823 0.16666666570436459 0.416666641666668\n",
      "yahoo_A1 0.0 0.0 -0.0\n",
      "WARNING:tensorflow:5 out of the last 5 calls to <function Model.make_predict_function.<locals>.predict_function at 0x7f97101524c0> triggered tf.function retracing. Tracing is expensive and the excessive number of tracings could be due to (1) creating @tf.function repeatedly in a loop, (2) passing tensors with different shapes, (3) passing Python objects instead of tensors. For (1), please define your @tf.function outside of the loop. For (2), @tf.function has experimental_relax_shapes=True option that relaxes argument shapes that can avoid unnecessary retracing. For (3), please refer to https://www.tensorflow.org/guide/function#controlling_retracing and https://www.tensorflow.org/api_docs/python/tf/function for  more details.\n",
      "WARNING:tensorflow:6 out of the last 6 calls to <function Model.make_predict_function.<locals>.predict_function at 0x7f97280b3c10> triggered tf.function retracing. Tracing is expensive and the excessive number of tracings could be due to (1) creating @tf.function repeatedly in a loop, (2) passing tensors with different shapes, (3) passing Python objects instead of tensors. For (1), please define your @tf.function outside of the loop. For (2), @tf.function has experimental_relax_shapes=True option that relaxes argument shapes that can avoid unnecessary retracing. For (3), please refer to https://www.tensorflow.org/guide/function#controlling_retracing and https://www.tensorflow.org/api_docs/python/tf/function for  more details.\n",
      "yahoo_A1 0.666666577777783 0.2499999625000044 0.8888887901234668\n",
      "yahoo_A1 0.0 0.0 0.0\n",
      "yahoo_A1 0.0 0.0 0.0\n",
      "yahoo_A1 0.0 0.0 -0.0\n",
      "yahoo_A1 0.0 0.0 0.0\n",
      "yahoo_A1 0.46153841893491365 0.14999999350000026 0.49999997619047704\n",
      "yahoo_A1 0.6666666133333363 0.4214285474078342 0.3999999830000005\n",
      "yahoo_A1 0.0 0.0 -0.0\n",
      "yahoo_A1 0.8333332708333363 0.7930951820434847 0.8799999648000009\n",
      "yahoo_A1 0.3636363272727291 0.11111110432098803 0.49999996875000174\n",
      "yahoo_A1 0.9090908429752097 0.7223809201395328 0.7249999496666695\n",
      "yahoo_A1 0.6666666133333363 0.2494444395492283 0.17999999230000024\n",
      "yahoo_A1 0.666666577777783 0.6249998958333479 0.9687499269531303\n",
      "yahoo_A1 0.4999999375000028 0.16666664444444684 0.7777776913580334\n",
      "yahoo_A1 0.399999960000002 0.07142857308673395 0.14285713367346983\n",
      "yahoo_A1 0.18181816198347142 0.049999994500000554 0.49999994444445006\n",
      "yahoo_A1 0.7142856581632683 0.47992060771546535 0.5499999772500006\n",
      "yahoo_A1 0.6666666133333363 0.3900793471797532 0.4999999758333342\n",
      "yahoo_A1 0.749999943750003 0.38916665357354535 0.38124998143750066\n",
      "yahoo_A1 0.749999943750003 0.3877976042864235 0.2187499880208338\n",
      "yahoo_A1 0.0 0.0 -0.0\n",
      "yahoo_A1 0.0 0.0 -0.0\n",
      "yahoo_A1 0.8235293536332209 0.7333332999723338 0.7380952017573709\n",
      "yahoo_A1 0.8235293536332209 0.53333331281217 0.5277777493055568\n",
      "yahoo_A1 0.0 0.0 0.0\n",
      "yahoo_A1 0.8333332708333363 0.5266666459849214 0.4666666417777787\n",
      "yahoo_A1 0.0 0.0 -0.0\n",
      "yahoo_A1 0.0 0.0 -0.0\n",
      "yahoo_A1 0.7999999340000034 0.6359523397477069 0.7699999679500009\n",
      "yahoo_A1 0.7499999312500037 0.47569442104993487 0.699999969500001\n",
      "yahoo_A1 0.6666666133333363 0.0 0.0\n",
      "yahoo_A1 0.4999999375000028 0.16666664444444684 0.7777776913580334\n",
      "yahoo_A1 0.9999999400000027 0.9285713816578118 0.0\n",
      "yahoo_A1 0.5714285224489823 0.0714285810033999 -0.0\n",
      "yahoo_A1 0.9999999000000052 0.7499998875000143 0.9999999375000035\n",
      "yahoo_A1 0.5714285224489823 7.916665942980902e-09 0.0\n",
      "yahoo_A1 0.0 0.0 -0.0\n",
      "yahoo_A1 0.5714285224489823 0.07142858121173319 -0.0\n",
      "yahoo_A1 0.749999943750003 0.3666666513783077 0.5916666293472241\n",
      "yahoo_A1 0.6666666133333363 0.1996031714220048 0.0999999930000004\n",
      "yahoo_A1 0.0 0.0 0.0\n",
      "yahoo_A1 0.0 0.0 -0.0\n",
      "yahoo_A1 0.0 0.0 0.0\n",
      "yahoo_A1 0.0 0.0 0.0\n",
      "yahoo_A1 0.6666666133333363 0.2577876887861929 0.4633333117722229\n",
      "yahoo_A1 0.749999943750003 0.33345237172055486 -0.0\n",
      "yahoo_A1 0.46153841893491365 0.06250000600115631 -0.0\n",
      "yahoo_A1 0.0 0.0 -0.0\n",
      "yahoo_A1 0.8888888296296326 0.4128755554560711 0.6666666222222247\n",
      "yahoo_A1 0.8888888296296326 0.25499999621203706 0.2999999790000012\n",
      "yahoo_A1 0.7142856581632683 0.24930554943353178 0.12499999062500056\n",
      "yahoo_A1 0.18181816198347142 0.049999994500000554 0.49999994444445006\n",
      "yahoo_A1 0.0 0.0 -0.0\n",
      "yahoo_A1 0.0 0.0 0.0\n",
      "yahoo_A1 0.5714285224489823 0.1388888885714282 0.1666666472222242\n",
      "yahoo_A1 0.0 0.0 -0.0\n",
      "yahoo_A1 0.0 0.0 0.0\n",
      "yahoo_A1 0.0 0.0 -0.0\n",
      "yahoo_A1 0.0 0.0 -0.0\n",
      "yahoo_A1 0.749999943750003 0.4111110973302473 0.32499998537500047\n",
      "yahoo_A1 0.6666666000000033 0.5999999590000024 0.749999968750001\n",
      "yahoo_A1 0.18181816198347142 0.049999994500000554 0.49999994444445006\n",
      "yahoo_A1 0.46153841893491365 0.10714285614465202 0.14285712653061383\n",
      "yahoo_A1 0.6666666133333363 0.12500000592427152 -0.0\n",
      "yahoo_A1 0.5714285224489823 0.0 0.0\n"
     ]
    },
    {
     "data": {
      "application/vnd.jupyter.widget-view+json": {
       "model_id": "59178f4ac37d4cc286fc0505bf96b77e",
       "version_major": 2,
       "version_minor": 0
      },
      "text/plain": [
       "  0%|          | 0/100 [00:00<?, ?it/s]"
      ]
     },
     "metadata": {},
     "output_type": "display_data"
    },
    {
     "data": {
      "application/vnd.jupyter.widget-view+json": {
       "model_id": "0bba3ed52a054d239c80d7d6a391ace5",
       "version_major": 2,
       "version_minor": 0
      },
      "text/plain": [
       "  0%|          | 0/100 [00:00<?, ?it/s]"
      ]
     },
     "metadata": {},
     "output_type": "display_data"
    },
    {
     "name": "stdout",
     "output_type": "stream",
     "text": [
      "yahoo_A2 0.0 0.0 -0.0\n",
      "yahoo_A2 0.0 0.0 0.0\n",
      "yahoo_A2 0.0 0.0 -0.0\n",
      "yahoo_A2 0.0 0.0 -0.0\n",
      "yahoo_A2 0.0 0.0 -0.0\n",
      "yahoo_A2 0.0 0.0 0.0\n",
      "yahoo_A2 0.0 0.0 -0.0\n",
      "yahoo_A2 0.0 0.0 -0.0\n",
      "yahoo_A2 0.0 0.0 0.0\n",
      "yahoo_A2 0.0 0.0 0.0\n",
      "yahoo_A2 0.0 0.0 -0.0\n",
      "yahoo_A2 0.0 0.0 0.0\n",
      "yahoo_A2 0.0 0.0 -0.0\n",
      "yahoo_A2 0.0 0.0 -0.0\n",
      "yahoo_A2 0.0 0.0 0.0\n",
      "yahoo_A2 0.0 0.0 0.0\n",
      "yahoo_A2 0.0 0.0 0.0\n",
      "yahoo_A2 0.0 0.0 -0.0\n",
      "yahoo_A2 0.0 0.0 -0.0\n",
      "yahoo_A2 0.0 0.0 -0.0\n",
      "yahoo_A2 0.0 0.0 0.0\n",
      "yahoo_A2 0.0 0.0 -0.0\n",
      "yahoo_A2 0.0 0.0 -0.0\n",
      "yahoo_A2 0.0 0.0 0.0\n",
      "yahoo_A2 0.0 0.0 -0.0\n",
      "yahoo_A2 0.0 0.0 -0.0\n",
      "yahoo_A2 0.0 0.0 -0.0\n",
      "yahoo_A2 0.0 0.0 -0.0\n",
      "yahoo_A2 0.0 0.0 -0.0\n",
      "yahoo_A2 0.0 0.0 0.0\n",
      "yahoo_A2 0.0 0.0 -0.0\n",
      "yahoo_A2 0.0 0.0 0.0\n",
      "yahoo_A2 0.0 0.0 -0.0\n",
      "yahoo_A2 0.0 0.0 -0.0\n",
      "yahoo_A2 0.0 0.0 -0.0\n",
      "yahoo_A2 0.0 0.0 -0.0\n",
      "yahoo_A2 0.0 0.0 0.0\n",
      "yahoo_A2 0.0 0.0 -0.0\n",
      "yahoo_A2 0.0 0.0 -0.0\n",
      "yahoo_A2 0.0 0.0 -0.0\n",
      "yahoo_A2 0.0 0.0 -0.0\n",
      "yahoo_A2 0.0 0.0 -0.0\n",
      "yahoo_A2 0.0 0.0 -0.0\n",
      "yahoo_A2 0.0 0.0 -0.0\n",
      "yahoo_A2 0.0 0.0 -0.0\n",
      "yahoo_A2 0.0 0.0 -0.0\n",
      "yahoo_A2 0.0 0.0 -0.0\n",
      "yahoo_A2 0.0 0.0 0.0\n",
      "yahoo_A2 0.0 0.0 -0.0\n",
      "yahoo_A2 0.0 0.0 0.0\n",
      "yahoo_A2 0.0 0.0 -0.0\n",
      "yahoo_A2 0.0 0.0 -0.0\n",
      "yahoo_A2 0.0 0.0 -0.0\n",
      "yahoo_A2 0.0 0.0 -0.0\n",
      "yahoo_A2 0.0 0.0 -0.0\n",
      "yahoo_A2 0.0 0.0 0.0\n",
      "yahoo_A2 0.0 0.0 -0.0\n",
      "yahoo_A2 0.0 0.0 -0.0\n",
      "yahoo_A2 0.0 0.0 0.0\n",
      "yahoo_A2 0.0 0.0 -0.0\n",
      "yahoo_A2 0.0 0.0 0.0\n",
      "yahoo_A2 0.0 0.0 -0.0\n",
      "yahoo_A2 0.0 0.0 0.0\n",
      "yahoo_A2 0.0 0.0 -0.0\n",
      "yahoo_A2 0.0 0.0 -0.0\n",
      "yahoo_A2 0.0 0.0 -0.0\n",
      "yahoo_A2 0.0 0.0 0.0\n",
      "yahoo_A2 0.0 0.0 0.0\n",
      "yahoo_A2 0.0 0.0 0.0\n",
      "yahoo_A2 0.0 0.0 -0.0\n",
      "yahoo_A2 0.0 0.0 -0.0\n",
      "yahoo_A2 0.0 0.0 0.0\n",
      "yahoo_A2 0.0 0.0 -0.0\n",
      "yahoo_A2 0.0 0.0 0.0\n",
      "yahoo_A2 0.0 0.0 0.0\n",
      "yahoo_A2 0.0 0.0 -0.0\n",
      "yahoo_A2 0.0 0.0 -0.0\n",
      "yahoo_A2 0.0 0.0 0.0\n",
      "yahoo_A2 0.0 0.0 -0.0\n",
      "yahoo_A2 0.0 0.0 -0.0\n",
      "yahoo_A2 0.0 0.0 0.0\n",
      "yahoo_A2 0.0 0.0 -0.0\n",
      "yahoo_A2 0.0 0.0 0.0\n",
      "yahoo_A2 0.0 0.0 -0.0\n",
      "yahoo_A2 0.0 0.0 0.0\n",
      "yahoo_A2 0.0 0.0 0.0\n",
      "yahoo_A2 0.0 0.0 -0.0\n",
      "yahoo_A2 0.0 0.0 -0.0\n",
      "yahoo_A2 0.0 0.0 -0.0\n",
      "yahoo_A2 0.0 0.0 0.0\n",
      "yahoo_A2 0.0 0.0 -0.0\n",
      "yahoo_A2 0.0 0.0 -0.0\n",
      "yahoo_A2 0.0 0.0 -0.0\n",
      "yahoo_A2 0.0 0.0 -0.0\n",
      "yahoo_A2 0.0 0.0 -0.0\n",
      "yahoo_A2 0.0 0.0 -0.0\n",
      "yahoo_A2 0.0 0.0 -0.0\n",
      "yahoo_A2 0.0 0.0 0.0\n",
      "yahoo_A2 0.0 0.0 -0.0\n",
      "yahoo_A2 0.0 0.0 -0.0\n"
     ]
    },
    {
     "data": {
      "application/vnd.jupyter.widget-view+json": {
       "model_id": "5f815db44ef74a24a61e28576b511aab",
       "version_major": 2,
       "version_minor": 0
      },
      "text/plain": [
       "  0%|          | 0/100 [00:00<?, ?it/s]"
      ]
     },
     "metadata": {},
     "output_type": "display_data"
    },
    {
     "data": {
      "application/vnd.jupyter.widget-view+json": {
       "model_id": "0b2f55f71af64550b02bf4141897c022",
       "version_major": 2,
       "version_minor": 0
      },
      "text/plain": [
       "  0%|          | 0/100 [00:00<?, ?it/s]"
      ]
     },
     "metadata": {},
     "output_type": "display_data"
    },
    {
     "name": "stdout",
     "output_type": "stream",
     "text": [
      "yahoo_A3 0.5333332871111137 0.10000000693578515 0.49999996770833555\n",
      "yahoo_A3 0.5882352456747433 0.1820761156452809 0.10714285293367355\n",
      "yahoo_A3 0.736842050969532 1.4367633554077069e-08 0.0\n",
      "yahoo_A3 0.4999999562500026 0.1041666691166871 0.12499999427083351\n",
      "yahoo_A3 0.8749999398437528 0.620833296813961 0.5833333028769854\n",
      "yahoo_A3 0.4999999562500026 0.140211637158566 0.1249999921875004\n",
      "yahoo_A3 0.749999943750003 0.42043649389383175 0.43333331522222274\n",
      "yahoo_A3 0.7058822989619408 0.18134920550654918 0.36111109444444517\n",
      "yahoo_A3 0.7777777216049413 0.4601983939112567 0.44374997831250085\n",
      "yahoo_A3 0.0 0.0 -0.0\n",
      "yahoo_A3 0.9565216809073751 0.7412783168094822 0.12499998593750142\n",
      "yahoo_A3 0.9565216809073751 0.0 0.0\n",
      "yahoo_A3 0.799999944000003 0.3761309429913805 0.1499999932500002\n",
      "yahoo_A3 0.3636363272727291 0.0625000016493049 0.29999998200000094\n",
      "yahoo_A3 0.736842050969532 0.22812499803616132 -0.0\n",
      "yahoo_A3 0.16666664861111138 0.045454540495868265 0.09090908099173658\n",
      "yahoo_A3 0.9473683612188393 0.628650772338993 0.49999996944444614\n",
      "yahoo_A3 0.4999999562500026 0.0 0.0\n",
      "yahoo_A3 0.4999999562500026 0.22582069852335085 0.43749998151041736\n",
      "yahoo_A3 0.5999999460000028 0.12500000915476034 0.5714285362414988\n",
      "yahoo_A3 0.33333329444444565 0.09999999504545469 0.5999999390000058\n",
      "yahoo_A3 0.28571425714285853 0.04545454693526121 -0.0\n",
      "yahoo_A3 0.736842050969532 0.2733333291211399 0.1999999920000002\n",
      "yahoo_A3 0.9565216809073751 0.5626388721071238 -0.0\n",
      "yahoo_A3 0.3999999626666689 0.07142857554434563 0.3333333074074094\n",
      "yahoo_A3 0.666666577777783 0.42261900766629285 0.770833296961807\n",
      "yahoo_A3 0.736842050969532 0.17500000280215797 0.2666666391111137\n",
      "yahoo_A3 0.5882352456747433 0.0 0.0\n",
      "yahoo_A3 0.0 0.0 -0.0\n",
      "yahoo_A3 0.4999999562500026 0.1861111054577021 0.2916666543402782\n",
      "yahoo_A3 0.6666666148148177 0.20208333150177105 0.2222222111111116\n",
      "yahoo_A3 0.8571428000000028 0.2261904745302515 0.0\n",
      "yahoo_A3 0.0 0.0 -0.0\n",
      "yahoo_A3 0.9999999416666693 0.9545454106687574 0.0\n",
      "yahoo_A3 0.9565216809073751 0.828571383153262 0.5999999280000073\n",
      "yahoo_A3 0.736842050969532 0.35984125938134426 0.5199999782000007\n",
      "yahoo_A3 0.9565216809073751 0.0 0.0\n",
      "yahoo_A3 0.8571428000000028 0.4310714172027859 0.1333333262222225\n",
      "yahoo_A3 0.9090908512396723 0.5948128956478546 0.29166664340277926\n",
      "yahoo_A3 0.8571428000000028 0.0 0.0\n",
      "yahoo_A3 0.799999944000003 0.27638888578442156 0.29166664756944544\n",
      "yahoo_A3 0.736842050969532 0.42403197131823256 0.4333333130000008\n",
      "yahoo_A3 0.9090908512396723 0.6831859118946084 0.47916663498264067\n",
      "yahoo_A3 0.24999997187500062 0.07142856326530694 0.4545454049586827\n",
      "yahoo_A3 0.9999999416666693 0.9374999549006312 0.0\n",
      "yahoo_A3 0.3076922769230785 0.0833333297306398 0.1999999830000014\n",
      "yahoo_A3 0.4999999562500026 0.09821428840731876 0.18749998828125058\n",
      "yahoo_A3 0.8571428000000028 0.33978174173881315 -0.0\n",
      "yahoo_A3 0.0 0.0 0.0\n",
      "yahoo_A3 0.9565216809073751 0.919483375404835 0.8571427591836833\n",
      "yahoo_A3 0.9999999416666693 0.9374999436979207 0.0\n",
      "yahoo_A3 0.8571428000000028 0.27916666395896467 0.33333331666666727\n",
      "yahoo_A3 0.0 0.0 -0.0\n",
      "yahoo_A3 0.0 0.0 -0.0\n",
      "yahoo_A3 0.46153841893491365 0.06250000600115631 0.22222221234567935\n",
      "yahoo_A3 0.5882352456747433 0.151785713986259 0.14285713724489807\n",
      "yahoo_A3 0.7142856581632683 0.33948411386785005 0.5555555327777786\n",
      "yahoo_A3 0.736842050969532 0.30692459606671124 0.16666665972222244\n",
      "yahoo_A3 0.799999944000003 0.2660714265473892 -0.0\n",
      "yahoo_A3 0.9565216809073751 0.885629212731804 0.6249999296875072\n",
      "yahoo_A3 0.8571428000000028 0.6496031402979694 0.47301584870294877\n",
      "yahoo_A3 0.6666666148148177 0.4303438938890103 0.47777775979629683\n",
      "yahoo_A3 0.8571428000000028 0.7524999425990493 0.7777777303703726\n",
      "yahoo_A3 0.4999999562500026 0.11408730286310116 0.2291666530381951\n",
      "yahoo_A3 0.9090908512396723 2.041245759923482e-09 0.0\n",
      "yahoo_A3 0.9565216809073751 8.298898041037347e-10 0.0\n",
      "yahoo_A3 0.842105205540169 0.3894047523644019 0.34999998612500044\n",
      "yahoo_A3 0.8571428000000028 0.474861097623113 0.2499999854166673\n",
      "yahoo_A3 0.4999999562500026 0.10902777759176818 0.0624999960937502\n",
      "yahoo_A3 0.799999944000003 0.3757034541386733 0.23749998837500041\n",
      "yahoo_A3 0.0 0.0 -0.0\n",
      "yahoo_A3 0.8571428000000028 0.33407737620391575 0.04464285505420926\n",
      "yahoo_A3 0.0 0.0 -0.0\n",
      "yahoo_A3 0.8571428000000028 2.3002345183742616e-09 0.0\n",
      "yahoo_A3 0.6666666148148177 0.0 0.0\n",
      "yahoo_A3 0.9999999416666693 0.5555555420910497 0.0\n",
      "yahoo_A3 0.9473683612188393 0.9185713793261207 0.9499999424444476\n",
      "yahoo_A3 0.28571425714285853 0.09821427970151163 0.34999996400000344\n",
      "yahoo_A3 0.736842050969532 0.23015872817621355 -0.0\n",
      "yahoo_A3 0.6666666148148177 0.21285714042039686 0.19999999266666688\n",
      "yahoo_A3 0.799999944000003 0.3736507840021751 0.2999999865000004\n",
      "yahoo_A3 0.7142856581632683 0.20833333302218576 0.5277777457407431\n",
      "yahoo_A3 0.4999999562500026 0.0 0.0\n",
      "yahoo_A3 0.4999999562500026 1.628607289663713e-08 0.37499997031250226\n",
      "yahoo_A3 0.799999944000003 2.6352813019987666e-09 0.0\n",
      "yahoo_A3 0.6249999492187529 0.08333334497366353 0.28571427163265367\n",
      "yahoo_A3 0.4999999562500026 0.14675925578344792 0.041666664756944506\n",
      "yahoo_A3 0.8571428000000028 0.5167077519004456 0.2916666532986116\n",
      "yahoo_A3 0.9090908512396723 0.3815887157953836 -0.0\n",
      "yahoo_A3 0.799999944000003 0.0 0.0\n",
      "yahoo_A3 0.8571428000000028 0.6767970131497295 0.6551586963634746\n",
      "yahoo_A3 0.6666666148148177 0.3125165257109011 0.3083333218194448\n",
      "yahoo_A3 0.5882352456747433 0.10714286200143362 0.14285713367346983\n",
      "yahoo_A3 0.6666666148148177 0.2514880895519864 0.17777776885185226\n",
      "yahoo_A3 0.5882352456747433 0.1785714250807286 0.35714283418367465\n",
      "yahoo_A3 0.9090908512396723 0.5871244140306713 0.1999999860000008\n",
      "yahoo_A3 0.5882352456747433 0.30416665460479836 0.4999999767857151\n",
      "yahoo_A3 0.6666666148148177 0.33805554337403243 0.42499998379166715\n",
      "yahoo_A3 0.7058822989619408 0.08888888800476993 0.0\n",
      "yahoo_A3 0.666666611111114 0.29999998671825445 0.70833330295139\n"
     ]
    },
    {
     "data": {
      "application/vnd.jupyter.widget-view+json": {
       "model_id": "bd4444d9528049669c74ff342973404c",
       "version_major": 2,
       "version_minor": 0
      },
      "text/plain": [
       "  0%|          | 0/100 [00:00<?, ?it/s]"
      ]
     },
     "metadata": {},
     "output_type": "display_data"
    },
    {
     "data": {
      "application/vnd.jupyter.widget-view+json": {
       "model_id": "83e964602194414db73fe714894fc4ca",
       "version_major": 2,
       "version_minor": 0
      },
      "text/plain": [
       "  0%|          | 0/100 [00:00<?, ?it/s]"
      ]
     },
     "metadata": {},
     "output_type": "display_data"
    },
    {
     "name": "stdout",
     "output_type": "stream",
     "text": [
      "yahoo_A4 0.6666666148148177 0.40849204766817154 0.527777757546297\n",
      "yahoo_A4 0.0 0.0 -0.0\n",
      "yahoo_A4 0.4999999562500026 0.0714285775077294 0.24999997187500275\n",
      "yahoo_A4 0.6666666148148177 0.12321428488378036 0.3333333202777782\n",
      "yahoo_A4 0.4999999562500026 0.07142857955137984 0.2499999843750008\n",
      "yahoo_A4 0.999999930000003 0.9166665921675762 0.999999930000004\n",
      "yahoo_A4 0.736842050969532 0.3207804158246333 0.1999999920000002\n",
      "yahoo_A4 0.5333332871111137 0.16736110679852345 0.24999998750000055\n",
      "yahoo_A4 0.0 0.0 -0.0\n",
      "yahoo_A4 0.5333332871111137 2.7651513124356705e-09 0.0\n",
      "yahoo_A4 0.0 0.0 -0.0\n",
      "yahoo_A4 0.9090908512396723 0.861892142833962 0.7152777334587216\n",
      "yahoo_A4 0.736842050969532 0.2596230115339825 0.04999999775000007\n",
      "yahoo_A4 0.9090908512396723 0.4724702285105039 -0.0\n",
      "yahoo_A4 0.6666666148148177 0.1269841325481336 0.0833333277777781\n",
      "yahoo_A4 0.736842050969532 0.08333334512160165 0.0\n",
      "yahoo_A4 0.0 0.0 -0.0\n",
      "yahoo_A4 0.3999999626666689 0.0 0.0\n",
      "yahoo_A4 0.15384613727810673 0.04166666215277823 -0.0\n",
      "yahoo_A4 0.4999999562500026 2.5252523422138635e-09 0.0\n",
      "yahoo_A4 0.9090908512396723 2.041245759923482e-09 0.0\n",
      "yahoo_A4 0.8571428000000028 0.0 0.0\n",
      "yahoo_A4 0.9999999416666693 0.9444444018709455 0.0\n",
      "yahoo_A4 0.9565216809073751 0.13888889101314167 0.0\n",
      "yahoo_A4 0.4999999562500026 0.13872354229267167 0.18749998828125058\n",
      "yahoo_A4 0.7058822989619408 0.32476189550154677 0.1799999931333335\n",
      "yahoo_A4 0.799999944000003 0.0 0.0\n",
      "yahoo_A4 0.4999999562500026 0.09375000344828427 0.12499999427083351\n",
      "yahoo_A4 0.6666666148148177 0.0 0.0\n",
      "yahoo_A4 0.8333332708333363 0.5333333111557248 0.6249999720833342\n",
      "yahoo_A4 0.9999999416666693 0.28571428276360555 0.0\n",
      "yahoo_A4 0.0 0.0 0.0\n",
      "yahoo_A4 0.4999999562500026 0.0 0.0\n",
      "yahoo_A4 0.8571428000000028 0.44499431975376513 0.19999998933333374\n",
      "yahoo_A4 0.9565216809073751 0.7701028844160853 0.16666664722222418\n",
      "yahoo_A4 0.15384613727810673 0.04166666215277823 -0.0\n",
      "yahoo_A4 0.6666666148148177 0.2829665635625628 0.3055555439814818\n",
      "yahoo_A4 0.4999999562500026 0.1387235420843384 0.11458332651909756\n",
      "yahoo_A4 0.5882352456747433 0.1771825363237842 0.2619047458616788\n",
      "yahoo_A4 0.799999944000003 0.43970897805552567 0.21696427638934979\n",
      "yahoo_A4 0.8571428000000028 0.29523809450417415 -0.0\n",
      "yahoo_A4 0.736842050969532 0.6333238480960924 0.5499999805476194\n",
      "yahoo_A4 0.0 0.0 -0.0\n",
      "yahoo_A4 0.9090908512396723 0.0 0.0\n",
      "yahoo_A4 0.736842050969532 0.24999999561763467 0.3999999720000016\n",
      "yahoo_A4 0.0 0.0 0.0\n",
      "yahoo_A4 0.5882352456747433 0.2675297532890644 0.3452380808815197\n",
      "yahoo_A4 0.0 0.0 0.0\n",
      "yahoo_A4 0.9090908512396723 0.24089505658093457 0.3888888651234581\n",
      "yahoo_A4 0.0 0.0 -0.0\n",
      "yahoo_A4 0.0 0.0 -0.0\n",
      "yahoo_A4 0.0 0.0 -0.0\n",
      "yahoo_A4 0.799999944000003 0.535544192835484 0.4071428402670073\n",
      "yahoo_A4 0.4999999562500026 0.1699735398435151 0.19791665577256992\n",
      "yahoo_A4 0.5882352456747433 0.13425925952429363 -0.0\n",
      "yahoo_A4 0.0 0.0 0.0\n",
      "yahoo_A4 0.4285713887755125 0.06250000503314299 0.12499998906250087\n",
      "yahoo_A4 0.6666666148148177 0.6194443961478213 0.8444444000555575\n",
      "yahoo_A4 0.4999999562500026 0.0 0.0\n",
      "yahoo_A4 0.736842050969532 0.3453718629618313 0.38999998098333405\n",
      "yahoo_A4 0.736842050969532 0.29028528822678173 0.18333332536111135\n",
      "yahoo_A4 0.0 0.0 0.0\n",
      "yahoo_A4 0.799999944000003 0.2333333339024769 0.0\n",
      "yahoo_A4 0.0 0.0 -0.0\n",
      "yahoo_A4 0.736842050969532 0.36731239987958486 0.1999999920000002\n",
      "yahoo_A4 0.4999999562500026 0.05555556362513912 -0.0\n",
      "yahoo_A4 0.3999999626666689 0.05000000514393849 -0.0\n",
      "yahoo_A4 0.9090908512396723 0.0 0.0\n",
      "yahoo_A4 0.6666666148148177 0.22395832937810775 0.12499999479166685\n",
      "yahoo_A4 0.6666666148148177 0.2158928539040954 0.1111111055555558\n",
      "yahoo_A4 0.0 0.0 -0.0\n",
      "yahoo_A4 0.5714285224489823 0.1954365019253119 0.5312499730468763\n",
      "yahoo_A4 0.3999999626666689 0.055555560758977725 0.11111110432098807\n",
      "yahoo_A4 0.799999944000003 1.1069143219769037e-08 0.24999998541666732\n",
      "yahoo_A4 0.6666666148148177 0.21626983795735844 0.33333331611111194\n",
      "yahoo_A4 0.8571428000000028 0.0 0.0\n",
      "yahoo_A4 0.8571428000000028 0.5027777389730785 0.6499999228333411\n",
      "yahoo_A4 0.0 0.0 -0.0\n",
      "yahoo_A4 0.8571428000000028 0.4791779911488764 0.3047618898684813\n",
      "yahoo_A4 0.46153841893491365 1.417327842132423e-08 0.4444444154321008\n",
      "yahoo_A4 0.6666666148148177 0.2991765792500737 0.1333333284444446\n",
      "yahoo_A4 0.6666666148148177 1.5909090497462517e-09 0.0\n",
      "yahoo_A4 0.0 0.0 -0.0\n",
      "yahoo_A4 0.3999999626666689 0.060606058603076246 0.07407407078189315\n",
      "yahoo_A4 0.6666666148148177 6.782827886406658e-09 0.0\n",
      "yahoo_A4 0.8571428000000028 6.079996228979668e-09 0.0\n",
      "yahoo_A4 0.33333330000000166 0.055555557160493235 0.19999998800000063\n",
      "yahoo_A4 0.9090908512396723 0.316717839333742 0.0\n",
      "yahoo_A4 0.8571428000000028 0.42744046533367447 0.13095237382369643\n",
      "yahoo_A4 0.0 0.0 -0.0\n",
      "yahoo_A4 0.8333332708333363 0.5201190303261738 0.5416666432638897\n",
      "yahoo_A4 0.799999944000003 0.18750000920406318 0.24999998875000037\n",
      "yahoo_A4 0.9090908512396723 0.44169872481089334 -0.0\n",
      "yahoo_A4 0.6666666148148177 0.0 0.0\n",
      "yahoo_A4 0.5882352456747433 0.16980819841492142 0.047619045351473994\n",
      "yahoo_A4 0.736842050969532 0.4481721816626546 0.30666665462222253\n",
      "yahoo_A4 0.0 0.0 -0.0\n",
      "yahoo_A4 0.7999999413333363 0.5224744708107893 0.47142855145578294\n",
      "yahoo_A4 0.8571428000000028 0.5530753805185361 0.2976190338931411\n",
      "yahoo_A4 0.3999999626666689 0.06250000434501177 0.22222220308642135\n"
     ]
    }
   ],
   "source": [
    "for loader in [load_yahoo_A1, load_yahoo_A2, load_yahoo_A3, load_yahoo_A4]:\n",
    "    datasets = loader(128, 32)\n",
    "    x_trains, x_tests, y_tests = datasets['x_train'], datasets['x_test'], datasets['y_test']\n",
    "    \n",
    "    for i in tqdm(range(len(x_trains))):\n",
    "        tf.keras.backend.clear_session()\n",
    "\n",
    "        X_train = x_trains[i]\n",
    "        X_test = x_tests[i]\n",
    "        \n",
    "        latent_dim = 16\n",
    "\n",
    "        encoder_inputs = keras.Input(shape=(X_train.shape[1], X_train.shape[2]))\n",
    "        x = layers.Conv1D(32, 3, activation=\"relu\", strides=2, padding=\"same\")(encoder_inputs)\n",
    "        x = layers.Conv1D(64, 3, activation=\"relu\", strides=2, padding=\"same\")(x)\n",
    "        x = layers.Flatten()(x)\n",
    "        x = layers.Dense(128, activation=\"relu\")(x)\n",
    "        z_mean = layers.Dense(latent_dim, name=\"z_mean\")(x)\n",
    "        z_log_var = layers.Dense(latent_dim, name=\"z_log_var\")(x)\n",
    "        z = Sampling()([z_mean, z_log_var])\n",
    "        encoder = keras.Model(encoder_inputs, [z_mean, z_log_var, z], name=\"encoder\")\n",
    "        \n",
    "        latent_inputs = keras.Input(shape=(latent_dim,))\n",
    "        x = layers.Dense(32* 64, activation=\"relu\")(latent_inputs)\n",
    "        x = layers.Reshape((32, 64))(x)\n",
    "        x = layers.Conv1DTranspose(64, 3, activation=\"relu\", strides=2, padding=\"same\")(x)\n",
    "        x = layers.Conv1DTranspose(32, 3, activation=\"relu\", strides=2, padding=\"same\")(x)\n",
    "        x = layers.Flatten()(x)\n",
    "        x = layers.Dense(X_train.shape[1] * X_train.shape[2])(x)\n",
    "        decoder_outputs = layers.Reshape([X_train.shape[1], X_train.shape[2]])(x)\n",
    "        decoder = keras.Model(latent_inputs, decoder_outputs, name=\"decoder\")\n",
    "        \n",
    "        model = VAE(encoder, decoder)\n",
    "        model.compile(optimizer=keras.optimizers.Adam(learning_rate=0.001))\n",
    "        history = model.fit(X_train, epochs=50, batch_size=128, verbose=0)\n",
    "        \n",
    "        X_test_rec = model.decoder.predict(model.encoder.predict(X_test)[-1])\n",
    "        scores = evaluate(X_test, X_test_rec, y_tests[i], is_reconstructed=True)\n",
    "    \n",
    "        total_scores['dataset'].append(loader.__name__.replace('load_', ''))\n",
    "        total_scores['f1'].append(np.max(scores['f1']))\n",
    "        total_scores['pr_auc'].append(scores['pr_auc'])\n",
    "        total_scores['roc_auc'].append(scores['roc_auc'])\n",
    "        print(loader.__name__.replace('load_', ''), np.max(scores['f1']), scores['pr_auc'], scores['roc_auc'])   "
   ]
  },
  {
   "cell_type": "code",
   "execution_count": 7,
   "id": "bd9e37fd-124c-4f5c-8f1f-a9d61a4b0315",
   "metadata": {},
   "outputs": [],
   "source": [
    "yahoo_results = pd.DataFrame(total_scores)"
   ]
  },
  {
   "cell_type": "code",
   "execution_count": 8,
   "id": "dd0ffd29-f548-4ff5-bced-b8ea85ef0697",
   "metadata": {},
   "outputs": [
    {
     "data": {
      "text/html": [
       "<div>\n",
       "<style scoped>\n",
       "    .dataframe tbody tr th:only-of-type {\n",
       "        vertical-align: middle;\n",
       "    }\n",
       "\n",
       "    .dataframe tbody tr th {\n",
       "        vertical-align: top;\n",
       "    }\n",
       "\n",
       "    .dataframe thead th {\n",
       "        text-align: right;\n",
       "    }\n",
       "</style>\n",
       "<table border=\"1\" class=\"dataframe\">\n",
       "  <thead>\n",
       "    <tr style=\"text-align: right;\">\n",
       "      <th></th>\n",
       "      <th>f1</th>\n",
       "      <th>pr_auc</th>\n",
       "      <th>roc_auc</th>\n",
       "    </tr>\n",
       "    <tr>\n",
       "      <th>dataset</th>\n",
       "      <th></th>\n",
       "      <th></th>\n",
       "      <th></th>\n",
       "    </tr>\n",
       "  </thead>\n",
       "  <tbody>\n",
       "    <tr>\n",
       "      <th>yahoo_A1</th>\n",
       "      <td>0.425643</td>\n",
       "      <td>0.208009</td>\n",
       "      <td>0.270768</td>\n",
       "    </tr>\n",
       "    <tr>\n",
       "      <th>yahoo_A2</th>\n",
       "      <td>0.000000</td>\n",
       "      <td>0.000000</td>\n",
       "      <td>0.000000</td>\n",
       "    </tr>\n",
       "    <tr>\n",
       "      <th>yahoo_A3</th>\n",
       "      <td>0.656001</td>\n",
       "      <td>0.276384</td>\n",
       "      <td>0.237310</td>\n",
       "    </tr>\n",
       "    <tr>\n",
       "      <th>yahoo_A4</th>\n",
       "      <td>0.556930</td>\n",
       "      <td>0.191848</td>\n",
       "      <td>0.156115</td>\n",
       "    </tr>\n",
       "  </tbody>\n",
       "</table>\n",
       "</div>"
      ],
      "text/plain": [
       "                f1    pr_auc   roc_auc\n",
       "dataset                               \n",
       "yahoo_A1  0.425643  0.208009  0.270768\n",
       "yahoo_A2  0.000000  0.000000  0.000000\n",
       "yahoo_A3  0.656001  0.276384  0.237310\n",
       "yahoo_A4  0.556930  0.191848  0.156115"
      ]
     },
     "execution_count": 8,
     "metadata": {},
     "output_type": "execute_result"
    }
   ],
   "source": [
    "yahoo_results.groupby('dataset').mean()"
   ]
  },
  {
   "cell_type": "markdown",
   "id": "8890a678-6116-4222-b0ff-395fcd7f41aa",
   "metadata": {},
   "source": [
    "### NASA"
   ]
  },
  {
   "cell_type": "code",
   "execution_count": 9,
   "id": "e4387a80-585a-488e-94a8-546f42d47632",
   "metadata": {},
   "outputs": [],
   "source": [
    "total_scores = {'dataset': [], 'f1': [], 'pr_auc': [], 'roc_auc': []}"
   ]
  },
  {
   "cell_type": "code",
   "execution_count": 10,
   "id": "106a238d-c5cb-49e9-9764-b1bc37f09436",
   "metadata": {},
   "outputs": [
    {
     "data": {
      "application/vnd.jupyter.widget-view+json": {
       "model_id": "f628c567187343cb98f336505189ef0c",
       "version_major": 2,
       "version_minor": 0
      },
      "text/plain": [
       "  0%|          | 0/2 [00:00<?, ?it/s]"
      ]
     },
     "metadata": {},
     "output_type": "display_data"
    },
    {
     "data": {
      "application/vnd.jupyter.widget-view+json": {
       "model_id": "de9f110c62f6406e941a7b982cfe7b43",
       "version_major": 2,
       "version_minor": 0
      },
      "text/plain": [
       "  0%|          | 0/2 [00:00<?, ?it/s]"
      ]
     },
     "metadata": {},
     "output_type": "display_data"
    },
    {
     "name": "stdout",
     "output_type": "stream",
     "text": [
      "D1 0.25388598800874246 0.1414733094195465 0.5005733789658734\n",
      "D2 0.2699530282282525 0.15229549424478592 0.5155843225011233\n"
     ]
    }
   ],
   "source": [
    "for loader in [load_nasa]:\n",
    "    datasets = loader(100, 100)\n",
    "    x_trains, x_tests, y_tests = datasets['x_train'], datasets['x_test'], datasets['y_test']\n",
    "    \n",
    "    for i in tqdm(range(len(x_trains))):\n",
    "        tf.keras.backend.clear_session()\n",
    "\n",
    "        X_train = x_trains[i]\n",
    "        X_test = x_tests[i]\n",
    "        \n",
    "        latent_dim = 16\n",
    "\n",
    "        encoder_inputs = keras.Input(shape=(X_train.shape[1], X_train.shape[2]))\n",
    "        x = layers.Conv1D(32, 3, activation=\"relu\", strides=2, padding=\"same\")(encoder_inputs)\n",
    "        x = layers.Conv1D(64, 3, activation=\"relu\", strides=2, padding=\"same\")(x)\n",
    "        x = layers.Flatten()(x)\n",
    "        x = layers.Dense(128, activation=\"relu\")(x)\n",
    "        z_mean = layers.Dense(latent_dim, name=\"z_mean\")(x)\n",
    "        z_log_var = layers.Dense(latent_dim, name=\"z_log_var\")(x)\n",
    "        z = Sampling()([z_mean, z_log_var])\n",
    "        encoder = keras.Model(encoder_inputs, [z_mean, z_log_var, z], name=\"encoder\")\n",
    "        \n",
    "        latent_inputs = keras.Input(shape=(latent_dim,))\n",
    "        x = layers.Dense(32* 64, activation=\"relu\")(latent_inputs)\n",
    "        x = layers.Reshape((32, 64))(x)\n",
    "        x = layers.Conv1DTranspose(64, 3, activation=\"relu\", strides=2, padding=\"same\")(x)\n",
    "        x = layers.Conv1DTranspose(32, 3, activation=\"relu\", strides=2, padding=\"same\")(x)\n",
    "        x = layers.Flatten()(x)\n",
    "        x = layers.Dense(X_train.shape[1] * X_train.shape[2])(x)\n",
    "        decoder_outputs = layers.Reshape([X_train.shape[1], X_train.shape[2]])(x)\n",
    "        decoder = keras.Model(latent_inputs, decoder_outputs, name=\"decoder\")\n",
    "        \n",
    "        model = VAE(encoder, decoder)\n",
    "        model.compile(optimizer=keras.optimizers.Adam(learning_rate=0.001))\n",
    "        history = model.fit(X_train, epochs=50, batch_size=128, verbose=0)\n",
    "        \n",
    "        X_test_rec = model.decoder.predict(model.encoder.predict(X_test)[-1])\n",
    "        scores = evaluate(X_test, X_test_rec, y_tests[i], is_reconstructed=True)\n",
    "        \n",
    "        total_scores['dataset'].append(f'D{i+1}')\n",
    "        total_scores['f1'].append(np.max(scores['f1']))\n",
    "        total_scores['pr_auc'].append(scores['pr_auc'])\n",
    "        total_scores['roc_auc'].append(scores['roc_auc'])\n",
    "        print(f'D{i+1}', np.max(scores['f1']), scores['pr_auc'], scores['roc_auc'])   "
   ]
  },
  {
   "cell_type": "code",
   "execution_count": 11,
   "id": "abb7a6a5-3924-4a33-bc54-871559819602",
   "metadata": {},
   "outputs": [],
   "source": [
    "nasa_results = pd.DataFrame(total_scores)"
   ]
  },
  {
   "cell_type": "code",
   "execution_count": 12,
   "id": "47b35a95-f236-4ae8-b244-5395fe9955bd",
   "metadata": {},
   "outputs": [
    {
     "data": {
      "text/html": [
       "<div>\n",
       "<style scoped>\n",
       "    .dataframe tbody tr th:only-of-type {\n",
       "        vertical-align: middle;\n",
       "    }\n",
       "\n",
       "    .dataframe tbody tr th {\n",
       "        vertical-align: top;\n",
       "    }\n",
       "\n",
       "    .dataframe thead th {\n",
       "        text-align: right;\n",
       "    }\n",
       "</style>\n",
       "<table border=\"1\" class=\"dataframe\">\n",
       "  <thead>\n",
       "    <tr style=\"text-align: right;\">\n",
       "      <th></th>\n",
       "      <th>f1</th>\n",
       "      <th>pr_auc</th>\n",
       "      <th>roc_auc</th>\n",
       "    </tr>\n",
       "    <tr>\n",
       "      <th>dataset</th>\n",
       "      <th></th>\n",
       "      <th></th>\n",
       "      <th></th>\n",
       "    </tr>\n",
       "  </thead>\n",
       "  <tbody>\n",
       "    <tr>\n",
       "      <th>D1</th>\n",
       "      <td>0.253886</td>\n",
       "      <td>0.141473</td>\n",
       "      <td>0.500573</td>\n",
       "    </tr>\n",
       "    <tr>\n",
       "      <th>D2</th>\n",
       "      <td>0.269953</td>\n",
       "      <td>0.152295</td>\n",
       "      <td>0.515584</td>\n",
       "    </tr>\n",
       "  </tbody>\n",
       "</table>\n",
       "</div>"
      ],
      "text/plain": [
       "               f1    pr_auc   roc_auc\n",
       "dataset                              \n",
       "D1       0.253886  0.141473  0.500573\n",
       "D2       0.269953  0.152295  0.515584"
      ]
     },
     "execution_count": 12,
     "metadata": {},
     "output_type": "execute_result"
    }
   ],
   "source": [
    "nasa_results.groupby('dataset').mean()"
   ]
  },
  {
   "cell_type": "markdown",
   "id": "41754734-5c75-4caf-9069-fb3b39c7a0da",
   "metadata": {},
   "source": [
    "### SMD"
   ]
  },
  {
   "cell_type": "code",
   "execution_count": 13,
   "id": "60a26807-8359-42d4-82b4-9e1d37b6acaa",
   "metadata": {},
   "outputs": [],
   "source": [
    "total_scores = {'dataset': [], 'f1': [], 'pr_auc': [], 'roc_auc': []}"
   ]
  },
  {
   "cell_type": "code",
   "execution_count": null,
   "id": "41af318e-1b08-4cc9-a680-6b4a978544f2",
   "metadata": {},
   "outputs": [
    {
     "data": {
      "application/vnd.jupyter.widget-view+json": {
       "model_id": "6c8ad243875c42e1a3e64b684f5e0c3b",
       "version_major": 2,
       "version_minor": 0
      },
      "text/plain": [
       "  0%|          | 0/28 [00:00<?, ?it/s]"
      ]
     },
     "metadata": {},
     "output_type": "display_data"
    },
    {
     "data": {
      "application/vnd.jupyter.widget-view+json": {
       "model_id": "546861b1e49946dc8914fc0bb724cdfa",
       "version_major": 2,
       "version_minor": 0
      },
      "text/plain": [
       "  0%|          | 0/28 [00:00<?, ?it/s]"
      ]
     },
     "metadata": {},
     "output_type": "display_data"
    },
    {
     "name": "stdout",
     "output_type": "stream",
     "text": [
      "smd 0.21943571700356884 0.06161971811210573 0.49999999837062536\n",
      "smd 0.13733904288530016 0.028173112021507282 0.36261987746582136\n",
      "smd 0.19999995422223202 0.14219012503143807 0.5787897130193578\n",
      "smd 0.18604648513911787 0.11866806227026533 0.5133701159873187\n",
      "smd 0.33333328333333917 0.35640820541890905 0.6211790312653149\n",
      "smd 0.4532373739169843 0.2669330983626245 0.5179672349984987\n",
      "smd 0.2831049957173562 0.14461924966945794 0.5173868870979054\n",
      "smd 0.20895519513255004 0.11940347522366578 0.547204295148935\n",
      "smd 0.22033895027291484 0.1666149344974412 0.5691633546205771\n",
      "smd 0.28363633908892766 0.3241394928242778 0.5605232313902969\n",
      "smd 0.1044176607022476 0.03525980884669687 0.4900122252606943\n",
      "smd 0.2710622474312033 0.09125372910904292 0.23458540739482808\n",
      "smd 0.22813686174442485 0.146714004750293 0.4791606156205909\n",
      "smd 0.15384613727810673 0.2113461199160637 0.5001515106639715\n",
      "smd 0.2580644795005248 0.2009804413350092 0.46037670393170643\n",
      "smd 0.7999999200000041 0.6687762990145876 0.8333333051994312\n",
      "smd 0.1719745064647667 0.04703832733552671 0.4999999979558404\n",
      "smd 0.2222221975308647 0.512237705830517 0.5624999927664119\n"
     ]
    }
   ],
   "source": [
    "for loader in [load_smd]:\n",
    "    datasets = loader(100, 100)\n",
    "    x_trains, x_tests, y_tests = datasets['x_train'], datasets['x_test'], datasets['y_test']\n",
    "    \n",
    "    for i in tqdm(range(len(x_trains))):\n",
    "        tf.keras.backend.clear_session()\n",
    "\n",
    "        X_train = x_trains[i]\n",
    "        X_test = x_tests[i]\n",
    "        \n",
    "        latent_dim = 16\n",
    "\n",
    "        encoder_inputs = keras.Input(shape=(X_train.shape[1], X_train.shape[2]))\n",
    "        x = layers.Conv1D(32, 3, activation=\"relu\", strides=2, padding=\"same\")(encoder_inputs)\n",
    "        x = layers.Conv1D(64, 3, activation=\"relu\", strides=2, padding=\"same\")(x)\n",
    "        x = layers.Flatten()(x)\n",
    "        x = layers.Dense(128, activation=\"relu\")(x)\n",
    "        z_mean = layers.Dense(latent_dim, name=\"z_mean\")(x)\n",
    "        z_log_var = layers.Dense(latent_dim, name=\"z_log_var\")(x)\n",
    "        z = Sampling()([z_mean, z_log_var])\n",
    "        encoder = keras.Model(encoder_inputs, [z_mean, z_log_var, z], name=\"encoder\")\n",
    "        \n",
    "        latent_inputs = keras.Input(shape=(latent_dim,))\n",
    "        x = layers.Dense(32* 64, activation=\"relu\")(latent_inputs)\n",
    "        x = layers.Reshape((32, 64))(x)\n",
    "        x = layers.Conv1DTranspose(64, 3, activation=\"relu\", strides=2, padding=\"same\")(x)\n",
    "        x = layers.Conv1DTranspose(32, 3, activation=\"relu\", strides=2, padding=\"same\")(x)\n",
    "        x = layers.Flatten()(x)\n",
    "        x = layers.Dense(X_train.shape[1] * X_train.shape[2])(x)\n",
    "        decoder_outputs = layers.Reshape([X_train.shape[1], X_train.shape[2]])(x)\n",
    "        decoder = keras.Model(latent_inputs, decoder_outputs, name=\"decoder\")\n",
    "        \n",
    "        model = VAE(encoder, decoder)\n",
    "        model.compile(optimizer=keras.optimizers.Adam(learning_rate=0.001))\n",
    "        history = model.fit(X_train, epochs=50, batch_size=128, verbose=0)\n",
    "        \n",
    "        X_test_rec = model.decoder.predict(model.encoder.predict(X_test)[-1])\n",
    "        scores = evaluate(X_test, X_test_rec, y_tests[i], is_reconstructed=True)\n",
    "\n",
    "        total_scores['dataset'].append(loader.__name__.replace('load_', ''))\n",
    "        total_scores['f1'].append(np.max(scores['f1']))\n",
    "        total_scores['pr_auc'].append(scores['pr_auc'])\n",
    "        total_scores['roc_auc'].append(scores['roc_auc'])\n",
    "        print(loader.__name__.replace('load_', ''), np.max(scores['f1']), scores['pr_auc'], scores['roc_auc'])   "
   ]
  },
  {
   "cell_type": "code",
   "execution_count": null,
   "id": "23474773-bac1-4145-ac75-c1a686bca5c6",
   "metadata": {},
   "outputs": [],
   "source": [
    "smd_results = pd.DataFrame(total_scores)"
   ]
  },
  {
   "cell_type": "code",
   "execution_count": null,
   "id": "0f82f57f-4d93-4003-b22b-93bd75cf36e7",
   "metadata": {},
   "outputs": [],
   "source": [
    "smd_results.groupby('dataset').mean()"
   ]
  },
  {
   "cell_type": "code",
   "execution_count": null,
   "id": "8a2f4c6f-5b06-4a68-82c5-f12bdbc6e527",
   "metadata": {},
   "outputs": [],
   "source": []
  }
 ],
 "metadata": {
  "kernelspec": {
   "display_name": "Python 3",
   "language": "python",
   "name": "python3"
  },
  "language_info": {
   "codemirror_mode": {
    "name": "ipython",
    "version": 3
   },
   "file_extension": ".py",
   "mimetype": "text/x-python",
   "name": "python",
   "nbconvert_exporter": "python",
   "pygments_lexer": "ipython3",
   "version": "3.9.4"
  }
 },
 "nbformat": 4,
 "nbformat_minor": 5
}
