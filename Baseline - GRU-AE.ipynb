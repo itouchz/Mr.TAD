{
 "cells": [
  {
   "cell_type": "code",
   "execution_count": 1,
   "id": "a80a379b-932c-4401-8d76-b5ae5dedc6cc",
   "metadata": {},
   "outputs": [],
   "source": [
    "import os\n",
    "import random\n",
    "\n",
    "os.environ[\"CUDA_DEVICE_ORDER\"] = \"PCI_BUS_ID\";\n",
    "os.environ[\"CUDA_VISIBLE_DEVICES\"] = \"0\"\n",
    "os.environ[\"TF_FORCE_GPU_ALLOW_GROWTH\"] = \"true\""
   ]
  },
  {
   "cell_type": "code",
   "execution_count": 2,
   "id": "saving-behavior",
   "metadata": {},
   "outputs": [],
   "source": [
    "import numpy as np\n",
    "import pandas as pd\n",
    "import tensorflow as tf\n",
    "\n",
    "from evaluator import evaluate\n",
    "from data_loader import load_kdd_cup_urc, load_yahoo_A1, load_yahoo_A2, load_yahoo_A3, load_yahoo_A4, load_power_demand # Univariate Datasets\n",
    "from data_loader import load_nasa, load_ecg, load_gesture, load_smd # Multivariate Datasets\n",
    "\n",
    "from tensorflow import keras\n",
    "from tensorflow.keras import layers\n",
    "from tqdm.notebook import tqdm\n",
    "\n",
    "# THESE LINES ARE FOR REPRODUCIBILITY\n",
    "random.seed(0)\n",
    "np.random.seed(0)\n",
    "tf.random.set_seed(0)"
   ]
  },
  {
   "cell_type": "code",
   "execution_count": 3,
   "id": "217dc48d-fda8-478a-878a-a8024d942e34",
   "metadata": {},
   "outputs": [],
   "source": [
    "def GRU_AE(X_train):\n",
    "    GRU = layers.GRU\n",
    "    model = keras.Sequential(\n",
    "        [\n",
    "            layers.InputLayer(input_shape=(X_train.shape[1], X_train.shape[2])),\n",
    "            GRU(64, return_sequences=True),\n",
    "            GRU(32),\n",
    "            layers.RepeatVector(X_train.shape[1]),\n",
    "            GRU(32, return_sequences=True),\n",
    "            GRU(64),\n",
    "            layers.Dense(X_train.shape[1] *  X_train.shape[2]),\n",
    "            layers.Reshape([X_train.shape[1], X_train.shape[2]])\n",
    "        ]\n",
    "    )\n",
    "    model.compile(optimizer=keras.optimizers.Adam(learning_rate=0.001), loss=\"mse\")\n",
    "    history = model.fit(X_train, X_train, epochs=50, batch_size=128, validation_split=0.3, verbose=0, callbacks=[keras.callbacks.EarlyStopping(monitor=\"val_loss\", patience=5, mode=\"min\", restore_best_weights=True)])\n",
    "    return model"
   ]
  },
  {
   "cell_type": "markdown",
   "id": "fa97c067-d18d-4c06-ae1b-2cbfe88788b6",
   "metadata": {},
   "source": [
    "### Yahoo S5"
   ]
  },
  {
   "cell_type": "code",
   "execution_count": 4,
   "id": "eight-partition",
   "metadata": {},
   "outputs": [],
   "source": [
    "total_scores = {'dataset': [], 'f1': [], 'pr_auc': [], 'roc_auc': []}"
   ]
  },
  {
   "cell_type": "code",
   "execution_count": 5,
   "id": "71866d92-1163-4975-bb99-4302ccda66c3",
   "metadata": {
    "scrolled": true,
    "tags": []
   },
   "outputs": [
    {
     "data": {
      "application/vnd.jupyter.widget-view+json": {
       "model_id": "f7dd960e21d94e35b0377d7305deb0a2",
       "version_major": 2,
       "version_minor": 0
      },
      "text/plain": [
       "  0%|          | 0/67 [00:00<?, ?it/s]"
      ]
     },
     "metadata": {},
     "output_type": "display_data"
    },
    {
     "data": {
      "application/vnd.jupyter.widget-view+json": {
       "model_id": "1a710a2aacb94fa8952ef7747b9c0933",
       "version_major": 2,
       "version_minor": 0
      },
      "text/plain": [
       "  0%|          | 0/56 [00:00<?, ?it/s]"
      ]
     },
     "metadata": {},
     "output_type": "display_data"
    },
    {
     "name": "stdout",
     "output_type": "stream",
     "text": [
      "yahoo_A1 0.5714285142857172 0.1666666606944441 0.33333328888889363\n",
      "yahoo_A1 0.0 0.0 0.0\n",
      "yahoo_A1 0.0 0.0 0.0\n",
      "yahoo_A1 0.0 0.0 0.0\n",
      "WARNING:tensorflow:5 out of the last 5 calls to <function Model.make_predict_function.<locals>.predict_function at 0x7fc80c296040> triggered tf.function retracing. Tracing is expensive and the excessive number of tracings could be due to (1) creating @tf.function repeatedly in a loop, (2) passing tensors with different shapes, (3) passing Python objects instead of tensors. For (1), please define your @tf.function outside of the loop. For (2), @tf.function has experimental_relax_shapes=True option that relaxes argument shapes that can avoid unnecessary retracing. For (3), please refer to https://www.tensorflow.org/guide/function#controlling_retracing and https://www.tensorflow.org/api_docs/python/tf/function for  more details.\n",
      "yahoo_A1 0.0 0.0 0.0\n",
      "WARNING:tensorflow:6 out of the last 6 calls to <function Model.make_predict_function.<locals>.predict_function at 0x7fc88c411700> triggered tf.function retracing. Tracing is expensive and the excessive number of tracings could be due to (1) creating @tf.function repeatedly in a loop, (2) passing tensors with different shapes, (3) passing Python objects instead of tensors. For (1), please define your @tf.function outside of the loop. For (2), @tf.function has experimental_relax_shapes=True option that relaxes argument shapes that can avoid unnecessary retracing. For (3), please refer to https://www.tensorflow.org/guide/function#controlling_retracing and https://www.tensorflow.org/api_docs/python/tf/function for  more details.\n",
      "yahoo_A1 0.0 0.0 0.0\n",
      "yahoo_A1 0.33333329444444565 0.09999998800000123 0.49999993750000654\n",
      "yahoo_A1 0.666666577777783 0.4583332718055626 0.7499999125000085\n",
      "yahoo_A1 0.666666577777783 0.47499994300000575 0.6666666111111147\n",
      "yahoo_A1 0.33333329444444565 0.09999998800000123 -0.0\n",
      "yahoo_A1 0.8888888197530895 0.25000000993055255 -0.0\n",
      "yahoo_A1 0.5714285142857172 0.1250000006249989 -0.0\n",
      "yahoo_A1 0.9999998500000123 0.49999990000001493 0.9999998750000131\n",
      "yahoo_A1 0.0 0.0 0.0\n",
      "yahoo_A1 0.33333329444444565 0.0 0.0\n",
      "yahoo_A1 0.0 0.0 -0.0\n",
      "yahoo_A1 0.7499999343750033 0.3361110889953716 0.24999997500000196\n",
      "yahoo_A1 0.7499999343750033 0.16666667444444216 -0.0\n",
      "yahoo_A1 0.7499999343750033 0.1666666744444422 -0.0\n",
      "yahoo_A1 0.7499999343750033 0.0 0.0\n",
      "yahoo_A1 0.0 0.0 0.0\n",
      "yahoo_A1 0.0 0.0 -0.0\n",
      "yahoo_A1 0.9999999000000052 0.4999999591666695 0.9999999000000078\n",
      "yahoo_A1 0.9999999166666703 0.49999996666666835 0.9999999166666721\n",
      "yahoo_A1 0.0 0.0 0.0\n",
      "yahoo_A1 0.8888888197530895 0.25000000993055255 -0.0\n",
      "yahoo_A1 0.5714285142857172 0.2708333108680571 0.41666662361111484\n",
      "yahoo_A1 0.7499999343750033 0.0 0.0\n",
      "yahoo_A1 0.7499999343750033 0.0 0.0\n",
      "yahoo_A1 0.0 0.0 -0.0\n",
      "yahoo_A1 0.999999930000003 0.0 0.0\n",
      "yahoo_A1 0.5714285142857172 0.1250000006249989 -0.0\n",
      "yahoo_A1 0.9999998500000123 0.49999990000001493 0.9999998750000131\n",
      "yahoo_A1 0.6666666000000033 0.24999998333333406 0.33333330555555735\n",
      "yahoo_A1 0.5714285142857172 0.1250000006249989 -0.0\n",
      "yahoo_A1 0.7499999343750033 0.16666667444444216 -0.0\n",
      "yahoo_A1 0.7499999343750033 0.0 0.0\n",
      "yahoo_A1 0.0 0.0 0.0\n",
      "yahoo_A1 0.7499999343750033 0.0 0.0\n",
      "yahoo_A1 0.7499999343750033 0.0 0.0\n",
      "yahoo_A1 0.33333329444444565 0.0 0.0\n",
      "yahoo_A1 0.8888888197530895 6.458332776441446e-09 0.0\n",
      "yahoo_A1 0.8888888197530895 1.8263886922697167e-08 0.0\n",
      "yahoo_A1 0.7499999343750033 0.3611110889120382 0.24999997500000196\n",
      "yahoo_A1 0.0 0.0 0.0\n",
      "yahoo_A1 0.0 0.0 0.0\n",
      "yahoo_A1 0.5714285142857172 0.1250000006249989 -0.0\n",
      "yahoo_A1 0.0 0.0 -0.0\n",
      "yahoo_A1 0.0 0.0 0.0\n",
      "yahoo_A1 0.0 0.0 0.0\n",
      "yahoo_A1 0.5714285142857172 0.24999998187500094 0.3333333055555574\n",
      "yahoo_A1 0.666666577777783 0.5999999180000092 0.7499999375000042\n",
      "yahoo_A1 0.0 0.0 0.0\n",
      "yahoo_A1 0.9999998500000123 0.49999990000001493 0.9999998750000131\n",
      "yahoo_A1 0.5714285142857172 0.1250000006249989 -0.0\n",
      "yahoo_A1 0.5714285142857172 0.0 0.0\n"
     ]
    },
    {
     "data": {
      "application/vnd.jupyter.widget-view+json": {
       "model_id": "957c71068a804d529a3f91cb5a20d3ec",
       "version_major": 2,
       "version_minor": 0
      },
      "text/plain": [
       "  0%|          | 0/100 [00:00<?, ?it/s]"
      ]
     },
     "metadata": {},
     "output_type": "display_data"
    },
    {
     "data": {
      "application/vnd.jupyter.widget-view+json": {
       "model_id": "849f6d7994bd490d9da7fcf10036a53c",
       "version_major": 2,
       "version_minor": 0
      },
      "text/plain": [
       "  0%|          | 0/100 [00:00<?, ?it/s]"
      ]
     },
     "metadata": {},
     "output_type": "display_data"
    },
    {
     "name": "stdout",
     "output_type": "stream",
     "text": [
      "yahoo_A2 0.46153841893491365 4.351851412631487e-09 0.0\n",
      "yahoo_A2 0.46153841893491365 0.06250000600115631 -0.0\n",
      "yahoo_A2 0.46153841893491365 0.06250000600115631 -0.0\n",
      "yahoo_A2 0.4285713887755125 0.05555556109988678 -0.0\n",
      "yahoo_A2 0.24999997187500062 0.0 0.0\n",
      "yahoo_A2 0.46153841893491365 0.06250000600115631 -0.0\n",
      "yahoo_A2 0.4285713887755125 0.05555556109988678 -0.0\n",
      "yahoo_A2 0.24999997187500062 0.0 0.0\n",
      "yahoo_A2 0.46153841893491365 0.06250000600115631 -0.0\n",
      "yahoo_A2 0.4285713887755125 0.05555556109988678 -0.0\n",
      "yahoo_A2 0.24999997187500062 0.07142856326530694 -0.0\n",
      "yahoo_A2 0.46153841893491365 1.3032405600333905e-08 0.0\n",
      "yahoo_A2 0.4285713887755125 0.09374999960779642 0.12499998593750138\n",
      "yahoo_A2 0.4285713887755125 0.05555556109988678 -0.0\n",
      "yahoo_A2 0.24999997187500062 0.07142856326530694 -0.0\n",
      "yahoo_A2 0.46153841893491365 0.0 0.0\n",
      "yahoo_A2 0.4285713887755125 0.05555556109988678 -0.0\n",
      "yahoo_A2 0.24999997187500062 0.0 0.0\n",
      "yahoo_A2 0.46153841893491365 0.06250000600115631 -0.0\n",
      "yahoo_A2 0.4285713887755125 0.1214285699546997 0.3749999765625013\n",
      "yahoo_A2 0.24999997187500062 0.07142856326530694 -0.0\n",
      "yahoo_A2 0.46153841893491365 0.06250000600115631 -0.0\n",
      "yahoo_A2 0.4285713887755125 0.07142857498247705 0.24999997187500275\n",
      "yahoo_A2 0.24999997187500062 0.07142856326530694 0.0\n",
      "yahoo_A2 0.24999997187500062 0.07142856326530694 -0.0\n",
      "yahoo_A2 0.46153841893491365 0.06250000600115631 -0.0\n",
      "yahoo_A2 0.4285713887755125 0.05555556109988678 -0.0\n",
      "yahoo_A2 0.24999997187500062 0.0 0.0\n",
      "yahoo_A2 0.46153841893491365 0.09821428629452428 0.07142856683673492\n",
      "yahoo_A2 0.4285713887755125 0.05555556109988678 -0.0\n",
      "yahoo_A2 0.24999997187500062 0.07142856326530694 0.0\n",
      "yahoo_A2 0.46153841893491365 0.06250000600115631 -0.0\n",
      "yahoo_A2 0.4285713887755125 0.05555556109988678 -0.0\n",
      "yahoo_A2 0.24999997187500062 0.07142856326530694 -0.0\n",
      "yahoo_A2 0.46153841893491365 0.06250000600115631 -0.0\n",
      "yahoo_A2 0.46153841893491365 0.11904761688728248 0.14285712653061383\n",
      "yahoo_A2 0.4285713887755125 0.05555556109988678 -0.0\n",
      "yahoo_A2 0.24999997187500062 0.07142856326530694 -0.0\n",
      "yahoo_A2 0.46153841893491365 0.06250000600115631 -0.0\n",
      "yahoo_A2 0.4285713887755125 0.05555556109988678 -0.0\n",
      "yahoo_A2 0.24999997187500062 0.07142856326530694 0.0\n",
      "yahoo_A2 0.46153841893491365 0.06250000600115631 -0.0\n",
      "yahoo_A2 0.4285713887755125 0.09821428588206642 0.18749998828125058\n",
      "yahoo_A2 0.24999997187500062 0.07142856326530694 -0.0\n",
      "yahoo_A2 0.46153841893491365 0.06250000713541536 -0.0\n",
      "yahoo_A2 0.4444444000000022 0.22301586065821538 0.5208333021701406\n",
      "yahoo_A2 0.4285713887755125 0.05555556109988678 -0.0\n",
      "yahoo_A2 0.24999997187500062 0.07142856326530694 -0.0\n",
      "yahoo_A2 0.46153841893491365 0.06250000600115631 -0.0\n",
      "yahoo_A2 0.4285713887755125 0.05555556109988678 -0.0\n",
      "yahoo_A2 0.24999997187500062 0.07142856326530694 0.0\n",
      "yahoo_A2 0.46153841893491365 0.06250000600115631 -0.0\n",
      "yahoo_A2 0.4285713887755125 0.05555556109988678 -0.0\n",
      "yahoo_A2 0.24999997187500062 0.07142856326530694 -0.0\n",
      "yahoo_A2 0.46153841893491365 0.06250000600115631 -0.0\n",
      "yahoo_A2 0.4285713887755125 0.09999999793939388 -0.0\n",
      "yahoo_A2 0.24999997187500062 0.07142856326530694 -0.0\n",
      "yahoo_A2 0.24999997187500062 0.07142856326530694 -0.0\n",
      "yahoo_A2 0.46153841893491365 0.06250000600115631 0.0\n",
      "yahoo_A2 0.4285713887755125 0.05555556109988678 -0.0\n",
      "yahoo_A2 0.24999997187500062 0.07142856326530694 -0.0\n",
      "yahoo_A2 0.46153841893491365 0.0 0.0\n",
      "yahoo_A2 0.4285713887755125 0.05555556109988678 -0.0\n",
      "yahoo_A2 0.24999997187500062 0.07142856326530694 0.0\n",
      "yahoo_A2 0.46153841893491365 0.09375000092303191 -0.0\n",
      "yahoo_A2 0.4444444000000022 0.22857141601006722 0.5416666355902794\n",
      "yahoo_A2 0.24999997187500062 0.07142856326530694 -0.0\n",
      "yahoo_A2 0.46153841893491365 0.06250000600115631 -0.0\n",
      "yahoo_A2 0.46153841893491365 0.06250000600115631 -0.0\n",
      "yahoo_A2 0.46153841893491365 0.07142857743858536 0.2499999864583339\n",
      "yahoo_A2 0.24999997187500062 0.07142856326530694 -0.0\n",
      "yahoo_A2 0.46153841893491365 0.06250000600115631 -0.0\n",
      "yahoo_A2 0.4285713887755125 0.08333333440235645 -0.0\n",
      "yahoo_A2 0.24999997187500062 0.07142856326530694 -0.0\n",
      "yahoo_A2 0.46153841893491365 0.06250000600115631 -0.0\n",
      "yahoo_A2 0.4285713887755125 0.05555556109988678 -0.0\n",
      "yahoo_A2 0.24999997187500062 0.07142856326530694 0.0\n",
      "yahoo_A2 0.46153841893491365 0.06250000600115631 -0.0\n",
      "yahoo_A2 0.4285713887755125 0.16249999002967244 0.5624999398437559\n",
      "yahoo_A2 0.4285713887755125 0.05555556109988678 -0.0\n",
      "yahoo_A2 0.24999997187500062 0.07142856326530694 -0.0\n",
      "yahoo_A2 0.46153841893491365 0.06250000600115631 -0.0\n",
      "yahoo_A2 0.4285713887755125 0.05555556109988678 -0.0\n",
      "yahoo_A2 0.24999997187500062 0.07142856326530694 -0.0\n",
      "yahoo_A2 0.46153841893491365 0.06250000600115631 -0.0\n",
      "yahoo_A2 0.4285713887755125 0.05555556109988678 -0.0\n",
      "yahoo_A2 0.24999997187500062 0.07142856326530694 -0.0\n",
      "yahoo_A2 0.46153841893491365 0.06250000600115631 -0.0\n",
      "yahoo_A2 0.4285713887755125 0.05555556109988678 -0.0\n",
      "yahoo_A2 0.24999997187500062 0.07142856326530694 -0.0\n",
      "yahoo_A2 0.24999997187500062 0.07142856326530694 -0.0\n",
      "yahoo_A2 0.46153841893491365 0.06250000600115631 -0.0\n",
      "yahoo_A2 0.4285713887755125 0.05555556109988678 -0.0\n",
      "yahoo_A2 0.24999997187500062 0.07142856326530694 -0.0\n",
      "yahoo_A2 0.46153841893491365 0.06250000600115631 -0.0\n",
      "yahoo_A2 0.4285713887755125 0.05555556109988678 -0.0\n",
      "yahoo_A2 0.24999997187500062 0.07142856326530694 -0.0\n",
      "yahoo_A2 0.46153841893491365 0.06250000600115631 -0.0\n",
      "yahoo_A2 0.4285713887755125 0.05555556109988678 -0.0\n",
      "yahoo_A2 0.24999997187500062 0.07142856326530694 -0.0\n"
     ]
    },
    {
     "data": {
      "application/vnd.jupyter.widget-view+json": {
       "model_id": "a635e6bea2854b7daf6eafd2e3bb3dd7",
       "version_major": 2,
       "version_minor": 0
      },
      "text/plain": [
       "  0%|          | 0/100 [00:00<?, ?it/s]"
      ]
     },
     "metadata": {},
     "output_type": "display_data"
    },
    {
     "data": {
      "application/vnd.jupyter.widget-view+json": {
       "model_id": "0d961b5a18b74c4a828ebb449dc65ac7",
       "version_major": 2,
       "version_minor": 0
      },
      "text/plain": [
       "  0%|          | 0/92 [00:00<?, ?it/s]"
      ]
     },
     "metadata": {},
     "output_type": "display_data"
    },
    {
     "name": "stdout",
     "output_type": "stream",
     "text": [
      "yahoo_A3 0.33333329444444565 0.0 0.0\n",
      "yahoo_A3 0.4999999500000025 0.10000000133333238 -0.0\n",
      "yahoo_A3 0.7999999360000031 5.277777344711406e-09 0.0\n",
      "yahoo_A3 0.4999999500000025 0.0 0.0\n",
      "yahoo_A3 0.9090908429752097 4.083333052458349e-09 0.0\n",
      "yahoo_A3 0.4999999500000025 1.3333331148236856e-08 0.0\n",
      "yahoo_A3 0.9999999000000052 6.826387587441943e-08 0.9999999125000061\n",
      "yahoo_A3 0.6666666074074105 0.1250000081249981 0.0\n",
      "yahoo_A3 0.7999999360000031 0.0 0.0\n",
      "yahoo_A3 0.9999999333333361 8.333331882493106e-08 0.0\n",
      "yahoo_A3 0.9090908429752097 0.0 0.0\n",
      "yahoo_A3 0.9090908429752097 0.2500000140138856 0.0\n",
      "yahoo_A3 0.0 0.0 0.0\n",
      "yahoo_A3 0.7999999360000031 0.16666667972221955 -0.0\n",
      "yahoo_A3 0.28571425306122533 0.08333332361111209 -0.0\n",
      "yahoo_A3 0.9090908429752097 0.0 0.0\n",
      "yahoo_A3 0.4999999500000025 0.0 0.0\n",
      "yahoo_A3 0.4999999500000025 0.10000000133333238 -0.0\n",
      "yahoo_A3 0.6666666074074105 2.374999645729026e-08 0.0\n",
      "yahoo_A3 0.28571425306122533 0.08333332361111209 0.0\n",
      "yahoo_A3 0.28571425306122533 0.0 0.0\n",
      "yahoo_A3 0.6666666074074105 0.1250000081249981 0.0\n",
      "yahoo_A3 0.9090908429752097 0.2500000140138856 -0.0\n",
      "yahoo_A3 0.28571425306122533 0.0 0.0\n",
      "yahoo_A3 0.4999999500000025 0.0 0.0\n",
      "yahoo_A3 0.6666666074074105 0.0 0.0\n",
      "yahoo_A3 0.4999999500000025 0.0 0.0\n",
      "yahoo_A3 0.4999999500000025 0.10000000133333238 0.0\n",
      "yahoo_A3 0.6666666074074105 0.1250000081249981 -0.0\n",
      "yahoo_A3 0.7999999360000031 0.0 0.0\n",
      "yahoo_A3 0.9999999333333361 0.0 0.0\n",
      "yahoo_A3 0.9999999333333361 0.49999998333333373 0.0\n",
      "yahoo_A3 0.7999999360000031 0.16666667972221952 -0.0\n",
      "yahoo_A3 0.9090908429752097 0.0 0.0\n",
      "yahoo_A3 0.7499999343750033 0.16666667444444216 0.0\n",
      "yahoo_A3 0.9090908429752097 0.2500000140138856 -0.0\n",
      "yahoo_A3 0.9090908429752097 0.0 0.0\n",
      "yahoo_A3 0.7999999360000031 0.0 0.0\n",
      "yahoo_A3 0.5714285142857172 0.1250000006249989 -0.0\n",
      "yahoo_A3 0.9090908429752097 4.083333052458349e-09 0.0\n",
      "yahoo_A3 0.0 0.0 0.0\n",
      "yahoo_A3 0.9999999333333361 0.0 0.0\n",
      "yahoo_A3 0.28571425306122533 0.08333332361111209 0.0\n",
      "yahoo_A3 0.4999999500000025 0.0 0.0\n",
      "yahoo_A3 0.9090908429752097 2.2347219975155517e-08 0.0\n",
      "yahoo_A3 0.9090908429752097 0.0 0.0\n",
      "yahoo_A3 0.9999999333333361 3.3333332149565532e-09 0.0\n",
      "yahoo_A3 0.7499999343750033 0.16666667444444216 0.0\n",
      "yahoo_A3 0.4999999500000025 0.0 0.0\n",
      "yahoo_A3 0.4999999500000025 0.10000000133333238 -0.0\n",
      "yahoo_A3 0.6666666074074105 0.0 0.0\n",
      "yahoo_A3 0.6666666074074105 2.374999645729026e-08 0.0\n",
      "yahoo_A3 0.7499999343750033 0.16666667444444216 0.0\n",
      "yahoo_A3 0.9090908429752097 0.0 0.0\n",
      "yahoo_A3 0.7999999360000031 0.0 0.0\n",
      "yahoo_A3 0.6666666074074105 0.0 0.0\n",
      "yahoo_A3 0.9090908429752097 1.0541665828899795e-08 0.0\n",
      "yahoo_A3 0.4999999500000025 0.0 0.0\n",
      "yahoo_A3 0.9090908429752097 2.2347219975155517e-08 0.0\n",
      "yahoo_A3 0.9090908429752097 1.0541665828899795e-08 0.0\n",
      "yahoo_A3 0.7999999360000031 0.0 0.0\n",
      "yahoo_A3 0.9090908429752097 0.2500000140138856 -0.0\n",
      "yahoo_A3 0.4999999500000025 0.10000000133333238 0.0\n",
      "yahoo_A3 0.7999999360000031 0.1666666798611084 -0.0\n",
      "yahoo_A3 0.7999999360000031 0.0 0.0\n",
      "yahoo_A3 0.7999999360000031 3.5277772680152144e-08 0.0\n",
      "yahoo_A3 0.6666666074074105 0.0 0.0\n",
      "yahoo_A3 0.9999999333333361 0.0 0.0\n",
      "yahoo_A3 0.9090908429752097 4.083333052458349e-09 0.0\n",
      "yahoo_A3 0.28571425306122533 0.08333332361111209 0.0\n",
      "yahoo_A3 0.6666666074074105 2.374999645729026e-08 0.0\n",
      "yahoo_A3 0.6666666000000033 0.16666666527777654 0.33333330555555735\n",
      "yahoo_A3 0.7999999360000031 0.2499999956944441 -0.0\n",
      "yahoo_A3 0.6666666074074105 2.374999645729026e-08 0.0\n",
      "yahoo_A3 0.4999999500000025 0.0 0.0\n",
      "yahoo_A3 0.4999999500000025 0.10000000133333238 0.0\n",
      "yahoo_A3 0.7999999360000031 0.0 0.0\n",
      "yahoo_A3 0.6666666074074105 0.0 0.0\n",
      "yahoo_A3 0.4999999500000025 0.0 0.0\n",
      "yahoo_A3 0.9090908429752097 0.0 0.0\n",
      "yahoo_A3 0.8888888197530895 0.25000000993055255 0.0\n",
      "yahoo_A3 0.7999999360000031 0.0 0.0\n",
      "yahoo_A3 0.9090908429752097 0.2500000140138856 -0.0\n",
      "yahoo_A3 0.6666666074074105 0.1250000081249981 0.0\n",
      "yahoo_A3 0.4999999500000025 0.10000000133333238 0.0\n",
      "yahoo_A3 0.6666666074074105 0.0 0.0\n",
      "yahoo_A3 0.6666666074074105 2.374999645729026e-08 0.0\n",
      "yahoo_A3 0.9090908429752097 0.46611109187870425 0.0\n",
      "yahoo_A3 0.6666666074074105 0.1250000081249981 0.0\n",
      "yahoo_A3 0.5714285142857172 1.6249997271809513e-08 0.0\n",
      "yahoo_A3 0.6666666074074105 0.0 0.0\n",
      "yahoo_A3 0.4999999500000025 0.10000000133333238 -0.0\n"
     ]
    },
    {
     "data": {
      "application/vnd.jupyter.widget-view+json": {
       "model_id": "884585904d1840ae8896ba53fa786ebd",
       "version_major": 2,
       "version_minor": 0
      },
      "text/plain": [
       "  0%|          | 0/100 [00:00<?, ?it/s]"
      ]
     },
     "metadata": {},
     "output_type": "display_data"
    },
    {
     "data": {
      "application/vnd.jupyter.widget-view+json": {
       "model_id": "eec7d579738c47d691772cfe5595dd6b",
       "version_major": 2,
       "version_minor": 0
      },
      "text/plain": [
       "  0%|          | 0/82 [00:00<?, ?it/s]"
      ]
     },
     "metadata": {},
     "output_type": "display_data"
    },
    {
     "name": "stdout",
     "output_type": "stream",
     "text": [
      "yahoo_A4 0.6666666074074105 0.0 0.0\n",
      "yahoo_A4 0.6666666000000033 0.16666666527777654 0.4999999625000022\n",
      "yahoo_A4 0.6666666074074105 0.0 0.0\n",
      "yahoo_A4 0.6666666000000033 0.16666666527777654 0.4999999625000022\n",
      "yahoo_A4 0.9090908429752097 0.2500000140138856 -0.0\n",
      "yahoo_A4 0.7999999360000031 0.16666667972221952 -0.0\n",
      "yahoo_A4 0.4999999500000025 0.0 0.0\n",
      "yahoo_A4 0.4999999500000025 0.0 0.0\n",
      "yahoo_A4 0.9090908429752097 0.0 0.0\n",
      "yahoo_A4 0.7999999360000031 0.16666667972221955 -0.0\n",
      "yahoo_A4 0.9090908429752097 0.0 0.0\n",
      "yahoo_A4 0.6666666074074105 0.1250000081249981 -0.0\n",
      "yahoo_A4 0.6666666074074105 0.1250000081249981 -0.0\n",
      "yahoo_A4 0.28571425306122533 0.0 0.0\n",
      "yahoo_A4 0.28571425306122533 0.08333332361111209 -0.0\n",
      "yahoo_A4 0.4999999500000025 0.0 0.0\n",
      "yahoo_A4 0.9090908429752097 0.0 0.0\n",
      "yahoo_A4 0.7999999360000031 0.0 0.0\n",
      "yahoo_A4 0.9999999333333361 3.3333332149565532e-09 0.0\n",
      "yahoo_A4 0.9090908429752097 2.2347219975155517e-08 0.0\n",
      "yahoo_A4 0.4999999500000025 0.10000000133333238 -0.0\n",
      "yahoo_A4 0.7999999360000031 0.16666668083333042 -0.0\n",
      "yahoo_A4 0.7999999360000031 0.0 0.0\n",
      "yahoo_A4 0.4999999500000025 0.10000000133333238 -0.0\n",
      "yahoo_A4 0.6666666074074105 0.0 0.0\n",
      "yahoo_A4 0.7999999360000031 1.4444442978045904e-08 0.0\n",
      "yahoo_A4 0.999999930000003 0.4999999800000005 0.0\n",
      "yahoo_A4 0.4999999500000025 0.0 0.0\n",
      "yahoo_A4 0.9090908429752097 0.0 0.0\n",
      "yahoo_A4 0.9999999333333361 8.333331882493106e-08 0.0\n",
      "yahoo_A4 0.39999995200000177 0.12499998437500164 0.39999995200000493\n",
      "yahoo_A4 0.6666666074074105 0.0 0.0\n",
      "yahoo_A4 0.4999999500000025 0.10000000133333238 -0.0\n",
      "yahoo_A4 0.4999999500000025 1.3333331148236856e-08 0.0\n",
      "yahoo_A4 0.7999999360000031 0.0 0.0\n",
      "yahoo_A4 0.9090908429752097 0.24652777344675908 0.0\n",
      "yahoo_A4 0.7999999360000031 0.16666667972221952 -0.0\n",
      "yahoo_A4 0.8888888197530895 0.25000000993055255 0.0\n",
      "yahoo_A4 0.8571427836734729 0.24999999624999958 0.49999995833333605\n",
      "yahoo_A4 0.6666666074074105 0.0 0.0\n",
      "yahoo_A4 0.9090908429752097 0.0 0.0\n",
      "yahoo_A4 0.0 0.0 0.0\n",
      "yahoo_A4 0.7999999360000031 0.0 0.0\n",
      "yahoo_A4 0.4999999500000025 0.0 0.0\n",
      "yahoo_A4 0.4999999500000025 1.3333331148236856e-08 0.0\n",
      "yahoo_A4 0.4999999500000025 0.0 0.0\n",
      "yahoo_A4 0.6666666074074105 0.3555555344629639 0.44444441481481634\n",
      "yahoo_A4 0.4999999500000025 0.0 0.0\n",
      "yahoo_A4 0.7999999360000031 0.16666667972221952 0.0\n",
      "yahoo_A4 0.7999999360000031 0.16666667972221952 0.0\n",
      "yahoo_A4 0.7999999360000031 0.0 0.0\n",
      "yahoo_A4 0.7999999360000031 0.41666663388889214 0.4999999500000039\n",
      "yahoo_A4 0.4999999500000025 0.10000000133333238 0.0\n",
      "yahoo_A4 0.28571425306122533 0.08333332361111209 -0.0\n",
      "yahoo_A4 0.9090908429752097 0.0 0.0\n",
      "yahoo_A4 0.6666666074074105 0.0 0.0\n",
      "yahoo_A4 0.6666666074074105 0.1250000081249981 -0.0\n",
      "yahoo_A4 0.4999999500000025 0.0 0.0\n",
      "yahoo_A4 0.4999999500000025 0.166666657777778 0.49999993750000654\n",
      "yahoo_A4 0.7999999360000031 0.0 0.0\n",
      "yahoo_A4 0.6666666074074105 0.0 0.0\n",
      "yahoo_A4 0.7999999360000031 0.0 0.0\n",
      "yahoo_A4 0.8888888197530895 0.25000000993055255 0.4999999625000022\n",
      "yahoo_A4 0.7999999360000031 0.0 0.0\n",
      "yahoo_A4 0.4999999500000025 0.0 0.0\n",
      "yahoo_A4 0.6666666074074105 0.0 0.0\n",
      "yahoo_A4 0.6666666074074105 0.0 0.0\n",
      "yahoo_A4 0.4999999500000025 0.0 0.0\n",
      "yahoo_A4 0.6666666074074105 0.0 0.0\n",
      "yahoo_A4 0.7999999360000031 0.0 0.0\n",
      "yahoo_A4 0.28571425306122533 0.08333332361111209 0.0\n",
      "yahoo_A4 0.9090908429752097 0.2500000140138856 0.0\n",
      "yahoo_A4 0.9090908429752097 0.0 0.0\n",
      "yahoo_A4 0.7999999360000031 0.0 0.0\n",
      "yahoo_A4 0.5714285061224537 0.18055554386574135 -0.0\n",
      "yahoo_A4 0.8888888197530895 0.25000000993055255 0.0\n",
      "yahoo_A4 0.6666666074074105 0.0 0.0\n",
      "yahoo_A4 0.6666666074074105 0.1250000081249981 -0.0\n",
      "yahoo_A4 0.7999999360000031 5.277777344711406e-09 0.0\n",
      "yahoo_A4 0.7999999360000031 0.3472222076157412 -0.0\n",
      "yahoo_A4 0.9090908429752097 4.083333052458349e-09 0.0\n",
      "yahoo_A4 0.28571425306122533 0.0 0.0\n"
     ]
    }
   ],
   "source": [
    "for loader in [load_yahoo_A1, load_yahoo_A2, load_yahoo_A3, load_yahoo_A4]:\n",
    "    datasets = loader(128, 64)\n",
    "    x_trains, x_tests, y_tests = datasets['x_train'], datasets['x_test'], datasets['y_test']\n",
    "    \n",
    "    for i in tqdm(range(len(x_trains))):\n",
    "        X_train = x_trains[i]\n",
    "        X_test = x_tests[i]\n",
    "        \n",
    "        model = GRU_AE(X_train)\n",
    "        scores = evaluate(X_test, model.predict(X_test), y_tests[i], is_reconstructed=True)\n",
    "    \n",
    "        total_scores['dataset'].append(loader.__name__.replace('load_', ''))\n",
    "        total_scores['f1'].append(np.max(scores['f1']))\n",
    "        total_scores['pr_auc'].append(scores['pr_auc'])\n",
    "        total_scores['roc_auc'].append(scores['roc_auc'])\n",
    "        print(loader.__name__.replace('load_', ''), np.max(scores['f1']), scores['pr_auc'], scores['roc_auc'])   "
   ]
  },
  {
   "cell_type": "code",
   "execution_count": 6,
   "id": "bd9e37fd-124c-4f5c-8f1f-a9d61a4b0315",
   "metadata": {},
   "outputs": [
    {
     "data": {
      "text/html": [
       "<div>\n",
       "<style scoped>\n",
       "    .dataframe tbody tr th:only-of-type {\n",
       "        vertical-align: middle;\n",
       "    }\n",
       "\n",
       "    .dataframe tbody tr th {\n",
       "        vertical-align: top;\n",
       "    }\n",
       "\n",
       "    .dataframe thead th {\n",
       "        text-align: right;\n",
       "    }\n",
       "</style>\n",
       "<table border=\"1\" class=\"dataframe\">\n",
       "  <thead>\n",
       "    <tr style=\"text-align: right;\">\n",
       "      <th></th>\n",
       "      <th>f1</th>\n",
       "      <th>pr_auc</th>\n",
       "      <th>roc_auc</th>\n",
       "    </tr>\n",
       "    <tr>\n",
       "      <th>dataset</th>\n",
       "      <th></th>\n",
       "      <th></th>\n",
       "      <th></th>\n",
       "    </tr>\n",
       "  </thead>\n",
       "  <tbody>\n",
       "    <tr>\n",
       "      <th>yahoo_A1</th>\n",
       "      <td>0.481222</td>\n",
       "      <td>0.133805</td>\n",
       "      <td>0.171131</td>\n",
       "    </tr>\n",
       "    <tr>\n",
       "      <th>yahoo_A2</th>\n",
       "      <td>0.381499</td>\n",
       "      <td>0.066014</td>\n",
       "      <td>0.030268</td>\n",
       "    </tr>\n",
       "    <tr>\n",
       "      <th>yahoo_A3</th>\n",
       "      <td>0.692513</td>\n",
       "      <td>0.062675</td>\n",
       "      <td>0.014493</td>\n",
       "    </tr>\n",
       "    <tr>\n",
       "      <th>yahoo_A4</th>\n",
       "      <td>0.686987</td>\n",
       "      <td>0.077092</td>\n",
       "      <td>0.046883</td>\n",
       "    </tr>\n",
       "  </tbody>\n",
       "</table>\n",
       "</div>"
      ],
      "text/plain": [
       "                f1    pr_auc   roc_auc\n",
       "dataset                               \n",
       "yahoo_A1  0.481222  0.133805  0.171131\n",
       "yahoo_A2  0.381499  0.066014  0.030268\n",
       "yahoo_A3  0.692513  0.062675  0.014493\n",
       "yahoo_A4  0.686987  0.077092  0.046883"
      ]
     },
     "execution_count": 6,
     "metadata": {},
     "output_type": "execute_result"
    }
   ],
   "source": [
    "yahoo_results = pd.DataFrame(total_scores)\n",
    "yahoo_results.groupby('dataset').mean()"
   ]
  },
  {
   "cell_type": "markdown",
   "id": "8890a678-6116-4222-b0ff-395fcd7f41aa",
   "metadata": {},
   "source": [
    "### NASA"
   ]
  },
  {
   "cell_type": "code",
   "execution_count": 7,
   "id": "e4387a80-585a-488e-94a8-546f42d47632",
   "metadata": {},
   "outputs": [],
   "source": [
    "total_scores = {'dataset': [], 'f1': [], 'pr_auc': [], 'roc_auc': []}"
   ]
  },
  {
   "cell_type": "code",
   "execution_count": 8,
   "id": "106a238d-c5cb-49e9-9764-b1bc37f09436",
   "metadata": {},
   "outputs": [
    {
     "data": {
      "application/vnd.jupyter.widget-view+json": {
       "model_id": "95579b9cd0e245d29e0516e4b2358b82",
       "version_major": 2,
       "version_minor": 0
      },
      "text/plain": [
       "  0%|          | 0/2 [00:00<?, ?it/s]"
      ]
     },
     "metadata": {},
     "output_type": "display_data"
    },
    {
     "data": {
      "application/vnd.jupyter.widget-view+json": {
       "model_id": "4e894412f1754b18906d9f9534905144",
       "version_major": 2,
       "version_minor": 0
      },
      "text/plain": [
       "  0%|          | 0/2 [00:00<?, ?it/s]"
      ]
     },
     "metadata": {},
     "output_type": "display_data"
    },
    {
     "name": "stdout",
     "output_type": "stream",
     "text": [
      "D1 0.2690631569008083 0.06117763092305466 0.27741412363432816\n",
      "D2 0.3097712780075326 0.1636229667588922 0.5190291414640057\n"
     ]
    }
   ],
   "source": [
    "for loader in [load_nasa]:\n",
    "    datasets = loader(128, 64)\n",
    "    x_trains, x_tests, y_tests = datasets['x_train'], datasets['x_test'], datasets['y_test']\n",
    "    \n",
    "    for i in tqdm(range(len(x_trains))):\n",
    "        X_train = x_trains[i]\n",
    "        X_test = x_tests[i]\n",
    "        \n",
    "        model = GRU_AE(X_train)\n",
    "        scores = evaluate(X_test, model.predict(X_test), y_tests[i], is_reconstructed=True)\n",
    "        \n",
    "        total_scores['dataset'].append(f'D{i+1}')\n",
    "        total_scores['f1'].append(np.max(scores['f1']))\n",
    "        total_scores['pr_auc'].append(scores['pr_auc'])\n",
    "        total_scores['roc_auc'].append(scores['roc_auc'])\n",
    "        print(f'D{i+1}', np.max(scores['f1']), scores['pr_auc'], scores['roc_auc'])   "
   ]
  },
  {
   "cell_type": "code",
   "execution_count": 9,
   "id": "abb7a6a5-3924-4a33-bc54-871559819602",
   "metadata": {},
   "outputs": [
    {
     "data": {
      "text/html": [
       "<div>\n",
       "<style scoped>\n",
       "    .dataframe tbody tr th:only-of-type {\n",
       "        vertical-align: middle;\n",
       "    }\n",
       "\n",
       "    .dataframe tbody tr th {\n",
       "        vertical-align: top;\n",
       "    }\n",
       "\n",
       "    .dataframe thead th {\n",
       "        text-align: right;\n",
       "    }\n",
       "</style>\n",
       "<table border=\"1\" class=\"dataframe\">\n",
       "  <thead>\n",
       "    <tr style=\"text-align: right;\">\n",
       "      <th></th>\n",
       "      <th>f1</th>\n",
       "      <th>pr_auc</th>\n",
       "      <th>roc_auc</th>\n",
       "    </tr>\n",
       "    <tr>\n",
       "      <th>dataset</th>\n",
       "      <th></th>\n",
       "      <th></th>\n",
       "      <th></th>\n",
       "    </tr>\n",
       "  </thead>\n",
       "  <tbody>\n",
       "    <tr>\n",
       "      <th>D1</th>\n",
       "      <td>0.269063</td>\n",
       "      <td>0.061178</td>\n",
       "      <td>0.277414</td>\n",
       "    </tr>\n",
       "    <tr>\n",
       "      <th>D2</th>\n",
       "      <td>0.309771</td>\n",
       "      <td>0.163623</td>\n",
       "      <td>0.519029</td>\n",
       "    </tr>\n",
       "  </tbody>\n",
       "</table>\n",
       "</div>"
      ],
      "text/plain": [
       "               f1    pr_auc   roc_auc\n",
       "dataset                              \n",
       "D1       0.269063  0.061178  0.277414\n",
       "D2       0.309771  0.163623  0.519029"
      ]
     },
     "execution_count": 9,
     "metadata": {},
     "output_type": "execute_result"
    }
   ],
   "source": [
    "nasa_results = pd.DataFrame(total_scores)\n",
    "nasa_results.groupby('dataset').mean()"
   ]
  },
  {
   "cell_type": "markdown",
   "id": "41754734-5c75-4caf-9069-fb3b39c7a0da",
   "metadata": {},
   "source": [
    "### SMD"
   ]
  },
  {
   "cell_type": "code",
   "execution_count": 10,
   "id": "60a26807-8359-42d4-82b4-9e1d37b6acaa",
   "metadata": {},
   "outputs": [],
   "source": [
    "total_scores = {'dataset': [], 'f1': [], 'pr_auc': [], 'roc_auc': []}"
   ]
  },
  {
   "cell_type": "code",
   "execution_count": 11,
   "id": "41af318e-1b08-4cc9-a680-6b4a978544f2",
   "metadata": {},
   "outputs": [
    {
     "data": {
      "application/vnd.jupyter.widget-view+json": {
       "model_id": "db2e1f32e8de4f9aa2b2ed907abd03e2",
       "version_major": 2,
       "version_minor": 0
      },
      "text/plain": [
       "  0%|          | 0/28 [00:00<?, ?it/s]"
      ]
     },
     "metadata": {},
     "output_type": "display_data"
    },
    {
     "data": {
      "application/vnd.jupyter.widget-view+json": {
       "model_id": "5a1c75bb01c949e3a22210cef6f1b404",
       "version_major": 2,
       "version_minor": 0
      },
      "text/plain": [
       "  0%|          | 0/28 [00:00<?, ?it/s]"
      ]
     },
     "metadata": {},
     "output_type": "display_data"
    },
    {
     "name": "stdout",
     "output_type": "stream",
     "text": [
      "smd 0.23153690558205123 0.06546275382269463 0.49999999900806086\n",
      "smd 0.14177213865470395 0.019378551682101505 0.1002000981803754\n",
      "smd 0.21262456301365543 0.11480568637130903 0.6180718709158651\n",
      "smd 0.22222217866941857 0.10794717298950028 0.606271679273233\n",
      "smd 0.11111109012345965 0.2732198000266741 0.5909171349495674\n",
      "smd 0.49448119788508593 0.4200610966303163 0.5873050185814976\n",
      "smd 0.2983682728435532 0.14360259194649763 0.42787005428459035\n",
      "smd 0.23557690218079871 0.10071274654491602 0.47615394453280824\n",
      "smd 0.28037378282820297 0.15584893792477866 0.5844304939451155\n",
      "smd 0.506024048395998 0.2373524227892881 0.7373560841418461\n",
      "smd 0.12690354134994566 0.023402233282390363 0.4159883692327554\n",
      "smd 0.30092590022183857 0.11232677607701491 0.20911403917924618\n",
      "smd 0.2635293887601403 0.08965424117981007 0.37396707986556543\n",
      "smd 0.08547007725180877 0.022321428454838966 0.4999999973831775\n",
      "smd 0.21307504139204825 0.07034008198078359 0.21972515625383374\n",
      "smd 0.026737965262089488 0.006775067613340092 0.4999999898626375\n",
      "smd 0.19028338351472884 0.052572706811504985 0.4999999988111702\n",
      "smd 0.05652173361342205 0.014541386909498574 0.4999999960386388\n",
      "smd 0.22168672716969254 0.0 0.0\n",
      "smd 0.03516483169472315 0.008948545747438804 0.49999999363610487\n",
      "smd 0.16873447578151593 0.0 0.0\n",
      "smd 0.28372090575338227 0.0 0.0\n",
      "smd 0.1596009827401584 0.04181671533466931 0.07750043589744886\n",
      "smd 0.13636362358815537 0.037125100313687286 0.2962095050242891\n",
      "smd 0.3888888381558705 0.27665850476327386 0.6255945361980689\n",
      "smd 0.07741934736316405 0.02013422807155834 0.49999999710567206\n",
      "smd 0.32380948157823664 0.1305558603922502 0.7307932030343881\n",
      "smd 0.05652173361342205 0.014541386909498574 0.4999999960386388\n"
     ]
    }
   ],
   "source": [
    "for loader in [load_smd]:\n",
    "    datasets = loader(128, 64)\n",
    "    x_trains, x_tests, y_tests = datasets['x_train'], datasets['x_test'], datasets['y_test']\n",
    "    \n",
    "    for i in tqdm(range(len(x_trains))):\n",
    "        X_train = x_trains[i]\n",
    "        X_test = x_tests[i]\n",
    "        \n",
    "        model = GRU_AE(X_train)\n",
    "        scores = evaluate(X_test, model.predict(X_test), y_tests[i], is_reconstructed=True)\n",
    "\n",
    "        total_scores['dataset'].append(loader.__name__.replace('load_', ''))\n",
    "        total_scores['f1'].append(np.max(scores['f1']))\n",
    "        total_scores['pr_auc'].append(scores['pr_auc'])\n",
    "        total_scores['roc_auc'].append(scores['roc_auc'])\n",
    "        print(loader.__name__.replace('load_', ''), np.max(scores['f1']), scores['pr_auc'], scores['roc_auc'])   "
   ]
  },
  {
   "cell_type": "code",
   "execution_count": 12,
   "id": "23474773-bac1-4145-ac75-c1a686bca5c6",
   "metadata": {},
   "outputs": [
    {
     "data": {
      "text/html": [
       "<div>\n",
       "<style scoped>\n",
       "    .dataframe tbody tr th:only-of-type {\n",
       "        vertical-align: middle;\n",
       "    }\n",
       "\n",
       "    .dataframe tbody tr th {\n",
       "        vertical-align: top;\n",
       "    }\n",
       "\n",
       "    .dataframe thead th {\n",
       "        text-align: right;\n",
       "    }\n",
       "</style>\n",
       "<table border=\"1\" class=\"dataframe\">\n",
       "  <thead>\n",
       "    <tr style=\"text-align: right;\">\n",
       "      <th></th>\n",
       "      <th>f1</th>\n",
       "      <th>pr_auc</th>\n",
       "      <th>roc_auc</th>\n",
       "    </tr>\n",
       "    <tr>\n",
       "      <th>dataset</th>\n",
       "      <th></th>\n",
       "      <th></th>\n",
       "      <th></th>\n",
       "    </tr>\n",
       "  </thead>\n",
       "  <tbody>\n",
       "    <tr>\n",
       "      <th>smd</th>\n",
       "      <td>0.208909</td>\n",
       "      <td>0.091432</td>\n",
       "      <td>0.417052</td>\n",
       "    </tr>\n",
       "  </tbody>\n",
       "</table>\n",
       "</div>"
      ],
      "text/plain": [
       "               f1    pr_auc   roc_auc\n",
       "dataset                              \n",
       "smd      0.208909  0.091432  0.417052"
      ]
     },
     "execution_count": 12,
     "metadata": {},
     "output_type": "execute_result"
    }
   ],
   "source": [
    "smd_results = pd.DataFrame(total_scores)\n",
    "smd_results.groupby('dataset').mean()"
   ]
  },
  {
   "cell_type": "markdown",
   "id": "ef82c29f-d012-4e70-8113-27f47a13be0a",
   "metadata": {},
   "source": [
    "### ECG"
   ]
  },
  {
   "cell_type": "code",
   "execution_count": 13,
   "id": "6602301b-d573-483a-881f-584bcf36d824",
   "metadata": {},
   "outputs": [],
   "source": [
    "total_scores = {'dataset': [], 'f1': [], 'pr_auc': [], 'roc_auc': []}"
   ]
  },
  {
   "cell_type": "code",
   "execution_count": 14,
   "id": "92c50920-f809-4413-953b-458115f9f680",
   "metadata": {},
   "outputs": [
    {
     "data": {
      "application/vnd.jupyter.widget-view+json": {
       "model_id": "015891b1e1f2497da5b1f1ae323a3027",
       "version_major": 2,
       "version_minor": 0
      },
      "text/plain": [
       "  0%|          | 0/9 [00:00<?, ?it/s]"
      ]
     },
     "metadata": {},
     "output_type": "display_data"
    },
    {
     "data": {
      "application/vnd.jupyter.widget-view+json": {
       "model_id": "8d77ce50ba0041daa46b447fc670ddea",
       "version_major": 2,
       "version_minor": 0
      },
      "text/plain": [
       "  0%|          | 0/9 [00:00<?, ?it/s]"
      ]
     },
     "metadata": {},
     "output_type": "display_data"
    },
    {
     "name": "stdout",
     "output_type": "stream",
     "text": [
      "D1 0.35294112387543924 0.28612950825491223 0.43164250671247884\n",
      "D2 0.3043477989603044 0.0 0.0\n",
      "D3 0.11009173251409898 0.0 0.0\n",
      "D4 0.2999999730000019 0.0 0.0\n",
      "D5 0.27450977916186264 0.06876302339393592 0.15572715306014787\n",
      "D6 0.24999997187500062 0.14872876884196004 0.5370583624260562\n",
      "D7 0.05079364581103594 0.0 0.0\n",
      "D8 0.21276593798098847 0.0 0.0\n",
      "D9 0.417910413455115 0.0 0.0\n"
     ]
    }
   ],
   "source": [
    "for loader in [load_ecg]:\n",
    "    datasets = loader(64, 32)\n",
    "    x_trains, x_tests, y_tests = datasets['x_train'], datasets['x_test'], datasets['y_test']\n",
    "    \n",
    "    for i in tqdm(range(len(x_trains))):\n",
    "        X_train = x_trains[i]\n",
    "        X_test = x_tests[i]\n",
    "        \n",
    "        model = GRU_AE(X_train)\n",
    "        scores = evaluate(X_test, model.predict(X_test), y_tests[i], is_reconstructed=True)\n",
    "\n",
    "        total_scores['dataset'].append(f'D{i+1}')\n",
    "        total_scores['f1'].append(np.max(scores['f1']))\n",
    "        total_scores['pr_auc'].append(scores['pr_auc'])\n",
    "        total_scores['roc_auc'].append(scores['roc_auc'])\n",
    "        print(f'D{i+1}', np.max(scores['f1']), scores['pr_auc'], scores['roc_auc'])  "
   ]
  },
  {
   "cell_type": "code",
   "execution_count": 15,
   "id": "8cad6cf5-72c7-4748-a9a7-4852d64b41e0",
   "metadata": {},
   "outputs": [
    {
     "data": {
      "text/html": [
       "<div>\n",
       "<style scoped>\n",
       "    .dataframe tbody tr th:only-of-type {\n",
       "        vertical-align: middle;\n",
       "    }\n",
       "\n",
       "    .dataframe tbody tr th {\n",
       "        vertical-align: top;\n",
       "    }\n",
       "\n",
       "    .dataframe thead th {\n",
       "        text-align: right;\n",
       "    }\n",
       "</style>\n",
       "<table border=\"1\" class=\"dataframe\">\n",
       "  <thead>\n",
       "    <tr style=\"text-align: right;\">\n",
       "      <th></th>\n",
       "      <th>f1</th>\n",
       "      <th>pr_auc</th>\n",
       "      <th>roc_auc</th>\n",
       "    </tr>\n",
       "    <tr>\n",
       "      <th>dataset</th>\n",
       "      <th></th>\n",
       "      <th></th>\n",
       "      <th></th>\n",
       "    </tr>\n",
       "  </thead>\n",
       "  <tbody>\n",
       "    <tr>\n",
       "      <th>D1</th>\n",
       "      <td>0.352941</td>\n",
       "      <td>0.286130</td>\n",
       "      <td>0.431643</td>\n",
       "    </tr>\n",
       "    <tr>\n",
       "      <th>D2</th>\n",
       "      <td>0.304348</td>\n",
       "      <td>0.000000</td>\n",
       "      <td>0.000000</td>\n",
       "    </tr>\n",
       "    <tr>\n",
       "      <th>D3</th>\n",
       "      <td>0.110092</td>\n",
       "      <td>0.000000</td>\n",
       "      <td>0.000000</td>\n",
       "    </tr>\n",
       "    <tr>\n",
       "      <th>D4</th>\n",
       "      <td>0.300000</td>\n",
       "      <td>0.000000</td>\n",
       "      <td>0.000000</td>\n",
       "    </tr>\n",
       "    <tr>\n",
       "      <th>D5</th>\n",
       "      <td>0.274510</td>\n",
       "      <td>0.068763</td>\n",
       "      <td>0.155727</td>\n",
       "    </tr>\n",
       "    <tr>\n",
       "      <th>D6</th>\n",
       "      <td>0.250000</td>\n",
       "      <td>0.148729</td>\n",
       "      <td>0.537058</td>\n",
       "    </tr>\n",
       "    <tr>\n",
       "      <th>D7</th>\n",
       "      <td>0.050794</td>\n",
       "      <td>0.000000</td>\n",
       "      <td>0.000000</td>\n",
       "    </tr>\n",
       "    <tr>\n",
       "      <th>D8</th>\n",
       "      <td>0.212766</td>\n",
       "      <td>0.000000</td>\n",
       "      <td>0.000000</td>\n",
       "    </tr>\n",
       "    <tr>\n",
       "      <th>D9</th>\n",
       "      <td>0.417910</td>\n",
       "      <td>0.000000</td>\n",
       "      <td>0.000000</td>\n",
       "    </tr>\n",
       "  </tbody>\n",
       "</table>\n",
       "</div>"
      ],
      "text/plain": [
       "               f1    pr_auc   roc_auc\n",
       "dataset                              \n",
       "D1       0.352941  0.286130  0.431643\n",
       "D2       0.304348  0.000000  0.000000\n",
       "D3       0.110092  0.000000  0.000000\n",
       "D4       0.300000  0.000000  0.000000\n",
       "D5       0.274510  0.068763  0.155727\n",
       "D6       0.250000  0.148729  0.537058\n",
       "D7       0.050794  0.000000  0.000000\n",
       "D8       0.212766  0.000000  0.000000\n",
       "D9       0.417910  0.000000  0.000000"
      ]
     },
     "execution_count": 15,
     "metadata": {},
     "output_type": "execute_result"
    }
   ],
   "source": [
    "ecg_results = pd.DataFrame(total_scores)\n",
    "ecg_results.groupby('dataset').mean()"
   ]
  },
  {
   "cell_type": "markdown",
   "id": "6c463f3e-5639-4118-a303-b05bec17c751",
   "metadata": {},
   "source": [
    "### Power Demand"
   ]
  },
  {
   "cell_type": "code",
   "execution_count": 16,
   "id": "436fa532-5c72-4132-ba39-5e5bd2264ad9",
   "metadata": {},
   "outputs": [],
   "source": [
    "total_scores = {'dataset': [], 'f1': [], 'pr_auc': [], 'roc_auc': []}"
   ]
  },
  {
   "cell_type": "code",
   "execution_count": 17,
   "id": "d4e5eba9-0930-4901-a368-fc7e0d3d0e24",
   "metadata": {},
   "outputs": [
    {
     "data": {
      "application/vnd.jupyter.widget-view+json": {
       "model_id": "f80f87ac0a7b4a6d8db89b2d4098661c",
       "version_major": 2,
       "version_minor": 0
      },
      "text/plain": [
       "  0%|          | 0/1 [00:00<?, ?it/s]"
      ]
     },
     "metadata": {},
     "output_type": "display_data"
    },
    {
     "name": "stdout",
     "output_type": "stream",
     "text": [
      "power_demand 0.7499999343750033 0.24999999249999968 -0.0\n"
     ]
    }
   ],
   "source": [
    "for loader in [load_power_demand]:\n",
    "    datasets = loader(512, 256)\n",
    "    x_trains, x_tests, y_tests = datasets['x_train'], datasets['x_test'], datasets['y_test']\n",
    "    \n",
    "    for i in tqdm(range(len(x_trains))):\n",
    "        X_train = x_trains[i]\n",
    "        X_test = x_tests[i]\n",
    "        \n",
    "        model = GRU_AE(X_train)\n",
    "        scores = evaluate(X_test, model.predict(X_test), y_tests[i], is_reconstructed=True)\n",
    "\n",
    "        total_scores['dataset'].append(loader.__name__.replace('load_', ''))\n",
    "        total_scores['f1'].append(np.max(scores['f1']))\n",
    "        total_scores['pr_auc'].append(scores['pr_auc'])\n",
    "        total_scores['roc_auc'].append(scores['roc_auc'])\n",
    "        print(loader.__name__.replace('load_', ''), np.max(scores['f1']), scores['pr_auc'], scores['roc_auc']) "
   ]
  },
  {
   "cell_type": "code",
   "execution_count": 18,
   "id": "49a6ff34-8c3d-4b36-8510-93a668d4fa67",
   "metadata": {},
   "outputs": [
    {
     "data": {
      "text/html": [
       "<div>\n",
       "<style scoped>\n",
       "    .dataframe tbody tr th:only-of-type {\n",
       "        vertical-align: middle;\n",
       "    }\n",
       "\n",
       "    .dataframe tbody tr th {\n",
       "        vertical-align: top;\n",
       "    }\n",
       "\n",
       "    .dataframe thead th {\n",
       "        text-align: right;\n",
       "    }\n",
       "</style>\n",
       "<table border=\"1\" class=\"dataframe\">\n",
       "  <thead>\n",
       "    <tr style=\"text-align: right;\">\n",
       "      <th></th>\n",
       "      <th>f1</th>\n",
       "      <th>pr_auc</th>\n",
       "      <th>roc_auc</th>\n",
       "    </tr>\n",
       "    <tr>\n",
       "      <th>dataset</th>\n",
       "      <th></th>\n",
       "      <th></th>\n",
       "      <th></th>\n",
       "    </tr>\n",
       "  </thead>\n",
       "  <tbody>\n",
       "    <tr>\n",
       "      <th>power_demand</th>\n",
       "      <td>0.75</td>\n",
       "      <td>0.25</td>\n",
       "      <td>0.0</td>\n",
       "    </tr>\n",
       "  </tbody>\n",
       "</table>\n",
       "</div>"
      ],
      "text/plain": [
       "                f1  pr_auc  roc_auc\n",
       "dataset                            \n",
       "power_demand  0.75    0.25      0.0"
      ]
     },
     "execution_count": 18,
     "metadata": {},
     "output_type": "execute_result"
    }
   ],
   "source": [
    "power_results = pd.DataFrame(total_scores)\n",
    "power_results.groupby('dataset').mean()"
   ]
  },
  {
   "cell_type": "markdown",
   "id": "693b8c0f-ca11-4832-92f3-4e844badc78a",
   "metadata": {},
   "source": [
    "### 2D Gesture"
   ]
  },
  {
   "cell_type": "code",
   "execution_count": 19,
   "id": "f1c90eef-8e67-4021-ba00-00864e2b147d",
   "metadata": {},
   "outputs": [],
   "source": [
    "total_scores = {'dataset': [], 'f1': [], 'pr_auc': [], 'roc_auc': []}"
   ]
  },
  {
   "cell_type": "code",
   "execution_count": 20,
   "id": "aa004936-6dfa-4898-9704-66d9fdd593ab",
   "metadata": {},
   "outputs": [
    {
     "data": {
      "application/vnd.jupyter.widget-view+json": {
       "model_id": "b70f3610dca2413aa054a9873ec6fc96",
       "version_major": 2,
       "version_minor": 0
      },
      "text/plain": [
       "  0%|          | 0/1 [00:00<?, ?it/s]"
      ]
     },
     "metadata": {},
     "output_type": "display_data"
    },
    {
     "name": "stdout",
     "output_type": "stream",
     "text": [
      "gesture 0.42201831455264965 0.0 0.0\n"
     ]
    }
   ],
   "source": [
    "for loader in [load_gesture]:\n",
    "    datasets = loader(64, 32)\n",
    "    x_trains, x_tests, y_tests = datasets['x_train'], datasets['x_test'], datasets['y_test']\n",
    "    \n",
    "    for i in tqdm(range(len(x_trains))):\n",
    "        X_train = x_trains[i]\n",
    "        X_test = x_tests[i]\n",
    "\n",
    "        model = GRU_AE(X_train)\n",
    "        scores = evaluate(X_test, model.predict(X_test), y_tests[i], is_reconstructed=True)\n",
    "\n",
    "        total_scores['dataset'].append(loader.__name__.replace('load_', ''))\n",
    "        total_scores['f1'].append(np.max(scores['f1']))\n",
    "        total_scores['pr_auc'].append(scores['pr_auc'])\n",
    "        total_scores['roc_auc'].append(scores['roc_auc'])\n",
    "        print(loader.__name__.replace('load_', ''), np.max(scores['f1']), scores['pr_auc'], scores['roc_auc'])  "
   ]
  },
  {
   "cell_type": "code",
   "execution_count": 21,
   "id": "1228fa87-0591-47f4-b4de-e871546b3ad1",
   "metadata": {},
   "outputs": [
    {
     "data": {
      "text/html": [
       "<div>\n",
       "<style scoped>\n",
       "    .dataframe tbody tr th:only-of-type {\n",
       "        vertical-align: middle;\n",
       "    }\n",
       "\n",
       "    .dataframe tbody tr th {\n",
       "        vertical-align: top;\n",
       "    }\n",
       "\n",
       "    .dataframe thead th {\n",
       "        text-align: right;\n",
       "    }\n",
       "</style>\n",
       "<table border=\"1\" class=\"dataframe\">\n",
       "  <thead>\n",
       "    <tr style=\"text-align: right;\">\n",
       "      <th></th>\n",
       "      <th>f1</th>\n",
       "      <th>pr_auc</th>\n",
       "      <th>roc_auc</th>\n",
       "    </tr>\n",
       "    <tr>\n",
       "      <th>dataset</th>\n",
       "      <th></th>\n",
       "      <th></th>\n",
       "      <th></th>\n",
       "    </tr>\n",
       "  </thead>\n",
       "  <tbody>\n",
       "    <tr>\n",
       "      <th>gesture</th>\n",
       "      <td>0.422018</td>\n",
       "      <td>0.0</td>\n",
       "      <td>0.0</td>\n",
       "    </tr>\n",
       "  </tbody>\n",
       "</table>\n",
       "</div>"
      ],
      "text/plain": [
       "               f1  pr_auc  roc_auc\n",
       "dataset                           \n",
       "gesture  0.422018     0.0      0.0"
      ]
     },
     "execution_count": 21,
     "metadata": {},
     "output_type": "execute_result"
    }
   ],
   "source": [
    "gesture_results = pd.DataFrame(total_scores)\n",
    "gesture_results.groupby('dataset').mean()"
   ]
  }
 ],
 "metadata": {
  "kernelspec": {
   "display_name": "Python 3",
   "language": "python",
   "name": "python3"
  },
  "language_info": {
   "codemirror_mode": {
    "name": "ipython",
    "version": 3
   },
   "file_extension": ".py",
   "mimetype": "text/x-python",
   "name": "python",
   "nbconvert_exporter": "python",
   "pygments_lexer": "ipython3",
   "version": "3.9.4"
  }
 },
 "nbformat": 4,
 "nbformat_minor": 5
}
