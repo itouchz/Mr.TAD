{
 "cells": [
  {
   "cell_type": "code",
   "execution_count": 1,
   "id": "a80a379b-932c-4401-8d76-b5ae5dedc6cc",
   "metadata": {},
   "outputs": [],
   "source": [
    "import os\n",
    "import random\n",
    "\n",
    "os.environ[\"CUDA_DEVICE_ORDER\"] = \"PCI_BUS_ID\";\n",
    "os.environ[\"CUDA_VISIBLE_DEVICES\"] = \"0\"\n",
    "os.environ[\"TF_FORCE_GPU_ALLOW_GROWTH\"] = \"true\""
   ]
  },
  {
   "cell_type": "code",
   "execution_count": 2,
   "id": "saving-behavior",
   "metadata": {},
   "outputs": [],
   "source": [
    "import numpy as np\n",
    "import pandas as pd\n",
    "import tensorflow as tf\n",
    "\n",
    "from evaluator import evaluate\n",
    "from data_loader import load_kdd_cup_urc, load_yahoo_A1, load_yahoo_A2, load_yahoo_A3, load_yahoo_A4, load_power_demand # Univariate Datasets\n",
    "from data_loader import load_nasa, load_ecg, load_gesture, load_smd # Multivariate Datasets\n",
    "\n",
    "from tensorflow import keras\n",
    "from tensorflow.keras import layers\n",
    "from tqdm.notebook import tqdm\n",
    "\n",
    "# THESE LINES ARE FOR REPRODUCIBILITY\n",
    "random.seed(0)\n",
    "np.random.seed(0)\n",
    "tf.random.set_seed(0)"
   ]
  },
  {
   "cell_type": "code",
   "execution_count": 3,
   "id": "b5f06dd0-129b-4c1f-9235-293751dcc420",
   "metadata": {},
   "outputs": [],
   "source": [
    "def LSTM_AE(X_train):\n",
    "    LSTM = layers.LSTM\n",
    "    model = keras.Sequential(\n",
    "        [\n",
    "            layers.InputLayer(input_shape=(X_train.shape[1], X_train.shape[2])),\n",
    "            LSTM(64, return_sequences=True),\n",
    "            LSTM(32),\n",
    "            layers.RepeatVector(X_train.shape[1]),\n",
    "            LSTM(32, return_sequences=True),\n",
    "            LSTM(64),\n",
    "            layers.Dense(X_train.shape[1] *  X_train.shape[2]),\n",
    "            layers.Reshape([X_train.shape[1], X_train.shape[2]])\n",
    "        ]\n",
    "    )\n",
    "    model.compile(optimizer=keras.optimizers.Adam(learning_rate=0.001), loss=\"mse\")\n",
    "    history = model.fit(X_train, X_train, epochs=50, batch_size=128, validation_split=0.3, verbose=0, callbacks=[keras.callbacks.EarlyStopping(monitor=\"val_loss\", patience=5, mode=\"min\", restore_best_weights=True)])    \n",
    "    return model"
   ]
  },
  {
   "cell_type": "markdown",
   "id": "fa97c067-d18d-4c06-ae1b-2cbfe88788b6",
   "metadata": {},
   "source": [
    "### Yahoo S5"
   ]
  },
  {
   "cell_type": "code",
   "execution_count": 4,
   "id": "eight-partition",
   "metadata": {},
   "outputs": [],
   "source": [
    "total_scores = {'dataset': [], 'f1': [], 'pr_auc': [], 'roc_auc': []}"
   ]
  },
  {
   "cell_type": "code",
   "execution_count": 5,
   "id": "71866d92-1163-4975-bb99-4302ccda66c3",
   "metadata": {
    "scrolled": true,
    "tags": []
   },
   "outputs": [
    {
     "data": {
      "application/vnd.jupyter.widget-view+json": {
       "model_id": "58992dea5e3f4d99aefb5dd36d12c1ba",
       "version_major": 2,
       "version_minor": 0
      },
      "text/plain": [
       "  0%|          | 0/67 [00:00<?, ?it/s]"
      ]
     },
     "metadata": {},
     "output_type": "display_data"
    },
    {
     "data": {
      "application/vnd.jupyter.widget-view+json": {
       "model_id": "76f788299ad54e42a88bb974ed12a07d",
       "version_major": 2,
       "version_minor": 0
      },
      "text/plain": [
       "  0%|          | 0/56 [00:00<?, ?it/s]"
      ]
     },
     "metadata": {},
     "output_type": "display_data"
    },
    {
     "name": "stdout",
     "output_type": "stream",
     "text": [
      "yahoo_A1 0.5714285142857172 0.1250000006249989 -0.0\n",
      "yahoo_A1 0.0 0.0 0.0\n",
      "yahoo_A1 0.0 0.0 -0.0\n",
      "yahoo_A1 0.0 0.0 0.0\n",
      "WARNING:tensorflow:5 out of the last 5 calls to <function Model.make_predict_function.<locals>.predict_function at 0x7f96d428e5e0> triggered tf.function retracing. Tracing is expensive and the excessive number of tracings could be due to (1) creating @tf.function repeatedly in a loop, (2) passing tensors with different shapes, (3) passing Python objects instead of tensors. For (1), please define your @tf.function outside of the loop. For (2), @tf.function has experimental_relax_shapes=True option that relaxes argument shapes that can avoid unnecessary retracing. For (3), please refer to https://www.tensorflow.org/guide/function#controlling_retracing and https://www.tensorflow.org/api_docs/python/tf/function for  more details.\n",
      "yahoo_A1 0.0 0.0 0.0\n",
      "WARNING:tensorflow:6 out of the last 6 calls to <function Model.make_predict_function.<locals>.predict_function at 0x7f96dc5d9310> triggered tf.function retracing. Tracing is expensive and the excessive number of tracings could be due to (1) creating @tf.function repeatedly in a loop, (2) passing tensors with different shapes, (3) passing Python objects instead of tensors. For (1), please define your @tf.function outside of the loop. For (2), @tf.function has experimental_relax_shapes=True option that relaxes argument shapes that can avoid unnecessary retracing. For (3), please refer to https://www.tensorflow.org/guide/function#controlling_retracing and https://www.tensorflow.org/api_docs/python/tf/function for  more details.\n",
      "yahoo_A1 0.0 0.0 0.0\n",
      "yahoo_A1 0.33333329444444565 0.09999998800000123 0.49999993750000654\n",
      "yahoo_A1 0.666666577777783 0.6249998912500156 0.9166665486111234\n",
      "yahoo_A1 0.9999999000000052 0.7499998875000145 0.9999999166666722\n",
      "yahoo_A1 0.33333329444444565 0.09999998800000123 -0.0\n",
      "yahoo_A1 0.8888888197530895 0.5208332951736141 0.29166662881944844\n",
      "yahoo_A1 0.5714285142857172 0.1250000006249989 -0.0\n",
      "yahoo_A1 0.9999998500000123 0.49999990000001493 0.9999998750000131\n",
      "yahoo_A1 0.0 0.0 0.0\n",
      "yahoo_A1 0.33333329444444565 0.0 0.0\n",
      "yahoo_A1 0.0 0.0 -0.0\n",
      "yahoo_A1 0.7499999343750033 0.1833333231388893 0.0\n",
      "yahoo_A1 0.7499999343750033 0.16666667444444216 -0.0\n",
      "yahoo_A1 0.6666666000000033 0.16666666527777654 -0.0\n",
      "yahoo_A1 0.7499999343750033 0.0 0.0\n",
      "yahoo_A1 0.0 0.0 0.0\n",
      "yahoo_A1 0.0 0.0 0.0\n",
      "yahoo_A1 0.9999999000000052 0.49999995000000386 0.9999999000000078\n",
      "yahoo_A1 0.9999998500000123 0.4999999466666723 0.9999998750000126\n",
      "yahoo_A1 0.0 0.0 0.0\n",
      "yahoo_A1 0.8888888197530895 0.25000000993055255 -0.0\n",
      "yahoo_A1 0.6666666000000033 0.16666666527777654 0.33333330555555735\n",
      "yahoo_A1 0.7499999343750033 0.0 0.0\n",
      "yahoo_A1 0.7499999343750033 0.0 0.0\n",
      "yahoo_A1 0.0 0.0 -0.0\n",
      "yahoo_A1 0.999999930000003 4.999999635068048e-09 0.0\n",
      "yahoo_A1 0.5714285142857172 0.1250000006249989 -0.0\n",
      "yahoo_A1 0.9999998500000123 0.49999990000001493 0.9999998750000131\n",
      "yahoo_A1 0.6666666000000033 0.20833331701388988 0.33333330555555735\n",
      "yahoo_A1 0.5714285142857172 0.1250000006249989 -0.0\n",
      "yahoo_A1 0.6666666000000033 0.16666666527777654 -0.0\n",
      "yahoo_A1 0.7499999343750033 0.0 0.0\n",
      "yahoo_A1 0.0 0.0 0.0\n",
      "yahoo_A1 0.7499999343750033 0.0 0.0\n",
      "yahoo_A1 0.7499999343750033 0.0 0.0\n",
      "yahoo_A1 0.33333329444444565 0.0 0.0\n",
      "yahoo_A1 0.8888888197530895 0.0 0.0\n",
      "yahoo_A1 0.8888888197530895 0.0 0.0\n",
      "yahoo_A1 0.7499999343750033 0.2499999924999997 0.4999999250000088\n",
      "yahoo_A1 0.0 0.0 0.0\n",
      "yahoo_A1 0.0 0.0 0.0\n",
      "yahoo_A1 0.5714285142857172 0.1250000006249989 -0.0\n",
      "yahoo_A1 0.0 0.0 0.0\n",
      "yahoo_A1 0.0 0.0 0.0\n",
      "yahoo_A1 0.0 0.0 0.0\n",
      "yahoo_A1 0.5714285142857172 0.1250000006249989 -0.0\n",
      "yahoo_A1 0.5714285142857172 0.1999999860000008 0.49999995833333605\n",
      "yahoo_A1 0.0 0.0 0.0\n",
      "yahoo_A1 0.9999998500000123 0.49999990000001493 0.9999998750000131\n",
      "yahoo_A1 0.5714285142857172 0.1999999860000008 -0.0\n",
      "yahoo_A1 0.5714285142857172 0.0 0.0\n"
     ]
    },
    {
     "data": {
      "application/vnd.jupyter.widget-view+json": {
       "model_id": "81b15ab2711744e0b75c213869a17f77",
       "version_major": 2,
       "version_minor": 0
      },
      "text/plain": [
       "  0%|          | 0/100 [00:00<?, ?it/s]"
      ]
     },
     "metadata": {},
     "output_type": "display_data"
    },
    {
     "data": {
      "application/vnd.jupyter.widget-view+json": {
       "model_id": "ed86e57e5a344fea9f07e7d7e2629958",
       "version_major": 2,
       "version_minor": 0
      },
      "text/plain": [
       "  0%|          | 0/100 [00:00<?, ?it/s]"
      ]
     },
     "metadata": {},
     "output_type": "display_data"
    },
    {
     "name": "stdout",
     "output_type": "stream",
     "text": [
      "yahoo_A2 0.46153841893491365 0.06250000600115631 -0.0\n",
      "yahoo_A2 0.46153841893491365 0.06250000600115631 0.0\n",
      "yahoo_A2 0.46153841893491365 0.06250000600115631 -0.0\n",
      "yahoo_A2 0.4285713887755125 0.06250000468592082 0.18749997890625206\n",
      "yahoo_A2 0.24999997187500062 0.0 0.0\n",
      "yahoo_A2 0.46153841893491365 0.06250000600115631 -0.0\n",
      "yahoo_A2 0.4285713887755125 0.05555556109988678 -0.0\n",
      "yahoo_A2 0.24999997187500062 0.0 0.0\n",
      "yahoo_A2 0.46153841893491365 0.06250000600115631 -0.0\n",
      "yahoo_A2 0.4285713887755125 0.11111110863075187 0.43749996328125296\n",
      "yahoo_A2 0.24999997187500062 0.07142856326530694 -0.0\n",
      "yahoo_A2 0.46153841893491365 0.06250000600115631 -0.0\n",
      "yahoo_A2 0.4285713887755125 0.05555556109988678 -0.0\n",
      "yahoo_A2 0.4285713887755125 0.09374999960779642 0.12499998593750138\n",
      "yahoo_A2 0.24999997187500062 0.07142856326530694 -0.0\n",
      "yahoo_A2 0.46153841893491365 1.3032405600333905e-08 0.0\n",
      "yahoo_A2 0.4285713887755125 0.09999999793939388 -0.0\n",
      "yahoo_A2 0.24999997187500062 0.07142856326530694 0.0\n",
      "yahoo_A2 0.46153841893491365 0.06250000600115631 -0.0\n",
      "yahoo_A2 0.4285713887755125 0.05555556109988678 0.0\n",
      "yahoo_A2 0.24999997187500062 0.07142856326530694 -0.0\n",
      "yahoo_A2 0.46153841893491365 0.06250000600115631 -0.0\n",
      "yahoo_A2 0.4285713887755125 0.10416666544981036 0.24999997812500183\n",
      "yahoo_A2 0.24999997187500062 0.07142856326530694 0.0\n",
      "yahoo_A2 0.24999997187500062 0.07142856326530694 -0.0\n",
      "yahoo_A2 0.46153841893491365 0.06250000600115631 -0.0\n",
      "yahoo_A2 0.4285713887755125 0.05555556109988678 -0.0\n",
      "yahoo_A2 0.24999997187500062 0.0 0.0\n",
      "yahoo_A2 0.46153841893491365 0.06250000600115631 -0.0\n",
      "yahoo_A2 0.4285713887755125 0.05555556109988678 -0.0\n",
      "yahoo_A2 0.24999997187500062 0.07142856326530694 0.0\n",
      "yahoo_A2 0.46153841893491365 0.06250000600115631 -0.0\n",
      "yahoo_A2 0.4285713887755125 0.05555556109988678 -0.0\n",
      "yahoo_A2 0.24999997187500062 0.07142856326530694 -0.0\n",
      "yahoo_A2 0.46153841893491365 0.06250000600115631 -0.0\n",
      "yahoo_A2 0.46153841893491365 0.10714285614465202 0.14285712653061383\n",
      "yahoo_A2 0.4285713887755125 0.05555556109988678 -0.0\n",
      "yahoo_A2 0.24999997187500062 0.07142856326530694 -0.0\n",
      "yahoo_A2 0.46153841893491365 0.06250000600115631 -0.0\n",
      "yahoo_A2 0.4285713887755125 0.05555556109988678 -0.0\n",
      "yahoo_A2 0.24999997187500062 0.07142856326530694 -0.0\n",
      "yahoo_A2 0.46153841893491365 0.0937500009230319 -0.0\n",
      "yahoo_A2 0.4285713887755125 0.05555556109988678 -0.0\n",
      "yahoo_A2 0.24999997187500062 0.07142856326530694 -0.0\n",
      "yahoo_A2 0.46153841893491365 0.06250000600115631 -0.0\n",
      "yahoo_A2 0.4285713887755125 0.05555556109988678 -0.0\n",
      "yahoo_A2 0.4285713887755125 0.05555556109988678 -0.0\n",
      "yahoo_A2 0.24999997187500062 0.07142856326530694 -0.0\n",
      "yahoo_A2 0.46153841893491365 0.06250000600115631 -0.0\n",
      "yahoo_A2 0.4285713887755125 0.05555556109988678 -0.0\n",
      "yahoo_A2 0.24999997187500062 0.07142856326530694 0.0\n",
      "yahoo_A2 0.46153841893491365 0.07142857629771254 0.14285712653061383\n",
      "yahoo_A2 0.4285713887755125 0.05555556109988678 -0.0\n",
      "yahoo_A2 0.24999997187500062 0.07142856326530694 -0.0\n",
      "yahoo_A2 0.46153841893491365 0.06250000600115631 -0.0\n",
      "yahoo_A2 0.4285713887755125 0.05555556109988678 -0.0\n",
      "yahoo_A2 0.24999997187500062 0.07142856326530694 -0.0\n",
      "yahoo_A2 0.24999997187500062 0.07142856326530694 -0.0\n",
      "yahoo_A2 0.46153841893491365 0.06250000600115631 0.0\n",
      "yahoo_A2 0.4285713887755125 0.05555556109988678 -0.0\n",
      "yahoo_A2 0.24999997187500062 0.07142856326530694 -0.0\n",
      "yahoo_A2 0.46153841893491365 4.351851412631487e-09 0.0\n",
      "yahoo_A2 0.4285713887755125 0.05555556109988678 -0.0\n",
      "yahoo_A2 0.24999997187500062 0.07142856326530694 0.0\n",
      "yahoo_A2 0.46153841893491365 0.06250000713541536 -0.0\n",
      "yahoo_A2 0.4285713887755125 0.07142857588525468 0.24999997812500177\n",
      "yahoo_A2 0.24999997187500062 0.07142856326530694 -0.0\n",
      "yahoo_A2 0.46153841893491365 0.06250000600115631 -0.0\n",
      "yahoo_A2 0.46153841893491365 0.06250000600115631 -0.0\n",
      "yahoo_A2 0.4285713887755125 0.05555556109988678 -0.0\n",
      "yahoo_A2 0.24999997187500062 0.07142856326530694 -0.0\n",
      "yahoo_A2 0.46153841893491365 0.06250000600115631 -0.0\n",
      "yahoo_A2 0.4285713887755125 0.05555556109988678 -0.0\n",
      "yahoo_A2 0.24999997187500062 0.07142856326530694 -0.0\n",
      "yahoo_A2 0.46153841893491365 0.06250000600115631 -0.0\n",
      "yahoo_A2 0.4285713887755125 0.05555556109988678 -0.0\n",
      "yahoo_A2 0.24999997187500062 0.0 0.0\n",
      "yahoo_A2 0.46153841893491365 0.06250000600115631 -0.0\n",
      "yahoo_A2 0.4285713887755125 0.0 0.0\n",
      "yahoo_A2 0.4285713887755125 0.05555556109988678 -0.0\n",
      "yahoo_A2 0.24999997187500062 0.07142856326530694 -0.0\n",
      "yahoo_A2 0.46153841893491365 0.06250000600115631 -0.0\n",
      "yahoo_A2 0.4285713887755125 0.05555556109988678 -0.0\n",
      "yahoo_A2 0.24999997187500062 0.07142856326530694 -0.0\n",
      "yahoo_A2 0.46153841893491365 0.06250000600115631 -0.0\n",
      "yahoo_A2 0.4285713887755125 0.05555556109988678 -0.0\n",
      "yahoo_A2 0.24999997187500062 0.07142856326530694 -0.0\n",
      "yahoo_A2 0.46153841893491365 0.06250000600115631 -0.0\n",
      "yahoo_A2 0.4285713887755125 0.05555556109988678 -0.0\n",
      "yahoo_A2 0.24999997187500062 0.07142856326530694 -0.0\n",
      "yahoo_A2 0.24999997187500062 0.07142856326530694 -0.0\n",
      "yahoo_A2 0.46153841893491365 0.06250000600115631 -0.0\n",
      "yahoo_A2 0.4285713887755125 0.05555556109988678 -0.0\n",
      "yahoo_A2 0.24999997187500062 0.07142856326530694 -0.0\n",
      "yahoo_A2 0.46153841893491365 0.06250000600115631 -0.0\n",
      "yahoo_A2 0.4285713887755125 0.05555556109988678 -0.0\n",
      "yahoo_A2 0.24999997187500062 0.07142856326530694 -0.0\n",
      "yahoo_A2 0.46153841893491365 0.06250000600115631 -0.0\n",
      "yahoo_A2 0.4285713887755125 0.05555556109988678 -0.0\n",
      "yahoo_A2 0.24999997187500062 0.07142856326530694 -0.0\n"
     ]
    },
    {
     "data": {
      "application/vnd.jupyter.widget-view+json": {
       "model_id": "c8ddae25fff540babdb9111283cbe0c6",
       "version_major": 2,
       "version_minor": 0
      },
      "text/plain": [
       "  0%|          | 0/100 [00:00<?, ?it/s]"
      ]
     },
     "metadata": {},
     "output_type": "display_data"
    },
    {
     "data": {
      "application/vnd.jupyter.widget-view+json": {
       "model_id": "e6325669378a4576af182f036f001fad",
       "version_major": 2,
       "version_minor": 0
      },
      "text/plain": [
       "  0%|          | 0/92 [00:00<?, ?it/s]"
      ]
     },
     "metadata": {},
     "output_type": "display_data"
    },
    {
     "name": "stdout",
     "output_type": "stream",
     "text": [
      "yahoo_A3 0.4999999500000025 1.3333331148236856e-08 0.0\n",
      "yahoo_A3 0.4999999500000025 0.1499999928333334 0.0\n",
      "yahoo_A3 0.7999999360000031 5.277777344711406e-09 0.0\n",
      "yahoo_A3 0.4999999500000025 1.3333331148236856e-08 0.0\n",
      "yahoo_A3 0.9090908429752097 0.0 0.0\n",
      "yahoo_A3 0.4999999500000025 0.10000000133333238 0.0\n",
      "yahoo_A3 0.9999999166666703 0.49999994812500725 0.9999999208333383\n",
      "yahoo_A3 0.6666666074074105 2.374999645729026e-08 0.0\n",
      "yahoo_A3 0.7999999360000031 0.0 0.0\n",
      "yahoo_A3 0.9999999250000032 0.7499999125000114 0.0\n",
      "yahoo_A3 0.9090908429752097 1.0541665828899795e-08 0.0\n",
      "yahoo_A3 0.9090908429752097 2.2347219975155517e-08 0.0\n",
      "yahoo_A3 0.0 0.0 -0.0\n",
      "yahoo_A3 0.7999999360000031 0.0 0.0\n",
      "yahoo_A3 0.28571425306122533 0.0 0.0\n",
      "yahoo_A3 0.9090908429752097 0.0 0.0\n",
      "yahoo_A3 0.4999999500000025 0.0 0.0\n",
      "yahoo_A3 0.4999999500000025 0.0 0.0\n",
      "yahoo_A3 0.6666666074074105 0.1250000081249981 -0.0\n",
      "yahoo_A3 0.28571425306122533 0.0 0.0\n",
      "yahoo_A3 0.28571425306122533 0.08333332361111209 0.0\n",
      "yahoo_A3 0.6666666074074105 0.0 0.0\n",
      "yahoo_A3 0.9090908429752097 0.0 0.0\n",
      "yahoo_A3 0.28571425306122533 0.0 0.0\n",
      "yahoo_A3 0.4999999500000025 0.0 0.0\n",
      "yahoo_A3 0.6666666074074105 0.0 0.0\n",
      "yahoo_A3 0.4999999500000025 0.0 0.0\n",
      "yahoo_A3 0.4999999500000025 0.10000000133333238 0.0\n",
      "yahoo_A3 0.6666666074074105 0.0 0.0\n",
      "yahoo_A3 0.7999999360000031 0.0 0.0\n",
      "yahoo_A3 0.9999999333333361 8.3333328500246e-09 0.0\n",
      "yahoo_A3 0.9999999333333361 0.4999999833333338 0.0\n",
      "yahoo_A3 0.9999998500000123 0.49999993527778763 0.9999998500000176\n",
      "yahoo_A3 0.9090908429752097 0.0 0.0\n",
      "yahoo_A3 0.7999999360000031 0.24999999777777704 0.0\n",
      "yahoo_A3 0.9090908429752097 0.0 0.0\n",
      "yahoo_A3 0.9090908429752097 0.0 0.0\n",
      "yahoo_A3 0.7999999360000031 0.0 0.0\n",
      "yahoo_A3 0.6666666074074105 0.1250000081249981 0.0\n",
      "yahoo_A3 0.9090908429752097 0.2500000140138856 -0.0\n",
      "yahoo_A3 0.0 0.0 0.0\n",
      "yahoo_A3 0.9999999333333361 0.0 0.0\n",
      "yahoo_A3 0.28571425306122533 0.0 0.0\n",
      "yahoo_A3 0.4999999500000025 0.0 0.0\n",
      "yahoo_A3 0.9090908429752097 0.2500000140138856 0.0\n",
      "yahoo_A3 0.9090908429752097 0.0 0.0\n",
      "yahoo_A3 0.9999999333333361 0.0 0.0\n",
      "yahoo_A3 0.7499999343750033 0.1666666744444422 0.0\n",
      "yahoo_A3 0.4999999500000025 0.0 0.0\n",
      "yahoo_A3 0.4999999500000025 0.0 0.0\n",
      "yahoo_A3 0.6666666074074105 0.0 0.0\n",
      "yahoo_A3 0.6666666074074105 0.2499999887500003 0.0\n",
      "yahoo_A3 0.6666666000000033 0.16666666527777654 0.0\n",
      "yahoo_A3 0.9090908429752097 2.2347219975155517e-08 0.0\n",
      "yahoo_A3 0.7999999360000031 0.0 0.0\n",
      "yahoo_A3 0.6666666074074105 0.0 0.0\n",
      "yahoo_A3 0.9090908429752097 0.0 0.0\n",
      "yahoo_A3 0.4999999500000025 0.0 0.0\n",
      "yahoo_A3 0.9090908429752097 0.2500000140138856 0.0\n",
      "yahoo_A3 0.9090908429752097 1.0541665828899795e-08 0.0\n",
      "yahoo_A3 0.7999999360000031 0.0 0.0\n",
      "yahoo_A3 0.9090908429752097 0.2500000140138856 -0.0\n",
      "yahoo_A3 0.4999999500000025 0.0 0.0\n",
      "yahoo_A3 0.7999999360000031 0.0 0.0\n",
      "yahoo_A3 0.7999999360000031 0.0 0.0\n",
      "yahoo_A3 0.7999999360000031 0.0 0.0\n",
      "yahoo_A3 0.6666666074074105 0.0 0.0\n",
      "yahoo_A3 0.9999999333333361 0.0 0.0\n",
      "yahoo_A3 0.9090908429752097 0.2500000140138856 -0.0\n",
      "yahoo_A3 0.28571425306122533 0.08333332361111209 0.0\n",
      "yahoo_A3 0.6666666074074105 0.13333332705555573 0.44444441481481634\n",
      "yahoo_A3 0.6666666074074105 0.24999999083333324 0.33333330555555735\n",
      "yahoo_A3 0.7999999360000031 0.16666667972221955 -0.0\n",
      "yahoo_A3 0.6666666074074105 0.1250000081249981 0.0\n",
      "yahoo_A3 0.4999999500000025 0.0 0.0\n",
      "yahoo_A3 0.4999999500000025 0.10000000133333238 0.0\n",
      "yahoo_A3 0.7999999360000031 0.0 0.0\n",
      "yahoo_A3 0.6666666074074105 0.0 0.0\n",
      "yahoo_A3 0.4999999500000025 0.0 0.0\n",
      "yahoo_A3 0.9090908429752097 4.083333052458349e-09 0.0\n",
      "yahoo_A3 0.8571427836734729 4.0972215375037877e-08 0.0\n",
      "yahoo_A3 0.7999999360000031 0.0 0.0\n",
      "yahoo_A3 0.9090908429752097 0.0 0.0\n",
      "yahoo_A3 0.6666666074074105 0.1250000081249981 -0.0\n",
      "yahoo_A3 0.4999999500000025 0.10000000133333238 -0.0\n",
      "yahoo_A3 0.6666666074074105 0.0 0.0\n",
      "yahoo_A3 0.6666666074074105 0.1250000081249981 -0.0\n",
      "yahoo_A3 0.9090908429752097 0.7326388316643565 0.49999993750000654\n",
      "yahoo_A3 0.6666666074074105 0.1250000081249981 0.0\n",
      "yahoo_A3 0.5714285142857172 0.0 0.0\n",
      "yahoo_A3 0.6666666074074105 0.1250000081249981 0.0\n",
      "yahoo_A3 0.4999999500000025 0.1624999916458335 0.12499999062500056\n"
     ]
    },
    {
     "data": {
      "application/vnd.jupyter.widget-view+json": {
       "model_id": "302d61b231bf4cd58a0c821f5b6b07ba",
       "version_major": 2,
       "version_minor": 0
      },
      "text/plain": [
       "  0%|          | 0/100 [00:00<?, ?it/s]"
      ]
     },
     "metadata": {},
     "output_type": "display_data"
    },
    {
     "data": {
      "application/vnd.jupyter.widget-view+json": {
       "model_id": "b4cfc5a73b2944589da07c868b55e569",
       "version_major": 2,
       "version_minor": 0
      },
      "text/plain": [
       "  0%|          | 0/82 [00:00<?, ?it/s]"
      ]
     },
     "metadata": {},
     "output_type": "display_data"
    },
    {
     "name": "stdout",
     "output_type": "stream",
     "text": [
      "yahoo_A4 0.6666666074074105 0.0 0.0\n",
      "yahoo_A4 0.5714285142857172 0.1250000006249989 0.2499999812500011\n",
      "yahoo_A4 0.6666666074074105 0.0 0.0\n",
      "yahoo_A4 0.5714285142857172 0.1666666606944441 0.4999999500000044\n",
      "yahoo_A4 0.9090908429752097 0.2500000140138856 -0.0\n",
      "yahoo_A4 0.7999999360000031 0.16666667972221952 -0.0\n",
      "yahoo_A4 0.4999999500000025 0.0 0.0\n",
      "yahoo_A4 0.4999999500000025 0.0 0.0\n",
      "yahoo_A4 0.9090908429752097 4.083333052458349e-09 0.0\n",
      "yahoo_A4 0.7999999360000031 0.0 0.0\n",
      "yahoo_A4 0.9090908429752097 4.083333052458349e-09 0.0\n",
      "yahoo_A4 0.6666666074074105 0.0 0.0\n",
      "yahoo_A4 0.5714285142857172 0.1250000006249989 -0.0\n",
      "yahoo_A4 0.28571425306122533 0.0 0.0\n",
      "yahoo_A4 0.28571425306122533 0.08333332361111209 -0.0\n",
      "yahoo_A4 0.4999999500000025 0.0 0.0\n",
      "yahoo_A4 0.9090908429752097 0.0 0.0\n",
      "yahoo_A4 0.7999999360000031 0.0 0.0\n",
      "yahoo_A4 0.9999999333333361 0.0 0.0\n",
      "yahoo_A4 0.9090908429752097 0.2500000140138856 0.0\n",
      "yahoo_A4 0.4999999500000025 0.0 0.0\n",
      "yahoo_A4 0.7999999360000031 0.16666667972221952 -0.0\n",
      "yahoo_A4 0.7999999360000031 0.0 0.0\n",
      "yahoo_A4 0.4999999500000025 0.10000000133333238 -0.0\n",
      "yahoo_A4 0.6666666074074105 0.0 0.0\n",
      "yahoo_A4 0.7999999360000031 0.0 0.0\n",
      "yahoo_A4 0.999999930000003 0.4999999800000005 0.0\n",
      "yahoo_A4 0.4999999500000025 0.0 0.0\n",
      "yahoo_A4 0.9090908429752097 0.0 0.0\n",
      "yahoo_A4 0.9999999333333361 8.3333328500246e-09 0.0\n",
      "yahoo_A4 0.28571425306122533 0.08333332361111209 -0.0\n",
      "yahoo_A4 0.6666666074074105 7.499999185480748e-09 0.0\n",
      "yahoo_A4 0.4999999500000025 0.10000000133333238 -0.0\n",
      "yahoo_A4 0.4999999500000025 0.0 0.0\n",
      "yahoo_A4 0.7999999360000031 0.0 0.0\n",
      "yahoo_A4 0.9090908429752097 5.151388120393767e-08 0.0\n",
      "yahoo_A4 0.7999999360000031 0.16666667972221952 -0.0\n",
      "yahoo_A4 0.8888888197530895 0.25000000993055255 0.0\n",
      "yahoo_A4 0.6666666000000033 0.3055555324074087 0.1666666527777787\n",
      "yahoo_A4 0.6666666074074105 0.0 0.0\n",
      "yahoo_A4 0.9090908429752097 0.0 0.0\n",
      "yahoo_A4 0.0 0.0 0.0\n",
      "yahoo_A4 0.7999999360000031 0.0 0.0\n",
      "yahoo_A4 0.4999999500000025 1.3333331148236856e-08 0.0\n",
      "yahoo_A4 0.4999999500000025 0.0 0.0\n",
      "yahoo_A4 0.4999999500000025 0.0 0.0\n",
      "yahoo_A4 0.4999999406250046 0.13749999277083363 0.16666665277777867\n",
      "yahoo_A4 0.4999999500000025 0.0 0.0\n",
      "yahoo_A4 0.7999999360000031 0.16666667972221955 -0.0\n",
      "yahoo_A4 0.7999999360000031 0.0 0.0\n",
      "yahoo_A4 0.7999999360000031 0.0 0.0\n",
      "yahoo_A4 0.7999999360000031 3.5277772680152144e-08 0.0\n",
      "yahoo_A4 0.4999999500000025 0.10000000133333238 -0.0\n",
      "yahoo_A4 0.28571425306122533 0.08333332361111209 0.0\n",
      "yahoo_A4 0.9090908429752097 0.0 0.0\n",
      "yahoo_A4 0.6666666074074105 0.1250000081249981 0.0\n",
      "yahoo_A4 0.6666666074074105 0.1250000081249981 -0.0\n",
      "yahoo_A4 0.4999999500000025 0.0 0.0\n",
      "yahoo_A4 0.4999999500000025 0.10000000133333238 -0.0\n",
      "yahoo_A4 0.7999999360000031 0.0 0.0\n",
      "yahoo_A4 0.6666666074074105 0.1250000081249981 0.0\n",
      "yahoo_A4 0.7999999360000031 0.0 0.0\n",
      "yahoo_A4 0.7999999360000031 0.16666667972221952 -0.0\n",
      "yahoo_A4 0.7999999360000031 0.0 0.0\n",
      "yahoo_A4 0.4999999500000025 0.0 0.0\n",
      "yahoo_A4 0.6666666074074105 0.0 0.0\n",
      "yahoo_A4 0.6666666074074105 0.0 0.0\n",
      "yahoo_A4 0.4999999500000025 0.10000000133333238 0.0\n",
      "yahoo_A4 0.6666666074074105 0.0 0.0\n",
      "yahoo_A4 0.7999999360000031 0.0 0.0\n",
      "yahoo_A4 0.28571425306122533 0.08333332361111209 -0.0\n",
      "yahoo_A4 0.9090908429752097 0.2500000140138856 0.0\n",
      "yahoo_A4 0.9090908429752097 0.0 0.0\n",
      "yahoo_A4 0.7999999360000031 3.5277772680152144e-08 0.0\n",
      "yahoo_A4 0.33333327777778377 0.06249999531250028 -0.0\n",
      "yahoo_A4 0.8888888197530895 0.22222221456018534 0.0\n",
      "yahoo_A4 0.6666666074074105 0.0 0.0\n",
      "yahoo_A4 0.6666666074074105 0.0 0.0\n",
      "yahoo_A4 0.7999999360000031 0.0 0.0\n",
      "yahoo_A4 0.4999999375000028 0.2916666246527825 -0.0\n",
      "yahoo_A4 0.9090908429752097 0.0 0.0\n",
      "yahoo_A4 0.28571425306122533 0.0 0.0\n"
     ]
    }
   ],
   "source": [
    "for loader in [load_yahoo_A1, load_yahoo_A2, load_yahoo_A3, load_yahoo_A4]:\n",
    "    datasets = loader(128, 64)\n",
    "    x_trains, x_tests, y_tests = datasets['x_train'], datasets['x_test'], datasets['y_test']\n",
    "    \n",
    "    for i in tqdm(range(len(x_trains))):\n",
    "        X_train = x_trains[i]\n",
    "        X_test = x_tests[i]        \n",
    "\n",
    "        model = LSTM_AE(X_train)\n",
    "        scores = evaluate(X_test, model.predict(X_test), y_tests[i], is_reconstructed=True)\n",
    "    \n",
    "        total_scores['dataset'].append(loader.__name__.replace('load_', ''))\n",
    "        total_scores['f1'].append(np.max(scores['f1']))\n",
    "        total_scores['pr_auc'].append(scores['pr_auc'])\n",
    "        total_scores['roc_auc'].append(scores['roc_auc'])\n",
    "        print(loader.__name__.replace('load_', ''), np.max(scores['f1']), scores['pr_auc'], scores['roc_auc'])   "
   ]
  },
  {
   "cell_type": "code",
   "execution_count": 6,
   "id": "bd9e37fd-124c-4f5c-8f1f-a9d61a4b0315",
   "metadata": {},
   "outputs": [
    {
     "data": {
      "text/html": [
       "<div>\n",
       "<style scoped>\n",
       "    .dataframe tbody tr th:only-of-type {\n",
       "        vertical-align: middle;\n",
       "    }\n",
       "\n",
       "    .dataframe tbody tr th {\n",
       "        vertical-align: top;\n",
       "    }\n",
       "\n",
       "    .dataframe thead th {\n",
       "        text-align: right;\n",
       "    }\n",
       "</style>\n",
       "<table border=\"1\" class=\"dataframe\">\n",
       "  <thead>\n",
       "    <tr style=\"text-align: right;\">\n",
       "      <th></th>\n",
       "      <th>f1</th>\n",
       "      <th>pr_auc</th>\n",
       "      <th>roc_auc</th>\n",
       "    </tr>\n",
       "    <tr>\n",
       "      <th>dataset</th>\n",
       "      <th></th>\n",
       "      <th></th>\n",
       "      <th></th>\n",
       "    </tr>\n",
       "  </thead>\n",
       "  <tbody>\n",
       "    <tr>\n",
       "      <th>yahoo_A1</th>\n",
       "      <td>0.484198</td>\n",
       "      <td>0.130432</td>\n",
       "      <td>0.167411</td>\n",
       "    </tr>\n",
       "    <tr>\n",
       "      <th>yahoo_A2</th>\n",
       "      <td>0.380852</td>\n",
       "      <td>0.061437</td>\n",
       "      <td>0.015357</td>\n",
       "    </tr>\n",
       "    <tr>\n",
       "      <th>yahoo_A3</th>\n",
       "      <td>0.696826</td>\n",
       "      <td>0.080110</td>\n",
       "      <td>0.036987</td>\n",
       "    </tr>\n",
       "    <tr>\n",
       "      <th>yahoo_A4</th>\n",
       "      <td>0.670107</td>\n",
       "      <td>0.060705</td>\n",
       "      <td>0.013211</td>\n",
       "    </tr>\n",
       "  </tbody>\n",
       "</table>\n",
       "</div>"
      ],
      "text/plain": [
       "                f1    pr_auc   roc_auc\n",
       "dataset                               \n",
       "yahoo_A1  0.484198  0.130432  0.167411\n",
       "yahoo_A2  0.380852  0.061437  0.015357\n",
       "yahoo_A3  0.696826  0.080110  0.036987\n",
       "yahoo_A4  0.670107  0.060705  0.013211"
      ]
     },
     "execution_count": 6,
     "metadata": {},
     "output_type": "execute_result"
    }
   ],
   "source": [
    "yahoo_results = pd.DataFrame(total_scores)\n",
    "yahoo_results.groupby('dataset').mean()"
   ]
  },
  {
   "cell_type": "markdown",
   "id": "8890a678-6116-4222-b0ff-395fcd7f41aa",
   "metadata": {},
   "source": [
    "### NASA"
   ]
  },
  {
   "cell_type": "code",
   "execution_count": 7,
   "id": "e4387a80-585a-488e-94a8-546f42d47632",
   "metadata": {},
   "outputs": [],
   "source": [
    "total_scores = {'dataset': [], 'f1': [], 'pr_auc': [], 'roc_auc': []}"
   ]
  },
  {
   "cell_type": "code",
   "execution_count": 8,
   "id": "106a238d-c5cb-49e9-9764-b1bc37f09436",
   "metadata": {},
   "outputs": [
    {
     "data": {
      "application/vnd.jupyter.widget-view+json": {
       "model_id": "7913a825fdff4051b83841a63aeb6b83",
       "version_major": 2,
       "version_minor": 0
      },
      "text/plain": [
       "  0%|          | 0/2 [00:00<?, ?it/s]"
      ]
     },
     "metadata": {},
     "output_type": "display_data"
    },
    {
     "data": {
      "application/vnd.jupyter.widget-view+json": {
       "model_id": "b7e6b6518ed248cca2568162ca8252b7",
       "version_major": 2,
       "version_minor": 0
      },
      "text/plain": [
       "  0%|          | 0/2 [00:00<?, ?it/s]"
      ]
     },
     "metadata": {},
     "output_type": "display_data"
    },
    {
     "name": "stdout",
     "output_type": "stream",
     "text": [
      "D1 0.2698089970004179 0.06604824926340729 0.24888399365849123\n",
      "D2 0.3152289345123945 0.1475953754454291 0.5007321925776976\n"
     ]
    }
   ],
   "source": [
    "for loader in [load_nasa]:\n",
    "    datasets = loader(128, 64)\n",
    "    x_trains, x_tests, y_tests = datasets['x_train'], datasets['x_test'], datasets['y_test']\n",
    "    \n",
    "    for i in tqdm(range(len(x_trains))):\n",
    "        X_train = x_trains[i]\n",
    "        X_test = x_tests[i]\n",
    "        \n",
    "        model = LSTM_AE(X_train)\n",
    "        scores = evaluate(X_test, model.predict(X_test), y_tests[i], is_reconstructed=True)\n",
    "        \n",
    "        total_scores['dataset'].append(f'D{i+1}')\n",
    "        total_scores['f1'].append(np.max(scores['f1']))\n",
    "        total_scores['pr_auc'].append(scores['pr_auc'])\n",
    "        total_scores['roc_auc'].append(scores['roc_auc'])\n",
    "        print(f'D{i+1}', np.max(scores['f1']), scores['pr_auc'], scores['roc_auc'])   "
   ]
  },
  {
   "cell_type": "code",
   "execution_count": 9,
   "id": "abb7a6a5-3924-4a33-bc54-871559819602",
   "metadata": {},
   "outputs": [
    {
     "data": {
      "text/html": [
       "<div>\n",
       "<style scoped>\n",
       "    .dataframe tbody tr th:only-of-type {\n",
       "        vertical-align: middle;\n",
       "    }\n",
       "\n",
       "    .dataframe tbody tr th {\n",
       "        vertical-align: top;\n",
       "    }\n",
       "\n",
       "    .dataframe thead th {\n",
       "        text-align: right;\n",
       "    }\n",
       "</style>\n",
       "<table border=\"1\" class=\"dataframe\">\n",
       "  <thead>\n",
       "    <tr style=\"text-align: right;\">\n",
       "      <th></th>\n",
       "      <th>f1</th>\n",
       "      <th>pr_auc</th>\n",
       "      <th>roc_auc</th>\n",
       "    </tr>\n",
       "    <tr>\n",
       "      <th>dataset</th>\n",
       "      <th></th>\n",
       "      <th></th>\n",
       "      <th></th>\n",
       "    </tr>\n",
       "  </thead>\n",
       "  <tbody>\n",
       "    <tr>\n",
       "      <th>D1</th>\n",
       "      <td>0.269809</td>\n",
       "      <td>0.066048</td>\n",
       "      <td>0.248884</td>\n",
       "    </tr>\n",
       "    <tr>\n",
       "      <th>D2</th>\n",
       "      <td>0.315229</td>\n",
       "      <td>0.147595</td>\n",
       "      <td>0.500732</td>\n",
       "    </tr>\n",
       "  </tbody>\n",
       "</table>\n",
       "</div>"
      ],
      "text/plain": [
       "               f1    pr_auc   roc_auc\n",
       "dataset                              \n",
       "D1       0.269809  0.066048  0.248884\n",
       "D2       0.315229  0.147595  0.500732"
      ]
     },
     "execution_count": 9,
     "metadata": {},
     "output_type": "execute_result"
    }
   ],
   "source": [
    "nasa_results = pd.DataFrame(total_scores)\n",
    "nasa_results.groupby('dataset').mean()"
   ]
  },
  {
   "cell_type": "markdown",
   "id": "41754734-5c75-4caf-9069-fb3b39c7a0da",
   "metadata": {},
   "source": [
    "### SMD"
   ]
  },
  {
   "cell_type": "code",
   "execution_count": 10,
   "id": "60a26807-8359-42d4-82b4-9e1d37b6acaa",
   "metadata": {},
   "outputs": [],
   "source": [
    "total_scores = {'dataset': [], 'f1': [], 'pr_auc': [], 'roc_auc': []}"
   ]
  },
  {
   "cell_type": "code",
   "execution_count": 11,
   "id": "41af318e-1b08-4cc9-a680-6b4a978544f2",
   "metadata": {},
   "outputs": [
    {
     "data": {
      "application/vnd.jupyter.widget-view+json": {
       "model_id": "4c142234dec743b08752d880d2b97ba1",
       "version_major": 2,
       "version_minor": 0
      },
      "text/plain": [
       "  0%|          | 0/28 [00:00<?, ?it/s]"
      ]
     },
     "metadata": {},
     "output_type": "display_data"
    },
    {
     "data": {
      "application/vnd.jupyter.widget-view+json": {
       "model_id": "b83afd86a47b4e3d9132e92eafea005e",
       "version_major": 2,
       "version_minor": 0
      },
      "text/plain": [
       "  0%|          | 0/28 [00:00<?, ?it/s]"
      ]
     },
     "metadata": {},
     "output_type": "display_data"
    },
    {
     "name": "stdout",
     "output_type": "stream",
     "text": [
      "smd 0.23153690558205123 0.06546275382269463 0.49999999900806086\n",
      "smd 0.14105792132682896 0.0 0.0\n",
      "smd 0.18226599319687592 0.04482706246273231 0.48143795590023936\n",
      "smd 0.17326731082124444 0.03551297094620321 0.41633874900028145\n",
      "smd 0.08719345210373601 0.022792022643079193 0.5254957472750011\n",
      "smd 0.47835047887257154 0.1078097586870609 0.4990118567526249\n",
      "smd 0.29561198390945814 0.05409356724466037 0.49999999848471416\n",
      "smd 0.23444973995673352 0.016768293035725055 0.5046874952838099\n",
      "smd 0.21307504139204825 0.026239067154910426 0.499999997068376\n",
      "smd 0.43776819973844056 0.17075590362942034 0.6998734804744265\n",
      "smd 0.12690354134994566 0.03387533860870587 0.49999999785465116\n",
      "smd 0.29953914490114675 0.06940048552522403 0.16220829156706068\n",
      "smd 0.2635293887601403 0.3581369119278862 0.5169210712978378\n",
      "smd 0.08547007725180877 0.025318504465843703 0.4642154426284518\n",
      "smd 0.21307504139204825 0.016369047864667235 0.49999999530069933\n",
      "smd 0.026737965262089488 0.006775067613340092 0.4999999898626375\n",
      "smd 0.19028338351472884 0.052572706811504985 0.4999999988111702\n",
      "smd 0.05652173361342205 0.014541386909498574 0.4999999960386388\n",
      "smd 0.22168672716969254 0.0 0.0\n",
      "smd 0.03516483169472315 0.008948545747438804 0.49999999363610487\n",
      "smd 0.16873447578151593 0.0 0.0\n",
      "smd 0.28372090575338227 0.0 0.0\n",
      "smd 0.1596009827401584 0.05391018175076487 0.45289317352450303\n",
      "smd 0.13636362358815537 0.030320303080830616 0.45238095009448215\n",
      "smd 0.1685649047607695 0.08170529131256091 0.443854963468503\n",
      "smd 0.07741934736316405 0.02013422807155834 0.49999999710567206\n",
      "smd 0.137499987138022 0.02954545447917384 0.49999999795615013\n",
      "smd 0.05652173361342205 0.014541386909498574 0.4999999960386388\n"
     ]
    }
   ],
   "source": [
    "for loader in [load_smd]:\n",
    "    datasets = loader(128, 64)\n",
    "    x_trains, x_tests, y_tests = datasets['x_train'], datasets['x_test'], datasets['y_test']\n",
    "    \n",
    "    for i in tqdm(range(len(x_trains))):\n",
    "        X_train = x_trains[i]\n",
    "        X_test = x_tests[i]\n",
    "        \n",
    "        model = LSTM_AE(X_train)\n",
    "        scores = evaluate(X_test, model.predict(X_test), y_tests[i], is_reconstructed=True)\n",
    "\n",
    "        total_scores['dataset'].append(loader.__name__.replace('load_', ''))\n",
    "        total_scores['f1'].append(np.max(scores['f1']))\n",
    "        total_scores['pr_auc'].append(scores['pr_auc'])\n",
    "        total_scores['roc_auc'].append(scores['roc_auc'])\n",
    "        print(loader.__name__.replace('load_', ''), np.max(scores['f1']), scores['pr_auc'], scores['roc_auc'])   "
   ]
  },
  {
   "cell_type": "code",
   "execution_count": 12,
   "id": "23474773-bac1-4145-ac75-c1a686bca5c6",
   "metadata": {},
   "outputs": [
    {
     "data": {
      "text/html": [
       "<div>\n",
       "<style scoped>\n",
       "    .dataframe tbody tr th:only-of-type {\n",
       "        vertical-align: middle;\n",
       "    }\n",
       "\n",
       "    .dataframe tbody tr th {\n",
       "        vertical-align: top;\n",
       "    }\n",
       "\n",
       "    .dataframe thead th {\n",
       "        text-align: right;\n",
       "    }\n",
       "</style>\n",
       "<table border=\"1\" class=\"dataframe\">\n",
       "  <thead>\n",
       "    <tr style=\"text-align: right;\">\n",
       "      <th></th>\n",
       "      <th>f1</th>\n",
       "      <th>pr_auc</th>\n",
       "      <th>roc_auc</th>\n",
       "    </tr>\n",
       "    <tr>\n",
       "      <th>dataset</th>\n",
       "      <th></th>\n",
       "      <th></th>\n",
       "      <th></th>\n",
       "    </tr>\n",
       "  </thead>\n",
       "  <tbody>\n",
       "    <tr>\n",
       "      <th>smd</th>\n",
       "      <td>0.185068</td>\n",
       "      <td>0.048584</td>\n",
       "      <td>0.414976</td>\n",
       "    </tr>\n",
       "  </tbody>\n",
       "</table>\n",
       "</div>"
      ],
      "text/plain": [
       "               f1    pr_auc   roc_auc\n",
       "dataset                              \n",
       "smd      0.185068  0.048584  0.414976"
      ]
     },
     "execution_count": 12,
     "metadata": {},
     "output_type": "execute_result"
    }
   ],
   "source": [
    "smd_results = pd.DataFrame(total_scores)\n",
    "smd_results.groupby('dataset').mean()"
   ]
  },
  {
   "cell_type": "markdown",
   "id": "e54f2ffc-fc0e-4c09-b127-f696dc3d1149",
   "metadata": {},
   "source": [
    "### ECG"
   ]
  },
  {
   "cell_type": "code",
   "execution_count": 13,
   "id": "949eb19e-073f-414d-8cbb-563003360f61",
   "metadata": {},
   "outputs": [],
   "source": [
    "total_scores = {'dataset': [], 'f1': [], 'pr_auc': [], 'roc_auc': []}"
   ]
  },
  {
   "cell_type": "code",
   "execution_count": 14,
   "id": "916922c3-5853-4a63-a3e1-07e361407a5e",
   "metadata": {},
   "outputs": [
    {
     "data": {
      "application/vnd.jupyter.widget-view+json": {
       "model_id": "e27f6ad0472147f88ee6b27ab16746c7",
       "version_major": 2,
       "version_minor": 0
      },
      "text/plain": [
       "  0%|          | 0/9 [00:00<?, ?it/s]"
      ]
     },
     "metadata": {},
     "output_type": "display_data"
    },
    {
     "data": {
      "application/vnd.jupyter.widget-view+json": {
       "model_id": "a411552af71045a1b31c9334565c42e0",
       "version_major": 2,
       "version_minor": 0
      },
      "text/plain": [
       "  0%|          | 0/9 [00:00<?, ?it/s]"
      ]
     },
     "metadata": {},
     "output_type": "display_data"
    },
    {
     "name": "stdout",
     "output_type": "stream",
     "text": [
      "D1 0.3030302764003694 0.08333333244320187 0.3043478220436883\n",
      "D2 0.3043477989603044 0.0 0.0\n",
      "D3 0.11009173251409898 0.0 0.0\n",
      "D4 0.2999999730000019 0.0 0.0\n",
      "D5 0.27450977916186264 0.0873891369805799 0.21235520861893337\n",
      "D6 0.2592592357338838 0.11705071551653196 0.5322580559195531\n",
      "D7 0.05079364581103594 0.0 0.0\n",
      "D8 0.21276593798098847 0.0 0.0\n",
      "D9 0.417910413455115 0.0 0.0\n"
     ]
    }
   ],
   "source": [
    "for loader in [load_ecg]:\n",
    "    datasets = loader(64, 32)\n",
    "    x_trains, x_tests, y_tests = datasets['x_train'], datasets['x_test'], datasets['y_test']\n",
    "    \n",
    "    for i in tqdm(range(len(x_trains))):\n",
    "        X_train = x_trains[i]\n",
    "        X_test = x_tests[i]\n",
    "        \n",
    "        model = LSTM_AE(X_train)\n",
    "        scores = evaluate(X_test, model.predict(X_test), y_tests[i], is_reconstructed=True)\n",
    "\n",
    "        total_scores['dataset'].append(f'D{i+1}')\n",
    "        total_scores['f1'].append(np.max(scores['f1']))\n",
    "        total_scores['pr_auc'].append(scores['pr_auc'])\n",
    "        total_scores['roc_auc'].append(scores['roc_auc'])\n",
    "        print(f'D{i+1}', np.max(scores['f1']), scores['pr_auc'], scores['roc_auc'])  "
   ]
  },
  {
   "cell_type": "code",
   "execution_count": 15,
   "id": "13d2a75e-174e-40b1-af9f-49172966254e",
   "metadata": {},
   "outputs": [
    {
     "data": {
      "text/html": [
       "<div>\n",
       "<style scoped>\n",
       "    .dataframe tbody tr th:only-of-type {\n",
       "        vertical-align: middle;\n",
       "    }\n",
       "\n",
       "    .dataframe tbody tr th {\n",
       "        vertical-align: top;\n",
       "    }\n",
       "\n",
       "    .dataframe thead th {\n",
       "        text-align: right;\n",
       "    }\n",
       "</style>\n",
       "<table border=\"1\" class=\"dataframe\">\n",
       "  <thead>\n",
       "    <tr style=\"text-align: right;\">\n",
       "      <th></th>\n",
       "      <th>f1</th>\n",
       "      <th>pr_auc</th>\n",
       "      <th>roc_auc</th>\n",
       "    </tr>\n",
       "    <tr>\n",
       "      <th>dataset</th>\n",
       "      <th></th>\n",
       "      <th></th>\n",
       "      <th></th>\n",
       "    </tr>\n",
       "  </thead>\n",
       "  <tbody>\n",
       "    <tr>\n",
       "      <th>D1</th>\n",
       "      <td>0.303030</td>\n",
       "      <td>0.083333</td>\n",
       "      <td>0.304348</td>\n",
       "    </tr>\n",
       "    <tr>\n",
       "      <th>D2</th>\n",
       "      <td>0.304348</td>\n",
       "      <td>0.000000</td>\n",
       "      <td>0.000000</td>\n",
       "    </tr>\n",
       "    <tr>\n",
       "      <th>D3</th>\n",
       "      <td>0.110092</td>\n",
       "      <td>0.000000</td>\n",
       "      <td>0.000000</td>\n",
       "    </tr>\n",
       "    <tr>\n",
       "      <th>D4</th>\n",
       "      <td>0.300000</td>\n",
       "      <td>0.000000</td>\n",
       "      <td>0.000000</td>\n",
       "    </tr>\n",
       "    <tr>\n",
       "      <th>D5</th>\n",
       "      <td>0.274510</td>\n",
       "      <td>0.087389</td>\n",
       "      <td>0.212355</td>\n",
       "    </tr>\n",
       "    <tr>\n",
       "      <th>D6</th>\n",
       "      <td>0.259259</td>\n",
       "      <td>0.117051</td>\n",
       "      <td>0.532258</td>\n",
       "    </tr>\n",
       "    <tr>\n",
       "      <th>D7</th>\n",
       "      <td>0.050794</td>\n",
       "      <td>0.000000</td>\n",
       "      <td>0.000000</td>\n",
       "    </tr>\n",
       "    <tr>\n",
       "      <th>D8</th>\n",
       "      <td>0.212766</td>\n",
       "      <td>0.000000</td>\n",
       "      <td>0.000000</td>\n",
       "    </tr>\n",
       "    <tr>\n",
       "      <th>D9</th>\n",
       "      <td>0.417910</td>\n",
       "      <td>0.000000</td>\n",
       "      <td>0.000000</td>\n",
       "    </tr>\n",
       "  </tbody>\n",
       "</table>\n",
       "</div>"
      ],
      "text/plain": [
       "               f1    pr_auc   roc_auc\n",
       "dataset                              \n",
       "D1       0.303030  0.083333  0.304348\n",
       "D2       0.304348  0.000000  0.000000\n",
       "D3       0.110092  0.000000  0.000000\n",
       "D4       0.300000  0.000000  0.000000\n",
       "D5       0.274510  0.087389  0.212355\n",
       "D6       0.259259  0.117051  0.532258\n",
       "D7       0.050794  0.000000  0.000000\n",
       "D8       0.212766  0.000000  0.000000\n",
       "D9       0.417910  0.000000  0.000000"
      ]
     },
     "execution_count": 15,
     "metadata": {},
     "output_type": "execute_result"
    }
   ],
   "source": [
    "ecg_results = pd.DataFrame(total_scores)\n",
    "ecg_results.groupby('dataset').mean()"
   ]
  },
  {
   "cell_type": "markdown",
   "id": "c4cf155c-be8f-4330-8e76-2b7c1ffb149c",
   "metadata": {},
   "source": [
    "### Power Demand"
   ]
  },
  {
   "cell_type": "code",
   "execution_count": 16,
   "id": "ff7d925b-edc4-4d90-9426-41c22979d2e2",
   "metadata": {},
   "outputs": [],
   "source": [
    "total_scores = {'dataset': [], 'f1': [], 'pr_auc': [], 'roc_auc': []}"
   ]
  },
  {
   "cell_type": "code",
   "execution_count": 17,
   "id": "86addec2-c0d8-485f-bf85-81b6b52e6619",
   "metadata": {},
   "outputs": [
    {
     "data": {
      "application/vnd.jupyter.widget-view+json": {
       "model_id": "369c67e3722643f195275747e14f6cdb",
       "version_major": 2,
       "version_minor": 0
      },
      "text/plain": [
       "  0%|          | 0/1 [00:00<?, ?it/s]"
      ]
     },
     "metadata": {},
     "output_type": "display_data"
    },
    {
     "name": "stdout",
     "output_type": "stream",
     "text": [
      "power_demand 0.7499999343750033 0.277777767037037 -0.0\n"
     ]
    }
   ],
   "source": [
    "for loader in [load_power_demand]:\n",
    "    datasets = loader(512, 256)\n",
    "    x_trains, x_tests, y_tests = datasets['x_train'], datasets['x_test'], datasets['y_test']\n",
    "    \n",
    "    for i in tqdm(range(len(x_trains))):\n",
    "        X_train = x_trains[i]\n",
    "        X_test = x_tests[i]\n",
    "        \n",
    "        model = LSTM_AE(X_train)\n",
    "        scores = evaluate(X_test, model.predict(X_test), y_tests[i], is_reconstructed=True)\n",
    "\n",
    "        total_scores['dataset'].append(loader.__name__.replace('load_', ''))\n",
    "        total_scores['f1'].append(np.max(scores['f1']))\n",
    "        total_scores['pr_auc'].append(scores['pr_auc'])\n",
    "        total_scores['roc_auc'].append(scores['roc_auc'])\n",
    "        print(loader.__name__.replace('load_', ''), np.max(scores['f1']), scores['pr_auc'], scores['roc_auc']) "
   ]
  },
  {
   "cell_type": "code",
   "execution_count": 18,
   "id": "700089bc-271e-47fe-91a5-f5ccedf0ee8c",
   "metadata": {},
   "outputs": [
    {
     "data": {
      "text/html": [
       "<div>\n",
       "<style scoped>\n",
       "    .dataframe tbody tr th:only-of-type {\n",
       "        vertical-align: middle;\n",
       "    }\n",
       "\n",
       "    .dataframe tbody tr th {\n",
       "        vertical-align: top;\n",
       "    }\n",
       "\n",
       "    .dataframe thead th {\n",
       "        text-align: right;\n",
       "    }\n",
       "</style>\n",
       "<table border=\"1\" class=\"dataframe\">\n",
       "  <thead>\n",
       "    <tr style=\"text-align: right;\">\n",
       "      <th></th>\n",
       "      <th>f1</th>\n",
       "      <th>pr_auc</th>\n",
       "      <th>roc_auc</th>\n",
       "    </tr>\n",
       "    <tr>\n",
       "      <th>dataset</th>\n",
       "      <th></th>\n",
       "      <th></th>\n",
       "      <th></th>\n",
       "    </tr>\n",
       "  </thead>\n",
       "  <tbody>\n",
       "    <tr>\n",
       "      <th>power_demand</th>\n",
       "      <td>0.75</td>\n",
       "      <td>0.277778</td>\n",
       "      <td>0.0</td>\n",
       "    </tr>\n",
       "  </tbody>\n",
       "</table>\n",
       "</div>"
      ],
      "text/plain": [
       "                f1    pr_auc  roc_auc\n",
       "dataset                              \n",
       "power_demand  0.75  0.277778      0.0"
      ]
     },
     "execution_count": 18,
     "metadata": {},
     "output_type": "execute_result"
    }
   ],
   "source": [
    "power_results = pd.DataFrame(total_scores)\n",
    "power_results.groupby('dataset').mean()"
   ]
  },
  {
   "cell_type": "markdown",
   "id": "2a508aba-ccc0-4579-9cb8-20e786f0d751",
   "metadata": {},
   "source": [
    "### 2D Gesture"
   ]
  },
  {
   "cell_type": "code",
   "execution_count": 19,
   "id": "023c774b-a904-4435-a4b5-4874acde87e4",
   "metadata": {},
   "outputs": [],
   "source": [
    "total_scores = {'dataset': [], 'f1': [], 'pr_auc': [], 'roc_auc': []}"
   ]
  },
  {
   "cell_type": "code",
   "execution_count": 20,
   "id": "33f72604-0e17-4072-af11-99d711528171",
   "metadata": {},
   "outputs": [
    {
     "data": {
      "application/vnd.jupyter.widget-view+json": {
       "model_id": "e7162b50ba2646b0939a02f0d15ccedb",
       "version_major": 2,
       "version_minor": 0
      },
      "text/plain": [
       "  0%|          | 0/1 [00:00<?, ?it/s]"
      ]
     },
     "metadata": {},
     "output_type": "display_data"
    },
    {
     "name": "stdout",
     "output_type": "stream",
     "text": [
      "gesture 0.42201831455264965 0.0 0.0\n"
     ]
    }
   ],
   "source": [
    "for loader in [load_gesture]:\n",
    "    datasets = loader(64, 32)\n",
    "    x_trains, x_tests, y_tests = datasets['x_train'], datasets['x_test'], datasets['y_test']\n",
    "    \n",
    "    for i in tqdm(range(len(x_trains))):\n",
    "        X_train = x_trains[i]\n",
    "        X_test = x_tests[i]\n",
    "\n",
    "        model = LSTM_AE(X_train)\n",
    "        scores = evaluate(X_test, model.predict(X_test), y_tests[i], is_reconstructed=True)\n",
    "\n",
    "        total_scores['dataset'].append(loader.__name__.replace('load_', ''))\n",
    "        total_scores['f1'].append(np.max(scores['f1']))\n",
    "        total_scores['pr_auc'].append(scores['pr_auc'])\n",
    "        total_scores['roc_auc'].append(scores['roc_auc'])\n",
    "        print(loader.__name__.replace('load_', ''), np.max(scores['f1']), scores['pr_auc'], scores['roc_auc'])  "
   ]
  },
  {
   "cell_type": "code",
   "execution_count": 21,
   "id": "e5a16571-9268-4517-9902-cd7ab44b775b",
   "metadata": {},
   "outputs": [
    {
     "data": {
      "text/html": [
       "<div>\n",
       "<style scoped>\n",
       "    .dataframe tbody tr th:only-of-type {\n",
       "        vertical-align: middle;\n",
       "    }\n",
       "\n",
       "    .dataframe tbody tr th {\n",
       "        vertical-align: top;\n",
       "    }\n",
       "\n",
       "    .dataframe thead th {\n",
       "        text-align: right;\n",
       "    }\n",
       "</style>\n",
       "<table border=\"1\" class=\"dataframe\">\n",
       "  <thead>\n",
       "    <tr style=\"text-align: right;\">\n",
       "      <th></th>\n",
       "      <th>f1</th>\n",
       "      <th>pr_auc</th>\n",
       "      <th>roc_auc</th>\n",
       "    </tr>\n",
       "    <tr>\n",
       "      <th>dataset</th>\n",
       "      <th></th>\n",
       "      <th></th>\n",
       "      <th></th>\n",
       "    </tr>\n",
       "  </thead>\n",
       "  <tbody>\n",
       "    <tr>\n",
       "      <th>gesture</th>\n",
       "      <td>0.422018</td>\n",
       "      <td>0.0</td>\n",
       "      <td>0.0</td>\n",
       "    </tr>\n",
       "  </tbody>\n",
       "</table>\n",
       "</div>"
      ],
      "text/plain": [
       "               f1  pr_auc  roc_auc\n",
       "dataset                           \n",
       "gesture  0.422018     0.0      0.0"
      ]
     },
     "execution_count": 21,
     "metadata": {},
     "output_type": "execute_result"
    }
   ],
   "source": [
    "gesture_results = pd.DataFrame(total_scores)\n",
    "gesture_results.groupby('dataset').mean()"
   ]
  }
 ],
 "metadata": {
  "kernelspec": {
   "display_name": "Python 3",
   "language": "python",
   "name": "python3"
  },
  "language_info": {
   "codemirror_mode": {
    "name": "ipython",
    "version": 3
   },
   "file_extension": ".py",
   "mimetype": "text/x-python",
   "name": "python",
   "nbconvert_exporter": "python",
   "pygments_lexer": "ipython3",
   "version": "3.9.4"
  }
 },
 "nbformat": 4,
 "nbformat_minor": 5
}
