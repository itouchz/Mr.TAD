{
 "cells": [
  {
   "cell_type": "code",
   "execution_count": 1,
   "id": "a80a379b-932c-4401-8d76-b5ae5dedc6cc",
   "metadata": {},
   "outputs": [],
   "source": [
    "import os\n",
    "import random\n",
    "\n",
    "os.environ[\"CUDA_DEVICE_ORDER\"] = \"PCI_BUS_ID\";\n",
    "os.environ[\"CUDA_VISIBLE_DEVICES\"] = \"1\"\n",
    "os.environ[\"TF_FORCE_GPU_ALLOW_GROWTH\"] = \"true\""
   ]
  },
  {
   "cell_type": "code",
   "execution_count": 2,
   "id": "saving-behavior",
   "metadata": {},
   "outputs": [],
   "source": [
    "import numpy as np\n",
    "import pandas as pd\n",
    "import tensorflow as tf\n",
    "\n",
    "from evaluator import evaluate\n",
    "from data_loader import load_kdd_cup_urc, load_yahoo_A1, load_yahoo_A2, load_yahoo_A3, load_yahoo_A4, load_power_demand # Univariate Datasets\n",
    "from data_loader import load_nasa, load_ecg, load_gesture, load_smd # Multivariate Datasets\n",
    "\n",
    "from tensorflow import keras\n",
    "from tensorflow.keras import layers\n",
    "from tqdm.notebook import tqdm\n",
    "\n",
    "# THESE LINES ARE FOR REPRODUCIBILITY\n",
    "random.seed(0)\n",
    "np.random.seed(0)\n",
    "tf.random.set_seed(0)"
   ]
  },
  {
   "cell_type": "code",
   "execution_count": 3,
   "id": "49c0a8e3-705d-429b-b7a0-c3c26a3a7b2b",
   "metadata": {},
   "outputs": [],
   "source": [
    "def train_gan(gan, dataset, batch_size, codings_size, dim, n_epochs=50):\n",
    "    generator, discriminator = gan.layers\n",
    "    for epoch in range(n_epochs):\n",
    "        for X_batch in dataset:\n",
    "            X_batch = tf.cast(X_batch, tf.float32)\n",
    "            # phase 1 - training the discriminator\n",
    "            noise = tf.random.normal(shape=[batch_size, codings_size, dim])\n",
    "            generated_images = generator(noise)\n",
    "            X_fake_and_real = tf.concat([generated_images, X_batch], axis=0)\n",
    "            y1 = tf.constant([[0.]] * batch_size + [[1.]] * batch_size)\n",
    "            discriminator.trainable = True\n",
    "            discriminator.train_on_batch(X_fake_and_real, y1)\n",
    "            # phase 2 - training the generator\n",
    "            noise = tf.random.normal(shape=[batch_size, codings_size, dim])\n",
    "            y2 = tf.constant([[1.]] * batch_size)\n",
    "            discriminator.trainable = False\n",
    "            gan.train_on_batch(noise, y2)\n",
    "            \n",
    "def get_gan(x_train):\n",
    "    generator = keras.models.Sequential([\n",
    "        layers.InputLayer(input_shape=(x_train.shape[1], x_train.shape[2])),\n",
    "        layers.LSTM(128, return_sequences=True),\n",
    "        layers.Dropout(rate=0.2),\n",
    "        layers.LSTM(64),\n",
    "        layers.RepeatVector(x_train.shape[1]),\n",
    "        layers.LSTM(64, return_sequences=True),\n",
    "        layers.Dropout(rate=0.2),\n",
    "        layers.LSTM(128),\n",
    "        layers.Dense(x_train.shape[1] * x_train.shape[2]),\n",
    "        layers.Reshape([x_train.shape[1], x_train.shape[2]])\n",
    "    ])\n",
    "\n",
    "    discriminator = keras.models.Sequential([\n",
    "        layers.InputLayer(input_shape=(x_train.shape[1], x_train.shape[2])),\n",
    "        keras.layers.LSTM(64, return_sequences=True),\n",
    "        keras.layers.Dropout(0.2),\n",
    "        keras.layers.LSTM(64),\n",
    "        keras.layers.Dropout(0.2),\n",
    "        keras.layers.Dense(1, activation=\"sigmoid\")\n",
    "    ])\n",
    "\n",
    "    gan = keras.models.Sequential([generator, discriminator])\n",
    "\n",
    "    discriminator.compile(loss=\"binary_crossentropy\", optimizer=\"adam\")\n",
    "    discriminator.trainable = False\n",
    "    gan.compile(loss=\"binary_crossentropy\", optimizer=\"adam\")\n",
    "    return gan"
   ]
  },
  {
   "cell_type": "markdown",
   "id": "fa97c067-d18d-4c06-ae1b-2cbfe88788b6",
   "metadata": {},
   "source": [
    "### Yahoo S5"
   ]
  },
  {
   "cell_type": "code",
   "execution_count": 4,
   "id": "eight-partition",
   "metadata": {},
   "outputs": [],
   "source": [
    "total_scores = {'dataset': [], 'f1': [], 'pr_auc': [], 'roc_auc': []}"
   ]
  },
  {
   "cell_type": "code",
   "execution_count": 5,
   "id": "71866d92-1163-4975-bb99-4302ccda66c3",
   "metadata": {
    "scrolled": true,
    "tags": []
   },
   "outputs": [
    {
     "data": {
      "application/vnd.jupyter.widget-view+json": {
       "model_id": "32e368fd3964459298f47a092b8b76a1",
       "version_major": 2,
       "version_minor": 0
      },
      "text/plain": [
       "  0%|          | 0/67 [00:00<?, ?it/s]"
      ]
     },
     "metadata": {},
     "output_type": "display_data"
    },
    {
     "data": {
      "application/vnd.jupyter.widget-view+json": {
       "model_id": "169cb104352040f09558112ac0be60c3",
       "version_major": 2,
       "version_minor": 0
      },
      "text/plain": [
       "  0%|          | 0/67 [00:00<?, ?it/s]"
      ]
     },
     "metadata": {},
     "output_type": "display_data"
    },
    {
     "name": "stdout",
     "output_type": "stream",
     "text": [
      "yahoo_A1 0.399999960000002 0.0833333340277771 0.24999997500000232\n",
      "yahoo_A1 0.0 0.0 -0.0\n",
      "yahoo_A1 0.9999998500000123 0.49999990000001493 0.9999998888889001\n",
      "yahoo_A1 0.0 0.0 -0.0\n",
      "WARNING:tensorflow:5 out of the last 5 calls to <function Model.make_predict_function.<locals>.predict_function at 0x7ff30019f0d0> triggered tf.function retracing. Tracing is expensive and the excessive number of tracings could be due to (1) creating @tf.function repeatedly in a loop, (2) passing tensors with different shapes, (3) passing Python objects instead of tensors. For (1), please define your @tf.function outside of the loop. For (2), @tf.function has experimental_relax_shapes=True option that relaxes argument shapes that can avoid unnecessary retracing. For (3), please refer to https://www.tensorflow.org/guide/function#controlling_retracing and https://www.tensorflow.org/api_docs/python/tf/function for  more details.\n",
      "yahoo_A1 0.0 0.0 -0.0\n",
      "WARNING:tensorflow:6 out of the last 6 calls to <function Model.make_predict_function.<locals>.predict_function at 0x7ff288346dc0> triggered tf.function retracing. Tracing is expensive and the excessive number of tracings could be due to (1) creating @tf.function repeatedly in a loop, (2) passing tensors with different shapes, (3) passing Python objects instead of tensors. For (1), please define your @tf.function outside of the loop. For (2), @tf.function has experimental_relax_shapes=True option that relaxes argument shapes that can avoid unnecessary retracing. For (3), please refer to https://www.tensorflow.org/guide/function#controlling_retracing and https://www.tensorflow.org/api_docs/python/tf/function for  more details.\n",
      "yahoo_A1 0.0 0.0 -0.0\n",
      "yahoo_A1 0.0 0.0 -0.0\n",
      "yahoo_A1 0.46153841893491365 0.14999999350000026 0.49999997619047704\n",
      "yahoo_A1 0.6666666133333363 0.7374999426875043 0.774999966625001\n",
      "yahoo_A1 0.0 0.0 -0.0\n",
      "yahoo_A1 0.6666666133333363 0.7055555016296338 0.7666666319444456\n",
      "yahoo_A1 0.33333330000000166 0.09999999400000033 0.49999996875000174\n",
      "yahoo_A1 0.8749999398437528 0.5833333087962973 0.32142855076530724\n",
      "yahoo_A1 0.6666666133333363 0.6999999340000063 0.5999999760000007\n",
      "yahoo_A1 0.9999999000000052 0.49999995000000386 0.9999999375000035\n",
      "yahoo_A1 0.18181816198347142 0.049999994500000554 -0.0\n",
      "yahoo_A1 0.2222221975308647 0.06249999296875071 -0.0\n",
      "yahoo_A1 0.18181816198347142 0.049999994500000554 0.49999994444445006\n",
      "yahoo_A1 0.6666666133333363 0.3284722104122303 0.23499998972500033\n",
      "yahoo_A1 0.6153845633136124 0.08333334384093748 -0.0\n",
      "yahoo_A1 0.5999999460000028 0.10000000768253806 -0.0\n",
      "yahoo_A1 0.749999943750003 0.10000001611639998 -0.0\n",
      "yahoo_A1 0.0 0.0 -0.0\n",
      "yahoo_A1 0.0 0.0 -0.0\n",
      "yahoo_A1 0.8571427836734729 0.5781249719661469 0.8749999514583353\n",
      "yahoo_A1 0.9230768591716004 0.8357142453390041 0.9285713843537432\n",
      "yahoo_A1 0.0 0.0 -0.0\n",
      "yahoo_A1 0.7272726677685981 0.1250000138392832 -0.0\n",
      "yahoo_A1 0.0 0.0 -0.0\n",
      "yahoo_A1 0.0 0.0 -0.0\n",
      "yahoo_A1 0.6666666133333363 0.69851185266908 0.7299999695500009\n",
      "yahoo_A1 0.6666666133333363 0.15416666912566074 0.299999974000002\n",
      "yahoo_A1 0.4444444000000022 0.08333333492063408 -0.0\n",
      "yahoo_A1 0.18181816198347142 0.049999994500000554 0.4444443950617334\n",
      "yahoo_A1 0.9999999357142885 0.944444393804645 0.0\n",
      "yahoo_A1 0.399999960000002 0.12499999218750044 0.1666666555555562\n",
      "yahoo_A1 0.33333330000000166 0.09999999400000033 0.49999996875000174\n",
      "yahoo_A1 0.5714285224489823 0.2329364991465422 0.2638888732638897\n",
      "yahoo_A1 0.0 0.0 -0.0\n",
      "yahoo_A1 0.399999960000002 0.12499999218750044 0.49999996666666857\n",
      "yahoo_A1 0.4999999500000025 0.10000000133333238 -0.0\n",
      "yahoo_A1 0.28571425306122533 0.08333332361111209 -0.0\n",
      "yahoo_A1 0.0 0.0 -0.0\n",
      "yahoo_A1 0.0 0.0 -0.0\n",
      "yahoo_A1 0.0 0.0 -0.0\n",
      "yahoo_A1 0.0 0.0 -0.0\n",
      "yahoo_A1 0.4444444000000022 0.1428571336734699 -0.0\n",
      "yahoo_A1 0.666666611111114 0.10000001155158537 -0.0\n",
      "yahoo_A1 0.2222221975308647 0.06249999296875071 -0.0\n",
      "yahoo_A1 0.0 0.0 -0.0\n",
      "yahoo_A1 0.7499999343750033 0.1666666744444422 -0.0\n",
      "yahoo_A1 0.8571427959183704 0.7777777031481558 0.9166665861111167\n",
      "yahoo_A1 0.5999999460000028 0.10000000895237908 -0.0\n",
      "yahoo_A1 0.18181816198347142 0.049999994500000554 0.49999994444445006\n",
      "yahoo_A1 0.0 0.0 -0.0\n",
      "yahoo_A1 0.0 0.0 -0.0\n",
      "yahoo_A1 0.5714285224489823 0.4624999650625026 0.5624999765625007\n",
      "yahoo_A1 0.0 0.0 -0.0\n",
      "yahoo_A1 0.0 0.0 -0.0\n",
      "yahoo_A1 0.0 0.0 -0.0\n",
      "yahoo_A1 0.0 0.0 -0.0\n",
      "yahoo_A1 0.749999943750003 0.3916666529583338 0.3749999833333339\n",
      "yahoo_A1 0.5714285224489823 0.1999999930000002 0.49999997916666733\n",
      "yahoo_A1 0.18181816198347142 0.049999994500000554 0.49999994444445006\n",
      "yahoo_A1 0.9999999166666703 0.8333332222222364 0.9999999523809541\n",
      "yahoo_A1 0.6666666133333363 0.24999999250000018 0.3999999840000004\n",
      "yahoo_A1 0.399999960000002 0.07142857308673395 -0.0\n"
     ]
    },
    {
     "data": {
      "application/vnd.jupyter.widget-view+json": {
       "model_id": "97a2e852dbd244248b6024a10a1a7321",
       "version_major": 2,
       "version_minor": 0
      },
      "text/plain": [
       "  0%|          | 0/100 [00:00<?, ?it/s]"
      ]
     },
     "metadata": {},
     "output_type": "display_data"
    },
    {
     "data": {
      "application/vnd.jupyter.widget-view+json": {
       "model_id": "bea3526e22454328af8527ca69216576",
       "version_major": 2,
       "version_minor": 0
      },
      "text/plain": [
       "  0%|          | 0/100 [00:00<?, ?it/s]"
      ]
     },
     "metadata": {},
     "output_type": "display_data"
    },
    {
     "name": "stdout",
     "output_type": "stream",
     "text": [
      "yahoo_A2 0.0 0.0 -0.0\n",
      "yahoo_A2 0.0 0.0 -0.0\n",
      "yahoo_A2 0.0 0.0 -0.0\n",
      "yahoo_A2 0.0 0.0 -0.0\n",
      "yahoo_A2 0.0 0.0 -0.0\n",
      "yahoo_A2 0.0 0.0 -0.0\n",
      "yahoo_A2 0.0 0.0 -0.0\n",
      "yahoo_A2 0.0 0.0 -0.0\n",
      "yahoo_A2 0.0 0.0 -0.0\n",
      "yahoo_A2 0.0 0.0 -0.0\n",
      "yahoo_A2 0.0 0.0 -0.0\n",
      "yahoo_A2 0.0 0.0 -0.0\n",
      "yahoo_A2 0.0 0.0 -0.0\n",
      "yahoo_A2 0.0 0.0 -0.0\n",
      "yahoo_A2 0.0 0.0 -0.0\n",
      "yahoo_A2 0.0 0.0 -0.0\n",
      "yahoo_A2 0.0 0.0 -0.0\n",
      "yahoo_A2 0.0 0.0 -0.0\n",
      "yahoo_A2 0.0 0.0 -0.0\n",
      "yahoo_A2 0.0 0.0 -0.0\n",
      "yahoo_A2 0.0 0.0 -0.0\n",
      "yahoo_A2 0.0 0.0 -0.0\n",
      "yahoo_A2 0.0 0.0 -0.0\n",
      "yahoo_A2 0.0 0.0 -0.0\n",
      "yahoo_A2 0.0 0.0 -0.0\n",
      "yahoo_A2 0.0 0.0 -0.0\n",
      "yahoo_A2 0.0 0.0 -0.0\n",
      "yahoo_A2 0.0 0.0 -0.0\n",
      "yahoo_A2 0.0 0.0 -0.0\n",
      "yahoo_A2 0.0 0.0 -0.0\n",
      "yahoo_A2 0.0 0.0 -0.0\n",
      "yahoo_A2 0.0 0.0 -0.0\n",
      "yahoo_A2 0.0 0.0 -0.0\n",
      "yahoo_A2 0.0 0.0 -0.0\n",
      "yahoo_A2 0.0 0.0 -0.0\n",
      "yahoo_A2 0.0 0.0 -0.0\n",
      "yahoo_A2 0.0 0.0 -0.0\n",
      "yahoo_A2 0.0 0.0 -0.0\n",
      "yahoo_A2 0.0 0.0 -0.0\n",
      "yahoo_A2 0.0 0.0 -0.0\n",
      "yahoo_A2 0.0 0.0 -0.0\n",
      "yahoo_A2 0.0 0.0 -0.0\n",
      "yahoo_A2 0.0 0.0 -0.0\n",
      "yahoo_A2 0.0 0.0 -0.0\n",
      "yahoo_A2 0.0 0.0 -0.0\n",
      "yahoo_A2 0.0 0.0 -0.0\n",
      "yahoo_A2 0.0 0.0 -0.0\n",
      "yahoo_A2 0.0 0.0 -0.0\n",
      "yahoo_A2 0.0 0.0 -0.0\n",
      "yahoo_A2 0.0 0.0 -0.0\n",
      "yahoo_A2 0.0 0.0 -0.0\n",
      "yahoo_A2 0.0 0.0 -0.0\n",
      "yahoo_A2 0.0 0.0 -0.0\n",
      "yahoo_A2 0.0 0.0 -0.0\n",
      "yahoo_A2 0.0 0.0 -0.0\n",
      "yahoo_A2 0.0 0.0 -0.0\n",
      "yahoo_A2 0.0 0.0 -0.0\n",
      "yahoo_A2 0.0 0.0 -0.0\n",
      "yahoo_A2 0.0 0.0 -0.0\n",
      "yahoo_A2 0.0 0.0 -0.0\n",
      "yahoo_A2 0.0 0.0 -0.0\n",
      "yahoo_A2 0.0 0.0 -0.0\n",
      "yahoo_A2 0.0 0.0 -0.0\n",
      "yahoo_A2 0.0 0.0 -0.0\n",
      "yahoo_A2 0.0 0.0 -0.0\n",
      "yahoo_A2 0.0 0.0 -0.0\n",
      "yahoo_A2 0.0 0.0 -0.0\n",
      "yahoo_A2 0.0 0.0 -0.0\n",
      "yahoo_A2 0.0 0.0 -0.0\n",
      "yahoo_A2 0.0 0.0 -0.0\n",
      "yahoo_A2 0.0 0.0 -0.0\n",
      "yahoo_A2 0.0 0.0 -0.0\n",
      "yahoo_A2 0.0 0.0 -0.0\n",
      "yahoo_A2 0.0 0.0 -0.0\n",
      "yahoo_A2 0.0 0.0 -0.0\n",
      "yahoo_A2 0.0 0.0 -0.0\n",
      "yahoo_A2 0.0 0.0 -0.0\n",
      "yahoo_A2 0.0 0.0 -0.0\n",
      "yahoo_A2 0.0 0.0 -0.0\n",
      "yahoo_A2 0.0 0.0 -0.0\n",
      "yahoo_A2 0.0 0.0 -0.0\n",
      "yahoo_A2 0.0 0.0 -0.0\n",
      "yahoo_A2 0.0 0.0 -0.0\n",
      "yahoo_A2 0.0 0.0 -0.0\n",
      "yahoo_A2 0.0 0.0 -0.0\n",
      "yahoo_A2 0.0 0.0 -0.0\n",
      "yahoo_A2 0.0 0.0 -0.0\n",
      "yahoo_A2 0.0 0.0 -0.0\n",
      "yahoo_A2 0.0 0.0 -0.0\n",
      "yahoo_A2 0.0 0.0 -0.0\n",
      "yahoo_A2 0.0 0.0 -0.0\n",
      "yahoo_A2 0.0 0.0 -0.0\n",
      "yahoo_A2 0.0 0.0 -0.0\n",
      "yahoo_A2 0.0 0.0 -0.0\n",
      "yahoo_A2 0.0 0.0 -0.0\n",
      "yahoo_A2 0.0 0.0 -0.0\n",
      "yahoo_A2 0.0 0.0 -0.0\n",
      "yahoo_A2 0.0 0.0 -0.0\n",
      "yahoo_A2 0.0 0.0 -0.0\n",
      "yahoo_A2 0.0 0.0 -0.0\n"
     ]
    },
    {
     "data": {
      "application/vnd.jupyter.widget-view+json": {
       "model_id": "a0fad1897ff04c34876f32c2cc023d6c",
       "version_major": 2,
       "version_minor": 0
      },
      "text/plain": [
       "  0%|          | 0/100 [00:00<?, ?it/s]"
      ]
     },
     "metadata": {},
     "output_type": "display_data"
    },
    {
     "data": {
      "application/vnd.jupyter.widget-view+json": {
       "model_id": "1957422167b949018c54b7e32d83d39c",
       "version_major": 2,
       "version_minor": 0
      },
      "text/plain": [
       "  0%|          | 0/100 [00:00<?, ?it/s]"
      ]
     },
     "metadata": {},
     "output_type": "display_data"
    },
    {
     "name": "stdout",
     "output_type": "stream",
     "text": [
      "yahoo_A3 0.33333330000000166 0.10714285089002298 0.24999997187500275\n",
      "yahoo_A3 0.2222221975308647 0.11408728771790108 0.11904761218820895\n",
      "yahoo_A3 0.6666666133333363 0.08333334744212759 -0.0\n",
      "yahoo_A3 0.4999999562500026 0.0555555638271593 -0.0\n",
      "yahoo_A3 0.7272726677685981 0.19999999796428533 -0.0\n",
      "yahoo_A3 0.33333330000000166 0.055555557160493235 -0.0\n",
      "yahoo_A3 0.7058822989619408 0.08333334794447264 -0.0\n",
      "yahoo_A3 0.49999995416666926 0.21428570366496638 0.3611110888888901\n",
      "yahoo_A3 0.5999999460000028 0.10000000768253806 -0.0\n",
      "yahoo_A3 0.0 0.0 -0.0\n",
      "yahoo_A3 0.9411764096885841 0.9136904126367684 0.8571427563265408\n",
      "yahoo_A3 0.9411764096885841 0.6027777485482548 0.11805554235146738\n",
      "yahoo_A3 0.7777777216049413 0.18988095947960348 0.038690474620890064\n",
      "yahoo_A3 0.24999997187500062 0.07142856326530694 0.3999999560000044\n",
      "yahoo_A3 0.6666666133333363 0.08333334640872832 -0.0\n",
      "yahoo_A3 0.15384613727810673 0.04166666215277823 -0.0\n",
      "yahoo_A3 0.8749999398437528 0.16666668744377994 -0.0\n",
      "yahoo_A3 0.4285713887755125 0.05555556109988678 -0.0\n",
      "yahoo_A3 0.4999999562500026 0.05555556362513912 -0.0\n",
      "yahoo_A3 0.2222221975308647 0.06249999296875071 -0.0\n",
      "yahoo_A3 0.16666664861111138 0.045454540495868265 -0.0\n",
      "yahoo_A3 0.16666664861111138 0.045454540495868265 -0.0\n",
      "yahoo_A3 0.6666666133333363 0.08333334625991881 -0.0\n",
      "yahoo_A3 0.9230768591716004 0.2500000168313458 -0.0\n",
      "yahoo_A3 0.3999999626666689 0.05000000514393849 -0.0\n",
      "yahoo_A3 0.33333330000000166 0.055555557160493235 -0.0\n",
      "yahoo_A3 0.6666666133333363 0.17430555757704952 0.141666660152778\n",
      "yahoo_A3 0.5333332871111137 0.06250000876630762 -0.0\n",
      "yahoo_A3 0.0 0.0 -0.0\n",
      "yahoo_A3 0.19999997800000044 0.055555549382716674 -0.0\n",
      "yahoo_A3 0.5714285224489823 0.0714285810033999 -0.0\n",
      "yahoo_A3 0.8235293536332209 0.20833333949900681 0.055555551851852035\n",
      "yahoo_A3 0.0 0.0 -0.0\n",
      "yahoo_A3 0.9999999333333361 0.49999998333333373 0.0\n",
      "yahoo_A3 0.933333271111114 0.33333333285317396 -0.0\n",
      "yahoo_A3 0.6153845633136124 0.21651785016312963 -0.0\n",
      "yahoo_A3 0.9230768591716004 0.6212120749803272 0.3333332888888937\n",
      "yahoo_A3 0.7499999343750033 0.27777777191798897 0.333333312500001\n",
      "yahoo_A3 0.8888888296296326 0.2500000048465601 -0.0\n",
      "yahoo_A3 0.7272726677685981 0.12500001258928345 -0.0\n",
      "yahoo_A3 0.749999943750003 0.10000001611639997 -0.0\n",
      "yahoo_A3 0.4444444000000022 0.08333333492063408 -0.0\n",
      "yahoo_A3 0.8571427959183704 0.16666668575396523 -0.0\n",
      "yahoo_A3 0.0 0.0 -0.0\n",
      "yahoo_A3 0.9999999333333361 0.49999998333333373 0.0\n",
      "yahoo_A3 0.0 0.0 -0.0\n",
      "yahoo_A3 0.33333330000000166 0.09999999400000033 -0.0\n",
      "yahoo_A3 0.5714285142857172 0.1250000006249989 -0.0\n",
      "yahoo_A3 0.0 0.0 -0.0\n",
      "yahoo_A3 0.9411764096885841 0.2500000204822102 -0.0\n",
      "yahoo_A3 0.9999999357142885 0.7499999440476242 0.0\n",
      "yahoo_A3 0.7692307100591745 0.2291666647123012 0.24999997083333614\n",
      "yahoo_A3 0.0 0.0 -0.0\n",
      "yahoo_A3 0.0 0.0 -0.0\n",
      "yahoo_A3 0.3999999626666689 0.05000000514393849 -0.0\n",
      "yahoo_A3 0.46153841893491365 0.06250000600115631 -0.0\n",
      "yahoo_A3 0.49999995416666926 0.07142857794784456 -0.0\n",
      "yahoo_A3 0.4999999500000025 0.166666657777778 0.5999999380000057\n",
      "yahoo_A3 0.7999999413333363 0.1666666817774147 0.49999996458333584\n",
      "yahoo_A3 0.9473683612188393 0.2500000217817425 -0.0\n",
      "yahoo_A3 0.7272726677685981 0.12500001258928345 0.16666664444444682\n",
      "yahoo_A3 0.24999997187500062 0.07142856326530694 -0.0\n",
      "yahoo_A3 0.7999999413333363 0.20833334046130805 0.16666665277777867\n",
      "yahoo_A3 0.4285713887755125 0.09374999960779642 0.12499998593750138\n",
      "yahoo_A3 0.8888888296296326 0.2500000080092579 0.4999999250000088\n",
      "yahoo_A3 0.9411764096885841 0.41666665658085356 -0.0\n",
      "yahoo_A3 0.666666611111114 0.23958332513888908 0.3437499625000036\n",
      "yahoo_A3 0.7272726677685981 0.29166665585317486 0.24999998194444545\n",
      "yahoo_A3 0.33333330000000166 0.055555557160493235 -0.0\n",
      "yahoo_A3 0.7142856581632683 0.1000000141904741 -0.0\n",
      "yahoo_A3 0.0 0.0 -0.0\n",
      "yahoo_A3 0.8235293536332209 0.12500001940475927 -0.0\n",
      "yahoo_A3 0.0 0.0 -0.0\n",
      "yahoo_A3 0.7999999413333363 0.29999999360813495 -0.0\n",
      "yahoo_A3 0.399999960000002 0.07142857308673395 -0.0\n",
      "yahoo_A3 0.9999999388888916 0.49999998888888914 0.0\n",
      "yahoo_A3 0.8749999398437528 0.629285682540001 0.2678571258609703\n",
      "yahoo_A3 0.2222221975308647 0.06249999296875071 0.2999999670000033\n",
      "yahoo_A3 0.5999999460000028 0.305555538525133 0.46666664177777883\n",
      "yahoo_A3 0.6249999492187529 0.10000000966017168 0.3333333041666692\n",
      "yahoo_A3 0.666666611111114 0.10000001155158537 -0.0\n",
      "yahoo_A3 0.6249999492187529 0.1785714265110285 -0.0\n",
      "yahoo_A3 0.19999997800000044 0.055555549382716674 -0.0\n",
      "yahoo_A3 0.4285713887755125 0.11160714132938092 0.15624998789062589\n",
      "yahoo_A3 0.33333329444444565 0.09999998800000123 -0.0\n",
      "yahoo_A3 0.46153841893491365 0.10267857121958815 0.10714284668367437\n",
      "yahoo_A3 0.33333330000000166 0.055555557160493235 -0.0\n",
      "yahoo_A3 0.7692307100591745 0.23611111030092527 0.16666665277777867\n",
      "yahoo_A3 0.8333332708333363 0.34166665616468267 -0.0\n",
      "yahoo_A3 0.7142856581632683 0.1000000141904741 -0.0\n",
      "yahoo_A3 0.7272726677685981 0.20833333272817386 0.055555551851852035\n",
      "yahoo_A3 0.24999997187500062 0.07142856326530694 -0.0\n",
      "yahoo_A3 0.5333332871111137 0.06250001129261189 -0.0\n",
      "yahoo_A3 0.6249999492187529 0.0714285831397634 -0.0\n",
      "yahoo_A3 0.2222221975308647 0.06249999296875071 -0.0\n",
      "yahoo_A3 0.8888888296296326 0.4191666563074077 -0.0\n",
      "yahoo_A3 0.9999998500000123 0.8333331809199372 0.9999999214285775\n",
      "yahoo_A3 0.399999960000002 0.24166664780555672 0.458333297222225\n",
      "yahoo_A3 0.7058822989619408 0.23055555193455382 0.29999998233333414\n",
      "yahoo_A3 0.5714285224489823 0.1250000095833314 0.6249999703125012\n"
     ]
    },
    {
     "data": {
      "application/vnd.jupyter.widget-view+json": {
       "model_id": "b274335e153c4903a60856a15f0913ca",
       "version_major": 2,
       "version_minor": 0
      },
      "text/plain": [
       "  0%|          | 0/100 [00:00<?, ?it/s]"
      ]
     },
     "metadata": {},
     "output_type": "display_data"
    },
    {
     "data": {
      "application/vnd.jupyter.widget-view+json": {
       "model_id": "f90ba43758c145dc9d24f33e142ca65e",
       "version_major": 2,
       "version_minor": 0
      },
      "text/plain": [
       "  0%|          | 0/100 [00:00<?, ?it/s]"
      ]
     },
     "metadata": {},
     "output_type": "display_data"
    },
    {
     "name": "stdout",
     "output_type": "stream",
     "text": [
      "yahoo_A4 0.399999960000002 0.07142857308673395 -0.0\n",
      "yahoo_A4 0.0 0.0 -0.0\n",
      "yahoo_A4 0.3636363272727291 0.07142857239228963 0.24999998125000128\n",
      "yahoo_A4 0.399999960000002 0.07142857308673395 -0.0\n",
      "yahoo_A4 0.33333330000000166 0.055555557160493235 0.06249999296875069\n",
      "yahoo_A4 0.8888888296296326 0.2500000048263881 -0.0\n",
      "yahoo_A4 0.6666666133333363 0.08333334744212757 -0.0\n",
      "yahoo_A4 0.4285713887755125 0.05555556109988678 -0.0\n",
      "yahoo_A4 0.0 0.0 -0.0\n",
      "yahoo_A4 0.5882352456747433 0.28253966584232754 0.4809523524784594\n",
      "yahoo_A4 0.0 0.0 -0.0\n",
      "yahoo_A4 0.8749999398437528 0.1666666874693846 -0.0\n",
      "yahoo_A4 0.6666666133333363 0.14285714495488425 -0.0\n",
      "yahoo_A4 0.8749999398437528 0.5416666235449782 0.45833328888889224\n",
      "yahoo_A4 0.399999960000002 0.07142857308673395 -0.0\n",
      "yahoo_A4 0.5454544958677713 0.1555555531488091 0.053333330755555644\n",
      "yahoo_A4 0.0 0.0 -0.0\n",
      "yahoo_A4 0.18181816198347142 0.049999994500000554 -0.0\n",
      "yahoo_A4 0.15384613727810673 0.04166666215277823 -0.0\n",
      "yahoo_A4 0.33333330000000166 0.10416666151041681 0.2812499761718769\n",
      "yahoo_A4 0.7999999360000031 0.24999999777777704 -0.0\n",
      "yahoo_A4 0.7692307100591745 0.4542261708898746 0.23333332005555613\n",
      "yahoo_A4 0.9999999388888916 0.49999998888888914 0.0\n",
      "yahoo_A4 0.9090908429752097 0.2500000140138856 -0.0\n",
      "yahoo_A4 0.4285713887755125 0.05555556109988678 -0.0\n",
      "yahoo_A4 0.5454544958677713 0.08333334042658588 -0.0\n",
      "yahoo_A4 0.5999999460000028 0.18888888442328006 0.16666665694444488\n",
      "yahoo_A4 0.19999997800000044 0.055555549382716674 -0.0\n",
      "yahoo_A4 0.6249999492187529 0.1445436537480409 0.13055554981944464\n",
      "yahoo_A4 0.5999999460000028 0.23333332223809564 -0.0\n",
      "yahoo_A4 0.9999999357142885 0.49999998571428594 0.0\n",
      "yahoo_A4 0.0 0.0 -0.0\n",
      "yahoo_A4 0.33333330000000166 0.055555557160493235 -0.0\n",
      "yahoo_A4 0.8235293536332209 0.2499999979047619 0.33333328888889363\n",
      "yahoo_A4 0.933333271111114 0.2500000188934205 -0.0\n",
      "yahoo_A4 0.15384613727810673 0.04166666215277823 -0.0\n",
      "yahoo_A4 0.5714285224489823 0.0714285810033999 -0.0\n",
      "yahoo_A4 0.4285713887755125 0.05555556109988678 -0.0\n",
      "yahoo_A4 0.46153841893491365 0.06250000600115631 -0.0\n",
      "yahoo_A4 0.799999944000003 0.10000001875528879 -0.0\n",
      "yahoo_A4 0.842105205540169 0.5623015630679211 0.5763888550636589\n",
      "yahoo_A4 0.6153845633136124 0.10000000843650649 0.19999997600000247\n",
      "yahoo_A4 0.0 0.0 -0.0\n",
      "yahoo_A4 0.8749999398437528 0.5089285494466895 0.1964285590242354\n",
      "yahoo_A4 0.6666666133333363 0.21626983636644942 0.2999999790000012\n",
      "yahoo_A4 0.0 0.0 -0.0\n",
      "yahoo_A4 0.46153841893491365 0.24999997761574286 0.6666665920634993\n",
      "yahoo_A4 0.0 0.0 -0.0\n",
      "yahoo_A4 0.8749999398437528 0.1666666874603143 -0.0\n",
      "yahoo_A4 0.0 0.0 -0.0\n",
      "yahoo_A4 0.0 0.0 -0.0\n",
      "yahoo_A4 0.0 0.0 -0.0\n",
      "yahoo_A4 0.749999943750003 0.10000001611639997 -0.0\n",
      "yahoo_A4 0.4999999562500026 0.24999998268097776 0.6666666006944506\n",
      "yahoo_A4 0.3636363272727291 0.0625000016493049 -0.0\n",
      "yahoo_A4 0.0 0.0 -0.0\n",
      "yahoo_A4 0.33333330000000166 0.1502976086316616 0.4062499605468787\n",
      "yahoo_A4 0.399999960000002 0.14999998932142927 0.3333332944444484\n",
      "yahoo_A4 0.4285713887755125 0.05555556109988678 -0.0\n",
      "yahoo_A4 0.6666666133333363 0.08333334620204845 -0.0\n",
      "yahoo_A4 0.7058822989619408 0.08333334815115251 -0.0\n",
      "yahoo_A4 0.0 0.0 -0.0\n",
      "yahoo_A4 0.666666611111114 0.10000001155158537 -0.0\n",
      "yahoo_A4 0.0 0.0 -0.0\n",
      "yahoo_A4 0.6666666133333363 0.21918650367570852 0.1549999934250002\n",
      "yahoo_A4 0.4285713887755125 0.05555556109988678 -0.0\n",
      "yahoo_A4 0.18181816198347142 0.049999994500000554 -0.0\n",
      "yahoo_A4 0.8571427959183704 0.25000000158730096 -0.0\n",
      "yahoo_A4 0.49999995416666926 0.07142857913832053 -0.0\n",
      "yahoo_A4 0.399999960000002 0.07142857308673395 -0.0\n",
      "yahoo_A4 0.0 0.0 -0.0\n",
      "yahoo_A4 0.4285713887755125 0.1250000008143931 0.6249999515625035\n",
      "yahoo_A4 0.2222221975308647 0.09821427326211868 0.2777777496913607\n",
      "yahoo_A4 0.7142856581632683 0.1000000141904741 -0.0\n",
      "yahoo_A4 0.399999960000002 0.07142857308673395 -0.0\n",
      "yahoo_A4 0.8235293536332209 0.1250000193601164 -0.0\n",
      "yahoo_A4 0.7999999413333363 0.2857142796336452 -0.0\n",
      "yahoo_A4 0.0 0.0 -0.0\n",
      "yahoo_A4 0.7692307100591745 0.12500001575892608 -0.0\n",
      "yahoo_A4 0.18181816198347142 0.049999994500000554 -0.0\n",
      "yahoo_A4 0.49999995416666926 0.07142857794784456 -0.0\n",
      "yahoo_A4 0.0 0.0 -0.0\n",
      "yahoo_A4 0.0 0.0 -0.0\n",
      "yahoo_A4 0.39999995200000177 0.12499999142045509 0.6666665925926001\n",
      "yahoo_A4 0.6666666148148177 0.07142858473067244 -0.0\n",
      "yahoo_A4 0.7999999413333363 0.2000000031081343 -0.0\n",
      "yahoo_A4 0.28571425714285853 0.04545454693526121 -0.0\n",
      "yahoo_A4 0.8571427959183704 0.16666668675793328 -0.0\n",
      "yahoo_A4 0.7272726677685981 0.12500001258928345 -0.0\n",
      "yahoo_A4 0.0 0.0 -0.0\n",
      "yahoo_A4 0.666666611111114 0.10000001155158537 -0.0\n",
      "yahoo_A4 0.6666666074074105 0.2916666513888895 0.43749997343750124\n",
      "yahoo_A4 0.8888888197530895 0.7108134414565258 0.6130951932256262\n",
      "yahoo_A4 0.6666666148148177 0.0714285847912785 -0.0\n",
      "yahoo_A4 0.46153841893491365 0.06250000600115631 -0.0\n",
      "yahoo_A4 0.6153845633136124 0.08333334384093748 -0.0\n",
      "yahoo_A4 0.0 0.0 -0.0\n",
      "yahoo_A4 0.9999998500000123 0.7499998625000208 0.9999999062500077\n",
      "yahoo_A4 0.8235293536332209 0.1250000193601164 -0.0\n",
      "yahoo_A4 0.18181816198347142 0.049999994500000554 -0.0\n"
     ]
    }
   ],
   "source": [
    "for loader in [load_yahoo_A1, load_yahoo_A2, load_yahoo_A3, load_yahoo_A4]:\n",
    "    datasets = loader(128, 32)\n",
    "    x_trains, x_tests, y_tests = datasets['x_train'], datasets['x_test'], datasets['y_test']\n",
    "    \n",
    "    for i in tqdm(range(len(x_trains))):\n",
    "        tf.keras.backend.clear_session()\n",
    "\n",
    "        X_train = x_trains[i]\n",
    "        X_test = x_tests[i]\n",
    "        \n",
    "        gan = get_gan(X_train)\n",
    "        dataset = tf.data.Dataset.from_tensor_slices(X_train)\n",
    "        dataset = dataset.batch(128, drop_remainder=True).prefetch(1)\n",
    "\n",
    "        train_gan(gan, dataset, 128, X_train.shape[1], X_train.shape[2])\n",
    "        \n",
    "        X_test_rec = gan.layers[0].predict(X_test)\n",
    "        scores = evaluate(X_test, X_test_rec, y_tests[i], is_reconstructed=True)\n",
    "    \n",
    "        total_scores['dataset'].append(loader.__name__.replace('load_', ''))\n",
    "        total_scores['f1'].append(np.max(scores['f1']))\n",
    "        total_scores['pr_auc'].append(scores['pr_auc'])\n",
    "        total_scores['roc_auc'].append(scores['roc_auc'])\n",
    "        print(loader.__name__.replace('load_', ''), np.max(scores['f1']), scores['pr_auc'], scores['roc_auc'])   "
   ]
  },
  {
   "cell_type": "code",
   "execution_count": 6,
   "id": "bd9e37fd-124c-4f5c-8f1f-a9d61a4b0315",
   "metadata": {},
   "outputs": [],
   "source": [
    "yahoo_results = pd.DataFrame(total_scores)"
   ]
  },
  {
   "cell_type": "code",
   "execution_count": 7,
   "id": "dd0ffd29-f548-4ff5-bced-b8ea85ef0697",
   "metadata": {},
   "outputs": [
    {
     "data": {
      "text/html": [
       "<div>\n",
       "<style scoped>\n",
       "    .dataframe tbody tr th:only-of-type {\n",
       "        vertical-align: middle;\n",
       "    }\n",
       "\n",
       "    .dataframe tbody tr th {\n",
       "        vertical-align: top;\n",
       "    }\n",
       "\n",
       "    .dataframe thead th {\n",
       "        text-align: right;\n",
       "    }\n",
       "</style>\n",
       "<table border=\"1\" class=\"dataframe\">\n",
       "  <thead>\n",
       "    <tr style=\"text-align: right;\">\n",
       "      <th></th>\n",
       "      <th>f1</th>\n",
       "      <th>pr_auc</th>\n",
       "      <th>roc_auc</th>\n",
       "    </tr>\n",
       "    <tr>\n",
       "      <th>dataset</th>\n",
       "      <th></th>\n",
       "      <th></th>\n",
       "      <th></th>\n",
       "    </tr>\n",
       "  </thead>\n",
       "  <tbody>\n",
       "    <tr>\n",
       "      <th>yahoo_A1</th>\n",
       "      <td>0.374761</td>\n",
       "      <td>0.189975</td>\n",
       "      <td>0.237475</td>\n",
       "    </tr>\n",
       "    <tr>\n",
       "      <th>yahoo_A2</th>\n",
       "      <td>0.000000</td>\n",
       "      <td>0.000000</td>\n",
       "      <td>0.000000</td>\n",
       "    </tr>\n",
       "    <tr>\n",
       "      <th>yahoo_A3</th>\n",
       "      <td>0.550227</td>\n",
       "      <td>0.174070</td>\n",
       "      <td>0.101468</td>\n",
       "    </tr>\n",
       "    <tr>\n",
       "      <th>yahoo_A4</th>\n",
       "      <td>0.468156</td>\n",
       "      <td>0.134043</td>\n",
       "      <td>0.095710</td>\n",
       "    </tr>\n",
       "  </tbody>\n",
       "</table>\n",
       "</div>"
      ],
      "text/plain": [
       "                f1    pr_auc   roc_auc\n",
       "dataset                               \n",
       "yahoo_A1  0.374761  0.189975  0.237475\n",
       "yahoo_A2  0.000000  0.000000  0.000000\n",
       "yahoo_A3  0.550227  0.174070  0.101468\n",
       "yahoo_A4  0.468156  0.134043  0.095710"
      ]
     },
     "execution_count": 7,
     "metadata": {},
     "output_type": "execute_result"
    }
   ],
   "source": [
    "yahoo_results.groupby('dataset').mean()"
   ]
  },
  {
   "cell_type": "markdown",
   "id": "8890a678-6116-4222-b0ff-395fcd7f41aa",
   "metadata": {},
   "source": [
    "### NASA"
   ]
  },
  {
   "cell_type": "code",
   "execution_count": 8,
   "id": "e4387a80-585a-488e-94a8-546f42d47632",
   "metadata": {},
   "outputs": [],
   "source": [
    "total_scores = {'dataset': [], 'f1': [], 'pr_auc': [], 'roc_auc': []}"
   ]
  },
  {
   "cell_type": "code",
   "execution_count": 9,
   "id": "106a238d-c5cb-49e9-9764-b1bc37f09436",
   "metadata": {},
   "outputs": [
    {
     "data": {
      "application/vnd.jupyter.widget-view+json": {
       "model_id": "ad8c4fcf6b0742c3afdebdb5c1c5cd73",
       "version_major": 2,
       "version_minor": 0
      },
      "text/plain": [
       "  0%|          | 0/2 [00:00<?, ?it/s]"
      ]
     },
     "metadata": {},
     "output_type": "display_data"
    },
    {
     "data": {
      "application/vnd.jupyter.widget-view+json": {
       "model_id": "f80aeb95ab364d338b683d239b6456b3",
       "version_major": 2,
       "version_minor": 0
      },
      "text/plain": [
       "  0%|          | 0/2 [00:00<?, ?it/s]"
      ]
     },
     "metadata": {},
     "output_type": "display_data"
    },
    {
     "name": "stdout",
     "output_type": "stream",
     "text": [
      "D1 0.25300017462469454 0.06566003201892055 0.49999999989972377\n",
      "D2 0.2699530282282525 0.05634807415274783 0.49999999928670286\n"
     ]
    }
   ],
   "source": [
    "for loader in [load_nasa]:\n",
    "    datasets = loader(100, 100)\n",
    "    x_trains, x_tests, y_tests = datasets['x_train'], datasets['x_test'], datasets['y_test']\n",
    "    \n",
    "    for i in tqdm(range(len(x_trains))):\n",
    "        tf.keras.backend.clear_session()\n",
    "\n",
    "        X_train = x_trains[i]\n",
    "        X_test = x_tests[i]\n",
    "        \n",
    "        gan = get_gan(X_train)\n",
    "        dataset = tf.data.Dataset.from_tensor_slices(X_train)\n",
    "        dataset = dataset.batch(128, drop_remainder=True).prefetch(1)\n",
    "\n",
    "        train_gan(gan, dataset, 128, X_train.shape[1], X_train.shape[2])\n",
    "        \n",
    "        X_test_rec = gan.layers[0].predict(X_test)\n",
    "        scores = evaluate(X_test, X_test_rec, y_tests[i], is_reconstructed=True)\n",
    "        \n",
    "        total_scores['dataset'].append(f'D{i+1}')\n",
    "        total_scores['f1'].append(np.max(scores['f1']))\n",
    "        total_scores['pr_auc'].append(scores['pr_auc'])\n",
    "        total_scores['roc_auc'].append(scores['roc_auc'])\n",
    "        print(f'D{i+1}', np.max(scores['f1']), scores['pr_auc'], scores['roc_auc'])   "
   ]
  },
  {
   "cell_type": "code",
   "execution_count": 10,
   "id": "abb7a6a5-3924-4a33-bc54-871559819602",
   "metadata": {},
   "outputs": [],
   "source": [
    "nasa_results = pd.DataFrame(total_scores)"
   ]
  },
  {
   "cell_type": "code",
   "execution_count": 11,
   "id": "47b35a95-f236-4ae8-b244-5395fe9955bd",
   "metadata": {},
   "outputs": [
    {
     "data": {
      "text/html": [
       "<div>\n",
       "<style scoped>\n",
       "    .dataframe tbody tr th:only-of-type {\n",
       "        vertical-align: middle;\n",
       "    }\n",
       "\n",
       "    .dataframe tbody tr th {\n",
       "        vertical-align: top;\n",
       "    }\n",
       "\n",
       "    .dataframe thead th {\n",
       "        text-align: right;\n",
       "    }\n",
       "</style>\n",
       "<table border=\"1\" class=\"dataframe\">\n",
       "  <thead>\n",
       "    <tr style=\"text-align: right;\">\n",
       "      <th></th>\n",
       "      <th>f1</th>\n",
       "      <th>pr_auc</th>\n",
       "      <th>roc_auc</th>\n",
       "    </tr>\n",
       "    <tr>\n",
       "      <th>dataset</th>\n",
       "      <th></th>\n",
       "      <th></th>\n",
       "      <th></th>\n",
       "    </tr>\n",
       "  </thead>\n",
       "  <tbody>\n",
       "    <tr>\n",
       "      <th>D1</th>\n",
       "      <td>0.253000</td>\n",
       "      <td>0.065660</td>\n",
       "      <td>0.5</td>\n",
       "    </tr>\n",
       "    <tr>\n",
       "      <th>D2</th>\n",
       "      <td>0.269953</td>\n",
       "      <td>0.056348</td>\n",
       "      <td>0.5</td>\n",
       "    </tr>\n",
       "  </tbody>\n",
       "</table>\n",
       "</div>"
      ],
      "text/plain": [
       "               f1    pr_auc  roc_auc\n",
       "dataset                             \n",
       "D1       0.253000  0.065660      0.5\n",
       "D2       0.269953  0.056348      0.5"
      ]
     },
     "execution_count": 11,
     "metadata": {},
     "output_type": "execute_result"
    }
   ],
   "source": [
    "nasa_results.groupby('dataset').mean()"
   ]
  },
  {
   "cell_type": "markdown",
   "id": "41754734-5c75-4caf-9069-fb3b39c7a0da",
   "metadata": {},
   "source": [
    "### SMD"
   ]
  },
  {
   "cell_type": "code",
   "execution_count": 12,
   "id": "60a26807-8359-42d4-82b4-9e1d37b6acaa",
   "metadata": {},
   "outputs": [],
   "source": [
    "total_scores = {'dataset': [], 'f1': [], 'pr_auc': [], 'roc_auc': []}"
   ]
  },
  {
   "cell_type": "code",
   "execution_count": 13,
   "id": "41af318e-1b08-4cc9-a680-6b4a978544f2",
   "metadata": {},
   "outputs": [
    {
     "data": {
      "application/vnd.jupyter.widget-view+json": {
       "model_id": "d21b85ec63e64b5eab09de49dd902c62",
       "version_major": 2,
       "version_minor": 0
      },
      "text/plain": [
       "  0%|          | 0/28 [00:00<?, ?it/s]"
      ]
     },
     "metadata": {},
     "output_type": "display_data"
    },
    {
     "data": {
      "application/vnd.jupyter.widget-view+json": {
       "model_id": "616e9f2631194d259a0da9bc767d4279",
       "version_major": 2,
       "version_minor": 0
      },
      "text/plain": [
       "  0%|          | 0/28 [00:00<?, ?it/s]"
      ]
     },
     "metadata": {},
     "output_type": "display_data"
    },
    {
     "name": "stdout",
     "output_type": "stream",
     "text": [
      "smd 0.21943571700356884 0.06161971811210573 0.49999999837062536\n",
      "smd 0.1269841149911827 3.0033558376296576e-10 0.0\n",
      "smd 0.1556420088722022 0.017777777947419755 0.49999999351958535\n",
      "smd 0.1556420088722022 0.017777777946624655 0.49999999351958535\n",
      "smd 0.06530611607830125 0.004545454997655452 0.5240174425776293\n",
      "smd 0.4370860582693768 0.09134615381234508 0.4999999983900929\n",
      "smd 0.2647058591911784 0.04954954951780259 0.49999999747727275\n",
      "smd 0.19157086375713953 0.013824885197825789 0.4999999914297\n",
      "smd 0.18461536771597778 0.02466367723813717 0.4999999952186965\n",
      "smd 0.28363633908892766 0.06415929191431648 0.49999999802205497\n",
      "smd 0.1044176607022476 0.00444444504793359 0.49999997477578606\n",
      "smd 0.2710622474312033 0.5403536650695211 0.5135135104411657\n",
      "smd 0.22556388959240378 0.027266638260141425 0.3749999966929612\n",
      "smd 0.08026755077012628 0.008928571561911779 0.49999998981818194\n",
      "smd 0.18461536771597778 0.00925925983089516 0.49999998726415124\n",
      "smd 0.02499999751041683 0.004237288098040048 0.49999997478632613\n",
      "smd 0.1719745064647667 0.04163535420957036 0.39138176431051896\n",
      "smd 0.054421763376371404 0.0139860138062986 0.49999999357014396\n",
      "smd 0.19157086375713953 2.523457057405166e-10 0.0\n",
      "smd 0.0275862041569562 0.006993006815736715 0.4999999873226953\n",
      "smd 0.16279068259419638 0.024229074938766935 0.4999999952230641\n",
      "smd 0.25735291856347503 4.4321053438581004e-10 0.0\n",
      "smd 0.15624998547363408 0.026315789464147976 0.49999999560185193\n",
      "smd 0.13438733913668502 0.022840823090688023 0.41797129303273073\n",
      "smd 0.1543408216705795 0.025270758126134545 0.49999999623845737\n",
      "smd 0.06081080487353959 0.015679442329031557 0.4999999942645884\n",
      "smd 0.12418299480755367 0.02816901395876362 0.49999999668843276\n",
      "smd 0.054237282822177976 0.013937282050892934 0.49999999357078856\n"
     ]
    }
   ],
   "source": [
    "for loader in [load_smd]:\n",
    "    datasets = loader(100, 100)\n",
    "    x_trains, x_tests, y_tests = datasets['x_train'], datasets['x_test'], datasets['y_test']\n",
    "    \n",
    "    for i in tqdm(range(len(x_trains))):\n",
    "        tf.keras.backend.clear_session()\n",
    "\n",
    "        X_train = x_trains[i]\n",
    "        X_test = x_tests[i]\n",
    "        \n",
    "        gan = get_gan(X_train)\n",
    "        dataset = tf.data.Dataset.from_tensor_slices(X_train)\n",
    "        dataset = dataset.batch(128, drop_remainder=True).prefetch(1)\n",
    "\n",
    "        train_gan(gan, dataset, 128, X_train.shape[1], X_train.shape[2])\n",
    "        \n",
    "        X_test_rec = gan.layers[0].predict(X_test)\n",
    "        scores = evaluate(X_test, X_test_rec, y_tests[i], is_reconstructed=True)\n",
    "\n",
    "        total_scores['dataset'].append(loader.__name__.replace('load_', ''))\n",
    "        total_scores['f1'].append(np.max(scores['f1']))\n",
    "        total_scores['pr_auc'].append(scores['pr_auc'])\n",
    "        total_scores['roc_auc'].append(scores['roc_auc'])\n",
    "        print(loader.__name__.replace('load_', ''), np.max(scores['f1']), scores['pr_auc'], scores['roc_auc'])   "
   ]
  },
  {
   "cell_type": "code",
   "execution_count": 14,
   "id": "23474773-bac1-4145-ac75-c1a686bca5c6",
   "metadata": {},
   "outputs": [],
   "source": [
    "smd_results = pd.DataFrame(total_scores)"
   ]
  },
  {
   "cell_type": "code",
   "execution_count": 15,
   "id": "0f82f57f-4d93-4003-b22b-93bd75cf36e7",
   "metadata": {},
   "outputs": [
    {
     "data": {
      "text/html": [
       "<div>\n",
       "<style scoped>\n",
       "    .dataframe tbody tr th:only-of-type {\n",
       "        vertical-align: middle;\n",
       "    }\n",
       "\n",
       "    .dataframe tbody tr th {\n",
       "        vertical-align: top;\n",
       "    }\n",
       "\n",
       "    .dataframe thead th {\n",
       "        text-align: right;\n",
       "    }\n",
       "</style>\n",
       "<table border=\"1\" class=\"dataframe\">\n",
       "  <thead>\n",
       "    <tr style=\"text-align: right;\">\n",
       "      <th></th>\n",
       "      <th>f1</th>\n",
       "      <th>pr_auc</th>\n",
       "      <th>roc_auc</th>\n",
       "    </tr>\n",
       "    <tr>\n",
       "      <th>dataset</th>\n",
       "      <th></th>\n",
       "      <th></th>\n",
       "      <th></th>\n",
       "    </tr>\n",
       "  </thead>\n",
       "  <tbody>\n",
       "    <tr>\n",
       "      <th>smd</th>\n",
       "      <td>0.161623</td>\n",
       "      <td>0.041386</td>\n",
       "      <td>0.436496</td>\n",
       "    </tr>\n",
       "  </tbody>\n",
       "</table>\n",
       "</div>"
      ],
      "text/plain": [
       "               f1    pr_auc   roc_auc\n",
       "dataset                              \n",
       "smd      0.161623  0.041386  0.436496"
      ]
     },
     "execution_count": 15,
     "metadata": {},
     "output_type": "execute_result"
    }
   ],
   "source": [
    "smd_results.groupby('dataset').mean()"
   ]
  },
  {
   "cell_type": "code",
   "execution_count": null,
   "id": "8a2f4c6f-5b06-4a68-82c5-f12bdbc6e527",
   "metadata": {},
   "outputs": [],
   "source": []
  }
 ],
 "metadata": {
  "kernelspec": {
   "display_name": "Python 3",
   "language": "python",
   "name": "python3"
  },
  "language_info": {
   "codemirror_mode": {
    "name": "ipython",
    "version": 3
   },
   "file_extension": ".py",
   "mimetype": "text/x-python",
   "name": "python",
   "nbconvert_exporter": "python",
   "pygments_lexer": "ipython3",
   "version": "3.9.4"
  }
 },
 "nbformat": 4,
 "nbformat_minor": 5
}
