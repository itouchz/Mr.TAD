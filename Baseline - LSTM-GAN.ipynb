{
 "cells": [
  {
   "cell_type": "code",
   "execution_count": 1,
   "id": "a80a379b-932c-4401-8d76-b5ae5dedc6cc",
   "metadata": {},
   "outputs": [],
   "source": [
    "import os\n",
    "import random\n",
    "\n",
    "os.environ[\"CUDA_DEVICE_ORDER\"] = \"PCI_BUS_ID\";\n",
    "os.environ[\"CUDA_VISIBLE_DEVICES\"] = \"0\"\n",
    "os.environ[\"TF_FORCE_GPU_ALLOW_GROWTH\"] = \"true\""
   ]
  },
  {
   "cell_type": "code",
   "execution_count": 2,
   "id": "saving-behavior",
   "metadata": {},
   "outputs": [],
   "source": [
    "import numpy as np\n",
    "import pandas as pd\n",
    "import tensorflow as tf\n",
    "\n",
    "from evaluator import evaluate\n",
    "from data_loader import load_kdd_cup_urc, load_yahoo_A1, load_yahoo_A2, load_yahoo_A3, load_yahoo_A4, load_power_demand # Univariate Datasets\n",
    "from data_loader import load_nasa, load_ecg, load_gesture, load_smd # Multivariate Datasets\n",
    "\n",
    "from tensorflow import keras\n",
    "from tensorflow.keras import layers\n",
    "from tqdm.notebook import tqdm\n",
    "\n",
    "# THESE LINES ARE FOR REPRODUCIBILITY\n",
    "random.seed(0)\n",
    "np.random.seed(0)\n",
    "tf.random.set_seed(0)"
   ]
  },
  {
   "cell_type": "code",
   "execution_count": 3,
   "id": "49c0a8e3-705d-429b-b7a0-c3c26a3a7b2b",
   "metadata": {},
   "outputs": [],
   "source": [
    "def train_gan(gan, dataset, batch_size, codings_size, dim, n_epochs=50):\n",
    "    generator, discriminator = gan.layers\n",
    "    for epoch in range(n_epochs):\n",
    "        for X_batch in dataset:\n",
    "            X_batch = tf.cast(X_batch, tf.float32)\n",
    "            # phase 1 - training the discriminator\n",
    "            noise = tf.random.normal(shape=[batch_size, codings_size, dim])\n",
    "            generated_images = generator(noise)\n",
    "            X_fake_and_real = tf.concat([generated_images, X_batch], axis=0)\n",
    "            y1 = tf.constant([[0.]] * batch_size + [[1.]] * batch_size)\n",
    "            discriminator.trainable = True\n",
    "            discriminator.train_on_batch(X_fake_and_real, y1)\n",
    "            # phase 2 - training the generator\n",
    "            noise = tf.random.normal(shape=[batch_size, codings_size, dim])\n",
    "            y2 = tf.constant([[1.]] * batch_size)\n",
    "            discriminator.trainable = False\n",
    "            gan.train_on_batch(noise, y2)\n",
    "            \n",
    "def get_gan(x_train):\n",
    "    generator = keras.models.Sequential([\n",
    "        layers.InputLayer(input_shape=(x_train.shape[1], x_train.shape[2])),\n",
    "        layers.LSTM(128, return_sequences=True),\n",
    "        layers.Dropout(rate=0.2),\n",
    "        layers.LSTM(64),\n",
    "        layers.RepeatVector(x_train.shape[1]),\n",
    "        layers.LSTM(64, return_sequences=True),\n",
    "        layers.Dropout(rate=0.2),\n",
    "        layers.LSTM(128),\n",
    "        layers.Dense(x_train.shape[1] * x_train.shape[2]),\n",
    "        layers.Reshape([x_train.shape[1], x_train.shape[2]])\n",
    "    ])\n",
    "\n",
    "    discriminator = keras.models.Sequential([\n",
    "        layers.InputLayer(input_shape=(x_train.shape[1], x_train.shape[2])),\n",
    "        keras.layers.LSTM(64, return_sequences=True),\n",
    "        keras.layers.Dropout(0.2),\n",
    "        keras.layers.LSTM(64),\n",
    "        keras.layers.Dropout(0.2),\n",
    "        keras.layers.Dense(1, activation=\"sigmoid\")\n",
    "    ])\n",
    "\n",
    "    gan = keras.models.Sequential([generator, discriminator])\n",
    "\n",
    "    discriminator.compile(loss=\"binary_crossentropy\", optimizer=\"adam\")\n",
    "    discriminator.trainable = False\n",
    "    gan.compile(loss=\"binary_crossentropy\", optimizer=\"adam\")\n",
    "    return gan"
   ]
  },
  {
   "cell_type": "markdown",
   "id": "fa97c067-d18d-4c06-ae1b-2cbfe88788b6",
   "metadata": {},
   "source": [
    "### Yahoo S5"
   ]
  },
  {
   "cell_type": "code",
   "execution_count": 4,
   "id": "eight-partition",
   "metadata": {},
   "outputs": [],
   "source": [
    "total_scores = {'dataset': [], 'f1': [], 'pr_auc': [], 'roc_auc': []}"
   ]
  },
  {
   "cell_type": "code",
   "execution_count": 5,
   "id": "71866d92-1163-4975-bb99-4302ccda66c3",
   "metadata": {
    "scrolled": true,
    "tags": []
   },
   "outputs": [
    {
     "data": {
      "application/vnd.jupyter.widget-view+json": {
       "model_id": "2e7df9e8df254693ab6a871b2e8ea800",
       "version_major": 2,
       "version_minor": 0
      },
      "text/plain": [
       "  0%|          | 0/67 [00:00<?, ?it/s]"
      ]
     },
     "metadata": {},
     "output_type": "display_data"
    },
    {
     "data": {
      "application/vnd.jupyter.widget-view+json": {
       "model_id": "aab5f86f9ade4b2690bb1361cb3dfcf5",
       "version_major": 2,
       "version_minor": 0
      },
      "text/plain": [
       "  0%|          | 0/56 [00:00<?, ?it/s]"
      ]
     },
     "metadata": {},
     "output_type": "display_data"
    },
    {
     "name": "stdout",
     "output_type": "stream",
     "text": [
      "yahoo_A1 0.4999999375000028 0.16666664444444684 0.33333328888889363\n",
      "yahoo_A1 0.0 0.0 -0.0\n",
      "yahoo_A1 0.0 0.0 -0.0\n",
      "yahoo_A1 0.0 0.0 -0.0\n",
      "WARNING:tensorflow:5 out of the last 5 calls to <function Model.make_predict_function.<locals>.predict_function at 0x7f0bd40b5dc0> triggered tf.function retracing. Tracing is expensive and the excessive number of tracings could be due to (1) creating @tf.function repeatedly in a loop, (2) passing tensors with different shapes, (3) passing Python objects instead of tensors. For (1), please define your @tf.function outside of the loop. For (2), @tf.function has experimental_relax_shapes=True option that relaxes argument shapes that can avoid unnecessary retracing. For (3), please refer to https://www.tensorflow.org/guide/function#controlling_retracing and https://www.tensorflow.org/api_docs/python/tf/function for  more details.\n",
      "yahoo_A1 0.0 0.0 -0.0\n",
      "WARNING:tensorflow:6 out of the last 6 calls to <function Model.make_predict_function.<locals>.predict_function at 0x7f0bc00cd8b0> triggered tf.function retracing. Tracing is expensive and the excessive number of tracings could be due to (1) creating @tf.function repeatedly in a loop, (2) passing tensors with different shapes, (3) passing Python objects instead of tensors. For (1), please define your @tf.function outside of the loop. For (2), @tf.function has experimental_relax_shapes=True option that relaxes argument shapes that can avoid unnecessary retracing. For (3), please refer to https://www.tensorflow.org/guide/function#controlling_retracing and https://www.tensorflow.org/api_docs/python/tf/function for  more details.\n",
      "yahoo_A1 0.0 0.0 -0.0\n",
      "yahoo_A1 0.33333329444444565 0.09999998800000123 0.49999993750000654\n",
      "yahoo_A1 0.7999999200000041 0.6666665777777874 0.9166665902777827\n",
      "yahoo_A1 0.7999999200000041 0.5416666027777841 0.8333332638888934\n",
      "yahoo_A1 0.0 0.0 -0.0\n",
      "yahoo_A1 0.8888888197530895 0.3999999820000006 0.49999993750000654\n",
      "yahoo_A1 0.5714285142857172 0.1999999860000008 0.49999995833333605\n",
      "yahoo_A1 0.9999998500000123 0.49999990000001493 0.9999998750000131\n",
      "yahoo_A1 0.0 0.0 -0.0\n",
      "yahoo_A1 0.33333329444444565 0.09999998800000123 -0.0\n",
      "yahoo_A1 0.0 0.0 -0.0\n",
      "yahoo_A1 0.7499999343750033 0.3916666422361123 0.1666666527777787\n",
      "yahoo_A1 0.6666666000000033 0.16666666527777654 -0.0\n",
      "yahoo_A1 0.4999999375000028 0.16666664444444684 -0.0\n",
      "yahoo_A1 0.7499999343750033 0.16666667444444216 -0.0\n",
      "yahoo_A1 0.0 0.0 -0.0\n",
      "yahoo_A1 0.0 0.0 -0.0\n",
      "yahoo_A1 0.7499999343750033 0.29999998400000066 0.49999995833333605\n",
      "yahoo_A1 0.9999999166666703 0.49999996666666835 0.9999999166666721\n",
      "yahoo_A1 0.0 0.0 -0.0\n",
      "yahoo_A1 0.8571427836734729 0.2500000034722198 -0.0\n",
      "yahoo_A1 0.6666666000000033 0.4166666194444491 0.6666666111111148\n",
      "yahoo_A1 0.7499999343750033 0.1666666744444422 -0.0\n",
      "yahoo_A1 0.6666666000000033 0.16666666527777654 -0.0\n",
      "yahoo_A1 0.0 0.0 -0.0\n",
      "yahoo_A1 0.9999999166666703 0.8749999100694523 0.0\n",
      "yahoo_A1 0.5714285142857172 0.1999999860000008 0.16666665277777867\n",
      "yahoo_A1 0.33333329444444565 0.09999998800000123 0.49999993750000654\n",
      "yahoo_A1 0.5714285142857172 0.24999997875000163 0.33333328888889363\n",
      "yahoo_A1 0.39999995200000177 0.12499998437500164 0.49999993333334053\n",
      "yahoo_A1 0.6666666000000033 0.7083332138889056 0.8749998750000141\n",
      "yahoo_A1 0.7499999343750033 0.2499999924999997 -0.0\n",
      "yahoo_A1 0.0 0.0 -0.0\n",
      "yahoo_A1 0.6666666000000033 0.2499999833333341 0.4999999250000088\n",
      "yahoo_A1 0.6666666000000033 0.16666666527777654 -0.0\n",
      "yahoo_A1 0.33333329444444565 0.09999998800000123 -0.0\n",
      "yahoo_A1 0.666666577777783 0.2499999625000044 -0.0\n",
      "yahoo_A1 0.7999999200000041 0.6249999041666795 0.7499998625000193\n",
      "yahoo_A1 0.9999998500000123 0.7499998375000254 0.9999998500000176\n",
      "yahoo_A1 0.0 0.0 -0.0\n",
      "yahoo_A1 0.0 0.0 -0.0\n",
      "yahoo_A1 0.666666577777783 0.5999999180000092 0.7499999375000042\n",
      "yahoo_A1 0.0 0.0 -0.0\n",
      "yahoo_A1 0.0 0.0 -0.0\n",
      "yahoo_A1 0.0 0.0 -0.0\n",
      "yahoo_A1 0.5714285142857172 0.3333332968055592 0.6666665861111192\n",
      "yahoo_A1 0.5714285142857172 0.1999999860000008 0.49999995833333605\n",
      "yahoo_A1 0.0 0.0 -0.0\n",
      "yahoo_A1 0.9999998500000123 0.49999990000001493 0.9999998750000131\n",
      "yahoo_A1 0.5714285142857172 0.1999999860000008 0.49999995833333605\n",
      "yahoo_A1 0.5714285142857172 0.1250000006249989 -0.0\n"
     ]
    },
    {
     "data": {
      "application/vnd.jupyter.widget-view+json": {
       "model_id": "ba916dac1a9544d7a13bcfb4a798d53b",
       "version_major": 2,
       "version_minor": 0
      },
      "text/plain": [
       "  0%|          | 0/100 [00:00<?, ?it/s]"
      ]
     },
     "metadata": {},
     "output_type": "display_data"
    },
    {
     "data": {
      "application/vnd.jupyter.widget-view+json": {
       "model_id": "c54d712c3a51485eb022251e1df7197d",
       "version_major": 2,
       "version_minor": 0
      },
      "text/plain": [
       "  0%|          | 0/100 [00:00<?, ?it/s]"
      ]
     },
     "metadata": {},
     "output_type": "display_data"
    },
    {
     "name": "stdout",
     "output_type": "stream",
     "text": [
      "yahoo_A2 0.46153841893491365 0.10714285727891107 0.17857140994898132\n",
      "yahoo_A2 0.46153841893491365 0.17797618257504277 0.20238094214852648\n",
      "yahoo_A2 0.3636363272727291 0.0625000016493049 -0.0\n",
      "yahoo_A2 0.4285713887755125 0.09999999793939388 0.18749998828125064\n",
      "yahoo_A2 0.24999997187500062 0.07142856326530694 -0.0\n",
      "yahoo_A2 0.46153841893491365 0.11111110867283944 -0.0\n",
      "yahoo_A2 0.4285713887755125 0.05555556109988678 -0.0\n",
      "yahoo_A2 0.0 0.0 -0.0\n",
      "yahoo_A2 0.46153841893491365 0.06250000600115631 -0.0\n",
      "yahoo_A2 0.4285713887755125 0.14682539096887257 0.22916665512152826\n",
      "yahoo_A2 0.0 0.0 -0.0\n",
      "yahoo_A2 0.46153841893491365 0.1694444367731484 0.4642856725340172\n",
      "yahoo_A2 0.4285713887755125 0.15277777039772764 0.4583332873263933\n",
      "yahoo_A2 0.33333330000000166 0.055555557160493235 -0.0\n",
      "yahoo_A2 0.0 0.0 -0.0\n",
      "yahoo_A2 0.46153841893491365 0.16550925207401002 0.2857142673469398\n",
      "yahoo_A2 0.4285713887755125 0.055555562177327655 0.06249999296875069\n",
      "yahoo_A2 0.24999997187500062 0.07142856326530694 0.0833333236111121\n",
      "yahoo_A2 0.46153841893491365 0.06250000600115631 -0.0\n",
      "yahoo_A2 0.4285713887755125 0.10863095037487425 0.3124999710937525\n",
      "yahoo_A2 0.0 0.0 -0.0\n",
      "yahoo_A2 0.3636363272727291 0.0625000016493049 -0.0\n",
      "yahoo_A2 0.4285713887755125 0.05555556109988678 0.12499998593750138\n",
      "yahoo_A2 0.0 0.0 -0.0\n",
      "yahoo_A2 0.24999997187500062 0.07142856326530694 -0.0\n",
      "yahoo_A2 0.2222221975308647 0.06249999296875071 -0.0\n",
      "yahoo_A2 0.4285713887755125 0.09999999793939388 -0.0\n",
      "yahoo_A2 0.24999997187500062 0.07142856326530694 -0.0\n",
      "yahoo_A2 0.3636363272727291 0.0625000016493049 -0.0\n",
      "yahoo_A2 0.4285713887755125 0.1363636305785126 0.12499999427083351\n",
      "yahoo_A2 0.0 0.0 -0.0\n",
      "yahoo_A2 0.3636363272727291 0.11111110432098803 -0.0\n",
      "yahoo_A2 0.4285713887755125 0.08333333440235645 0.0312499980468751\n",
      "yahoo_A2 0.24999997187500062 0.07142856326530694 -0.0\n",
      "yahoo_A2 0.46153841893491365 0.11111110867283944 -0.0\n",
      "yahoo_A2 0.3636363272727291 0.0625000016493049 -0.0\n",
      "yahoo_A2 0.4285713887755125 0.10267856990435266 0.2499999750000023\n",
      "yahoo_A2 0.24999997187500062 0.07142856326530694 -0.0\n",
      "yahoo_A2 0.46153841893491365 0.12499999818865709 0.2857142673469397\n",
      "yahoo_A2 0.4285713887755125 0.055555562177327655 -0.0\n",
      "yahoo_A2 0.24999997187500062 0.07142856326530694 -0.0\n",
      "yahoo_A2 0.3636363272727291 0.0625000016493049 -0.0\n",
      "yahoo_A2 0.4285713887755125 0.11249999806092152 0.37499997031250226\n",
      "yahoo_A2 0.0 0.0 -0.0\n",
      "yahoo_A2 0.3636363272727291 0.0625000016493049 -0.0\n",
      "yahoo_A2 0.49999995416666926 0.11904761814058917 0.3437499795572929\n",
      "yahoo_A2 0.4285713887755125 0.09999999793939388 0.0624999960937502\n",
      "yahoo_A2 0.24999997187500062 0.07142856326530694 -0.0\n",
      "yahoo_A2 0.3636363272727291 0.0625000016493049 -0.0\n",
      "yahoo_A2 0.4285713887755125 0.09999999793939388 -0.0\n",
      "yahoo_A2 0.0 0.0 -0.0\n",
      "yahoo_A2 0.46153841893491365 0.11111110867283944 -0.0\n",
      "yahoo_A2 0.4285713887755125 0.055555562177327655 -0.0\n",
      "yahoo_A2 0.24999997187500062 0.07142856326530694 -0.0\n",
      "yahoo_A2 0.46153841893491365 0.06250000713541536 -0.0\n",
      "yahoo_A2 0.4285713887755125 0.09999999793939388 -0.0\n",
      "yahoo_A2 0.0 0.0 -0.0\n",
      "yahoo_A2 0.0 0.0 -0.0\n",
      "yahoo_A2 0.46153841893491365 0.12499999773809503 0.3214285448129273\n",
      "yahoo_A2 0.4285713887755125 0.05555556109988678 -0.0\n",
      "yahoo_A2 0.0 0.0 -0.0\n",
      "yahoo_A2 0.2222221975308647 0.06249999296875071 -0.0\n",
      "yahoo_A2 0.4285713887755125 0.055555562177327655 -0.0\n",
      "yahoo_A2 0.0 0.0 -0.0\n",
      "yahoo_A2 0.2222221975308647 0.06249999296875071 -0.0\n",
      "yahoo_A2 0.4285713887755125 0.10863095127765188 0.31249997734375157\n",
      "yahoo_A2 0.0 0.0 -0.0\n",
      "yahoo_A2 0.46153841893491365 0.12499999653935184 0.2142857005102048\n",
      "yahoo_A2 0.3636363272727291 0.0625000016493049 -0.0\n",
      "yahoo_A2 0.4285713887755125 0.16666665834415623 0.5937499503906289\n",
      "yahoo_A2 0.0 0.0 -0.0\n",
      "yahoo_A2 0.3636363272727291 0.0625000016493049 -0.0\n",
      "yahoo_A2 0.4285713887755125 0.055555562177327655 -0.0\n",
      "yahoo_A2 0.24999997187500062 0.07142856326530694 -0.0\n",
      "yahoo_A2 0.3636363272727291 0.0625000016493049 -0.0\n",
      "yahoo_A2 0.33333330000000166 0.09999999400000033 -0.0\n",
      "yahoo_A2 0.4999999375000028 0.16666664444444684 0.6666665888888968\n",
      "yahoo_A2 0.3636363272727291 0.11111110432098803 -0.0\n",
      "yahoo_A2 0.3636363272727291 0.09999999668055543 0.4999999500000047\n",
      "yahoo_A2 0.4285713887755125 0.1334325365849948 0.28124998554687564\n",
      "yahoo_A2 0.0 0.0 -0.0\n",
      "yahoo_A2 0.46153841893491365 0.11111110867283944 -0.0\n",
      "yahoo_A2 0.4285713887755125 0.055555562177327655 0.06249999296875069\n",
      "yahoo_A2 0.0 0.0 -0.0\n",
      "yahoo_A2 0.3636363272727291 0.11111110432098803 -0.0\n",
      "yahoo_A2 0.4285713887755125 0.055555562177327655 -0.0\n",
      "yahoo_A2 0.24999997187500062 0.07142856326530694 -0.0\n",
      "yahoo_A2 0.3636363272727291 0.11111110432098803 -0.0\n",
      "yahoo_A2 0.4285713887755125 0.06250000503314299 0.12499998906250087\n",
      "yahoo_A2 0.24999997187500062 0.07142856326530694 -0.0\n",
      "yahoo_A2 0.24999997187500062 0.07142856326530694 -0.0\n",
      "yahoo_A2 0.46153841893491365 0.14999999350000026 -0.0\n",
      "yahoo_A2 0.4285713887755125 0.06250000468592082 0.12499998593750138\n",
      "yahoo_A2 0.24999997187500062 0.07142856326530694 0.0833333236111121\n",
      "yahoo_A2 0.3636363272727291 0.0625000016493049 -0.0\n",
      "yahoo_A2 0.4285713887755125 0.10555555309988773 0.18749998828125064\n",
      "yahoo_A2 0.0 0.0 -0.0\n",
      "yahoo_A2 0.46153841893491365 0.06250000713541536 0.1428571265306139\n",
      "yahoo_A2 0.4285713887755125 0.055555562177327655 -0.0\n",
      "yahoo_A2 0.24999997187500062 0.07142856326530694 -0.0\n"
     ]
    },
    {
     "data": {
      "application/vnd.jupyter.widget-view+json": {
       "model_id": "262928052025462db25acbd1b1716862",
       "version_major": 2,
       "version_minor": 0
      },
      "text/plain": [
       "  0%|          | 0/100 [00:00<?, ?it/s]"
      ]
     },
     "metadata": {},
     "output_type": "display_data"
    },
    {
     "data": {
      "application/vnd.jupyter.widget-view+json": {
       "model_id": "b0ddd79a99cc432983228244ae98e034",
       "version_major": 2,
       "version_minor": 0
      },
      "text/plain": [
       "  0%|          | 0/92 [00:00<?, ?it/s]"
      ]
     },
     "metadata": {},
     "output_type": "display_data"
    },
    {
     "name": "stdout",
     "output_type": "stream",
     "text": [
      "yahoo_A3 0.33333329444444565 0.09999998800000123 -0.0\n",
      "yahoo_A3 0.4999999500000025 0.18333332272222258 0.2499999812500011\n",
      "yahoo_A3 0.6666666000000033 0.16666666527777654 -0.0\n",
      "yahoo_A3 0.0 0.0 -0.0\n",
      "yahoo_A3 0.7999999200000041 0.24999999166666562 -0.0\n",
      "yahoo_A3 0.4999999500000025 0.10000000133333238 -0.0\n",
      "yahoo_A3 0.7499999343750033 0.3361110931620377 -0.0\n",
      "yahoo_A3 0.5714285142857172 0.1666666606944441 0.33333328888889363\n",
      "yahoo_A3 0.6666666000000033 0.16666666527777654 -0.0\n",
      "yahoo_A3 0.9999999166666703 0.49999996666666835 0.0\n",
      "yahoo_A3 0.8571427836734729 0.2500000034722198 -0.0\n",
      "yahoo_A3 0.8571427836734729 0.43749997065972396 -0.0\n",
      "yahoo_A3 0.0 0.0 -0.0\n",
      "yahoo_A3 0.6666666000000033 0.16666666527777654 -0.0\n",
      "yahoo_A3 0.28571425306122533 0.08333332361111209 -0.0\n",
      "yahoo_A3 0.7999999200000041 0.24999999166666562 -0.0\n",
      "yahoo_A3 0.33333329444444565 0.09999998800000123 -0.0\n",
      "yahoo_A3 0.33333329444444565 0.09999998800000123 -0.0\n",
      "yahoo_A3 0.39999995200000177 0.12499998437500164 -0.0\n",
      "yahoo_A3 0.0 0.0 -0.0\n",
      "yahoo_A3 0.0 0.0 -0.0\n",
      "yahoo_A3 0.0 0.0 -0.0\n",
      "yahoo_A3 0.9999998500000123 0.8749998630555764 0.9999998000000299\n",
      "yahoo_A3 0.28571425306122533 0.08333332361111209 -0.0\n",
      "yahoo_A3 0.33333329444444565 0.09999998800000123 -0.0\n",
      "yahoo_A3 0.5714285142857172 0.1250000006249989 -0.0\n",
      "yahoo_A3 0.4999999500000025 0.10000000133333238 -0.0\n",
      "yahoo_A3 0.4999999500000025 0.10000000133333238 -0.0\n",
      "yahoo_A3 0.39999995200000177 0.12499998437500164 -0.0\n",
      "yahoo_A3 0.7499999343750033 0.16666667444444216 -0.0\n",
      "yahoo_A3 0.9999999250000032 0.4999999750000009 0.0\n",
      "yahoo_A3 0.9999999166666703 0.4999999666666683 0.0\n",
      "yahoo_A3 0.4999999375000028 0.16666664444444684 -0.0\n",
      "yahoo_A3 0.9090908429752097 0.25000001470832994 -0.0\n",
      "yahoo_A3 0.6666666000000033 0.4999999333333409 0.7499999000000107\n",
      "yahoo_A3 0.8888888197530895 0.25000000993055255 -0.0\n",
      "yahoo_A3 0.666666577777783 0.2499999625000044 -0.0\n",
      "yahoo_A3 0.4999999375000028 0.16666664444444684 -0.0\n",
      "yahoo_A3 0.6666666074074105 0.1250000081249981 -0.0\n",
      "yahoo_A3 0.8888888197530895 0.25000000993055255 0.49999990000001493\n",
      "yahoo_A3 0.0 0.0 -0.0\n",
      "yahoo_A3 0.999999930000003 0.4999999800000005 0.0\n",
      "yahoo_A3 0.28571425306122533 0.08333332361111209 -0.0\n",
      "yahoo_A3 0.0 0.0 -0.0\n",
      "yahoo_A3 0.8888888197530895 0.25000000993055255 -0.0\n",
      "yahoo_A3 0.8888888197530895 0.2500000106249968 -0.0\n",
      "yahoo_A3 0.9999999333333361 0.49999998333333373 0.0\n",
      "yahoo_A3 0.8571427836734729 0.25000000944444145 0.49999995833333605\n",
      "yahoo_A3 0.0 0.0 -0.0\n",
      "yahoo_A3 0.4999999500000025 0.10000000133333238 -0.0\n",
      "yahoo_A3 0.39999995200000177 0.12499998437500164 -0.0\n",
      "yahoo_A3 0.9999998500000123 0.4999999300000103 0.9999998888888996\n",
      "yahoo_A3 0.7499999343750033 0.1666666744444422 -0.0\n",
      "yahoo_A3 0.7999999200000041 0.24999999166666562 -0.0\n",
      "yahoo_A3 0.6666666000000033 0.16666666527777654 -0.0\n",
      "yahoo_A3 0.4999999375000028 0.16666664444444684 0.6666665777777874\n",
      "yahoo_A3 0.8888888197530895 0.25000000993055255 -0.0\n",
      "yahoo_A3 0.33333329444444565 0.09999998800000123 -0.0\n",
      "yahoo_A3 0.8888888197530895 0.250000009999997 -0.0\n",
      "yahoo_A3 0.7999999200000041 0.24999999166666562 -0.0\n",
      "yahoo_A3 0.7499999343750033 0.24999999041666673 -0.0\n",
      "yahoo_A3 0.7999999200000041 0.24999999166666562 -0.0\n",
      "yahoo_A3 0.33333329444444565 0.09999998800000123 -0.0\n",
      "yahoo_A3 0.7499999343750033 0.1666666744444422 -0.0\n",
      "yahoo_A3 0.7999999360000031 0.2499999956944441 -0.0\n",
      "yahoo_A3 0.6666666000000033 0.16666666527777654 -0.0\n",
      "yahoo_A3 0.5714285142857172 0.1250000006249989 -0.0\n",
      "yahoo_A3 0.9999999166666703 0.4999999666666683 0.0\n",
      "yahoo_A3 0.8571427836734729 0.41666663958333483 -0.0\n",
      "yahoo_A3 0.28571425306122533 0.08333332361111209 -0.0\n",
      "yahoo_A3 0.39999995200000177 0.12499998437500164 -0.0\n",
      "yahoo_A3 0.39999995200000177 0.12499998437500164 0.16666664444444682\n",
      "yahoo_A3 0.4999999375000028 0.16666664444444684 -0.0\n",
      "yahoo_A3 0.6666666074074105 0.12500000937499783 -0.0\n",
      "yahoo_A3 0.4999999500000025 0.10000000133333238 -0.0\n",
      "yahoo_A3 0.0 0.0 -0.0\n",
      "yahoo_A3 0.6666666000000033 0.16666666527777654 -0.0\n",
      "yahoo_A3 0.0 0.0 -0.0\n",
      "yahoo_A3 0.4999999500000025 0.10000000133333238 -0.0\n",
      "yahoo_A3 0.8571427836734729 0.2500000034722198 -0.0\n",
      "yahoo_A3 0.7999999200000041 0.24999999166666562 -0.0\n",
      "yahoo_A3 0.6666666000000033 0.16666666527777654 -0.0\n",
      "yahoo_A3 0.8571427836734729 0.2500000034722198 -0.0\n",
      "yahoo_A3 0.5714285142857172 0.1250000006249989 -0.0\n",
      "yahoo_A3 0.33333329444444565 0.09999998800000123 -0.0\n",
      "yahoo_A3 0.6666666074074105 0.19999999349999997 -0.0\n",
      "yahoo_A3 0.6666666074074105 0.12500000937499783 -0.0\n",
      "yahoo_A3 0.8571427836734729 0.4444444155092607 -0.0\n",
      "yahoo_A3 0.5714285142857172 0.1250000006249989 -0.0\n",
      "yahoo_A3 0.39999995200000177 0.12499998437500164 -0.0\n",
      "yahoo_A3 0.5714285142857172 0.30555552782407625 0.4999999444444498\n",
      "yahoo_A3 0.4999999375000028 0.16666664444444684 0.49999993750000654\n"
     ]
    },
    {
     "data": {
      "application/vnd.jupyter.widget-view+json": {
       "model_id": "0b0f0ec5158943caa8ebe0917a989f6e",
       "version_major": 2,
       "version_minor": 0
      },
      "text/plain": [
       "  0%|          | 0/100 [00:00<?, ?it/s]"
      ]
     },
     "metadata": {},
     "output_type": "display_data"
    },
    {
     "data": {
      "application/vnd.jupyter.widget-view+json": {
       "model_id": "6f5731ebfaf64569a3cbcbc7bdc75c63",
       "version_major": 2,
       "version_minor": 0
      },
      "text/plain": [
       "  0%|          | 0/82 [00:00<?, ?it/s]"
      ]
     },
     "metadata": {},
     "output_type": "display_data"
    },
    {
     "name": "stdout",
     "output_type": "stream",
     "text": [
      "yahoo_A4 0.5714285142857172 0.1250000006249989 -0.0\n",
      "yahoo_A4 0.0 0.0 -0.0\n",
      "yahoo_A4 0.5714285142857172 0.1250000006249989 -0.0\n",
      "yahoo_A4 0.4999999500000025 0.10000000133333238 -0.0\n",
      "yahoo_A4 0.7999999200000041 0.4374999588541698 -0.0\n",
      "yahoo_A4 0.6666666000000033 0.16666666527777654 -0.0\n",
      "yahoo_A4 0.33333329444444565 0.09999998800000123 -0.0\n",
      "yahoo_A4 0.4999999500000025 0.10000000133333238 -0.0\n",
      "yahoo_A4 0.7999999200000041 0.24999999166666562 -0.0\n",
      "yahoo_A4 0.4999999375000028 0.16666664444444684 -0.0\n",
      "yahoo_A4 0.8571427836734729 0.33333331736111155 -0.0\n",
      "yahoo_A4 0.5714285142857172 0.1250000006249989 -0.0\n",
      "yahoo_A4 0.6666666074074105 0.1250000081249981 -0.0\n",
      "yahoo_A4 0.28571425306122533 0.08333332361111209 -0.0\n",
      "yahoo_A4 0.0 0.0 -0.0\n",
      "yahoo_A4 0.33333329444444565 0.09999998800000123 -0.0\n",
      "yahoo_A4 0.9090908429752097 0.33333332790277737 -0.0\n",
      "yahoo_A4 0.7499999343750033 0.37499997687500114 0.29166664027777967\n",
      "yahoo_A4 0.999999930000003 0.4999999800000005 0.0\n",
      "yahoo_A4 0.8571427836734729 0.2500000034722198 -0.0\n",
      "yahoo_A4 0.0 0.0 -0.0\n",
      "yahoo_A4 0.6666666000000033 0.16666666527777654 -0.0\n",
      "yahoo_A4 0.6666666000000033 0.16666666527777654 -0.0\n",
      "yahoo_A4 0.33333329444444565 0.09999998800000123 -0.0\n",
      "yahoo_A4 0.6666666074074105 0.1250000081249981 -0.0\n",
      "yahoo_A4 0.7499999343750033 0.16666667444444216 -0.0\n",
      "yahoo_A4 0.9999999166666703 0.49999996666666835 0.0\n",
      "yahoo_A4 0.4999999500000025 0.10000000133333238 -0.0\n",
      "yahoo_A4 0.7999999200000041 0.3333333055555574 -0.0\n",
      "yahoo_A4 0.9999999250000032 0.49999997500000093 0.0\n",
      "yahoo_A4 0.28571425306122533 0.08333332361111209 -0.0\n",
      "yahoo_A4 0.5714285142857172 0.1250000006249989 -0.0\n",
      "yahoo_A4 0.0 0.0 -0.0\n",
      "yahoo_A4 0.0 0.0 -0.0\n",
      "yahoo_A4 0.7999999360000031 0.16666668083333042 -0.0\n",
      "yahoo_A4 0.8888888197530895 0.3333333238194443 -0.0\n",
      "yahoo_A4 0.6666666000000033 0.2499999812500011 -0.0\n",
      "yahoo_A4 0.7999999200000041 0.24999999166666562 -0.0\n",
      "yahoo_A4 0.7499999343750033 0.44027774646065004 0.24999997500000196\n",
      "yahoo_A4 0.5714285142857172 0.1250000006249989 -0.0\n",
      "yahoo_A4 0.8571427836734729 0.2500000034722198 -0.0\n",
      "yahoo_A4 0.0 0.0 -0.0\n",
      "yahoo_A4 0.6666666000000033 0.16666666527777654 -0.0\n",
      "yahoo_A4 0.4999999500000025 0.16666665555555618 -0.0\n",
      "yahoo_A4 0.4999999500000025 0.10000000133333238 -0.0\n",
      "yahoo_A4 0.0 0.0 -0.0\n",
      "yahoo_A4 0.39999995200000177 0.12499998437500164 -0.0\n",
      "yahoo_A4 0.33333329444444565 0.09999998800000123 -0.0\n",
      "yahoo_A4 0.4999999375000028 0.16666664444444684 -0.0\n",
      "yahoo_A4 0.6666666000000033 0.16666666527777654 -0.0\n",
      "yahoo_A4 0.7499999343750033 0.16666667444444216 -0.0\n",
      "yahoo_A4 0.4999999375000028 0.16666664444444684 -0.0\n",
      "yahoo_A4 0.0 0.0 -0.0\n",
      "yahoo_A4 0.0 0.0 -0.0\n",
      "yahoo_A4 0.7999999200000041 0.24999999166666562 -0.0\n",
      "yahoo_A4 0.5714285142857172 0.1999999860000008 -0.0\n",
      "yahoo_A4 0.5714285142857172 0.1250000006249989 -0.0\n",
      "yahoo_A4 0.33333329444444565 0.09999998800000123 -0.0\n",
      "yahoo_A4 0.4999999500000025 0.18749998677083413 0.24999996875000327\n",
      "yahoo_A4 0.6666666000000033 0.16666666527777654 -0.0\n",
      "yahoo_A4 0.6666666074074105 0.1250000081249981 -0.0\n",
      "yahoo_A4 0.6666666000000033 0.16666666527777654 -0.0\n",
      "yahoo_A4 0.6666666000000033 0.16666666527777654 -0.0\n",
      "yahoo_A4 0.4999999375000028 0.16666664444444684 -0.0\n",
      "yahoo_A4 0.33333329444444565 0.09999998800000123 -0.0\n",
      "yahoo_A4 0.5714285142857172 0.1250000006249989 -0.0\n",
      "yahoo_A4 0.39999995200000177 0.12499998437500164 -0.0\n",
      "yahoo_A4 0.0 0.0 -0.0\n",
      "yahoo_A4 0.5714285142857172 0.1250000006249989 -0.0\n",
      "yahoo_A4 0.7499999343750033 0.1666666744444422 -0.0\n",
      "yahoo_A4 0.0 0.0 -0.0\n",
      "yahoo_A4 0.9090908429752097 0.2500000140138856 -0.0\n",
      "yahoo_A4 0.9090908429752097 0.33333332790277737 -0.0\n",
      "yahoo_A4 0.7499999343750033 0.16666667555555306 -0.0\n",
      "yahoo_A4 0.4999999375000028 0.16666664444444684 -0.0\n",
      "yahoo_A4 0.9999999000000052 0.7499998993055685 0.9999998500000176\n",
      "yahoo_A4 0.5714285142857172 0.22222220837963014 0.11111110370370407\n",
      "yahoo_A4 0.6666666074074105 0.1250000081249981 -0.0\n",
      "yahoo_A4 0.4999999375000028 0.16666664444444684 -0.0\n",
      "yahoo_A4 0.7999999200000041 0.24999999166666562 0.4999999500000039\n",
      "yahoo_A4 0.8571427836734729 0.25000000416666407 -0.0\n",
      "yahoo_A4 0.0 0.0 -0.0\n"
     ]
    }
   ],
   "source": [
    "for loader in [load_yahoo_A1, load_yahoo_A2, load_yahoo_A3, load_yahoo_A4]:\n",
    "    datasets = loader(128, 64)\n",
    "    x_trains, x_tests, y_tests = datasets['x_train'], datasets['x_test'], datasets['y_test']\n",
    "    \n",
    "    for i in tqdm(range(len(x_trains))):\n",
    "        tf.keras.backend.clear_session()\n",
    "\n",
    "        X_train = x_trains[i]\n",
    "        X_test = x_tests[i]\n",
    "        \n",
    "        gan = get_gan(X_train)\n",
    "        dataset = tf.data.Dataset.from_tensor_slices(X_train)\n",
    "        dataset = dataset.batch(128, drop_remainder=True).prefetch(1)\n",
    "\n",
    "        train_gan(gan, dataset, 128, X_train.shape[1], X_train.shape[2])\n",
    "        \n",
    "        X_test_rec = gan.layers[0].predict(X_test)\n",
    "        scores = evaluate(X_test, X_test_rec, y_tests[i], is_reconstructed=True)\n",
    "    \n",
    "        total_scores['dataset'].append(loader.__name__.replace('load_', ''))\n",
    "        total_scores['f1'].append(np.max(scores['f1']))\n",
    "        total_scores['pr_auc'].append(scores['pr_auc'])\n",
    "        total_scores['roc_auc'].append(scores['roc_auc'])\n",
    "        print(loader.__name__.replace('load_', ''), np.max(scores['f1']), scores['pr_auc'], scores['roc_auc'])   "
   ]
  },
  {
   "cell_type": "code",
   "execution_count": 6,
   "id": "bd9e37fd-124c-4f5c-8f1f-a9d61a4b0315",
   "metadata": {},
   "outputs": [
    {
     "data": {
      "text/html": [
       "<div>\n",
       "<style scoped>\n",
       "    .dataframe tbody tr th:only-of-type {\n",
       "        vertical-align: middle;\n",
       "    }\n",
       "\n",
       "    .dataframe tbody tr th {\n",
       "        vertical-align: top;\n",
       "    }\n",
       "\n",
       "    .dataframe thead th {\n",
       "        text-align: right;\n",
       "    }\n",
       "</style>\n",
       "<table border=\"1\" class=\"dataframe\">\n",
       "  <thead>\n",
       "    <tr style=\"text-align: right;\">\n",
       "      <th></th>\n",
       "      <th>f1</th>\n",
       "      <th>pr_auc</th>\n",
       "      <th>roc_auc</th>\n",
       "    </tr>\n",
       "    <tr>\n",
       "      <th>dataset</th>\n",
       "      <th></th>\n",
       "      <th></th>\n",
       "      <th></th>\n",
       "    </tr>\n",
       "  </thead>\n",
       "  <tbody>\n",
       "    <tr>\n",
       "      <th>yahoo_A1</th>\n",
       "      <td>0.445762</td>\n",
       "      <td>0.213839</td>\n",
       "      <td>0.267113</td>\n",
       "    </tr>\n",
       "    <tr>\n",
       "      <th>yahoo_A2</th>\n",
       "      <td>0.317147</td>\n",
       "      <td>0.073652</td>\n",
       "      <td>0.076786</td>\n",
       "    </tr>\n",
       "    <tr>\n",
       "      <th>yahoo_A3</th>\n",
       "      <td>0.582216</td>\n",
       "      <td>0.196996</td>\n",
       "      <td>0.067029</td>\n",
       "    </tr>\n",
       "    <tr>\n",
       "      <th>yahoo_A4</th>\n",
       "      <td>0.547526</td>\n",
       "      <td>0.174136</td>\n",
       "      <td>0.029302</td>\n",
       "    </tr>\n",
       "  </tbody>\n",
       "</table>\n",
       "</div>"
      ],
      "text/plain": [
       "                f1    pr_auc   roc_auc\n",
       "dataset                               \n",
       "yahoo_A1  0.445762  0.213839  0.267113\n",
       "yahoo_A2  0.317147  0.073652  0.076786\n",
       "yahoo_A3  0.582216  0.196996  0.067029\n",
       "yahoo_A4  0.547526  0.174136  0.029302"
      ]
     },
     "execution_count": 6,
     "metadata": {},
     "output_type": "execute_result"
    }
   ],
   "source": [
    "yahoo_results = pd.DataFrame(total_scores)\n",
    "yahoo_results.groupby('dataset').mean()"
   ]
  },
  {
   "cell_type": "markdown",
   "id": "8890a678-6116-4222-b0ff-395fcd7f41aa",
   "metadata": {},
   "source": [
    "### NASA"
   ]
  },
  {
   "cell_type": "code",
   "execution_count": 7,
   "id": "e4387a80-585a-488e-94a8-546f42d47632",
   "metadata": {},
   "outputs": [],
   "source": [
    "total_scores = {'dataset': [], 'f1': [], 'pr_auc': [], 'roc_auc': []}"
   ]
  },
  {
   "cell_type": "code",
   "execution_count": 8,
   "id": "106a238d-c5cb-49e9-9764-b1bc37f09436",
   "metadata": {},
   "outputs": [
    {
     "data": {
      "application/vnd.jupyter.widget-view+json": {
       "model_id": "f80a16cc051e4c368b1ef3f5008172b0",
       "version_major": 2,
       "version_minor": 0
      },
      "text/plain": [
       "  0%|          | 0/2 [00:00<?, ?it/s]"
      ]
     },
     "metadata": {},
     "output_type": "display_data"
    },
    {
     "data": {
      "application/vnd.jupyter.widget-view+json": {
       "model_id": "a7bf7b3daac547adbc8f03ecc98fbaeb",
       "version_major": 2,
       "version_minor": 0
      },
      "text/plain": [
       "  0%|          | 0/2 [00:00<?, ?it/s]"
      ]
     },
     "metadata": {},
     "output_type": "display_data"
    },
    {
     "name": "stdout",
     "output_type": "stream",
     "text": [
      "D1 0.25769180223378857 0.06543155417696649 0.4999999999353614\n",
      "D2 0.28464975199693254 0.055966697492007764 0.49999999953469354\n"
     ]
    }
   ],
   "source": [
    "for loader in [load_nasa]:\n",
    "    datasets = loader(128, 64)\n",
    "    x_trains, x_tests, y_tests = datasets['x_train'], datasets['x_test'], datasets['y_test']\n",
    "    \n",
    "    for i in tqdm(range(len(x_trains))):\n",
    "        tf.keras.backend.clear_session()\n",
    "\n",
    "        X_train = x_trains[i]\n",
    "        X_test = x_tests[i]\n",
    "        \n",
    "        gan = get_gan(X_train)\n",
    "        dataset = tf.data.Dataset.from_tensor_slices(X_train)\n",
    "        dataset = dataset.batch(128, drop_remainder=True).prefetch(1)\n",
    "\n",
    "        train_gan(gan, dataset, 128, X_train.shape[1], X_train.shape[2])\n",
    "        \n",
    "        X_test_rec = gan.layers[0].predict(X_test)\n",
    "        scores = evaluate(X_test, X_test_rec, y_tests[i], is_reconstructed=True)\n",
    "        \n",
    "        total_scores['dataset'].append(f'D{i+1}')\n",
    "        total_scores['f1'].append(np.max(scores['f1']))\n",
    "        total_scores['pr_auc'].append(scores['pr_auc'])\n",
    "        total_scores['roc_auc'].append(scores['roc_auc'])\n",
    "        print(f'D{i+1}', np.max(scores['f1']), scores['pr_auc'], scores['roc_auc'])   "
   ]
  },
  {
   "cell_type": "code",
   "execution_count": 9,
   "id": "abb7a6a5-3924-4a33-bc54-871559819602",
   "metadata": {},
   "outputs": [
    {
     "data": {
      "text/html": [
       "<div>\n",
       "<style scoped>\n",
       "    .dataframe tbody tr th:only-of-type {\n",
       "        vertical-align: middle;\n",
       "    }\n",
       "\n",
       "    .dataframe tbody tr th {\n",
       "        vertical-align: top;\n",
       "    }\n",
       "\n",
       "    .dataframe thead th {\n",
       "        text-align: right;\n",
       "    }\n",
       "</style>\n",
       "<table border=\"1\" class=\"dataframe\">\n",
       "  <thead>\n",
       "    <tr style=\"text-align: right;\">\n",
       "      <th></th>\n",
       "      <th>f1</th>\n",
       "      <th>pr_auc</th>\n",
       "      <th>roc_auc</th>\n",
       "    </tr>\n",
       "    <tr>\n",
       "      <th>dataset</th>\n",
       "      <th></th>\n",
       "      <th></th>\n",
       "      <th></th>\n",
       "    </tr>\n",
       "  </thead>\n",
       "  <tbody>\n",
       "    <tr>\n",
       "      <th>D1</th>\n",
       "      <td>0.257692</td>\n",
       "      <td>0.065432</td>\n",
       "      <td>0.5</td>\n",
       "    </tr>\n",
       "    <tr>\n",
       "      <th>D2</th>\n",
       "      <td>0.284650</td>\n",
       "      <td>0.055967</td>\n",
       "      <td>0.5</td>\n",
       "    </tr>\n",
       "  </tbody>\n",
       "</table>\n",
       "</div>"
      ],
      "text/plain": [
       "               f1    pr_auc  roc_auc\n",
       "dataset                             \n",
       "D1       0.257692  0.065432      0.5\n",
       "D2       0.284650  0.055967      0.5"
      ]
     },
     "execution_count": 9,
     "metadata": {},
     "output_type": "execute_result"
    }
   ],
   "source": [
    "nasa_results = pd.DataFrame(total_scores)\n",
    "nasa_results.groupby('dataset').mean()"
   ]
  },
  {
   "cell_type": "markdown",
   "id": "41754734-5c75-4caf-9069-fb3b39c7a0da",
   "metadata": {},
   "source": [
    "### SMD"
   ]
  },
  {
   "cell_type": "code",
   "execution_count": 10,
   "id": "60a26807-8359-42d4-82b4-9e1d37b6acaa",
   "metadata": {},
   "outputs": [],
   "source": [
    "total_scores = {'dataset': [], 'f1': [], 'pr_auc': [], 'roc_auc': []}"
   ]
  },
  {
   "cell_type": "code",
   "execution_count": 11,
   "id": "41af318e-1b08-4cc9-a680-6b4a978544f2",
   "metadata": {},
   "outputs": [
    {
     "data": {
      "application/vnd.jupyter.widget-view+json": {
       "model_id": "d6c41f212eb74733b3600c9a21f72be5",
       "version_major": 2,
       "version_minor": 0
      },
      "text/plain": [
       "  0%|          | 0/28 [00:00<?, ?it/s]"
      ]
     },
     "metadata": {},
     "output_type": "display_data"
    },
    {
     "data": {
      "application/vnd.jupyter.widget-view+json": {
       "model_id": "515c08628a694d56bfae540d88e08b65",
       "version_major": 2,
       "version_minor": 0
      },
      "text/plain": [
       "  0%|          | 0/28 [00:00<?, ?it/s]"
      ]
     },
     "metadata": {},
     "output_type": "display_data"
    },
    {
     "name": "stdout",
     "output_type": "stream",
     "text": [
      "smd 0.23153690558205123 0.06546275382269463 0.49999999900806086\n",
      "smd 0.14105792132682896 1.924824640674625e-10 0.0\n",
      "smd 0.18226599319687592 0.018840579856612187 0.4999999960032438\n",
      "smd 0.17326731082124444 0.017341040623997415 0.49999999568363274\n",
      "smd 0.08311687510743873 0.002816901909780309 0.49999997485835823\n",
      "smd 0.47835047887257154 0.09455128206172082 0.49999999895491387\n",
      "smd 0.29561198390945814 0.05539358599092001 0.49999999852027605\n",
      "smd 0.23444973995673352 0.018072289407687972 0.49999999567708336\n",
      "smd 0.21307504139204825 0.028985507315774692 0.49999999734615375\n",
      "smd 0.29953914490114675 0.06321839075384354 0.4999999986991626\n",
      "smd 0.12690354134994566 0.007163324092339451 0.4999999898546513\n",
      "smd 0.29953914490114675 0.03799392108596349 0.4999999978355263\n",
      "smd 0.2635293887601403 0.02286585388381453 0.4999999965069223\n",
      "smd 0.08547007725180877 0.0069124425589984296 0.49999999154984437\n",
      "smd 0.21307504139204825 0.0075757581138413774 0.49999998984615396\n",
      "smd 0.026737965262089488 0.006775067613340092 0.4999999898626375\n",
      "smd 0.19028338351472884 0.044419134314673286 0.4999999985929487\n",
      "smd 0.05652173361342205 0.005694760928701231 0.4999999898847928\n",
      "smd 0.22168672716969254 0.0291545190316618 0.4999999973452012\n",
      "smd 0.03516483169472315 0.008948545747438804 0.49999999363610487\n",
      "smd 0.16873447578151593 0.024147727316814954 0.49999999690956975\n",
      "smd 0.28372090575338227 0.014195584009701077 0.49999999428210684\n",
      "smd 0.1596009827401584 0.025352112687651914 0.49999999707385423\n",
      "smd 0.13636362358815537 0.008620689936125874 0.4999999915204679\n",
      "smd 0.16049381233297902 0.02000000006907348 0.4999999969362745\n",
      "smd 0.07741934736316405 0.009153318147816702 0.49999999363344994\n",
      "smd 0.137499987138022 0.024137931017009704 0.4999999974982747\n",
      "smd 0.05652173361342205 0.015384862024315963 0.28234668280307285\n"
     ]
    }
   ],
   "source": [
    "for loader in [load_smd]:\n",
    "    datasets = loader(128, 64)\n",
    "    x_trains, x_tests, y_tests = datasets['x_train'], datasets['x_test'], datasets['y_test']\n",
    "    \n",
    "    for i in tqdm(range(len(x_trains))):\n",
    "        tf.keras.backend.clear_session()\n",
    "\n",
    "        X_train = x_trains[i]\n",
    "        X_test = x_tests[i]\n",
    "        \n",
    "        gan = get_gan(X_train)\n",
    "        dataset = tf.data.Dataset.from_tensor_slices(X_train)\n",
    "        dataset = dataset.batch(128, drop_remainder=True).prefetch(1)\n",
    "\n",
    "        train_gan(gan, dataset, 128, X_train.shape[1], X_train.shape[2])\n",
    "        \n",
    "        X_test_rec = gan.layers[0].predict(X_test)\n",
    "        scores = evaluate(X_test, X_test_rec, y_tests[i], is_reconstructed=True)\n",
    "\n",
    "        total_scores['dataset'].append(loader.__name__.replace('load_', ''))\n",
    "        total_scores['f1'].append(np.max(scores['f1']))\n",
    "        total_scores['pr_auc'].append(scores['pr_auc'])\n",
    "        total_scores['roc_auc'].append(scores['roc_auc'])\n",
    "        print(loader.__name__.replace('load_', ''), np.max(scores['f1']), scores['pr_auc'], scores['roc_auc'])   "
   ]
  },
  {
   "cell_type": "code",
   "execution_count": 12,
   "id": "23474773-bac1-4145-ac75-c1a686bca5c6",
   "metadata": {},
   "outputs": [
    {
     "data": {
      "text/html": [
       "<div>\n",
       "<style scoped>\n",
       "    .dataframe tbody tr th:only-of-type {\n",
       "        vertical-align: middle;\n",
       "    }\n",
       "\n",
       "    .dataframe tbody tr th {\n",
       "        vertical-align: top;\n",
       "    }\n",
       "\n",
       "    .dataframe thead th {\n",
       "        text-align: right;\n",
       "    }\n",
       "</style>\n",
       "<table border=\"1\" class=\"dataframe\">\n",
       "  <thead>\n",
       "    <tr style=\"text-align: right;\">\n",
       "      <th></th>\n",
       "      <th>f1</th>\n",
       "      <th>pr_auc</th>\n",
       "      <th>roc_auc</th>\n",
       "    </tr>\n",
       "    <tr>\n",
       "      <th>dataset</th>\n",
       "      <th></th>\n",
       "      <th></th>\n",
       "      <th></th>\n",
       "    </tr>\n",
       "  </thead>\n",
       "  <tbody>\n",
       "    <tr>\n",
       "      <th>smd</th>\n",
       "      <td>0.179698</td>\n",
       "      <td>0.024399</td>\n",
       "      <td>0.47437</td>\n",
       "    </tr>\n",
       "  </tbody>\n",
       "</table>\n",
       "</div>"
      ],
      "text/plain": [
       "               f1    pr_auc  roc_auc\n",
       "dataset                             \n",
       "smd      0.179698  0.024399  0.47437"
      ]
     },
     "execution_count": 12,
     "metadata": {},
     "output_type": "execute_result"
    }
   ],
   "source": [
    "smd_results = pd.DataFrame(total_scores)\n",
    "smd_results.groupby('dataset').mean()"
   ]
  },
  {
   "cell_type": "markdown",
   "id": "1acf69c6-5136-40b1-a62e-0057ab6e8e79",
   "metadata": {},
   "source": [
    "### ECG"
   ]
  },
  {
   "cell_type": "code",
   "execution_count": 13,
   "id": "110fcd09-f039-43a6-a27a-3b05f17e24fd",
   "metadata": {},
   "outputs": [],
   "source": [
    "total_scores = {'dataset': [], 'f1': [], 'pr_auc': [], 'roc_auc': []}"
   ]
  },
  {
   "cell_type": "code",
   "execution_count": 14,
   "id": "33e7998d-10e7-48c4-b2a4-c5e841abc77c",
   "metadata": {},
   "outputs": [
    {
     "data": {
      "application/vnd.jupyter.widget-view+json": {
       "model_id": "14528587ad29464993e94e40e9dfd64f",
       "version_major": 2,
       "version_minor": 0
      },
      "text/plain": [
       "  0%|          | 0/9 [00:00<?, ?it/s]"
      ]
     },
     "metadata": {},
     "output_type": "display_data"
    },
    {
     "data": {
      "application/vnd.jupyter.widget-view+json": {
       "model_id": "49cc28c4b79a4da3afa7278a04e6c980",
       "version_major": 2,
       "version_minor": 0
      },
      "text/plain": [
       "  0%|          | 0/9 [00:00<?, ?it/s]"
      ]
     },
     "metadata": {},
     "output_type": "display_data"
    },
    {
     "name": "stdout",
     "output_type": "stream",
     "text": [
      "D1 0.46153841893491365 0.3206663754191511 0.5608695579908634\n",
      "D2 0.3043477989603044 0.17650912903199803 0.3757440402834247\n",
      "D3 0.11009173251409898 0.02450980358613006 0.4999999894845363\n",
      "D4 0.2999999730000019 0.17987243076746443 0.352678563227041\n",
      "D5 0.27450977916186264 0.10227802413473001 0.30823680288237776\n",
      "D6 0.2352940959630927 0.11917614182145352 0.5881336304824376\n",
      "D7 0.05079364581103594 0.009836065500954918 0.4999999914994427\n",
      "D8 0.21276593798098847 0.09216036011906095 0.43252627040428043\n",
      "D9 0.424242389531683 0.15913023814688546 0.30128204806224756\n"
     ]
    }
   ],
   "source": [
    "for loader in [load_ecg]:\n",
    "    datasets = loader(64, 32)\n",
    "    x_trains, x_tests, y_tests = datasets['x_train'], datasets['x_test'], datasets['y_test']\n",
    "    \n",
    "    for i in tqdm(range(len(x_trains))):\n",
    "        tf.keras.backend.clear_session()\n",
    "\n",
    "        X_train = x_trains[i]\n",
    "        X_test = x_tests[i]\n",
    "        \n",
    "        gan = get_gan(X_train)\n",
    "        dataset = tf.data.Dataset.from_tensor_slices(X_train)\n",
    "        dataset = dataset.batch(128, drop_remainder=True).prefetch(1)\n",
    "\n",
    "        train_gan(gan, dataset, 128, X_train.shape[1], X_train.shape[2])\n",
    "        \n",
    "        X_test_rec = gan.layers[0].predict(X_test)\n",
    "        scores = evaluate(X_test, X_test_rec, y_tests[i], is_reconstructed=True)\n",
    "        \n",
    "        total_scores['dataset'].append(f'D{i+1}')\n",
    "        total_scores['f1'].append(np.max(scores['f1']))\n",
    "        total_scores['pr_auc'].append(scores['pr_auc'])\n",
    "        total_scores['roc_auc'].append(scores['roc_auc'])\n",
    "        print(f'D{i+1}', np.max(scores['f1']), scores['pr_auc'], scores['roc_auc'])  "
   ]
  },
  {
   "cell_type": "code",
   "execution_count": 15,
   "id": "dd066703-fab4-4dc0-8e8f-57fc2a9a7ff4",
   "metadata": {},
   "outputs": [
    {
     "data": {
      "text/html": [
       "<div>\n",
       "<style scoped>\n",
       "    .dataframe tbody tr th:only-of-type {\n",
       "        vertical-align: middle;\n",
       "    }\n",
       "\n",
       "    .dataframe tbody tr th {\n",
       "        vertical-align: top;\n",
       "    }\n",
       "\n",
       "    .dataframe thead th {\n",
       "        text-align: right;\n",
       "    }\n",
       "</style>\n",
       "<table border=\"1\" class=\"dataframe\">\n",
       "  <thead>\n",
       "    <tr style=\"text-align: right;\">\n",
       "      <th></th>\n",
       "      <th>f1</th>\n",
       "      <th>pr_auc</th>\n",
       "      <th>roc_auc</th>\n",
       "    </tr>\n",
       "    <tr>\n",
       "      <th>dataset</th>\n",
       "      <th></th>\n",
       "      <th></th>\n",
       "      <th></th>\n",
       "    </tr>\n",
       "  </thead>\n",
       "  <tbody>\n",
       "    <tr>\n",
       "      <th>D1</th>\n",
       "      <td>0.461538</td>\n",
       "      <td>0.320666</td>\n",
       "      <td>0.560870</td>\n",
       "    </tr>\n",
       "    <tr>\n",
       "      <th>D2</th>\n",
       "      <td>0.304348</td>\n",
       "      <td>0.176509</td>\n",
       "      <td>0.375744</td>\n",
       "    </tr>\n",
       "    <tr>\n",
       "      <th>D3</th>\n",
       "      <td>0.110092</td>\n",
       "      <td>0.024510</td>\n",
       "      <td>0.500000</td>\n",
       "    </tr>\n",
       "    <tr>\n",
       "      <th>D4</th>\n",
       "      <td>0.300000</td>\n",
       "      <td>0.179872</td>\n",
       "      <td>0.352679</td>\n",
       "    </tr>\n",
       "    <tr>\n",
       "      <th>D5</th>\n",
       "      <td>0.274510</td>\n",
       "      <td>0.102278</td>\n",
       "      <td>0.308237</td>\n",
       "    </tr>\n",
       "    <tr>\n",
       "      <th>D6</th>\n",
       "      <td>0.235294</td>\n",
       "      <td>0.119176</td>\n",
       "      <td>0.588134</td>\n",
       "    </tr>\n",
       "    <tr>\n",
       "      <th>D7</th>\n",
       "      <td>0.050794</td>\n",
       "      <td>0.009836</td>\n",
       "      <td>0.500000</td>\n",
       "    </tr>\n",
       "    <tr>\n",
       "      <th>D8</th>\n",
       "      <td>0.212766</td>\n",
       "      <td>0.092160</td>\n",
       "      <td>0.432526</td>\n",
       "    </tr>\n",
       "    <tr>\n",
       "      <th>D9</th>\n",
       "      <td>0.424242</td>\n",
       "      <td>0.159130</td>\n",
       "      <td>0.301282</td>\n",
       "    </tr>\n",
       "  </tbody>\n",
       "</table>\n",
       "</div>"
      ],
      "text/plain": [
       "               f1    pr_auc   roc_auc\n",
       "dataset                              \n",
       "D1       0.461538  0.320666  0.560870\n",
       "D2       0.304348  0.176509  0.375744\n",
       "D3       0.110092  0.024510  0.500000\n",
       "D4       0.300000  0.179872  0.352679\n",
       "D5       0.274510  0.102278  0.308237\n",
       "D6       0.235294  0.119176  0.588134\n",
       "D7       0.050794  0.009836  0.500000\n",
       "D8       0.212766  0.092160  0.432526\n",
       "D9       0.424242  0.159130  0.301282"
      ]
     },
     "execution_count": 15,
     "metadata": {},
     "output_type": "execute_result"
    }
   ],
   "source": [
    "ecg_results = pd.DataFrame(total_scores)\n",
    "ecg_results.groupby('dataset').mean()"
   ]
  },
  {
   "cell_type": "markdown",
   "id": "32b55486-3ced-4ecd-8b4b-3e7faf10abe4",
   "metadata": {},
   "source": [
    "### Power Demand"
   ]
  },
  {
   "cell_type": "code",
   "execution_count": 16,
   "id": "83b22ae9-1df8-4d9c-8db1-e4f719476df5",
   "metadata": {},
   "outputs": [],
   "source": [
    "total_scores = {'dataset': [], 'f1': [], 'pr_auc': [], 'roc_auc': []}"
   ]
  },
  {
   "cell_type": "code",
   "execution_count": 17,
   "id": "5ee504a8-18a9-45ec-ae6a-387138d55736",
   "metadata": {},
   "outputs": [
    {
     "data": {
      "application/vnd.jupyter.widget-view+json": {
       "model_id": "c00279b594d343888b95b5e796410e13",
       "version_major": 2,
       "version_minor": 0
      },
      "text/plain": [
       "  0%|          | 0/1 [00:00<?, ?it/s]"
      ]
     },
     "metadata": {},
     "output_type": "display_data"
    },
    {
     "name": "stdout",
     "output_type": "stream",
     "text": [
      "power_demand 0.7499999343750033 0.3499999800833342 -0.0\n"
     ]
    }
   ],
   "source": [
    "for loader in [load_power_demand]:\n",
    "    datasets = loader(512, 256)\n",
    "    x_trains, x_tests, y_tests = datasets['x_train'], datasets['x_test'], datasets['y_test']\n",
    "    \n",
    "    for i in tqdm(range(len(x_trains))):\n",
    "        tf.keras.backend.clear_session()\n",
    "\n",
    "        X_train = x_trains[i]\n",
    "        X_test = x_tests[i]\n",
    "        \n",
    "        gan = get_gan(X_train)\n",
    "        dataset = tf.data.Dataset.from_tensor_slices(X_train)\n",
    "        dataset = dataset.batch(128, drop_remainder=True).prefetch(1)\n",
    "\n",
    "        train_gan(gan, dataset, 128, X_train.shape[1], X_train.shape[2])\n",
    "        \n",
    "        X_test_rec = gan.layers[0].predict(X_test)\n",
    "        scores = evaluate(X_test, X_test_rec, y_tests[i], is_reconstructed=True)\n",
    "\n",
    "        total_scores['dataset'].append(loader.__name__.replace('load_', ''))\n",
    "        total_scores['f1'].append(np.max(scores['f1']))\n",
    "        total_scores['pr_auc'].append(scores['pr_auc'])\n",
    "        total_scores['roc_auc'].append(scores['roc_auc'])\n",
    "        print(loader.__name__.replace('load_', ''), np.max(scores['f1']), scores['pr_auc'], scores['roc_auc']) "
   ]
  },
  {
   "cell_type": "code",
   "execution_count": 18,
   "id": "96a9ddc1-cd03-4d47-8586-d9ac8ac25dea",
   "metadata": {},
   "outputs": [
    {
     "data": {
      "text/html": [
       "<div>\n",
       "<style scoped>\n",
       "    .dataframe tbody tr th:only-of-type {\n",
       "        vertical-align: middle;\n",
       "    }\n",
       "\n",
       "    .dataframe tbody tr th {\n",
       "        vertical-align: top;\n",
       "    }\n",
       "\n",
       "    .dataframe thead th {\n",
       "        text-align: right;\n",
       "    }\n",
       "</style>\n",
       "<table border=\"1\" class=\"dataframe\">\n",
       "  <thead>\n",
       "    <tr style=\"text-align: right;\">\n",
       "      <th></th>\n",
       "      <th>f1</th>\n",
       "      <th>pr_auc</th>\n",
       "      <th>roc_auc</th>\n",
       "    </tr>\n",
       "    <tr>\n",
       "      <th>dataset</th>\n",
       "      <th></th>\n",
       "      <th></th>\n",
       "      <th></th>\n",
       "    </tr>\n",
       "  </thead>\n",
       "  <tbody>\n",
       "    <tr>\n",
       "      <th>power_demand</th>\n",
       "      <td>0.75</td>\n",
       "      <td>0.35</td>\n",
       "      <td>0.0</td>\n",
       "    </tr>\n",
       "  </tbody>\n",
       "</table>\n",
       "</div>"
      ],
      "text/plain": [
       "                f1  pr_auc  roc_auc\n",
       "dataset                            \n",
       "power_demand  0.75    0.35      0.0"
      ]
     },
     "execution_count": 18,
     "metadata": {},
     "output_type": "execute_result"
    }
   ],
   "source": [
    "power_results = pd.DataFrame(total_scores)\n",
    "power_results.groupby('dataset').mean()"
   ]
  },
  {
   "cell_type": "markdown",
   "id": "21a2dd28-adbe-432c-9dfc-5fb478728d1b",
   "metadata": {},
   "source": [
    "### 2D Gesture"
   ]
  },
  {
   "cell_type": "code",
   "execution_count": 19,
   "id": "335b8cb2-b416-4850-8888-68af70886b73",
   "metadata": {},
   "outputs": [],
   "source": [
    "total_scores = {'dataset': [], 'f1': [], 'pr_auc': [], 'roc_auc': []}"
   ]
  },
  {
   "cell_type": "code",
   "execution_count": 20,
   "id": "b1a951c6-fdc5-4b0c-be0b-244e57b4c024",
   "metadata": {},
   "outputs": [
    {
     "data": {
      "application/vnd.jupyter.widget-view+json": {
       "model_id": "65852e2209af4939bb5c162f916722df",
       "version_major": 2,
       "version_minor": 0
      },
      "text/plain": [
       "  0%|          | 0/1 [00:00<?, ?it/s]"
      ]
     },
     "metadata": {},
     "output_type": "display_data"
    },
    {
     "name": "stdout",
     "output_type": "stream",
     "text": [
      "gesture 0.42201831455264965 0.13372092949567335 0.49999999703243614\n"
     ]
    }
   ],
   "source": [
    "for loader in [load_gesture]:\n",
    "    datasets = loader(64, 32)\n",
    "    x_trains, x_tests, y_tests = datasets['x_train'], datasets['x_test'], datasets['y_test']\n",
    "    \n",
    "    for i in tqdm(range(len(x_trains))):\n",
    "        tf.keras.backend.clear_session()\n",
    "\n",
    "        X_train = x_trains[i]\n",
    "        X_test = x_tests[i]\n",
    "        \n",
    "        gan = get_gan(X_train)\n",
    "        dataset = tf.data.Dataset.from_tensor_slices(X_train)\n",
    "        dataset = dataset.batch(128, drop_remainder=True).prefetch(1)\n",
    "\n",
    "        train_gan(gan, dataset, 128, X_train.shape[1], X_train.shape[2])\n",
    "        \n",
    "        X_test_rec = gan.layers[0].predict(X_test)\n",
    "        scores = evaluate(X_test, X_test_rec, y_tests[i], is_reconstructed=True)\n",
    "\n",
    "\n",
    "        total_scores['dataset'].append(loader.__name__.replace('load_', ''))\n",
    "        total_scores['f1'].append(np.max(scores['f1']))\n",
    "        total_scores['pr_auc'].append(scores['pr_auc'])\n",
    "        total_scores['roc_auc'].append(scores['roc_auc'])\n",
    "        print(loader.__name__.replace('load_', ''), np.max(scores['f1']), scores['pr_auc'], scores['roc_auc'])  "
   ]
  },
  {
   "cell_type": "code",
   "execution_count": 21,
   "id": "689bf1c8-2e34-4d9a-8a64-e17cd0b7df40",
   "metadata": {},
   "outputs": [
    {
     "data": {
      "text/html": [
       "<div>\n",
       "<style scoped>\n",
       "    .dataframe tbody tr th:only-of-type {\n",
       "        vertical-align: middle;\n",
       "    }\n",
       "\n",
       "    .dataframe tbody tr th {\n",
       "        vertical-align: top;\n",
       "    }\n",
       "\n",
       "    .dataframe thead th {\n",
       "        text-align: right;\n",
       "    }\n",
       "</style>\n",
       "<table border=\"1\" class=\"dataframe\">\n",
       "  <thead>\n",
       "    <tr style=\"text-align: right;\">\n",
       "      <th></th>\n",
       "      <th>f1</th>\n",
       "      <th>pr_auc</th>\n",
       "      <th>roc_auc</th>\n",
       "    </tr>\n",
       "    <tr>\n",
       "      <th>dataset</th>\n",
       "      <th></th>\n",
       "      <th></th>\n",
       "      <th></th>\n",
       "    </tr>\n",
       "  </thead>\n",
       "  <tbody>\n",
       "    <tr>\n",
       "      <th>gesture</th>\n",
       "      <td>0.422018</td>\n",
       "      <td>0.133721</td>\n",
       "      <td>0.5</td>\n",
       "    </tr>\n",
       "  </tbody>\n",
       "</table>\n",
       "</div>"
      ],
      "text/plain": [
       "               f1    pr_auc  roc_auc\n",
       "dataset                             \n",
       "gesture  0.422018  0.133721      0.5"
      ]
     },
     "execution_count": 21,
     "metadata": {},
     "output_type": "execute_result"
    }
   ],
   "source": [
    "gesture_results = pd.DataFrame(total_scores)\n",
    "gesture_results.groupby('dataset').mean()"
   ]
  }
 ],
 "metadata": {
  "kernelspec": {
   "display_name": "Python 3",
   "language": "python",
   "name": "python3"
  },
  "language_info": {
   "codemirror_mode": {
    "name": "ipython",
    "version": 3
   },
   "file_extension": ".py",
   "mimetype": "text/x-python",
   "name": "python",
   "nbconvert_exporter": "python",
   "pygments_lexer": "ipython3",
   "version": "3.9.4"
  }
 },
 "nbformat": 4,
 "nbformat_minor": 5
}
