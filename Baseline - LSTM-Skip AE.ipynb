{
 "cells": [
  {
   "cell_type": "code",
   "execution_count": 1,
   "id": "4b3c1f47-6e9c-4e56-a255-939f8178a82a",
   "metadata": {},
   "outputs": [],
   "source": [
    "import os\n",
    "import random\n",
    "\n",
    "os.environ[\"CUDA_DEVICE_ORDER\"] = \"PCI_BUS_ID\";\n",
    "os.environ[\"CUDA_VISIBLE_DEVICES\"] = \"0\"\n",
    "os.environ[\"TF_FORCE_GPU_ALLOW_GROWTH\"] = \"true\""
   ]
  },
  {
   "cell_type": "code",
   "execution_count": 2,
   "id": "5ba60486-a465-4823-b8a5-d223f95fe93a",
   "metadata": {},
   "outputs": [],
   "source": [
    "import numpy as np\n",
    "import pandas as pd\n",
    "import tensorflow as tf\n",
    "\n",
    "from evaluator import evaluate\n",
    "from data_loader import load_kdd_cup_urc, load_yahoo_A1, load_yahoo_A2, load_yahoo_A3, load_yahoo_A4, load_power_demand # Univariate Datasets\n",
    "from data_loader import load_nasa, load_ecg, load_gesture, load_smd # Multivariate Datasets\n",
    "\n",
    "from tqdm.notebook import tqdm\n",
    "from tensorflow.keras import Model\n",
    "from tensorflow.keras.layers import Dense, Input, LSTM, Reshape, Dropout, GaussianNoise, Concatenate, Lambda, RepeatVector\n",
    "\n",
    "# THESE LINES ARE FOR REPRODUCIBILITY\n",
    "random.seed(0)\n",
    "np.random.seed(0)\n",
    "tf.random.set_seed(0)"
   ]
  },
  {
   "cell_type": "code",
   "execution_count": 3,
   "id": "ec0f1ab4-164a-4fab-82e3-e42045ec6cda",
   "metadata": {},
   "outputs": [],
   "source": [
    "def Skip_AE(seq_length, dim, N_RES=3, N_LAYERS=1, BATCH_SIZE=128):\n",
    "    tf.keras.backend.clear_session()\n",
    "    \n",
    "    en_inputs = []\n",
    "    shared_latents = []\n",
    "    for n in range(N_RES):\n",
    "        selected_t = [t for t in range(0, seq_length, 2**n)]\n",
    "        en_input = Input(shape=[len(selected_t), dim])\n",
    "        en_inputs.append(en_input)\n",
    "\n",
    "    de_outputs = []\n",
    "    for n in range(N_RES):\n",
    "        for l in range(N_LAYERS):\n",
    "            X = en_inputs[n] if l == 0 else X\n",
    "            X = GaussianNoise(0.5)(X) if l == 0 else X\n",
    "            X = LSTM(64, return_sequences=False if l + 1 == N_LAYERS else True)(X)\n",
    "        h = Dense(32, activation='relu', kernel_regularizer='l1')(X)\n",
    "        shared_latents.append(h)\n",
    "\n",
    "    for n in range(N_RES):\n",
    "        selected_t = [t for t in range(0, seq_length, 2**n)]\n",
    "        for l in range(N_LAYERS):\n",
    "            if l == 0:\n",
    "                X = Concatenate()(shared_latents)\n",
    "                X = Dense(128, activation='relu')(X)\n",
    "                X = Concatenate()([X, shared_latents[n]])\n",
    "                X = RepeatVector(len(selected_t))(X)\n",
    "            X = LSTM(64, return_sequences=False if l + 1 == N_LAYERS else True)(X)\n",
    "        rec_x = Dense(len(selected_t) * dim)(X)\n",
    "        rec_x = Reshape([len(selected_t), dim])(rec_x)\n",
    "        de_outputs.append(rec_x)\n",
    "\n",
    "    model = Model(inputs=en_inputs, outputs=de_outputs)\n",
    "    model.compile(optimizer=tf.keras.optimizers.Adam(learning_rate=0.001), loss=\"mse\")\n",
    "\n",
    "    return model"
   ]
  },
  {
   "cell_type": "markdown",
   "id": "aceba82a-7e10-4058-92aa-9b12874ff37d",
   "metadata": {},
   "source": [
    "### Yahoo S5"
   ]
  },
  {
   "cell_type": "code",
   "execution_count": 4,
   "id": "96ebab6a-0bb8-466c-bac2-1c15fb237ae3",
   "metadata": {},
   "outputs": [],
   "source": [
    "total_scores = {'dataset': [], 'f1': [], 'pr_auc': [], 'roc_auc': []}"
   ]
  },
  {
   "cell_type": "code",
   "execution_count": 5,
   "id": "bfb543b5-1d55-4b47-ae21-e8bdeafaa8d9",
   "metadata": {
    "scrolled": true,
    "tags": []
   },
   "outputs": [
    {
     "data": {
      "application/vnd.jupyter.widget-view+json": {
       "model_id": "c9410d2d34ae45b09617513a235ca8de",
       "version_major": 2,
       "version_minor": 0
      },
      "text/plain": [
       "  0%|          | 0/67 [00:00<?, ?it/s]"
      ]
     },
     "metadata": {},
     "output_type": "display_data"
    },
    {
     "data": {
      "application/vnd.jupyter.widget-view+json": {
       "model_id": "7b6e309440f548fb838fe28b7e15100b",
       "version_major": 2,
       "version_minor": 0
      },
      "text/plain": [
       "  0%|          | 0/56 [00:00<?, ?it/s]"
      ]
     },
     "metadata": {},
     "output_type": "display_data"
    },
    {
     "name": "stdout",
     "output_type": "stream",
     "text": [
      "yahoo_A1 0.5714285142857172 0.1250000006249989 -0.0\n",
      "yahoo_A1 0.0 0.0 0.0\n",
      "yahoo_A1 0.0 0.0 0.0\n",
      "yahoo_A1 0.0 0.0 0.0\n",
      "WARNING:tensorflow:5 out of the last 5 calls to <function Model.make_predict_function.<locals>.predict_function at 0x7fc9a00aa940> triggered tf.function retracing. Tracing is expensive and the excessive number of tracings could be due to (1) creating @tf.function repeatedly in a loop, (2) passing tensors with different shapes, (3) passing Python objects instead of tensors. For (1), please define your @tf.function outside of the loop. For (2), @tf.function has experimental_relax_shapes=True option that relaxes argument shapes that can avoid unnecessary retracing. For (3), please refer to https://www.tensorflow.org/guide/function#controlling_retracing and https://www.tensorflow.org/api_docs/python/tf/function for  more details.\n",
      "yahoo_A1 0.0 0.0 0.0\n",
      "WARNING:tensorflow:6 out of the last 6 calls to <function Model.make_predict_function.<locals>.predict_function at 0x7fc81c6988b0> triggered tf.function retracing. Tracing is expensive and the excessive number of tracings could be due to (1) creating @tf.function repeatedly in a loop, (2) passing tensors with different shapes, (3) passing Python objects instead of tensors. For (1), please define your @tf.function outside of the loop. For (2), @tf.function has experimental_relax_shapes=True option that relaxes argument shapes that can avoid unnecessary retracing. For (3), please refer to https://www.tensorflow.org/guide/function#controlling_retracing and https://www.tensorflow.org/api_docs/python/tf/function for  more details.\n",
      "yahoo_A1 0.0 0.0 0.0\n",
      "yahoo_A1 0.33333329444444565 0.09999998800000123 0.49999993750000654\n",
      "yahoo_A1 0.5714285142857172 0.1250000006249989 -0.0\n",
      "yahoo_A1 0.5714285142857172 0.1250000006249989 0.49999993333334053\n",
      "yahoo_A1 0.33333329444444565 0.09999998800000123 -0.0\n",
      "yahoo_A1 0.8888888197530895 0.25000000993055255 -0.0\n",
      "yahoo_A1 0.5714285142857172 0.1999999860000008 -0.0\n",
      "yahoo_A1 0.9999998500000123 0.49999990000001493 0.9999998750000131\n",
      "yahoo_A1 0.0 0.0 0.0\n",
      "yahoo_A1 0.33333329444444565 0.0 0.0\n",
      "yahoo_A1 0.0 0.0 -0.0\n",
      "yahoo_A1 0.7499999343750033 0.0 0.0\n",
      "yahoo_A1 0.7499999343750033 0.1666666744444422 -0.0\n",
      "yahoo_A1 0.7499999343750033 0.1666666744444422 -0.0\n",
      "yahoo_A1 0.7499999343750033 0.0 0.0\n",
      "yahoo_A1 0.0 0.0 0.0\n",
      "yahoo_A1 0.0 0.0 0.0\n",
      "yahoo_A1 0.9999999166666703 0.7499999041666788 0.9999999166666721\n",
      "yahoo_A1 0.9999999166666703 0.49999996666666835 0.9999999166666721\n",
      "yahoo_A1 0.0 0.0 0.0\n",
      "yahoo_A1 0.8888888197530895 0.3333333238194443 -0.0\n",
      "yahoo_A1 0.9999999000000052 0.7499998875000143 0.9999999166666722\n",
      "yahoo_A1 0.7499999343750033 0.0 0.0\n",
      "yahoo_A1 0.7499999343750033 0.0 0.0\n",
      "yahoo_A1 0.0 0.0 -0.0\n",
      "yahoo_A1 0.999999930000003 0.0 0.0\n",
      "yahoo_A1 0.5714285142857172 0.1999999860000008 -0.0\n",
      "yahoo_A1 0.33333329444444565 0.09999998800000123 0.49999993750000654\n",
      "yahoo_A1 0.5714285142857172 0.16666665236111228 0.33333328888889363\n",
      "yahoo_A1 0.5714285142857172 0.1250000006249989 -0.0\n",
      "yahoo_A1 0.7499999343750033 0.0 0.0\n",
      "yahoo_A1 0.7499999343750033 0.0 0.0\n",
      "yahoo_A1 0.0 0.0 0.0\n",
      "yahoo_A1 0.7499999343750033 0.0 0.0\n",
      "yahoo_A1 0.7499999343750033 0.0 0.0\n",
      "yahoo_A1 0.33333329444444565 0.0 0.0\n",
      "yahoo_A1 0.8888888197530895 0.0 0.0\n",
      "yahoo_A1 0.8888888197530895 0.0 0.0\n",
      "yahoo_A1 0.7499999343750033 0.1666666744444422 -0.0\n",
      "yahoo_A1 0.0 0.0 0.0\n",
      "yahoo_A1 0.0 0.0 0.0\n",
      "yahoo_A1 0.5714285142857172 0.1250000006249989 -0.0\n",
      "yahoo_A1 0.0 0.0 0.0\n",
      "yahoo_A1 0.0 0.0 0.0\n",
      "yahoo_A1 0.0 0.0 0.0\n",
      "yahoo_A1 0.6666666000000033 0.16666666527777654 0.33333330555555735\n",
      "yahoo_A1 0.9999999000000052 0.4999999500000039 0.9999999166666721\n",
      "yahoo_A1 0.0 0.0 0.0\n",
      "yahoo_A1 0.33333329444444565 0.09999998800000123 -0.0\n",
      "yahoo_A1 0.5714285142857172 0.1250000006249989 -0.0\n",
      "yahoo_A1 0.5714285142857172 0.0 0.0\n"
     ]
    },
    {
     "data": {
      "application/vnd.jupyter.widget-view+json": {
       "model_id": "32cec35bc89f4f76b29ba90767088d3a",
       "version_major": 2,
       "version_minor": 0
      },
      "text/plain": [
       "  0%|          | 0/100 [00:00<?, ?it/s]"
      ]
     },
     "metadata": {},
     "output_type": "display_data"
    },
    {
     "data": {
      "application/vnd.jupyter.widget-view+json": {
       "model_id": "de20ad044b32404e8f3d11e08ec5c664",
       "version_major": 2,
       "version_minor": 0
      },
      "text/plain": [
       "  0%|          | 0/100 [00:00<?, ?it/s]"
      ]
     },
     "metadata": {},
     "output_type": "display_data"
    },
    {
     "name": "stdout",
     "output_type": "stream",
     "text": [
      "yahoo_A2 0.46153841893491365 0.06250000600115631 0.0\n",
      "yahoo_A2 0.46153841893491365 1.3032405600333905e-08 0.0\n",
      "yahoo_A2 0.46153841893491365 0.06250000600115631 -0.0\n",
      "yahoo_A2 0.4285713887755125 0.05555556109988678 -0.0\n",
      "yahoo_A2 0.24999997187500062 0.07142856326530694 0.0\n",
      "yahoo_A2 0.46153841893491365 0.06250000600115631 -0.0\n",
      "yahoo_A2 0.4285713887755125 0.05555556109988678 -0.0\n",
      "yahoo_A2 0.24999997187500062 0.0 0.0\n",
      "yahoo_A2 0.46153841893491365 0.06250000600115631 -0.0\n",
      "yahoo_A2 0.4285713887755125 0.1130952352999381 0.312499967968753\n",
      "yahoo_A2 0.24999997187500062 0.07142856326530694 0.0\n",
      "yahoo_A2 0.46153841893491365 0.06250000600115631 -0.0\n",
      "yahoo_A2 0.4285713887755125 1.1717170107356334e-08 0.0\n",
      "yahoo_A2 0.4285713887755125 0.1509920576112337 0.20833332378472258\n",
      "yahoo_A2 0.24999997187500062 0.07142856326530694 -0.0\n",
      "yahoo_A2 0.46153841893491365 0.06250000600115631 -0.0\n",
      "yahoo_A2 0.4285713887755125 0.1363636305785126 -0.0\n",
      "yahoo_A2 0.24999997187500062 0.07142856326530694 0.0\n",
      "yahoo_A2 0.46153841893491365 0.09375000092303191 -0.0\n",
      "yahoo_A2 0.4285713887755125 3.9393935457305224e-09 0.0\n",
      "yahoo_A2 0.24999997187500062 0.07142856326530694 -0.0\n",
      "yahoo_A2 0.46153841893491365 0.06250000600115631 -0.0\n",
      "yahoo_A2 0.4285713887755125 0.05555556109988678 -0.0\n",
      "yahoo_A2 0.24999997187500062 0.0 0.0\n",
      "yahoo_A2 0.24999997187500062 0.07142856326530694 -0.0\n",
      "yahoo_A2 0.46153841893491365 0.06250000600115631 -0.0\n",
      "yahoo_A2 0.4285713887755125 0.05555556109988678 -0.0\n",
      "yahoo_A2 0.24999997187500062 0.07142856326530694 0.0\n",
      "yahoo_A2 0.46153841893491365 0.06250000600115631 -0.0\n",
      "yahoo_A2 0.4285713887755125 0.05555556109988678 -0.0\n",
      "yahoo_A2 0.24999997187500062 0.07142856326530694 0.0\n",
      "yahoo_A2 0.46153841893491365 0.06250000600115631 -0.0\n",
      "yahoo_A2 0.4285713887755125 0.05555556109988678 -0.0\n",
      "yahoo_A2 0.24999997187500062 0.07142856326530694 -0.0\n",
      "yahoo_A2 0.46153841893491365 0.06250000600115631 -0.0\n",
      "yahoo_A2 0.46153841893491365 0.06250000600115631 -0.0\n",
      "yahoo_A2 0.4285713887755125 0.10555555309988773 -0.0\n",
      "yahoo_A2 0.24999997187500062 0.07142856326530694 -0.0\n",
      "yahoo_A2 0.46153841893491365 0.06250000600115631 -0.0\n",
      "yahoo_A2 0.4285713887755125 0.05555556109988678 -0.0\n",
      "yahoo_A2 0.24999997187500062 0.07142856326530694 0.0\n",
      "yahoo_A2 0.46153841893491365 0.06250000600115631 -0.0\n",
      "yahoo_A2 0.4285713887755125 0.05555556109988678 -0.0\n",
      "yahoo_A2 0.24999997187500062 0.07142856326530694 -0.0\n",
      "yahoo_A2 0.46153841893491365 0.10267857121958816 0.10714284668367437\n",
      "yahoo_A2 0.4285713887755125 0.05555556109988678 -0.0\n",
      "yahoo_A2 0.4285713887755125 0.05555556109988678 -0.0\n",
      "yahoo_A2 0.24999997187500062 0.07142856326530694 -0.0\n",
      "yahoo_A2 0.46153841893491365 0.0937500009230319 -0.0\n",
      "yahoo_A2 0.4285713887755125 0.05555556109988678 -0.0\n",
      "yahoo_A2 0.24999997187500062 0.07142856326530694 0.0\n",
      "yahoo_A2 0.46153841893491365 0.08333333664351769 0.2857142530612278\n",
      "yahoo_A2 0.4285713887755125 0.05555556109988678 -0.0\n",
      "yahoo_A2 0.24999997187500062 0.07142856326530694 -0.0\n",
      "yahoo_A2 0.46153841893491365 0.06250000600115631 -0.0\n",
      "yahoo_A2 0.4285713887755125 0.05555556109988678 -0.0\n",
      "yahoo_A2 0.24999997187500062 0.07142856326530694 0.0\n",
      "yahoo_A2 0.24999997187500062 0.07142856326530694 -0.0\n",
      "yahoo_A2 0.46153841893491365 0.06250000600115631 0.0\n",
      "yahoo_A2 0.4285713887755125 0.05555556109988678 -0.0\n",
      "yahoo_A2 0.24999997187500062 0.07142856326530694 -0.0\n",
      "yahoo_A2 0.46153841893491365 0.06250000600115631 0.0\n",
      "yahoo_A2 0.4285713887755125 0.05555556109988678 -0.0\n",
      "yahoo_A2 0.24999997187500062 0.07142856326530694 0.0\n",
      "yahoo_A2 0.46153841893491365 0.06250000713541536 -0.0\n",
      "yahoo_A2 0.4285713887755125 0.05555556109988678 -0.0\n",
      "yahoo_A2 0.24999997187500062 0.07142856326530694 -0.0\n",
      "yahoo_A2 0.46153841893491365 0.06250000600115631 -0.0\n",
      "yahoo_A2 0.46153841893491365 0.06250000600115631 -0.0\n",
      "yahoo_A2 0.4285713887755125 0.05555556109988678 -0.0\n",
      "yahoo_A2 0.24999997187500062 0.07142856326530694 -0.0\n",
      "yahoo_A2 0.46153841893491365 0.06250000600115631 -0.0\n",
      "yahoo_A2 0.4285713887755125 0.05555556109988678 -0.0\n",
      "yahoo_A2 0.24999997187500062 0.07142856326530694 -0.0\n",
      "yahoo_A2 0.46153841893491365 0.06250000600115631 -0.0\n",
      "yahoo_A2 0.4285713887755125 0.05555556109988678 -0.0\n",
      "yahoo_A2 0.24999997187500062 0.0 0.0\n",
      "yahoo_A2 0.46153841893491365 0.06250000600115631 -0.0\n",
      "yahoo_A2 0.4285713887755125 1.1717170107356334e-08 0.0\n",
      "yahoo_A2 0.4285713887755125 0.05555556109988678 -0.0\n",
      "yahoo_A2 0.24999997187500062 0.07142856326530694 -0.0\n",
      "yahoo_A2 0.46153841893491365 0.06250000600115631 -0.0\n",
      "yahoo_A2 0.4285713887755125 0.05555556109988678 -0.0\n",
      "yahoo_A2 0.24999997187500062 0.07142856326530694 -0.0\n",
      "yahoo_A2 0.46153841893491365 0.06250000600115631 -0.0\n",
      "yahoo_A2 0.4285713887755125 0.05555556109988678 -0.0\n",
      "yahoo_A2 0.24999997187500062 0.07142856326530694 -0.0\n",
      "yahoo_A2 0.46153841893491365 0.06250000600115631 -0.0\n",
      "yahoo_A2 0.4285713887755125 0.13872353976741933 0.18749998828125058\n",
      "yahoo_A2 0.24999997187500062 0.07142856326530694 -0.0\n",
      "yahoo_A2 0.24999997187500062 0.07142856326530694 -0.0\n",
      "yahoo_A2 0.46153841893491365 0.10267857121958816 0.1785714135204093\n",
      "yahoo_A2 0.4285713887755125 0.05555556109988678 -0.0\n",
      "yahoo_A2 0.24999997187500062 0.07142856326530694 -0.0\n",
      "yahoo_A2 0.46153841893491365 0.09375000092303191 -0.0\n",
      "yahoo_A2 0.4285713887755125 0.055555562177327655 -0.0\n",
      "yahoo_A2 0.24999997187500062 0.07142856326530694 -0.0\n",
      "yahoo_A2 0.46153841893491365 0.06250000600115631 -0.0\n",
      "yahoo_A2 0.4285713887755125 0.05555556109988678 -0.0\n",
      "yahoo_A2 0.24999997187500062 0.07142856326530694 -0.0\n"
     ]
    },
    {
     "data": {
      "application/vnd.jupyter.widget-view+json": {
       "model_id": "622d99b451ae411d95555b91e04f2a44",
       "version_major": 2,
       "version_minor": 0
      },
      "text/plain": [
       "  0%|          | 0/100 [00:00<?, ?it/s]"
      ]
     },
     "metadata": {},
     "output_type": "display_data"
    },
    {
     "data": {
      "application/vnd.jupyter.widget-view+json": {
       "model_id": "bbdad3137e1541ebbddae8c995e95669",
       "version_major": 2,
       "version_minor": 0
      },
      "text/plain": [
       "  0%|          | 0/92 [00:00<?, ?it/s]"
      ]
     },
     "metadata": {},
     "output_type": "display_data"
    },
    {
     "name": "stdout",
     "output_type": "stream",
     "text": [
      "yahoo_A3 0.4999999500000025 0.0 0.0\n",
      "yahoo_A3 0.4999999500000025 0.10000000133333238 -0.0\n",
      "yahoo_A3 0.7999999360000031 5.277777344711406e-09 0.0\n",
      "yahoo_A3 0.4999999500000025 0.0 0.0\n",
      "yahoo_A3 0.9090908429752097 0.0 0.0\n",
      "yahoo_A3 0.4999999500000025 0.10000000133333238 0.0\n",
      "yahoo_A3 0.7999999360000031 0.2777777723148143 -0.0\n",
      "yahoo_A3 0.6666666074074105 0.0 0.0\n",
      "yahoo_A3 0.7999999360000031 0.0 0.0\n",
      "yahoo_A3 0.9999999333333361 0.49999998333333373 0.0\n",
      "yahoo_A3 0.9090908429752097 4.083333052458349e-09 0.0\n",
      "yahoo_A3 0.9090908429752097 0.0 0.0\n",
      "yahoo_A3 0.28571425306122533 0.08333332361111209 0.0\n",
      "yahoo_A3 0.7999999360000031 3.5277772680152144e-08 0.0\n",
      "yahoo_A3 0.28571425306122533 0.0 0.0\n",
      "yahoo_A3 0.9090908429752097 0.0 0.0\n",
      "yahoo_A3 0.4999999500000025 0.0 0.0\n",
      "yahoo_A3 0.4999999500000025 0.0 0.0\n",
      "yahoo_A3 0.6666666074074105 0.0 0.0\n",
      "yahoo_A3 0.28571425306122533 0.0 0.0\n",
      "yahoo_A3 0.28571425306122533 0.0 0.0\n",
      "yahoo_A3 0.6666666074074105 0.0 0.0\n",
      "yahoo_A3 0.9090908429752097 0.0 0.0\n",
      "yahoo_A3 0.28571425306122533 0.0 0.0\n",
      "yahoo_A3 0.4999999500000025 0.0 0.0\n",
      "yahoo_A3 0.6666666074074105 0.0 0.0\n",
      "yahoo_A3 0.4999999500000025 0.0 0.0\n",
      "yahoo_A3 0.4999999500000025 0.0 0.0\n",
      "yahoo_A3 0.6666666074074105 0.0 0.0\n",
      "yahoo_A3 0.7999999360000031 0.0 0.0\n",
      "yahoo_A3 0.9999999333333361 0.0 0.0\n",
      "yahoo_A3 0.9999999333333361 0.49999998333333373 0.0\n",
      "yahoo_A3 0.7999999360000031 0.16666667972221952 -0.0\n",
      "yahoo_A3 0.9090908429752097 0.0 0.0\n",
      "yahoo_A3 0.7999999360000031 0.31944443307870385 -0.0\n",
      "yahoo_A3 0.9090908429752097 0.2500000140138856 0.0\n",
      "yahoo_A3 0.9090908429752097 0.0 0.0\n",
      "yahoo_A3 0.7999999360000031 0.0 0.0\n",
      "yahoo_A3 0.6666666074074105 2.374999645729026e-08 0.0\n",
      "yahoo_A3 0.9090908429752097 0.2500000140138856 0.0\n",
      "yahoo_A3 0.0 0.0 0.0\n",
      "yahoo_A3 0.9999999333333361 0.0 0.0\n",
      "yahoo_A3 0.28571425306122533 0.0 0.0\n",
      "yahoo_A3 0.4999999500000025 1.3333331148236856e-08 0.0\n",
      "yahoo_A3 0.9090908429752097 0.2500000140138856 -0.0\n",
      "yahoo_A3 0.9090908429752097 0.0 0.0\n",
      "yahoo_A3 0.9999999333333361 3.3333332149565532e-09 0.0\n",
      "yahoo_A3 0.7999999360000031 0.16666667972221952 -0.0\n",
      "yahoo_A3 0.4999999500000025 0.0 0.0\n",
      "yahoo_A3 0.4999999500000025 0.0 0.0\n",
      "yahoo_A3 0.6666666074074105 0.0 0.0\n",
      "yahoo_A3 0.6666666074074105 0.1250000081249981 -0.0\n",
      "yahoo_A3 0.7999999360000031 0.0 0.0\n",
      "yahoo_A3 0.9090908429752097 5.151388120393767e-08 0.0\n",
      "yahoo_A3 0.7999999360000031 5.277777344711406e-09 0.0\n",
      "yahoo_A3 0.6666666074074105 0.0 0.0\n",
      "yahoo_A3 0.9090908429752097 0.0 0.0\n",
      "yahoo_A3 0.4999999500000025 0.0 0.0\n",
      "yahoo_A3 0.9090908429752097 0.0 0.0\n",
      "yahoo_A3 0.9090908429752097 0.0 0.0\n",
      "yahoo_A3 0.7999999360000031 0.0 0.0\n",
      "yahoo_A3 0.9090908429752097 0.2500000140138856 -0.0\n",
      "yahoo_A3 0.4999999500000025 0.10000000133333238 0.0\n",
      "yahoo_A3 0.7999999360000031 0.0 0.0\n",
      "yahoo_A3 0.7999999360000031 0.0 0.0\n",
      "yahoo_A3 0.7999999360000031 0.0 0.0\n",
      "yahoo_A3 0.6666666074074105 0.0 0.0\n",
      "yahoo_A3 0.9999999333333361 0.0 0.0\n",
      "yahoo_A3 0.9090908429752097 0.2500000140138856 -0.0\n",
      "yahoo_A3 0.28571425306122533 0.0 0.0\n",
      "yahoo_A3 0.6666666074074105 0.12500000937499783 0.0\n",
      "yahoo_A3 0.6666666074074105 0.1250000081249981 -0.0\n",
      "yahoo_A3 0.9999998500000123 0.7499998837500181 0.9999998833333448\n",
      "yahoo_A3 0.6666666074074105 0.1250000081249981 0.0\n",
      "yahoo_A3 0.4999999500000025 0.0 0.0\n",
      "yahoo_A3 0.4999999500000025 0.0 0.0\n",
      "yahoo_A3 0.7999999360000031 0.0 0.0\n",
      "yahoo_A3 0.6666666074074105 0.0 0.0\n",
      "yahoo_A3 0.4999999500000025 0.0 0.0\n",
      "yahoo_A3 0.9090908429752097 0.2500000140138856 0.0\n",
      "yahoo_A3 0.9090908429752097 0.2500000140138856 -0.0\n",
      "yahoo_A3 0.7999999360000031 0.0 0.0\n",
      "yahoo_A3 0.9090908429752097 2.2347219975155517e-08 0.0\n",
      "yahoo_A3 0.6666666074074105 0.1250000081249981 -0.0\n",
      "yahoo_A3 0.4999999500000025 0.10000000133333238 0.0\n",
      "yahoo_A3 0.6666666074074105 0.0 0.0\n",
      "yahoo_A3 0.6666666074074105 0.0 0.0\n",
      "yahoo_A3 0.9090908429752097 0.5833332820694499 0.4999999250000088\n",
      "yahoo_A3 0.6666666074074105 0.0 0.0\n",
      "yahoo_A3 0.6666666074074105 0.1250000081249981 0.0\n",
      "yahoo_A3 0.6666666074074105 0.0 0.0\n",
      "yahoo_A3 0.4999999500000025 0.10000000133333238 -0.0\n"
     ]
    },
    {
     "data": {
      "application/vnd.jupyter.widget-view+json": {
       "model_id": "a1218884113041219fb0ab364891c913",
       "version_major": 2,
       "version_minor": 0
      },
      "text/plain": [
       "  0%|          | 0/100 [00:00<?, ?it/s]"
      ]
     },
     "metadata": {},
     "output_type": "display_data"
    },
    {
     "data": {
      "application/vnd.jupyter.widget-view+json": {
       "model_id": "011ef62c72f049c1bf1e4f25194ba67b",
       "version_major": 2,
       "version_minor": 0
      },
      "text/plain": [
       "  0%|          | 0/82 [00:00<?, ?it/s]"
      ]
     },
     "metadata": {},
     "output_type": "display_data"
    },
    {
     "name": "stdout",
     "output_type": "stream",
     "text": [
      "yahoo_A4 0.6666666074074105 0.0 0.0\n",
      "yahoo_A4 0.4999999500000025 0.10000000133333238 -0.0\n",
      "yahoo_A4 0.6666666074074105 0.0 0.0\n",
      "yahoo_A4 0.4999999500000025 0.16666665555555618 -0.0\n",
      "yahoo_A4 0.9090908429752097 0.2500000140138856 -0.0\n",
      "yahoo_A4 0.7999999360000031 0.16666667972221952 -0.0\n",
      "yahoo_A4 0.4999999500000025 0.0 0.0\n",
      "yahoo_A4 0.4999999500000025 0.0 0.0\n",
      "yahoo_A4 0.9090908429752097 0.0 0.0\n",
      "yahoo_A4 0.7999999360000031 5.277777344711406e-09 0.0\n",
      "yahoo_A4 0.9090908429752097 0.0 0.0\n",
      "yahoo_A4 0.6666666074074105 0.0 0.0\n",
      "yahoo_A4 0.6666666074074105 2.374999645729026e-08 0.0\n",
      "yahoo_A4 0.28571425306122533 0.0 0.0\n",
      "yahoo_A4 0.28571425306122533 0.08333332361111209 -0.0\n",
      "yahoo_A4 0.4999999500000025 0.0 0.0\n",
      "yahoo_A4 0.9090908429752097 0.0 0.0\n",
      "yahoo_A4 0.7999999360000031 0.0 0.0\n",
      "yahoo_A4 0.9999999333333361 1.666666540856017e-08 0.0\n",
      "yahoo_A4 0.9090908429752097 0.0 0.0\n",
      "yahoo_A4 0.4999999500000025 0.10000000133333238 0.0\n",
      "yahoo_A4 0.7999999360000031 0.16666667972221952 -0.0\n",
      "yahoo_A4 0.7999999360000031 0.0 0.0\n",
      "yahoo_A4 0.4999999500000025 0.10000000133333238 -0.0\n",
      "yahoo_A4 0.6666666074074105 0.0 0.0\n",
      "yahoo_A4 0.7999999360000031 5.277777344711406e-09 0.0\n",
      "yahoo_A4 0.9999999333333361 3.3333332149565532e-09 0.0\n",
      "yahoo_A4 0.4999999500000025 0.0 0.0\n",
      "yahoo_A4 0.9090908429752097 0.0 0.0\n",
      "yahoo_A4 0.9999999333333361 1.6666665408560167e-08 0.0\n",
      "yahoo_A4 0.28571425306122533 0.08333332361111209 -0.0\n",
      "yahoo_A4 0.6666666074074105 0.0 0.0\n",
      "yahoo_A4 0.4999999500000025 0.0 0.0\n",
      "yahoo_A4 0.4999999500000025 0.0 0.0\n",
      "yahoo_A4 0.7999999360000031 0.0 0.0\n",
      "yahoo_A4 0.9090908429752097 0.0 0.0\n",
      "yahoo_A4 0.7999999360000031 0.16666667972221952 -0.0\n",
      "yahoo_A4 0.9090908429752097 0.0 0.0\n",
      "yahoo_A4 0.7999999360000031 0.24999999569444395 0.0\n",
      "yahoo_A4 0.6666666074074105 0.0 0.0\n",
      "yahoo_A4 0.9090908429752097 0.0 0.0\n",
      "yahoo_A4 0.0 0.0 0.0\n",
      "yahoo_A4 0.7999999360000031 0.0 0.0\n",
      "yahoo_A4 0.4999999500000025 0.0 0.0\n",
      "yahoo_A4 0.4999999500000025 0.0 0.0\n",
      "yahoo_A4 0.4999999500000025 0.0 0.0\n",
      "yahoo_A4 0.6666666074074105 0.2499999887500003 -0.0\n",
      "yahoo_A4 0.4999999500000025 0.0 0.0\n",
      "yahoo_A4 0.7999999360000031 0.16666667972221952 -0.0\n",
      "yahoo_A4 0.7999999360000031 0.16666667972221952 0.0\n",
      "yahoo_A4 0.7999999360000031 0.0 0.0\n",
      "yahoo_A4 0.7999999360000031 0.16666667972221952 -0.0\n",
      "yahoo_A4 0.4999999500000025 1.3333331148236856e-08 0.0\n",
      "yahoo_A4 0.28571425306122533 0.08333332361111209 -0.0\n",
      "yahoo_A4 0.9090908429752097 0.0 0.0\n",
      "yahoo_A4 0.6666666074074105 0.0 0.0\n",
      "yahoo_A4 0.6666666074074105 0.0 0.0\n",
      "yahoo_A4 0.4999999500000025 0.0 0.0\n",
      "yahoo_A4 0.4999999500000025 0.10000000133333238 -0.0\n",
      "yahoo_A4 0.7999999360000031 0.0 0.0\n",
      "yahoo_A4 0.6666666074074105 0.0 0.0\n",
      "yahoo_A4 0.7999999360000031 0.0 0.0\n",
      "yahoo_A4 0.7999999360000031 0.29166665888888865 0.24999997500000196\n",
      "yahoo_A4 0.7999999360000031 0.0 0.0\n",
      "yahoo_A4 0.4999999500000025 0.0 0.0\n",
      "yahoo_A4 0.6666666074074105 0.0 0.0\n",
      "yahoo_A4 0.6666666074074105 0.0 0.0\n",
      "yahoo_A4 0.4999999500000025 0.10000000133333238 0.0\n",
      "yahoo_A4 0.6666666074074105 0.0 0.0\n",
      "yahoo_A4 0.7999999360000031 0.0 0.0\n",
      "yahoo_A4 0.28571425306122533 0.08333332361111209 0.0\n",
      "yahoo_A4 0.9090908429752097 0.0 0.0\n",
      "yahoo_A4 0.9090908429752097 0.0 0.0\n",
      "yahoo_A4 0.7999999360000031 1.4444442978045904e-08 0.0\n",
      "yahoo_A4 0.7999999360000031 0.16666667972221952 -0.0\n",
      "yahoo_A4 0.9090908429752097 0.37499998901388903 0.0\n",
      "yahoo_A4 0.6666666074074105 0.0 0.0\n",
      "yahoo_A4 0.6666666074074105 0.0 0.0\n",
      "yahoo_A4 0.7999999360000031 3.5277772680152144e-08 0.0\n",
      "yahoo_A4 0.7999999360000031 0.16666667972221952 -0.0\n",
      "yahoo_A4 0.9090908429752097 0.0 0.0\n",
      "yahoo_A4 0.28571425306122533 0.0 0.0\n"
     ]
    }
   ],
   "source": [
    "for loader in [load_yahoo_A1, load_yahoo_A2, load_yahoo_A3, load_yahoo_A4]:\n",
    "    datasets = loader(128, 64)\n",
    "    x_trains, x_tests, y_tests = datasets['x_train'], datasets['x_test'], datasets['y_test']\n",
    "    \n",
    "    for i in tqdm(range(len(x_trains))):\n",
    "        X_train = x_trains[i]\n",
    "        X_test = x_tests[i]\n",
    "        \n",
    "        N_RES = 3\n",
    "\n",
    "        seq_length, dim = X_train.shape[1], X_train.shape[2]\n",
    "        X_train_reverse = np.flip(X_train, axis=1)\n",
    "        X_test_reverse = np.flip(X_test, axis=1)\n",
    "\n",
    "        X_train_by_res = []\n",
    "        X_test_by_res = []\n",
    "        X_train_by_res_reverse = []\n",
    "        \n",
    "        for n in range(N_RES):\n",
    "            selected_t = [t for t in range(0, seq_length, 2**n)]\n",
    "            X_train_by_res.append(X_train[:, selected_t, :])\n",
    "            X_test_by_res.append(X_test[:, selected_t, :])\n",
    "            X_train_by_res_reverse.append(X_train_reverse[:, selected_t, :])\n",
    "        \n",
    "        model = Skip_AE(seq_length, dim, N_RES, N_LAYERS=2, BATCH_SIZE=128)\n",
    "        history = model.fit(X_train_by_res, X_train_by_res_reverse, epochs=50, batch_size=128, validation_split=0.3, verbose=0,\n",
    "                            callbacks=[tf.keras.callbacks.EarlyStopping(monitor=\"val_loss\", patience=5, mode=\"min\", restore_best_weights=True)]) \n",
    "        \n",
    "        X_test_rec = [np.flip(rec, axis=1) for rec in model.predict(X_test_by_res)]\n",
    "        scores = evaluate(X_test, X_test_rec[0], y_tests[i], is_reconstructed=True)\n",
    "    \n",
    "        total_scores['dataset'].append(loader.__name__.replace('load_', ''))\n",
    "        total_scores['f1'].append(np.max(scores['f1']))\n",
    "        total_scores['pr_auc'].append(scores['pr_auc'])\n",
    "        total_scores['roc_auc'].append(scores['roc_auc'])\n",
    "        print(loader.__name__.replace('load_', ''), np.max(scores['f1']), scores['pr_auc'], scores['roc_auc'])   "
   ]
  },
  {
   "cell_type": "code",
   "execution_count": 6,
   "id": "ba871981-8985-4f94-ba02-f11bee44bf97",
   "metadata": {},
   "outputs": [
    {
     "data": {
      "text/html": [
       "<div>\n",
       "<style scoped>\n",
       "    .dataframe tbody tr th:only-of-type {\n",
       "        vertical-align: middle;\n",
       "    }\n",
       "\n",
       "    .dataframe tbody tr th {\n",
       "        vertical-align: top;\n",
       "    }\n",
       "\n",
       "    .dataframe thead th {\n",
       "        text-align: right;\n",
       "    }\n",
       "</style>\n",
       "<table border=\"1\" class=\"dataframe\">\n",
       "  <thead>\n",
       "    <tr style=\"text-align: right;\">\n",
       "      <th></th>\n",
       "      <th>f1</th>\n",
       "      <th>pr_auc</th>\n",
       "      <th>roc_auc</th>\n",
       "    </tr>\n",
       "    <tr>\n",
       "      <th>dataset</th>\n",
       "      <th></th>\n",
       "      <th></th>\n",
       "      <th></th>\n",
       "    </tr>\n",
       "  </thead>\n",
       "  <tbody>\n",
       "    <tr>\n",
       "      <th>yahoo_A1</th>\n",
       "      <td>0.467616</td>\n",
       "      <td>0.106548</td>\n",
       "      <td>0.127976</td>\n",
       "    </tr>\n",
       "    <tr>\n",
       "      <th>yahoo_A2</th>\n",
       "      <td>0.380852</td>\n",
       "      <td>0.064339</td>\n",
       "      <td>0.012798</td>\n",
       "    </tr>\n",
       "    <tr>\n",
       "      <th>yahoo_A3</th>\n",
       "      <td>0.701350</td>\n",
       "      <td>0.068992</td>\n",
       "      <td>0.016304</td>\n",
       "    </tr>\n",
       "    <tr>\n",
       "      <th>yahoo_A4</th>\n",
       "      <td>0.683027</td>\n",
       "      <td>0.045732</td>\n",
       "      <td>0.003049</td>\n",
       "    </tr>\n",
       "  </tbody>\n",
       "</table>\n",
       "</div>"
      ],
      "text/plain": [
       "                f1    pr_auc   roc_auc\n",
       "dataset                               \n",
       "yahoo_A1  0.467616  0.106548  0.127976\n",
       "yahoo_A2  0.380852  0.064339  0.012798\n",
       "yahoo_A3  0.701350  0.068992  0.016304\n",
       "yahoo_A4  0.683027  0.045732  0.003049"
      ]
     },
     "execution_count": 6,
     "metadata": {},
     "output_type": "execute_result"
    }
   ],
   "source": [
    "yahoo_results = pd.DataFrame(total_scores)\n",
    "yahoo_results.groupby('dataset').mean()"
   ]
  },
  {
   "cell_type": "markdown",
   "id": "ee4b544c-01d5-40dc-8c82-17002ca08ae8",
   "metadata": {},
   "source": [
    "### NASA"
   ]
  },
  {
   "cell_type": "code",
   "execution_count": 7,
   "id": "cf10eaa5-4d09-4617-8ec2-004069465222",
   "metadata": {},
   "outputs": [],
   "source": [
    "total_scores = {'dataset': [], 'f1': [], 'pr_auc': [], 'roc_auc': []}"
   ]
  },
  {
   "cell_type": "code",
   "execution_count": 8,
   "id": "eb19d991-dde5-49d1-b4db-52af438c7712",
   "metadata": {},
   "outputs": [
    {
     "data": {
      "application/vnd.jupyter.widget-view+json": {
       "model_id": "a7205ebc42da4351ba1536e00eab2aff",
       "version_major": 2,
       "version_minor": 0
      },
      "text/plain": [
       "  0%|          | 0/2 [00:00<?, ?it/s]"
      ]
     },
     "metadata": {},
     "output_type": "display_data"
    },
    {
     "data": {
      "application/vnd.jupyter.widget-view+json": {
       "model_id": "6608d977f0844de986668e2fe25ff52f",
       "version_major": 2,
       "version_minor": 0
      },
      "text/plain": [
       "  0%|          | 0/2 [00:00<?, ?it/s]"
      ]
     },
     "metadata": {},
     "output_type": "display_data"
    },
    {
     "name": "stdout",
     "output_type": "stream",
     "text": [
      "D1 0.2696078192101617 0.06842696238862755 0.3203802296909952\n",
      "D2 0.3080684237872245 0.12791586174039554 0.5657177134319693\n"
     ]
    }
   ],
   "source": [
    "for loader in [load_nasa]:\n",
    "    datasets = loader(128, 64)\n",
    "    x_trains, x_tests, y_tests = datasets['x_train'], datasets['x_test'], datasets['y_test']\n",
    "    \n",
    "    for i in tqdm(range(len(x_trains))):\n",
    "        X_train = x_trains[i]\n",
    "        X_test = x_tests[i]\n",
    "\n",
    "        N_RES = 3\n",
    "\n",
    "        seq_length, dim = X_train.shape[1], X_train.shape[2]\n",
    "        X_train_reverse = np.flip(X_train, axis=1)\n",
    "        X_test_reverse = np.flip(X_test, axis=1)\n",
    "\n",
    "        X_train_by_res = []\n",
    "        X_test_by_res = []\n",
    "        X_train_by_res_reverse = []\n",
    "        \n",
    "        for n in range(N_RES):\n",
    "            selected_t = [t for t in range(0, seq_length, 2**n)]\n",
    "            X_train_by_res.append(X_train[:, selected_t, :])\n",
    "            X_test_by_res.append(X_test[:, selected_t, :])\n",
    "            X_train_by_res_reverse.append(X_train_reverse[:, selected_t, :])\n",
    "        \n",
    "        model = Skip_AE(seq_length, dim, N_RES, N_LAYERS=2, BATCH_SIZE=128)\n",
    "        history = model.fit(X_train_by_res, X_train_by_res_reverse, epochs=50, batch_size=128, validation_split=0.3, verbose=0,\n",
    "                            callbacks=[tf.keras.callbacks.EarlyStopping(monitor=\"val_loss\", patience=5, mode=\"min\", restore_best_weights=True)]) \n",
    "        \n",
    "        X_test_rec = [np.flip(rec, axis=1) for rec in model.predict(X_test_by_res)]\n",
    "        scores = evaluate(X_test, X_test_rec[0], y_tests[i], is_reconstructed=True)\n",
    "        \n",
    "        total_scores['dataset'].append(f'D{i+1}')\n",
    "        total_scores['f1'].append(np.max(scores['f1']))\n",
    "        total_scores['pr_auc'].append(scores['pr_auc'])\n",
    "        total_scores['roc_auc'].append(scores['roc_auc'])\n",
    "        print(f'D{i+1}', np.max(scores['f1']), scores['pr_auc'], scores['roc_auc'])   "
   ]
  },
  {
   "cell_type": "code",
   "execution_count": 9,
   "id": "4358182d-2dd7-48b7-9c45-6b863091e963",
   "metadata": {},
   "outputs": [
    {
     "data": {
      "text/html": [
       "<div>\n",
       "<style scoped>\n",
       "    .dataframe tbody tr th:only-of-type {\n",
       "        vertical-align: middle;\n",
       "    }\n",
       "\n",
       "    .dataframe tbody tr th {\n",
       "        vertical-align: top;\n",
       "    }\n",
       "\n",
       "    .dataframe thead th {\n",
       "        text-align: right;\n",
       "    }\n",
       "</style>\n",
       "<table border=\"1\" class=\"dataframe\">\n",
       "  <thead>\n",
       "    <tr style=\"text-align: right;\">\n",
       "      <th></th>\n",
       "      <th>f1</th>\n",
       "      <th>pr_auc</th>\n",
       "      <th>roc_auc</th>\n",
       "    </tr>\n",
       "    <tr>\n",
       "      <th>dataset</th>\n",
       "      <th></th>\n",
       "      <th></th>\n",
       "      <th></th>\n",
       "    </tr>\n",
       "  </thead>\n",
       "  <tbody>\n",
       "    <tr>\n",
       "      <th>D1</th>\n",
       "      <td>0.269608</td>\n",
       "      <td>0.068427</td>\n",
       "      <td>0.320380</td>\n",
       "    </tr>\n",
       "    <tr>\n",
       "      <th>D2</th>\n",
       "      <td>0.308068</td>\n",
       "      <td>0.127916</td>\n",
       "      <td>0.565718</td>\n",
       "    </tr>\n",
       "  </tbody>\n",
       "</table>\n",
       "</div>"
      ],
      "text/plain": [
       "               f1    pr_auc   roc_auc\n",
       "dataset                              \n",
       "D1       0.269608  0.068427  0.320380\n",
       "D2       0.308068  0.127916  0.565718"
      ]
     },
     "execution_count": 9,
     "metadata": {},
     "output_type": "execute_result"
    }
   ],
   "source": [
    "nasa_results = pd.DataFrame(total_scores)\n",
    "nasa_results.groupby('dataset').mean()"
   ]
  },
  {
   "cell_type": "markdown",
   "id": "96d211db-832e-4e04-98d2-f24cd026d8e4",
   "metadata": {},
   "source": [
    "### SMD"
   ]
  },
  {
   "cell_type": "code",
   "execution_count": 10,
   "id": "42a32fb1-9d33-401a-99ca-b5b88fec0ff2",
   "metadata": {},
   "outputs": [],
   "source": [
    "total_scores = {'dataset': [], 'f1': [], 'pr_auc': [], 'roc_auc': []}"
   ]
  },
  {
   "cell_type": "code",
   "execution_count": 11,
   "id": "01e9f650-8648-4626-a041-52daf5aa1f0a",
   "metadata": {},
   "outputs": [
    {
     "data": {
      "application/vnd.jupyter.widget-view+json": {
       "model_id": "7ba16304d44042e1bd2af57ca9436cc2",
       "version_major": 2,
       "version_minor": 0
      },
      "text/plain": [
       "  0%|          | 0/28 [00:00<?, ?it/s]"
      ]
     },
     "metadata": {},
     "output_type": "display_data"
    },
    {
     "data": {
      "application/vnd.jupyter.widget-view+json": {
       "model_id": "7833d4ce33284efbb99ebe58584a6222",
       "version_major": 2,
       "version_minor": 0
      },
      "text/plain": [
       "  0%|          | 0/28 [00:00<?, ?it/s]"
      ]
     },
     "metadata": {},
     "output_type": "display_data"
    },
    {
     "name": "stdout",
     "output_type": "stream",
     "text": [
      "smd 0.23153690558205123 0.06546275382269463 0.49999999900806086\n",
      "smd 0.14105792132682896 0.0 0.0\n",
      "smd 0.18226599319687592 0.07074495616164417 0.5063779405122146\n",
      "smd 0.17326731082124444 0.04742547410638876 0.4970059864551308\n",
      "smd 0.09384163322984918 0.024615384453964495 0.5623229425018206\n",
      "smd 0.48635231608100876 0.38265005673946323 0.5001841448922145\n",
      "smd 0.29561198390945814 0.13974924317855564 0.484174067026219\n",
      "smd 0.34074069530864787 0.14826535733134785 0.5727067561550081\n",
      "smd 0.21307504139204825 0.11685781012077137 0.4954312968267198\n",
      "smd 0.3194102924134789 0.15403875202507894 0.5505889208607719\n",
      "smd 0.12690354134994566 0.03387533860870587 0.49999999785465116\n",
      "smd 0.29953914490114675 0.0880856216870794 0.1910108099206242\n",
      "smd 0.2635293887601403 0.07559624965145086 0.4474072238676355\n",
      "smd 0.08547007725180877 0.022321428454838966 0.4999999973831775\n",
      "smd 0.21307504139204825 0.05418728927328205 0.32769341206410907\n",
      "smd 0.026737965262089488 0.006775067613340092 0.4999999898626375\n",
      "smd 0.19028338351472884 0.052572706811504985 0.4999999988111702\n",
      "smd 0.05652173361342205 0.014541386909498574 0.4999999960386388\n",
      "smd 0.22493885523161805 0.0 0.018575851347055604\n",
      "smd 0.03516483169472315 0.008948545747438804 0.49999999363610487\n",
      "smd 0.16873447578151593 0.0 0.0\n",
      "smd 0.28372090575338227 0.0 0.0\n",
      "smd 0.1596009827401584 0.054505419841237523 0.4577614969499815\n",
      "smd 0.13636362358815537 0.019662921395788357 0.49999999628237257\n",
      "smd 0.1629955796706722 0.06887995319007159 0.48595654334091853\n",
      "smd 0.07741934736316405 0.02013422807155834 0.49999999710567206\n",
      "smd 0.2585033710213372 0.08901331831597029 0.7435852094690054\n",
      "smd 0.05652173361342205 0.014541386909498574 0.4999999960386388\n"
     ]
    }
   ],
   "source": [
    "for loader in [load_smd]:\n",
    "    datasets = loader(128, 64)\n",
    "    x_trains, x_tests, y_tests = datasets['x_train'], datasets['x_test'], datasets['y_test']\n",
    "    \n",
    "    for i in tqdm(range(len(x_trains))):\n",
    "        X_train = x_trains[i]\n",
    "        X_test = x_tests[i]\n",
    "\n",
    "        N_RES = 3\n",
    "\n",
    "        seq_length, dim = X_train.shape[1], X_train.shape[2]\n",
    "        X_train_reverse = np.flip(X_train, axis=1)\n",
    "        X_test_reverse = np.flip(X_test, axis=1)\n",
    "\n",
    "        X_train_by_res = []\n",
    "        X_test_by_res = []\n",
    "        X_train_by_res_reverse = []\n",
    "        \n",
    "        for n in range(N_RES):\n",
    "            selected_t = [t for t in range(0, seq_length, 2**n)]\n",
    "            X_train_by_res.append(X_train[:, selected_t, :])\n",
    "            X_test_by_res.append(X_test[:, selected_t, :])\n",
    "            X_train_by_res_reverse.append(X_train_reverse[:, selected_t, :])\n",
    "        \n",
    "        model = Skip_AE(seq_length, dim, N_RES, N_LAYERS=2, BATCH_SIZE=128)\n",
    "        history = model.fit(X_train_by_res, X_train_by_res_reverse, epochs=50, batch_size=128, validation_split=0.3, verbose=0,\n",
    "                            callbacks=[tf.keras.callbacks.EarlyStopping(monitor=\"val_loss\", patience=5, mode=\"min\", restore_best_weights=True)]) \n",
    "        \n",
    "        X_test_rec = [np.flip(rec, axis=1) for rec in model.predict(X_test_by_res)]\n",
    "        scores = evaluate(X_test, X_test_rec[0], y_tests[i], is_reconstructed=True)\n",
    "      \n",
    "        total_scores['dataset'].append(loader.__name__.replace('load_', ''))\n",
    "        total_scores['f1'].append(np.max(scores['f1']))\n",
    "        total_scores['pr_auc'].append(scores['pr_auc'])\n",
    "        total_scores['roc_auc'].append(scores['roc_auc'])\n",
    "        print(loader.__name__.replace('load_', ''), np.max(scores['f1']), scores['pr_auc'], scores['roc_auc'])   "
   ]
  },
  {
   "cell_type": "code",
   "execution_count": 12,
   "id": "8091c8f3-f45f-4ed8-bbb8-fa3fbf49431d",
   "metadata": {},
   "outputs": [
    {
     "data": {
      "text/html": [
       "<div>\n",
       "<style scoped>\n",
       "    .dataframe tbody tr th:only-of-type {\n",
       "        vertical-align: middle;\n",
       "    }\n",
       "\n",
       "    .dataframe tbody tr th {\n",
       "        vertical-align: top;\n",
       "    }\n",
       "\n",
       "    .dataframe thead th {\n",
       "        text-align: right;\n",
       "    }\n",
       "</style>\n",
       "<table border=\"1\" class=\"dataframe\">\n",
       "  <thead>\n",
       "    <tr style=\"text-align: right;\">\n",
       "      <th></th>\n",
       "      <th>f1</th>\n",
       "      <th>pr_auc</th>\n",
       "      <th>roc_auc</th>\n",
       "    </tr>\n",
       "    <tr>\n",
       "      <th>dataset</th>\n",
       "      <th></th>\n",
       "      <th></th>\n",
       "      <th></th>\n",
       "    </tr>\n",
       "  </thead>\n",
       "  <tbody>\n",
       "    <tr>\n",
       "      <th>smd</th>\n",
       "      <td>0.189399</td>\n",
       "      <td>0.063338</td>\n",
       "      <td>0.422885</td>\n",
       "    </tr>\n",
       "  </tbody>\n",
       "</table>\n",
       "</div>"
      ],
      "text/plain": [
       "               f1    pr_auc   roc_auc\n",
       "dataset                              \n",
       "smd      0.189399  0.063338  0.422885"
      ]
     },
     "execution_count": 12,
     "metadata": {},
     "output_type": "execute_result"
    }
   ],
   "source": [
    "smd_results = pd.DataFrame(total_scores)\n",
    "smd_results.groupby('dataset').mean()"
   ]
  },
  {
   "cell_type": "markdown",
   "id": "c4741e23-8ab0-419f-a479-66c210cc4fe2",
   "metadata": {},
   "source": [
    "### ECG"
   ]
  },
  {
   "cell_type": "code",
   "execution_count": 13,
   "id": "0f33cfd9-fbd6-4a66-9201-22ba9c607f07",
   "metadata": {},
   "outputs": [],
   "source": [
    "total_scores = {'dataset': [], 'f1': [], 'pr_auc': [], 'roc_auc': []}"
   ]
  },
  {
   "cell_type": "code",
   "execution_count": 14,
   "id": "52b8855a-3d98-479d-beb7-8ed2d4728a78",
   "metadata": {},
   "outputs": [
    {
     "data": {
      "application/vnd.jupyter.widget-view+json": {
       "model_id": "bb19b66b0402464d8b8466bcca0270c1",
       "version_major": 2,
       "version_minor": 0
      },
      "text/plain": [
       "  0%|          | 0/9 [00:00<?, ?it/s]"
      ]
     },
     "metadata": {},
     "output_type": "display_data"
    },
    {
     "data": {
      "application/vnd.jupyter.widget-view+json": {
       "model_id": "86d205d715c14662b542892c3f9352e7",
       "version_major": 2,
       "version_minor": 0
      },
      "text/plain": [
       "  0%|          | 0/9 [00:00<?, ?it/s]"
      ]
     },
     "metadata": {},
     "output_type": "display_data"
    },
    {
     "name": "stdout",
     "output_type": "stream",
     "text": [
      "D1 0.3030302764003694 0.0975019253577718 0.3301630386334772\n",
      "D2 0.3043477989603044 0.0 0.0\n",
      "D3 0.11009173251409898 0.0 0.0\n",
      "D4 0.2999999730000019 0.0 0.0\n",
      "D5 0.2999999730000019 0.10826376364332546 0.3558558491562026\n",
      "D6 0.3157894238227215 0.15421233477483748 0.6240399286026933\n",
      "D7 0.05079364581103594 0.0 0.0\n",
      "D8 0.21276593798098847 0.0 0.0\n",
      "D9 0.417910413455115 0.0 0.0\n"
     ]
    }
   ],
   "source": [
    "for loader in [load_ecg]:\n",
    "    datasets = loader(64, 32)\n",
    "    x_trains, x_tests, y_tests = datasets['x_train'], datasets['x_test'], datasets['y_test']\n",
    "    \n",
    "    for i in tqdm(range(len(x_trains))):\n",
    "        X_train = x_trains[i]\n",
    "        X_test = x_tests[i]\n",
    "        \n",
    "        N_RES = 3\n",
    "\n",
    "        seq_length, dim = X_train.shape[1], X_train.shape[2]\n",
    "        X_train_reverse = np.flip(X_train, axis=1)\n",
    "        X_test_reverse = np.flip(X_test, axis=1)\n",
    "\n",
    "        X_train_by_res = []\n",
    "        X_test_by_res = []\n",
    "        X_train_by_res_reverse = []\n",
    "        \n",
    "        for n in range(N_RES):\n",
    "            selected_t = [t for t in range(0, seq_length, 2**n)]\n",
    "            X_train_by_res.append(X_train[:, selected_t, :])\n",
    "            X_test_by_res.append(X_test[:, selected_t, :])\n",
    "            X_train_by_res_reverse.append(X_train_reverse[:, selected_t, :])\n",
    "        \n",
    "        model = Skip_AE(seq_length, dim, N_RES, N_LAYERS=2, BATCH_SIZE=128)\n",
    "        history = model.fit(X_train_by_res, X_train_by_res_reverse, epochs=50, batch_size=128, validation_split=0.3, verbose=0,\n",
    "                            callbacks=[tf.keras.callbacks.EarlyStopping(monitor=\"val_loss\", patience=5, mode=\"min\", restore_best_weights=True)]) \n",
    "        \n",
    "        X_test_rec = [np.flip(rec, axis=1) for rec in model.predict(X_test_by_res)]\n",
    "        scores = evaluate(X_test, X_test_rec[0], y_tests[i], is_reconstructed=True)\n",
    "\n",
    "        total_scores['dataset'].append(f'D{i+1}')\n",
    "        total_scores['f1'].append(np.max(scores['f1']))\n",
    "        total_scores['pr_auc'].append(scores['pr_auc'])\n",
    "        total_scores['roc_auc'].append(scores['roc_auc'])\n",
    "        print(f'D{i+1}', np.max(scores['f1']), scores['pr_auc'], scores['roc_auc'])  "
   ]
  },
  {
   "cell_type": "code",
   "execution_count": 15,
   "id": "f626d0e8-fe11-4214-aba8-27941e07496c",
   "metadata": {},
   "outputs": [
    {
     "data": {
      "text/html": [
       "<div>\n",
       "<style scoped>\n",
       "    .dataframe tbody tr th:only-of-type {\n",
       "        vertical-align: middle;\n",
       "    }\n",
       "\n",
       "    .dataframe tbody tr th {\n",
       "        vertical-align: top;\n",
       "    }\n",
       "\n",
       "    .dataframe thead th {\n",
       "        text-align: right;\n",
       "    }\n",
       "</style>\n",
       "<table border=\"1\" class=\"dataframe\">\n",
       "  <thead>\n",
       "    <tr style=\"text-align: right;\">\n",
       "      <th></th>\n",
       "      <th>f1</th>\n",
       "      <th>pr_auc</th>\n",
       "      <th>roc_auc</th>\n",
       "    </tr>\n",
       "    <tr>\n",
       "      <th>dataset</th>\n",
       "      <th></th>\n",
       "      <th></th>\n",
       "      <th></th>\n",
       "    </tr>\n",
       "  </thead>\n",
       "  <tbody>\n",
       "    <tr>\n",
       "      <th>D1</th>\n",
       "      <td>0.303030</td>\n",
       "      <td>0.097502</td>\n",
       "      <td>0.330163</td>\n",
       "    </tr>\n",
       "    <tr>\n",
       "      <th>D2</th>\n",
       "      <td>0.304348</td>\n",
       "      <td>0.000000</td>\n",
       "      <td>0.000000</td>\n",
       "    </tr>\n",
       "    <tr>\n",
       "      <th>D3</th>\n",
       "      <td>0.110092</td>\n",
       "      <td>0.000000</td>\n",
       "      <td>0.000000</td>\n",
       "    </tr>\n",
       "    <tr>\n",
       "      <th>D4</th>\n",
       "      <td>0.300000</td>\n",
       "      <td>0.000000</td>\n",
       "      <td>0.000000</td>\n",
       "    </tr>\n",
       "    <tr>\n",
       "      <th>D5</th>\n",
       "      <td>0.300000</td>\n",
       "      <td>0.108264</td>\n",
       "      <td>0.355856</td>\n",
       "    </tr>\n",
       "    <tr>\n",
       "      <th>D6</th>\n",
       "      <td>0.315789</td>\n",
       "      <td>0.154212</td>\n",
       "      <td>0.624040</td>\n",
       "    </tr>\n",
       "    <tr>\n",
       "      <th>D7</th>\n",
       "      <td>0.050794</td>\n",
       "      <td>0.000000</td>\n",
       "      <td>0.000000</td>\n",
       "    </tr>\n",
       "    <tr>\n",
       "      <th>D8</th>\n",
       "      <td>0.212766</td>\n",
       "      <td>0.000000</td>\n",
       "      <td>0.000000</td>\n",
       "    </tr>\n",
       "    <tr>\n",
       "      <th>D9</th>\n",
       "      <td>0.417910</td>\n",
       "      <td>0.000000</td>\n",
       "      <td>0.000000</td>\n",
       "    </tr>\n",
       "  </tbody>\n",
       "</table>\n",
       "</div>"
      ],
      "text/plain": [
       "               f1    pr_auc   roc_auc\n",
       "dataset                              \n",
       "D1       0.303030  0.097502  0.330163\n",
       "D2       0.304348  0.000000  0.000000\n",
       "D3       0.110092  0.000000  0.000000\n",
       "D4       0.300000  0.000000  0.000000\n",
       "D5       0.300000  0.108264  0.355856\n",
       "D6       0.315789  0.154212  0.624040\n",
       "D7       0.050794  0.000000  0.000000\n",
       "D8       0.212766  0.000000  0.000000\n",
       "D9       0.417910  0.000000  0.000000"
      ]
     },
     "execution_count": 15,
     "metadata": {},
     "output_type": "execute_result"
    }
   ],
   "source": [
    "ecg_results = pd.DataFrame(total_scores)\n",
    "ecg_results.groupby('dataset').mean()"
   ]
  },
  {
   "cell_type": "markdown",
   "id": "5cf8f433-88bf-46fc-a479-42f3f4186f74",
   "metadata": {},
   "source": [
    "### Power Demand"
   ]
  },
  {
   "cell_type": "code",
   "execution_count": 16,
   "id": "8cbbc69b-5280-4d6d-9569-0b2627597f2c",
   "metadata": {},
   "outputs": [],
   "source": [
    "total_scores = {'dataset': [], 'f1': [], 'pr_auc': [], 'roc_auc': []}"
   ]
  },
  {
   "cell_type": "code",
   "execution_count": 17,
   "id": "d0b968b0-53cc-4aef-ba7a-6cdf94a34c5b",
   "metadata": {},
   "outputs": [
    {
     "data": {
      "application/vnd.jupyter.widget-view+json": {
       "model_id": "5f2cbf52b770460ba61e4dfe4337e1dd",
       "version_major": 2,
       "version_minor": 0
      },
      "text/plain": [
       "  0%|          | 0/1 [00:00<?, ?it/s]"
      ]
     },
     "metadata": {},
     "output_type": "display_data"
    },
    {
     "name": "stdout",
     "output_type": "stream",
     "text": [
      "power_demand 0.7499999343750033 0.1666666744444422 -0.0\n"
     ]
    }
   ],
   "source": [
    "for loader in [load_power_demand]:\n",
    "    datasets = loader(512, 256)\n",
    "    x_trains, x_tests, y_tests = datasets['x_train'], datasets['x_test'], datasets['y_test']\n",
    "    \n",
    "    for i in tqdm(range(len(x_trains))):\n",
    "        X_train = x_trains[i]\n",
    "        X_test = x_tests[i]\n",
    "        \n",
    "        N_RES = 3\n",
    "\n",
    "        seq_length, dim = X_train.shape[1], X_train.shape[2]\n",
    "        X_train_reverse = np.flip(X_train, axis=1)\n",
    "        X_test_reverse = np.flip(X_test, axis=1)\n",
    "\n",
    "        X_train_by_res = []\n",
    "        X_test_by_res = []\n",
    "        X_train_by_res_reverse = []\n",
    "        \n",
    "        for n in range(N_RES):\n",
    "            selected_t = [t for t in range(0, seq_length, 2**n)]\n",
    "            X_train_by_res.append(X_train[:, selected_t, :])\n",
    "            X_test_by_res.append(X_test[:, selected_t, :])\n",
    "            X_train_by_res_reverse.append(X_train_reverse[:, selected_t, :])\n",
    "        \n",
    "        model = Skip_AE(seq_length, dim, N_RES, N_LAYERS=2, BATCH_SIZE=128)\n",
    "        history = model.fit(X_train_by_res, X_train_by_res_reverse, epochs=50, batch_size=128, validation_split=0.3, verbose=0,\n",
    "                            callbacks=[tf.keras.callbacks.EarlyStopping(monitor=\"val_loss\", patience=5, mode=\"min\", restore_best_weights=True)]) \n",
    "        \n",
    "        X_test_rec = [np.flip(rec, axis=1) for rec in model.predict(X_test_by_res)]\n",
    "        scores = evaluate(X_test, X_test_rec[0], y_tests[i], is_reconstructed=True)\n",
    "\n",
    "        total_scores['dataset'].append(loader.__name__.replace('load_', ''))\n",
    "        total_scores['f1'].append(np.max(scores['f1']))\n",
    "        total_scores['pr_auc'].append(scores['pr_auc'])\n",
    "        total_scores['roc_auc'].append(scores['roc_auc'])\n",
    "        print(loader.__name__.replace('load_', ''), np.max(scores['f1']), scores['pr_auc'], scores['roc_auc']) "
   ]
  },
  {
   "cell_type": "code",
   "execution_count": 18,
   "id": "2c4f3ff4-7927-48fd-8754-32e051613044",
   "metadata": {},
   "outputs": [
    {
     "data": {
      "text/html": [
       "<div>\n",
       "<style scoped>\n",
       "    .dataframe tbody tr th:only-of-type {\n",
       "        vertical-align: middle;\n",
       "    }\n",
       "\n",
       "    .dataframe tbody tr th {\n",
       "        vertical-align: top;\n",
       "    }\n",
       "\n",
       "    .dataframe thead th {\n",
       "        text-align: right;\n",
       "    }\n",
       "</style>\n",
       "<table border=\"1\" class=\"dataframe\">\n",
       "  <thead>\n",
       "    <tr style=\"text-align: right;\">\n",
       "      <th></th>\n",
       "      <th>f1</th>\n",
       "      <th>pr_auc</th>\n",
       "      <th>roc_auc</th>\n",
       "    </tr>\n",
       "    <tr>\n",
       "      <th>dataset</th>\n",
       "      <th></th>\n",
       "      <th></th>\n",
       "      <th></th>\n",
       "    </tr>\n",
       "  </thead>\n",
       "  <tbody>\n",
       "    <tr>\n",
       "      <th>power_demand</th>\n",
       "      <td>0.75</td>\n",
       "      <td>0.166667</td>\n",
       "      <td>0.0</td>\n",
       "    </tr>\n",
       "  </tbody>\n",
       "</table>\n",
       "</div>"
      ],
      "text/plain": [
       "                f1    pr_auc  roc_auc\n",
       "dataset                              \n",
       "power_demand  0.75  0.166667      0.0"
      ]
     },
     "execution_count": 18,
     "metadata": {},
     "output_type": "execute_result"
    }
   ],
   "source": [
    "power_results = pd.DataFrame(total_scores)\n",
    "power_results.groupby('dataset').mean()"
   ]
  },
  {
   "cell_type": "markdown",
   "id": "a8c6d607-50ac-423f-8b38-2110977e4e49",
   "metadata": {},
   "source": [
    "### 2D Gesture"
   ]
  },
  {
   "cell_type": "code",
   "execution_count": 19,
   "id": "3fb89b02-542d-4519-8c99-dbafeb5b633f",
   "metadata": {},
   "outputs": [],
   "source": [
    "total_scores = {'dataset': [], 'f1': [], 'pr_auc': [], 'roc_auc': []}"
   ]
  },
  {
   "cell_type": "code",
   "execution_count": 20,
   "id": "405d2e4a-59b2-4567-92ed-fec74be40dd7",
   "metadata": {},
   "outputs": [
    {
     "data": {
      "application/vnd.jupyter.widget-view+json": {
       "model_id": "3a42e1704a624741af2e0be7d7bfcb07",
       "version_major": 2,
       "version_minor": 0
      },
      "text/plain": [
       "  0%|          | 0/1 [00:00<?, ?it/s]"
      ]
     },
     "metadata": {},
     "output_type": "display_data"
    },
    {
     "name": "stdout",
     "output_type": "stream",
     "text": [
      "gesture 0.42201831455264965 0.0 0.0\n"
     ]
    }
   ],
   "source": [
    "for loader in [load_gesture]:\n",
    "    datasets = loader(64, 32)\n",
    "    x_trains, x_tests, y_tests = datasets['x_train'], datasets['x_test'], datasets['y_test']\n",
    "    \n",
    "    for i in tqdm(range(len(x_trains))):\n",
    "        X_train = x_trains[i]\n",
    "        X_test = x_tests[i]\n",
    "        \n",
    "        N_RES = 3\n",
    "\n",
    "        seq_length, dim = X_train.shape[1], X_train.shape[2]\n",
    "        X_train_reverse = np.flip(X_train, axis=1)\n",
    "        X_test_reverse = np.flip(X_test, axis=1)\n",
    "\n",
    "        X_train_by_res = []\n",
    "        X_test_by_res = []\n",
    "        X_train_by_res_reverse = []\n",
    "        \n",
    "        for n in range(N_RES):\n",
    "            selected_t = [t for t in range(0, seq_length, 2**n)]\n",
    "            X_train_by_res.append(X_train[:, selected_t, :])\n",
    "            X_test_by_res.append(X_test[:, selected_t, :])\n",
    "            X_train_by_res_reverse.append(X_train_reverse[:, selected_t, :])\n",
    "        \n",
    "        model = Skip_AE(seq_length, dim, N_RES, N_LAYERS=2, BATCH_SIZE=128)\n",
    "        history = model.fit(X_train_by_res, X_train_by_res_reverse, epochs=50, batch_size=128, validation_split=0.3, verbose=0,\n",
    "                            callbacks=[tf.keras.callbacks.EarlyStopping(monitor=\"val_loss\", patience=5, mode=\"min\", restore_best_weights=True)]) \n",
    "        \n",
    "        X_test_rec = [np.flip(rec, axis=1) for rec in model.predict(X_test_by_res)]\n",
    "        scores = evaluate(X_test, X_test_rec[0], y_tests[i], is_reconstructed=True)\n",
    "\n",
    "        total_scores['dataset'].append(loader.__name__.replace('load_', ''))\n",
    "        total_scores['f1'].append(np.max(scores['f1']))\n",
    "        total_scores['pr_auc'].append(scores['pr_auc'])\n",
    "        total_scores['roc_auc'].append(scores['roc_auc'])\n",
    "        print(loader.__name__.replace('load_', ''), np.max(scores['f1']), scores['pr_auc'], scores['roc_auc'])  "
   ]
  },
  {
   "cell_type": "code",
   "execution_count": 21,
   "id": "b2d18eea-9b0d-44fc-bc61-6e3c91f35b40",
   "metadata": {},
   "outputs": [
    {
     "data": {
      "text/html": [
       "<div>\n",
       "<style scoped>\n",
       "    .dataframe tbody tr th:only-of-type {\n",
       "        vertical-align: middle;\n",
       "    }\n",
       "\n",
       "    .dataframe tbody tr th {\n",
       "        vertical-align: top;\n",
       "    }\n",
       "\n",
       "    .dataframe thead th {\n",
       "        text-align: right;\n",
       "    }\n",
       "</style>\n",
       "<table border=\"1\" class=\"dataframe\">\n",
       "  <thead>\n",
       "    <tr style=\"text-align: right;\">\n",
       "      <th></th>\n",
       "      <th>f1</th>\n",
       "      <th>pr_auc</th>\n",
       "      <th>roc_auc</th>\n",
       "    </tr>\n",
       "    <tr>\n",
       "      <th>dataset</th>\n",
       "      <th></th>\n",
       "      <th></th>\n",
       "      <th></th>\n",
       "    </tr>\n",
       "  </thead>\n",
       "  <tbody>\n",
       "    <tr>\n",
       "      <th>gesture</th>\n",
       "      <td>0.422018</td>\n",
       "      <td>0.0</td>\n",
       "      <td>0.0</td>\n",
       "    </tr>\n",
       "  </tbody>\n",
       "</table>\n",
       "</div>"
      ],
      "text/plain": [
       "               f1  pr_auc  roc_auc\n",
       "dataset                           \n",
       "gesture  0.422018     0.0      0.0"
      ]
     },
     "execution_count": 21,
     "metadata": {},
     "output_type": "execute_result"
    }
   ],
   "source": [
    "gesture_results = pd.DataFrame(total_scores)\n",
    "gesture_results.groupby('dataset').mean()"
   ]
  }
 ],
 "metadata": {
  "kernelspec": {
   "display_name": "Python 3",
   "language": "python",
   "name": "python3"
  },
  "language_info": {
   "codemirror_mode": {
    "name": "ipython",
    "version": 3
   },
   "file_extension": ".py",
   "mimetype": "text/x-python",
   "name": "python",
   "nbconvert_exporter": "python",
   "pygments_lexer": "ipython3",
   "version": "3.9.4"
  }
 },
 "nbformat": 4,
 "nbformat_minor": 5
}
