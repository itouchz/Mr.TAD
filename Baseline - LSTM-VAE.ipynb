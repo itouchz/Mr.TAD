{
 "cells": [
  {
   "cell_type": "markdown",
   "id": "ee697e47-e8e0-4026-b895-3e9b7ee1264e",
   "metadata": {},
   "source": [
    "Ref: https://github.com/SchindlerLiang/VAE-for-Anomaly-Detection"
   ]
  },
  {
   "cell_type": "code",
   "execution_count": 1,
   "id": "a80a379b-932c-4401-8d76-b5ae5dedc6cc",
   "metadata": {},
   "outputs": [],
   "source": [
    "import os\n",
    "import random\n",
    "\n",
    "os.environ[\"CUDA_DEVICE_ORDER\"] = \"PCI_BUS_ID\";\n",
    "os.environ[\"CUDA_VISIBLE_DEVICES\"] = \"0\"\n",
    "os.environ[\"TF_FORCE_GPU_ALLOW_GROWTH\"] = \"true\""
   ]
  },
  {
   "cell_type": "code",
   "execution_count": 2,
   "id": "saving-behavior",
   "metadata": {},
   "outputs": [],
   "source": [
    "import numpy as np\n",
    "import pandas as pd\n",
    "import tensorflow as tf\n",
    "\n",
    "from evaluator import evaluate\n",
    "from data_loader import load_kdd_cup_urc, load_yahoo_A1, load_yahoo_A2, load_yahoo_A3, load_yahoo_A4, load_power_demand # Univariate Datasets\n",
    "from data_loader import load_nasa, load_ecg, load_gesture, load_smd # Multivariate Datasets\n",
    "\n",
    "from tensorflow import keras\n",
    "from tensorflow.keras import layers\n",
    "from tqdm.notebook import tqdm\n",
    "\n",
    "# THESE LINES ARE FOR REPRODUCIBILITY\n",
    "random.seed(0)\n",
    "np.random.seed(0)\n",
    "tf.random.set_seed(0)"
   ]
  },
  {
   "cell_type": "code",
   "execution_count": 3,
   "id": "49c0a8e3-705d-429b-b7a0-c3c26a3a7b2b",
   "metadata": {},
   "outputs": [],
   "source": [
    "class Sampling(layers.Layer):\n",
    "    \"\"\"Uses (z_mean, z_log_var) to sample z, the vector encoding a digit.\"\"\"\n",
    "\n",
    "    def call(self, inputs):\n",
    "        z_mean, z_log_var = inputs\n",
    "        batch = tf.shape(z_mean)[0]\n",
    "        dim = tf.shape(z_mean)[1]\n",
    "        epsilon = tf.keras.backend.random_normal(shape=(batch, dim))\n",
    "        return z_mean + tf.exp(0.5 * z_log_var) * epsilon"
   ]
  },
  {
   "cell_type": "code",
   "execution_count": 4,
   "id": "24e86739-e767-4960-b7ea-9904d224a0d4",
   "metadata": {},
   "outputs": [],
   "source": [
    "class VAE(keras.Model):\n",
    "    def __init__(self, encoder, decoder, **kwargs):\n",
    "        super(VAE, self).__init__(**kwargs)\n",
    "        self.encoder = encoder\n",
    "        self.decoder = decoder\n",
    "        self.total_loss_tracker = keras.metrics.Mean(name=\"total_loss\")\n",
    "        self.reconstruction_loss_tracker = keras.metrics.Mean(\n",
    "            name=\"reconstruction_loss\"\n",
    "        )\n",
    "        self.kl_loss_tracker = keras.metrics.Mean(name=\"kl_loss\")\n",
    "\n",
    "    @property\n",
    "    def metrics(self):\n",
    "        return [\n",
    "            self.total_loss_tracker,\n",
    "            self.reconstruction_loss_tracker,\n",
    "            self.kl_loss_tracker,\n",
    "        ]\n",
    "\n",
    "    def train_step(self, data):\n",
    "        with tf.GradientTape() as tape:\n",
    "            z_mean, z_log_var, z = self.encoder(data)\n",
    "            reconstruction = self.decoder(z)\n",
    "            reconstruction_loss = tf.reduce_mean(\n",
    "                tf.reduce_sum(\n",
    "                    keras.losses.binary_crossentropy(data, reconstruction), axis=1\n",
    "                )\n",
    "            )\n",
    "            kl_loss = -0.5 * (1 + z_log_var - tf.square(z_mean) - tf.exp(z_log_var))\n",
    "            kl_loss = tf.reduce_mean(tf.reduce_sum(kl_loss, axis=1))\n",
    "            total_loss = reconstruction_loss + kl_loss\n",
    "        grads = tape.gradient(total_loss, self.trainable_weights)\n",
    "        self.optimizer.apply_gradients(zip(grads, self.trainable_weights))\n",
    "        self.total_loss_tracker.update_state(total_loss)\n",
    "        self.reconstruction_loss_tracker.update_state(reconstruction_loss)\n",
    "        self.kl_loss_tracker.update_state(kl_loss)\n",
    "        return {\n",
    "            \"loss\": self.total_loss_tracker.result(),\n",
    "            \"reconstruction_loss\": self.reconstruction_loss_tracker.result(),\n",
    "            \"kl_loss\": self.kl_loss_tracker.result(),\n",
    "        }"
   ]
  },
  {
   "cell_type": "code",
   "execution_count": 5,
   "id": "ac4f72c2-a0d7-481e-9993-fadd117b6a58",
   "metadata": {},
   "outputs": [],
   "source": [
    "def LSTM_VAE(X_train):\n",
    "    latent_dim = 16\n",
    "\n",
    "    encoder_inputs = keras.Input(shape=(X_train.shape[1], X_train.shape[2]))\n",
    "    x = layers.LSTM(64, return_sequences=True)(encoder_inputs)\n",
    "    x = layers.LSTM(32)(x)\n",
    "    z_mean = layers.Dense(latent_dim, name=\"z_mean\")(x)\n",
    "    z_log_var = layers.Dense(latent_dim, name=\"z_log_var\")(x)\n",
    "    z = Sampling()([z_mean, z_log_var])\n",
    "    encoder = keras.Model(encoder_inputs, [z_mean, z_log_var, z], name=\"encoder\")\n",
    "\n",
    "    latent_inputs = keras.Input(shape=(latent_dim,))\n",
    "    x = layers.RepeatVector(X_train.shape[1])(latent_inputs)\n",
    "    x = layers.LSTM(32, return_sequences=True)(x)\n",
    "    x = layers.LSTM(64)(x)\n",
    "    x = layers.Dense(X_train.shape[1] *  X_train.shape[2])(x)\n",
    "    decoder_outputs = layers.Reshape([X_train.shape[1], X_train.shape[2]])(x)\n",
    "    decoder = keras.Model(latent_inputs, decoder_outputs, name=\"decoder\")\n",
    "\n",
    "    model = VAE(encoder, decoder)\n",
    "    model.compile(optimizer=keras.optimizers.Adam(learning_rate=0.001))\n",
    "    history = model.fit(X_train, epochs=50, batch_size=128, verbose=0)\n",
    "    return model"
   ]
  },
  {
   "cell_type": "markdown",
   "id": "fa97c067-d18d-4c06-ae1b-2cbfe88788b6",
   "metadata": {},
   "source": [
    "### Yahoo S5"
   ]
  },
  {
   "cell_type": "code",
   "execution_count": 6,
   "id": "eight-partition",
   "metadata": {},
   "outputs": [],
   "source": [
    "total_scores = {'dataset': [], 'f1': [], 'pr_auc': [], 'roc_auc': []}"
   ]
  },
  {
   "cell_type": "code",
   "execution_count": 7,
   "id": "71866d92-1163-4975-bb99-4302ccda66c3",
   "metadata": {
    "scrolled": true,
    "tags": []
   },
   "outputs": [
    {
     "data": {
      "application/vnd.jupyter.widget-view+json": {
       "model_id": "9aeea886973d4e1187bfe59b4a830541",
       "version_major": 2,
       "version_minor": 0
      },
      "text/plain": [
       "  0%|          | 0/67 [00:00<?, ?it/s]"
      ]
     },
     "metadata": {},
     "output_type": "display_data"
    },
    {
     "data": {
      "application/vnd.jupyter.widget-view+json": {
       "model_id": "90977aa8b3bc4e089ef5a678ae9b9d2b",
       "version_major": 2,
       "version_minor": 0
      },
      "text/plain": [
       "  0%|          | 0/56 [00:00<?, ?it/s]"
      ]
     },
     "metadata": {},
     "output_type": "display_data"
    },
    {
     "name": "stdout",
     "output_type": "stream",
     "text": [
      "yahoo_A1 0.5714285142857172 0.1250000006249989 -0.0\n",
      "yahoo_A1 0.0 0.0 -0.0\n",
      "WARNING:tensorflow:5 out of the last 5 calls to <function Model.make_predict_function.<locals>.predict_function at 0x7fc60046bee0> triggered tf.function retracing. Tracing is expensive and the excessive number of tracings could be due to (1) creating @tf.function repeatedly in a loop, (2) passing tensors with different shapes, (3) passing Python objects instead of tensors. For (1), please define your @tf.function outside of the loop. For (2), @tf.function has experimental_relax_shapes=True option that relaxes argument shapes that can avoid unnecessary retracing. For (3), please refer to https://www.tensorflow.org/guide/function#controlling_retracing and https://www.tensorflow.org/api_docs/python/tf/function for  more details.\n",
      "WARNING:tensorflow:6 out of the last 6 calls to <function Model.make_predict_function.<locals>.predict_function at 0x7fc60054eee0> triggered tf.function retracing. Tracing is expensive and the excessive number of tracings could be due to (1) creating @tf.function repeatedly in a loop, (2) passing tensors with different shapes, (3) passing Python objects instead of tensors. For (1), please define your @tf.function outside of the loop. For (2), @tf.function has experimental_relax_shapes=True option that relaxes argument shapes that can avoid unnecessary retracing. For (3), please refer to https://www.tensorflow.org/guide/function#controlling_retracing and https://www.tensorflow.org/api_docs/python/tf/function for  more details.\n",
      "yahoo_A1 0.0 0.0 -0.0\n",
      "yahoo_A1 0.0 0.0 -0.0\n",
      "yahoo_A1 0.0 0.0 -0.0\n",
      "yahoo_A1 0.0 0.0 -0.0\n",
      "yahoo_A1 0.33333329444444565 0.09999998800000123 0.49999993750000654\n",
      "yahoo_A1 0.6666666000000033 0.24999998333333406 0.33333330555555735\n",
      "yahoo_A1 0.666666577777783 0.37499995687500437 0.4999999583333361\n",
      "yahoo_A1 0.33333329444444565 0.09999998800000123 0.3749999531250049\n",
      "yahoo_A1 0.8888888197530895 0.4166666460416676 -0.0\n",
      "yahoo_A1 0.5714285142857172 0.1250000006249989 -0.0\n",
      "yahoo_A1 0.33333329444444565 0.09999998800000123 -0.0\n",
      "yahoo_A1 0.0 0.0 -0.0\n",
      "yahoo_A1 0.33333329444444565 0.09999998800000123 -0.0\n",
      "yahoo_A1 0.0 0.0 -0.0\n",
      "yahoo_A1 0.7999999200000041 0.5416666119444498 0.7499999250000059\n",
      "yahoo_A1 0.6666666000000033 0.16666666527777654 -0.0\n",
      "yahoo_A1 0.6666666000000033 0.16666666527777654 -0.0\n",
      "yahoo_A1 0.7499999343750033 0.1666666744444422 -0.0\n",
      "yahoo_A1 0.0 0.0 -0.0\n",
      "yahoo_A1 0.0 0.0 -0.0\n",
      "yahoo_A1 0.7499999343750033 0.2916666525694449 -0.0\n",
      "yahoo_A1 0.7499999343750033 0.24999999041666673 0.24999997500000196\n",
      "yahoo_A1 0.0 0.0 -0.0\n",
      "yahoo_A1 0.8888888197530895 0.25000000993055255 -0.0\n",
      "yahoo_A1 0.6666666000000033 0.33333330451389087 0.49999995833333605\n",
      "yahoo_A1 0.7499999343750033 0.16666667444444216 -0.0\n",
      "yahoo_A1 0.6666666000000033 0.16666666527777654 -0.0\n",
      "yahoo_A1 0.0 0.0 -0.0\n",
      "yahoo_A1 0.999999930000003 0.8333332355555686 0.0\n",
      "yahoo_A1 0.5714285142857172 0.1250000006249989 -0.0\n",
      "yahoo_A1 0.33333329444444565 0.09999998800000123 0.12499998437500164\n",
      "yahoo_A1 0.6666666000000033 0.37499995833333755 0.666666594444451\n",
      "yahoo_A1 0.5714285142857172 0.1250000006249989 -0.0\n",
      "yahoo_A1 0.7499999343750033 0.16666667444444216 -0.0\n",
      "yahoo_A1 0.7499999343750033 0.16666667444444216 -0.0\n",
      "yahoo_A1 0.0 0.0 -0.0\n",
      "yahoo_A1 0.6666666000000033 0.16666666527777654 -0.0\n",
      "yahoo_A1 0.7499999343750033 0.16666667444444216 -0.0\n",
      "yahoo_A1 0.0 0.0 -0.0\n",
      "yahoo_A1 0.8888888197530895 0.25000000993055255 -0.0\n",
      "yahoo_A1 0.8571427836734729 0.2500000034722198 -0.0\n",
      "yahoo_A1 0.6666666000000033 0.16666666527777654 -0.0\n",
      "yahoo_A1 0.0 0.0 0.0\n",
      "yahoo_A1 0.0 0.0 0.0\n",
      "yahoo_A1 0.5714285142857172 0.1666666606944441 0.33333328888889363\n",
      "yahoo_A1 0.0 0.0 -0.0\n",
      "yahoo_A1 0.0 0.0 0.0\n",
      "yahoo_A1 0.0 0.0 -0.0\n",
      "yahoo_A1 0.666666577777783 0.24999997875000166 0.6666665777777874\n",
      "yahoo_A1 0.5714285142857172 0.1999999860000008 0.49999995833333605\n",
      "yahoo_A1 0.0 0.0 -0.0\n",
      "yahoo_A1 0.33333329444444565 0.0 0.0\n",
      "yahoo_A1 0.39999995200000177 0.12499998437500164 -0.0\n",
      "yahoo_A1 0.5714285142857172 0.1250000006249989 0.0\n"
     ]
    },
    {
     "data": {
      "application/vnd.jupyter.widget-view+json": {
       "model_id": "36fb0df3123247aeb188b862e8d2fdf6",
       "version_major": 2,
       "version_minor": 0
      },
      "text/plain": [
       "  0%|          | 0/100 [00:00<?, ?it/s]"
      ]
     },
     "metadata": {},
     "output_type": "display_data"
    },
    {
     "data": {
      "application/vnd.jupyter.widget-view+json": {
       "model_id": "315a364a74304c23b7ca7d52588e964d",
       "version_major": 2,
       "version_minor": 0
      },
      "text/plain": [
       "  0%|          | 0/100 [00:00<?, ?it/s]"
      ]
     },
     "metadata": {},
     "output_type": "display_data"
    },
    {
     "name": "stdout",
     "output_type": "stream",
     "text": [
      "yahoo_A2 0.46153841893491365 0.06250000600115631 -0.0\n",
      "yahoo_A2 0.46153841893491365 0.10714285614465202 0.14285712653061383\n",
      "yahoo_A2 0.46153841893491365 0.06250000600115631 -0.0\n",
      "yahoo_A2 0.4285713887755125 0.06250000468592082 0.12499998593750138\n",
      "yahoo_A2 0.24999997187500062 0.07142856326530694 -0.0\n",
      "yahoo_A2 0.46153841893491365 0.06250000600115631 -0.0\n",
      "yahoo_A2 0.4285713887755125 0.06250000468592082 0.12499998593750138\n",
      "yahoo_A2 0.24999997187500062 0.07142856326530694 -0.0\n",
      "yahoo_A2 0.46153841893491365 0.06250000600115631 -0.0\n",
      "yahoo_A2 0.4285713887755125 0.05555556109988678 -0.0\n",
      "yahoo_A2 0.24999997187500062 0.07142856326530694 -0.0\n",
      "yahoo_A2 0.46153841893491365 0.06250000600115631 -0.0\n",
      "yahoo_A2 0.4285713887755125 0.05555556109988678 -0.0\n",
      "yahoo_A2 0.33333330000000166 0.0714285710430835 0.24999997187500275\n",
      "yahoo_A2 0.24999997187500062 0.07142856326530694 -0.0\n",
      "yahoo_A2 0.46153841893491365 0.06250000600115631 -0.0\n",
      "yahoo_A2 0.4285713887755125 0.06250000468592082 0.12499998593750138\n",
      "yahoo_A2 0.0 0.0 -0.0\n",
      "yahoo_A2 0.3636363272727291 0.0625000016493049 -0.0\n",
      "yahoo_A2 0.4285713887755125 0.16249999002967244 0.5624999398437559\n",
      "yahoo_A2 0.24999997187500062 0.07142856326530694 -0.0\n",
      "yahoo_A2 0.46153841893491365 0.07142857629771254 0.14285712653061383\n",
      "yahoo_A2 0.4285713887755125 0.05555556109988678 -0.0\n",
      "yahoo_A2 0.24999997187500062 0.07142856326530694 -0.0\n",
      "yahoo_A2 0.24999997187500062 0.07142856326530694 -0.0\n",
      "yahoo_A2 0.5714285142857172 0.24583331905324143 0.5714285346938796\n",
      "yahoo_A2 0.4285713887755125 0.05555556109988678 -0.0\n",
      "yahoo_A2 0.24999997187500062 0.07142856326530694 -0.0\n",
      "yahoo_A2 0.46153841893491365 0.06250000600115631 -0.0\n",
      "yahoo_A2 0.4285713887755125 0.06250000468592082 0.12499998593750138\n",
      "yahoo_A2 0.0 0.0 -0.0\n",
      "yahoo_A2 0.46153841893491365 0.09375000092303193 0.03571428341836746\n",
      "yahoo_A2 0.4285713887755125 0.07142857588525468 0.24999997812500177\n",
      "yahoo_A2 0.0 0.0 -0.0\n",
      "yahoo_A2 0.46153841893491365 0.06250000600115631 -0.0\n",
      "yahoo_A2 0.46153841893491365 0.06250000600115631 -0.0\n",
      "yahoo_A2 0.4285713887755125 0.05555556109988678 -0.0\n",
      "yahoo_A2 0.24999997187500062 0.07142856326530694 -0.0\n",
      "yahoo_A2 0.46153841893491365 0.06250000600115631 -0.0\n",
      "yahoo_A2 0.4285713887755125 0.05555556109988678 -0.0\n",
      "yahoo_A2 0.0 0.0 -0.0\n",
      "yahoo_A2 0.46153841893491365 0.06250000600115631 -0.0\n",
      "yahoo_A2 0.5714285061224537 0.27499998374032064 0.6874999591145855\n",
      "yahoo_A2 0.24999997187500062 0.07142856326530694 0.0833333236111121\n",
      "yahoo_A2 0.46153841893491365 0.11111110867283944 -0.0\n",
      "yahoo_A2 0.4285713887755125 0.08333333440235645 -0.0\n",
      "yahoo_A2 0.4285713887755125 0.05555556109988678 -0.0\n",
      "yahoo_A2 0.24999997187500062 0.07142856326530694 -0.0\n",
      "yahoo_A2 0.46153841893491365 0.06250000600115631 -0.0\n",
      "yahoo_A2 0.4285713887755125 0.05555556109988678 -0.0\n",
      "yahoo_A2 0.24999997187500062 0.07142856326530694 -0.0\n",
      "yahoo_A2 0.3636363272727291 0.0625000016493049 -0.0\n",
      "yahoo_A2 0.4285713887755125 0.05555556109988678 -0.0\n",
      "yahoo_A2 0.24999997187500062 0.07142856326530694 -0.0\n",
      "yahoo_A2 0.46153841893491365 0.09375000092303191 -0.0\n",
      "yahoo_A2 0.4285713887755125 0.0833333353282822 0.3749999578125042\n",
      "yahoo_A2 0.24999997187500062 0.07142856326530694 -0.0\n",
      "yahoo_A2 0.24999997187500062 0.07142856326530694 -0.0\n",
      "yahoo_A2 0.46153841893491365 0.10000000103240683 0.4285713795918416\n",
      "yahoo_A2 0.4285713887755125 0.11111110826038158 0.1249999921875004\n",
      "yahoo_A2 0.24999997187500062 0.07142856326530694 -0.0\n",
      "yahoo_A2 0.4999999250000064 0.2460317299541771 0.5238094917233577\n",
      "yahoo_A2 0.4285713887755125 0.06250000468592082 0.12499998593750138\n",
      "yahoo_A2 0.24999997187500062 0.07142856326530694 -0.0\n",
      "yahoo_A2 0.46153841893491365 0.11111110867283944 -0.0\n",
      "yahoo_A2 0.4285713887755125 0.1249999968734216 0.37499997031250226\n",
      "yahoo_A2 0.0 0.0 -0.0\n",
      "yahoo_A2 0.3636363272727291 0.0625000016493049 -0.0\n",
      "yahoo_A2 0.46153841893491365 0.06250000600115631 -0.0\n",
      "yahoo_A2 0.4285713887755125 0.05555556109988678 -0.0\n",
      "yahoo_A2 0.24999997187500062 0.07142856326530694 -0.0\n",
      "yahoo_A2 0.3636363272727291 0.12499999383680568 0.35714283418367465\n",
      "yahoo_A2 0.4285713887755125 0.09722222203738741 0.0624999960937502\n",
      "yahoo_A2 0.0 0.0 -0.0\n",
      "yahoo_A2 0.46153841893491365 0.11111110867283944 -0.0\n",
      "yahoo_A2 0.4285713887755125 0.06250000468592082 0.12499998593750138\n",
      "yahoo_A2 0.24999997187500062 0.07142856326530694 -0.0\n",
      "yahoo_A2 0.46153841893491365 0.06250000600115631 -0.0\n",
      "yahoo_A2 0.4285713887755125 0.12499999699494937 0.624999935937506\n",
      "yahoo_A2 0.4285713887755125 0.05555556109988678 -0.0\n",
      "yahoo_A2 0.0 0.0 -0.0\n",
      "yahoo_A2 0.46153841893491365 0.06250000600115631 -0.0\n",
      "yahoo_A2 0.666666577777783 0.2499999826893952 0.874999932812505\n",
      "yahoo_A2 0.24999997187500062 0.07142856326530694 -0.0\n",
      "yahoo_A2 0.46153841893491365 0.06250000600115631 -0.0\n",
      "yahoo_A2 0.4285713887755125 0.05555556109988678 -0.0\n",
      "yahoo_A2 0.24999997187500062 0.07142856326530694 -0.0\n",
      "yahoo_A2 0.46153841893491365 0.08333333664351769 0.35714281632653466\n",
      "yahoo_A2 0.4285713887755125 0.05555556109988678 -0.0\n",
      "yahoo_A2 0.24999997187500062 0.07142856326530694 -0.0\n",
      "yahoo_A2 0.24999997187500062 0.07142856326530694 -0.0\n",
      "yahoo_A2 0.46153841893491365 0.11111110867283944 -0.0\n",
      "yahoo_A2 0.4285713887755125 0.06250000468592082 0.12499998593750138\n",
      "yahoo_A2 0.24999997187500062 0.07142856326530694 -0.0\n",
      "yahoo_A2 0.46153841893491365 0.06250000600115631 -0.0\n",
      "yahoo_A2 0.4285713887755125 0.17499998759217278 0.5937499347656314\n",
      "yahoo_A2 0.0 0.0 -0.0\n",
      "yahoo_A2 0.46153841893491365 0.06250000600115631 -0.0\n",
      "yahoo_A2 0.4285713887755125 0.05555556109988678 -0.0\n",
      "yahoo_A2 0.24999997187500062 0.07142856326530694 -0.0\n"
     ]
    },
    {
     "data": {
      "application/vnd.jupyter.widget-view+json": {
       "model_id": "5d5864e689744d99be0d9da259b9e82a",
       "version_major": 2,
       "version_minor": 0
      },
      "text/plain": [
       "  0%|          | 0/100 [00:00<?, ?it/s]"
      ]
     },
     "metadata": {},
     "output_type": "display_data"
    },
    {
     "data": {
      "application/vnd.jupyter.widget-view+json": {
       "model_id": "3a898724d02e4aeb89947a5e5aa85edf",
       "version_major": 2,
       "version_minor": 0
      },
      "text/plain": [
       "  0%|          | 0/92 [00:00<?, ?it/s]"
      ]
     },
     "metadata": {},
     "output_type": "display_data"
    },
    {
     "name": "stdout",
     "output_type": "stream",
     "text": [
      "yahoo_A3 0.33333329444444565 0.09999998800000123 0.0\n",
      "yahoo_A3 0.33333329444444565 0.16249997831250235 0.12499999062500056\n",
      "yahoo_A3 0.7499999343750033 0.16666667444444216 -0.0\n",
      "yahoo_A3 0.4999999500000025 0.10000000133333238 -0.0\n",
      "yahoo_A3 0.8888888197530895 0.25000000993055255 -0.0\n",
      "yahoo_A3 0.33333329444444565 0.14999997950000227 -0.0\n",
      "yahoo_A3 0.7999999360000031 0.24999999777777704 -0.0\n",
      "yahoo_A3 0.5714285142857172 0.1250000006249989 -0.0\n",
      "yahoo_A3 0.7999999360000031 0.16666667972221952 -0.0\n",
      "yahoo_A3 0.999999930000003 0.4999999800000005 0.0\n",
      "yahoo_A3 0.8888888197530895 0.25000000993055255 -0.0\n",
      "yahoo_A3 0.9090908429752097 0.2500000140138856 -0.0\n",
      "yahoo_A3 0.28571425306122533 0.08333332361111209 -0.0\n",
      "yahoo_A3 0.7999999360000031 0.24999999777777704 -0.0\n",
      "yahoo_A3 0.28571425306122533 0.08333332361111209 -0.0\n",
      "yahoo_A3 0.8888888197530895 0.25000000993055255 -0.0\n",
      "yahoo_A3 0.33333329444444565 0.09999998800000123 -0.0\n",
      "yahoo_A3 0.4999999500000025 0.10000000133333238 -0.0\n",
      "yahoo_A3 0.5714285142857172 0.1250000006249989 -0.0\n",
      "yahoo_A3 0.28571425306122533 0.08333332361111209 -0.0\n",
      "yahoo_A3 0.0 0.0 -0.0\n",
      "yahoo_A3 0.5714285142857172 0.3333333009722249 0.49999994166667233\n",
      "yahoo_A3 0.9090908429752097 0.2500000140138856 -0.0\n",
      "yahoo_A3 0.28571425306122533 0.08333332361111209 -0.0\n",
      "yahoo_A3 0.4999999500000025 0.10000000133333238 -0.0\n",
      "yahoo_A3 0.39999995200000177 0.12499998437500164 -0.0\n",
      "yahoo_A3 0.33333329444444565 0.09999998800000123 -0.0\n",
      "yahoo_A3 0.4999999500000025 0.10000000133333238 -0.0\n",
      "yahoo_A3 0.6666666074074105 0.1250000081249981 -0.0\n",
      "yahoo_A3 0.7999999360000031 0.16666667972221952 -0.0\n",
      "yahoo_A3 0.9999999333333361 0.8999999161666751 0.0\n",
      "yahoo_A3 0.999999930000003 0.4999999800000005 0.0\n",
      "yahoo_A3 0.7499999343750033 0.1666666744444422 -0.0\n",
      "yahoo_A3 0.9090908429752097 0.2500000140138856 -0.0\n",
      "yahoo_A3 0.7499999343750033 0.1666666744444422 0.0\n",
      "yahoo_A3 0.9090908429752097 0.2500000140138856 -0.0\n",
      "yahoo_A3 0.9090908429752097 0.2500000140138856 -0.0\n",
      "yahoo_A3 0.7999999360000031 0.16666667972221952 -0.0\n",
      "yahoo_A3 0.5714285142857172 0.1250000006249989 0.0\n",
      "yahoo_A3 0.8888888197530895 0.25000000993055255 -0.0\n",
      "yahoo_A3 0.0 0.0 -0.0\n",
      "yahoo_A3 0.9999999250000032 0.49999997500000093 0.0\n",
      "yahoo_A3 0.28571425306122533 0.08333332361111209 -0.0\n",
      "yahoo_A3 0.4999999500000025 0.10000000133333238 -0.0\n",
      "yahoo_A3 0.8571427836734729 0.3749999784722232 -0.0\n",
      "yahoo_A3 0.8888888197530895 0.25000000993055255 -0.0\n",
      "yahoo_A3 0.9999999333333361 0.49999998333333373 0.0\n",
      "yahoo_A3 0.7999999360000031 0.4166666380555578 0.41666662777778063\n",
      "yahoo_A3 0.4999999500000025 0.10000000133333238 -0.0\n",
      "yahoo_A3 0.4999999500000025 0.10000000133333238 -0.0\n",
      "yahoo_A3 0.6666666074074105 0.1250000081249981 -0.0\n",
      "yahoo_A3 0.6666666074074105 0.1250000081249981 -0.0\n",
      "yahoo_A3 0.6666666000000033 0.16666666527777654 -0.0\n",
      "yahoo_A3 0.9090908429752097 0.2500000140138856 -0.0\n",
      "yahoo_A3 0.7999999360000031 0.16666667972221952 -0.0\n",
      "yahoo_A3 0.39999995200000177 0.12499998437500164 -0.0\n",
      "yahoo_A3 0.8571427836734729 0.2500000034722198 -0.0\n",
      "yahoo_A3 0.33333329444444565 0.09999998800000123 -0.0\n",
      "yahoo_A3 0.9090908429752097 0.2500000140138856 -0.0\n",
      "yahoo_A3 0.9090908429752097 0.2500000140138856 -0.0\n",
      "yahoo_A3 0.7999999360000031 0.16666667972221952 -0.0\n",
      "yahoo_A3 0.666666577777783 0.2499999625000044 -0.0\n",
      "yahoo_A3 0.4999999500000025 0.10000000133333238 -0.0\n",
      "yahoo_A3 0.7999999360000031 0.16666667972221952 -0.0\n",
      "yahoo_A3 0.7999999360000031 0.16666667972221952 -0.0\n",
      "yahoo_A3 0.7999999360000031 0.24999999777777704 -0.0\n",
      "yahoo_A3 0.6666666074074105 0.1250000081249981 -0.0\n",
      "yahoo_A3 0.999999930000003 0.4999999800000005 0.0\n",
      "yahoo_A3 0.8571427836734729 0.2500000034722198 -0.0\n",
      "yahoo_A3 0.28571425306122533 0.08333332361111209 -0.0\n",
      "yahoo_A3 0.6666666074074105 0.1250000081249981 -0.0\n",
      "yahoo_A3 0.5714285142857172 0.1250000006249989 0.0\n",
      "yahoo_A3 0.7999999360000031 0.16666667972221952 -0.0\n",
      "yahoo_A3 0.6666666074074105 0.1250000081249981 -0.0\n",
      "yahoo_A3 0.4999999500000025 0.10000000133333238 -0.0\n",
      "yahoo_A3 0.4999999500000025 0.10000000133333238 -0.0\n",
      "yahoo_A3 0.4999999375000028 0.16666664444444684 -0.0\n",
      "yahoo_A3 0.6666666074074105 0.1250000081249981 -0.0\n",
      "yahoo_A3 0.33333329444444565 0.09999998800000123 -0.0\n",
      "yahoo_A3 0.9090908429752097 0.2500000140138856 -0.0\n",
      "yahoo_A3 0.9090908429752097 0.2500000140138856 -0.0\n",
      "yahoo_A3 0.7499999343750033 0.16666667444444216 -0.0\n",
      "yahoo_A3 0.9090908429752097 0.2500000140138856 -0.0\n",
      "yahoo_A3 0.6666666074074105 0.1250000081249981 -0.0\n",
      "yahoo_A3 0.33333329444444565 0.09999998800000123 -0.0\n",
      "yahoo_A3 0.6666666074074105 0.1250000081249981 -0.0\n",
      "yahoo_A3 0.39999995200000177 0.12499998437500164 -0.0\n",
      "yahoo_A3 0.9090908429752097 0.5555555116990781 0.6666665777777874\n",
      "yahoo_A3 0.6666666074074105 0.1250000081249981 -0.0\n",
      "yahoo_A3 0.6666666074074105 0.1874999971874994 0.0\n",
      "yahoo_A3 0.6666666074074105 0.1250000081249981 -0.0\n",
      "yahoo_A3 0.4999999500000025 0.10000000133333238 0.0\n"
     ]
    },
    {
     "data": {
      "application/vnd.jupyter.widget-view+json": {
       "model_id": "4dcd9f16ac3043719b4a4d8b2143c0ee",
       "version_major": 2,
       "version_minor": 0
      },
      "text/plain": [
       "  0%|          | 0/100 [00:00<?, ?it/s]"
      ]
     },
     "metadata": {},
     "output_type": "display_data"
    },
    {
     "data": {
      "application/vnd.jupyter.widget-view+json": {
       "model_id": "20cf69db9d6a43f3815fcb9bd7abf1eb",
       "version_major": 2,
       "version_minor": 0
      },
      "text/plain": [
       "  0%|          | 0/82 [00:00<?, ?it/s]"
      ]
     },
     "metadata": {},
     "output_type": "display_data"
    },
    {
     "name": "stdout",
     "output_type": "stream",
     "text": [
      "yahoo_A4 0.6666666074074105 0.1250000081249981 -0.0\n",
      "yahoo_A4 0.33333329444444565 0.09999998800000123 -0.0\n",
      "yahoo_A4 0.6666666074074105 0.18749999718749943 -0.0\n",
      "yahoo_A4 0.33333329444444565 0.09999998800000123 -0.0\n",
      "yahoo_A4 0.8571427836734729 0.2500000034722198 -0.0\n",
      "yahoo_A4 0.7499999343750033 0.24999999249999974 0.4999999250000088\n",
      "yahoo_A4 0.4999999500000025 0.29166663694444717 0.6249999281250072\n",
      "yahoo_A4 0.4999999500000025 0.10000000133333238 -0.0\n",
      "yahoo_A4 0.9090908429752097 0.37499998901388903 -0.0\n",
      "yahoo_A4 0.7999999360000031 0.16666667972221952 -0.0\n",
      "yahoo_A4 0.9090908429752097 0.2500000140138856 -0.0\n",
      "yahoo_A4 0.6666666074074105 0.1250000081249981 -0.0\n",
      "yahoo_A4 0.5714285142857172 0.1250000006249989 -0.0\n",
      "yahoo_A4 0.28571425306122533 0.08333332361111209 -0.0\n",
      "yahoo_A4 0.28571425306122533 0.08333332361111209 -0.0\n",
      "yahoo_A4 0.4999999500000025 0.10000000133333238 -0.0\n",
      "yahoo_A4 0.8888888197530895 0.25000000993055255 -0.0\n",
      "yahoo_A4 0.7499999343750033 0.1666666744444422 -0.0\n",
      "yahoo_A4 0.999999930000003 0.7499999175000112 0.0\n",
      "yahoo_A4 0.8888888197530895 0.25000000993055255 -0.0\n",
      "yahoo_A4 0.0 0.0 -0.0\n",
      "yahoo_A4 0.7999999360000031 0.16666667972221952 -0.0\n",
      "yahoo_A4 0.7999999360000031 0.16666667972221952 -0.0\n",
      "yahoo_A4 0.4999999500000025 0.10000000133333238 -0.0\n",
      "yahoo_A4 0.5714285142857172 0.1250000006249989 -0.0\n",
      "yahoo_A4 0.7999999360000031 0.16666667972221952 -0.0\n",
      "yahoo_A4 0.9999999333333361 0.9166665597222367 0.0\n",
      "yahoo_A4 0.4999999500000025 0.10000000133333238 -0.0\n",
      "yahoo_A4 0.9090908429752097 0.37499998901388903 -0.0\n",
      "yahoo_A4 0.9999999333333361 0.49999998333333373 0.0\n",
      "yahoo_A4 0.28571425306122533 0.08333332361111209 -0.0\n",
      "yahoo_A4 0.5714285142857172 0.1250000006249989 -0.0\n",
      "yahoo_A4 0.4999999500000025 0.10000000133333238 -0.0\n",
      "yahoo_A4 0.4999999500000025 0.10000000133333238 -0.0\n",
      "yahoo_A4 0.7999999360000031 0.16666667972221952 -0.0\n",
      "yahoo_A4 0.8888888197530895 0.25000000993055255 -0.0\n",
      "yahoo_A4 0.7499999343750033 0.1666666744444422 0.2499999625000044\n",
      "yahoo_A4 0.9090908429752097 0.2500000140138856 0.0\n",
      "yahoo_A4 0.7999999360000031 0.16666667972221955 -0.0\n",
      "yahoo_A4 0.6666666074074105 0.1250000081249981 -0.0\n",
      "yahoo_A4 0.8888888197530895 0.25000000993055255 -0.0\n",
      "yahoo_A4 0.0 0.0 -0.0\n",
      "yahoo_A4 0.7999999360000031 0.16666667972221952 -0.0\n",
      "yahoo_A4 0.4999999500000025 0.10000000133333238 -0.0\n",
      "yahoo_A4 0.0 0.0 -0.0\n",
      "yahoo_A4 0.4999999500000025 0.1624999916458335 0.12499999062500056\n",
      "yahoo_A4 0.6666666074074105 0.1250000081249981 -0.0\n",
      "yahoo_A4 0.4999999500000025 0.10000000133333238 -0.0\n",
      "yahoo_A4 0.7999999360000031 0.24999999777777704 -0.0\n",
      "yahoo_A4 0.7999999360000031 0.16666667972221952 -0.0\n",
      "yahoo_A4 0.7999999360000031 0.3749999727777805 0.4999999250000088\n",
      "yahoo_A4 0.7999999360000031 0.16666667972221952 -0.0\n",
      "yahoo_A4 0.4999999500000025 0.10000000133333238 -0.0\n",
      "yahoo_A4 0.28571425306122533 0.08333332361111209 -0.0\n",
      "yahoo_A4 0.9090908429752097 0.2500000140138856 -0.0\n",
      "yahoo_A4 0.9999998500000123 0.4999999237500114 0.999999866666681\n",
      "yahoo_A4 0.6666666074074105 0.1250000081249981 -0.0\n",
      "yahoo_A4 0.4999999500000025 0.10000000133333238 -0.0\n",
      "yahoo_A4 0.33333329444444565 0.09999998800000123 0.0\n",
      "yahoo_A4 0.7999999360000031 0.16666667972221952 -0.0\n",
      "yahoo_A4 0.6666666074074105 0.1250000081249981 -0.0\n",
      "yahoo_A4 0.7999999360000031 0.16666667972221952 -0.0\n",
      "yahoo_A4 0.7999999360000031 0.16666667972221952 -0.0\n",
      "yahoo_A4 0.7499999343750033 0.2916666536111113 0.24999997500000196\n",
      "yahoo_A4 0.33333329444444565 0.09999998800000123 -0.0\n",
      "yahoo_A4 0.6666666074074105 0.24999998625000086 0.6666665777777874\n",
      "yahoo_A4 0.5714285142857172 0.1250000006249989 -0.0\n",
      "yahoo_A4 0.4999999500000025 0.10000000133333238 -0.0\n",
      "yahoo_A4 0.6666666074074105 0.1250000081249981 -0.0\n",
      "yahoo_A4 0.7999999360000031 0.24999999777777704 -0.0\n",
      "yahoo_A4 0.28571425306122533 0.08333332361111209 -0.0\n",
      "yahoo_A4 0.9090908429752097 0.2500000140138856 -0.0\n",
      "yahoo_A4 0.9090908429752097 0.2500000140138856 -0.0\n",
      "yahoo_A4 0.7999999360000031 0.16666667972221952 -0.0\n",
      "yahoo_A4 0.7499999343750033 0.3472222023379638 -0.0\n",
      "yahoo_A4 0.666666577777783 0.2499999625000044 -0.0\n",
      "yahoo_A4 0.666666577777783 0.3749999537500051 0.6666665777777874\n",
      "yahoo_A4 0.6666666074074105 0.1250000081249981 -0.0\n",
      "yahoo_A4 0.7999999360000031 0.16666667972221952 -0.0\n",
      "yahoo_A4 0.7499999343750033 0.1666666744444422 -0.0\n",
      "yahoo_A4 0.9090908429752097 0.2500000140138856 -0.0\n",
      "yahoo_A4 0.28571425306122533 0.08333332361111209 -0.0\n"
     ]
    }
   ],
   "source": [
    "for loader in [load_yahoo_A1, load_yahoo_A2, load_yahoo_A3, load_yahoo_A4]:\n",
    "    datasets = loader(128, 64)\n",
    "    x_trains, x_tests, y_tests = datasets['x_train'], datasets['x_test'], datasets['y_test']\n",
    "    \n",
    "    for i in tqdm(range(len(x_trains))):\n",
    "        tf.keras.backend.clear_session()\n",
    "\n",
    "        X_train = x_trains[i]\n",
    "        X_test = x_tests[i]\n",
    "        \n",
    "        model = LSTM_VAE(X_train)\n",
    "        \n",
    "        X_test_rec = model.decoder.predict(model.encoder.predict(X_test)[-1])\n",
    "        scores = evaluate(X_test, X_test_rec, y_tests[i], is_reconstructed=True)\n",
    "    \n",
    "        total_scores['dataset'].append(loader.__name__.replace('load_', ''))\n",
    "        total_scores['f1'].append(np.max(scores['f1']))\n",
    "        total_scores['pr_auc'].append(scores['pr_auc'])\n",
    "        total_scores['roc_auc'].append(scores['roc_auc'])\n",
    "        print(loader.__name__.replace('load_', ''), np.max(scores['f1']), scores['pr_auc'], scores['roc_auc'])   "
   ]
  },
  {
   "cell_type": "code",
   "execution_count": 8,
   "id": "bd9e37fd-124c-4f5c-8f1f-a9d61a4b0315",
   "metadata": {},
   "outputs": [
    {
     "data": {
      "text/html": [
       "<div>\n",
       "<style scoped>\n",
       "    .dataframe tbody tr th:only-of-type {\n",
       "        vertical-align: middle;\n",
       "    }\n",
       "\n",
       "    .dataframe tbody tr th {\n",
       "        vertical-align: top;\n",
       "    }\n",
       "\n",
       "    .dataframe thead th {\n",
       "        text-align: right;\n",
       "    }\n",
       "</style>\n",
       "<table border=\"1\" class=\"dataframe\">\n",
       "  <thead>\n",
       "    <tr style=\"text-align: right;\">\n",
       "      <th></th>\n",
       "      <th>f1</th>\n",
       "      <th>pr_auc</th>\n",
       "      <th>roc_auc</th>\n",
       "    </tr>\n",
       "    <tr>\n",
       "      <th>dataset</th>\n",
       "      <th></th>\n",
       "      <th></th>\n",
       "      <th></th>\n",
       "    </tr>\n",
       "  </thead>\n",
       "  <tbody>\n",
       "    <tr>\n",
       "      <th>yahoo_A1</th>\n",
       "      <td>0.422151</td>\n",
       "      <td>0.141964</td>\n",
       "      <td>0.098214</td>\n",
       "    </tr>\n",
       "    <tr>\n",
       "      <th>yahoo_A2</th>\n",
       "      <td>0.361276</td>\n",
       "      <td>0.075546</td>\n",
       "      <td>0.082991</td>\n",
       "    </tr>\n",
       "    <tr>\n",
       "      <th>yahoo_A3</th>\n",
       "      <td>0.655396</td>\n",
       "      <td>0.194173</td>\n",
       "      <td>0.018569</td>\n",
       "    </tr>\n",
       "    <tr>\n",
       "      <th>yahoo_A4</th>\n",
       "      <td>0.653887</td>\n",
       "      <td>0.192446</td>\n",
       "      <td>0.055894</td>\n",
       "    </tr>\n",
       "  </tbody>\n",
       "</table>\n",
       "</div>"
      ],
      "text/plain": [
       "                f1    pr_auc   roc_auc\n",
       "dataset                               \n",
       "yahoo_A1  0.422151  0.141964  0.098214\n",
       "yahoo_A2  0.361276  0.075546  0.082991\n",
       "yahoo_A3  0.655396  0.194173  0.018569\n",
       "yahoo_A4  0.653887  0.192446  0.055894"
      ]
     },
     "execution_count": 8,
     "metadata": {},
     "output_type": "execute_result"
    }
   ],
   "source": [
    "yahoo_results = pd.DataFrame(total_scores)\n",
    "yahoo_results.groupby('dataset').mean()"
   ]
  },
  {
   "cell_type": "markdown",
   "id": "8890a678-6116-4222-b0ff-395fcd7f41aa",
   "metadata": {},
   "source": [
    "### NASA"
   ]
  },
  {
   "cell_type": "code",
   "execution_count": 9,
   "id": "e4387a80-585a-488e-94a8-546f42d47632",
   "metadata": {},
   "outputs": [],
   "source": [
    "total_scores = {'dataset': [], 'f1': [], 'pr_auc': [], 'roc_auc': []}"
   ]
  },
  {
   "cell_type": "code",
   "execution_count": 10,
   "id": "106a238d-c5cb-49e9-9764-b1bc37f09436",
   "metadata": {},
   "outputs": [
    {
     "data": {
      "application/vnd.jupyter.widget-view+json": {
       "model_id": "8719aa0e0c1d4aebb3cd721d00de298d",
       "version_major": 2,
       "version_minor": 0
      },
      "text/plain": [
       "  0%|          | 0/2 [00:00<?, ?it/s]"
      ]
     },
     "metadata": {},
     "output_type": "display_data"
    },
    {
     "data": {
      "application/vnd.jupyter.widget-view+json": {
       "model_id": "791d6606b3574f89a7a84e6d29afed19",
       "version_major": 2,
       "version_minor": 0
      },
      "text/plain": [
       "  0%|          | 0/2 [00:00<?, ?it/s]"
      ]
     },
     "metadata": {},
     "output_type": "display_data"
    },
    {
     "name": "stdout",
     "output_type": "stream",
     "text": [
      "D1 0.25772800179650046 0.1399403712646333 0.49129400847906457\n",
      "D2 0.2848620187799369 0.12504215926087756 0.46294618259259673\n"
     ]
    }
   ],
   "source": [
    "for loader in [load_nasa]:\n",
    "    datasets = loader(128, 64)\n",
    "    x_trains, x_tests, y_tests = datasets['x_train'], datasets['x_test'], datasets['y_test']\n",
    "    \n",
    "    for i in tqdm(range(len(x_trains))):\n",
    "        tf.keras.backend.clear_session()\n",
    "\n",
    "        X_train = x_trains[i]\n",
    "        X_test = x_tests[i]\n",
    "        \n",
    "        model = LSTM_VAE(X_train)\n",
    "        \n",
    "        X_test_rec = model.decoder.predict(model.encoder.predict(X_test)[-1])\n",
    "        scores = evaluate(X_test, X_test_rec, y_tests[i], is_reconstructed=True)\n",
    "        \n",
    "        total_scores['dataset'].append(f'D{i+1}')\n",
    "        total_scores['f1'].append(np.max(scores['f1']))\n",
    "        total_scores['pr_auc'].append(scores['pr_auc'])\n",
    "        total_scores['roc_auc'].append(scores['roc_auc'])\n",
    "        print(f'D{i+1}', np.max(scores['f1']), scores['pr_auc'], scores['roc_auc'])   "
   ]
  },
  {
   "cell_type": "code",
   "execution_count": 11,
   "id": "abb7a6a5-3924-4a33-bc54-871559819602",
   "metadata": {},
   "outputs": [
    {
     "data": {
      "text/html": [
       "<div>\n",
       "<style scoped>\n",
       "    .dataframe tbody tr th:only-of-type {\n",
       "        vertical-align: middle;\n",
       "    }\n",
       "\n",
       "    .dataframe tbody tr th {\n",
       "        vertical-align: top;\n",
       "    }\n",
       "\n",
       "    .dataframe thead th {\n",
       "        text-align: right;\n",
       "    }\n",
       "</style>\n",
       "<table border=\"1\" class=\"dataframe\">\n",
       "  <thead>\n",
       "    <tr style=\"text-align: right;\">\n",
       "      <th></th>\n",
       "      <th>f1</th>\n",
       "      <th>pr_auc</th>\n",
       "      <th>roc_auc</th>\n",
       "    </tr>\n",
       "    <tr>\n",
       "      <th>dataset</th>\n",
       "      <th></th>\n",
       "      <th></th>\n",
       "      <th></th>\n",
       "    </tr>\n",
       "  </thead>\n",
       "  <tbody>\n",
       "    <tr>\n",
       "      <th>D1</th>\n",
       "      <td>0.257728</td>\n",
       "      <td>0.139940</td>\n",
       "      <td>0.491294</td>\n",
       "    </tr>\n",
       "    <tr>\n",
       "      <th>D2</th>\n",
       "      <td>0.284862</td>\n",
       "      <td>0.125042</td>\n",
       "      <td>0.462946</td>\n",
       "    </tr>\n",
       "  </tbody>\n",
       "</table>\n",
       "</div>"
      ],
      "text/plain": [
       "               f1    pr_auc   roc_auc\n",
       "dataset                              \n",
       "D1       0.257728  0.139940  0.491294\n",
       "D2       0.284862  0.125042  0.462946"
      ]
     },
     "execution_count": 11,
     "metadata": {},
     "output_type": "execute_result"
    }
   ],
   "source": [
    "nasa_results = pd.DataFrame(total_scores)\n",
    "nasa_results.groupby('dataset').mean()"
   ]
  },
  {
   "cell_type": "markdown",
   "id": "41754734-5c75-4caf-9069-fb3b39c7a0da",
   "metadata": {},
   "source": [
    "### SMD"
   ]
  },
  {
   "cell_type": "code",
   "execution_count": 12,
   "id": "60a26807-8359-42d4-82b4-9e1d37b6acaa",
   "metadata": {},
   "outputs": [],
   "source": [
    "total_scores = {'dataset': [], 'f1': [], 'pr_auc': [], 'roc_auc': []}"
   ]
  },
  {
   "cell_type": "code",
   "execution_count": 13,
   "id": "41af318e-1b08-4cc9-a680-6b4a978544f2",
   "metadata": {},
   "outputs": [
    {
     "data": {
      "application/vnd.jupyter.widget-view+json": {
       "model_id": "618fbc8ff0014decb0d6ad3b470ae01e",
       "version_major": 2,
       "version_minor": 0
      },
      "text/plain": [
       "  0%|          | 0/28 [00:00<?, ?it/s]"
      ]
     },
     "metadata": {},
     "output_type": "display_data"
    },
    {
     "data": {
      "application/vnd.jupyter.widget-view+json": {
       "model_id": "faf4c5fec9ef48289d818a7a58d54062",
       "version_major": 2,
       "version_minor": 0
      },
      "text/plain": [
       "  0%|          | 0/28 [00:00<?, ?it/s]"
      ]
     },
     "metadata": {},
     "output_type": "display_data"
    },
    {
     "name": "stdout",
     "output_type": "stream",
     "text": [
      "smd 0.23153690558205123 0.06546275382269463 0.49999999900806086\n",
      "smd 0.14105792132682896 0.0 0.0\n",
      "smd 0.18546364222837944 0.06328834236421746 0.5153655145434519\n",
      "smd 0.17412933725031698 0.06972508131401133 0.49051896042181853\n",
      "smd 0.08333332530382016 0.02173913029300567 0.5014164273190038\n",
      "smd 0.4793388063315375 0.23169968983952827 0.38553208966378616\n",
      "smd 0.29561198390945814 0.1179091731888085 0.43671373799419855\n",
      "smd 0.23728811456478205 0.07913685087716121 0.38249760046817965\n",
      "smd 0.21553882777872163 0.08900926340511002 0.47055018015055705\n",
      "smd 0.30092590022183857 0.08855585815025727 0.5032894727443633\n",
      "smd 0.12690354134994566 0.02975852977456804 0.5400136767430757\n",
      "smd 0.29953914490114675 0.13963483542105232 0.4377402688730397\n",
      "smd 0.2641509203453206 0.09249582775395099 0.369470041035989\n",
      "smd 0.08583690161911327 0.029305960383263503 0.4572675824499064\n",
      "smd 0.21411190291793372 0.05557691507824329 0.3780248895960818\n",
      "smd 0.026737965262089488 0.006775067613340092 0.4999999898626375\n",
      "smd 0.19028338351472884 0.052572706811504985 0.4999999988111702\n",
      "smd 0.05652173361342205 0.014541386909498574 0.4999999960386388\n",
      "smd 0.22330095092845867 0.0 0.009287925673527802\n",
      "smd 0.03516483169472315 0.008948545747438804 0.49999999363610487\n",
      "smd 0.16915421328680122 0.0 0.002985074617195006\n",
      "smd 0.28372090575338227 0.0 0.0\n",
      "smd 0.16243653321652327 0.049445133011236285 0.43722894147745534\n",
      "smd 0.13636362358815537 0.030967594154656237 0.48008424092152735\n",
      "smd 0.16249998500260548 0.05018228375492345 0.39745778547315447\n",
      "smd 0.07741934736316405 0.02013422807155834 0.49999999710567206\n",
      "smd 0.13778704348046017 0.05397349629820866 0.4497031771013869\n",
      "smd 0.05652173361342205 0.014541386909498574 0.4999999960386388\n"
     ]
    }
   ],
   "source": [
    "for loader in [load_smd]:\n",
    "    datasets = loader(128, 64)\n",
    "    x_trains, x_tests, y_tests = datasets['x_train'], datasets['x_test'], datasets['y_test']\n",
    "    \n",
    "    for i in tqdm(range(len(x_trains))):\n",
    "        tf.keras.backend.clear_session()\n",
    "\n",
    "        X_train = x_trains[i]\n",
    "        X_test = x_tests[i]\n",
    "        \n",
    "        model = LSTM_VAE(X_train)\n",
    "        \n",
    "        X_test_rec = model.decoder.predict(model.encoder.predict(X_test)[-1])\n",
    "        scores = evaluate(X_test, X_test_rec, y_tests[i], is_reconstructed=True)\n",
    "\n",
    "        total_scores['dataset'].append(loader.__name__.replace('load_', ''))\n",
    "        total_scores['f1'].append(np.max(scores['f1']))\n",
    "        total_scores['pr_auc'].append(scores['pr_auc'])\n",
    "        total_scores['roc_auc'].append(scores['roc_auc'])\n",
    "        print(loader.__name__.replace('load_', ''), np.max(scores['f1']), scores['pr_auc'], scores['roc_auc'])   "
   ]
  },
  {
   "cell_type": "code",
   "execution_count": 14,
   "id": "23474773-bac1-4145-ac75-c1a686bca5c6",
   "metadata": {},
   "outputs": [
    {
     "data": {
      "text/html": [
       "<div>\n",
       "<style scoped>\n",
       "    .dataframe tbody tr th:only-of-type {\n",
       "        vertical-align: middle;\n",
       "    }\n",
       "\n",
       "    .dataframe tbody tr th {\n",
       "        vertical-align: top;\n",
       "    }\n",
       "\n",
       "    .dataframe thead th {\n",
       "        text-align: right;\n",
       "    }\n",
       "</style>\n",
       "<table border=\"1\" class=\"dataframe\">\n",
       "  <thead>\n",
       "    <tr style=\"text-align: right;\">\n",
       "      <th></th>\n",
       "      <th>f1</th>\n",
       "      <th>pr_auc</th>\n",
       "      <th>roc_auc</th>\n",
       "    </tr>\n",
       "    <tr>\n",
       "      <th>dataset</th>\n",
       "      <th></th>\n",
       "      <th></th>\n",
       "      <th></th>\n",
       "    </tr>\n",
       "  </thead>\n",
       "  <tbody>\n",
       "    <tr>\n",
       "      <th>smd</th>\n",
       "      <td>0.180453</td>\n",
       "      <td>0.052692</td>\n",
       "      <td>0.398041</td>\n",
       "    </tr>\n",
       "  </tbody>\n",
       "</table>\n",
       "</div>"
      ],
      "text/plain": [
       "               f1    pr_auc   roc_auc\n",
       "dataset                              \n",
       "smd      0.180453  0.052692  0.398041"
      ]
     },
     "execution_count": 14,
     "metadata": {},
     "output_type": "execute_result"
    }
   ],
   "source": [
    "smd_results = pd.DataFrame(total_scores)\n",
    "smd_results.groupby('dataset').mean()"
   ]
  },
  {
   "cell_type": "markdown",
   "id": "191def0b-8e38-4401-be4c-0d47e89eefa5",
   "metadata": {},
   "source": [
    "### ECG"
   ]
  },
  {
   "cell_type": "code",
   "execution_count": 15,
   "id": "9739a0bc-1fd1-48bc-86ad-d2fd75473bbb",
   "metadata": {},
   "outputs": [],
   "source": [
    "total_scores = {'dataset': [], 'f1': [], 'pr_auc': [], 'roc_auc': []}"
   ]
  },
  {
   "cell_type": "code",
   "execution_count": 16,
   "id": "cd9f21c4-27f5-412f-a213-60fc3c09acc7",
   "metadata": {},
   "outputs": [
    {
     "data": {
      "application/vnd.jupyter.widget-view+json": {
       "model_id": "13ab3e098b8b42d8ab62d34388b64cf9",
       "version_major": 2,
       "version_minor": 0
      },
      "text/plain": [
       "  0%|          | 0/9 [00:00<?, ?it/s]"
      ]
     },
     "metadata": {},
     "output_type": "display_data"
    },
    {
     "data": {
      "application/vnd.jupyter.widget-view+json": {
       "model_id": "5284589cac2a4487843283d31286ae3e",
       "version_major": 2,
       "version_minor": 0
      },
      "text/plain": [
       "  0%|          | 0/9 [00:00<?, ?it/s]"
      ]
     },
     "metadata": {},
     "output_type": "display_data"
    },
    {
     "name": "stdout",
     "output_type": "stream",
     "text": [
      "D1 0.3174602897455299 0.14846535819132492 0.46366027628276396\n",
      "D2 0.3043477989603044 0.10399022707154182 0.2723214231827966\n",
      "D3 0.24999996493055968 0.10674128438902575 0.6841924263725396\n",
      "D4 0.3243242953981028 0.13406207910861692 0.5374999865714288\n",
      "D5 0.27450977916186264 0.1414382336174631 0.4498069408655706\n",
      "D6 0.20895520454444344 0.076324127178433 0.39976957885927006\n",
      "D7 0.09999997655556071 0.031852760742268144 0.5921324962186367\n",
      "D8 0.2622950559527031 0.10932404123601588 0.5412912848082317\n",
      "D9 0.44444440138271973 0.3200539607397437 0.5621301718057091\n"
     ]
    }
   ],
   "source": [
    "for loader in [load_ecg]:\n",
    "    datasets = loader(64, 32)\n",
    "    x_trains, x_tests, y_tests = datasets['x_train'], datasets['x_test'], datasets['y_test']\n",
    "    \n",
    "    for i in tqdm(range(len(x_trains))):\n",
    "        X_train = x_trains[i]\n",
    "        X_test = x_tests[i]\n",
    "        \n",
    "        model = LSTM_VAE(X_train)\n",
    "        \n",
    "        X_test_rec = model.decoder.predict(model.encoder.predict(X_test)[-1])\n",
    "        scores = evaluate(X_test, X_test_rec, y_tests[i], is_reconstructed=True)\n",
    "\n",
    "        total_scores['dataset'].append(f'D{i+1}')\n",
    "        total_scores['f1'].append(np.max(scores['f1']))\n",
    "        total_scores['pr_auc'].append(scores['pr_auc'])\n",
    "        total_scores['roc_auc'].append(scores['roc_auc'])\n",
    "        print(f'D{i+1}', np.max(scores['f1']), scores['pr_auc'], scores['roc_auc'])  "
   ]
  },
  {
   "cell_type": "code",
   "execution_count": 17,
   "id": "4d23a70d-851c-497b-81ed-63c1369f4619",
   "metadata": {},
   "outputs": [
    {
     "data": {
      "text/html": [
       "<div>\n",
       "<style scoped>\n",
       "    .dataframe tbody tr th:only-of-type {\n",
       "        vertical-align: middle;\n",
       "    }\n",
       "\n",
       "    .dataframe tbody tr th {\n",
       "        vertical-align: top;\n",
       "    }\n",
       "\n",
       "    .dataframe thead th {\n",
       "        text-align: right;\n",
       "    }\n",
       "</style>\n",
       "<table border=\"1\" class=\"dataframe\">\n",
       "  <thead>\n",
       "    <tr style=\"text-align: right;\">\n",
       "      <th></th>\n",
       "      <th>f1</th>\n",
       "      <th>pr_auc</th>\n",
       "      <th>roc_auc</th>\n",
       "    </tr>\n",
       "    <tr>\n",
       "      <th>dataset</th>\n",
       "      <th></th>\n",
       "      <th></th>\n",
       "      <th></th>\n",
       "    </tr>\n",
       "  </thead>\n",
       "  <tbody>\n",
       "    <tr>\n",
       "      <th>D1</th>\n",
       "      <td>0.317460</td>\n",
       "      <td>0.148465</td>\n",
       "      <td>0.463660</td>\n",
       "    </tr>\n",
       "    <tr>\n",
       "      <th>D2</th>\n",
       "      <td>0.304348</td>\n",
       "      <td>0.103990</td>\n",
       "      <td>0.272321</td>\n",
       "    </tr>\n",
       "    <tr>\n",
       "      <th>D3</th>\n",
       "      <td>0.250000</td>\n",
       "      <td>0.106741</td>\n",
       "      <td>0.684192</td>\n",
       "    </tr>\n",
       "    <tr>\n",
       "      <th>D4</th>\n",
       "      <td>0.324324</td>\n",
       "      <td>0.134062</td>\n",
       "      <td>0.537500</td>\n",
       "    </tr>\n",
       "    <tr>\n",
       "      <th>D5</th>\n",
       "      <td>0.274510</td>\n",
       "      <td>0.141438</td>\n",
       "      <td>0.449807</td>\n",
       "    </tr>\n",
       "    <tr>\n",
       "      <th>D6</th>\n",
       "      <td>0.208955</td>\n",
       "      <td>0.076324</td>\n",
       "      <td>0.399770</td>\n",
       "    </tr>\n",
       "    <tr>\n",
       "      <th>D7</th>\n",
       "      <td>0.100000</td>\n",
       "      <td>0.031853</td>\n",
       "      <td>0.592132</td>\n",
       "    </tr>\n",
       "    <tr>\n",
       "      <th>D8</th>\n",
       "      <td>0.262295</td>\n",
       "      <td>0.109324</td>\n",
       "      <td>0.541291</td>\n",
       "    </tr>\n",
       "    <tr>\n",
       "      <th>D9</th>\n",
       "      <td>0.444444</td>\n",
       "      <td>0.320054</td>\n",
       "      <td>0.562130</td>\n",
       "    </tr>\n",
       "  </tbody>\n",
       "</table>\n",
       "</div>"
      ],
      "text/plain": [
       "               f1    pr_auc   roc_auc\n",
       "dataset                              \n",
       "D1       0.317460  0.148465  0.463660\n",
       "D2       0.304348  0.103990  0.272321\n",
       "D3       0.250000  0.106741  0.684192\n",
       "D4       0.324324  0.134062  0.537500\n",
       "D5       0.274510  0.141438  0.449807\n",
       "D6       0.208955  0.076324  0.399770\n",
       "D7       0.100000  0.031853  0.592132\n",
       "D8       0.262295  0.109324  0.541291\n",
       "D9       0.444444  0.320054  0.562130"
      ]
     },
     "execution_count": 17,
     "metadata": {},
     "output_type": "execute_result"
    }
   ],
   "source": [
    "ecg_results = pd.DataFrame(total_scores)\n",
    "ecg_results.groupby('dataset').mean()"
   ]
  },
  {
   "cell_type": "markdown",
   "id": "b153349b-4e8c-45d3-90cd-a1c765412ee0",
   "metadata": {},
   "source": [
    "### Power Demand"
   ]
  },
  {
   "cell_type": "code",
   "execution_count": 18,
   "id": "d38db439-5db0-4021-bc17-5f65f36f3f2e",
   "metadata": {},
   "outputs": [],
   "source": [
    "total_scores = {'dataset': [], 'f1': [], 'pr_auc': [], 'roc_auc': []}"
   ]
  },
  {
   "cell_type": "code",
   "execution_count": 19,
   "id": "7a1b4d2f-a3e8-4148-9590-eb9fa2a7def8",
   "metadata": {},
   "outputs": [
    {
     "data": {
      "application/vnd.jupyter.widget-view+json": {
       "model_id": "7d9af9d138f148f1aa731243d8dd8df8",
       "version_major": 2,
       "version_minor": 0
      },
      "text/plain": [
       "  0%|          | 0/1 [00:00<?, ?it/s]"
      ]
     },
     "metadata": {},
     "output_type": "display_data"
    },
    {
     "name": "stdout",
     "output_type": "stream",
     "text": [
      "power_demand 0.7499999343750033 0.16666667444444216 0.2499999625000044\n"
     ]
    }
   ],
   "source": [
    "for loader in [load_power_demand]:\n",
    "    datasets = loader(512, 256)\n",
    "    x_trains, x_tests, y_tests = datasets['x_train'], datasets['x_test'], datasets['y_test']\n",
    "    \n",
    "    for i in tqdm(range(len(x_trains))):\n",
    "        X_train = x_trains[i]\n",
    "        X_test = x_tests[i]\n",
    "        \n",
    "        model = LSTM_VAE(X_train)\n",
    "        \n",
    "        X_test_rec = model.decoder.predict(model.encoder.predict(X_test)[-1])\n",
    "        scores = evaluate(X_test, X_test_rec, y_tests[i], is_reconstructed=True)\n",
    "\n",
    "        total_scores['dataset'].append(loader.__name__.replace('load_', ''))\n",
    "        total_scores['f1'].append(np.max(scores['f1']))\n",
    "        total_scores['pr_auc'].append(scores['pr_auc'])\n",
    "        total_scores['roc_auc'].append(scores['roc_auc'])\n",
    "        print(loader.__name__.replace('load_', ''), np.max(scores['f1']), scores['pr_auc'], scores['roc_auc']) "
   ]
  },
  {
   "cell_type": "code",
   "execution_count": 20,
   "id": "95679aba-14a8-4b08-aae0-27ce1f3b6407",
   "metadata": {},
   "outputs": [
    {
     "data": {
      "text/html": [
       "<div>\n",
       "<style scoped>\n",
       "    .dataframe tbody tr th:only-of-type {\n",
       "        vertical-align: middle;\n",
       "    }\n",
       "\n",
       "    .dataframe tbody tr th {\n",
       "        vertical-align: top;\n",
       "    }\n",
       "\n",
       "    .dataframe thead th {\n",
       "        text-align: right;\n",
       "    }\n",
       "</style>\n",
       "<table border=\"1\" class=\"dataframe\">\n",
       "  <thead>\n",
       "    <tr style=\"text-align: right;\">\n",
       "      <th></th>\n",
       "      <th>f1</th>\n",
       "      <th>pr_auc</th>\n",
       "      <th>roc_auc</th>\n",
       "    </tr>\n",
       "    <tr>\n",
       "      <th>dataset</th>\n",
       "      <th></th>\n",
       "      <th></th>\n",
       "      <th></th>\n",
       "    </tr>\n",
       "  </thead>\n",
       "  <tbody>\n",
       "    <tr>\n",
       "      <th>power_demand</th>\n",
       "      <td>0.75</td>\n",
       "      <td>0.166667</td>\n",
       "      <td>0.25</td>\n",
       "    </tr>\n",
       "  </tbody>\n",
       "</table>\n",
       "</div>"
      ],
      "text/plain": [
       "                f1    pr_auc  roc_auc\n",
       "dataset                              \n",
       "power_demand  0.75  0.166667     0.25"
      ]
     },
     "execution_count": 20,
     "metadata": {},
     "output_type": "execute_result"
    }
   ],
   "source": [
    "power_results = pd.DataFrame(total_scores)\n",
    "power_results.groupby('dataset').mean()"
   ]
  },
  {
   "cell_type": "markdown",
   "id": "06b9409f-6b54-4ee1-9079-850794f4269a",
   "metadata": {},
   "source": [
    "### 2D Gesture"
   ]
  },
  {
   "cell_type": "code",
   "execution_count": 21,
   "id": "e787152b-f6d3-4ce7-a7b6-cbad809e2d9f",
   "metadata": {},
   "outputs": [],
   "source": [
    "total_scores = {'dataset': [], 'f1': [], 'pr_auc': [], 'roc_auc': []}"
   ]
  },
  {
   "cell_type": "code",
   "execution_count": 22,
   "id": "8640d9ef-f1a3-40cd-ab83-c9e0c6cf561e",
   "metadata": {},
   "outputs": [
    {
     "data": {
      "application/vnd.jupyter.widget-view+json": {
       "model_id": "27aea67ba50a42729f1c1f37720dfcfa",
       "version_major": 2,
       "version_minor": 0
      },
      "text/plain": [
       "  0%|          | 0/1 [00:00<?, ?it/s]"
      ]
     },
     "metadata": {},
     "output_type": "display_data"
    },
    {
     "name": "stdout",
     "output_type": "stream",
     "text": [
      "gesture 0.44230765700813873 0.41932892728918425 0.594893026124482\n"
     ]
    }
   ],
   "source": [
    "for loader in [load_gesture]:\n",
    "    datasets = loader(64, 32)\n",
    "    x_trains, x_tests, y_tests = datasets['x_train'], datasets['x_test'], datasets['y_test']\n",
    "    \n",
    "    for i in tqdm(range(len(x_trains))):\n",
    "        X_train = x_trains[i]\n",
    "        X_test = x_tests[i]\n",
    "\n",
    "        model = LSTM_VAE(X_train)\n",
    "        \n",
    "        X_test_rec = model.decoder.predict(model.encoder.predict(X_test)[-1])\n",
    "        scores = evaluate(X_test, X_test_rec, y_tests[i], is_reconstructed=True)\n",
    "\n",
    "        total_scores['dataset'].append(loader.__name__.replace('load_', ''))\n",
    "        total_scores['f1'].append(np.max(scores['f1']))\n",
    "        total_scores['pr_auc'].append(scores['pr_auc'])\n",
    "        total_scores['roc_auc'].append(scores['roc_auc'])\n",
    "        print(loader.__name__.replace('load_', ''), np.max(scores['f1']), scores['pr_auc'], scores['roc_auc'])  "
   ]
  },
  {
   "cell_type": "code",
   "execution_count": 23,
   "id": "08d069d1-8830-4cc9-8e5b-2b8f48e0dc3d",
   "metadata": {},
   "outputs": [
    {
     "data": {
      "text/html": [
       "<div>\n",
       "<style scoped>\n",
       "    .dataframe tbody tr th:only-of-type {\n",
       "        vertical-align: middle;\n",
       "    }\n",
       "\n",
       "    .dataframe tbody tr th {\n",
       "        vertical-align: top;\n",
       "    }\n",
       "\n",
       "    .dataframe thead th {\n",
       "        text-align: right;\n",
       "    }\n",
       "</style>\n",
       "<table border=\"1\" class=\"dataframe\">\n",
       "  <thead>\n",
       "    <tr style=\"text-align: right;\">\n",
       "      <th></th>\n",
       "      <th>f1</th>\n",
       "      <th>pr_auc</th>\n",
       "      <th>roc_auc</th>\n",
       "    </tr>\n",
       "    <tr>\n",
       "      <th>dataset</th>\n",
       "      <th></th>\n",
       "      <th></th>\n",
       "      <th></th>\n",
       "    </tr>\n",
       "  </thead>\n",
       "  <tbody>\n",
       "    <tr>\n",
       "      <th>gesture</th>\n",
       "      <td>0.442308</td>\n",
       "      <td>0.419329</td>\n",
       "      <td>0.594893</td>\n",
       "    </tr>\n",
       "  </tbody>\n",
       "</table>\n",
       "</div>"
      ],
      "text/plain": [
       "               f1    pr_auc   roc_auc\n",
       "dataset                              \n",
       "gesture  0.442308  0.419329  0.594893"
      ]
     },
     "execution_count": 23,
     "metadata": {},
     "output_type": "execute_result"
    }
   ],
   "source": [
    "gesture_results = pd.DataFrame(total_scores)\n",
    "gesture_results.groupby('dataset').mean()"
   ]
  }
 ],
 "metadata": {
  "kernelspec": {
   "display_name": "Python 3",
   "language": "python",
   "name": "python3"
  },
  "language_info": {
   "codemirror_mode": {
    "name": "ipython",
    "version": 3
   },
   "file_extension": ".py",
   "mimetype": "text/x-python",
   "name": "python",
   "nbconvert_exporter": "python",
   "pygments_lexer": "ipython3",
   "version": "3.9.4"
  }
 },
 "nbformat": 4,
 "nbformat_minor": 5
}
