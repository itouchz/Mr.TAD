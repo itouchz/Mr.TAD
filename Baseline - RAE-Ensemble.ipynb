{
 "cells": [
  {
   "cell_type": "markdown",
   "id": "27f033b5-c6de-481e-b6ea-966d205649f2",
   "metadata": {},
   "source": [
    "Ref: https://github.com/tungk/OED"
   ]
  },
  {
   "cell_type": "code",
   "execution_count": 1,
   "id": "4b3c1f47-6e9c-4e56-a255-939f8178a82a",
   "metadata": {},
   "outputs": [],
   "source": [
    "import os\n",
    "import random\n",
    "\n",
    "os.environ[\"CUDA_DEVICE_ORDER\"] = \"PCI_BUS_ID\";\n",
    "os.environ[\"CUDA_VISIBLE_DEVICES\"] = \"1\"\n",
    "os.environ[\"TF_FORCE_GPU_ALLOW_GROWTH\"] = \"true\""
   ]
  },
  {
   "cell_type": "code",
   "execution_count": 2,
   "id": "5ba60486-a465-4823-b8a5-d223f95fe93a",
   "metadata": {},
   "outputs": [],
   "source": [
    "import numpy as np\n",
    "import pandas as pd\n",
    "import tensorflow as tf\n",
    "\n",
    "from evaluator import evaluate\n",
    "from data_loader import load_kdd_cup_urc, load_yahoo_A1, load_yahoo_A2, load_yahoo_A3, load_yahoo_A4, load_power_demand # Univariate Datasets\n",
    "from data_loader import load_nasa, load_ecg, load_gesture, load_smd # Multivariate Datasets\n",
    "\n",
    "from tqdm.notebook import tqdm\n",
    "from tensorflow.keras import Model\n",
    "from tensorflow.keras.layers import Dense, Input, LSTM, Reshape, Dropout, GaussianNoise, Concatenate, Lambda, RepeatVector\n",
    "\n",
    "# THESE LINES ARE FOR REPRODUCIBILITY\n",
    "random.seed(0)\n",
    "np.random.seed(0)\n",
    "tf.random.set_seed(0)"
   ]
  },
  {
   "cell_type": "code",
   "execution_count": 3,
   "id": "ec0f1ab4-164a-4fab-82e3-e42045ec6cda",
   "metadata": {},
   "outputs": [],
   "source": [
    "def SKip_AE(seq_length, dim, N_RES=3, N_LAYERS=1, BATCH_SIZE=128):\n",
    "    tf.keras.backend.clear_session()\n",
    "    \n",
    "    en_inputs = []\n",
    "    shared_latents = []\n",
    "    for n in range(N_RES):\n",
    "        selected_t = [t for t in range(0, seq_length, 2**n)]\n",
    "        en_input = Input(shape=[len(selected_t), dim])\n",
    "        en_inputs.append(en_input)\n",
    "\n",
    "    de_outputs = []\n",
    "    for n in range(N_RES):\n",
    "        for l in range(N_LAYERS):\n",
    "            X = en_inputs[n] if l == 0 else X\n",
    "            X = GaussianNoise(0.5)(X) if l == 0 else X\n",
    "            X = LSTM(64, return_sequences=False if l + 1 == N_LAYERS else True)(X)\n",
    "        h = Dense(32, activation='relu', kernel_regularizer='l1')(X)\n",
    "        shared_latents.append(h)\n",
    "\n",
    "    for n in range(N_RES):\n",
    "        selected_t = [t for t in range(0, seq_length, 2**n)]\n",
    "        for l in range(N_LAYERS):\n",
    "            if l == 0:\n",
    "                X = Concatenate()(shared_latents)\n",
    "                X = Dense(128, activation='relu')(X)\n",
    "                X = Concatenate()([X, shared_latents[n]])\n",
    "                X = RepeatVector(len(selected_t))(X)\n",
    "            X = LSTM(64, return_sequences=False if l + 1 == N_LAYERS else True)(X)\n",
    "        rec_x = Dense(len(selected_t) * dim)(X)\n",
    "        rec_x = Reshape([len(selected_t), dim])(rec_x)\n",
    "        de_outputs.append(rec_x)\n",
    "\n",
    "    model = Model(inputs=en_inputs, outputs=de_outputs)\n",
    "    model.compile(optimizer=tf.keras.optimizers.Adam(learning_rate=0.001), loss=\"mse\")\n",
    "\n",
    "    return model"
   ]
  },
  {
   "cell_type": "markdown",
   "id": "aceba82a-7e10-4058-92aa-9b12874ff37d",
   "metadata": {},
   "source": [
    "### Yahoo S5"
   ]
  },
  {
   "cell_type": "code",
   "execution_count": 4,
   "id": "96ebab6a-0bb8-466c-bac2-1c15fb237ae3",
   "metadata": {},
   "outputs": [],
   "source": [
    "total_scores = {'dataset': [], 'f1': [], 'pr_auc': [], 'roc_auc': []}"
   ]
  },
  {
   "cell_type": "code",
   "execution_count": 5,
   "id": "bfb543b5-1d55-4b47-ae21-e8bdeafaa8d9",
   "metadata": {
    "scrolled": true,
    "tags": []
   },
   "outputs": [
    {
     "data": {
      "application/vnd.jupyter.widget-view+json": {
       "model_id": "de87a47047d44c8eb785b8475e96f40c",
       "version_major": 2,
       "version_minor": 0
      },
      "text/plain": [
       "  0%|          | 0/67 [00:00<?, ?it/s]"
      ]
     },
     "metadata": {},
     "output_type": "display_data"
    },
    {
     "data": {
      "application/vnd.jupyter.widget-view+json": {
       "model_id": "0d7d9f412e144633a87c6201123e4366",
       "version_major": 2,
       "version_minor": 0
      },
      "text/plain": [
       "  0%|          | 0/67 [00:00<?, ?it/s]"
      ]
     },
     "metadata": {},
     "output_type": "display_data"
    },
    {
     "name": "stdout",
     "output_type": "stream",
     "text": [
      "yahoo_A1 0.5714285224489823 0.1666666623148149 0.1666666583333337\n",
      "yahoo_A1 0.0 0.0 -0.0\n",
      "yahoo_A1 0.9999998500000123 0.49999990000001493 0.9999998888889001\n",
      "yahoo_A1 0.0 0.0 0.0\n",
      "WARNING:tensorflow:5 out of the last 5 calls to <function Model.make_predict_function.<locals>.predict_function at 0x7fa4247b99d0> triggered tf.function retracing. Tracing is expensive and the excessive number of tracings could be due to (1) creating @tf.function repeatedly in a loop, (2) passing tensors with different shapes, (3) passing Python objects instead of tensors. For (1), please define your @tf.function outside of the loop. For (2), @tf.function has experimental_relax_shapes=True option that relaxes argument shapes that can avoid unnecessary retracing. For (3), please refer to https://www.tensorflow.org/guide/function#controlling_retracing and https://www.tensorflow.org/api_docs/python/tf/function for  more details.\n",
      "yahoo_A1 0.0 0.0 0.0\n",
      "WARNING:tensorflow:6 out of the last 6 calls to <function Model.make_predict_function.<locals>.predict_function at 0x7fa3f8063550> triggered tf.function retracing. Tracing is expensive and the excessive number of tracings could be due to (1) creating @tf.function repeatedly in a loop, (2) passing tensors with different shapes, (3) passing Python objects instead of tensors. For (1), please define your @tf.function outside of the loop. For (2), @tf.function has experimental_relax_shapes=True option that relaxes argument shapes that can avoid unnecessary retracing. For (3), please refer to https://www.tensorflow.org/guide/function#controlling_retracing and https://www.tensorflow.org/api_docs/python/tf/function for  more details.\n",
      "yahoo_A1 0.0 0.0 -0.0\n",
      "yahoo_A1 0.0 0.0 0.0\n",
      "yahoo_A1 0.46153841893491365 0.14999999350000026 0.49999997619047704\n",
      "yahoo_A1 0.6666666133333363 0.6666666005092657 0.6249999718750009\n",
      "yahoo_A1 0.0 0.0 0.0\n",
      "yahoo_A1 0.7999999200000041 0.6767856563734693 0.6666666311111126\n",
      "yahoo_A1 0.33333330000000166 0.055555557160493235 0.49999994375000567\n",
      "yahoo_A1 0.8888888296296326 0.652777698252327 0.6666665777777875\n",
      "yahoo_A1 0.6666666133333363 0.08333334749999795 -0.0\n",
      "yahoo_A1 0.9999999000000052 0.7499998875000143 0.9999999375000035\n",
      "yahoo_A1 0.18181816198347142 0.0 0.0\n",
      "yahoo_A1 0.46153841893491365 0.0 0.0\n",
      "yahoo_A1 0.9999998500000123 0.49999990000001493 0.9999998888889002\n",
      "yahoo_A1 0.6666666133333363 0.15476190589592742 -0.0\n",
      "yahoo_A1 0.6666666133333363 0.08333334620204845 -0.0\n",
      "yahoo_A1 0.749999943750003 0.10000001611639998 -0.0\n",
      "yahoo_A1 0.749999943750003 0.0 0.0\n",
      "yahoo_A1 0.0 0.0 0.0\n",
      "yahoo_A1 0.0 0.0 0.0\n",
      "yahoo_A1 0.9999999357142885 0.8333332812891195 0.9999999523809541\n",
      "yahoo_A1 0.9999999333333361 0.7999999612261922 0.999999950000002\n",
      "yahoo_A1 0.0 0.0 0.0\n",
      "yahoo_A1 0.8235293536332209 0.1250000193660688 -0.0\n",
      "yahoo_A1 0.0 0.0 0.0\n",
      "yahoo_A1 0.0 0.0 0.0\n",
      "yahoo_A1 0.999999930000003 0.8999999370000042 0.999999960000001\n",
      "yahoo_A1 0.6666666133333363 0.0 0.0\n",
      "yahoo_A1 0.6666666133333363 0.0 0.0\n",
      "yahoo_A1 0.18181816198347142 0.049999994500000554 0.4444443950617334\n",
      "yahoo_A1 0.9999999400000027 0.0 0.0\n",
      "yahoo_A1 0.5714285224489823 0.0714285812117332 -0.0\n",
      "yahoo_A1 0.33333330000000166 0.09999999400000033 0.49999996875000174\n",
      "yahoo_A1 0.5714285224489823 0.25277776681944486 0.3333333111111124\n",
      "yahoo_A1 0.0 0.0 0.0\n",
      "yahoo_A1 0.5714285224489823 0.12500000010416637 -0.0\n",
      "yahoo_A1 0.749999943750003 0.0 0.0\n",
      "yahoo_A1 0.6666666133333363 0.0 0.0\n",
      "yahoo_A1 0.0 0.0 0.0\n",
      "yahoo_A1 0.0 0.0 0.0\n",
      "yahoo_A1 0.0 0.0 0.0\n",
      "yahoo_A1 0.0 0.0 0.0\n",
      "yahoo_A1 0.6666666133333363 0.0 0.0\n",
      "yahoo_A1 0.749999943750003 0.0 0.0\n",
      "yahoo_A1 0.46153841893491365 0.0 0.0\n",
      "yahoo_A1 0.0 0.0 0.0\n",
      "yahoo_A1 0.8888888296296326 0.0 0.0\n",
      "yahoo_A1 0.8888888296296326 0.0 0.0\n",
      "yahoo_A1 0.749999943750003 0.10000001611639997 -0.0\n",
      "yahoo_A1 0.18181816198347142 0.049999994500000554 0.49999994444445006\n",
      "yahoo_A1 0.0 0.0 0.0\n",
      "yahoo_A1 0.0 0.0 0.0\n",
      "yahoo_A1 0.5714285224489823 0.12500000010416637 -0.0\n",
      "yahoo_A1 0.0 0.0 -0.0\n",
      "yahoo_A1 0.0 0.0 0.0\n",
      "yahoo_A1 0.0 0.0 0.0\n",
      "yahoo_A1 0.0 0.0 -0.0\n",
      "yahoo_A1 0.749999943750003 0.2777777710617285 0.49999997750000075\n",
      "yahoo_A1 0.9999999166666703 0.49999997250000117 0.9999999541666683\n",
      "yahoo_A1 0.18181816198347142 0.049999994500000554 0.49999994444445006\n",
      "yahoo_A1 0.4999999375000028 0.24999997865740936 0.3333333174603181\n",
      "yahoo_A1 0.6666666133333363 0.18749999718171292 -0.0\n",
      "yahoo_A1 0.5714285224489823 0.0 0.0\n"
     ]
    },
    {
     "data": {
      "application/vnd.jupyter.widget-view+json": {
       "model_id": "f35628a7bd114d57ae88a7b23953ce1a",
       "version_major": 2,
       "version_minor": 0
      },
      "text/plain": [
       "  0%|          | 0/100 [00:00<?, ?it/s]"
      ]
     },
     "metadata": {},
     "output_type": "display_data"
    },
    {
     "data": {
      "application/vnd.jupyter.widget-view+json": {
       "model_id": "c6942455757e46a7bb5a2a515e81f592",
       "version_major": 2,
       "version_minor": 0
      },
      "text/plain": [
       "  0%|          | 0/100 [00:00<?, ?it/s]"
      ]
     },
     "metadata": {},
     "output_type": "display_data"
    },
    {
     "name": "stdout",
     "output_type": "stream",
     "text": [
      "yahoo_A2 0.0 0.0 0.0\n",
      "yahoo_A2 0.0 0.0 0.0\n",
      "yahoo_A2 0.0 0.0 0.0\n",
      "yahoo_A2 0.0 0.0 0.0\n",
      "yahoo_A2 0.0 0.0 0.0\n",
      "yahoo_A2 0.0 0.0 0.0\n",
      "yahoo_A2 0.0 0.0 0.0\n",
      "yahoo_A2 0.0 0.0 0.0\n",
      "yahoo_A2 0.0 0.0 0.0\n",
      "yahoo_A2 0.0 0.0 0.0\n",
      "yahoo_A2 0.0 0.0 0.0\n",
      "yahoo_A2 0.0 0.0 0.0\n",
      "yahoo_A2 0.0 0.0 0.0\n",
      "yahoo_A2 0.0 0.0 0.0\n",
      "yahoo_A2 0.0 0.0 0.0\n",
      "yahoo_A2 0.0 0.0 0.0\n",
      "yahoo_A2 0.0 0.0 0.0\n",
      "yahoo_A2 0.0 0.0 0.0\n",
      "yahoo_A2 0.0 0.0 0.0\n",
      "yahoo_A2 0.0 0.0 0.0\n",
      "yahoo_A2 0.0 0.0 0.0\n",
      "yahoo_A2 0.0 0.0 0.0\n",
      "yahoo_A2 0.0 0.0 0.0\n",
      "yahoo_A2 0.0 0.0 0.0\n",
      "yahoo_A2 0.0 0.0 0.0\n",
      "yahoo_A2 0.0 0.0 0.0\n",
      "yahoo_A2 0.0 0.0 0.0\n",
      "yahoo_A2 0.0 0.0 0.0\n",
      "yahoo_A2 0.0 0.0 0.0\n",
      "yahoo_A2 0.0 0.0 0.0\n",
      "yahoo_A2 0.0 0.0 0.0\n",
      "yahoo_A2 0.0 0.0 0.0\n",
      "yahoo_A2 0.0 0.0 0.0\n",
      "yahoo_A2 0.0 0.0 0.0\n",
      "yahoo_A2 0.0 0.0 0.0\n",
      "yahoo_A2 0.0 0.0 -0.0\n",
      "yahoo_A2 0.0 0.0 0.0\n",
      "yahoo_A2 0.0 0.0 0.0\n",
      "yahoo_A2 0.0 0.0 0.0\n",
      "yahoo_A2 0.0 0.0 0.0\n",
      "yahoo_A2 0.0 0.0 -0.0\n",
      "yahoo_A2 0.0 0.0 0.0\n",
      "yahoo_A2 0.0 0.0 0.0\n",
      "yahoo_A2 0.0 0.0 0.0\n",
      "yahoo_A2 0.0 0.0 0.0\n",
      "yahoo_A2 0.0 0.0 0.0\n",
      "yahoo_A2 0.0 0.0 0.0\n",
      "yahoo_A2 0.0 0.0 0.0\n",
      "yahoo_A2 0.0 0.0 0.0\n",
      "yahoo_A2 0.0 0.0 0.0\n",
      "yahoo_A2 0.0 0.0 0.0\n",
      "yahoo_A2 0.0 0.0 0.0\n",
      "yahoo_A2 0.0 0.0 0.0\n",
      "yahoo_A2 0.0 0.0 0.0\n",
      "yahoo_A2 0.0 0.0 0.0\n",
      "yahoo_A2 0.0 0.0 0.0\n",
      "yahoo_A2 0.0 0.0 0.0\n",
      "yahoo_A2 0.0 0.0 0.0\n",
      "yahoo_A2 0.0 0.0 0.0\n",
      "yahoo_A2 0.0 0.0 0.0\n",
      "yahoo_A2 0.0 0.0 0.0\n",
      "yahoo_A2 0.0 0.0 0.0\n",
      "yahoo_A2 0.0 0.0 0.0\n",
      "yahoo_A2 0.0 0.0 0.0\n",
      "yahoo_A2 0.0 0.0 0.0\n",
      "yahoo_A2 0.0 0.0 0.0\n",
      "yahoo_A2 0.0 0.0 0.0\n",
      "yahoo_A2 0.0 0.0 0.0\n",
      "yahoo_A2 0.0 0.0 0.0\n",
      "yahoo_A2 0.0 0.0 0.0\n",
      "yahoo_A2 0.0 0.0 0.0\n",
      "yahoo_A2 0.0 0.0 0.0\n",
      "yahoo_A2 0.0 0.0 0.0\n",
      "yahoo_A2 0.0 0.0 0.0\n",
      "yahoo_A2 0.0 0.0 0.0\n",
      "yahoo_A2 0.0 0.0 0.0\n",
      "yahoo_A2 0.0 0.0 0.0\n",
      "yahoo_A2 0.0 0.0 0.0\n",
      "yahoo_A2 0.0 0.0 0.0\n",
      "yahoo_A2 0.0 0.0 0.0\n",
      "yahoo_A2 0.0 0.0 0.0\n",
      "yahoo_A2 0.0 0.0 0.0\n",
      "yahoo_A2 0.0 0.0 0.0\n",
      "yahoo_A2 0.0 0.0 0.0\n",
      "yahoo_A2 0.0 0.0 0.0\n",
      "yahoo_A2 0.0 0.0 0.0\n",
      "yahoo_A2 0.0 0.0 0.0\n",
      "yahoo_A2 0.0 0.0 0.0\n",
      "yahoo_A2 0.0 0.0 0.0\n",
      "yahoo_A2 0.0 0.0 0.0\n",
      "yahoo_A2 0.0 0.0 0.0\n",
      "yahoo_A2 0.0 0.0 0.0\n",
      "yahoo_A2 0.0 0.0 0.0\n",
      "yahoo_A2 0.0 0.0 0.0\n",
      "yahoo_A2 0.0 0.0 0.0\n",
      "yahoo_A2 0.0 0.0 0.0\n",
      "yahoo_A2 0.0 0.0 0.0\n",
      "yahoo_A2 0.0 0.0 0.0\n",
      "yahoo_A2 0.0 0.0 0.0\n",
      "yahoo_A2 0.0 0.0 0.0\n"
     ]
    },
    {
     "data": {
      "application/vnd.jupyter.widget-view+json": {
       "model_id": "5116c80ca73543359da6e81f15528c3c",
       "version_major": 2,
       "version_minor": 0
      },
      "text/plain": [
       "  0%|          | 0/100 [00:00<?, ?it/s]"
      ]
     },
     "metadata": {},
     "output_type": "display_data"
    },
    {
     "data": {
      "application/vnd.jupyter.widget-view+json": {
       "model_id": "7a2f980494694ce99aeb924b3c28e92b",
       "version_major": 2,
       "version_minor": 0
      },
      "text/plain": [
       "  0%|          | 0/100 [00:00<?, ?it/s]"
      ]
     },
     "metadata": {},
     "output_type": "display_data"
    },
    {
     "name": "stdout",
     "output_type": "stream",
     "text": [
      "yahoo_A3 0.4999999562500026 0.0 0.0\n",
      "yahoo_A3 0.5882352456747433 0.06250001071706508 -0.0\n",
      "yahoo_A3 0.736842050969532 0.0 0.0\n",
      "yahoo_A3 0.4999999562500026 0.0 0.0\n",
      "yahoo_A3 0.8571428000000028 1.025883832329092e-09 0.0\n",
      "yahoo_A3 0.4999999562500026 6.464645887944386e-09 0.0\n",
      "yahoo_A3 0.736842050969532 0.0833333493093114 -0.0\n",
      "yahoo_A3 0.6666666148148177 0.0 0.0\n",
      "yahoo_A3 0.799999944000003 0.0 0.0\n",
      "yahoo_A3 0.0 0.0 0.0\n",
      "yahoo_A3 0.9565216809073751 0.25000002354554557 -0.0\n",
      "yahoo_A3 0.9565216809073751 0.0 0.0\n",
      "yahoo_A3 0.799999944000003 0.0 0.0\n",
      "yahoo_A3 0.28571425714285853 0.04545454693526121 -0.0\n",
      "yahoo_A3 0.736842050969532 5.447330150360656e-09 0.0\n",
      "yahoo_A3 0.15384613727810673 0.0 0.0\n",
      "yahoo_A3 0.9090908512396723 0.0 0.0\n",
      "yahoo_A3 0.4999999562500026 0.0 0.0\n",
      "yahoo_A3 0.4999999562500026 6.464645887944386e-09 0.0\n",
      "yahoo_A3 0.5882352456747433 0.0 0.0\n",
      "yahoo_A3 0.28571425714285853 6.439392944080749e-09 0.0\n",
      "yahoo_A3 0.28571425714285853 0.0 0.0\n",
      "yahoo_A3 0.736842050969532 3.0862191832992026e-09 0.0\n",
      "yahoo_A3 0.9565216809073751 0.0 0.0\n",
      "yahoo_A3 0.3999999626666689 0.09090908913567487 0.0\n",
      "yahoo_A3 0.4999999562500026 0.0 0.0\n",
      "yahoo_A3 0.736842050969532 0.0 0.0\n",
      "yahoo_A3 0.5882352456747433 0.0 0.0\n",
      "yahoo_A3 0.0 0.0 0.0\n",
      "yahoo_A3 0.4999999562500026 0.0 0.0\n",
      "yahoo_A3 0.6666666148148177 1.5909090497462517e-09 0.0\n",
      "yahoo_A3 0.8571428000000028 0.0 0.0\n",
      "yahoo_A3 0.0 0.0 0.0\n",
      "yahoo_A3 0.9999999416666693 0.0 0.0\n",
      "yahoo_A3 0.9565216809073751 0.0 0.0\n",
      "yahoo_A3 0.736842050969532 0.2444444404972643 0.3333333122222233\n",
      "yahoo_A3 0.9565216809073751 0.0 0.0\n",
      "yahoo_A3 0.8571428000000028 0.1250000216603509 -0.0\n",
      "yahoo_A3 0.9090908512396723 5.268758876957312e-09 0.0\n",
      "yahoo_A3 0.8571428000000028 0.0 0.0\n",
      "yahoo_A3 0.799999944000003 0.0 0.0\n",
      "yahoo_A3 0.736842050969532 0.08333334928826763 -0.0\n",
      "yahoo_A3 0.9090908512396723 2.041245759923482e-09 0.0\n",
      "yahoo_A3 0.15384613727810673 0.0 0.0\n",
      "yahoo_A3 0.9999999416666693 0.0 0.0\n",
      "yahoo_A3 0.28571425714285853 0.0 0.0\n",
      "yahoo_A3 0.4999999562500026 0.0 0.0\n",
      "yahoo_A3 0.8571428000000028 1.025883832329092e-09 0.0\n",
      "yahoo_A3 0.0 0.0 0.0\n",
      "yahoo_A3 0.9565216809073751 0.0 0.0\n",
      "yahoo_A3 0.9999999416666693 0.4999999916666668 0.0\n",
      "yahoo_A3 0.8571428000000028 0.12500002166035093 -0.0\n",
      "yahoo_A3 0.0 0.0 0.0\n",
      "yahoo_A3 0.0 0.0 -0.0\n",
      "yahoo_A3 0.3999999626666689 0.0 0.0\n",
      "yahoo_A3 0.5882352456747433 0.0 0.0\n",
      "yahoo_A3 0.6666666148148177 0.0 0.0\n",
      "yahoo_A3 0.736842050969532 0.08333334928826763 0.0\n",
      "yahoo_A3 0.799999944000003 0.0 0.0\n",
      "yahoo_A3 0.9565216809073751 0.0 0.0\n",
      "yahoo_A3 0.8571428000000028 0.0 0.0\n",
      "yahoo_A3 0.6666666148148177 3.727272557922019e-09 0.0\n",
      "yahoo_A3 0.8571428000000028 0.0 0.0\n",
      "yahoo_A3 0.4999999562500026 0.0 0.0\n",
      "yahoo_A3 0.9090908512396723 0.0 0.0\n",
      "yahoo_A3 0.9565216809073751 0.0 0.0\n",
      "yahoo_A3 0.799999944000003 0.0 0.0\n",
      "yahoo_A3 0.8571428000000028 0.12500002166035093 -0.0\n",
      "yahoo_A3 0.4999999562500026 0.0 0.0\n",
      "yahoo_A3 0.799999944000003 0.0 0.0\n",
      "yahoo_A3 0.0 0.0 -0.0\n",
      "yahoo_A3 0.8571428000000028 0.0 0.0\n",
      "yahoo_A3 0.0 0.0 -0.0\n",
      "yahoo_A3 0.8571428000000028 0.0 0.0\n",
      "yahoo_A3 0.6666666148148177 0.0 0.0\n",
      "yahoo_A3 0.9999999416666693 0.0 0.0\n",
      "yahoo_A3 0.9090908512396723 0.16666669088383523 -0.0\n",
      "yahoo_A3 0.28571425714285853 6.439392944080749e-09 0.0\n",
      "yahoo_A3 0.736842050969532 0.12500000906836106 -0.0\n",
      "yahoo_A3 0.6666666148148177 0.11904762532024238 -0.0\n",
      "yahoo_A3 0.799999944000003 3.825167859945115e-08 0.4999999625000022\n",
      "yahoo_A3 0.6666666148148177 0.07142858473067244 -0.0\n",
      "yahoo_A3 0.4999999562500026 0.0 0.0\n",
      "yahoo_A3 0.4999999562500026 0.05555556362513912 0.0\n",
      "yahoo_A3 0.799999944000003 0.0 0.0\n",
      "yahoo_A3 0.5882352456747433 0.0 0.0\n",
      "yahoo_A3 0.4999999562500026 0.0 0.0\n",
      "yahoo_A3 0.8571428000000028 0.0 0.0\n",
      "yahoo_A3 0.9090908512396723 0.3486111089347641 -0.0\n",
      "yahoo_A3 0.799999944000003 0.0 0.0\n",
      "yahoo_A3 0.8571428000000028 3.927218513552481e-09 0.0\n",
      "yahoo_A3 0.6666666148148177 0.07142858473067246 -0.0\n",
      "yahoo_A3 0.5882352456747433 0.11111111338874821 -0.0\n",
      "yahoo_A3 0.6666666148148177 0.0 0.0\n",
      "yahoo_A3 0.5882352456747433 1.7748314373095423e-08 0.0\n",
      "yahoo_A3 0.9090908512396723 0.16666669088383523 -0.0\n",
      "yahoo_A3 0.5882352456747433 0.0 0.0\n",
      "yahoo_A3 0.6666666148148177 0.07142858473067244 -0.0\n",
      "yahoo_A3 0.736842050969532 0.0 0.0\n",
      "yahoo_A3 0.4999999562500026 0.05555556362513912 -0.0\n"
     ]
    },
    {
     "data": {
      "application/vnd.jupyter.widget-view+json": {
       "model_id": "0fb6c540a80f4eff9e2a61ae5cb80a7d",
       "version_major": 2,
       "version_minor": 0
      },
      "text/plain": [
       "  0%|          | 0/100 [00:00<?, ?it/s]"
      ]
     },
     "metadata": {},
     "output_type": "display_data"
    },
    {
     "data": {
      "application/vnd.jupyter.widget-view+json": {
       "model_id": "84324c6ac966499ba793094fb39717a3",
       "version_major": 2,
       "version_minor": 0
      },
      "text/plain": [
       "  0%|          | 0/100 [00:00<?, ?it/s]"
      ]
     },
     "metadata": {},
     "output_type": "display_data"
    },
    {
     "name": "stdout",
     "output_type": "stream",
     "text": [
      "yahoo_A4 0.6666666148148177 0.0 0.0\n",
      "yahoo_A4 0.0 0.0 0.0\n",
      "yahoo_A4 0.4999999562500026 0.05555556362513912 -0.0\n",
      "yahoo_A4 0.6666666148148177 0.0 0.0\n",
      "yahoo_A4 0.4999999562500026 0.05555556362513912 -0.0\n",
      "yahoo_A4 0.9090908512396723 0.16666669088383523 -0.0\n",
      "yahoo_A4 0.736842050969532 0.08333334928826763 -0.0\n",
      "yahoo_A4 0.4999999562500026 0.0 0.0\n",
      "yahoo_A4 0.0 0.0 0.0\n",
      "yahoo_A4 0.5882352456747433 0.0 0.0\n",
      "yahoo_A4 0.0 0.0 -0.0\n",
      "yahoo_A4 0.9090908512396723 7.709234992875049e-09 0.0\n",
      "yahoo_A4 0.736842050969532 0.0 0.0\n",
      "yahoo_A4 0.9090908512396723 0.0 0.0\n",
      "yahoo_A4 0.6666666148148177 0.0 0.0\n",
      "yahoo_A4 0.736842050969532 0.08333334928826763 0.0\n",
      "yahoo_A4 0.0 0.0 -0.0\n",
      "yahoo_A4 0.3999999626666689 0.0 0.0\n",
      "yahoo_A4 0.15384613727810673 0.04166666215277823 -0.0\n",
      "yahoo_A4 0.4999999562500026 0.0 0.0\n",
      "yahoo_A4 0.9090908512396723 0.0 0.0\n",
      "yahoo_A4 0.8571428000000028 0.0 0.0\n",
      "yahoo_A4 0.9999999416666693 0.0 0.0\n",
      "yahoo_A4 0.9565216809073751 0.0 0.0\n",
      "yahoo_A4 0.4999999562500026 0.0 0.0\n",
      "yahoo_A4 0.736842050969532 0.08333334928826762 -0.0\n",
      "yahoo_A4 0.799999944000003 0.0 0.0\n",
      "yahoo_A4 0.4999999562500026 0.05555556362513912 -0.0\n",
      "yahoo_A4 0.6666666148148177 0.0 0.0\n",
      "yahoo_A4 0.799999944000003 1.1069143219769037e-08 0.0\n",
      "yahoo_A4 0.9999999416666693 7.57575662263717e-10 0.0\n",
      "yahoo_A4 0.0 0.0 0.0\n",
      "yahoo_A4 0.4999999562500026 0.0 0.0\n",
      "yahoo_A4 0.8571428000000028 0.0 0.0\n",
      "yahoo_A4 0.9565216809073751 8.298898041037347e-10 0.0\n",
      "yahoo_A4 0.15384613727810673 0.04166666215277823 0.0\n",
      "yahoo_A4 0.6666666148148177 0.0 0.0\n",
      "yahoo_A4 0.4999999562500026 0.0 0.0\n",
      "yahoo_A4 0.5882352456747433 0.0 0.0\n",
      "yahoo_A4 0.799999944000003 0.0 0.0\n",
      "yahoo_A4 0.8571428000000028 0.12500002166035093 -0.0\n",
      "yahoo_A4 0.736842050969532 0.08333334928826763 -0.0\n",
      "yahoo_A4 0.0 0.0 0.0\n",
      "yahoo_A4 0.9090908512396723 0.0 0.0\n",
      "yahoo_A4 0.736842050969532 0.08333334928826763 -0.0\n",
      "yahoo_A4 0.0 0.0 0.0\n",
      "yahoo_A4 0.5882352456747433 0.0 0.0\n",
      "yahoo_A4 0.0 0.0 0.0\n",
      "yahoo_A4 0.9090908512396723 0.0 0.0\n",
      "yahoo_A4 0.0 0.0 -0.0\n",
      "yahoo_A4 0.0 0.0 0.0\n",
      "yahoo_A4 0.0 0.0 0.0\n",
      "yahoo_A4 0.799999944000003 0.0 0.0\n",
      "yahoo_A4 0.4999999562500026 0.0 0.0\n",
      "yahoo_A4 0.5882352456747433 0.0 0.0\n",
      "yahoo_A4 0.0 0.0 0.0\n",
      "yahoo_A4 0.4999999562500026 0.0 0.0\n",
      "yahoo_A4 0.6666666148148177 0.0714285847912785 -0.0\n",
      "yahoo_A4 0.4999999562500026 0.0 0.0\n",
      "yahoo_A4 0.736842050969532 0.08333334928826765 -0.0\n",
      "yahoo_A4 0.736842050969532 0.0 0.0\n",
      "yahoo_A4 0.0 0.0 0.0\n",
      "yahoo_A4 0.799999944000003 0.0 0.0\n",
      "yahoo_A4 0.0 0.0 -0.0\n",
      "yahoo_A4 0.736842050969532 0.08333334928826763 -0.0\n",
      "yahoo_A4 0.4999999562500026 0.05555556362513912 -0.0\n",
      "yahoo_A4 0.3999999626666689 0.05000000514393849 -0.0\n",
      "yahoo_A4 0.9090908512396723 0.0 0.0\n",
      "yahoo_A4 0.6666666148148177 1.164393850090292e-08 0.0\n",
      "yahoo_A4 0.6666666148148177 0.0 0.0\n",
      "yahoo_A4 0.0 0.0 0.0\n",
      "yahoo_A4 0.4999999562500026 0.0 0.0\n",
      "yahoo_A4 0.666666577777783 0.24999997314394232 0.8888887901234668\n",
      "yahoo_A4 0.799999944000003 0.0 0.0\n",
      "yahoo_A4 0.6666666148148177 0.0 0.0\n",
      "yahoo_A4 0.8571428000000028 0.0 0.0\n",
      "yahoo_A4 0.8571428000000028 0.12500002166035093 -0.0\n",
      "yahoo_A4 0.0 0.0 0.0\n",
      "yahoo_A4 0.8571428000000028 0.0 0.0\n",
      "yahoo_A4 0.3999999626666689 0.0 0.0\n",
      "yahoo_A4 0.6666666148148177 0.0 0.0\n",
      "yahoo_A4 0.6666666148148177 0.0 0.0\n",
      "yahoo_A4 0.0 0.0 0.0\n",
      "yahoo_A4 0.3999999626666689 0.05000000514393849 0.0\n",
      "yahoo_A4 0.6666666148148177 0.0 0.0\n",
      "yahoo_A4 0.8571428000000028 0.0 0.0\n",
      "yahoo_A4 0.28571425714285853 0.04545454693526121 0.0\n",
      "yahoo_A4 0.9090908512396723 0.0 0.0\n",
      "yahoo_A4 0.8571428000000028 0.0 0.0\n",
      "yahoo_A4 0.0 0.0 0.0\n",
      "yahoo_A4 0.799999944000003 2.6352813019987666e-09 0.0\n",
      "yahoo_A4 0.799999944000003 0.24444444170935564 0.45833328784722627\n",
      "yahoo_A4 0.9090908512396723 0.16666669088383523 -0.0\n",
      "yahoo_A4 0.6666666148148177 0.0 0.0\n",
      "yahoo_A4 0.5882352456747433 0.0 0.0\n",
      "yahoo_A4 0.736842050969532 1.3437949874070837e-09 0.0\n",
      "yahoo_A4 0.0 0.0 0.0\n",
      "yahoo_A4 0.799999944000003 0.10000001875168128 -0.0\n",
      "yahoo_A4 0.8571428000000028 0.0 0.0\n",
      "yahoo_A4 0.3999999626666689 0.0 0.0\n"
     ]
    }
   ],
   "source": [
    "for loader in [load_yahoo_A1, load_yahoo_A2, load_yahoo_A3, load_yahoo_A4]:\n",
    "    datasets = loader(128, 32)\n",
    "    x_trains, x_tests, y_tests = datasets['x_train'], datasets['x_test'], datasets['y_test']\n",
    "    \n",
    "    for i in tqdm(range(len(x_trains))):\n",
    "        X_train = x_trains[i]\n",
    "        X_test = x_tests[i]\n",
    "        \n",
    "        N_RES = 3\n",
    "\n",
    "        seq_length, dim = X_train.shape[1], X_train.shape[2]\n",
    "        X_train_reverse = np.flip(X_train, axis=1)\n",
    "        X_test_reverse = np.flip(X_test, axis=1)\n",
    "\n",
    "        X_train_by_res = []\n",
    "        X_test_by_res = []\n",
    "        X_train_by_res_reverse = []\n",
    "        \n",
    "        for n in range(N_RES):\n",
    "            selected_t = [t for t in range(0, seq_length, 2**n)]\n",
    "            X_train_by_res.append(X_train[:, selected_t, :])\n",
    "            X_test_by_res.append(X_test[:, selected_t, :])\n",
    "            X_train_by_res_reverse.append(X_train_reverse[:, selected_t, :])\n",
    "        \n",
    "        model = SKip_AE(seq_length, dim, N_RES, N_LAYERS=2, BATCH_SIZE=128)\n",
    "        history = model.fit(X_train_by_res, X_train_by_res_reverse, epochs=50, batch_size=128, validation_split=0.3, verbose=0,\n",
    "                            callbacks=[tf.keras.callbacks.EarlyStopping(monitor=\"val_loss\", patience=5, mode=\"min\", restore_best_weights=True)]) \n",
    "        \n",
    "        X_test_rec = [np.flip(rec, axis=1) for rec in model.predict(X_test_by_res)]\n",
    "        scores = evaluate(X_test, X_test_rec[0], y_tests[i], is_reconstructed=True)\n",
    "    \n",
    "        total_scores['dataset'].append(loader.__name__.replace('load_', ''))\n",
    "        total_scores['f1'].append(np.max(scores['f1']))\n",
    "        total_scores['pr_auc'].append(scores['pr_auc'])\n",
    "        total_scores['roc_auc'].append(scores['roc_auc'])\n",
    "        print(loader.__name__.replace('load_', ''), np.max(scores['f1']), scores['pr_auc'], scores['roc_auc'])   "
   ]
  },
  {
   "cell_type": "code",
   "execution_count": 6,
   "id": "ba871981-8985-4f94-ba02-f11bee44bf97",
   "metadata": {},
   "outputs": [],
   "source": [
    "yahoo_results = pd.DataFrame(total_scores)"
   ]
  },
  {
   "cell_type": "code",
   "execution_count": 7,
   "id": "7d99fe44-ecce-4e74-a326-9a1718b62f37",
   "metadata": {},
   "outputs": [
    {
     "data": {
      "text/html": [
       "<div>\n",
       "<style scoped>\n",
       "    .dataframe tbody tr th:only-of-type {\n",
       "        vertical-align: middle;\n",
       "    }\n",
       "\n",
       "    .dataframe tbody tr th {\n",
       "        vertical-align: top;\n",
       "    }\n",
       "\n",
       "    .dataframe thead th {\n",
       "        text-align: right;\n",
       "    }\n",
       "</style>\n",
       "<table border=\"1\" class=\"dataframe\">\n",
       "  <thead>\n",
       "    <tr style=\"text-align: right;\">\n",
       "      <th></th>\n",
       "      <th>f1</th>\n",
       "      <th>pr_auc</th>\n",
       "      <th>roc_auc</th>\n",
       "    </tr>\n",
       "    <tr>\n",
       "      <th>dataset</th>\n",
       "      <th></th>\n",
       "      <th></th>\n",
       "      <th></th>\n",
       "    </tr>\n",
       "  </thead>\n",
       "  <tbody>\n",
       "    <tr>\n",
       "      <th>yahoo_A1</th>\n",
       "      <td>0.440259</td>\n",
       "      <td>0.139369</td>\n",
       "      <td>0.197554</td>\n",
       "    </tr>\n",
       "    <tr>\n",
       "      <th>yahoo_A2</th>\n",
       "      <td>0.000000</td>\n",
       "      <td>0.000000</td>\n",
       "      <td>0.000000</td>\n",
       "    </tr>\n",
       "    <tr>\n",
       "      <th>yahoo_A3</th>\n",
       "      <td>0.646359</td>\n",
       "      <td>0.031808</td>\n",
       "      <td>0.008333</td>\n",
       "    </tr>\n",
       "    <tr>\n",
       "      <th>yahoo_A4</th>\n",
       "      <td>0.557455</td>\n",
       "      <td>0.022836</td>\n",
       "      <td>0.013472</td>\n",
       "    </tr>\n",
       "  </tbody>\n",
       "</table>\n",
       "</div>"
      ],
      "text/plain": [
       "                f1    pr_auc   roc_auc\n",
       "dataset                               \n",
       "yahoo_A1  0.440259  0.139369  0.197554\n",
       "yahoo_A2  0.000000  0.000000  0.000000\n",
       "yahoo_A3  0.646359  0.031808  0.008333\n",
       "yahoo_A4  0.557455  0.022836  0.013472"
      ]
     },
     "execution_count": 7,
     "metadata": {},
     "output_type": "execute_result"
    }
   ],
   "source": [
    "yahoo_results.groupby('dataset').mean()"
   ]
  },
  {
   "cell_type": "markdown",
   "id": "ee4b544c-01d5-40dc-8c82-17002ca08ae8",
   "metadata": {},
   "source": [
    "### NASA"
   ]
  },
  {
   "cell_type": "code",
   "execution_count": 8,
   "id": "cf10eaa5-4d09-4617-8ec2-004069465222",
   "metadata": {},
   "outputs": [],
   "source": [
    "total_scores = {'dataset': [], 'f1': [], 'pr_auc': [], 'roc_auc': []}"
   ]
  },
  {
   "cell_type": "code",
   "execution_count": 9,
   "id": "eb19d991-dde5-49d1-b4db-52af438c7712",
   "metadata": {},
   "outputs": [
    {
     "data": {
      "application/vnd.jupyter.widget-view+json": {
       "model_id": "dbcef9cd89784762918c13282d4bf82e",
       "version_major": 2,
       "version_minor": 0
      },
      "text/plain": [
       "  0%|          | 0/2 [00:00<?, ?it/s]"
      ]
     },
     "metadata": {},
     "output_type": "display_data"
    },
    {
     "data": {
      "application/vnd.jupyter.widget-view+json": {
       "model_id": "1a6e5e68920e4e88822886bd6afa046f",
       "version_major": 2,
       "version_minor": 0
      },
      "text/plain": [
       "  0%|          | 0/2 [00:00<?, ?it/s]"
      ]
     },
     "metadata": {},
     "output_type": "display_data"
    },
    {
     "name": "stdout",
     "output_type": "stream",
     "text": [
      "D1 0.2658442980987866 0.067217603160146 0.3091180118255026\n",
      "D2 0.29898400693628724 0.14465048756846324 0.5127462431770149\n"
     ]
    }
   ],
   "source": [
    "for loader in [load_nasa]:\n",
    "    datasets = loader(100, 100)\n",
    "    x_trains, x_tests, y_tests = datasets['x_train'], datasets['x_test'], datasets['y_test']\n",
    "    \n",
    "    for i in tqdm(range(len(x_trains))):\n",
    "        X_train = x_trains[i]\n",
    "        X_test = x_tests[i]\n",
    "\n",
    "        N_RES = 3\n",
    "\n",
    "        seq_length, dim = X_train.shape[1], X_train.shape[2]\n",
    "        X_train_reverse = np.flip(X_train, axis=1)\n",
    "        X_test_reverse = np.flip(X_test, axis=1)\n",
    "\n",
    "        X_train_by_res = []\n",
    "        X_test_by_res = []\n",
    "        X_train_by_res_reverse = []\n",
    "        \n",
    "        for n in range(N_RES):\n",
    "            selected_t = [t for t in range(0, seq_length, 2**n)]\n",
    "            X_train_by_res.append(X_train[:, selected_t, :])\n",
    "            X_test_by_res.append(X_test[:, selected_t, :])\n",
    "            X_train_by_res_reverse.append(X_train_reverse[:, selected_t, :])\n",
    "        \n",
    "        model = SKip_AE(seq_length, dim, N_RES, N_LAYERS=2, BATCH_SIZE=128)\n",
    "        history = model.fit(X_train_by_res, X_train_by_res_reverse, epochs=50, batch_size=128, validation_split=0.3, verbose=0,\n",
    "                            callbacks=[tf.keras.callbacks.EarlyStopping(monitor=\"val_loss\", patience=5, mode=\"min\", restore_best_weights=True)]) \n",
    "        \n",
    "        X_test_rec = [np.flip(rec, axis=1) for rec in model.predict(X_test_by_res)]\n",
    "        scores = evaluate(X_test, X_test_rec[0], y_tests[i], is_reconstructed=True)\n",
    "        \n",
    "        total_scores['dataset'].append(f'D{i+1}')\n",
    "        total_scores['f1'].append(np.max(scores['f1']))\n",
    "        total_scores['pr_auc'].append(scores['pr_auc'])\n",
    "        total_scores['roc_auc'].append(scores['roc_auc'])\n",
    "        print(f'D{i+1}', np.max(scores['f1']), scores['pr_auc'], scores['roc_auc'])   "
   ]
  },
  {
   "cell_type": "code",
   "execution_count": 10,
   "id": "4358182d-2dd7-48b7-9c45-6b863091e963",
   "metadata": {},
   "outputs": [],
   "source": [
    "nasa_results = pd.DataFrame(total_scores)"
   ]
  },
  {
   "cell_type": "code",
   "execution_count": 11,
   "id": "d3704393-78a8-4bcb-8b4b-a2ebf4ca08b4",
   "metadata": {},
   "outputs": [
    {
     "data": {
      "text/html": [
       "<div>\n",
       "<style scoped>\n",
       "    .dataframe tbody tr th:only-of-type {\n",
       "        vertical-align: middle;\n",
       "    }\n",
       "\n",
       "    .dataframe tbody tr th {\n",
       "        vertical-align: top;\n",
       "    }\n",
       "\n",
       "    .dataframe thead th {\n",
       "        text-align: right;\n",
       "    }\n",
       "</style>\n",
       "<table border=\"1\" class=\"dataframe\">\n",
       "  <thead>\n",
       "    <tr style=\"text-align: right;\">\n",
       "      <th></th>\n",
       "      <th>f1</th>\n",
       "      <th>pr_auc</th>\n",
       "      <th>roc_auc</th>\n",
       "    </tr>\n",
       "    <tr>\n",
       "      <th>dataset</th>\n",
       "      <th></th>\n",
       "      <th></th>\n",
       "      <th></th>\n",
       "    </tr>\n",
       "  </thead>\n",
       "  <tbody>\n",
       "    <tr>\n",
       "      <th>D1</th>\n",
       "      <td>0.265844</td>\n",
       "      <td>0.067218</td>\n",
       "      <td>0.309118</td>\n",
       "    </tr>\n",
       "    <tr>\n",
       "      <th>D2</th>\n",
       "      <td>0.298984</td>\n",
       "      <td>0.144650</td>\n",
       "      <td>0.512746</td>\n",
       "    </tr>\n",
       "  </tbody>\n",
       "</table>\n",
       "</div>"
      ],
      "text/plain": [
       "               f1    pr_auc   roc_auc\n",
       "dataset                              \n",
       "D1       0.265844  0.067218  0.309118\n",
       "D2       0.298984  0.144650  0.512746"
      ]
     },
     "execution_count": 11,
     "metadata": {},
     "output_type": "execute_result"
    }
   ],
   "source": [
    "nasa_results.groupby('dataset').mean()"
   ]
  },
  {
   "cell_type": "markdown",
   "id": "96d211db-832e-4e04-98d2-f24cd026d8e4",
   "metadata": {},
   "source": [
    "### SMD"
   ]
  },
  {
   "cell_type": "code",
   "execution_count": 12,
   "id": "42a32fb1-9d33-401a-99ca-b5b88fec0ff2",
   "metadata": {},
   "outputs": [],
   "source": [
    "total_scores = {'dataset': [], 'f1': [], 'pr_auc': [], 'roc_auc': []}"
   ]
  },
  {
   "cell_type": "code",
   "execution_count": 13,
   "id": "01e9f650-8648-4626-a041-52daf5aa1f0a",
   "metadata": {},
   "outputs": [
    {
     "data": {
      "application/vnd.jupyter.widget-view+json": {
       "model_id": "bd31f833c3ec44a3821e4686868c8d7b",
       "version_major": 2,
       "version_minor": 0
      },
      "text/plain": [
       "  0%|          | 0/28 [00:00<?, ?it/s]"
      ]
     },
     "metadata": {},
     "output_type": "display_data"
    },
    {
     "data": {
      "application/vnd.jupyter.widget-view+json": {
       "model_id": "b1be7f380c154623b396be3876d569bf",
       "version_major": 2,
       "version_minor": 0
      },
      "text/plain": [
       "  0%|          | 0/28 [00:00<?, ?it/s]"
      ]
     },
     "metadata": {},
     "output_type": "display_data"
    },
    {
     "name": "stdout",
     "output_type": "stream",
     "text": [
      "smd 0.21943571700356884 0.06161971811210573 0.49999999837062536\n",
      "smd 0.1269841149911827 0.0 0.0\n",
      "smd 0.29090904357025527 0.1416417253237693 0.6735144273602699\n",
      "smd 0.23809518741497632 0.12840560299529974 0.6359446968989098\n",
      "smd 0.07239818300198662 0.021591084692673755 0.41983779857178904\n",
      "smd 0.4418604270807075 0.20206575241995145 0.48936543747018696\n",
      "smd 0.2762430617502555 0.13016062364296743 0.5186869292590344\n",
      "smd 0.3888888424768571 0.17551693294379772 0.6440913141010485\n",
      "smd 0.18461536771597778 0.07527671689747409 0.3908236113437713\n",
      "smd 0.35233157550538524 0.11307376475794409 0.6614495184590106\n",
      "smd 0.1044176607022476 0.027542372657821033 0.49999999592963096\n",
      "smd 0.2710622474312033 0.11658154114276005 0.4155717817859286\n",
      "smd 0.3513513185536917 0.16390503692656946 0.6614079516038013\n",
      "smd 0.08026755077012628 0.019305019171533672 0.5472727216797796\n",
      "smd 0.18461536771597778 0.06950003409522049 0.34265900133253513\n",
      "smd 0.02499999751041683 0.006329113710409663 0.4999999831196587\n",
      "smd 0.1719745064647667 0.04703832733552671 0.4999999979558404\n",
      "smd 0.054421763376371404 0.0139860138062986 0.49999999357014396\n",
      "smd 0.2463053968793243 0.005650769854866489 0.2930805674091561\n",
      "smd 0.0275862041569562 0.006993006815736715 0.4999999873226953\n",
      "smd 0.16279068259419638 0.0 0.0\n",
      "smd 0.25735291856347503 0.0 0.0\n",
      "smd 0.15624998547363408 0.03648068653460642 0.4722222192258231\n",
      "smd 0.13438733913668502 0.02183406114570608 0.4999999947716896\n",
      "smd 0.15714284255102165 0.05341314747142696 0.3347419668043207\n",
      "smd 0.06081080487353959 0.015679442329031557 0.4999999942645884\n",
      "smd 0.15789472142582472 0.04445558578062179 0.6138059666896638\n",
      "smd 0.054237282822177976 0.013937282050892934 0.49999999357078856\n"
     ]
    }
   ],
   "source": [
    "for loader in [load_smd]:\n",
    "    datasets = loader(100, 100)\n",
    "    x_trains, x_tests, y_tests = datasets['x_train'], datasets['x_test'], datasets['y_test']\n",
    "    \n",
    "    for i in tqdm(range(len(x_trains))):\n",
    "        X_train = x_trains[i]\n",
    "        X_test = x_tests[i]\n",
    "\n",
    "        N_RES = 3\n",
    "\n",
    "        seq_length, dim = X_train.shape[1], X_train.shape[2]\n",
    "        X_train_reverse = np.flip(X_train, axis=1)\n",
    "        X_test_reverse = np.flip(X_test, axis=1)\n",
    "\n",
    "        X_train_by_res = []\n",
    "        X_test_by_res = []\n",
    "        X_train_by_res_reverse = []\n",
    "        \n",
    "        for n in range(N_RES):\n",
    "            selected_t = [t for t in range(0, seq_length, 2**n)]\n",
    "            X_train_by_res.append(X_train[:, selected_t, :])\n",
    "            X_test_by_res.append(X_test[:, selected_t, :])\n",
    "            X_train_by_res_reverse.append(X_train_reverse[:, selected_t, :])\n",
    "        \n",
    "        model = SKip_AE(seq_length, dim, N_RES, N_LAYERS=2, BATCH_SIZE=128)\n",
    "        history = model.fit(X_train_by_res, X_train_by_res_reverse, epochs=50, batch_size=128, validation_split=0.3, verbose=0,\n",
    "                            callbacks=[tf.keras.callbacks.EarlyStopping(monitor=\"val_loss\", patience=5, mode=\"min\", restore_best_weights=True)]) \n",
    "        \n",
    "        X_test_rec = [np.flip(rec, axis=1) for rec in model.predict(X_test_by_res)]\n",
    "        scores = evaluate(X_test, X_test_rec[0], y_tests[i], is_reconstructed=True)\n",
    "      \n",
    "        total_scores['dataset'].append(loader.__name__.replace('load_', ''))\n",
    "        total_scores['f1'].append(np.max(scores['f1']))\n",
    "        total_scores['pr_auc'].append(scores['pr_auc'])\n",
    "        total_scores['roc_auc'].append(scores['roc_auc'])\n",
    "        print(loader.__name__.replace('load_', ''), np.max(scores['f1']), scores['pr_auc'], scores['roc_auc'])   "
   ]
  },
  {
   "cell_type": "code",
   "execution_count": 14,
   "id": "8091c8f3-f45f-4ed8-bbb8-fa3fbf49431d",
   "metadata": {},
   "outputs": [],
   "source": [
    "smd_results = pd.DataFrame(total_scores)"
   ]
  },
  {
   "cell_type": "code",
   "execution_count": 15,
   "id": "85c76453-459e-4743-84a0-ab503cc46c4a",
   "metadata": {},
   "outputs": [
    {
     "data": {
      "text/html": [
       "<div>\n",
       "<style scoped>\n",
       "    .dataframe tbody tr th:only-of-type {\n",
       "        vertical-align: middle;\n",
       "    }\n",
       "\n",
       "    .dataframe tbody tr th {\n",
       "        vertical-align: top;\n",
       "    }\n",
       "\n",
       "    .dataframe thead th {\n",
       "        text-align: right;\n",
       "    }\n",
       "</style>\n",
       "<table border=\"1\" class=\"dataframe\">\n",
       "  <thead>\n",
       "    <tr style=\"text-align: right;\">\n",
       "      <th></th>\n",
       "      <th>f1</th>\n",
       "      <th>pr_auc</th>\n",
       "      <th>roc_auc</th>\n",
       "    </tr>\n",
       "    <tr>\n",
       "      <th>dataset</th>\n",
       "      <th></th>\n",
       "      <th></th>\n",
       "      <th></th>\n",
       "    </tr>\n",
       "  </thead>\n",
       "  <tbody>\n",
       "    <tr>\n",
       "      <th>smd</th>\n",
       "      <td>0.187487</td>\n",
       "      <td>0.061142</td>\n",
       "      <td>0.450517</td>\n",
       "    </tr>\n",
       "  </tbody>\n",
       "</table>\n",
       "</div>"
      ],
      "text/plain": [
       "               f1    pr_auc   roc_auc\n",
       "dataset                              \n",
       "smd      0.187487  0.061142  0.450517"
      ]
     },
     "execution_count": 15,
     "metadata": {},
     "output_type": "execute_result"
    }
   ],
   "source": [
    "smd_results.groupby('dataset').mean()"
   ]
  }
 ],
 "metadata": {
  "kernelspec": {
   "display_name": "Python 3",
   "language": "python",
   "name": "python3"
  },
  "language_info": {
   "codemirror_mode": {
    "name": "ipython",
    "version": 3
   },
   "file_extension": ".py",
   "mimetype": "text/x-python",
   "name": "python",
   "nbconvert_exporter": "python",
   "pygments_lexer": "ipython3",
   "version": "3.9.4"
  }
 },
 "nbformat": 4,
 "nbformat_minor": 5
}
