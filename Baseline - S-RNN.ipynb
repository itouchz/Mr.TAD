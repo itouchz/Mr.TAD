{
 "cells": [
  {
   "cell_type": "markdown",
   "id": "c0c7682f-d79b-40e0-803e-0ecab215d2bb",
   "metadata": {},
   "source": [
    "Ref: https://github.com/tungk/OED"
   ]
  },
  {
   "cell_type": "code",
   "execution_count": 1,
   "id": "147cd176-7bf7-40ca-84a5-1b3401cbf3fe",
   "metadata": {},
   "outputs": [],
   "source": [
    "import os\n",
    "import random\n",
    "\n",
    "os.environ[\"CUDA_DEVICE_ORDER\"] = \"PCI_BUS_ID\";\n",
    "os.environ[\"CUDA_VISIBLE_DEVICES\"] = \"0\"\n",
    "os.environ[\"TF_FORCE_GPU_ALLOW_GROWTH\"] = \"true\""
   ]
  },
  {
   "cell_type": "code",
   "execution_count": 2,
   "id": "ebb3df11-ae49-4f59-8515-a2c3c85bb165",
   "metadata": {},
   "outputs": [],
   "source": [
    "import numpy as np\n",
    "import pandas as pd\n",
    "import tensorflow as tf\n",
    "\n",
    "from evaluator import evaluate\n",
    "from data_loader import load_kdd_cup_urc, load_yahoo_A1, load_yahoo_A2, load_yahoo_A3, load_yahoo_A4, load_power_demand # Univariate Datasets\n",
    "from data_loader import load_nasa, load_ecg, load_gesture, load_smd # Multivariate Datasets\n",
    "\n",
    "from tqdm.notebook import tqdm\n",
    "from tensorflow.keras import Model, Input\n",
    "from tensorflow.keras.layers import Dense, Bidirectional, LSTM, LSTMCell, GRU, GRUCell, Reshape, Dropout, GaussianNoise, Concatenate, Lambda, RepeatVector, TimeDistributed\n",
    "\n",
    "# THESE LINES ARE FOR REPRODUCIBILITY\n",
    "random.seed(0)\n",
    "np.random.seed(0)\n",
    "tf.random.set_seed(0)"
   ]
  },
  {
   "cell_type": "code",
   "execution_count": 3,
   "id": "305df8cc-845a-405a-af01-42e00166d601",
   "metadata": {
    "tags": []
   },
   "outputs": [],
   "source": [
    "class SkipRNN(tf.keras.layers.Layer):\n",
    "    def __init__(self, cell, return_sequences=False, **kwargs):\n",
    "        super().__init__(**kwargs)\n",
    "        self.cell = cell\n",
    "        self.return_sequences = return_sequences\n",
    "        self.get_initial_state = getattr(\n",
    "            self.cell, \"get_initial_state\", self.fallback_initial_state)\n",
    "    def fallback_initial_state(self, inputs):\n",
    "        return [tf.zeros([self.cell.state_size], dtype=inputs.dtype)]\n",
    "    @tf.function\n",
    "    def call(self, inputs, states=None):\n",
    "        states = self.get_initial_state(inputs) if states == None else states\n",
    "\n",
    "        outputs = tf.zeros(shape=[self.cell.output_size], dtype=inputs.dtype)\n",
    "        outputs, states = self.cell(inputs, states)\n",
    "\n",
    "        return outputs, states\n",
    "    \n",
    "def S_RNN(X_train):\n",
    "    tf.keras.backend.clear_session()\n",
    "\n",
    "    sparseness_weights = [(0, 1), (1, 0), (1, 1)]\n",
    "    BATCH_SIZE = 128\n",
    "    N, N_LAYERS, N_UNITS = 10, 1, 8\n",
    "\n",
    "    X_train_reverse = np.flip(X_train, axis=1)\n",
    "    seq_length, dim = X_train.shape[1], X_train.shape[2]\n",
    "\n",
    "    en_input = Input(shape=[seq_length, dim])\n",
    "    X = GaussianNoise(0.5)(en_input)\n",
    "    initial_states = tf.zeros([BATCH_SIZE, N_UNITS])\n",
    "\n",
    "    shared_latents = []\n",
    "    for i in range(N):\n",
    "        prev_states = []\n",
    "        skip_length = np.random.randint(low=2, high=10, size=1)[0]\n",
    "        w1, w2 = np.array(sparseness_weights)[np.random.choice(3, size=1)][0]\n",
    "        w = w1 + w2\n",
    "\n",
    "        for t in range(seq_length):\n",
    "            Xt = Lambda(lambda x: x[:, t, :])(X)\n",
    "            if t == 0:\n",
    "                O, H = SkipRNN(GRUCell(N_UNITS))(Xt)\n",
    "            else:\n",
    "                if t - skip_length >= 0:\n",
    "                    states = (w1 * prev_states[t-1] + w2 * prev_states[t-skip_length]) / w\n",
    "                    O, H = SkipRNN(GRUCell(N_UNITS))(Xt, prev_states[t-1])\n",
    "                else:\n",
    "                    O, H = SkipRNN(GRUCell(N_UNITS))(Xt, prev_states[t-1])\n",
    "\n",
    "            prev_states.append(H)\n",
    "        shared_latents.append(H)\n",
    "\n",
    "    de_outputs = []\n",
    "    de_input = Concatenate()(shared_latents)\n",
    "    D = Dense(dim, kernel_regularizer=tf.keras.regularizers.l1(0.005))(de_input)\n",
    "\n",
    "    for i in range(N):\n",
    "        Y_i = []\n",
    "        prev_states = []\n",
    "        skip_length = np.random.randint(low=2, high=10, size=1)[0]\n",
    "        w1, w2 = np.array(sparseness_weights)[np.random.choice(3, size=1)][0]\n",
    "        w = w1 + w2\n",
    "\n",
    "        for t in range(seq_length):\n",
    "            if t == 0:\n",
    "                y = Dense(dim)(D)\n",
    "                _, H = SkipRNN(GRUCell(dim))(y, D) # y_t\n",
    "            else:\n",
    "                if t - skip_length >= 0:\n",
    "                    states = (w1 * prev_states[t-1] + w2 * prev_states[t-skip_length]) / w\n",
    "                    y, H = SkipRNN(GRUCell(dim))(Y_i[t-1], states) # y_t-1 --> y_1\n",
    "                else:\n",
    "                    y, H = SkipRNN(GRUCell(dim))(Y_i[t-1], prev_states[t-1]) # y_t-1 --> y_1\n",
    "\n",
    "            Y_i.append(y)\n",
    "            prev_states.append(H)\n",
    "\n",
    "        Y_i = Concatenate()(Y_i)\n",
    "        Y_i = Reshape([seq_length, dim])(Y_i)\n",
    "        de_outputs.append(Y_i)\n",
    "\n",
    "    model = Model(inputs=en_input, outputs=de_outputs)\n",
    "    model.compile(optimizer=tf.keras.optimizers.Adam(learning_rate=0.001), loss='mse')\n",
    "\n",
    "    history = model.fit(X_train, [X_train_reverse for _ in range(N)], batch_size=BATCH_SIZE, epochs=50, validation_split=0.3, verbose=0, callbacks=[tf.keras.callbacks.EarlyStopping(monitor=\"val_loss\", patience=5, mode=\"min\", restore_best_weights=True)]) \n",
    "    return model"
   ]
  },
  {
   "cell_type": "markdown",
   "id": "a0c74d6c-977c-4318-ae7c-626e051a4bfd",
   "metadata": {},
   "source": [
    "### Yahoo S5"
   ]
  },
  {
   "cell_type": "code",
   "execution_count": 4,
   "id": "fc47be27-622e-4585-8449-c653f81d2896",
   "metadata": {},
   "outputs": [],
   "source": [
    "total_scores = {'dataset': [], 'f1': [], 'pr_auc': [], 'roc_auc': []}"
   ]
  },
  {
   "cell_type": "code",
   "execution_count": null,
   "id": "2ac394fa-ab18-4f88-b98a-69711cb11dd8",
   "metadata": {
    "scrolled": true,
    "tags": []
   },
   "outputs": [
    {
     "data": {
      "application/vnd.jupyter.widget-view+json": {
       "model_id": "9401711b930b44ffa04fd7a90bba38a8",
       "version_major": 2,
       "version_minor": 0
      },
      "text/plain": [
       "  0%|          | 0/67 [00:00<?, ?it/s]"
      ]
     },
     "metadata": {},
     "output_type": "display_data"
    },
    {
     "data": {
      "application/vnd.jupyter.widget-view+json": {
       "model_id": "1c5fde5dfddb4cf5abce930dcb8a6fd5",
       "version_major": 2,
       "version_minor": 0
      },
      "text/plain": [
       "  0%|          | 0/56 [00:00<?, ?it/s]"
      ]
     },
     "metadata": {},
     "output_type": "display_data"
    },
    {
     "name": "stdout",
     "output_type": "stream",
     "text": [
      "yahoo_A1 0.999999948484851 0.9848484768742359 0.9999999981470107\n",
      "yahoo_A1 0.9999999416666693 0.9166666376815789 0.9999999913849765\n",
      "yahoo_A1 0.9999999456521764 0.9565217191432603 0.9999999953614762\n",
      "yahoo_A1 0.999999930000003 0.7999999503333362 0.9999999797237571\n",
      "yahoo_A1 0.9999999357142885 0.8571428160204102 0.999999985436508\n",
      "yahoo_A1 0.9999999357142885 0.8571428160204102 0.9999999854365079\n",
      "yahoo_A1 0.999999948484851 0.9848484767458335 0.9999999981601732\n",
      "yahoo_A1 0.9999999492063519 0.9841269795176352 0.9999999987844084\n",
      "yahoo_A1 0.9999999492063519 0.9761904723396089 0.9999999987844084\n",
      "yahoo_A1 0.9999999487179513 0.9871794800954524 0.9999999983719279\n",
      "yahoo_A1 0.9889298385697387 0.9845078360488704 0.9940283884465015\n",
      "yahoo_A1 0.9999999487654349 0.9876543139994266 0.9999999984095602\n",
      "yahoo_A1 0.9999999483870992 0.9193548325904808 0.9999999980537634\n",
      "yahoo_A1 0.09473683303047171 0.021341203612831608 0.250785924427681\n",
      "yahoo_A1 0.9999999487013013 0.9870129799892977 0.9999999983645983\n",
      "yahoo_A1 0.99999994761905 0.8571428500564525 0.9999999973104056\n",
      "yahoo_A1 0.5645160881121581 0.22271107418183947 0.07347278123470144\n",
      "yahoo_A1 0.5192307272790343 0.3331876095462455 0.770837479830475\n",
      "yahoo_A1 0.49795914607247255 0.0020242931284192222 -0.0\n",
      "yahoo_A1 0.6304347387523659 0.7356829791477502 0.8075476681445907\n",
      "yahoo_A1 0.999999942307695 0.9230768956392656 0.9999999920306839\n",
      "yahoo_A1 0.9999999388888916 0.8888888537522062 0.9999999886149163\n",
      "yahoo_A1 0.8421052132077591 0.8624905267352067 0.9415861794204884\n",
      "yahoo_A1 0.9204151744926453 0.7818331447968537 0.9851874337738928\n",
      "yahoo_A1 0.999999930000003 0.7999999420000043 0.9999999797237571\n",
      "yahoo_A1 0.7919462585176373 0.8503901898988441 0.8951268574103939\n",
      "yahoo_A1 0.4988234917359198 0.2904163344200057 0.31478317134047157\n",
      "yahoo_A1 0.63745015292456 0.5765377014317692 0.8434013922919887\n",
      "yahoo_A1 0.9999999488235322 0.9882352876349301 0.9999999984651063\n",
      "yahoo_A1 0.9999999472222247 0.9444444273919756 0.9999999969154737\n",
      "yahoo_A1 0.8079469710314878 0.508507836845654 0.5995481946972874\n",
      "yahoo_A1 0.9999999487179513 0.9871794789581967 0.9999999983707266\n",
      "yahoo_A1 0.9999999482758646 0.49999999788900257 0.9999999979532814\n",
      "yahoo_A1 0.4025156832700486 0.13015003987118579 0.356959519878574\n",
      "yahoo_A1 0.9999999484375026 0.9843749917210137 0.9999999981085527\n",
      "yahoo_A1 0.49795914607247255 0.002024293158791086 -0.0\n",
      "yahoo_A1 0.4923076436028976 0.33682156674589847 0.6935065736842039\n",
      "yahoo_A1 0.9999999333333361 0.8333332883333356 0.9999999830563252\n",
      "yahoo_A1 0.4935064429414793 0.4682611654220056 0.7131516974471359\n",
      "yahoo_A1 0.534136506821667 0.17518579613839613 0.30989547629965286\n",
      "yahoo_A1 0.9999999487013013 0.9870129799890881 0.9999999983645984\n",
      "yahoo_A1 0.580896644715756 0.5151878242849072 0.7159935268044166\n",
      "yahoo_A1 0.580896644715756 0.2598071443254709 0.5397562309407817\n",
      "yahoo_A1 0.49795914607247255 0.002024300314566755 -0.0\n",
      "yahoo_A1 0.99999994761905 0.809523803541507 0.9999999973104056\n",
      "yahoo_A1 0.9999999357142885 0.8571428160204102 0.999999985436508\n",
      "yahoo_A1 0.9863013185213011 0.8994332622336758 0.9979279262467341\n",
      "yahoo_A1 0.0 0.0 -0.0\n",
      "yahoo_A1 0.9999999428571453 0.9285714024309927 0.9999999921626985\n",
      "yahoo_A1 0.9999999357142885 0.8571428160204101 0.9999999854365081\n",
      "yahoo_A1 0.9196428063217502 0.8882547740047164 0.9507653094723231\n",
      "yahoo_A1 0.9999999473684236 0.8947368327551379 0.999999997059779\n",
      "yahoo_A1 0.9999999490000026 0.9899999942939506 0.9999999986183206\n",
      "yahoo_A1 0.999999948571431 0.8285714242015579 0.9999999982289627\n",
      "yahoo_A1 0.9999999484615409 0.9538461473414717 0.9999999981379138\n"
     ]
    },
    {
     "data": {
      "application/vnd.jupyter.widget-view+json": {
       "model_id": "061ae91c149f4895aa2c1a0218db0c93",
       "version_major": 2,
       "version_minor": 0
      },
      "text/plain": [
       "  0%|          | 0/100 [00:00<?, ?it/s]"
      ]
     },
     "metadata": {},
     "output_type": "display_data"
    },
    {
     "data": {
      "application/vnd.jupyter.widget-view+json": {
       "model_id": "d69d40f86318407c888dd1da111f1248",
       "version_major": 2,
       "version_minor": 0
      },
      "text/plain": [
       "  0%|          | 0/100 [00:00<?, ?it/s]"
      ]
     },
     "metadata": {},
     "output_type": "display_data"
    },
    {
     "name": "stdout",
     "output_type": "stream",
     "text": [
      "yahoo_A2 0.17493470983952586 0.0077578659151344605 0.17399288410021677\n",
      "yahoo_A2 0.17493470983952586 0.003452850483712951 0.0568377412802001\n",
      "yahoo_A2 0.9999999485074653 0.9701492469335521 0.9999999983492349\n",
      "yahoo_A2 0.9999999490384642 0.9711538417641096 0.9999999988797316\n",
      "yahoo_A2 0.004301074837784714 0.0010775860989057032 -0.0\n",
      "yahoo_A2 0.9999999485074653 0.9701492469803928 0.9999999983492349\n",
      "yahoo_A2 0.9999999490384642 0.9711538417394757 0.9999999988797315\n",
      "yahoo_A2 0.004301074837784714 0.0010775860989057032 -0.0\n",
      "yahoo_A2 0.2713987232151206 0.10156445991538277 0.5406433015824919\n",
      "yahoo_A2 0.5352112276532462 0.45155184385449626 0.6023318350425722\n",
      "yahoo_A2 0.035714282079081644 0.009090908165289348 0.8833692419258468\n",
      "yahoo_A2 0.2801932094506315 0.10899416090381556 0.6214124519651065\n",
      "yahoo_A2 0.2482100020665201 0.09784959795543151 0.4141696395341237\n",
      "yahoo_A2 0.8474575771042833 0.8683752975514656 0.9841117205092524\n",
      "yahoo_A2 0.9999998500000123 0.0 0.9999998997840271\n",
      "yahoo_A2 0.17493470983952586 0.002574707646432916 0.08425632712506817\n",
      "yahoo_A2 0.9999999490384642 0.9711538417362181 0.9999999988797316\n",
      "yahoo_A2 0.004301074837784714 0.0010775860989057032 -0.0\n",
      "yahoo_A2 0.9999999485074653 0.9701492469731834 0.9999999983492349\n",
      "yahoo_A2 0.25977299101628726 0.07394439228182881 0.21605732016315188\n",
      "yahoo_A2 0.9999998500000123 0.0 0.999999899784027\n",
      "yahoo_A2 0.9999999485074653 0.9701492469192525 0.9999999983492349\n",
      "yahoo_A2 0.417754529411207 0.2173311263540924 0.7335775327557298\n",
      "yahoo_A2 0.004301074837784714 0.0010775860989057032 -0.0\n",
      "yahoo_A2 0.9999998500000123 0.0 0.9999998997840271\n",
      "yahoo_A2 0.718954198197278 0.6837815599688266 0.9577862255113062\n",
      "yahoo_A2 0.7356321349715979 0.8140854520257491 0.9661706338382643\n",
      "yahoo_A2 0.9999998500000123 0.0 0.999999899784027\n",
      "yahoo_A2 0.5502182987357251 0.28953526917569417 0.8894176255863809\n",
      "yahoo_A2 0.9999999490384642 0.9711538417377861 0.9999999988797315\n",
      "yahoo_A2 0.004301074837784714 0.0010775860989057032 -0.0\n",
      "yahoo_A2 0.9999999485074653 0.9701492469252408 0.999999998349235\n",
      "yahoo_A2 0.3288888388819828 0.14183481974948828 0.43471123360494957\n",
      "yahoo_A2 0.9999998500000123 0.0 0.9999998997840271\n",
      "yahoo_A2 0.19202361626255532 0.04340661400934641 0.21321452473700314\n",
      "yahoo_A2 0.209048343149478 0.059541732782719486 0.3250613085182581\n",
      "yahoo_A2 0.9999999490384642 0.9711538417381546 0.9999999988797315\n",
      "yahoo_A2 0.9999998500000123 0.0 0.9999998997840271\n",
      "yahoo_A2 0.9710144413883663 0.9560056488880442 0.9987719613212225\n",
      "yahoo_A2 0.9674418096181746 0.963813013005571 0.9988095226905891\n",
      "yahoo_A2 0.0148148133223594 0.0037313429076632145 0.7127429091333239\n",
      "yahoo_A2 0.9924811515178951 0.9695049528488382 0.9999291500591574\n",
      "yahoo_A2 0.9999999490384642 0.9807692258916549 0.9999999988797315\n",
      "yahoo_A2 0.9999998500000123 0.0 0.9999998997840271\n",
      "yahoo_A2 0.9999999485074653 0.9701492469162025 0.999999998349235\n",
      "yahoo_A2 0.5849056098656148 0.6269549322114997 0.866669503262451\n",
      "yahoo_A2 0.37090906010710994 0.14545818769063604 0.5602106220830364\n",
      "yahoo_A2 0.9999998500000123 0.0 0.9999998997840271\n",
      "yahoo_A2 0.2721382040705535 0.10734256079250148 0.6104052512122774\n",
      "yahoo_A2 0.9999999490384642 0.9711538417642618 0.9999999988797316\n",
      "yahoo_A2 0.004464285266860649 0.001118568120555141 0.03779697245403993\n",
      "yahoo_A2 0.9999999485074653 0.985074618985109 0.9999999983492349\n",
      "yahoo_A2 0.9999999490384642 0.9711538417591074 0.9999999988797316\n",
      "yahoo_A2 0.19999997800000044 0.055555549382716674 0.9827212838050372\n",
      "yahoo_A2 0.9999999485074653 0.9701492469096146 0.9999999983492349\n",
      "yahoo_A2 0.9999999490384642 0.9807692259375582 0.9999999988797315\n",
      "yahoo_A2 0.005934717505657353 0.0014880950888428435 0.2807775096585821\n",
      "yahoo_A2 0.9999998500000123 0.0 0.9999998997840273\n",
      "yahoo_A2 0.6923076451368374 0.73295008918974 0.9228245843799532\n",
      "yahoo_A2 0.9999999490384642 0.9711538416999627 0.9999999988797315\n",
      "yahoo_A2 0.9999998500000123 0.0 0.9999998997840271\n",
      "yahoo_A2 0.17493470983952586 0.0015772875377535656 -0.0\n",
      "yahoo_A2 0.9999999490384642 0.9423076886318872 0.9999999988797316\n",
      "yahoo_A2 0.004301074837784714 0.0010775860989057032 -0.0\n",
      "yahoo_A2 0.9999999485074653 0.9402985017004449 0.9999999983492349\n",
      "yahoo_A2 0.24969985803954423 0.055401478924013516 0.12870937682896832\n",
      "yahoo_A2 0.9999998500000123 0.0 0.9999998997840273\n",
      "yahoo_A2 0.9999999485074653 0.970149246925975 0.9999999983492349\n",
      "yahoo_A2 0.9999999485074653 0.9701492469318798 0.9999999983492349\n",
      "yahoo_A2 0.6056337559710411 0.4259215305919801 0.8893849196385708\n",
      "yahoo_A2 0.9999998500000123 0.0 0.9999998997840271\n",
      "yahoo_A2 0.9848484333677713 0.9582461721919602 0.9972132989395144\n",
      "yahoo_A2 0.9999999490384642 0.9711538417377716 0.9999999988797316\n",
      "yahoo_A2 0.018181816347107443 0.0045871555003788025 0.7667385840676666\n",
      "yahoo_A2 0.9999999485074653 0.9850746189307055 0.9999999983492349\n",
      "yahoo_A2 0.9999999490384642 0.9423076886440152 0.9999999988797315\n",
      "yahoo_A2 0.004301074837784714 0.0010775860989057032 0.0010799134986868456\n",
      "yahoo_A2 0.9999999485074653 0.9701492469109705 0.9999999983492349\n",
      "yahoo_A2 0.2482100020665201 0.002369668719119875 -0.0\n",
      "yahoo_A2 0.5103447863210495 0.41194971407068404 0.5418575576561132\n",
      "yahoo_A2 0.9999998500000123 0.0 0.9999998997840271\n",
      "yahoo_A2 0.4412811021592968 0.21728864016596133 0.8294091238868246\n",
      "yahoo_A2 0.9999999490384642 0.9711538415670559 0.9999999988797313\n",
      "yahoo_A2 0.9999998500000123 0.0 0.9999998997840271\n",
      "yahoo_A2 0.9999999485074653 0.9701492469853716 0.9999999983492349\n",
      "yahoo_A2 0.9999999490384642 0.9711538417355914 0.9999999988797316\n",
      "yahoo_A2 0.39999995200000177 0.12499998437500164 0.993520418791906\n",
      "yahoo_A2 0.9999999485074653 0.9701492469228423 0.999999998349235\n",
      "yahoo_A2 0.9999999490384642 0.9807692259904084 0.9999999988797316\n",
      "yahoo_A2 0.9999998500000123 0.0 0.999999899784027\n",
      "yahoo_A2 0.9999998500000123 0.0 0.9999998997840271\n",
      "yahoo_A2 0.9999999485074653 0.9701492469150386 0.9999999983492349\n",
      "yahoo_A2 0.4867469501570648 0.2494449751955046 0.7862942604134007\n",
      "yahoo_A2 0.9999998500000123 0.0 0.9999998997840271\n",
      "yahoo_A2 0.4976958093907319 0.32085899513097954 0.893432362024114\n",
      "yahoo_A2 0.9999999490384642 0.9711538417044047 0.9999999988797315\n",
      "yahoo_A2 0.006153845536568047 0.0015432097217459382 0.30345569313100607\n",
      "yahoo_A2 0.9999999485074653 0.9701492469141426 0.999999998349235\n",
      "yahoo_A2 0.9999999490384642 0.9711538417301464 0.9999999988797316\n",
      "yahoo_A2 0.16666664861111138 0.045454540495868265 0.979481543308977\n"
     ]
    },
    {
     "data": {
      "application/vnd.jupyter.widget-view+json": {
       "model_id": "c33529634971447cb7a798ecc3461b02",
       "version_major": 2,
       "version_minor": 0
      },
      "text/plain": [
       "  0%|          | 0/100 [00:00<?, ?it/s]"
      ]
     },
     "metadata": {},
     "output_type": "display_data"
    },
    {
     "data": {
      "application/vnd.jupyter.widget-view+json": {
       "model_id": "449724933d604335a1c00b13da110190",
       "version_major": 2,
       "version_minor": 0
      },
      "text/plain": [
       "  0%|          | 0/92 [00:00<?, ?it/s]"
      ]
     },
     "metadata": {},
     "output_type": "display_data"
    }
   ],
   "source": [
    "for loader in [load_yahoo_A1, load_yahoo_A2, load_yahoo_A3, load_yahoo_A4]:\n",
    "    datasets = loader(64, 1)\n",
    "    x_trains, x_tests, y_tests = datasets['x_train'], datasets['x_test'], datasets['y_test']\n",
    "    \n",
    "    for i in tqdm(range(len(x_trains))):\n",
    "        X_train = x_trains[i]\n",
    "        X_test = x_tests[i]\n",
    "        \n",
    "        model = S_RNN(X_train)\n",
    "        X_test_rec = [np.flip(rec, axis=1) for rec in model.predict(X_test)]\n",
    "        scores = evaluate(X_test, X_test_rec, y_tests[i], is_reconstructed=True, scoring='square_median')\n",
    "    \n",
    "        total_scores['dataset'].append(loader.__name__.replace('load_', ''))\n",
    "        total_scores['f1'].append(np.max(scores['f1']))\n",
    "        total_scores['pr_auc'].append(scores['pr_auc'])\n",
    "        total_scores['roc_auc'].append(scores['roc_auc'])\n",
    "        print(loader.__name__.replace('load_', ''), np.max(scores['f1']), scores['pr_auc'], scores['roc_auc'])   "
   ]
  },
  {
   "cell_type": "code",
   "execution_count": null,
   "id": "f2f14b22-b9e6-48fd-9b16-0813b54c88f5",
   "metadata": {},
   "outputs": [],
   "source": [
    "yahoo_results = pd.DataFrame(total_scores)\n",
    "yahoo_results.groupby('dataset').mean()"
   ]
  },
  {
   "cell_type": "code",
   "execution_count": null,
   "id": "222f11f7-d89e-49e4-812e-1ac2a38de3e1",
   "metadata": {},
   "outputs": [],
   "source": []
  },
  {
   "cell_type": "markdown",
   "id": "bb798ddf-37a1-49cf-91f3-ee919f49cb23",
   "metadata": {},
   "source": [
    "### NASA"
   ]
  },
  {
   "cell_type": "code",
   "execution_count": null,
   "id": "4a76c8d0-240c-414f-8e88-bb653cc38282",
   "metadata": {},
   "outputs": [],
   "source": [
    "total_scores = {'dataset': [], 'f1': [], 'pr_auc': [], 'roc_auc': []}"
   ]
  },
  {
   "cell_type": "code",
   "execution_count": null,
   "id": "2bec506f-03ba-4ff5-a539-576461d3f6f3",
   "metadata": {},
   "outputs": [],
   "source": [
    "for loader in [load_nasa]:\n",
    "    datasets = loader(100, 100)\n",
    "    x_trains, x_tests, y_tests = datasets['x_train'], datasets['x_test'], datasets['y_test']\n",
    "    \n",
    "    for i in tqdm(range(len(x_trains))):\n",
    "        X_train = x_trains[i]\n",
    "        X_test = x_tests[i]\n",
    "\n",
    "        model = S_RNN(X_train)\n",
    "        X_test_rec = [np.flip(rec, axis=1) for rec in model.predict(X_test)]\n",
    "        scores = evaluate(X_test, X_test_rec, y_tests[i], is_reconstructed=True, scoring='square_median')\n",
    "        \n",
    "        total_scores['dataset'].append(f'D{i+1}')\n",
    "        total_scores['f1'].append(np.max(scores['f1']))\n",
    "        total_scores['pr_auc'].append(scores['pr_auc'])\n",
    "        total_scores['roc_auc'].append(scores['roc_auc'])\n",
    "        print(f'D{i+1}', np.max(scores['f1']), scores['pr_auc'], scores['roc_auc'])   "
   ]
  },
  {
   "cell_type": "code",
   "execution_count": null,
   "id": "aa54a19a-5e17-4d33-86bd-d8a95582b438",
   "metadata": {},
   "outputs": [],
   "source": [
    "nasa_results = pd.DataFrame(total_scores)\n",
    "nasa_results.groupby('dataset').mean()"
   ]
  },
  {
   "cell_type": "code",
   "execution_count": null,
   "id": "85af082b-9cb4-476b-95f9-82e61ee8dc75",
   "metadata": {},
   "outputs": [],
   "source": []
  },
  {
   "cell_type": "markdown",
   "id": "0ac064c7-60c2-4977-b5bb-ac9369129ded",
   "metadata": {},
   "source": [
    "### SMD"
   ]
  },
  {
   "cell_type": "code",
   "execution_count": null,
   "id": "a83be971-b601-4769-bbb8-c5ea395b6572",
   "metadata": {},
   "outputs": [],
   "source": [
    "total_scores = {'dataset': [], 'f1': [], 'pr_auc': [], 'roc_auc': []}"
   ]
  },
  {
   "cell_type": "code",
   "execution_count": null,
   "id": "508947a2-0bed-4e4b-bda9-23d132ca16ec",
   "metadata": {},
   "outputs": [],
   "source": [
    "for loader in [load_smd]:\n",
    "    datasets = loader(64, 1)\n",
    "    x_trains, x_tests, y_tests = datasets['x_train'], datasets['x_test'], datasets['y_test']\n",
    "    \n",
    "    for i in tqdm(range(len(x_trains))):\n",
    "        X_train = x_trains[i]\n",
    "        X_test = x_tests[i]\n",
    "\n",
    "        model = S_RNN(X_train)\n",
    "        X_test_rec = [np.flip(rec, axis=1) for rec in model.predict(X_test)]\n",
    "        scores = evaluate(X_test, X_test_rec, y_tests[i], is_reconstructed=True, scoring='square_median')\n",
    "      \n",
    "        total_scores['dataset'].append(loader.__name__.replace('load_', ''))\n",
    "        total_scores['f1'].append(np.max(scores['f1']))\n",
    "        total_scores['pr_auc'].append(scores['pr_auc'])\n",
    "        total_scores['roc_auc'].append(scores['roc_auc'])\n",
    "        print(loader.__name__.replace('load_', ''), np.max(scores['f1']), scores['pr_auc'], scores['roc_auc'])   "
   ]
  },
  {
   "cell_type": "code",
   "execution_count": null,
   "id": "6c5d8ddb-3e7c-475d-81f4-403074ae55db",
   "metadata": {},
   "outputs": [],
   "source": [
    "smd_results = pd.DataFrame(total_scores)\n",
    "smd_results.groupby('dataset').mean()"
   ]
  },
  {
   "cell_type": "code",
   "execution_count": null,
   "id": "eebff0d7-4c6e-4b18-b5d1-1d8780293315",
   "metadata": {},
   "outputs": [],
   "source": []
  },
  {
   "cell_type": "markdown",
   "id": "de5cfdc7-5631-41a4-bac4-84b6975e46a9",
   "metadata": {},
   "source": [
    "### ECG"
   ]
  },
  {
   "cell_type": "code",
   "execution_count": null,
   "id": "dde51e6e-9fa2-4f36-9d54-8bef73fad5b3",
   "metadata": {},
   "outputs": [],
   "source": [
    "total_scores = {'dataset': [], 'f1': [], 'pr_auc': [], 'roc_auc': []}"
   ]
  },
  {
   "cell_type": "code",
   "execution_count": null,
   "id": "7a370859-5d52-4844-8570-d10e94bc6857",
   "metadata": {},
   "outputs": [],
   "source": [
    "for loader in [load_ecg]:\n",
    "    datasets = loader(32, 16)\n",
    "    x_trains, x_tests, y_tests = datasets['x_train'], datasets['x_test'], datasets['y_test']\n",
    "    \n",
    "    for i in tqdm(range(len(x_trains))):\n",
    "        tf.keras.backend.clear_session()\n",
    "\n",
    "        X_train = x_trains[i]\n",
    "        X_test = x_tests[i]\n",
    "\n",
    "        model = S_RNN(X_train)\n",
    "        X_test_rec = [np.flip(rec, axis=1) for rec in model.predict(X_test)]\n",
    "        scores = evaluate(X_test, X_test_rec, y_tests[i], is_reconstructed=True, scoring='square_median')\n",
    "\n",
    "        total_scores['dataset'].append(f'D{i+1}')\n",
    "        total_scores['f1'].append(np.max(scores['f1']))\n",
    "        total_scores['pr_auc'].append(scores['pr_auc'])\n",
    "        total_scores['roc_auc'].append(scores['roc_auc'])\n",
    "        print(f'D{i+1}', np.max(scores['f1']), scores['pr_auc'], scores['roc_auc'])  "
   ]
  },
  {
   "cell_type": "code",
   "execution_count": null,
   "id": "647994fa-8099-4900-9bc0-60b0de7bb4b9",
   "metadata": {},
   "outputs": [],
   "source": [
    "ecg_results = pd.DataFrame(total_scores)\n",
    "ecg_results.groupby('dataset').mean()"
   ]
  },
  {
   "cell_type": "markdown",
   "id": "066b1b43-0758-4478-b91c-136380588607",
   "metadata": {},
   "source": [
    "### Power Demand"
   ]
  },
  {
   "cell_type": "code",
   "execution_count": null,
   "id": "c1ae67ae-17d2-4201-90b2-3d4c3861731a",
   "metadata": {},
   "outputs": [],
   "source": [
    "total_scores = {'dataset': [], 'f1': [], 'pr_auc': [], 'roc_auc': []}"
   ]
  },
  {
   "cell_type": "code",
   "execution_count": null,
   "id": "c485a47d-8c25-4caa-a398-80d25360b981",
   "metadata": {},
   "outputs": [],
   "source": [
    "for loader in [load_power_demand]:\n",
    "    datasets = loader(64, 1)\n",
    "    x_trains, x_tests, y_tests = datasets['x_train'], datasets['x_test'], datasets['y_test']\n",
    "    \n",
    "    for i in tqdm(range(len(x_trains))):\n",
    "        tf.keras.backend.clear_session()\n",
    "\n",
    "        X_train = x_trains[i]\n",
    "        X_test = x_tests[i]\n",
    "\n",
    "        model = S_RNN(X_train)\n",
    "        X_test_rec = [np.flip(rec, axis=1) for rec in model.predict(X_test)]\n",
    "        scores = evaluate(X_test, X_test_rec, y_tests[i], is_reconstructed=True, scoring='square_median')\n",
    "\n",
    "        total_scores['dataset'].append(loader.__name__.replace('load_', ''))\n",
    "        total_scores['f1'].append(np.max(scores['f1']))\n",
    "        total_scores['pr_auc'].append(scores['pr_auc'])\n",
    "        total_scores['roc_auc'].append(scores['roc_auc'])\n",
    "        print(loader.__name__.replace('load_', ''), np.max(scores['f1']), scores['pr_auc'], scores['roc_auc']) "
   ]
  },
  {
   "cell_type": "code",
   "execution_count": null,
   "id": "c76a1a89-b2f4-4ebc-b4b9-4a364e5303f2",
   "metadata": {},
   "outputs": [],
   "source": [
    "power_results = pd.DataFrame(total_scores)\n",
    "power_results.groupby('dataset').mean()"
   ]
  },
  {
   "cell_type": "markdown",
   "id": "61f2165c-1cd4-4200-bf67-26207d393e05",
   "metadata": {},
   "source": [
    "### 2D Gesture"
   ]
  },
  {
   "cell_type": "code",
   "execution_count": null,
   "id": "2c61678d-28c7-4835-b1b2-ee6593988c67",
   "metadata": {},
   "outputs": [],
   "source": [
    "total_scores = {'dataset': [], 'f1': [], 'pr_auc': [], 'roc_auc': []}"
   ]
  },
  {
   "cell_type": "code",
   "execution_count": null,
   "id": "1f4638af-57eb-4bce-8a52-5bd01d7683a5",
   "metadata": {},
   "outputs": [],
   "source": [
    "for loader in [load_gesture]:\n",
    "    datasets = loader(64, 1)\n",
    "    x_trains, x_tests, y_tests = datasets['x_train'], datasets['x_test'], datasets['y_test']\n",
    "    \n",
    "    for i in tqdm(range(len(x_trains))):\n",
    "        tf.keras.backend.clear_session()\n",
    "\n",
    "        X_train = x_trains[i]\n",
    "        X_test = x_tests[i]\n",
    "\n",
    "        model = S_RNN(X_train)\n",
    "        X_test_rec = [np.flip(rec, axis=1) for rec in model.predict(X_test)]\n",
    "        scores = evaluate(X_test, X_test_rec, y_tests[i], is_reconstructed=True, scoring='square_median')\n",
    "\n",
    "        total_scores['dataset'].append(loader.__name__.replace('load_', ''))\n",
    "        total_scores['f1'].append(np.max(scores['f1']))\n",
    "        total_scores['pr_auc'].append(scores['pr_auc'])\n",
    "        total_scores['roc_auc'].append(scores['roc_auc'])\n",
    "        print(loader.__name__.replace('load_', ''), np.max(scores['f1']), scores['pr_auc'], scores['roc_auc'])  "
   ]
  },
  {
   "cell_type": "code",
   "execution_count": null,
   "id": "7f7d848e-0877-46d0-b702-7a7ec9513970",
   "metadata": {},
   "outputs": [],
   "source": [
    "gesture_results = pd.DataFrame(total_scores)\n",
    "gesture_results.groupby('dataset').mean()"
   ]
  },
  {
   "cell_type": "code",
   "execution_count": null,
   "id": "bc08311d-7d7f-4d70-a18e-9601e0b4386c",
   "metadata": {},
   "outputs": [],
   "source": []
  }
 ],
 "metadata": {
  "kernelspec": {
   "display_name": "Python 3",
   "language": "python",
   "name": "python3"
  },
  "language_info": {
   "codemirror_mode": {
    "name": "ipython",
    "version": 3
   },
   "file_extension": ".py",
   "mimetype": "text/x-python",
   "name": "python",
   "nbconvert_exporter": "python",
   "pygments_lexer": "ipython3",
   "version": "3.7.10"
  }
 },
 "nbformat": 4,
 "nbformat_minor": 5
}
