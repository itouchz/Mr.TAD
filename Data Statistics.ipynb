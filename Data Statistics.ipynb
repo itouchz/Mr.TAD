{
 "cells": [
  {
   "cell_type": "code",
   "execution_count": 1,
   "id": "174afcb9-f726-43cf-8415-ad78c56860a5",
   "metadata": {},
   "outputs": [],
   "source": [
    "import numpy as np\n",
    "import pandas as pd\n",
    "import tensorflow as tf\n",
    "\n",
    "from evaluator import evaluate\n",
    "from data_loader import load_kdd_cup_urc, load_yahoo_A1, load_yahoo_A2, load_yahoo_A3, load_yahoo_A4, load_power_demand # Univariate Datasets\n",
    "from data_loader import load_nasa, load_ecg, load_gesture, load_smd # Multivariate Datasets\n",
    "\n",
    "from tqdm.notebook import tqdm\n",
    "from tensorflow.keras import Model, Input"
   ]
  },
  {
   "cell_type": "code",
   "execution_count": 56,
   "id": "34682923-bad4-4f2d-aabd-20c1786c3c0a",
   "metadata": {},
   "outputs": [],
   "source": [
    "data = load_power_demand()"
   ]
  },
  {
   "cell_type": "code",
   "execution_count": 57,
   "id": "729215ea-5403-4891-a3a4-bb5f9ba59a61",
   "metadata": {},
   "outputs": [
    {
     "data": {
      "text/plain": [
       "(1513, 1)"
      ]
     },
     "execution_count": 57,
     "metadata": {},
     "output_type": "execute_result"
    }
   ],
   "source": [
    "data['x_train'][0].shape"
   ]
  },
  {
   "cell_type": "code",
   "execution_count": 58,
   "id": "cf5873a2-a483-498c-a10b-3b46b3fdaf0a",
   "metadata": {},
   "outputs": [
    {
     "name": "stdout",
     "output_type": "stream",
     "text": [
      "1513\n"
     ]
    }
   ],
   "source": [
    "sum_train = 0\n",
    "for x in data['x_train']:\n",
    "    print(x.shape[0])"
   ]
  },
  {
   "cell_type": "code",
   "execution_count": 59,
   "id": "90aeb179-6df4-4b5e-8484-6db49a06cb20",
   "metadata": {},
   "outputs": [
    {
     "name": "stdout",
     "output_type": "stream",
     "text": [
      "1596\n"
     ]
    }
   ],
   "source": [
    "sum_train = 0\n",
    "for x in data['x_test']:\n",
    "    print(sum_train + x.shape[0])"
   ]
  },
  {
   "cell_type": "code",
   "execution_count": 60,
   "id": "05f99db7-3c45-4b7b-934c-5e60b65370a9",
   "metadata": {},
   "outputs": [
    {
     "name": "stdout",
     "output_type": "stream",
     "text": [
      "13.220551378446116\n"
     ]
    }
   ],
   "source": [
    "sum_train = 0\n",
    "sum_anomaly = 0\n",
    "for x in data['y_test']:\n",
    "    print((np.where(x == 1)[0].shape[0] / x.shape[0]) * 100)"
   ]
  },
  {
   "cell_type": "code",
   "execution_count": null,
   "id": "2339b23c-46ee-40a4-98a3-b69205b24f25",
   "metadata": {},
   "outputs": [],
   "source": []
  }
 ],
 "metadata": {
  "kernelspec": {
   "display_name": "Python 3",
   "language": "python",
   "name": "python3"
  },
  "language_info": {
   "codemirror_mode": {
    "name": "ipython",
    "version": 3
   },
   "file_extension": ".py",
   "mimetype": "text/x-python",
   "name": "python",
   "nbconvert_exporter": "python",
   "pygments_lexer": "ipython3",
   "version": "3.7.10"
  }
 },
 "nbformat": 4,
 "nbformat_minor": 5
}
