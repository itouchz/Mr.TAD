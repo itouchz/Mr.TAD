{
 "cells": [
  {
   "cell_type": "code",
   "execution_count": 38,
   "id": "174afcb9-f726-43cf-8415-ad78c56860a5",
   "metadata": {},
   "outputs": [],
   "source": [
    "import os\n",
    "import numpy as np\n",
    "import pandas as pd"
   ]
  },
  {
   "cell_type": "code",
   "execution_count": 39,
   "id": "c07d62af-94b1-4baa-860d-d296164e18fd",
   "metadata": {},
   "outputs": [
    {
     "name": "stdout",
     "output_type": "stream",
     "text": [
      "[] real_35.csv\n",
      "[] real_59.csv\n",
      "[] real_64.csv\n"
     ]
    }
   ],
   "source": [
    "data_path = f'./datasets/yahoo/A1Benchmark'\n",
    "datasets = sorted([f for f in os.listdir(data_path) if os.path.isfile(os.path.join(data_path, f))])\n",
    "\n",
    "x_train, x_test, y_test = [], [], []\n",
    "for data in datasets:\n",
    "    df = pd.read_csv(f'{data_path}/{data}')[['value']]\n",
    "    label_df = pd.read_csv(f'{data_path}/{data}').iloc[:, 2]\n",
    "    if len(np.where(label_df == 1)[0]) == 0:\n",
    "        print(np.where(label_df == 1)[0], data)"
   ]
  },
  {
   "cell_type": "code",
   "execution_count": null,
   "id": "bd34bbb7-a4e3-497a-9f8b-14091fe47a26",
   "metadata": {},
   "outputs": [],
   "source": [
    "np.where(label_df == 1)[0]"
   ]
  },
  {
   "cell_type": "code",
   "execution_count": null,
   "id": "34682923-bad4-4f2d-aabd-20c1786c3c0a",
   "metadata": {},
   "outputs": [],
   "source": []
  }
 ],
 "metadata": {
  "kernelspec": {
   "display_name": "Python 3",
   "language": "python",
   "name": "python3"
  },
  "language_info": {
   "codemirror_mode": {
    "name": "ipython",
    "version": 3
   },
   "file_extension": ".py",
   "mimetype": "text/x-python",
   "name": "python",
   "nbconvert_exporter": "python",
   "pygments_lexer": "ipython3",
   "version": "3.9.4"
  }
 },
 "nbformat": 4,
 "nbformat_minor": 5
}
