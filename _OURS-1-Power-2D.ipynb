{
 "cells": [
  {
   "cell_type": "code",
   "execution_count": 1,
   "id": "147cd176-7bf7-40ca-84a5-1b3401cbf3fe",
   "metadata": {},
   "outputs": [],
   "source": [
    "import os\n",
    "import random\n",
    "\n",
    "os.environ[\"CUDA_DEVICE_ORDER\"] = \"PCI_BUS_ID\";\n",
    "os.environ[\"CUDA_VISIBLE_DEVICES\"] = \"0\"\n",
    "os.environ[\"TF_FORCE_GPU_ALLOW_GROWTH\"] = \"true\""
   ]
  },
  {
   "cell_type": "code",
   "execution_count": 2,
   "id": "ebb3df11-ae49-4f59-8515-a2c3c85bb165",
   "metadata": {},
   "outputs": [],
   "source": [
    "import numpy as np\n",
    "import pandas as pd\n",
    "import tensorflow as tf\n",
    "\n",
    "from evaluator import evaluate\n",
    "from data_loader import load_kdd_cup_urc, load_yahoo_A1, load_yahoo_A2, load_yahoo_A3, load_yahoo_A4, load_power_demand # Univariate Datasets\n",
    "from data_loader import load_nasa, load_ecg, load_gesture, load_smd # Multivariate Datasets\n",
    "\n",
    "from tqdm.notebook import tqdm\n",
    "from tensorflow.keras import Model, Input\n",
    "from tensorflow.keras.layers import Dense, Bidirectional, LSTM, LSTMCell, GRU, GRUCell, Reshape, Dropout, GaussianNoise, Concatenate, Lambda, RepeatVector, TimeDistributed, Add\n",
    "\n",
    "# THESE LINES ARE FOR REPRODUCIBILITY\n",
    "random.seed(0)\n",
    "np.random.seed(0)\n",
    "tf.random.set_seed(0)"
   ]
  },
  {
   "cell_type": "code",
   "execution_count": 3,
   "id": "af1c631e-10e2-48ad-b6ac-93c69cdf9e7f",
   "metadata": {},
   "outputs": [],
   "source": [
    "class SkipRNN(tf.keras.layers.Layer):\n",
    "    def __init__(self, cell, return_sequences=False, **kwargs):\n",
    "        super().__init__(**kwargs)\n",
    "        self.cell = cell\n",
    "        self.return_sequences = return_sequences\n",
    "        self.get_initial_state = getattr(\n",
    "            self.cell, \"get_initial_state\", self.fallback_initial_state)\n",
    "    def fallback_initial_state(self, inputs):\n",
    "        return [tf.zeros([self.cell.state_size], dtype=inputs.dtype)]\n",
    "    @tf.function\n",
    "    def call(self, inputs, states=None):\n",
    "        states = self.get_initial_state(inputs) if states == None else states\n",
    "\n",
    "        outputs = tf.zeros(shape=[self.cell.output_size], dtype=inputs.dtype)\n",
    "        outputs, states = self.cell(inputs, states)\n",
    "\n",
    "        return outputs, states\n",
    "    \n",
    "def Modified_S_RNN(X_train):\n",
    "    tf.keras.backend.clear_session()\n",
    "\n",
    "    sparseness_weights = [(0, 1), (1, 0), (1, 1)]\n",
    "    BATCH_SIZE = 128\n",
    "    N, N_LAYERS, N_UNITS = 3, 1, 64\n",
    "\n",
    "    X_train_reverse = np.flip(X_train, axis=1)\n",
    "    seq_length, dim = X_train.shape[1], X_train.shape[2]\n",
    "\n",
    "    en_input = Input(shape=[seq_length, dim])\n",
    "    X = GaussianNoise(0.5)(en_input)\n",
    "    initial_states = tf.zeros([BATCH_SIZE, N_UNITS])\n",
    "\n",
    "    shared_latents = []\n",
    "    for i in range(N):\n",
    "        prev_states = []\n",
    "        skip_length = 2**i\n",
    "        w1, w2 = np.array(sparseness_weights)[np.random.choice(3, size=1)][0]\n",
    "        w = w1 + w2\n",
    "\n",
    "        for t in range(seq_length):\n",
    "            Xt = Lambda(lambda x: x[:, t, :])(X)\n",
    "            if t == 0:\n",
    "                O, H = SkipRNN(GRUCell(N_UNITS))(Xt)\n",
    "            else:\n",
    "                if t - skip_length >= 0:\n",
    "                    states = (w1 * prev_states[t-1] + w2 * prev_states[t-skip_length]) / w\n",
    "                    O, H = SkipRNN(GRUCell(N_UNITS))(Xt, prev_states[t-1])\n",
    "                else:\n",
    "                    O, H = SkipRNN(GRUCell(N_UNITS))(Xt, prev_states[t-1])\n",
    "\n",
    "            prev_states.append(H)\n",
    "        shared_latents.append(H)\n",
    "\n",
    "    de_outputs = []\n",
    "    de_input = Concatenate()(shared_latents)\n",
    "    D_shared = Dense(dim, kernel_regularizer=tf.keras.regularizers.l1(0.005))(de_input)\n",
    "\n",
    "    for i in range(N):\n",
    "        Y_i = []\n",
    "        prev_states = []\n",
    "        skip_length = 2**i\n",
    "        w1, w2 = np.array(sparseness_weights)[np.random.choice(3, size=1)][0]\n",
    "        w = w1 + w2\n",
    "        \n",
    "        D_each = Dense(dim, kernel_regularizer=tf.keras.regularizers.l1(0.005))(shared_latents[i])\n",
    "\n",
    "        D = Add()([D_shared, D_each])\n",
    "\n",
    "        for t in range(seq_length):\n",
    "            if t == 0:\n",
    "                y = Dense(dim)(D)\n",
    "                _, H = SkipRNN(GRUCell(dim))(y, D) # y_t\n",
    "            else:\n",
    "                if t - skip_length >= 0:\n",
    "                    states = (w1 * prev_states[t-1] + w2 * prev_states[t-skip_length]) / w\n",
    "                    y, H = SkipRNN(GRUCell(dim))(Y_i[t-1], states) # y_t-1 --> y_1\n",
    "                else:\n",
    "                    y, H = SkipRNN(GRUCell(dim))(Y_i[t-1], prev_states[t-1]) # y_t-1 --> y_1\n",
    "\n",
    "            Y_i.append(y)\n",
    "            prev_states.append(H)\n",
    "\n",
    "        Y_i = Concatenate()(Y_i)\n",
    "        Y_i = Reshape([seq_length, dim])(Y_i)\n",
    "        de_outputs.append(Y_i)\n",
    "\n",
    "    model = Model(inputs=en_input, outputs=de_outputs)\n",
    "    model.compile(optimizer=tf.keras.optimizers.Adam(learning_rate=0.001), loss='mse')\n",
    "\n",
    "    history = model.fit(X_train, [X_train_reverse for _ in range(N)], batch_size=BATCH_SIZE, epochs=50, validation_split=0.3, verbose=0, callbacks=[tf.keras.callbacks.EarlyStopping(monitor=\"val_loss\", patience=5, mode=\"min\", restore_best_weights=True)]) \n",
    "    return model"
   ]
  },
  {
   "cell_type": "markdown",
   "id": "a0c74d6c-977c-4318-ae7c-626e051a4bfd",
   "metadata": {},
   "source": [
    "### Yahoo S5"
   ]
  },
  {
   "cell_type": "code",
   "execution_count": 4,
   "id": "fc47be27-622e-4585-8449-c653f81d2896",
   "metadata": {},
   "outputs": [],
   "source": [
    "total_scores = {'dataset': [], 'f1': [], 'pr_auc': [], 'roc_auc': []}"
   ]
  },
  {
   "cell_type": "code",
   "execution_count": null,
   "id": "2ac394fa-ab18-4f88-b98a-69711cb11dd8",
   "metadata": {
    "scrolled": true,
    "tags": []
   },
   "outputs": [
    {
     "data": {
      "application/vnd.jupyter.widget-view+json": {
       "model_id": "563b2a98d10444fcb737ad2794133e5b",
       "version_major": 2,
       "version_minor": 0
      },
      "text/plain": [
       "  0%|          | 0/67 [00:00<?, ?it/s]"
      ]
     },
     "metadata": {},
     "output_type": "display_data"
    },
    {
     "data": {
      "application/vnd.jupyter.widget-view+json": {
       "model_id": "76b3b030bfde46d18ac390675e71ba9c",
       "version_major": 2,
       "version_minor": 0
      },
      "text/plain": [
       "  0%|          | 0/56 [00:00<?, ?it/s]"
      ]
     },
     "metadata": {},
     "output_type": "display_data"
    },
    {
     "name": "stdout",
     "output_type": "stream",
     "text": [
      "yahoo_A1 0.9999999000000052 0.4999999375000063 0.9999999490291289\n",
      "yahoo_A1 0.9999999166666703 0.6666666055555603 0.9999999656957941\n",
      "yahoo_A1 0.9999999333333361 0.8333332883333358 0.9999999823333336\n",
      "yahoo_A1 0.9999998500000123 0.0 0.9999998990476292\n",
      "yahoo_A1 0.9999999000000052 0.4999999375000063 0.9999999490384642\n",
      "yahoo_A1 0.666666577777783 0.019999997629793605 0.8846153010724934\n",
      "yahoo_A1 0.9999999166666703 0.6666666055555603 0.999999965714287\n",
      "yahoo_A1 0.9999999466666691 0.9666666518500433 0.9999999953333334\n",
      "yahoo_A1 0.9830507941396176 0.9293523348204301 0.9982222175638519\n",
      "yahoo_A1 0.999999930000003 0.7999999503333362 0.9999999790099015\n",
      "yahoo_A1 0.9999999333333361 0.8333332883333356 0.9999999823232326\n",
      "yahoo_A1 0.999999930000003 0.7999999503333362 0.9999999790000005\n",
      "yahoo_A1 0.9999999437500025 0.9374999763313819 0.9999999926264045\n",
      "yahoo_A1 0.4999999375000028 0.022908903038553786 0.5816993259547618\n",
      "yahoo_A1 0.999999930000003 0.7999999503333362 0.9999999790291266\n",
      "yahoo_A1 0.9999999409090937 0.909090878331695 0.9999999898564595\n",
      "yahoo_A1 0.5714285277959213 0.2496130773654109 0.6677871108803679\n",
      "yahoo_A1 0.6666666000000033 0.3055555270329736 0.8943893965292095\n",
      "yahoo_A1 0.07272726558677738 0.004854369994174695 -0.0\n",
      "yahoo_A1 0.0900900813245685 0.004901961914128615 -0.0\n",
      "yahoo_A1 0.9999999166666703 0.6666666055555603 0.9999999657142868\n",
      "yahoo_A1 0.9999999000000052 0.4999999375000063 0.9999999490566066\n",
      "yahoo_A1 0.749999943750003 0.627983166813814 0.9427318171654013\n",
      "yahoo_A1 0.6511627409410525 0.2871023261631938 0.8739466227506276\n",
      "yahoo_A1 0.9999998500000123 0.0 0.9999998990476292\n",
      "yahoo_A1 0.4444443901234612 0.15555390354464094 0.6173590710619038\n",
      "yahoo_A1 0.47826083109641093 0.2761473588686342 0.8191387476718941\n",
      "yahoo_A1 0.18181815096419196 0.07326518717073457 0.5951178345980853\n",
      "yahoo_A1 0.11428569338775835 0.03575788659014993 0.6039603706891492\n",
      "yahoo_A1 0.999999930000003 0.7999999500000028 0.9999999790000005\n",
      "yahoo_A1 0.47727268757748237 0.1884299273344508 0.45796938537711296\n",
      "yahoo_A1 0.9999999250000032 0.7499999447916703 0.9999999740196086\n",
      "yahoo_A1 0.9999999428571453 0.8571428368496686 0.9999999917701865\n",
      "yahoo_A1 0.15094338198647322 0.042678139006905855 0.2712584993734527\n",
      "yahoo_A1 0.9999999000000052 0.4999999375000063 0.9999999490384642\n",
      "yahoo_A1 0.07272726558677738 0.004901961687431341 0.009803920578623712\n",
      "yahoo_A1 0.10810809768687688 0.005000001327171221 -0.0\n",
      "yahoo_A1 0.9999998500000123 0.0 0.9999998990476293\n",
      "yahoo_A1 0.09090908206611638 0.030105811195462174 0.58333330863889\n",
      "yahoo_A1 0.0900900813245685 0.018709874704518067 0.32227721429560074\n",
      "yahoo_A1 0.999999930000003 0.7999999503333362 0.9999999790291265\n",
      "yahoo_A1 0.36363631074380753 0.08777562273423606 0.4712706402750324\n",
      "yahoo_A1 0.12499998805803669 0.015035171533757856 0.1403061171612525\n",
      "yahoo_A1 0.07272726558677738 0.004854369840008499 -0.0\n",
      "yahoo_A1 0.9999999409090937 0.9090908783316949 0.9999999898564595\n",
      "yahoo_A1 0.666666577777783 0.00476190475287723 0.4999999745192321\n",
      "yahoo_A1 0.8888888197530895 0.7196428119857595 0.9941747364328405\n",
      "yahoo_A1 0.0 0.0 -0.0\n",
      "yahoo_A1 0.9999999166666703 0.6666666055555603 0.9999999647058835\n",
      "yahoo_A1 0.7999999200000041 0.29166664027777967 0.9951922569757793\n",
      "yahoo_A1 0.6315788908587299 0.5504763863342659 0.9178240629199623\n",
      "yahoo_A1 0.9565216809073751 0.9102563820978715 0.9981883962000497\n",
      "yahoo_A1 0.9999999400000027 0.8999999672103188 0.9999999889473686\n",
      "yahoo_A1 0.7333332804444475 0.690106383196702 0.8938127006396044\n",
      "yahoo_A1 0.9999999250000032 0.7499999447916703 0.9999999740099016\n",
      "yahoo_A1 0.9999999166666703 0.6666666055555603 0.9999999657142871\n"
     ]
    },
    {
     "data": {
      "application/vnd.jupyter.widget-view+json": {
       "model_id": "a7f7b74fd18f40129fd6a2b5c673a24b",
       "version_major": 2,
       "version_minor": 0
      },
      "text/plain": [
       "  0%|          | 0/100 [00:00<?, ?it/s]"
      ]
     },
     "metadata": {},
     "output_type": "display_data"
    },
    {
     "data": {
      "application/vnd.jupyter.widget-view+json": {
       "model_id": "92fbd0012fcf4358946ecf9b3ea52d0f",
       "version_major": 2,
       "version_minor": 0
      },
      "text/plain": [
       "  0%|          | 0/100 [00:00<?, ?it/s]"
      ]
     },
     "metadata": {},
     "output_type": "display_data"
    },
    {
     "name": "stdout",
     "output_type": "stream",
     "text": [
      "yahoo_A2 0.0779220678697936 0.020499076461402872 0.4749999878682435\n",
      "yahoo_A2 0.39999995200000177 0.014333567974736368 0.49121620367028884\n",
      "yahoo_A2 0.8571427836734729 0.5045454127655574 0.7810810600958127\n",
      "yahoo_A2 0.9230768591716004 0.7251416475422852 0.9409124767164793\n",
      "yahoo_A2 0.03846153454142012 0.009803920569012017 0.6124030390601587\n",
      "yahoo_A2 0.9999999250000032 0.7499999447916703 0.99999997445946\n",
      "yahoo_A2 0.8333332708333363 0.5960623854224477 0.8444278107681347\n",
      "yahoo_A2 0.039215682276047686 0.009999998980000101 0.6201549762634518\n",
      "yahoo_A2 0.7499999312500037 0.4908135033340517 0.9506756513949057\n",
      "yahoo_A2 0.7272726677685981 0.47007959452195314 0.8848167408232074\n",
      "yahoo_A2 0.9999998500000123 0.0 0.9999998992248162\n",
      "yahoo_A2 0.6666666000000033 0.3699999698555085 0.8648648388117856\n",
      "yahoo_A2 0.24999997187500062 0.07154787116162536 0.7172774762886357\n",
      "yahoo_A2 0.9230768591716004 0.7437355616934573 0.9813014065596349\n",
      "yahoo_A2 0.9999998500000123 0.0 0.9999998992248161\n",
      "yahoo_A2 0.04838709045265415 0.014531662623678271 0.3135135055062091\n",
      "yahoo_A2 0.9999999357142885 0.8571428157823149 0.9999999851907255\n",
      "yahoo_A2 0.02499999746875001 0.0063291132831277686 0.3953487973679506\n",
      "yahoo_A2 0.9999999250000032 0.7499999447916703 0.9999999744594601\n",
      "yahoo_A2 0.24999997187500062 0.04002891091735389 0.66604336988582\n",
      "yahoo_A2 0.9999998500000123 0.0 0.9999998992248162\n",
      "yahoo_A2 0.8571427836734729 0.5246031322522391 0.9567567323206725\n",
      "yahoo_A2 0.6249999429687539 0.3395021115185644 0.9094988646162471\n",
      "yahoo_A2 0.05405404850255664 0.013888887461419894 0.728682097109556\n",
      "yahoo_A2 0.9999998500000123 0.0 0.9999998992248162\n",
      "yahoo_A2 0.7499999312500037 0.4375537517519715 0.8905405177956542\n",
      "yahoo_A2 0.5999999460000028 0.45891876150855665 0.9296933295378249\n",
      "yahoo_A2 0.9999998500000123 0.0 0.9999998992248162\n",
      "yahoo_A2 0.8571427836734729 0.547149079707381 0.9797297047069033\n",
      "yahoo_A2 0.9999999357142885 0.8571428160204101 0.9999999851907255\n",
      "yahoo_A2 0.027397257496716093 0.006944443740355009 0.4496123577910027\n",
      "yahoo_A2 0.9999999250000032 0.7499999447916703 0.99999997445946\n",
      "yahoo_A2 0.4444444000000022 0.19324340246570748 0.7543006619781952\n",
      "yahoo_A2 0.9999998500000123 0.0 0.9999998992248162\n",
      "yahoo_A2 0.06185566206823339 0.018924973581383252 0.5006756628881486\n",
      "yahoo_A2 0.14634144509220884 0.041364181998777866 0.7128378196315746\n",
      "yahoo_A2 0.9999999357142885 0.8571428160204102 0.9999999851907256\n",
      "yahoo_A2 0.9999998500000123 0.0 0.9999998992248162\n",
      "yahoo_A2 0.8571427836734729 0.5371376384066207 0.9729729481227178\n",
      "yahoo_A2 0.8333332708333363 0.683961004276811 0.9827972928501223\n",
      "yahoo_A2 0.39999995200000177 0.12499998437500164 0.9767440876149367\n",
      "yahoo_A2 0.7499999312500037 0.45571233023336777 0.962162137588021\n",
      "yahoo_A2 0.9230768591716004 0.8234126586960683 0.9985040989002383\n",
      "yahoo_A2 0.666666577777783 0.2499999625000044 0.992247962021523\n",
      "yahoo_A2 0.9999999250000032 0.7499999447916703 0.9999999744594601\n",
      "yahoo_A2 0.7692307076923109 0.5840179754250263 0.9087509204799789\n",
      "yahoo_A2 0.18604648350460087 0.06168870848825024 0.6690351434204219\n",
      "yahoo_A2 0.9999998500000123 0.0 0.9999998992248164\n",
      "yahoo_A2 0.39999995200000177 0.043522930851344066 0.8108107901022651\n",
      "yahoo_A2 0.9999999357142885 0.85714281602041 0.9999999851907256\n",
      "yahoo_A2 0.06666665977777783 0.017241377526754042 0.7829456575326079\n",
      "yahoo_A2 0.9999999250000032 0.7499999447916703 0.9999999744594601\n",
      "yahoo_A2 0.9999999357142885 0.8571428135204107 0.9999999851907256\n",
      "yahoo_A2 0.9999998500000123 0.0 0.9999998992248161\n",
      "yahoo_A2 0.8571427836734729 0.5342307265743719 0.9702702454890437\n",
      "yahoo_A2 0.9999999357142885 0.8571428160204101 0.9999999851907257\n",
      "yahoo_A2 0.031249996826171883 0.007936507130259592 0.5193797926206409\n",
      "yahoo_A2 0.9999998500000123 0.0 0.9999998992248162\n",
      "yahoo_A2 0.39999995200000177 0.037155463615169054 0.8094594387854278\n",
      "yahoo_A2 0.9230768591716004 0.7492877117849885 0.9850411222858532\n",
      "yahoo_A2 0.9999998500000123 0.0 0.9999998992248162\n",
      "yahoo_A2 0.05442176333934974 0.0163968465909146 0.3770270173975532\n",
      "yahoo_A2 0.9999999357142885 0.8571428159013625 0.9999999851907256\n",
      "yahoo_A2 0.017391302593572782 0.004385964469836917 0.12403099525269037\n",
      "yahoo_A2 0.9999999250000032 0.7499999447916703 0.9999999744594601\n",
      "yahoo_A2 0.24999997187500062 0.044317714833411875 0.6877337220515124\n",
      "yahoo_A2 0.9999998500000123 0.0 0.9999998992248162\n",
      "yahoo_A2 0.8571427836734729 0.5221153423399316 0.9513513270533241\n",
      "yahoo_A2 0.8571427836734729 0.5054347408248338 0.8175675464837477\n",
      "yahoo_A2 0.7692307076923109 0.5343883408103992 0.8702318494909568\n",
      "yahoo_A2 0.9999998500000123 0.0 0.9999998992248161\n",
      "yahoo_A2 0.8571427836734729 0.5066724523339297 0.8277026815627286\n",
      "yahoo_A2 0.9230768591716004 0.7377746874137565 0.9753178613976861\n",
      "yahoo_A2 0.9999998500000123 0.0 0.9999998992248164\n",
      "yahoo_A2 0.8571427836734729 0.5580356707815188 0.9844594343158333\n",
      "yahoo_A2 0.9999999357142885 0.8571428160204102 0.9999999851907255\n",
      "yahoo_A2 0.02631578680747923 0.006666665991111179 0.4263565461811232\n",
      "yahoo_A2 0.9999999250000032 0.4999999697916681 0.9999999744594601\n",
      "yahoo_A2 0.08139534093428946 0.024887014320694727 0.33395661435127827\n",
      "yahoo_A2 0.5999999460000028 0.3592897301694787 0.8979057458649711\n",
      "yahoo_A2 0.9999998500000123 0.0 0.9999998992248162\n",
      "yahoo_A2 0.3076922792899426 0.1360063295711579 0.9358107869096974\n",
      "yahoo_A2 0.9999999357142885 0.85714281602041 0.9999999851907255\n",
      "yahoo_A2 0.9999998500000123 0.0 0.9999998992248162\n",
      "yahoo_A2 0.9999999250000032 0.7499999447916703 0.9999999744594601\n",
      "yahoo_A2 0.9999999357142885 0.85714281602041 0.9999999851907256\n",
      "yahoo_A2 0.666666577777783 0.2499999625000044 0.9922479620215231\n",
      "yahoo_A2 0.8571427836734729 0.5356249572976073 0.9716215968058808\n",
      "yahoo_A2 0.9999999357142885 0.8571428160204102 0.9999999851907256\n",
      "yahoo_A2 0.9999998500000123 0.0 0.9999998992248162\n",
      "yahoo_A2 0.9999998500000123 0.0 0.9999998992248162\n",
      "yahoo_A2 0.9999999250000032 0.7499999447916703 0.9999999744594601\n",
      "yahoo_A2 0.3703703292181108 0.13901362834799133 0.7744951268997728\n",
      "yahoo_A2 0.9999998500000123 0.0 0.9999998992248162\n",
      "yahoo_A2 0.5714285061224537 0.182067031098025 0.8155405197111947\n",
      "yahoo_A2 0.9999999357142885 0.85714281602041 0.9999999851907255\n",
      "yahoo_A2 0.11764704636678214 0.03124999667968783 0.8875968097770656\n",
      "yahoo_A2 0.9999999250000032 0.7499999447916703 0.9999999744594601\n",
      "yahoo_A2 0.9999999357142885 0.85714281602041 0.9999999851907256\n",
      "yahoo_A2 0.9999998500000123 0.0 0.9999998992248162\n"
     ]
    },
    {
     "data": {
      "application/vnd.jupyter.widget-view+json": {
       "model_id": "1f8d4e19f67a46afa6cf72803427afd8",
       "version_major": 2,
       "version_minor": 0
      },
      "text/plain": [
       "  0%|          | 0/100 [00:00<?, ?it/s]"
      ]
     },
     "metadata": {},
     "output_type": "display_data"
    },
    {
     "data": {
      "application/vnd.jupyter.widget-view+json": {
       "model_id": "744783c9e81844e99b413ebf08db29a5",
       "version_major": 2,
       "version_minor": 0
      },
      "text/plain": [
       "  0%|          | 0/92 [00:00<?, ?it/s]"
      ]
     },
     "metadata": {},
     "output_type": "display_data"
    },
    {
     "name": "stdout",
     "output_type": "stream",
     "text": [
      "yahoo_A3 0.03174602857142873 0.00416666685300557 0.028688521697796607\n",
      "yahoo_A3 0.12121210964187425 0.03288940292381958 0.24445812412951368\n",
      "yahoo_A3 0.6666666055555593 0.45764988588073974 0.9420903785848578\n",
      "yahoo_A3 0.03174602857142873 0.004065040847075319 -0.0\n",
      "yahoo_A3 0.749999943750003 0.6326676765183826 0.9145224062898387\n",
      "yahoo_A3 0.0624999938476567 0.010680821402044696 0.24583332083680623\n",
      "yahoo_A3 0.17647057188581453 0.024254569988651244 0.1169908564111303\n",
      "yahoo_A3 0.16666661388890391 0.03585741038331305 0.40225987663273677\n",
      "yahoo_A3 0.28571425306122533 0.05081720463075016 0.648870031611599\n",
      "yahoo_A3 0.18181816198347142 0.045038603376248945 0.4246101291846203\n",
      "yahoo_A3 0.2666666204444518 0.1026303017792422 0.6346978480104449\n",
      "yahoo_A3 0.24999994930556502 0.0729708242040682 0.5179894103045898\n",
      "yahoo_A3 0.1538461254437907 0.026825632028399708 0.46311473015318594\n",
      "yahoo_A3 0.17647057188581453 0.06853506543411471 0.36041666295324154\n",
      "yahoo_A3 0.04724408980097991 0.004098361191078604 -0.0\n",
      "yahoo_A3 0.599999944500004 0.5349749363746863 0.8483430697235675\n",
      "yahoo_A3 0.03174602857142873 0.007671129385834822 0.2274589980717565\n",
      "yahoo_A3 0.03252032195121968 0.007735002157197524 0.23360654386589713\n",
      "yahoo_A3 0.0624999938476567 0.004132232180666684 -0.0\n",
      "yahoo_A3 0.13793102068965585 0.042407405101289555 0.8299179906107252\n",
      "yahoo_A3 0.666666577777783 0.0999999836064798 0.9836064590298405\n",
      "yahoo_A3 0.0624999938476567 0.0041322321806666834 -0.0\n",
      "yahoo_A3 0.09230768336094745 0.004201681792727941 -0.0\n",
      "yahoo_A3 0.4999999500000025 0.3443660752398797 0.9336157999691583\n",
      "yahoo_A3 0.03174602857142873 0.004065040847075319 -0.0\n",
      "yahoo_A3 0.11764701176472354 0.036146993843691085 0.47655366119736536\n",
      "yahoo_A3 0.0624999938476567 0.004132232312845195 -0.0\n",
      "yahoo_A3 0.03174602857142873 0.004065040847075319 -0.0\n",
      "yahoo_A3 0.2666666240000055 0.069487359446254 0.6677083160842018\n",
      "yahoo_A3 0.5454544958677713 0.331002053756058 0.7345032722897664\n",
      "yahoo_A3 0.20289853219911938 0.07478400705317934 0.3953436917903548\n",
      "yahoo_A3 0.19999994800001253 0.08240368307845937 0.4991471667481191\n",
      "yahoo_A3 0.2222221975308647 0.02571524471820127 0.35480294748721464\n",
      "yahoo_A3 0.15094337557850013 0.05735553387727666 0.5462370494330336\n",
      "yahoo_A3 0.09230768336094745 0.01358875160345724 0.4025423560854168\n",
      "yahoo_A3 0.14925371730897866 0.02076732485544719 0.3254263998458429\n",
      "yahoo_A3 0.6666666074074105 0.3872731126390783 0.8510592970474787\n",
      "yahoo_A3 0.12121210964187425 0.004807693632617968 0.1163792990376052\n",
      "yahoo_A3 0.06399999370240046 0.016759560917937094 0.462499979892362\n",
      "yahoo_A3 0.4705881840830494 0.4075928269862149 0.8863452618184926\n",
      "yahoo_A3 0.666666577777783 0.027777775502586116 0.9303278141964562\n",
      "yahoo_A3 0.2222221975308647 0.07759390805960603 0.6309523710519052\n",
      "yahoo_A3 0.03174602857142873 0.004065040847075319 -0.0\n",
      "yahoo_A3 0.13793100071344394 0.034945310864367064 0.5457626973898907\n",
      "yahoo_A3 0.399999960000002 0.16593864173083808 0.5422721578128982\n",
      "yahoo_A3 0.17647057188581453 0.06117021065680234 0.47868302913112293\n",
      "yahoo_A3 0.3333332895061776 0.21770257772365215 0.6181979116572311\n",
      "yahoo_A3 0.12121210964187425 0.020701782961467484 0.24699301524586054\n",
      "yahoo_A3 0.1176470366782037 0.03606612489099706 0.7909835663598517\n",
      "yahoo_A3 0.3999999440000059 0.10860042270759672 0.596527757413774\n",
      "yahoo_A3 0.39999995200000177 0.06170156143578125 0.6597221982928251\n",
      "yahoo_A3 0.09230768336094745 0.00919745637623334 0.25706212723036337\n",
      "yahoo_A3 0.4999999500000025 0.24866980605861433 0.5668078981964436\n",
      "yahoo_A3 0.12121210964187425 0.030835797151506743 0.4362787269741134\n",
      "yahoo_A3 0.399999960000002 0.23972889902554012 0.830069767326752\n",
      "yahoo_A3 0.6153845585798854 0.38880243157875555 0.668791038724038\n",
      "yahoo_A3 0.4999999500000025 0.1893307305957729 0.5001412321592498\n",
      "yahoo_A3 0.097560965853659 0.03255735317847011 0.7745901245700102\n",
      "yahoo_A3 0.14925371730897866 0.016752871122343166 0.12134502503366433\n",
      "yahoo_A3 0.12121210964187425 0.013500837892426718 0.16379309684155796\n",
      "yahoo_A3 0.7499999312500037 0.5104166288562737 0.9854166410711813\n",
      "yahoo_A3 0.4999999500000025 0.26944327853683486 0.8206214545540875\n",
      "yahoo_A3 0.060606048852159616 0.01810956022913046 0.5778688230919125\n",
      "yahoo_A3 0.18181816198347142 0.043003596722650174 0.3714598943081484\n",
      "yahoo_A3 0.266666618666674 0.1111439131822654 0.6807382940713106\n",
      "yahoo_A3 0.17647057188581453 0.04035309130592154 0.3414853204410225\n",
      "yahoo_A3 0.39999995200000177 0.04423022361440369 0.7576388551035897\n",
      "yahoo_A3 0.545454500826449 0.5187137590156501 0.8184854431426802\n",
      "yahoo_A3 0.28571423401361384 0.09957180509248581 0.5434092389302755\n"
     ]
    }
   ],
   "source": [
    "for loader in [load_yahoo_A1, load_yahoo_A2, load_yahoo_A3, load_yahoo_A4]:\n",
    "    datasets = loader(8, 4)\n",
    "    x_trains, x_tests, y_tests = datasets['x_train'], datasets['x_test'], datasets['y_test']\n",
    "    \n",
    "    for i in tqdm(range(len(x_trains))):\n",
    "        X_train = x_trains[i]\n",
    "        X_test = x_tests[i]\n",
    "        \n",
    "        model = Modified_S_RNN(X_train)\n",
    "        X_test_rec = [np.flip(rec, axis=1) for rec in model.predict(X_test)]\n",
    "        scores = evaluate(X_test, X_test_rec, y_tests[i], is_reconstructed=True, scoring='square_median')\n",
    "    \n",
    "        total_scores['dataset'].append(loader.__name__.replace('load_', ''))\n",
    "        total_scores['f1'].append(np.max(scores['f1']))\n",
    "        total_scores['pr_auc'].append(scores['pr_auc'])\n",
    "        total_scores['roc_auc'].append(scores['roc_auc'])\n",
    "        print(loader.__name__.replace('load_', ''), np.max(scores['f1']), scores['pr_auc'], scores['roc_auc'])   "
   ]
  },
  {
   "cell_type": "code",
   "execution_count": null,
   "id": "f2f14b22-b9e6-48fd-9b16-0813b54c88f5",
   "metadata": {},
   "outputs": [],
   "source": [
    "yahoo_results = pd.DataFrame(total_scores)\n",
    "yahoo_results.groupby('dataset').mean()"
   ]
  },
  {
   "cell_type": "markdown",
   "id": "bb798ddf-37a1-49cf-91f3-ee919f49cb23",
   "metadata": {},
   "source": [
    "### NASA"
   ]
  },
  {
   "cell_type": "code",
   "execution_count": null,
   "id": "4a76c8d0-240c-414f-8e88-bb653cc38282",
   "metadata": {},
   "outputs": [],
   "source": [
    "total_scores = {'dataset': [], 'f1': [], 'pr_auc': [], 'roc_auc': []}"
   ]
  },
  {
   "cell_type": "code",
   "execution_count": null,
   "id": "2bec506f-03ba-4ff5-a539-576461d3f6f3",
   "metadata": {},
   "outputs": [],
   "source": [
    "for loader in [load_nasa]:\n",
    "    datasets = loader(8, 4)\n",
    "    x_trains, x_tests, y_tests = datasets['x_train'], datasets['x_test'], datasets['y_test']\n",
    "    \n",
    "    for i in tqdm(range(len(x_trains))):\n",
    "        X_train = x_trains[i]\n",
    "        X_test = x_tests[i]\n",
    "\n",
    "        model = Modified_S_RNN(X_train)\n",
    "        X_test_rec = [np.flip(rec, axis=1) for rec in model.predict(X_test)]\n",
    "        scores = evaluate(X_test, X_test_rec, y_tests[i], is_reconstructed=True, scoring='square_median')\n",
    "        \n",
    "        total_scores['dataset'].append(f'D{i+1}')\n",
    "        total_scores['f1'].append(np.max(scores['f1']))\n",
    "        total_scores['pr_auc'].append(scores['pr_auc'])\n",
    "        total_scores['roc_auc'].append(scores['roc_auc'])\n",
    "        print(f'D{i+1}', np.max(scores['f1']), scores['pr_auc'], scores['roc_auc'])   "
   ]
  },
  {
   "cell_type": "code",
   "execution_count": null,
   "id": "aa54a19a-5e17-4d33-86bd-d8a95582b438",
   "metadata": {},
   "outputs": [],
   "source": [
    "nasa_results = pd.DataFrame(total_scores)\n",
    "nasa_results.groupby('dataset').mean()"
   ]
  },
  {
   "cell_type": "markdown",
   "id": "0ac064c7-60c2-4977-b5bb-ac9369129ded",
   "metadata": {},
   "source": [
    "### SMD"
   ]
  },
  {
   "cell_type": "code",
   "execution_count": null,
   "id": "a83be971-b601-4769-bbb8-c5ea395b6572",
   "metadata": {},
   "outputs": [],
   "source": [
    "total_scores = {'dataset': [], 'f1': [], 'pr_auc': [], 'roc_auc': []}"
   ]
  },
  {
   "cell_type": "code",
   "execution_count": null,
   "id": "508947a2-0bed-4e4b-bda9-23d132ca16ec",
   "metadata": {},
   "outputs": [],
   "source": [
    "for loader in [load_smd]:\n",
    "    datasets = loader(8, 4)\n",
    "    x_trains, x_tests, y_tests = datasets['x_train'], datasets['x_test'], datasets['y_test']\n",
    "    \n",
    "    for i in tqdm(range(len(x_trains))):\n",
    "        X_train = x_trains[i]\n",
    "        X_test = x_tests[i]\n",
    "\n",
    "        model = Modified_S_RNN(X_train)\n",
    "        X_test_rec = [np.flip(rec, axis=1) for rec in model.predict(X_test)]\n",
    "        scores = evaluate(X_test, X_test_rec, y_tests[i], is_reconstructed=True, scoring='square_median')\n",
    "      \n",
    "        total_scores['dataset'].append(loader.__name__.replace('load_', ''))\n",
    "        total_scores['f1'].append(np.max(scores['f1']))\n",
    "        total_scores['pr_auc'].append(scores['pr_auc'])\n",
    "        total_scores['roc_auc'].append(scores['roc_auc'])\n",
    "        print(loader.__name__.replace('load_', ''), np.max(scores['f1']), scores['pr_auc'], scores['roc_auc'])   "
   ]
  },
  {
   "cell_type": "code",
   "execution_count": null,
   "id": "6c5d8ddb-3e7c-475d-81f4-403074ae55db",
   "metadata": {},
   "outputs": [],
   "source": [
    "smd_results = pd.DataFrame(total_scores)\n",
    "smd_results.groupby('dataset').mean()"
   ]
  },
  {
   "cell_type": "markdown",
   "id": "de5cfdc7-5631-41a4-bac4-84b6975e46a9",
   "metadata": {},
   "source": [
    "### ECG"
   ]
  },
  {
   "cell_type": "code",
   "execution_count": null,
   "id": "dde51e6e-9fa2-4f36-9d54-8bef73fad5b3",
   "metadata": {},
   "outputs": [],
   "source": [
    "total_scores = {'dataset': [], 'f1': [], 'pr_auc': [], 'roc_auc': []}"
   ]
  },
  {
   "cell_type": "code",
   "execution_count": null,
   "id": "7a370859-5d52-4844-8570-d10e94bc6857",
   "metadata": {},
   "outputs": [],
   "source": [
    "for loader in [load_ecg]:\n",
    "    datasets = loader(4, 2)\n",
    "    x_trains, x_tests, y_tests = datasets['x_train'], datasets['x_test'], datasets['y_test']\n",
    "    \n",
    "    for i in tqdm(range(len(x_trains))):\n",
    "        tf.keras.backend.clear_session()\n",
    "\n",
    "        X_train = x_trains[i]\n",
    "        X_test = x_tests[i]\n",
    "\n",
    "        model = Modified_S_RNN(X_train)\n",
    "        X_test_rec = [np.flip(rec, axis=1) for rec in model.predict(X_test)]\n",
    "        scores = evaluate(X_test, X_test_rec, y_tests[i], is_reconstructed=True, scoring='square_median')\n",
    "\n",
    "        total_scores['dataset'].append(f'D{i+1}')\n",
    "        total_scores['f1'].append(np.max(scores['f1']))\n",
    "        total_scores['pr_auc'].append(scores['pr_auc'])\n",
    "        total_scores['roc_auc'].append(scores['roc_auc'])\n",
    "        print(f'D{i+1}', np.max(scores['f1']), scores['pr_auc'], scores['roc_auc'])  "
   ]
  },
  {
   "cell_type": "code",
   "execution_count": null,
   "id": "647994fa-8099-4900-9bc0-60b0de7bb4b9",
   "metadata": {},
   "outputs": [],
   "source": [
    "ecg_results = pd.DataFrame(total_scores)\n",
    "ecg_results.groupby('dataset').mean()"
   ]
  },
  {
   "cell_type": "markdown",
   "id": "066b1b43-0758-4478-b91c-136380588607",
   "metadata": {},
   "source": [
    "### Power Demand"
   ]
  },
  {
   "cell_type": "code",
   "execution_count": 7,
   "id": "c1ae67ae-17d2-4201-90b2-3d4c3861731a",
   "metadata": {},
   "outputs": [],
   "source": [
    "total_scores = {'dataset': [], 'f1': [], 'pr_auc': [], 'roc_auc': []}"
   ]
  },
  {
   "cell_type": "code",
   "execution_count": 8,
   "id": "c485a47d-8c25-4caa-a398-80d25360b981",
   "metadata": {},
   "outputs": [
    {
     "data": {
      "application/vnd.jupyter.widget-view+json": {
       "model_id": "410c0b468b6c4f2ea9e82bcd0a8e9577",
       "version_major": 2,
       "version_minor": 0
      },
      "text/plain": [
       "  0%|          | 0/1 [00:00<?, ?it/s]"
      ]
     },
     "metadata": {},
     "output_type": "display_data"
    },
    {
     "name": "stdout",
     "output_type": "stream",
     "text": [
      "power_demand 0.27358488178622486 0.0968849412419253 0.31834475676892177\n"
     ]
    }
   ],
   "source": [
    "for loader in [load_power_demand]:\n",
    "    datasets = loader(16, 8)\n",
    "    x_trains, x_tests, y_tests = datasets['x_train'], datasets['x_test'], datasets['y_test']\n",
    "    \n",
    "    for i in tqdm(range(len(x_trains))):\n",
    "        tf.keras.backend.clear_session()\n",
    "\n",
    "        X_train = x_trains[i]\n",
    "        X_test = x_tests[i]\n",
    "\n",
    "        model = Modified_S_RNN(X_train)\n",
    "        X_test_rec = [np.flip(rec, axis=1) for rec in model.predict(X_test)]\n",
    "        scores = evaluate(X_test, X_test_rec, y_tests[i], is_reconstructed=True, scoring='square_median')\n",
    "\n",
    "        total_scores['dataset'].append(loader.__name__.replace('load_', ''))\n",
    "        total_scores['f1'].append(np.max(scores['f1']))\n",
    "        total_scores['pr_auc'].append(scores['pr_auc'])\n",
    "        total_scores['roc_auc'].append(scores['roc_auc'])\n",
    "        print(loader.__name__.replace('load_', ''), np.max(scores['f1']), scores['pr_auc'], scores['roc_auc']) "
   ]
  },
  {
   "cell_type": "code",
   "execution_count": 9,
   "id": "c76a1a89-b2f4-4ebc-b4b9-4a364e5303f2",
   "metadata": {},
   "outputs": [
    {
     "data": {
      "text/html": [
       "<div>\n",
       "<style scoped>\n",
       "    .dataframe tbody tr th:only-of-type {\n",
       "        vertical-align: middle;\n",
       "    }\n",
       "\n",
       "    .dataframe tbody tr th {\n",
       "        vertical-align: top;\n",
       "    }\n",
       "\n",
       "    .dataframe thead th {\n",
       "        text-align: right;\n",
       "    }\n",
       "</style>\n",
       "<table border=\"1\" class=\"dataframe\">\n",
       "  <thead>\n",
       "    <tr style=\"text-align: right;\">\n",
       "      <th></th>\n",
       "      <th>f1</th>\n",
       "      <th>pr_auc</th>\n",
       "      <th>roc_auc</th>\n",
       "    </tr>\n",
       "    <tr>\n",
       "      <th>dataset</th>\n",
       "      <th></th>\n",
       "      <th></th>\n",
       "      <th></th>\n",
       "    </tr>\n",
       "  </thead>\n",
       "  <tbody>\n",
       "    <tr>\n",
       "      <th>power_demand</th>\n",
       "      <td>0.273585</td>\n",
       "      <td>0.096885</td>\n",
       "      <td>0.318345</td>\n",
       "    </tr>\n",
       "  </tbody>\n",
       "</table>\n",
       "</div>"
      ],
      "text/plain": [
       "                    f1    pr_auc   roc_auc\n",
       "dataset                                   \n",
       "power_demand  0.273585  0.096885  0.318345"
      ]
     },
     "execution_count": 9,
     "metadata": {},
     "output_type": "execute_result"
    }
   ],
   "source": [
    "power_results = pd.DataFrame(total_scores)\n",
    "power_results.groupby('dataset').mean()"
   ]
  },
  {
   "cell_type": "code",
   "execution_count": null,
   "id": "8590ae40-4b3f-405c-b523-6ef008b00df8",
   "metadata": {},
   "outputs": [],
   "source": []
  },
  {
   "cell_type": "markdown",
   "id": "61f2165c-1cd4-4200-bf67-26207d393e05",
   "metadata": {},
   "source": [
    "### 2D Gesture"
   ]
  },
  {
   "cell_type": "code",
   "execution_count": 10,
   "id": "2c61678d-28c7-4835-b1b2-ee6593988c67",
   "metadata": {},
   "outputs": [],
   "source": [
    "total_scores = {'dataset': [], 'f1': [], 'pr_auc': [], 'roc_auc': []}"
   ]
  },
  {
   "cell_type": "code",
   "execution_count": 11,
   "id": "1f4638af-57eb-4bce-8a52-5bd01d7683a5",
   "metadata": {},
   "outputs": [
    {
     "data": {
      "application/vnd.jupyter.widget-view+json": {
       "model_id": "a147fb3d44334334a804b94fa0459b85",
       "version_major": 2,
       "version_minor": 0
      },
      "text/plain": [
       "  0%|          | 0/1 [00:00<?, ?it/s]"
      ]
     },
     "metadata": {},
     "output_type": "display_data"
    },
    {
     "name": "stdout",
     "output_type": "stream",
     "text": [
      "gesture 0.43908791164528294 0.3229133077833069 0.5634498478150297\n"
     ]
    }
   ],
   "source": [
    "for loader in [load_gesture]:\n",
    "    datasets = loader(4, 2)\n",
    "    x_trains, x_tests, y_tests = datasets['x_train'], datasets['x_test'], datasets['y_test']\n",
    "    \n",
    "    for i in tqdm(range(len(x_trains))):\n",
    "        tf.keras.backend.clear_session()\n",
    "\n",
    "        X_train = x_trains[i]\n",
    "        X_test = x_tests[i]\n",
    "\n",
    "        model = Modified_S_RNN(X_train)\n",
    "        X_test_rec = [np.flip(rec, axis=1) for rec in model.predict(X_test)]\n",
    "        scores = evaluate(X_test, X_test_rec, y_tests[i], is_reconstructed=True, scoring='square_median')\n",
    "\n",
    "        total_scores['dataset'].append(loader.__name__.replace('load_', ''))\n",
    "        total_scores['f1'].append(np.max(scores['f1']))\n",
    "        total_scores['pr_auc'].append(scores['pr_auc'])\n",
    "        total_scores['roc_auc'].append(scores['roc_auc'])\n",
    "        print(loader.__name__.replace('load_', ''), np.max(scores['f1']), scores['pr_auc'], scores['roc_auc'])  "
   ]
  },
  {
   "cell_type": "code",
   "execution_count": 12,
   "id": "7f7d848e-0877-46d0-b702-7a7ec9513970",
   "metadata": {},
   "outputs": [
    {
     "data": {
      "text/html": [
       "<div>\n",
       "<style scoped>\n",
       "    .dataframe tbody tr th:only-of-type {\n",
       "        vertical-align: middle;\n",
       "    }\n",
       "\n",
       "    .dataframe tbody tr th {\n",
       "        vertical-align: top;\n",
       "    }\n",
       "\n",
       "    .dataframe thead th {\n",
       "        text-align: right;\n",
       "    }\n",
       "</style>\n",
       "<table border=\"1\" class=\"dataframe\">\n",
       "  <thead>\n",
       "    <tr style=\"text-align: right;\">\n",
       "      <th></th>\n",
       "      <th>f1</th>\n",
       "      <th>pr_auc</th>\n",
       "      <th>roc_auc</th>\n",
       "    </tr>\n",
       "    <tr>\n",
       "      <th>dataset</th>\n",
       "      <th></th>\n",
       "      <th></th>\n",
       "      <th></th>\n",
       "    </tr>\n",
       "  </thead>\n",
       "  <tbody>\n",
       "    <tr>\n",
       "      <th>gesture</th>\n",
       "      <td>0.439088</td>\n",
       "      <td>0.322913</td>\n",
       "      <td>0.56345</td>\n",
       "    </tr>\n",
       "  </tbody>\n",
       "</table>\n",
       "</div>"
      ],
      "text/plain": [
       "               f1    pr_auc  roc_auc\n",
       "dataset                             \n",
       "gesture  0.439088  0.322913  0.56345"
      ]
     },
     "execution_count": 12,
     "metadata": {},
     "output_type": "execute_result"
    }
   ],
   "source": [
    "gesture_results = pd.DataFrame(total_scores)\n",
    "gesture_results.groupby('dataset').mean()"
   ]
  },
  {
   "cell_type": "code",
   "execution_count": null,
   "id": "700effc8-c337-4d0c-a4c4-2781d6c45f15",
   "metadata": {},
   "outputs": [],
   "source": []
  }
 ],
 "metadata": {
  "kernelspec": {
   "display_name": "Python 3",
   "language": "python",
   "name": "python3"
  },
  "language_info": {
   "codemirror_mode": {
    "name": "ipython",
    "version": 3
   },
   "file_extension": ".py",
   "mimetype": "text/x-python",
   "name": "python",
   "nbconvert_exporter": "python",
   "pygments_lexer": "ipython3",
   "version": "3.7.10"
  }
 },
 "nbformat": 4,
 "nbformat_minor": 5
}
