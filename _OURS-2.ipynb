{
 "cells": [
  {
   "cell_type": "code",
   "execution_count": 1,
   "id": "147cd176-7bf7-40ca-84a5-1b3401cbf3fe",
   "metadata": {},
   "outputs": [],
   "source": [
    "import os\n",
    "import random\n",
    "\n",
    "os.environ[\"CUDA_DEVICE_ORDER\"] = \"PCI_BUS_ID\";\n",
    "os.environ[\"CUDA_VISIBLE_DEVICES\"] = \"1\"\n",
    "os.environ[\"TF_FORCE_GPU_ALLOW_GROWTH\"] = \"true\""
   ]
  },
  {
   "cell_type": "code",
   "execution_count": 2,
   "id": "ebb3df11-ae49-4f59-8515-a2c3c85bb165",
   "metadata": {},
   "outputs": [],
   "source": [
    "import numpy as np\n",
    "import pandas as pd\n",
    "import tensorflow as tf\n",
    "\n",
    "from evaluator import evaluate\n",
    "from data_loader import load_kdd_cup_urc, load_yahoo_A1, load_yahoo_A2, load_yahoo_A3, load_yahoo_A4, load_power_demand # Univariate Datasets\n",
    "from data_loader import load_nasa, load_ecg, load_gesture, load_smd # Multivariate Datasets\n",
    "from AE_Models import CNN_AE, LSTM_AE, GRU_AE, CNN_Bi_LSTM_AE, Wavenet\n",
    "\n",
    "from tqdm.notebook import tqdm\n",
    "from tensorflow.keras import Model, Input\n",
    "from tensorflow.keras.layers import Dense, Bidirectional, LSTM, LSTMCell, GRU, GRUCell, Reshape, Dropout, GaussianNoise, Concatenate, Lambda, RepeatVector, TimeDistributed\n",
    "\n",
    "# THESE LINES ARE FOR REPRODUCIBILITY\n",
    "random.seed(0)\n",
    "np.random.seed(0)\n",
    "tf.random.set_seed(0)"
   ]
  },
  {
   "cell_type": "code",
   "execution_count": 3,
   "id": "af1c631e-10e2-48ad-b6ac-93c69cdf9e7f",
   "metadata": {},
   "outputs": [],
   "source": [
    "def Hetero_TAD(X_train):\n",
    "    tf.keras.backend.clear_session()\n",
    "\n",
    "    BATCH_SIZE = 128\n",
    "\n",
    "    X_train_reverse = np.flip(X_train, axis=1)\n",
    "    seq_length, dim = X_train.shape[1], X_train.shape[2]\n",
    "\n",
    "    cnn = tf.keras.models.Sequential(CNN_AE(seq_length, dim, 'relu'))\n",
    "    lstm = tf.keras.models.Sequential(LSTM_AE(seq_length, dim, 'relu'))\n",
    "    gru = tf.keras.models.Sequential(GRU_AE(seq_length, dim, 'relu'))\n",
    "    cnn_lstm = tf.keras.models.Sequential(CNN_Bi_LSTM_AE(seq_length, dim, 'relu'))\n",
    "    wavenet = tf.keras.models.Sequential(Wavenet(seq_length, dim, 'relu'))\n",
    "\n",
    "\n",
    "    AEs = [cnn, lstm ,gru, cnn_lstm, wavenet]\n",
    "    model = Model(inputs=[ae.input for ae in AEs], outputs=[ae.output for ae in AEs])\n",
    "    model.compile(optimizer=tf.keras.optimizers.Adam(learning_rate=0.001), loss='mse')\n",
    "\n",
    "    history = model.fit([X_train for _ in range(len(AEs))], [X_train_reverse for _ in range(len(AEs))], batch_size=BATCH_SIZE, epochs=50, validation_split=0.3, verbose=0, callbacks=[tf.keras.callbacks.EarlyStopping(monitor=\"val_loss\", patience=5, mode=\"min\", restore_best_weights=True)]) \n",
    "    return model"
   ]
  },
  {
   "cell_type": "markdown",
   "id": "a0c74d6c-977c-4318-ae7c-626e051a4bfd",
   "metadata": {},
   "source": [
    "### Yahoo S5"
   ]
  },
  {
   "cell_type": "code",
   "execution_count": 4,
   "id": "fc47be27-622e-4585-8449-c653f81d2896",
   "metadata": {},
   "outputs": [],
   "source": [
    "total_scores = {'dataset': [], 'f1': [], 'pr_auc': [], 'roc_auc': []}"
   ]
  },
  {
   "cell_type": "code",
   "execution_count": null,
   "id": "2ac394fa-ab18-4f88-b98a-69711cb11dd8",
   "metadata": {
    "scrolled": true,
    "tags": []
   },
   "outputs": [
    {
     "data": {
      "application/vnd.jupyter.widget-view+json": {
       "model_id": "54ddaf2f2959491b951218d9c6fe3dd2",
       "version_major": 2,
       "version_minor": 0
      },
      "text/plain": [
       "  0%|          | 0/67 [00:00<?, ?it/s]"
      ]
     },
     "metadata": {},
     "output_type": "display_data"
    },
    {
     "data": {
      "application/vnd.jupyter.widget-view+json": {
       "model_id": "3db527be009e4b9ca41d5aa1a92083db",
       "version_major": 2,
       "version_minor": 0
      },
      "text/plain": [
       "  0%|          | 0/56 [00:00<?, ?it/s]"
      ]
     },
     "metadata": {},
     "output_type": "display_data"
    },
    {
     "name": "stdout",
     "output_type": "stream",
     "text": [
      "yahoo_A1 0.9999999000000052 0.4999999375000063 0.9999999490291289\n",
      "yahoo_A1 0.9999999166666703 0.6666666055555603 0.9999999656957942\n",
      "yahoo_A1 0.9090908429752097 0.7547169388267891 0.9166666504722225\n",
      "yahoo_A1 0.9999998500000123 0.0 0.9999998990476292\n",
      "yahoo_A1 0.9999999000000052 0.4999999375000063 0.9999999490384642\n",
      "yahoo_A1 0.9999998500000123 0.49999988541668605 0.999999946394234\n",
      "yahoo_A1 0.9999999166666703 0.6666666055555603 0.999999965714287\n",
      "yahoo_A1 0.9836065041655494 0.9655734618343037 0.9995555508909629\n",
      "yahoo_A1 0.906249947363284 0.9301137656764635 0.9850574666653192\n",
      "yahoo_A1 0.999999930000003 0.7999999503333362 0.9999999790099015\n",
      "yahoo_A1 0.9090908429752097 0.6957671552853911 0.9234006570779345\n",
      "yahoo_A1 0.999999930000003 0.7999999503333362 0.9999999790000004\n",
      "yahoo_A1 0.9999999437500025 0.9374999763313819 0.9999999926264045\n",
      "yahoo_A1 0.9999999166666703 0.6666666055555603 0.9999999656862757\n",
      "yahoo_A1 0.999999930000003 0.7999999503333362 0.9999999790291266\n",
      "yahoo_A1 0.9999999409090937 0.9090908781621423 0.9999999898564595\n",
      "yahoo_A1 0.38095234822676 0.14903698788063635 0.3837854416986627\n",
      "yahoo_A1 0.9999999250000032 0.7499999447916703 0.9999999740099016\n",
      "yahoo_A1 0.0923076832189355 0.031669726049867064 0.6045751421632714\n",
      "yahoo_A1 0.8888888197530895 0.6137295622674017 0.8792079023374183\n",
      "yahoo_A1 0.9999999166666703 0.6666666055555603 0.999999965714287\n",
      "yahoo_A1 0.9999999000000052 0.4999999375000063 0.9999999490566067\n",
      "yahoo_A1 0.7058822961937751 0.6166362911146346 0.951328308976855\n",
      "yahoo_A1 0.6363635871900859 0.5526011759118546 0.9067631738355526\n",
      "yahoo_A1 0.9999998500000123 0.0 0.9999998990476292\n",
      "yahoo_A1 0.9230768591716004 0.8313491629516272 0.9982993043789626\n",
      "yahoo_A1 0.6399999456000038 0.371568065545639 0.9014353975548179\n",
      "yahoo_A1 0.9090908429752097 0.7284798127681277 0.9856902182159135\n",
      "yahoo_A1 0.6666666000000033 0.3362574647647803 0.9195544315462338\n",
      "yahoo_A1 0.7999999360000031 0.43055553334986896 0.9849999792150005\n",
      "yahoo_A1 0.47422676590498747 0.19848679262637092 0.4524847891083352\n",
      "yahoo_A1 0.9999999250000032 0.7499999447916703 0.9999999740196085\n",
      "yahoo_A1 0.9999999428571453 0.9285714025398619 0.9999999917701865\n",
      "yahoo_A1 0.153846101775164 0.057645728654448176 0.33618804194564583\n",
      "yahoo_A1 0.9999999000000052 0.4999999375000063 0.9999999490384642\n",
      "yahoo_A1 0.07272726558677738 0.004854369840008499 -0.0\n",
      "yahoo_A1 0.9090908429752097 0.7056159020475958 0.9696969525558619\n",
      "yahoo_A1 0.9999998500000123 0.0 0.9999998990476293\n",
      "yahoo_A1 0.999999930000003 0.7999999503333362 0.9999999790000004\n",
      "yahoo_A1 0.8888888197530895 0.6799999565696996 0.988118791140477\n",
      "yahoo_A1 0.999999930000003 0.7999999503333362 0.9999999790291265\n",
      "yahoo_A1 0.8333332708333363 0.6564052878101849 0.9552963855230795\n",
      "yahoo_A1 0.7272726677685981 0.5241242839033042 0.8504615978375251\n",
      "yahoo_A1 0.2666666240000055 0.09834591158347938 0.8276143575287556\n"
     ]
    }
   ],
   "source": [
    "for loader in [load_yahoo_A1, load_yahoo_A2, load_yahoo_A3, load_yahoo_A4]:\n",
    "    datasets = loader(8, 4)\n",
    "    x_trains, x_tests, y_tests = datasets['x_train'], datasets['x_test'], datasets['y_test']\n",
    "    \n",
    "    for i in tqdm(range(len(x_trains))):\n",
    "        X_train = x_trains[i]\n",
    "        X_test = x_tests[i]\n",
    "        \n",
    "        model = Hetero_TAD(X_train)\n",
    "        X_test = [X_test for _ in range(len(model.outputs))]\n",
    "        X_test_rec = [np.flip(rec, axis=1) for rec in model.predict(X_test)]\n",
    "        scores = evaluate(X_test[0], X_test_rec, y_tests[i], is_reconstructed=True, scoring='square_median')\n",
    "    \n",
    "        total_scores['dataset'].append(loader.__name__.replace('load_', ''))\n",
    "        total_scores['f1'].append(np.max(scores['f1']))\n",
    "        total_scores['pr_auc'].append(scores['pr_auc'])\n",
    "        total_scores['roc_auc'].append(scores['roc_auc'])\n",
    "        print(loader.__name__.replace('load_', ''), np.max(scores['f1']), scores['pr_auc'], scores['roc_auc'])   "
   ]
  },
  {
   "cell_type": "code",
   "execution_count": null,
   "id": "f2f14b22-b9e6-48fd-9b16-0813b54c88f5",
   "metadata": {},
   "outputs": [],
   "source": [
    "yahoo_results = pd.DataFrame(total_scores)\n",
    "yahoo_results.groupby('dataset').mean()"
   ]
  },
  {
   "cell_type": "markdown",
   "id": "bb798ddf-37a1-49cf-91f3-ee919f49cb23",
   "metadata": {},
   "source": [
    "### NASA"
   ]
  },
  {
   "cell_type": "code",
   "execution_count": null,
   "id": "4a76c8d0-240c-414f-8e88-bb653cc38282",
   "metadata": {},
   "outputs": [],
   "source": [
    "total_scores = {'dataset': [], 'f1': [], 'pr_auc': [], 'roc_auc': []}"
   ]
  },
  {
   "cell_type": "code",
   "execution_count": null,
   "id": "2bec506f-03ba-4ff5-a539-576461d3f6f3",
   "metadata": {},
   "outputs": [],
   "source": [
    "for loader in [load_nasa]:\n",
    "    datasets = loader(8, 4)\n",
    "    x_trains, x_tests, y_tests = datasets['x_train'], datasets['x_test'], datasets['y_test']\n",
    "    \n",
    "    for i in tqdm(range(len(x_trains))):\n",
    "        X_train = x_trains[i]\n",
    "        X_test = x_tests[i]\n",
    "\n",
    "        model = Hetero_TAD(X_train)\n",
    "        X_test = [X_test for _ in range(len(model.outputs))]\n",
    "        X_test_rec = [np.flip(rec, axis=1) for rec in model.predict(X_test)]\n",
    "        scores = evaluate(X_test[0], X_test_rec, y_tests[i], is_reconstructed=True, scoring='square_median')\n",
    "        \n",
    "        total_scores['dataset'].append(f'D{i+1}')\n",
    "        total_scores['f1'].append(np.max(scores['f1']))\n",
    "        total_scores['pr_auc'].append(scores['pr_auc'])\n",
    "        total_scores['roc_auc'].append(scores['roc_auc'])\n",
    "        print(f'D{i+1}', np.max(scores['f1']), scores['pr_auc'], scores['roc_auc'])   "
   ]
  },
  {
   "cell_type": "code",
   "execution_count": null,
   "id": "aa54a19a-5e17-4d33-86bd-d8a95582b438",
   "metadata": {},
   "outputs": [],
   "source": [
    "nasa_results = pd.DataFrame(total_scores)\n",
    "nasa_results.groupby('dataset').mean()"
   ]
  },
  {
   "cell_type": "markdown",
   "id": "0ac064c7-60c2-4977-b5bb-ac9369129ded",
   "metadata": {},
   "source": [
    "### SMD"
   ]
  },
  {
   "cell_type": "code",
   "execution_count": null,
   "id": "a83be971-b601-4769-bbb8-c5ea395b6572",
   "metadata": {},
   "outputs": [],
   "source": [
    "total_scores = {'dataset': [], 'f1': [], 'pr_auc': [], 'roc_auc': []}"
   ]
  },
  {
   "cell_type": "code",
   "execution_count": null,
   "id": "508947a2-0bed-4e4b-bda9-23d132ca16ec",
   "metadata": {},
   "outputs": [],
   "source": [
    "for loader in [load_smd]:\n",
    "    datasets = loader(8, 4)\n",
    "    x_trains, x_tests, y_tests = datasets['x_train'], datasets['x_test'], datasets['y_test']\n",
    "    \n",
    "    for i in tqdm(range(len(x_trains))):\n",
    "        X_train = x_trains[i]\n",
    "        X_test = x_tests[i]\n",
    "\n",
    "        model = Hetero_TAD(X_train)\n",
    "        X_test = [X_test for _ in range(len(model.outputs))]\n",
    "        X_test_rec = [np.flip(rec, axis=1) for rec in model.predict(X_test)]\n",
    "        scores = evaluate(X_test[0], X_test_rec, y_tests[i], is_reconstructed=True, scoring='square_median')\n",
    "        \n",
    "        total_scores['dataset'].append(loader.__name__.replace('load_', ''))\n",
    "        total_scores['f1'].append(np.max(scores['f1']))\n",
    "        total_scores['pr_auc'].append(scores['pr_auc'])\n",
    "        total_scores['roc_auc'].append(scores['roc_auc'])\n",
    "        print(loader.__name__.replace('load_', ''), np.max(scores['f1']), scores['pr_auc'], scores['roc_auc'])   "
   ]
  },
  {
   "cell_type": "code",
   "execution_count": null,
   "id": "6c5d8ddb-3e7c-475d-81f4-403074ae55db",
   "metadata": {},
   "outputs": [],
   "source": [
    "smd_results = pd.DataFrame(total_scores)\n",
    "smd_results.groupby('dataset').mean()"
   ]
  },
  {
   "cell_type": "markdown",
   "id": "de5cfdc7-5631-41a4-bac4-84b6975e46a9",
   "metadata": {},
   "source": [
    "### ECG"
   ]
  },
  {
   "cell_type": "code",
   "execution_count": null,
   "id": "dde51e6e-9fa2-4f36-9d54-8bef73fad5b3",
   "metadata": {},
   "outputs": [],
   "source": [
    "total_scores = {'dataset': [], 'f1': [], 'pr_auc': [], 'roc_auc': []}"
   ]
  },
  {
   "cell_type": "code",
   "execution_count": null,
   "id": "7a370859-5d52-4844-8570-d10e94bc6857",
   "metadata": {},
   "outputs": [],
   "source": [
    "for loader in [load_ecg]:\n",
    "    datasets = loader(4, 2)\n",
    "    x_trains, x_tests, y_tests = datasets['x_train'], datasets['x_test'], datasets['y_test']\n",
    "    \n",
    "    for i in tqdm(range(len(x_trains))):\n",
    "        tf.keras.backend.clear_session()\n",
    "\n",
    "        X_train = x_trains[i]\n",
    "        X_test = x_tests[i]\n",
    "\n",
    "        model = Hetero_TAD(X_train)\n",
    "        X_test = [X_test for _ in range(len(model.outputs))]\n",
    "        X_test_rec = [np.flip(rec, axis=1) for rec in model.predict(X_test)]\n",
    "        scores = evaluate(X_test[0], X_test_rec, y_tests[i], is_reconstructed=True, scoring='square_median')\n",
    "\n",
    "        total_scores['dataset'].append(f'D{i+1}')\n",
    "        total_scores['f1'].append(np.max(scores['f1']))\n",
    "        total_scores['pr_auc'].append(scores['pr_auc'])\n",
    "        total_scores['roc_auc'].append(scores['roc_auc'])\n",
    "        print(f'D{i+1}', np.max(scores['f1']), scores['pr_auc'], scores['roc_auc'])  "
   ]
  },
  {
   "cell_type": "code",
   "execution_count": null,
   "id": "647994fa-8099-4900-9bc0-60b0de7bb4b9",
   "metadata": {},
   "outputs": [],
   "source": [
    "ecg_results = pd.DataFrame(total_scores)\n",
    "ecg_results.groupby('dataset').mean()"
   ]
  },
  {
   "cell_type": "markdown",
   "id": "066b1b43-0758-4478-b91c-136380588607",
   "metadata": {},
   "source": [
    "### Power Demand"
   ]
  },
  {
   "cell_type": "code",
   "execution_count": null,
   "id": "c1ae67ae-17d2-4201-90b2-3d4c3861731a",
   "metadata": {},
   "outputs": [],
   "source": [
    "total_scores = {'dataset': [], 'f1': [], 'pr_auc': [], 'roc_auc': []}"
   ]
  },
  {
   "cell_type": "code",
   "execution_count": null,
   "id": "c485a47d-8c25-4caa-a398-80d25360b981",
   "metadata": {},
   "outputs": [],
   "source": [
    "for loader in [load_power_demand]:\n",
    "    datasets = loader(16, 8)\n",
    "    x_trains, x_tests, y_tests = datasets['x_train'], datasets['x_test'], datasets['y_test']\n",
    "    \n",
    "    for i in tqdm(range(len(x_trains))):\n",
    "        tf.keras.backend.clear_session()\n",
    "\n",
    "        X_train = x_trains[i]\n",
    "        X_test = x_tests[i]\n",
    "\n",
    "        model = Hetero_TAD(X_train)\n",
    "        X_test = [X_test for _ in range(len(model.outputs))]\n",
    "        X_test_rec = [np.flip(rec, axis=1) for rec in model.predict(X_test)]\n",
    "        scores = evaluate(X_test[0], X_test_rec, y_tests[i], is_reconstructed=True, scoring='square_median')\n",
    "\n",
    "        total_scores['dataset'].append(loader.__name__.replace('load_', ''))\n",
    "        total_scores['f1'].append(np.max(scores['f1']))\n",
    "        total_scores['pr_auc'].append(scores['pr_auc'])\n",
    "        total_scores['roc_auc'].append(scores['roc_auc'])\n",
    "        print(loader.__name__.replace('load_', ''), np.max(scores['f1']), scores['pr_auc'], scores['roc_auc']) "
   ]
  },
  {
   "cell_type": "code",
   "execution_count": null,
   "id": "c76a1a89-b2f4-4ebc-b4b9-4a364e5303f2",
   "metadata": {},
   "outputs": [],
   "source": [
    "power_results = pd.DataFrame(total_scores)\n",
    "power_results.groupby('dataset').mean()"
   ]
  },
  {
   "cell_type": "markdown",
   "id": "61f2165c-1cd4-4200-bf67-26207d393e05",
   "metadata": {},
   "source": [
    "### 2D Gesture"
   ]
  },
  {
   "cell_type": "code",
   "execution_count": null,
   "id": "2c61678d-28c7-4835-b1b2-ee6593988c67",
   "metadata": {},
   "outputs": [],
   "source": [
    "total_scores = {'dataset': [], 'f1': [], 'pr_auc': [], 'roc_auc': []}"
   ]
  },
  {
   "cell_type": "code",
   "execution_count": null,
   "id": "1f4638af-57eb-4bce-8a52-5bd01d7683a5",
   "metadata": {},
   "outputs": [],
   "source": [
    "for loader in [load_gesture]:\n",
    "    datasets = loader(4, 2)\n",
    "    x_trains, x_tests, y_tests = datasets['x_train'], datasets['x_test'], datasets['y_test']\n",
    "    \n",
    "    for i in tqdm(range(len(x_trains))):\n",
    "        tf.keras.backend.clear_session()\n",
    "\n",
    "        X_train = x_trains[i]\n",
    "        X_test = x_tests[i]\n",
    "\n",
    "        model = Hetero_TAD(X_train)\n",
    "        X_test = [X_test for _ in range(len(model.outputs))]\n",
    "        X_test_rec = [np.flip(rec, axis=1) for rec in model.predict(X_test)]\n",
    "        scores = evaluate(X_test[0], X_test_rec, y_tests[i], is_reconstructed=True, scoring='square_median')\n",
    "\n",
    "        total_scores['dataset'].append(loader.__name__.replace('load_', ''))\n",
    "        total_scores['f1'].append(np.max(scores['f1']))\n",
    "        total_scores['pr_auc'].append(scores['pr_auc'])\n",
    "        total_scores['roc_auc'].append(scores['roc_auc'])\n",
    "        print(loader.__name__.replace('load_', ''), np.max(scores['f1']), scores['pr_auc'], scores['roc_auc'])  "
   ]
  },
  {
   "cell_type": "code",
   "execution_count": null,
   "id": "7f7d848e-0877-46d0-b702-7a7ec9513970",
   "metadata": {},
   "outputs": [],
   "source": [
    "gesture_results = pd.DataFrame(total_scores)\n",
    "gesture_results.groupby('dataset').mean()"
   ]
  }
 ],
 "metadata": {
  "kernelspec": {
   "display_name": "Python 3",
   "language": "python",
   "name": "python3"
  },
  "language_info": {
   "codemirror_mode": {
    "name": "ipython",
    "version": 3
   },
   "file_extension": ".py",
   "mimetype": "text/x-python",
   "name": "python",
   "nbconvert_exporter": "python",
   "pygments_lexer": "ipython3",
   "version": "3.9.4"
  }
 },
 "nbformat": 4,
 "nbformat_minor": 5
}
