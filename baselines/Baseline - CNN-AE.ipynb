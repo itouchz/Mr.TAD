{
 "cells": [
  {
   "cell_type": "code",
   "execution_count": 1,
   "id": "a80a379b-932c-4401-8d76-b5ae5dedc6cc",
   "metadata": {},
   "outputs": [],
   "source": [
    "import os\n",
    "import random\n",
    "\n",
    "os.environ[\"CUDA_DEVICE_ORDER\"] = \"PCI_BUS_ID\";\n",
    "os.environ[\"CUDA_VISIBLE_DEVICES\"] = \"1\"\n",
    "os.environ[\"TF_FORCE_GPU_ALLOW_GROWTH\"] = \"true\""
   ]
  },
  {
   "cell_type": "code",
   "execution_count": 2,
   "id": "saving-behavior",
   "metadata": {},
   "outputs": [],
   "source": [
    "import numpy as np\n",
    "import pandas as pd\n",
    "import tensorflow as tf\n",
    "\n",
    "from evaluator import evaluate\n",
    "from data_loader import load_kdd_cup_urc, load_yahoo_A1, load_yahoo_A2, load_yahoo_A3, load_yahoo_A4, load_power_demand # Univariate Datasets\n",
    "from data_loader import load_nasa, load_ecg, load_gesture, load_smd # Multivariate Datasets\n",
    "\n",
    "from tensorflow import keras\n",
    "from tensorflow.keras import layers\n",
    "from tqdm.notebook import tqdm\n",
    "\n",
    "# THESE LINES ARE FOR REPRODUCIBILITY\n",
    "random.seed(0)\n",
    "np.random.seed(0)\n",
    "tf.random.set_seed(0)"
   ]
  },
  {
   "cell_type": "markdown",
   "id": "fa97c067-d18d-4c06-ae1b-2cbfe88788b6",
   "metadata": {},
   "source": [
    "### Yahoo S5"
   ]
  },
  {
   "cell_type": "code",
   "execution_count": 3,
   "id": "eight-partition",
   "metadata": {},
   "outputs": [],
   "source": [
    "total_scores = {'dataset': [], 'f1': [], 'pr_auc': [], 'roc_auc': []}"
   ]
  },
  {
   "cell_type": "code",
   "execution_count": 4,
   "id": "71866d92-1163-4975-bb99-4302ccda66c3",
   "metadata": {
    "scrolled": true,
    "tags": []
   },
   "outputs": [
    {
     "data": {
      "application/vnd.jupyter.widget-view+json": {
       "model_id": "92c85e8cdd4c45ac888e3a5e6d20cb06",
       "version_major": 2,
       "version_minor": 0
      },
      "text/plain": [
       "  0%|          | 0/67 [00:00<?, ?it/s]"
      ]
     },
     "metadata": {},
     "output_type": "display_data"
    },
    {
     "data": {
      "application/vnd.jupyter.widget-view+json": {
       "model_id": "3f1bf7934e6a4b5bbfdf7ffba08a74fb",
       "version_major": 2,
       "version_minor": 0
      },
      "text/plain": [
       "  0%|          | 0/67 [00:00<?, ?it/s]"
      ]
     },
     "metadata": {},
     "output_type": "display_data"
    },
    {
     "name": "stdout",
     "output_type": "stream",
     "text": [
      "yahoo_A1 0.9999999166666703 0.6249999596726211 0.9999999541666684\n",
      "yahoo_A1 0.0 0.0 -0.0\n",
      "yahoo_A1 0.9999998500000123 0.49999990000001493 0.9999998888889002\n",
      "yahoo_A1 0.0 0.0 0.0\n",
      "WARNING:tensorflow:5 out of the last 5 calls to <function Model.make_predict_function.<locals>.predict_function at 0x7f25c04fdca0> triggered tf.function retracing. Tracing is expensive and the excessive number of tracings could be due to (1) creating @tf.function repeatedly in a loop, (2) passing tensors with different shapes, (3) passing Python objects instead of tensors. For (1), please define your @tf.function outside of the loop. For (2), @tf.function has experimental_relax_shapes=True option that relaxes argument shapes that can avoid unnecessary retracing. For (3), please refer to https://www.tensorflow.org/guide/function#controlling_retracing and https://www.tensorflow.org/api_docs/python/tf/function for  more details.\n",
      "yahoo_A1 0.0 0.0 0.0\n",
      "WARNING:tensorflow:6 out of the last 6 calls to <function Model.make_predict_function.<locals>.predict_function at 0x7f25c0393940> triggered tf.function retracing. Tracing is expensive and the excessive number of tracings could be due to (1) creating @tf.function repeatedly in a loop, (2) passing tensors with different shapes, (3) passing Python objects instead of tensors. For (1), please define your @tf.function outside of the loop. For (2), @tf.function has experimental_relax_shapes=True option that relaxes argument shapes that can avoid unnecessary retracing. For (3), please refer to https://www.tensorflow.org/guide/function#controlling_retracing and https://www.tensorflow.org/api_docs/python/tf/function for  more details.\n",
      "yahoo_A1 0.0 0.0 -0.0\n",
      "yahoo_A1 0.0 0.0 0.0\n",
      "yahoo_A1 0.9999999166666703 0.49999996666666835 0.9999999523809541\n",
      "yahoo_A1 0.8888888197530895 0.8599999387944486 0.9599999576000013\n",
      "yahoo_A1 0.0 0.0 0.0\n",
      "yahoo_A1 0.8888888197530895 0.09999999688888896 0.8399999664000009\n",
      "yahoo_A1 0.9999999000000052 0.4999999500000039 0.9999999375000034\n",
      "yahoo_A1 0.933333271111114 0.7222221985179681 0.874999945312503\n",
      "yahoo_A1 0.999999930000003 0.8999999295000056 0.9999999600000011\n",
      "yahoo_A1 0.9999999000000052 0.7499999000000107 0.9999999375000035\n",
      "yahoo_A1 0.18181816198347142 0.0 0.0\n",
      "yahoo_A1 0.46153841893491365 0.0 0.0\n",
      "yahoo_A1 0.9999998500000123 0.49999990000001493 0.9999998888889001\n",
      "yahoo_A1 0.6666666133333363 0.1874999971817129 -0.0\n",
      "yahoo_A1 0.6666666133333363 0.14285714495488425 -0.0\n",
      "yahoo_A1 0.749999943750003 0.16666667039153382 -0.0\n",
      "yahoo_A1 0.749999943750003 0.0 0.0\n",
      "yahoo_A1 0.0 0.0 0.0\n",
      "yahoo_A1 0.0 0.0 0.0\n",
      "yahoo_A1 0.9999999357142885 0.7857142538945588 0.9999999523809541\n",
      "yahoo_A1 0.9999999357142885 0.7499999704166675 0.9999999523809542\n",
      "yahoo_A1 0.0 0.0 0.0\n",
      "yahoo_A1 0.9230768591716004 0.7678571110593831 0.9523809054421786\n",
      "yahoo_A1 0.0 0.0 0.0\n",
      "yahoo_A1 0.0 0.0 0.0\n",
      "yahoo_A1 0.6666666133333363 2.3611109670614528e-09 0.0\n",
      "yahoo_A1 0.6666666133333363 0.0 0.0\n",
      "yahoo_A1 0.6666666133333363 0.0 0.0\n",
      "yahoo_A1 0.9999998500000123 0.49999990000001493 0.9999998888889001\n",
      "yahoo_A1 0.9999999400000027 1.499999931327104e-08 0.0\n",
      "yahoo_A1 0.9999999250000032 0.49999997500000093 0.9999999583333348\n",
      "yahoo_A1 0.9999999000000052 0.4999999500000039 0.9999999375000035\n",
      "yahoo_A1 0.666666611111114 0.0 0.33333331944444494\n",
      "yahoo_A1 0.0 0.0 0.0\n",
      "yahoo_A1 0.9999999250000032 0.6249999645833348 0.9999999583333348\n",
      "yahoo_A1 0.749999943750003 0.21428571253401346 -0.0\n",
      "yahoo_A1 0.6666666133333363 0.0 0.0\n",
      "yahoo_A1 0.0 0.0 0.0\n",
      "yahoo_A1 0.0 0.0 0.0\n",
      "yahoo_A1 0.0 0.0 0.0\n",
      "yahoo_A1 0.0 0.0 0.0\n",
      "yahoo_A1 0.7999999340000034 0.1371428509162134 0.759999966600001\n",
      "yahoo_A1 0.749999943750003 0.0 0.0\n",
      "yahoo_A1 0.46153841893491365 0.0 0.0\n",
      "yahoo_A1 0.0 0.0 0.0\n",
      "yahoo_A1 0.8888888296296326 0.0 0.0\n",
      "yahoo_A1 0.8888888296296326 0.24444443886276473 0.733333283111114\n",
      "yahoo_A1 0.749999943750003 0.1666666704761899 -0.0\n",
      "yahoo_A1 0.9999998500000123 0.49999990000001493 0.9999998888889001\n",
      "yahoo_A1 0.0 0.0 0.0\n",
      "yahoo_A1 0.0 0.0 0.0\n",
      "yahoo_A1 0.9999999250000032 0.6249999645833348 0.9999999583333348\n",
      "yahoo_A1 0.0 0.0 0.0\n",
      "yahoo_A1 0.0 0.0 0.0\n",
      "yahoo_A1 0.0 0.0 0.0\n",
      "yahoo_A1 0.0 0.0 -0.0\n",
      "yahoo_A1 0.9090908429752097 0.8533332736537081 0.9166666259722236\n",
      "yahoo_A1 0.9999999250000032 0.6249999645833348 0.9999999583333347\n",
      "yahoo_A1 0.9999998500000123 0.49999990000001493 0.9999998888889001\n",
      "yahoo_A1 0.9999999166666703 0.8333332500000072 0.9999999523809541\n",
      "yahoo_A1 0.9999999250000032 0.6999999625277793 0.9999999550000014\n",
      "yahoo_A1 0.5714285224489823 0.0 0.0\n"
     ]
    },
    {
     "data": {
      "application/vnd.jupyter.widget-view+json": {
       "model_id": "879589e5a2974e1fafb2ca58b4319ea5",
       "version_major": 2,
       "version_minor": 0
      },
      "text/plain": [
       "  0%|          | 0/100 [00:00<?, ?it/s]"
      ]
     },
     "metadata": {},
     "output_type": "display_data"
    },
    {
     "data": {
      "application/vnd.jupyter.widget-view+json": {
       "model_id": "02528e94786e4ca387e5e947239b26c3",
       "version_major": 2,
       "version_minor": 0
      },
      "text/plain": [
       "  0%|          | 0/100 [00:00<?, ?it/s]"
      ]
     },
     "metadata": {},
     "output_type": "display_data"
    },
    {
     "name": "stdout",
     "output_type": "stream",
     "text": [
      "yahoo_A2 0.0 0.0 -0.0\n",
      "yahoo_A2 0.0 0.0 0.0\n",
      "yahoo_A2 0.0 0.0 0.0\n",
      "yahoo_A2 0.0 0.0 0.0\n",
      "yahoo_A2 0.0 0.0 0.0\n",
      "yahoo_A2 0.0 0.0 0.0\n",
      "yahoo_A2 0.0 0.0 0.0\n",
      "yahoo_A2 0.0 0.0 -0.0\n",
      "yahoo_A2 0.0 0.0 0.0\n",
      "yahoo_A2 0.0 0.0 0.0\n",
      "yahoo_A2 0.0 0.0 0.0\n",
      "yahoo_A2 0.0 0.0 0.0\n",
      "yahoo_A2 0.0 0.0 0.0\n",
      "yahoo_A2 0.0 0.0 0.0\n",
      "yahoo_A2 0.0 0.0 0.0\n",
      "yahoo_A2 0.0 0.0 0.0\n",
      "yahoo_A2 0.0 0.0 0.0\n",
      "yahoo_A2 0.0 0.0 0.0\n",
      "yahoo_A2 0.0 0.0 0.0\n",
      "yahoo_A2 0.0 0.0 0.0\n",
      "yahoo_A2 0.0 0.0 0.0\n",
      "yahoo_A2 0.0 0.0 0.0\n",
      "yahoo_A2 0.0 0.0 0.0\n",
      "yahoo_A2 0.0 0.0 0.0\n",
      "yahoo_A2 0.0 0.0 0.0\n",
      "yahoo_A2 0.0 0.0 0.0\n",
      "yahoo_A2 0.0 0.0 0.0\n",
      "yahoo_A2 0.0 0.0 0.0\n",
      "yahoo_A2 0.0 0.0 0.0\n",
      "yahoo_A2 0.0 0.0 0.0\n",
      "yahoo_A2 0.0 0.0 -0.0\n",
      "yahoo_A2 0.0 0.0 0.0\n",
      "yahoo_A2 0.0 0.0 0.0\n",
      "yahoo_A2 0.0 0.0 0.0\n",
      "yahoo_A2 0.0 0.0 0.0\n",
      "yahoo_A2 0.0 0.0 0.0\n",
      "yahoo_A2 0.0 0.0 0.0\n",
      "yahoo_A2 0.0 0.0 0.0\n",
      "yahoo_A2 0.0 0.0 0.0\n",
      "yahoo_A2 0.0 0.0 0.0\n",
      "yahoo_A2 0.0 0.0 -0.0\n",
      "yahoo_A2 0.0 0.0 0.0\n",
      "yahoo_A2 0.0 0.0 0.0\n",
      "yahoo_A2 0.0 0.0 0.0\n",
      "yahoo_A2 0.0 0.0 0.0\n",
      "yahoo_A2 0.0 0.0 0.0\n",
      "yahoo_A2 0.0 0.0 0.0\n",
      "yahoo_A2 0.0 0.0 0.0\n",
      "yahoo_A2 0.0 0.0 0.0\n",
      "yahoo_A2 0.0 0.0 0.0\n",
      "yahoo_A2 0.0 0.0 0.0\n",
      "yahoo_A2 0.0 0.0 0.0\n",
      "yahoo_A2 0.0 0.0 0.0\n",
      "yahoo_A2 0.0 0.0 0.0\n",
      "yahoo_A2 0.0 0.0 0.0\n",
      "yahoo_A2 0.0 0.0 0.0\n",
      "yahoo_A2 0.0 0.0 0.0\n",
      "yahoo_A2 0.0 0.0 0.0\n",
      "yahoo_A2 0.0 0.0 0.0\n",
      "yahoo_A2 0.0 0.0 0.0\n",
      "yahoo_A2 0.0 0.0 0.0\n",
      "yahoo_A2 0.0 0.0 -0.0\n",
      "yahoo_A2 0.0 0.0 0.0\n",
      "yahoo_A2 0.0 0.0 0.0\n",
      "yahoo_A2 0.0 0.0 0.0\n",
      "yahoo_A2 0.0 0.0 0.0\n",
      "yahoo_A2 0.0 0.0 0.0\n",
      "yahoo_A2 0.0 0.0 0.0\n",
      "yahoo_A2 0.0 0.0 0.0\n",
      "yahoo_A2 0.0 0.0 0.0\n",
      "yahoo_A2 0.0 0.0 0.0\n",
      "yahoo_A2 0.0 0.0 0.0\n",
      "yahoo_A2 0.0 0.0 0.0\n",
      "yahoo_A2 0.0 0.0 0.0\n",
      "yahoo_A2 0.0 0.0 0.0\n",
      "yahoo_A2 0.0 0.0 0.0\n",
      "yahoo_A2 0.0 0.0 -0.0\n",
      "yahoo_A2 0.0 0.0 0.0\n",
      "yahoo_A2 0.0 0.0 0.0\n",
      "yahoo_A2 0.0 0.0 0.0\n",
      "yahoo_A2 0.0 0.0 0.0\n",
      "yahoo_A2 0.0 0.0 0.0\n",
      "yahoo_A2 0.0 0.0 0.0\n",
      "yahoo_A2 0.0 0.0 0.0\n",
      "yahoo_A2 0.0 0.0 0.0\n",
      "yahoo_A2 0.0 0.0 0.0\n",
      "yahoo_A2 0.0 0.0 0.0\n",
      "yahoo_A2 0.0 0.0 0.0\n",
      "yahoo_A2 0.0 0.0 0.0\n",
      "yahoo_A2 0.0 0.0 0.0\n",
      "yahoo_A2 0.0 0.0 0.0\n",
      "yahoo_A2 0.0 0.0 0.0\n",
      "yahoo_A2 0.0 0.0 0.0\n",
      "yahoo_A2 0.0 0.0 0.0\n",
      "yahoo_A2 0.0 0.0 0.0\n",
      "yahoo_A2 0.0 0.0 0.0\n",
      "yahoo_A2 0.0 0.0 0.0\n",
      "yahoo_A2 0.0 0.0 0.0\n",
      "yahoo_A2 0.0 0.0 0.0\n",
      "yahoo_A2 0.0 0.0 0.0\n"
     ]
    },
    {
     "data": {
      "application/vnd.jupyter.widget-view+json": {
       "model_id": "7c75201c26e44a598d1956390df0b46d",
       "version_major": 2,
       "version_minor": 0
      },
      "text/plain": [
       "  0%|          | 0/100 [00:00<?, ?it/s]"
      ]
     },
     "metadata": {},
     "output_type": "display_data"
    },
    {
     "data": {
      "application/vnd.jupyter.widget-view+json": {
       "model_id": "59a18c6d88ab423491a7502ea058314d",
       "version_major": 2,
       "version_minor": 0
      },
      "text/plain": [
       "  0%|          | 0/100 [00:00<?, ?it/s]"
      ]
     },
     "metadata": {},
     "output_type": "display_data"
    },
    {
     "name": "stdout",
     "output_type": "stream",
     "text": [
      "yahoo_A3 0.4999999562500026 0.0 0.0\n",
      "yahoo_A3 0.5882352456747433 0.3333333181018525 0.3999999862857146\n",
      "yahoo_A3 0.736842050969532 0.09375000223007586 0.1499999932500002\n",
      "yahoo_A3 0.4999999562500026 0.0 0.0\n",
      "yahoo_A3 0.8571428000000028 0.0 0.0\n",
      "yahoo_A3 0.4999999562500026 0.0 0.0\n",
      "yahoo_A3 0.736842050969532 0.6038094868851309 0.6099999733500008\n",
      "yahoo_A3 0.6666666148148177 1.5909090497462517e-09 0.0\n",
      "yahoo_A3 0.799999944000003 0.0 0.0\n",
      "yahoo_A3 0.0 0.0 0.0\n",
      "yahoo_A3 0.9565216809073751 0.37499999154200714 0.41666660694445123\n",
      "yahoo_A3 0.9565216809073751 8.298898041037347e-10 0.0\n",
      "yahoo_A3 0.799999944000003 1.1634199478898787e-09 0.0\n",
      "yahoo_A3 0.28571425714285853 0.0 0.0\n",
      "yahoo_A3 0.736842050969532 1.3437949874070837e-09 0.0\n",
      "yahoo_A3 0.15384613727810673 0.0 0.0\n",
      "yahoo_A3 0.9090908512396723 2.041245759923482e-09 0.0\n",
      "yahoo_A3 0.4999999562500026 0.0 0.0\n",
      "yahoo_A3 0.4999999562500026 0.10000000046464622 0.0\n",
      "yahoo_A3 0.5882352456747433 0.0 0.0\n",
      "yahoo_A3 0.28571425714285853 0.0 0.0\n",
      "yahoo_A3 0.28571425714285853 0.0 0.0\n",
      "yahoo_A3 0.736842050969532 0.0 0.0\n",
      "yahoo_A3 0.9565216809073751 0.0 0.0\n",
      "yahoo_A3 0.3999999626666689 0.0 0.0\n",
      "yahoo_A3 0.4999999562500026 0.0 0.0\n",
      "yahoo_A3 0.736842050969532 0.0 0.0\n",
      "yahoo_A3 0.5882352456747433 0.0 0.0\n",
      "yahoo_A3 0.0 0.0 0.0\n",
      "yahoo_A3 0.4999999562500026 0.0 0.0\n",
      "yahoo_A3 0.6666666148148177 3.727272557922019e-09 0.0\n",
      "yahoo_A3 0.8571428000000028 0.0 0.0\n",
      "yahoo_A3 0.0 0.0 0.0\n",
      "yahoo_A3 0.9999999416666693 0.44444443577511245 0.0\n",
      "yahoo_A3 0.9565216809073751 0.0 0.0\n",
      "yahoo_A3 0.7692307100591745 0.5611110784294755 0.6799999712444453\n",
      "yahoo_A3 0.9565216809073751 8.298898041037347e-10 0.0\n",
      "yahoo_A3 0.8571428000000028 0.1250000242900273 -0.0\n",
      "yahoo_A3 0.9090908512396723 0.0 0.0\n",
      "yahoo_A3 0.8571428000000028 0.0 0.0\n",
      "yahoo_A3 0.799999944000003 0.0 0.0\n",
      "yahoo_A3 0.736842050969532 5.456348912221588e-09 0.0\n",
      "yahoo_A3 0.9090908512396723 0.0 0.0\n",
      "yahoo_A3 0.15384613727810673 0.0 0.0\n",
      "yahoo_A3 0.9999999416666693 0.0 0.0\n",
      "yahoo_A3 0.28571425714285853 0.0 0.0\n",
      "yahoo_A3 0.4999999562500026 0.1666666617845119 0.24999998854166702\n",
      "yahoo_A3 0.8571428000000028 1.025883832329092e-09 0.0\n",
      "yahoo_A3 0.0 0.0 0.0\n",
      "yahoo_A3 0.9565216809073751 0.0 0.0\n",
      "yahoo_A3 0.9999999416666693 7.57575662263717e-10 0.0\n",
      "yahoo_A3 0.8571428000000028 6.081349043610288e-09 0.0\n",
      "yahoo_A3 0.0 0.0 0.0\n",
      "yahoo_A3 0.0 0.0 0.0\n",
      "yahoo_A3 0.3999999626666689 3.5984844918507733e-09 0.0\n",
      "yahoo_A3 0.5882352456747433 0.0 0.0\n",
      "yahoo_A3 0.6666666148148177 0.0 0.0\n",
      "yahoo_A3 0.736842050969532 0.08333335199614954 -0.0\n",
      "yahoo_A3 0.799999944000003 3.350107829724741e-08 0.0\n",
      "yahoo_A3 0.9999999400000027 0.12499999998167549 0.9999998900000111\n",
      "yahoo_A3 0.9999998500000123 0.8333331930364138 0.999999866666681\n",
      "yahoo_A3 0.6666666148148177 1.5909090497462517e-09 0.0\n",
      "yahoo_A3 0.8571428000000028 1.025883832329092e-09 0.0\n",
      "yahoo_A3 0.4999999562500026 0.0 0.0\n",
      "yahoo_A3 0.9090908512396723 0.0 0.0\n",
      "yahoo_A3 0.9565216809073751 0.0 0.0\n",
      "yahoo_A3 0.799999944000003 0.0 0.0\n",
      "yahoo_A3 0.8571428000000028 9.087977637249961e-09 0.0\n",
      "yahoo_A3 0.4999999562500026 2.5252523422138635e-09 0.0\n",
      "yahoo_A3 0.799999944000003 1.1634199478898787e-09 0.0\n",
      "yahoo_A3 0.0 0.0 -0.0\n",
      "yahoo_A3 0.8571428000000028 0.0 0.0\n",
      "yahoo_A3 0.0 0.0 -0.0\n",
      "yahoo_A3 0.8571428000000028 0.0 0.0\n",
      "yahoo_A3 0.6666666148148177 0.0 0.0\n",
      "yahoo_A3 0.9999999416666693 0.0 0.0\n",
      "yahoo_A3 0.9090908512396723 9.175083937556412e-10 0.0\n",
      "yahoo_A3 0.28571425714285853 0.0 0.0\n",
      "yahoo_A3 0.736842050969532 0.19576719138505716 0.13333332844444457\n",
      "yahoo_A3 0.6666666148148177 0.16666666604208744 -0.0\n",
      "yahoo_A3 0.799999944000003 1.1634199478898787e-09 0.0\n",
      "yahoo_A3 0.6666666148148177 3.749999826608291e-09 0.0\n",
      "yahoo_A3 0.4999999562500026 0.0 0.0\n",
      "yahoo_A3 0.4999999562500026 0.0 0.0\n",
      "yahoo_A3 0.799999944000003 0.0 0.0\n",
      "yahoo_A3 0.5882352456747433 0.0 0.0\n",
      "yahoo_A3 0.4999999562500026 0.0 0.0\n",
      "yahoo_A3 0.8571428000000028 0.0 0.0\n",
      "yahoo_A3 0.9090908512396723 0.48642855970474846 -0.0\n",
      "yahoo_A3 0.799999944000003 0.0 0.0\n",
      "yahoo_A3 0.8571428000000028 0.2343749955390739 0.0\n",
      "yahoo_A3 0.6666666148148177 3.727272557922019e-09 0.0\n",
      "yahoo_A3 0.5882352456747433 0.06250001092329402 -0.0\n",
      "yahoo_A3 0.6666666148148177 0.0 0.0\n",
      "yahoo_A3 0.5882352456747433 0.0 0.0\n",
      "yahoo_A3 0.9090908512396723 0.4583333132934523 0.29166664340277926\n",
      "yahoo_A3 0.5882352456747433 0.0 0.0\n",
      "yahoo_A3 0.6666666148148177 1.1666665769589193e-08 0.0\n",
      "yahoo_A3 0.736842050969532 0.0 0.0\n",
      "yahoo_A3 0.666666611111114 0.24999999146825413 0.7499999656250014\n"
     ]
    },
    {
     "data": {
      "application/vnd.jupyter.widget-view+json": {
       "model_id": "cea62d30a8c340199f9d6d5a82af407b",
       "version_major": 2,
       "version_minor": 0
      },
      "text/plain": [
       "  0%|          | 0/100 [00:00<?, ?it/s]"
      ]
     },
     "metadata": {},
     "output_type": "display_data"
    },
    {
     "data": {
      "application/vnd.jupyter.widget-view+json": {
       "model_id": "f0d5c37e1cf94dd1951acfe2938b0cb0",
       "version_major": 2,
       "version_minor": 0
      },
      "text/plain": [
       "  0%|          | 0/100 [00:00<?, ?it/s]"
      ]
     },
     "metadata": {},
     "output_type": "display_data"
    },
    {
     "name": "stdout",
     "output_type": "stream",
     "text": [
      "yahoo_A4 0.6666666148148177 0.0 0.0\n",
      "yahoo_A4 0.0 0.0 0.0\n",
      "yahoo_A4 0.666666611111114 0.24999999136904782 0.6249999755208341\n",
      "yahoo_A4 0.6666666148148177 0.0 0.0\n",
      "yahoo_A4 0.4999999562500026 0.13636363310376495 -0.0\n",
      "yahoo_A4 0.9090908512396723 0.5164285573559391 0.3642856900102054\n",
      "yahoo_A4 0.736842050969532 0.16388889373250287 0.13333331955555686\n",
      "yahoo_A4 0.4999999562500026 0.0 0.0\n",
      "yahoo_A4 0.0 0.0 0.0\n",
      "yahoo_A4 0.5882352456747433 0.0 0.0\n",
      "yahoo_A4 0.0 0.0 -0.0\n",
      "yahoo_A4 0.9090908512396723 2.041245759923482e-09 0.0\n",
      "yahoo_A4 0.736842050969532 0.14285714819367076 0.0\n",
      "yahoo_A4 0.9090908512396723 0.0 0.0\n",
      "yahoo_A4 0.6666666148148177 1.5909090497462517e-09 0.0\n",
      "yahoo_A4 0.736842050969532 8.919552108972998e-09 0.0\n",
      "yahoo_A4 0.0 0.0 0.0\n",
      "yahoo_A4 0.3999999626666689 0.0 0.0\n",
      "yahoo_A4 0.15384613727810673 0.04166666215277823 -0.0\n",
      "yahoo_A4 0.4999999562500026 0.0 0.0\n",
      "yahoo_A4 0.9090908512396723 0.0 0.0\n",
      "yahoo_A4 0.8571428000000028 1.025883832329092e-09 0.0\n",
      "yahoo_A4 0.9999999416666693 0.0 0.0\n",
      "yahoo_A4 0.9565216809073751 0.0 0.0\n",
      "yahoo_A4 0.4999999562500026 2.5252523422138635e-09 0.0\n",
      "yahoo_A4 0.736842050969532 0.1875000004204994 0.0\n",
      "yahoo_A4 0.799999944000003 0.0 0.0\n",
      "yahoo_A4 0.4999999562500026 0.05555556604938112 0.0\n",
      "yahoo_A4 0.6666666148148177 1.5909090497462517e-09 0.0\n",
      "yahoo_A4 0.799999944000003 0.0 0.0\n",
      "yahoo_A4 0.9999999416666693 2.499999843905151e-08 0.0\n",
      "yahoo_A4 0.0 0.0 0.0\n",
      "yahoo_A4 0.4999999562500026 0.0 0.0\n",
      "yahoo_A4 0.8571428000000028 0.0 0.0\n",
      "yahoo_A4 0.9565216809073751 0.0 0.0\n",
      "yahoo_A4 0.15384613727810673 0.04166666215277823 -0.0\n",
      "yahoo_A4 0.6666666148148177 0.0 0.0\n",
      "yahoo_A4 0.4999999562500026 0.13636363310376495 -0.0\n",
      "yahoo_A4 0.5882352456747433 0.0 0.0\n",
      "yahoo_A4 0.799999944000003 0.0 0.0\n",
      "yahoo_A4 0.8571428000000028 2.1230833587541432e-08 0.0\n",
      "yahoo_A4 0.736842050969532 0.1875000002679321 -0.0\n",
      "yahoo_A4 0.0 0.0 0.0\n",
      "yahoo_A4 0.9090908512396723 0.0 0.0\n",
      "yahoo_A4 0.736842050969532 0.1500000056814567 0.19999997600000247\n",
      "yahoo_A4 0.0 0.0 0.0\n",
      "yahoo_A4 0.5882352456747433 1.950757460325847e-09 0.0\n",
      "yahoo_A4 0.0 0.0 0.0\n",
      "yahoo_A4 0.9090908512396723 0.0 0.0\n",
      "yahoo_A4 0.0 0.0 0.0\n",
      "yahoo_A4 0.0 0.0 0.0\n",
      "yahoo_A4 0.0 0.0 0.0\n",
      "yahoo_A4 0.799999944000003 0.0 0.0\n",
      "yahoo_A4 0.4999999562500026 0.0 0.0\n",
      "yahoo_A4 0.5882352456747433 1.950757460325847e-09 0.0\n",
      "yahoo_A4 0.0 0.0 0.0\n",
      "yahoo_A4 0.4999999562500026 0.0 0.0\n",
      "yahoo_A4 0.6666666148148177 0.3214285611801693 0.4833333111666675\n",
      "yahoo_A4 0.4999999562500026 0.0 0.0\n",
      "yahoo_A4 0.736842050969532 1.3437949874070837e-09 0.0\n",
      "yahoo_A4 0.736842050969532 1.3437949874070837e-09 0.0\n",
      "yahoo_A4 0.0 0.0 0.0\n",
      "yahoo_A4 0.799999944000003 0.0 0.0\n",
      "yahoo_A4 0.0 0.0 -0.0\n",
      "yahoo_A4 0.736842050969532 0.11805556638482895 0.16666665611111164\n",
      "yahoo_A4 0.4999999562500026 0.0 0.0\n",
      "yahoo_A4 0.3999999626666689 0.0 0.0\n",
      "yahoo_A4 0.9090908512396723 0.0 0.0\n",
      "yahoo_A4 0.6666666148148177 3.727272557922019e-09 0.0\n",
      "yahoo_A4 0.6666666148148177 1.5909090497462517e-09 0.0\n",
      "yahoo_A4 0.0 0.0 0.0\n",
      "yahoo_A4 0.4999999562500026 2.5252523422138635e-09 0.0\n",
      "yahoo_A4 0.5454544958677713 0.18749999140625034 0.4444444246913588\n",
      "yahoo_A4 0.799999944000003 0.0 0.0\n",
      "yahoo_A4 0.6666666148148177 0.0 0.0\n",
      "yahoo_A4 0.8571428000000028 0.0 0.0\n",
      "yahoo_A4 0.8571428000000028 0.424999989450745 0.3999999786666675\n",
      "yahoo_A4 0.0 0.0 0.0\n",
      "yahoo_A4 0.8571428000000028 0.0 0.0\n",
      "yahoo_A4 0.3999999626666689 0.0 0.0\n",
      "yahoo_A4 0.6666666148148177 0.0 0.0\n",
      "yahoo_A4 0.6666666148148177 0.0 0.0\n",
      "yahoo_A4 0.0 0.0 0.0\n",
      "yahoo_A4 0.3999999626666689 0.0 0.0\n",
      "yahoo_A4 0.6666666148148177 0.0 0.0\n",
      "yahoo_A4 0.8571428000000028 0.0 0.0\n",
      "yahoo_A4 0.28571425714285853 0.0 0.0\n",
      "yahoo_A4 0.9090908512396723 9.175083937556412e-10 0.0\n",
      "yahoo_A4 0.8571428000000028 0.0 0.0\n",
      "yahoo_A4 0.0 0.0 0.0\n",
      "yahoo_A4 0.799999944000003 0.0 0.0\n",
      "yahoo_A4 0.799999944000003 0.35178570699789363 -0.0\n",
      "yahoo_A4 0.9090908512396723 0.0972222219901896 0.0\n",
      "yahoo_A4 0.6666666148148177 0.0 0.0\n",
      "yahoo_A4 0.5882352456747433 0.14999999821590904 -0.0\n",
      "yahoo_A4 0.736842050969532 0.0 0.0\n",
      "yahoo_A4 0.0 0.0 0.0\n",
      "yahoo_A4 0.799999944000003 0.1000000200251298 -0.0\n",
      "yahoo_A4 0.8571428000000028 0.1904761889065721 0.0\n",
      "yahoo_A4 0.3999999626666689 0.0 0.0\n"
     ]
    }
   ],
   "source": [
    "for loader in [load_yahoo_A1, load_yahoo_A2, load_yahoo_A3, load_yahoo_A4]:\n",
    "    datasets = loader(128, 32)\n",
    "    x_trains, x_tests, y_tests = datasets['x_train'], datasets['x_test'], datasets['y_test']\n",
    "    \n",
    "    for i in tqdm(range(len(x_trains))):\n",
    "        X_train = x_trains[i]\n",
    "        X_test = x_tests[i]\n",
    "        \n",
    "        Conv1D = layers.Conv1D\n",
    "        Conv1DT = layers.Conv1DTranspose\n",
    "        Dropout = layers.Dropout\n",
    "        \n",
    "        model = keras.Sequential(\n",
    "            [\n",
    "                layers.InputLayer(input_shape=(X_train.shape[1], X_train.shape[2])),\n",
    "                Conv1D(32, 7, padding='same', strides=2, activation='relu'),\n",
    "                Dropout(0.2),\n",
    "                Conv1D(16, 7, padding='same', strides=2, activation='relu'),\n",
    "                Conv1DT(16, 7, padding='same', strides=2, activation='relu'),\n",
    "                Dropout(0.2),\n",
    "                Conv1DT(32, 7, padding='same', strides=2, activation='relu'),\n",
    "                Conv1DT(1, 7, padding='same')\n",
    "            ]\n",
    "        )\n",
    "        model.compile(optimizer=keras.optimizers.Adam(learning_rate=0.001), loss=\"mse\")\n",
    "        history = model.fit(X_train, X_train, epochs=50, batch_size=128, validation_split=0.3, verbose=0,\n",
    "                        callbacks=[keras.callbacks.EarlyStopping(monitor=\"val_loss\", patience=5, mode=\"min\", restore_best_weights=True)])    \n",
    "        \n",
    "        scores = evaluate(X_test, model.predict(X_test), y_tests[i], is_reconstructed=True)\n",
    "    \n",
    "        total_scores['dataset'].append(loader.__name__.replace('load_', ''))\n",
    "        total_scores['f1'].append(np.max(scores['f1']))\n",
    "        total_scores['pr_auc'].append(scores['pr_auc'])\n",
    "        total_scores['roc_auc'].append(scores['roc_auc'])\n",
    "        print(loader.__name__.replace('load_', ''), np.max(scores['f1']), scores['pr_auc'], scores['roc_auc'])   "
   ]
  },
  {
   "cell_type": "code",
   "execution_count": 5,
   "id": "bd9e37fd-124c-4f5c-8f1f-a9d61a4b0315",
   "metadata": {},
   "outputs": [],
   "source": [
    "yahoo_results = pd.DataFrame(total_scores)"
   ]
  },
  {
   "cell_type": "code",
   "execution_count": 6,
   "id": "dd0ffd29-f548-4ff5-bced-b8ea85ef0697",
   "metadata": {},
   "outputs": [
    {
     "data": {
      "text/html": [
       "<div>\n",
       "<style scoped>\n",
       "    .dataframe tbody tr th:only-of-type {\n",
       "        vertical-align: middle;\n",
       "    }\n",
       "\n",
       "    .dataframe tbody tr th {\n",
       "        vertical-align: top;\n",
       "    }\n",
       "\n",
       "    .dataframe thead th {\n",
       "        text-align: right;\n",
       "    }\n",
       "</style>\n",
       "<table border=\"1\" class=\"dataframe\">\n",
       "  <thead>\n",
       "    <tr style=\"text-align: right;\">\n",
       "      <th></th>\n",
       "      <th>f1</th>\n",
       "      <th>pr_auc</th>\n",
       "      <th>roc_auc</th>\n",
       "    </tr>\n",
       "    <tr>\n",
       "      <th>dataset</th>\n",
       "      <th></th>\n",
       "      <th></th>\n",
       "      <th></th>\n",
       "    </tr>\n",
       "  </thead>\n",
       "  <tbody>\n",
       "    <tr>\n",
       "      <th>yahoo_A1</th>\n",
       "      <td>0.555433</td>\n",
       "      <td>0.243015</td>\n",
       "      <td>0.378667</td>\n",
       "    </tr>\n",
       "    <tr>\n",
       "      <th>yahoo_A2</th>\n",
       "      <td>0.000000</td>\n",
       "      <td>0.000000</td>\n",
       "      <td>0.000000</td>\n",
       "    </tr>\n",
       "    <tr>\n",
       "      <th>yahoo_A3</th>\n",
       "      <td>0.650213</td>\n",
       "      <td>0.056989</td>\n",
       "      <td>0.056817</td>\n",
       "    </tr>\n",
       "    <tr>\n",
       "      <th>yahoo_A4</th>\n",
       "      <td>0.557909</td>\n",
       "      <td>0.039513</td>\n",
       "      <td>0.028171</td>\n",
       "    </tr>\n",
       "  </tbody>\n",
       "</table>\n",
       "</div>"
      ],
      "text/plain": [
       "                f1    pr_auc   roc_auc\n",
       "dataset                               \n",
       "yahoo_A1  0.555433  0.243015  0.378667\n",
       "yahoo_A2  0.000000  0.000000  0.000000\n",
       "yahoo_A3  0.650213  0.056989  0.056817\n",
       "yahoo_A4  0.557909  0.039513  0.028171"
      ]
     },
     "execution_count": 6,
     "metadata": {},
     "output_type": "execute_result"
    }
   ],
   "source": [
    "yahoo_results.groupby('dataset').mean()"
   ]
  },
  {
   "cell_type": "markdown",
   "id": "8890a678-6116-4222-b0ff-395fcd7f41aa",
   "metadata": {},
   "source": [
    "### NASA"
   ]
  },
  {
   "cell_type": "code",
   "execution_count": 7,
   "id": "e4387a80-585a-488e-94a8-546f42d47632",
   "metadata": {},
   "outputs": [],
   "source": [
    "total_scores = {'dataset': [], 'f1': [], 'pr_auc': [], 'roc_auc': []}"
   ]
  },
  {
   "cell_type": "code",
   "execution_count": 8,
   "id": "106a238d-c5cb-49e9-9764-b1bc37f09436",
   "metadata": {},
   "outputs": [
    {
     "data": {
      "application/vnd.jupyter.widget-view+json": {
       "model_id": "462a945200df4ea286061fd5af28a426",
       "version_major": 2,
       "version_minor": 0
      },
      "text/plain": [
       "  0%|          | 0/2 [00:00<?, ?it/s]"
      ]
     },
     "metadata": {},
     "output_type": "display_data"
    },
    {
     "data": {
      "application/vnd.jupyter.widget-view+json": {
       "model_id": "e9e786e0cec04651942ceca7d2edaf8c",
       "version_major": 2,
       "version_minor": 0
      },
      "text/plain": [
       "  0%|          | 0/2 [00:00<?, ?it/s]"
      ]
     },
     "metadata": {},
     "output_type": "display_data"
    },
    {
     "name": "stdout",
     "output_type": "stream",
     "text": [
      "D1 0.26518389430215916 0.10912352302916584 0.38436451175346664\n",
      "D2 0.2699530282282525 0.5759837005969313 0.513043477732262\n"
     ]
    }
   ],
   "source": [
    "for loader in [load_nasa]:\n",
    "    datasets = loader(100, 100)\n",
    "    x_trains, x_tests, y_tests = datasets['x_train'], datasets['x_test'], datasets['y_test']\n",
    "    \n",
    "    for i in tqdm(range(len(x_trains))):\n",
    "        X_train = x_trains[i]\n",
    "        X_test = x_tests[i]\n",
    "        \n",
    "        Conv1D = layers.Conv1D\n",
    "        Conv1DT = layers.Conv1DTranspose\n",
    "        Dropout = layers.Dropout\n",
    "        \n",
    "        model = keras.Sequential(\n",
    "            [\n",
    "                layers.InputLayer(input_shape=(X_train.shape[1], X_train.shape[2])),\n",
    "                Conv1D(32, 7, padding='same', strides=2, activation='relu'),\n",
    "                Dropout(0.2),\n",
    "                Conv1D(16, 7, padding='same', strides=2, activation='relu'),\n",
    "                Conv1DT(16, 7, padding='same', strides=2, activation='relu'),\n",
    "                Dropout(0.2),\n",
    "                Conv1DT(32, 7, padding='same', strides=2, activation='relu'),\n",
    "                Conv1DT(1, 7, padding='same')\n",
    "            ]\n",
    "        )\n",
    "        model.compile(optimizer=keras.optimizers.Adam(learning_rate=0.001), loss=\"mse\")\n",
    "        history = model.fit(X_train, X_train, epochs=50, batch_size=128, validation_split=0.3, verbose=0,\n",
    "                        callbacks=[keras.callbacks.EarlyStopping(monitor=\"val_loss\", patience=5, mode=\"min\", restore_best_weights=True)])    \n",
    "        \n",
    "        scores = evaluate(X_test, model.predict(X_test), y_tests[i], is_reconstructed=True)\n",
    "        \n",
    "        total_scores['dataset'].append(f'D{i+1}')\n",
    "        total_scores['f1'].append(np.max(scores['f1']))\n",
    "        total_scores['pr_auc'].append(scores['pr_auc'])\n",
    "        total_scores['roc_auc'].append(scores['roc_auc'])\n",
    "        print(f'D{i+1}', np.max(scores['f1']), scores['pr_auc'], scores['roc_auc'])   "
   ]
  },
  {
   "cell_type": "code",
   "execution_count": 9,
   "id": "abb7a6a5-3924-4a33-bc54-871559819602",
   "metadata": {},
   "outputs": [],
   "source": [
    "nasa_results = pd.DataFrame(total_scores)"
   ]
  },
  {
   "cell_type": "code",
   "execution_count": 10,
   "id": "47b35a95-f236-4ae8-b244-5395fe9955bd",
   "metadata": {},
   "outputs": [
    {
     "data": {
      "text/html": [
       "<div>\n",
       "<style scoped>\n",
       "    .dataframe tbody tr th:only-of-type {\n",
       "        vertical-align: middle;\n",
       "    }\n",
       "\n",
       "    .dataframe tbody tr th {\n",
       "        vertical-align: top;\n",
       "    }\n",
       "\n",
       "    .dataframe thead th {\n",
       "        text-align: right;\n",
       "    }\n",
       "</style>\n",
       "<table border=\"1\" class=\"dataframe\">\n",
       "  <thead>\n",
       "    <tr style=\"text-align: right;\">\n",
       "      <th></th>\n",
       "      <th>f1</th>\n",
       "      <th>pr_auc</th>\n",
       "      <th>roc_auc</th>\n",
       "    </tr>\n",
       "    <tr>\n",
       "      <th>dataset</th>\n",
       "      <th></th>\n",
       "      <th></th>\n",
       "      <th></th>\n",
       "    </tr>\n",
       "  </thead>\n",
       "  <tbody>\n",
       "    <tr>\n",
       "      <th>D1</th>\n",
       "      <td>0.265184</td>\n",
       "      <td>0.109124</td>\n",
       "      <td>0.384365</td>\n",
       "    </tr>\n",
       "    <tr>\n",
       "      <th>D2</th>\n",
       "      <td>0.269953</td>\n",
       "      <td>0.575984</td>\n",
       "      <td>0.513043</td>\n",
       "    </tr>\n",
       "  </tbody>\n",
       "</table>\n",
       "</div>"
      ],
      "text/plain": [
       "               f1    pr_auc   roc_auc\n",
       "dataset                              \n",
       "D1       0.265184  0.109124  0.384365\n",
       "D2       0.269953  0.575984  0.513043"
      ]
     },
     "execution_count": 10,
     "metadata": {},
     "output_type": "execute_result"
    }
   ],
   "source": [
    "nasa_results.groupby('dataset').mean()"
   ]
  },
  {
   "cell_type": "markdown",
   "id": "41754734-5c75-4caf-9069-fb3b39c7a0da",
   "metadata": {},
   "source": [
    "### SMD"
   ]
  },
  {
   "cell_type": "code",
   "execution_count": 11,
   "id": "60a26807-8359-42d4-82b4-9e1d37b6acaa",
   "metadata": {},
   "outputs": [],
   "source": [
    "total_scores = {'dataset': [], 'f1': [], 'pr_auc': [], 'roc_auc': []}"
   ]
  },
  {
   "cell_type": "code",
   "execution_count": 12,
   "id": "41af318e-1b08-4cc9-a680-6b4a978544f2",
   "metadata": {},
   "outputs": [
    {
     "data": {
      "application/vnd.jupyter.widget-view+json": {
       "model_id": "281a48ca90304a79bb9aab82f10c6270",
       "version_major": 2,
       "version_minor": 0
      },
      "text/plain": [
       "  0%|          | 0/28 [00:00<?, ?it/s]"
      ]
     },
     "metadata": {},
     "output_type": "display_data"
    },
    {
     "data": {
      "application/vnd.jupyter.widget-view+json": {
       "model_id": "768cfa1cb52d4f24bda9bb1074d5bce9",
       "version_major": 2,
       "version_minor": 0
      },
      "text/plain": [
       "  0%|          | 0/28 [00:00<?, ?it/s]"
      ]
     },
     "metadata": {},
     "output_type": "display_data"
    },
    {
     "name": "stdout",
     "output_type": "stream",
     "text": [
      "smd 0.21943571700356884 0.5598591033089078 0.5142857126097861\n",
      "smd 0.624999946093754 0.5264047854585434 0.858267039562755\n",
      "smd 0.3636363123967009 0.2623451041077363 0.7294203209868252\n",
      "smd 0.3380281275937362 0.31909059719487676 0.7322580605173925\n",
      "smd 0.666666611111114 0.6126054493467343 0.7478165842121981\n",
      "smd 0.4999999513750046 0.561997570382591 0.6825682206959776\n",
      "smd 0.2974358676765314 0.19374700256213884 0.5638942557957299\n",
      "smd 0.21212116923784125 0.1770759138401065 0.5731768360733389\n",
      "smd 0.3333332827160567 0.31677702174821804 0.6932319211315485\n",
      "smd 0.28363633908892766 0.352998688489399 0.5395027967288474\n",
      "smd 0.6363635822314088 0.6751050004808337 0.7664711907248292\n",
      "smd 0.2710622474312033 0.16870673479250864 0.2457314204820946\n",
      "smd 0.24242421965105748 0.21682850158250142 0.4514773657233134\n",
      "smd 0.5333332871111137 0.6534552532131934 0.6818181757506887\n",
      "smd 0.2857142591836752 0.21390300781029029 0.45049872990884565\n",
      "smd 0.7999999200000041 0.6687762990145876 0.8333333051994312\n",
      "smd 0.3124999716796894 0.6124015790360818 0.592592590169885\n",
      "smd 0.399999960000002 0.5729894689484769 0.62499999196268\n",
      "smd 0.5714285273469415 0.14920941098626622 0.7865258253364809\n",
      "smd 0.0275862041569562 0.006993006815736715 0.4999999873226953\n",
      "smd 0.1640624848114027 0.06686404455600771 0.44327717197669825\n",
      "smd 0.25735291856347503 0.054715002275922096 0.254210611736461\n",
      "smd 0.46153842248520954 0.47654854538839 0.7341639387002261\n",
      "smd 0.21052629473684317 0.1755600982991825 0.6151612075616507\n",
      "smd 0.39999996533333565 0.36417958638601766 0.640755794348361\n",
      "smd 0.19999997800000044 0.31437601720961383 0.6658672985170299\n",
      "smd 0.5624999482421915 0.5901403695463026 0.9265514479886043\n",
      "smd 0.399999960000002 0.5729529201319226 0.6249999919634858\n"
     ]
    }
   ],
   "source": [
    "for loader in [load_smd]:\n",
    "    datasets = loader(100, 100)\n",
    "    x_trains, x_tests, y_tests = datasets['x_train'], datasets['x_test'], datasets['y_test']\n",
    "    \n",
    "    for i in tqdm(range(len(x_trains))):\n",
    "        X_train = x_trains[i]\n",
    "        X_test = x_tests[i]\n",
    "        \n",
    "        Conv1D = layers.Conv1D\n",
    "        Conv1DT = layers.Conv1DTranspose\n",
    "        Dropout = layers.Dropout\n",
    "        \n",
    "        model = keras.Sequential(\n",
    "            [\n",
    "                layers.InputLayer(input_shape=(X_train.shape[1], X_train.shape[2])),\n",
    "                Conv1D(32, 7, padding='same', strides=2, activation='relu'),\n",
    "                Dropout(0.2),\n",
    "                Conv1D(16, 7, padding='same', strides=2, activation='relu'),\n",
    "                Conv1DT(16, 7, padding='same', strides=2, activation='relu'),\n",
    "                Dropout(0.2),\n",
    "                Conv1DT(32, 7, padding='same', strides=2, activation='relu'),\n",
    "                Conv1DT(1, 7, padding='same')\n",
    "            ]\n",
    "        )\n",
    "        model.compile(optimizer=keras.optimizers.Adam(learning_rate=0.001), loss=\"mse\")\n",
    "        history = model.fit(X_train, X_train, epochs=50, batch_size=128, validation_split=0.3, verbose=0,\n",
    "                        callbacks=[keras.callbacks.EarlyStopping(monitor=\"val_loss\", patience=5, mode=\"min\", restore_best_weights=True)])    \n",
    "        \n",
    "        scores = evaluate(X_test, model.predict(X_test), y_tests[i], is_reconstructed=True)\n",
    "\n",
    "        total_scores['dataset'].append(loader.__name__.replace('load_', ''))\n",
    "        total_scores['f1'].append(np.max(scores['f1']))\n",
    "        total_scores['pr_auc'].append(scores['pr_auc'])\n",
    "        total_scores['roc_auc'].append(scores['roc_auc'])\n",
    "        print(loader.__name__.replace('load_', ''), np.max(scores['f1']), scores['pr_auc'], scores['roc_auc'])   "
   ]
  },
  {
   "cell_type": "code",
   "execution_count": 13,
   "id": "23474773-bac1-4145-ac75-c1a686bca5c6",
   "metadata": {},
   "outputs": [],
   "source": [
    "smd_results = pd.DataFrame(total_scores)"
   ]
  },
  {
   "cell_type": "code",
   "execution_count": 14,
   "id": "0f82f57f-4d93-4003-b22b-93bd75cf36e7",
   "metadata": {},
   "outputs": [
    {
     "data": {
      "text/html": [
       "<div>\n",
       "<style scoped>\n",
       "    .dataframe tbody tr th:only-of-type {\n",
       "        vertical-align: middle;\n",
       "    }\n",
       "\n",
       "    .dataframe tbody tr th {\n",
       "        vertical-align: top;\n",
       "    }\n",
       "\n",
       "    .dataframe thead th {\n",
       "        text-align: right;\n",
       "    }\n",
       "</style>\n",
       "<table border=\"1\" class=\"dataframe\">\n",
       "  <thead>\n",
       "    <tr style=\"text-align: right;\">\n",
       "      <th></th>\n",
       "      <th>f1</th>\n",
       "      <th>pr_auc</th>\n",
       "      <th>roc_auc</th>\n",
       "    </tr>\n",
       "    <tr>\n",
       "      <th>dataset</th>\n",
       "      <th></th>\n",
       "      <th></th>\n",
       "      <th></th>\n",
       "    </tr>\n",
       "  </thead>\n",
       "  <tbody>\n",
       "    <tr>\n",
       "      <th>smd</th>\n",
       "      <td>0.377703</td>\n",
       "      <td>0.372736</td>\n",
       "      <td>0.624031</td>\n",
       "    </tr>\n",
       "  </tbody>\n",
       "</table>\n",
       "</div>"
      ],
      "text/plain": [
       "               f1    pr_auc   roc_auc\n",
       "dataset                              \n",
       "smd      0.377703  0.372736  0.624031"
      ]
     },
     "execution_count": 14,
     "metadata": {},
     "output_type": "execute_result"
    }
   ],
   "source": [
    "smd_results.groupby('dataset').mean()"
   ]
  },
  {
   "cell_type": "code",
   "execution_count": null,
   "id": "8a2f4c6f-5b06-4a68-82c5-f12bdbc6e527",
   "metadata": {},
   "outputs": [],
   "source": []
  }
 ],
 "metadata": {
  "kernelspec": {
   "display_name": "Python 3",
   "language": "python",
   "name": "python3"
  },
  "language_info": {
   "codemirror_mode": {
    "name": "ipython",
    "version": 3
   },
   "file_extension": ".py",
   "mimetype": "text/x-python",
   "name": "python",
   "nbconvert_exporter": "python",
   "pygments_lexer": "ipython3",
   "version": "3.9.4"
  }
 },
 "nbformat": 4,
 "nbformat_minor": 5
}
