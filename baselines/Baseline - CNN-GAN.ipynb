{
 "cells": [
  {
   "cell_type": "code",
   "execution_count": 1,
   "id": "a80a379b-932c-4401-8d76-b5ae5dedc6cc",
   "metadata": {},
   "outputs": [],
   "source": [
    "import os\n",
    "import random\n",
    "\n",
    "os.environ[\"CUDA_DEVICE_ORDER\"] = \"PCI_BUS_ID\";\n",
    "os.environ[\"CUDA_VISIBLE_DEVICES\"] = \"1\"\n",
    "os.environ[\"TF_FORCE_GPU_ALLOW_GROWTH\"] = \"true\""
   ]
  },
  {
   "cell_type": "code",
   "execution_count": 2,
   "id": "saving-behavior",
   "metadata": {},
   "outputs": [],
   "source": [
    "import numpy as np\n",
    "import pandas as pd\n",
    "import tensorflow as tf\n",
    "\n",
    "from evaluator import evaluate\n",
    "from data_loader import load_kdd_cup_urc, load_yahoo_A1, load_yahoo_A2, load_yahoo_A3, load_yahoo_A4, load_power_demand # Univariate Datasets\n",
    "from data_loader import load_nasa, load_ecg, load_gesture, load_smd # Multivariate Datasets\n",
    "\n",
    "from tensorflow import keras\n",
    "from tensorflow.keras import layers\n",
    "from tqdm.notebook import tqdm\n",
    "\n",
    "# THESE LINES ARE FOR REPRODUCIBILITY\n",
    "random.seed(0)\n",
    "np.random.seed(0)\n",
    "tf.random.set_seed(0)"
   ]
  },
  {
   "cell_type": "code",
   "execution_count": 3,
   "id": "49c0a8e3-705d-429b-b7a0-c3c26a3a7b2b",
   "metadata": {},
   "outputs": [],
   "source": [
    "def train_gan(gan, dataset, batch_size, codings_size, dim=1, n_epochs=50):\n",
    "    generator, discriminator = gan.layers\n",
    "    for epoch in range(n_epochs):\n",
    "        for X_batch in dataset:\n",
    "            X_batch = tf.cast(X_batch, tf.float32)\n",
    "            # phase 1 - training the discriminator\n",
    "            noise = tf.random.normal(shape=[batch_size, codings_size, dim])\n",
    "            generated_images = generator(noise)\n",
    "            X_fake_and_real = tf.concat([generated_images, X_batch], axis=0)\n",
    "            y1 = tf.constant([[0.]] * batch_size + [[1.]] * batch_size)\n",
    "            discriminator.trainable = True\n",
    "            discriminator.train_on_batch(X_fake_and_real, y1)\n",
    "            # phase 2 - training the generator\n",
    "            noise = tf.random.normal(shape=[batch_size, codings_size, dim])\n",
    "            y2 = tf.constant([[1.]] * batch_size)\n",
    "            discriminator.trainable = False\n",
    "            gan.train_on_batch(noise, y2)\n",
    "            \n",
    "def get_gan(x_train):\n",
    "    generator = keras.models.Sequential([\n",
    "        layers.InputLayer(input_shape=(x_train.shape[1], x_train.shape[2])),\n",
    "        keras.layers.Conv1D(128, kernel_size=3, padding='same', activation=keras.layers.LeakyReLU(0.2)),\n",
    "        keras.layers.MaxPool1D(3, padding='same'),\n",
    "        keras.layers.Conv1D(64, kernel_size=3, padding='same', activation=keras.layers.LeakyReLU(0.2)),\n",
    "        keras.layers.MaxPool1D(3, padding='same'),\n",
    "        keras.layers.BatchNormalization(),\n",
    "        keras.layers.Conv1DTranspose(64, kernel_size=5, strides=2, padding=\"SAME\", activation=\"selu\"),\n",
    "        keras.layers.BatchNormalization(),\n",
    "        layers.Flatten(),\n",
    "        layers.Dense(x_train.shape[1] * x_train.shape[2]),\n",
    "        layers.Reshape([x_train.shape[1], x_train.shape[2]])\n",
    "    ])\n",
    "\n",
    "    discriminator = keras.models.Sequential([\n",
    "        layers.InputLayer(input_shape=(x_train.shape[1], x_train.shape[2])),\n",
    "        keras.layers.Conv1D(64, kernel_size=5, strides=2, padding=\"SAME\", activation=keras.layers.LeakyReLU(0.2)),\n",
    "        keras.layers.Dropout(0.4),\n",
    "        keras.layers.Conv1D(128, kernel_size=5, strides=2, padding=\"SAME\", activation=keras.layers.LeakyReLU(0.2)),\n",
    "        keras.layers.Dropout(0.4),\n",
    "        keras.layers.Flatten(),\n",
    "        keras.layers.Dense(1, activation=\"sigmoid\")\n",
    "    ])\n",
    "\n",
    "    gan = keras.models.Sequential([generator, discriminator])\n",
    "\n",
    "    discriminator.compile(loss=\"binary_crossentropy\", optimizer=\"adam\")\n",
    "    discriminator.trainable = False\n",
    "    gan.compile(loss=\"binary_crossentropy\", optimizer=\"adam\")\n",
    "    return gan"
   ]
  },
  {
   "cell_type": "markdown",
   "id": "fa97c067-d18d-4c06-ae1b-2cbfe88788b6",
   "metadata": {},
   "source": [
    "### Yahoo S5"
   ]
  },
  {
   "cell_type": "code",
   "execution_count": 4,
   "id": "eight-partition",
   "metadata": {},
   "outputs": [],
   "source": [
    "total_scores = {'dataset': [], 'f1': [], 'pr_auc': [], 'roc_auc': []}"
   ]
  },
  {
   "cell_type": "code",
   "execution_count": 5,
   "id": "71866d92-1163-4975-bb99-4302ccda66c3",
   "metadata": {
    "scrolled": true,
    "tags": []
   },
   "outputs": [
    {
     "data": {
      "application/vnd.jupyter.widget-view+json": {
       "model_id": "36aaeb0376d549078c6226a37289dd15",
       "version_major": 2,
       "version_minor": 0
      },
      "text/plain": [
       "  0%|          | 0/67 [00:00<?, ?it/s]"
      ]
     },
     "metadata": {},
     "output_type": "display_data"
    },
    {
     "data": {
      "application/vnd.jupyter.widget-view+json": {
       "model_id": "1ebedfec5799425f98a4106b80222f34",
       "version_major": 2,
       "version_minor": 0
      },
      "text/plain": [
       "  0%|          | 0/67 [00:00<?, ?it/s]"
      ]
     },
     "metadata": {},
     "output_type": "display_data"
    },
    {
     "name": "stdout",
     "output_type": "stream",
     "text": [
      "yahoo_A1 0.49999995416666926 0.12499999905753925 0.4999999416666726\n",
      "yahoo_A1 0.0 0.0 -0.0\n",
      "yahoo_A1 0.9999998500000123 0.49999990000001493 0.9999998888889001\n",
      "yahoo_A1 0.0 0.0 -0.0\n",
      "WARNING:tensorflow:5 out of the last 5 calls to <function Model.make_predict_function.<locals>.predict_function at 0x7f65c2b9e700> triggered tf.function retracing. Tracing is expensive and the excessive number of tracings could be due to (1) creating @tf.function repeatedly in a loop, (2) passing tensors with different shapes, (3) passing Python objects instead of tensors. For (1), please define your @tf.function outside of the loop. For (2), @tf.function has experimental_relax_shapes=True option that relaxes argument shapes that can avoid unnecessary retracing. For (3), please refer to https://www.tensorflow.org/guide/function#controlling_retracing and https://www.tensorflow.org/api_docs/python/tf/function for  more details.\n",
      "yahoo_A1 0.0 0.0 -0.0\n",
      "WARNING:tensorflow:6 out of the last 6 calls to <function Model.make_predict_function.<locals>.predict_function at 0x7f65c2b3e310> triggered tf.function retracing. Tracing is expensive and the excessive number of tracings could be due to (1) creating @tf.function repeatedly in a loop, (2) passing tensors with different shapes, (3) passing Python objects instead of tensors. For (1), please define your @tf.function outside of the loop. For (2), @tf.function has experimental_relax_shapes=True option that relaxes argument shapes that can avoid unnecessary retracing. For (3), please refer to https://www.tensorflow.org/guide/function#controlling_retracing and https://www.tensorflow.org/api_docs/python/tf/function for  more details.\n",
      "yahoo_A1 0.0 0.0 -0.0\n",
      "yahoo_A1 0.0 0.0 -0.0\n",
      "yahoo_A1 0.3636363272727291 0.11111110432098803 0.49999996785714457\n",
      "yahoo_A1 0.9999999250000032 0.8999999351944488 0.9999999550000014\n",
      "yahoo_A1 0.0 0.0 -0.0\n",
      "yahoo_A1 0.8888888197530895 0.8466666068277818 0.9399999599000013\n",
      "yahoo_A1 0.0 0.0 -0.0\n",
      "yahoo_A1 0.8749999398437528 0.6916666016660125 0.6666666027777826\n",
      "yahoo_A1 0.9999998500000123 0.49999991889882167 0.9999998900000105\n",
      "yahoo_A1 0.9999999000000052 0.7499998875000145 0.9999999375000035\n",
      "yahoo_A1 0.18181816198347142 0.049999994500000554 -0.0\n",
      "yahoo_A1 0.3636363272727291 0.0625000016493049 -0.0\n",
      "yahoo_A1 0.9999998500000123 0.49999990000001493 0.9999998888889001\n",
      "yahoo_A1 0.6666666133333363 0.2555555486079145 -0.0\n",
      "yahoo_A1 0.6153845633136124 0.08333334384093748 -0.0\n",
      "yahoo_A1 0.4999999500000025 0.10000000133333238 -0.0\n",
      "yahoo_A1 0.666666611111114 0.10000001155158537 -0.0\n",
      "yahoo_A1 0.0 0.0 -0.0\n",
      "yahoo_A1 0.0 0.0 -0.0\n",
      "yahoo_A1 0.9999999333333361 0.7499999477083378 0.999999950000002\n",
      "yahoo_A1 0.9999999333333361 0.8999999371612863 0.9999999507936526\n",
      "yahoo_A1 0.0 0.0 -0.0\n",
      "yahoo_A1 0.7272726677685981 0.12500001258928345 -0.0\n",
      "yahoo_A1 0.0 0.0 -0.0\n",
      "yahoo_A1 0.0 0.0 -0.0\n",
      "yahoo_A1 0.7499999343750033 0.5111110755284418 0.7166666315277791\n",
      "yahoo_A1 0.6666666133333363 0.08333334620204845 -0.0\n",
      "yahoo_A1 0.0 0.0 -0.0\n",
      "yahoo_A1 0.9999998500000123 0.49999990000001493 0.9999998888889001\n",
      "yahoo_A1 0.9999999333333361 0.9374999418328409 0.0\n",
      "yahoo_A1 0.9999998500000123 0.49999994652778307 0.999999929166671\n",
      "yahoo_A1 0.9999999000000052 0.7499998875000143 0.9999999375000035\n",
      "yahoo_A1 0.666666611111114 0.26031745089625874 0.33333331944444494\n",
      "yahoo_A1 0.0 0.0 -0.0\n",
      "yahoo_A1 0.9999998500000123 0.7499998473214524 0.9999998833333452\n",
      "yahoo_A1 0.5999999460000028 0.10000000768253806 -0.0\n",
      "yahoo_A1 0.5454544958677713 0.12500000014880894 -0.0\n",
      "yahoo_A1 0.0 0.0 -0.0\n",
      "yahoo_A1 0.0 0.0 -0.0\n",
      "yahoo_A1 0.0 0.0 -0.0\n",
      "yahoo_A1 0.0 0.0 -0.0\n",
      "yahoo_A1 0.5454544958677713 0.08333334042658588 -0.0\n",
      "yahoo_A1 0.749999943750003 0.10000001611639997 -0.0\n",
      "yahoo_A1 0.2222221975308647 0.06249999296875071 -0.0\n",
      "yahoo_A1 0.0 0.0 -0.0\n",
      "yahoo_A1 0.8333332708333363 0.1666666833134891 -0.0\n",
      "yahoo_A1 0.7499999343750033 0.16666667444444216 -0.0\n",
      "yahoo_A1 0.666666611111114 0.20833332806547622 0.24999996875000327\n",
      "yahoo_A1 0.9999998500000123 0.49999990000001493 0.9999998888889001\n",
      "yahoo_A1 0.0 0.0 -0.0\n",
      "yahoo_A1 0.0 0.0 -0.0\n",
      "yahoo_A1 0.9999999000000052 0.49999995951389187 0.999999938888892\n",
      "yahoo_A1 0.0 0.0 -0.0\n",
      "yahoo_A1 0.0 0.0 0.0\n",
      "yahoo_A1 0.0 0.0 -0.0\n",
      "yahoo_A1 0.0 0.0 -0.0\n",
      "yahoo_A1 0.7999999200000041 0.7916665781064912 0.906249932812504\n",
      "yahoo_A1 0.9999999166666703 0.666666619722225 0.9999999541666683\n",
      "yahoo_A1 0.18181816198347142 0.049999994500000554 0.49999994444445006\n",
      "yahoo_A1 0.9999999166666703 0.8333332430555642 0.9999999523809541\n",
      "yahoo_A1 0.9999999166666703 0.7499999337619108 0.9999999546666682\n",
      "yahoo_A1 0.24999997187500062 0.07142856326530694 -0.0\n"
     ]
    },
    {
     "data": {
      "application/vnd.jupyter.widget-view+json": {
       "model_id": "eed6001957da4def8d2aa107f3e7c5f3",
       "version_major": 2,
       "version_minor": 0
      },
      "text/plain": [
       "  0%|          | 0/100 [00:00<?, ?it/s]"
      ]
     },
     "metadata": {},
     "output_type": "display_data"
    },
    {
     "data": {
      "application/vnd.jupyter.widget-view+json": {
       "model_id": "17e00a3e20d74600a8a7b102b0565f88",
       "version_major": 2,
       "version_minor": 0
      },
      "text/plain": [
       "  0%|          | 0/100 [00:00<?, ?it/s]"
      ]
     },
     "metadata": {},
     "output_type": "display_data"
    },
    {
     "name": "stdout",
     "output_type": "stream",
     "text": [
      "yahoo_A2 0.0 0.0 -0.0\n",
      "yahoo_A2 0.0 0.0 -0.0\n",
      "yahoo_A2 0.0 0.0 -0.0\n",
      "yahoo_A2 0.0 0.0 -0.0\n",
      "yahoo_A2 0.0 0.0 -0.0\n",
      "yahoo_A2 0.0 0.0 -0.0\n",
      "yahoo_A2 0.0 0.0 -0.0\n",
      "yahoo_A2 0.0 0.0 -0.0\n",
      "yahoo_A2 0.0 0.0 -0.0\n",
      "yahoo_A2 0.0 0.0 -0.0\n",
      "yahoo_A2 0.0 0.0 -0.0\n",
      "yahoo_A2 0.0 0.0 -0.0\n",
      "yahoo_A2 0.0 0.0 -0.0\n",
      "yahoo_A2 0.0 0.0 -0.0\n",
      "yahoo_A2 0.0 0.0 -0.0\n",
      "yahoo_A2 0.0 0.0 -0.0\n",
      "yahoo_A2 0.0 0.0 -0.0\n",
      "yahoo_A2 0.0 0.0 -0.0\n",
      "yahoo_A2 0.0 0.0 -0.0\n",
      "yahoo_A2 0.0 0.0 -0.0\n",
      "yahoo_A2 0.0 0.0 -0.0\n",
      "yahoo_A2 0.0 0.0 -0.0\n",
      "yahoo_A2 0.0 0.0 -0.0\n",
      "yahoo_A2 0.0 0.0 -0.0\n",
      "yahoo_A2 0.0 0.0 -0.0\n",
      "yahoo_A2 0.0 0.0 -0.0\n",
      "yahoo_A2 0.0 0.0 -0.0\n",
      "yahoo_A2 0.0 0.0 -0.0\n",
      "yahoo_A2 0.0 0.0 -0.0\n",
      "yahoo_A2 0.0 0.0 -0.0\n",
      "yahoo_A2 0.0 0.0 -0.0\n",
      "yahoo_A2 0.0 0.0 -0.0\n",
      "yahoo_A2 0.0 0.0 -0.0\n",
      "yahoo_A2 0.0 0.0 -0.0\n",
      "yahoo_A2 0.0 0.0 -0.0\n",
      "yahoo_A2 0.0 0.0 -0.0\n",
      "yahoo_A2 0.0 0.0 -0.0\n",
      "yahoo_A2 0.0 0.0 -0.0\n",
      "yahoo_A2 0.0 0.0 -0.0\n",
      "yahoo_A2 0.0 0.0 -0.0\n",
      "yahoo_A2 0.0 0.0 -0.0\n",
      "yahoo_A2 0.0 0.0 -0.0\n",
      "yahoo_A2 0.0 0.0 -0.0\n",
      "yahoo_A2 0.0 0.0 -0.0\n",
      "yahoo_A2 0.0 0.0 -0.0\n",
      "yahoo_A2 0.0 0.0 -0.0\n",
      "yahoo_A2 0.0 0.0 -0.0\n",
      "yahoo_A2 0.0 0.0 -0.0\n",
      "yahoo_A2 0.0 0.0 -0.0\n",
      "yahoo_A2 0.0 0.0 -0.0\n",
      "yahoo_A2 0.0 0.0 -0.0\n",
      "yahoo_A2 0.0 0.0 -0.0\n",
      "yahoo_A2 0.0 0.0 -0.0\n",
      "yahoo_A2 0.0 0.0 -0.0\n",
      "yahoo_A2 0.0 0.0 -0.0\n",
      "yahoo_A2 0.0 0.0 -0.0\n",
      "yahoo_A2 0.0 0.0 -0.0\n",
      "yahoo_A2 0.0 0.0 -0.0\n",
      "yahoo_A2 0.0 0.0 -0.0\n",
      "yahoo_A2 0.0 0.0 -0.0\n",
      "yahoo_A2 0.0 0.0 -0.0\n",
      "yahoo_A2 0.0 0.0 -0.0\n",
      "yahoo_A2 0.0 0.0 -0.0\n",
      "yahoo_A2 0.0 0.0 -0.0\n",
      "yahoo_A2 0.0 0.0 -0.0\n",
      "yahoo_A2 0.0 0.0 -0.0\n",
      "yahoo_A2 0.0 0.0 -0.0\n",
      "yahoo_A2 0.0 0.0 -0.0\n",
      "yahoo_A2 0.0 0.0 -0.0\n",
      "yahoo_A2 0.0 0.0 -0.0\n",
      "yahoo_A2 0.0 0.0 -0.0\n",
      "yahoo_A2 0.0 0.0 -0.0\n",
      "yahoo_A2 0.0 0.0 -0.0\n",
      "yahoo_A2 0.0 0.0 -0.0\n",
      "yahoo_A2 0.0 0.0 -0.0\n",
      "yahoo_A2 0.0 0.0 -0.0\n",
      "yahoo_A2 0.0 0.0 -0.0\n",
      "yahoo_A2 0.0 0.0 -0.0\n",
      "yahoo_A2 0.0 0.0 -0.0\n",
      "yahoo_A2 0.0 0.0 -0.0\n",
      "yahoo_A2 0.0 0.0 -0.0\n",
      "yahoo_A2 0.0 0.0 -0.0\n",
      "yahoo_A2 0.0 0.0 -0.0\n",
      "yahoo_A2 0.0 0.0 -0.0\n",
      "yahoo_A2 0.0 0.0 -0.0\n",
      "yahoo_A2 0.0 0.0 -0.0\n",
      "yahoo_A2 0.0 0.0 -0.0\n",
      "yahoo_A2 0.0 0.0 -0.0\n",
      "yahoo_A2 0.0 0.0 -0.0\n",
      "yahoo_A2 0.0 0.0 -0.0\n",
      "yahoo_A2 0.0 0.0 -0.0\n",
      "yahoo_A2 0.0 0.0 -0.0\n",
      "yahoo_A2 0.0 0.0 -0.0\n",
      "yahoo_A2 0.0 0.0 -0.0\n",
      "yahoo_A2 0.0 0.0 -0.0\n",
      "yahoo_A2 0.0 0.0 -0.0\n",
      "yahoo_A2 0.0 0.0 -0.0\n",
      "yahoo_A2 0.0 0.0 -0.0\n",
      "yahoo_A2 0.0 0.0 -0.0\n",
      "yahoo_A2 0.0 0.0 -0.0\n"
     ]
    },
    {
     "data": {
      "application/vnd.jupyter.widget-view+json": {
       "model_id": "178a43f078a94f9995142a0b3dfb5676",
       "version_major": 2,
       "version_minor": 0
      },
      "text/plain": [
       "  0%|          | 0/100 [00:00<?, ?it/s]"
      ]
     },
     "metadata": {},
     "output_type": "display_data"
    },
    {
     "data": {
      "application/vnd.jupyter.widget-view+json": {
       "model_id": "e25c6c467c4e4324b3311f7cc11466fe",
       "version_major": 2,
       "version_minor": 0
      },
      "text/plain": [
       "  0%|          | 0/100 [00:00<?, ?it/s]"
      ]
     },
     "metadata": {},
     "output_type": "display_data"
    },
    {
     "name": "stdout",
     "output_type": "stream",
     "text": [
      "yahoo_A3 0.19999997800000044 0.055555549382716674 -0.0\n",
      "yahoo_A3 0.46153841893491365 0.06250000600115631 -0.0\n",
      "yahoo_A3 0.6153845633136124 0.08333334384093748 -0.0\n",
      "yahoo_A3 0.4285713887755125 0.05555556109988678 -0.0\n",
      "yahoo_A3 0.7999999413333363 0.2833333299136901 0.2499999812500011\n",
      "yahoo_A3 0.33333330000000166 0.055555557160493235 -0.0\n",
      "yahoo_A3 0.7058822989619408 0.27838009531114083 -0.0\n",
      "yahoo_A3 0.49999995416666926 0.07142857794784456 -0.0\n",
      "yahoo_A3 0.666666611111114 0.10000001155158537 -0.0\n",
      "yahoo_A3 0.0 0.0 -0.0\n",
      "yahoo_A3 0.9411764096885841 0.2500000204683213 -0.0\n",
      "yahoo_A3 0.9411764096885841 0.2500000204683213 -0.0\n",
      "yahoo_A3 0.749999943750003 0.10000001611639998 -0.0\n",
      "yahoo_A3 0.16666664861111138 0.045454540495868265 -0.0\n",
      "yahoo_A3 0.7058822989619408 0.08333334918455176 -0.0\n",
      "yahoo_A3 0.0 0.0 -0.0\n",
      "yahoo_A3 0.8571427959183704 0.16666668561507636 -0.0\n",
      "yahoo_A3 0.0 0.0 -0.0\n",
      "yahoo_A3 0.33333330000000166 0.055555557160493235 -0.0\n",
      "yahoo_A3 0.46153841893491365 0.06250000600115631 -0.0\n",
      "yahoo_A3 0.0 0.0 -0.0\n",
      "yahoo_A3 0.16666664861111138 0.045454540495868265 -0.0\n",
      "yahoo_A3 0.5454544958677713 0.210317450554493 -0.0\n",
      "yahoo_A3 0.9090908429752097 0.25000001470832994 -0.0\n",
      "yahoo_A3 0.3076922769230785 0.050000001545454004 -0.0\n",
      "yahoo_A3 0.19999997800000044 0.055555549382716674 -0.0\n",
      "yahoo_A3 0.6666666133333363 0.1388888934242716 -0.0\n",
      "yahoo_A3 0.5333332871111137 0.06250000876630762 -0.0\n",
      "yahoo_A3 0.0 0.0 -0.0\n",
      "yahoo_A3 0.4285713887755125 0.05555556109988678 0.12499998593750138\n",
      "yahoo_A3 0.49999995416666926 0.07142857794784456 -0.0\n",
      "yahoo_A3 0.8235293536332209 0.1250000193601164 -0.0\n",
      "yahoo_A3 0.0 0.0 -0.0\n",
      "yahoo_A3 0.9999999357142885 0.4999999857142859 0.0\n",
      "yahoo_A3 0.9230768591716004 0.2500000168313458 -0.0\n",
      "yahoo_A3 0.6153845633136124 0.08333334384093748 -0.0\n",
      "yahoo_A3 0.9090908429752097 0.5090277502382347 0.11805554235146738\n",
      "yahoo_A3 0.8235293536332209 0.4374999732663714 0.4166666340277798\n",
      "yahoo_A3 0.7999999360000031 0.16666667972221955 -0.0\n",
      "yahoo_A3 0.6666666074074105 0.1250000081249981 -0.0\n",
      "yahoo_A3 0.666666611111114 0.10000001155158537 -0.0\n",
      "yahoo_A3 0.6153845633136124 0.08333334384093748 -0.0\n",
      "yahoo_A3 0.7999999360000031 0.16666667972221952 -0.0\n",
      "yahoo_A3 0.15384613727810673 0.04166666215277823 -0.0\n",
      "yahoo_A3 0.9999999250000032 0.49999997500000093 0.0\n",
      "yahoo_A3 0.16666664861111138 0.045454540495868265 -0.0\n",
      "yahoo_A3 0.4285713887755125 0.13888888255050535 0.3749999578125042\n",
      "yahoo_A3 0.7999999413333363 0.1250000177331324 -0.0\n",
      "yahoo_A3 0.0 0.0 -0.0\n",
      "yahoo_A3 0.9473683612188393 0.25000002171060526 -0.0\n",
      "yahoo_A3 0.9999999416666693 0.4999999916666668 0.0\n",
      "yahoo_A3 0.8235293536332209 0.12500001936011643 -0.0\n",
      "yahoo_A3 0.0 0.0 -0.0\n",
      "yahoo_A3 0.0 0.0 -0.0\n",
      "yahoo_A3 0.18181816198347142 0.049999994500000554 -0.0\n",
      "yahoo_A3 0.3636363272727291 0.0625000016493049 -0.0\n",
      "yahoo_A3 0.5714285224489823 0.0714285810033999 -0.0\n",
      "yahoo_A3 0.6153845633136124 0.14999999972982767 0.19999997600000247\n",
      "yahoo_A3 0.4999999500000025 0.254444424877779 0.18333332536111135\n",
      "yahoo_A3 0.9411764096885841 0.2500000204683213 -0.0\n",
      "yahoo_A3 0.6666666074074105 0.1250000081249981 -0.0\n",
      "yahoo_A3 0.399999960000002 0.07142857308673395 -0.0\n",
      "yahoo_A3 0.7692307100591745 0.1250000155803547 -0.0\n",
      "yahoo_A3 0.4999999562500026 0.05555556362513912 -0.0\n",
      "yahoo_A3 0.8749999398437528 0.1666666874338593 -0.0\n",
      "yahoo_A3 0.9090908429752097 0.2500000140138856 -0.0\n",
      "yahoo_A3 0.5999999460000028 0.10000000768253806 -0.0\n",
      "yahoo_A3 0.5714285142857172 0.1250000006249989 -0.0\n",
      "yahoo_A3 0.33333330000000166 0.055555557160493235 -0.0\n",
      "yahoo_A3 0.666666611111114 0.10000001155158537 -0.0\n",
      "yahoo_A3 0.0 0.0 -0.0\n",
      "yahoo_A3 0.7999999413333363 0.1250000177331324 -0.0\n",
      "yahoo_A3 0.0 0.0 -0.0\n",
      "yahoo_A3 0.842105205540169 0.12500002063446708 -0.0\n",
      "yahoo_A3 0.399999960000002 0.0833333334325391 0.2499999708333363\n",
      "yahoo_A3 0.9999999388888916 0.49999998888888914 0.0\n",
      "yahoo_A3 0.8749999398437528 0.1666666874338593 -0.0\n",
      "yahoo_A3 0.28571425714285853 0.04545454693526121 -0.0\n",
      "yahoo_A3 0.6153845633136124 0.10000000822982662 0.19999997600000247\n",
      "yahoo_A3 0.6666666000000033 0.34722220108796414 0.6666666222222248\n",
      "yahoo_A3 0.749999943750003 0.10000001611639997 -0.0\n",
      "yahoo_A3 0.5714285224489823 0.0714285810033999 -0.0\n",
      "yahoo_A3 0.4285713887755125 0.05555556109988678 -0.0\n",
      "yahoo_A3 0.33333330000000166 0.055555557160493235 -0.0\n",
      "yahoo_A3 0.666666611111114 0.10000001155158537 -0.0\n",
      "yahoo_A3 0.3636363272727291 0.0625000016493049 -0.0\n",
      "yahoo_A3 0.4999999562500026 0.05555556362513912 -0.0\n",
      "yahoo_A3 0.7692307100591745 0.1250000155803547 -0.0\n",
      "yahoo_A3 0.8333332708333363 0.16666668317460026 -0.0\n",
      "yahoo_A3 0.7142856581632683 0.1000000141904741 -0.0\n",
      "yahoo_A3 0.7692307100591745 0.1250000155803547 -0.0\n",
      "yahoo_A3 0.6249999492187529 0.07142858313976339 -0.0\n",
      "yahoo_A3 0.3636363272727291 0.0625000016493049 -0.0\n",
      "yahoo_A3 0.6249999492187529 0.1666666643189033 0.3333332944444484\n",
      "yahoo_A3 0.5333332871111137 0.08333333940866901 0.2857142530612278\n",
      "yahoo_A3 0.8333332708333363 0.43055553375330813 0.16666665555555618\n",
      "yahoo_A3 0.5333332871111137 0.06250000876630762 -0.0\n",
      "yahoo_A3 0.5714285224489823 0.0714285810033999 -0.0\n",
      "yahoo_A3 0.6666666133333363 0.08333334620204845 -0.0\n",
      "yahoo_A3 0.4285713887755125 0.12499999609217174 0.6249999296875071\n"
     ]
    },
    {
     "data": {
      "application/vnd.jupyter.widget-view+json": {
       "model_id": "a324e7af6c6f49d2ab7de81a00494833",
       "version_major": 2,
       "version_minor": 0
      },
      "text/plain": [
       "  0%|          | 0/100 [00:00<?, ?it/s]"
      ]
     },
     "metadata": {},
     "output_type": "display_data"
    },
    {
     "data": {
      "application/vnd.jupyter.widget-view+json": {
       "model_id": "1acc5e5e2887412bb014dfdb46365b95",
       "version_major": 2,
       "version_minor": 0
      },
      "text/plain": [
       "  0%|          | 0/100 [00:00<?, ?it/s]"
      ]
     },
     "metadata": {},
     "output_type": "display_data"
    },
    {
     "name": "stdout",
     "output_type": "stream",
     "text": [
      "yahoo_A4 0.5714285224489823 0.0714285810033999 -0.0\n",
      "yahoo_A4 0.0 0.0 -0.0\n",
      "yahoo_A4 0.4285713887755125 0.05555556109988678 -0.0\n",
      "yahoo_A4 0.5714285224489823 0.07142858100339988 -0.0\n",
      "yahoo_A4 0.19999997800000044 0.055555549382716674 -0.0\n",
      "yahoo_A4 0.8749999398437528 0.1666666874437799 -0.0\n",
      "yahoo_A4 0.6153845633136124 0.08333334384093748 -0.0\n",
      "yahoo_A4 0.4999999562500026 0.05555556362513912 -0.0\n",
      "yahoo_A4 0.0 0.0 -0.0\n",
      "yahoo_A4 0.3636363272727291 0.0625000016493049 -0.0\n",
      "yahoo_A4 0.0 0.0 -0.0\n",
      "yahoo_A4 0.8749999398437528 0.3952380815018904 0.1999999860000008\n",
      "yahoo_A4 0.0 0.0 -0.0\n",
      "yahoo_A4 0.8749999398437528 0.1666666874338593 -0.0\n",
      "yahoo_A4 0.49999995416666926 0.07142857794784456 -0.0\n",
      "yahoo_A4 0.6153845633136124 0.08333334384093748 -0.0\n",
      "yahoo_A4 0.0 0.0 -0.0\n",
      "yahoo_A4 0.3999999626666689 0.05000000514393849 -0.0\n",
      "yahoo_A4 0.0 0.0 -0.0\n",
      "yahoo_A4 0.4285713887755125 0.05555556109988678 -0.0\n",
      "yahoo_A4 0.8333332708333363 0.16666668317460023 -0.0\n",
      "yahoo_A4 0.6666666074074105 0.1250000081249981 -0.0\n",
      "yahoo_A4 0.9999999388888916 0.49999998888888914 0.0\n",
      "yahoo_A4 0.933333271111114 0.4642856979750574 -0.0\n",
      "yahoo_A4 0.19999997800000044 0.055555549382716674 -0.0\n",
      "yahoo_A4 0.6153845633136124 0.1428571425937733 -0.0\n",
      "yahoo_A4 0.5999999460000028 0.10000000768253806 -0.0\n",
      "yahoo_A4 0.19999997800000044 0.055555549382716674 -0.0\n",
      "yahoo_A4 0.5714285224489823 0.0714285810033999 -0.0\n",
      "yahoo_A4 0.7142856581632683 0.1000000141904741 -0.0\n",
      "yahoo_A4 0.9999999375000026 0.9166665638889031 0.0\n",
      "yahoo_A4 0.0 0.0 -0.0\n",
      "yahoo_A4 0.33333330000000166 0.055555557160493235 -0.0\n",
      "yahoo_A4 0.8235293536332209 0.1250000193601164 -0.0\n",
      "yahoo_A4 0.9090908429752097 0.2500000140138856 -0.0\n",
      "yahoo_A4 0.15384613727810673 0.04166666215277823 -0.0\n",
      "yahoo_A4 0.399999960000002 0.07142857308673395 -0.0\n",
      "yahoo_A4 0.33333330000000166 0.055555557160493235 -0.0\n",
      "yahoo_A4 0.3636363272727291 0.0625000016493049 -0.0\n",
      "yahoo_A4 0.7777777216049413 0.2851190399962856 0.2970237859125586\n",
      "yahoo_A4 0.8235293536332209 0.1250000193601164 -0.0\n",
      "yahoo_A4 0.5454544958677713 0.08333334042658588 -0.0\n",
      "yahoo_A4 0.0 0.0 -0.0\n",
      "yahoo_A4 0.7499999343750033 0.29166665465277786 -0.0\n",
      "yahoo_A4 0.6153845633136124 0.14583333498677178 0.1999999860000008\n",
      "yahoo_A4 0.0 0.0 -0.0\n",
      "yahoo_A4 0.3636363272727291 0.0625000016493049 -0.0\n",
      "yahoo_A4 0.0 0.0 -0.0\n",
      "yahoo_A4 0.7499999343750033 0.1666666744444422 -0.0\n",
      "yahoo_A4 0.0 0.0 -0.0\n",
      "yahoo_A4 0.0 0.0 -0.0\n",
      "yahoo_A4 0.0 0.0 -0.0\n",
      "yahoo_A4 0.749999943750003 0.10000001611639997 -0.0\n",
      "yahoo_A4 0.4285713887755125 0.05555556109988678 -0.0\n",
      "yahoo_A4 0.46153841893491365 0.06250000600115631 -0.0\n",
      "yahoo_A4 0.0 0.0 -0.0\n",
      "yahoo_A4 0.4285713887755125 0.05555556109988678 -0.0\n",
      "yahoo_A4 0.399999960000002 0.07142857308673395 -0.0\n",
      "yahoo_A4 0.4285713887755125 0.05555556109988678 -0.0\n",
      "yahoo_A4 0.6153845633136124 0.08333334384093748 -0.0\n",
      "yahoo_A4 0.5454544958677713 0.08333334042658588 -0.0\n",
      "yahoo_A4 0.0 0.0 -0.0\n",
      "yahoo_A4 0.666666611111114 0.10000001155158537 -0.0\n",
      "yahoo_A4 0.0 0.0 -0.0\n",
      "yahoo_A4 0.6666666133333363 0.3263888659358487 0.5749999432916719\n",
      "yahoo_A4 0.4285713887755125 0.05555556109988678 -0.0\n",
      "yahoo_A4 0.3076922769230785 0.050000001545454004 -0.0\n",
      "yahoo_A4 0.8888888296296326 0.16666668884258948 -0.0\n",
      "yahoo_A4 0.49999995416666926 0.07142857794784456 -0.0\n",
      "yahoo_A4 0.49999995416666926 0.07142857794784456 -0.0\n",
      "yahoo_A4 0.0 0.0 -0.0\n",
      "yahoo_A4 0.0 0.0 -0.0\n",
      "yahoo_A4 0.18181816198347142 0.049999994500000554 -0.0\n",
      "yahoo_A4 0.749999943750003 0.10000001611639997 -0.0\n",
      "yahoo_A4 0.5714285224489823 0.0714285810033999 -0.0\n",
      "yahoo_A4 0.8235293536332209 0.20000000473511828 -0.0\n",
      "yahoo_A4 0.7272726677685981 0.12500001276785486 -0.0\n",
      "yahoo_A4 0.0 0.0 -0.0\n",
      "yahoo_A4 0.7692307100591745 0.12500001558035467 -0.0\n",
      "yahoo_A4 0.18181816198347142 0.049999994500000554 -0.0\n",
      "yahoo_A4 0.6666666148148177 0.07142858473067244 -0.0\n",
      "yahoo_A4 0.399999960000002 0.07142857308673395 -0.0\n",
      "yahoo_A4 0.0 0.0 -0.0\n",
      "yahoo_A4 0.3076922769230785 0.050000001545454004 -0.0\n",
      "yahoo_A4 0.49999995416666926 0.07142857794784456 -0.0\n",
      "yahoo_A4 0.7999999413333363 0.1250000177331324 -0.0\n",
      "yahoo_A4 0.28571425714285853 0.04545454693526121 -0.0\n",
      "yahoo_A4 0.8571427959183704 0.16666668561507636 -0.0\n",
      "yahoo_A4 0.8235293536332209 0.3395833235937228 0.27638886948958447\n",
      "yahoo_A4 0.0 0.0 -0.0\n",
      "yahoo_A4 0.749999943750003 0.10000001611639998 -0.0\n",
      "yahoo_A4 0.4999999500000025 0.1499999928333334 -0.0\n",
      "yahoo_A4 0.8571427959183704 0.2500000036706339 0.4999999250000088\n",
      "yahoo_A4 0.49999995416666926 0.07142857794784456 -0.0\n",
      "yahoo_A4 0.3636363272727291 0.0625000016493049 -0.0\n",
      "yahoo_A4 0.5454544958677713 0.08333334042658588 -0.0\n",
      "yahoo_A4 0.0 0.0 -0.0\n",
      "yahoo_A4 0.7142856581632683 0.1750000033154753 0.12499999270833366\n",
      "yahoo_A4 0.8235293536332209 0.20000000473511828 -0.0\n",
      "yahoo_A4 0.3999999626666689 0.05000000514393849 -0.0\n"
     ]
    }
   ],
   "source": [
    "for loader in [load_yahoo_A1, load_yahoo_A2, load_yahoo_A3, load_yahoo_A4]:\n",
    "    datasets = loader(128, 32)\n",
    "    x_trains, x_tests, y_tests = datasets['x_train'], datasets['x_test'], datasets['y_test']\n",
    "    \n",
    "    for i in tqdm(range(len(x_trains))):\n",
    "        tf.keras.backend.clear_session()\n",
    "\n",
    "        X_train = x_trains[i]\n",
    "        X_test = x_tests[i]\n",
    "        \n",
    "        gan = get_gan(X_train)\n",
    "        dataset = tf.data.Dataset.from_tensor_slices(X_train)\n",
    "        dataset = dataset.batch(128, drop_remainder=True).prefetch(1)\n",
    "\n",
    "        train_gan(gan, dataset, 128, X_train.shape[1], X_train.shape[2])\n",
    "        \n",
    "        X_test_rec = gan.layers[0].predict(X_test)\n",
    "        scores = evaluate(X_test, X_test_rec, y_tests[i], is_reconstructed=True)\n",
    "    \n",
    "        total_scores['dataset'].append(loader.__name__.replace('load_', ''))\n",
    "        total_scores['f1'].append(np.max(scores['f1']))\n",
    "        total_scores['pr_auc'].append(scores['pr_auc'])\n",
    "        total_scores['roc_auc'].append(scores['roc_auc'])\n",
    "        print(loader.__name__.replace('load_', ''), np.max(scores['f1']), scores['pr_auc'], scores['roc_auc'])   "
   ]
  },
  {
   "cell_type": "code",
   "execution_count": 6,
   "id": "bd9e37fd-124c-4f5c-8f1f-a9d61a4b0315",
   "metadata": {},
   "outputs": [],
   "source": [
    "yahoo_results = pd.DataFrame(total_scores)"
   ]
  },
  {
   "cell_type": "code",
   "execution_count": 7,
   "id": "dd0ffd29-f548-4ff5-bced-b8ea85ef0697",
   "metadata": {},
   "outputs": [
    {
     "data": {
      "text/html": [
       "<div>\n",
       "<style scoped>\n",
       "    .dataframe tbody tr th:only-of-type {\n",
       "        vertical-align: middle;\n",
       "    }\n",
       "\n",
       "    .dataframe tbody tr th {\n",
       "        vertical-align: top;\n",
       "    }\n",
       "\n",
       "    .dataframe thead th {\n",
       "        text-align: right;\n",
       "    }\n",
       "</style>\n",
       "<table border=\"1\" class=\"dataframe\">\n",
       "  <thead>\n",
       "    <tr style=\"text-align: right;\">\n",
       "      <th></th>\n",
       "      <th>f1</th>\n",
       "      <th>pr_auc</th>\n",
       "      <th>roc_auc</th>\n",
       "    </tr>\n",
       "    <tr>\n",
       "      <th>dataset</th>\n",
       "      <th></th>\n",
       "      <th></th>\n",
       "      <th></th>\n",
       "    </tr>\n",
       "  </thead>\n",
       "  <tbody>\n",
       "    <tr>\n",
       "      <th>yahoo_A1</th>\n",
       "      <td>0.471302</td>\n",
       "      <td>0.251025</td>\n",
       "      <td>0.318103</td>\n",
       "    </tr>\n",
       "    <tr>\n",
       "      <th>yahoo_A2</th>\n",
       "      <td>0.000000</td>\n",
       "      <td>0.000000</td>\n",
       "      <td>0.000000</td>\n",
       "    </tr>\n",
       "    <tr>\n",
       "      <th>yahoo_A3</th>\n",
       "      <td>0.549188</td>\n",
       "      <td>0.129507</td>\n",
       "      <td>0.041954</td>\n",
       "    </tr>\n",
       "    <tr>\n",
       "      <th>yahoo_A4</th>\n",
       "      <td>0.452129</td>\n",
       "      <td>0.101775</td>\n",
       "      <td>0.021734</td>\n",
       "    </tr>\n",
       "  </tbody>\n",
       "</table>\n",
       "</div>"
      ],
      "text/plain": [
       "                f1    pr_auc   roc_auc\n",
       "dataset                               \n",
       "yahoo_A1  0.471302  0.251025  0.318103\n",
       "yahoo_A2  0.000000  0.000000  0.000000\n",
       "yahoo_A3  0.549188  0.129507  0.041954\n",
       "yahoo_A4  0.452129  0.101775  0.021734"
      ]
     },
     "execution_count": 7,
     "metadata": {},
     "output_type": "execute_result"
    }
   ],
   "source": [
    "yahoo_results.groupby('dataset').mean()"
   ]
  },
  {
   "cell_type": "markdown",
   "id": "8890a678-6116-4222-b0ff-395fcd7f41aa",
   "metadata": {},
   "source": [
    "### NASA"
   ]
  },
  {
   "cell_type": "code",
   "execution_count": 8,
   "id": "e4387a80-585a-488e-94a8-546f42d47632",
   "metadata": {},
   "outputs": [],
   "source": [
    "total_scores = {'dataset': [], 'f1': [], 'pr_auc': [], 'roc_auc': []}"
   ]
  },
  {
   "cell_type": "code",
   "execution_count": 9,
   "id": "106a238d-c5cb-49e9-9764-b1bc37f09436",
   "metadata": {},
   "outputs": [
    {
     "data": {
      "application/vnd.jupyter.widget-view+json": {
       "model_id": "ce68fda625c14d9abfcf01ff561d6af3",
       "version_major": 2,
       "version_minor": 0
      },
      "text/plain": [
       "  0%|          | 0/2 [00:00<?, ?it/s]"
      ]
     },
     "metadata": {},
     "output_type": "display_data"
    },
    {
     "data": {
      "application/vnd.jupyter.widget-view+json": {
       "model_id": "d954b761a180488292cd94b44e37910e",
       "version_major": 2,
       "version_minor": 0
      },
      "text/plain": [
       "  0%|          | 0/2 [00:00<?, ?it/s]"
      ]
     },
     "metadata": {},
     "output_type": "display_data"
    },
    {
     "name": "stdout",
     "output_type": "stream",
     "text": [
      "D1 0.32346086604438307 0.1600767402035157 0.6077561894303012\n",
      "D2 0.2744629834145987 0.10862153799601292 0.35991304497352505\n"
     ]
    }
   ],
   "source": [
    "for loader in [load_nasa]:\n",
    "    datasets = loader(100, 100)\n",
    "    x_trains, x_tests, y_tests = datasets['x_train'], datasets['x_test'], datasets['y_test']\n",
    "    \n",
    "    for i in tqdm(range(len(x_trains))):\n",
    "        tf.keras.backend.clear_session()\n",
    "\n",
    "        X_train = x_trains[i]\n",
    "        X_test = x_tests[i]\n",
    "        \n",
    "        gan = get_gan(X_train)\n",
    "        dataset = tf.data.Dataset.from_tensor_slices(X_train)\n",
    "        dataset = dataset.batch(128, drop_remainder=True).prefetch(1)\n",
    "\n",
    "        train_gan(gan, dataset, 128, X_train.shape[1], X_train.shape[2])\n",
    "        \n",
    "        X_test_rec = gan.layers[0].predict(X_test)\n",
    "        scores = evaluate(X_test, X_test_rec, y_tests[i], is_reconstructed=True)\n",
    "        \n",
    "        total_scores['dataset'].append(f'D{i+1}')\n",
    "        total_scores['f1'].append(np.max(scores['f1']))\n",
    "        total_scores['pr_auc'].append(scores['pr_auc'])\n",
    "        total_scores['roc_auc'].append(scores['roc_auc'])\n",
    "        print(f'D{i+1}', np.max(scores['f1']), scores['pr_auc'], scores['roc_auc'])   "
   ]
  },
  {
   "cell_type": "code",
   "execution_count": 10,
   "id": "abb7a6a5-3924-4a33-bc54-871559819602",
   "metadata": {},
   "outputs": [],
   "source": [
    "nasa_results = pd.DataFrame(total_scores)"
   ]
  },
  {
   "cell_type": "code",
   "execution_count": 11,
   "id": "47b35a95-f236-4ae8-b244-5395fe9955bd",
   "metadata": {},
   "outputs": [
    {
     "data": {
      "text/html": [
       "<div>\n",
       "<style scoped>\n",
       "    .dataframe tbody tr th:only-of-type {\n",
       "        vertical-align: middle;\n",
       "    }\n",
       "\n",
       "    .dataframe tbody tr th {\n",
       "        vertical-align: top;\n",
       "    }\n",
       "\n",
       "    .dataframe thead th {\n",
       "        text-align: right;\n",
       "    }\n",
       "</style>\n",
       "<table border=\"1\" class=\"dataframe\">\n",
       "  <thead>\n",
       "    <tr style=\"text-align: right;\">\n",
       "      <th></th>\n",
       "      <th>f1</th>\n",
       "      <th>pr_auc</th>\n",
       "      <th>roc_auc</th>\n",
       "    </tr>\n",
       "    <tr>\n",
       "      <th>dataset</th>\n",
       "      <th></th>\n",
       "      <th></th>\n",
       "      <th></th>\n",
       "    </tr>\n",
       "  </thead>\n",
       "  <tbody>\n",
       "    <tr>\n",
       "      <th>D1</th>\n",
       "      <td>0.323461</td>\n",
       "      <td>0.160077</td>\n",
       "      <td>0.607756</td>\n",
       "    </tr>\n",
       "    <tr>\n",
       "      <th>D2</th>\n",
       "      <td>0.274463</td>\n",
       "      <td>0.108622</td>\n",
       "      <td>0.359913</td>\n",
       "    </tr>\n",
       "  </tbody>\n",
       "</table>\n",
       "</div>"
      ],
      "text/plain": [
       "               f1    pr_auc   roc_auc\n",
       "dataset                              \n",
       "D1       0.323461  0.160077  0.607756\n",
       "D2       0.274463  0.108622  0.359913"
      ]
     },
     "execution_count": 11,
     "metadata": {},
     "output_type": "execute_result"
    }
   ],
   "source": [
    "nasa_results.groupby('dataset').mean()"
   ]
  },
  {
   "cell_type": "markdown",
   "id": "41754734-5c75-4caf-9069-fb3b39c7a0da",
   "metadata": {},
   "source": [
    "### SMD"
   ]
  },
  {
   "cell_type": "code",
   "execution_count": 12,
   "id": "60a26807-8359-42d4-82b4-9e1d37b6acaa",
   "metadata": {},
   "outputs": [],
   "source": [
    "total_scores = {'dataset': [], 'f1': [], 'pr_auc': [], 'roc_auc': []}"
   ]
  },
  {
   "cell_type": "code",
   "execution_count": 13,
   "id": "41af318e-1b08-4cc9-a680-6b4a978544f2",
   "metadata": {},
   "outputs": [
    {
     "data": {
      "application/vnd.jupyter.widget-view+json": {
       "model_id": "9ef7b08d62c44da89d8f25d6513857e4",
       "version_major": 2,
       "version_minor": 0
      },
      "text/plain": [
       "  0%|          | 0/28 [00:00<?, ?it/s]"
      ]
     },
     "metadata": {},
     "output_type": "display_data"
    },
    {
     "data": {
      "application/vnd.jupyter.widget-view+json": {
       "model_id": "9731e972a8fe4f1080f3949dba7e2916",
       "version_major": 2,
       "version_minor": 0
      },
      "text/plain": [
       "  0%|          | 0/28 [00:00<?, ?it/s]"
      ]
     },
     "metadata": {},
     "output_type": "display_data"
    },
    {
     "name": "stdout",
     "output_type": "stream",
     "text": [
      "smd 0.21943571700356884 0.5598591033089078 0.5142857126097861\n",
      "smd 0.1269841149911827 0.028842153678961244 0.20873856392188728\n",
      "smd 0.1556420088722022 0.09185448369881605 0.5002873074412524\n",
      "smd 0.21428567193878317 0.19194169089188812 0.49500418503963173\n",
      "smd 0.5454544958677713 0.33228459963464496 0.5228477771657705\n",
      "smd 0.6105262720886456 0.6111801372271136 0.682389447765869\n",
      "smd 0.2647058591911784 0.09651838720162727 0.3891706049077417\n",
      "smd 0.19157086375713953 0.11702812683831507 0.42406210660722543\n",
      "smd 0.18461536771597778 0.10511829671107717 0.2752995108563976\n",
      "smd 0.28363633908892766 0.31254086908728773 0.46595875430222145\n",
      "smd 0.1044176607022476 0.012764994011085882 0.13246850010897723\n",
      "smd 0.4054053556245493 0.31295654103274284 0.6429774124814169\n",
      "smd 0.23529409550173158 0.18749939197480625 0.45710478932683557\n",
      "smd 0.1739129920605058 0.1017597278404407 0.6872313971754582\n",
      "smd 0.2857142591836752 0.17214713133715798 0.3333660019410105\n",
      "smd 0.7999999200000041 0.7166665922777845 0.995014211421885\n",
      "smd 0.6818181313016561 0.7295866939042944 0.7894586859967725\n",
      "smd 0.399999960000002 0.23500107452215516 0.6164568259625735\n",
      "smd 0.19157086375713953 0.040191663408351536 0.009715639708665572\n",
      "smd 0.39999995200000177 0.2212165448084049 0.8809101428047408\n",
      "smd 0.16279068259419638 0.0789861264553473 0.46303883555899183\n",
      "smd 0.25735291856347503 0.07275360507185906 0.3396759979878355\n",
      "smd 0.6666666177777806 0.5652732416381412 0.7557870320489632\n",
      "smd 0.28571425215419793 0.2096151925467487 0.3946108915400538\n",
      "smd 0.17647054567475015 0.1647171095970279 0.5231571559360241\n",
      "smd 0.11904759963152221 0.03462108155458033 0.5888681841690844\n",
      "smd 0.19047617142857234 0.12145570186438806 0.23403493235858105\n",
      "smd 0.399999960000002 0.2066453690907249 0.5384664544090101\n"
     ]
    }
   ],
   "source": [
    "for loader in [load_smd]:\n",
    "    datasets = loader(100, 100)\n",
    "    x_trains, x_tests, y_tests = datasets['x_train'], datasets['x_test'], datasets['y_test']\n",
    "    \n",
    "    for i in tqdm(range(len(x_trains))):\n",
    "        tf.keras.backend.clear_session()\n",
    "\n",
    "        X_train = x_trains[i]\n",
    "        X_test = x_tests[i]\n",
    "        \n",
    "        gan = get_gan(X_train)\n",
    "        dataset = tf.data.Dataset.from_tensor_slices(X_train)\n",
    "        dataset = dataset.batch(128, drop_remainder=True).prefetch(1)\n",
    "\n",
    "        train_gan(gan, dataset, 128, X_train.shape[1], X_train.shape[2])\n",
    "        \n",
    "        X_test_rec = gan.layers[0].predict(X_test)\n",
    "        scores = evaluate(X_test, X_test_rec, y_tests[i], is_reconstructed=True)\n",
    "\n",
    "        total_scores['dataset'].append(loader.__name__.replace('load_', ''))\n",
    "        total_scores['f1'].append(np.max(scores['f1']))\n",
    "        total_scores['pr_auc'].append(scores['pr_auc'])\n",
    "        total_scores['roc_auc'].append(scores['roc_auc'])\n",
    "        print(loader.__name__.replace('load_', ''), np.max(scores['f1']), scores['pr_auc'], scores['roc_auc'])   "
   ]
  },
  {
   "cell_type": "code",
   "execution_count": 14,
   "id": "23474773-bac1-4145-ac75-c1a686bca5c6",
   "metadata": {},
   "outputs": [],
   "source": [
    "smd_results = pd.DataFrame(total_scores)"
   ]
  },
  {
   "cell_type": "code",
   "execution_count": 15,
   "id": "0f82f57f-4d93-4003-b22b-93bd75cf36e7",
   "metadata": {},
   "outputs": [
    {
     "data": {
      "text/html": [
       "<div>\n",
       "<style scoped>\n",
       "    .dataframe tbody tr th:only-of-type {\n",
       "        vertical-align: middle;\n",
       "    }\n",
       "\n",
       "    .dataframe tbody tr th {\n",
       "        vertical-align: top;\n",
       "    }\n",
       "\n",
       "    .dataframe thead th {\n",
       "        text-align: right;\n",
       "    }\n",
       "</style>\n",
       "<table border=\"1\" class=\"dataframe\">\n",
       "  <thead>\n",
       "    <tr style=\"text-align: right;\">\n",
       "      <th></th>\n",
       "      <th>f1</th>\n",
       "      <th>pr_auc</th>\n",
       "      <th>roc_auc</th>\n",
       "    </tr>\n",
       "    <tr>\n",
       "      <th>dataset</th>\n",
       "      <th></th>\n",
       "      <th></th>\n",
       "      <th></th>\n",
       "    </tr>\n",
       "  </thead>\n",
       "  <tbody>\n",
       "    <tr>\n",
       "      <th>smd</th>\n",
       "      <td>0.311911</td>\n",
       "      <td>0.236822</td>\n",
       "      <td>0.495014</td>\n",
       "    </tr>\n",
       "  </tbody>\n",
       "</table>\n",
       "</div>"
      ],
      "text/plain": [
       "               f1    pr_auc   roc_auc\n",
       "dataset                              \n",
       "smd      0.311911  0.236822  0.495014"
      ]
     },
     "execution_count": 15,
     "metadata": {},
     "output_type": "execute_result"
    }
   ],
   "source": [
    "smd_results.groupby('dataset').mean()"
   ]
  },
  {
   "cell_type": "code",
   "execution_count": null,
   "id": "8a2f4c6f-5b06-4a68-82c5-f12bdbc6e527",
   "metadata": {},
   "outputs": [],
   "source": []
  }
 ],
 "metadata": {
  "kernelspec": {
   "display_name": "Python 3",
   "language": "python",
   "name": "python3"
  },
  "language_info": {
   "codemirror_mode": {
    "name": "ipython",
    "version": 3
   },
   "file_extension": ".py",
   "mimetype": "text/x-python",
   "name": "python",
   "nbconvert_exporter": "python",
   "pygments_lexer": "ipython3",
   "version": "3.9.4"
  }
 },
 "nbformat": 4,
 "nbformat_minor": 5
}
