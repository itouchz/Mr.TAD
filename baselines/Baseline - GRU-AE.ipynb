{
 "cells": [
  {
   "cell_type": "code",
   "execution_count": 1,
   "id": "a80a379b-932c-4401-8d76-b5ae5dedc6cc",
   "metadata": {},
   "outputs": [],
   "source": [
    "import os\n",
    "import random\n",
    "\n",
    "os.environ[\"CUDA_DEVICE_ORDER\"] = \"PCI_BUS_ID\";\n",
    "os.environ[\"CUDA_VISIBLE_DEVICES\"] = \"1\"\n",
    "os.environ[\"TF_FORCE_GPU_ALLOW_GROWTH\"] = \"true\""
   ]
  },
  {
   "cell_type": "code",
   "execution_count": 2,
   "id": "saving-behavior",
   "metadata": {},
   "outputs": [],
   "source": [
    "import numpy as np\n",
    "import pandas as pd\n",
    "import tensorflow as tf\n",
    "\n",
    "from evaluator import evaluate\n",
    "from data_loader import load_kdd_cup_urc, load_yahoo_A1, load_yahoo_A2, load_yahoo_A3, load_yahoo_A4, load_power_demand # Univariate Datasets\n",
    "from data_loader import load_nasa, load_ecg, load_gesture, load_smd # Multivariate Datasets\n",
    "\n",
    "from tensorflow import keras\n",
    "from tensorflow.keras import layers\n",
    "from tqdm.notebook import tqdm\n",
    "\n",
    "# THESE LINES ARE FOR REPRODUCIBILITY\n",
    "random.seed(0)\n",
    "np.random.seed(0)\n",
    "tf.random.set_seed(0)"
   ]
  },
  {
   "cell_type": "markdown",
   "id": "fa97c067-d18d-4c06-ae1b-2cbfe88788b6",
   "metadata": {},
   "source": [
    "### Yahoo S5"
   ]
  },
  {
   "cell_type": "code",
   "execution_count": 3,
   "id": "eight-partition",
   "metadata": {},
   "outputs": [],
   "source": [
    "total_scores = {'dataset': [], 'f1': [], 'pr_auc': [], 'roc_auc': []}"
   ]
  },
  {
   "cell_type": "code",
   "execution_count": 4,
   "id": "71866d92-1163-4975-bb99-4302ccda66c3",
   "metadata": {
    "scrolled": true,
    "tags": []
   },
   "outputs": [
    {
     "data": {
      "application/vnd.jupyter.widget-view+json": {
       "model_id": "30628c37169d4956a6e2b320588eeeda",
       "version_major": 2,
       "version_minor": 0
      },
      "text/plain": [
       "  0%|          | 0/67 [00:00<?, ?it/s]"
      ]
     },
     "metadata": {},
     "output_type": "display_data"
    },
    {
     "data": {
      "application/vnd.jupyter.widget-view+json": {
       "model_id": "2d71d538cfe246f2aea91135e09d234a",
       "version_major": 2,
       "version_minor": 0
      },
      "text/plain": [
       "  0%|          | 0/67 [00:00<?, ?it/s]"
      ]
     },
     "metadata": {},
     "output_type": "display_data"
    },
    {
     "name": "stdout",
     "output_type": "stream",
     "text": [
      "yahoo_A1 0.5714285224489823 0.4271825012201472 0.5972221909722236\n",
      "yahoo_A1 0.0 0.0 0.0\n",
      "yahoo_A1 0.9999998500000123 0.49999990000001493 0.9999998888889001\n",
      "yahoo_A1 0.0 0.0 0.0\n",
      "WARNING:tensorflow:5 out of the last 5 calls to <function Model.make_predict_function.<locals>.predict_function at 0x7fc25c69f0d0> triggered tf.function retracing. Tracing is expensive and the excessive number of tracings could be due to (1) creating @tf.function repeatedly in a loop, (2) passing tensors with different shapes, (3) passing Python objects instead of tensors. For (1), please define your @tf.function outside of the loop. For (2), @tf.function has experimental_relax_shapes=True option that relaxes argument shapes that can avoid unnecessary retracing. For (3), please refer to https://www.tensorflow.org/guide/function#controlling_retracing and https://www.tensorflow.org/api_docs/python/tf/function for  more details.\n",
      "yahoo_A1 0.0 0.0 0.0\n",
      "WARNING:tensorflow:6 out of the last 6 calls to <function Model.make_predict_function.<locals>.predict_function at 0x7fc2e46aa5e0> triggered tf.function retracing. Tracing is expensive and the excessive number of tracings could be due to (1) creating @tf.function repeatedly in a loop, (2) passing tensors with different shapes, (3) passing Python objects instead of tensors. For (1), please define your @tf.function outside of the loop. For (2), @tf.function has experimental_relax_shapes=True option that relaxes argument shapes that can avoid unnecessary retracing. For (3), please refer to https://www.tensorflow.org/guide/function#controlling_retracing and https://www.tensorflow.org/api_docs/python/tf/function for  more details.\n",
      "yahoo_A1 0.0 0.0 -0.0\n",
      "yahoo_A1 0.0 0.0 0.0\n",
      "yahoo_A1 0.46153841893491365 0.14999999350000026 0.49999997619047704\n",
      "yahoo_A1 0.6666666133333363 0.6263888375648194 0.6033333085055562\n",
      "yahoo_A1 0.0 0.0 0.0\n",
      "yahoo_A1 0.7499999343750033 0.6880555048500808 0.6449999730750008\n",
      "yahoo_A1 0.33333330000000166 0.06250000074652727 0.3749999578125042\n",
      "yahoo_A1 0.8571427959183704 0.29166666374007905 -0.0\n",
      "yahoo_A1 0.6666666133333363 0.5338888478286409 0.6366666305611128\n",
      "yahoo_A1 0.9999999000000052 0.7499998875000145 0.9999999375000035\n",
      "yahoo_A1 0.18181816198347142 0.0 0.0\n",
      "yahoo_A1 0.46153841893491365 0.0 0.0\n",
      "yahoo_A1 0.9999998500000123 0.49999990000001493 0.9999998888889001\n",
      "yahoo_A1 0.6666666133333363 0.32961308272599993 0.31666665186111165\n",
      "yahoo_A1 0.6666666133333363 0.08333334620204845 -0.0\n",
      "yahoo_A1 0.666666611111114 0.10000001155158537 -0.0\n",
      "yahoo_A1 0.749999943750003 1.925925872551029e-09 0.0\n",
      "yahoo_A1 0.0 0.0 0.0\n",
      "yahoo_A1 0.0 0.0 -0.0\n",
      "yahoo_A1 0.9999999357142885 0.9166665901031821 0.9999999523809541\n",
      "yahoo_A1 0.9999999357142885 0.7499999509920676 0.9999999523809542\n",
      "yahoo_A1 0.0 0.0 0.0\n",
      "yahoo_A1 0.8235293536332209 0.1250000193601164 -0.0\n",
      "yahoo_A1 0.0 0.0 0.0\n",
      "yahoo_A1 0.0 0.0 0.0\n",
      "yahoo_A1 0.6666666133333363 0.6446428107947881 0.6799999718000007\n",
      "yahoo_A1 0.6666666133333363 0.0 0.0\n",
      "yahoo_A1 0.6666666133333363 0.0 0.0\n",
      "yahoo_A1 0.18181816198347142 0.049999994500000554 0.4444443950617334\n",
      "yahoo_A1 0.9999999400000027 0.8999999569226215 0.0\n",
      "yahoo_A1 0.5714285224489823 0.0714285810033999 -0.0\n",
      "yahoo_A1 0.9999999000000052 0.4999999500000039 0.9999999375000035\n",
      "yahoo_A1 0.5714285224489823 0.15138888766170602 0.21527775607639096\n",
      "yahoo_A1 0.0 0.0 0.0\n",
      "yahoo_A1 0.5714285224489823 0.07142858121173319 -0.0\n",
      "yahoo_A1 0.749999943750003 0.10000001611639997 -0.0\n",
      "yahoo_A1 0.6666666133333363 0.0 0.0\n",
      "yahoo_A1 0.0 0.0 0.0\n",
      "yahoo_A1 0.0 0.0 0.0\n",
      "yahoo_A1 0.0 0.0 0.0\n",
      "yahoo_A1 0.0 0.0 0.0\n",
      "yahoo_A1 0.6666666133333363 2.3611109670614528e-09 0.0\n",
      "yahoo_A1 0.749999943750003 1.925925872551029e-09 0.0\n",
      "yahoo_A1 0.46153841893491365 0.06250000600115631 -0.0\n",
      "yahoo_A1 0.0 0.0 0.0\n",
      "yahoo_A1 0.8888888296296326 9.120369957746283e-09 0.0\n",
      "yahoo_A1 0.8888888296296326 1.4087301978699216e-09 0.0\n",
      "yahoo_A1 0.749999943750003 0.25833332876653436 0.12499999375000023\n",
      "yahoo_A1 0.9999998500000123 0.49999990000001493 0.9999998888889001\n",
      "yahoo_A1 0.0 0.0 0.0\n",
      "yahoo_A1 0.0 0.0 0.0\n",
      "yahoo_A1 0.5714285224489823 0.083333342539681 0.2499999708333363\n",
      "yahoo_A1 0.0 0.0 -0.0\n",
      "yahoo_A1 0.0 0.0 0.0\n",
      "yahoo_A1 0.0 0.0 0.0\n",
      "yahoo_A1 0.0 0.0 -0.0\n",
      "yahoo_A1 0.7692307100591745 0.6434523408939703 0.6208333058819453\n",
      "yahoo_A1 0.5714285224489823 0.6333332667222289 0.666666637500001\n",
      "yahoo_A1 0.18181816198347142 0.049999994500000554 0.49999994444445006\n",
      "yahoo_A1 0.9999999166666703 0.49999996666666835 0.9999999523809541\n",
      "yahoo_A1 0.6666666133333363 0.08333334640872832 -0.0\n",
      "yahoo_A1 0.5714285224489823 0.0 0.0\n"
     ]
    },
    {
     "data": {
      "application/vnd.jupyter.widget-view+json": {
       "model_id": "9eaf96f2fa554897bdb6954007f04bbb",
       "version_major": 2,
       "version_minor": 0
      },
      "text/plain": [
       "  0%|          | 0/100 [00:00<?, ?it/s]"
      ]
     },
     "metadata": {},
     "output_type": "display_data"
    },
    {
     "data": {
      "application/vnd.jupyter.widget-view+json": {
       "model_id": "348c4fcde0f94730a7a0310737b892e7",
       "version_major": 2,
       "version_minor": 0
      },
      "text/plain": [
       "  0%|          | 0/100 [00:00<?, ?it/s]"
      ]
     },
     "metadata": {},
     "output_type": "display_data"
    },
    {
     "name": "stdout",
     "output_type": "stream",
     "text": [
      "yahoo_A2 0.0 0.0 -0.0\n",
      "yahoo_A2 0.0 0.0 0.0\n",
      "yahoo_A2 0.0 0.0 0.0\n",
      "yahoo_A2 0.0 0.0 0.0\n",
      "yahoo_A2 0.0 0.0 0.0\n",
      "yahoo_A2 0.0 0.0 0.0\n",
      "yahoo_A2 0.0 0.0 0.0\n",
      "yahoo_A2 0.0 0.0 -0.0\n",
      "yahoo_A2 0.0 0.0 0.0\n",
      "yahoo_A2 0.0 0.0 0.0\n",
      "yahoo_A2 0.0 0.0 -0.0\n",
      "yahoo_A2 0.0 0.0 0.0\n",
      "yahoo_A2 0.0 0.0 0.0\n",
      "yahoo_A2 0.0 0.0 0.0\n",
      "yahoo_A2 0.0 0.0 0.0\n",
      "yahoo_A2 0.0 0.0 0.0\n",
      "yahoo_A2 0.0 0.0 0.0\n",
      "yahoo_A2 0.0 0.0 0.0\n",
      "yahoo_A2 0.0 0.0 0.0\n",
      "yahoo_A2 0.0 0.0 0.0\n",
      "yahoo_A2 0.0 0.0 0.0\n",
      "yahoo_A2 0.0 0.0 0.0\n",
      "yahoo_A2 0.0 0.0 -0.0\n",
      "yahoo_A2 0.0 0.0 0.0\n",
      "yahoo_A2 0.0 0.0 0.0\n",
      "yahoo_A2 0.0 0.0 0.0\n",
      "yahoo_A2 0.0 0.0 0.0\n",
      "yahoo_A2 0.0 0.0 0.0\n",
      "yahoo_A2 0.0 0.0 0.0\n",
      "yahoo_A2 0.0 0.0 0.0\n",
      "yahoo_A2 0.0 0.0 0.0\n",
      "yahoo_A2 0.0 0.0 0.0\n",
      "yahoo_A2 0.0 0.0 0.0\n",
      "yahoo_A2 0.0 0.0 0.0\n",
      "yahoo_A2 0.0 0.0 -0.0\n",
      "yahoo_A2 0.0 0.0 0.0\n",
      "yahoo_A2 0.0 0.0 0.0\n",
      "yahoo_A2 0.0 0.0 0.0\n",
      "yahoo_A2 0.0 0.0 -0.0\n",
      "yahoo_A2 0.0 0.0 0.0\n",
      "yahoo_A2 0.0 0.0 0.0\n",
      "yahoo_A2 0.0 0.0 0.0\n",
      "yahoo_A2 0.0 0.0 0.0\n",
      "yahoo_A2 0.0 0.0 0.0\n",
      "yahoo_A2 0.0 0.0 0.0\n",
      "yahoo_A2 0.0 0.0 0.0\n",
      "yahoo_A2 0.0 0.0 0.0\n",
      "yahoo_A2 0.0 0.0 0.0\n",
      "yahoo_A2 0.0 0.0 0.0\n",
      "yahoo_A2 0.0 0.0 0.0\n",
      "yahoo_A2 0.0 0.0 0.0\n",
      "yahoo_A2 0.0 0.0 0.0\n",
      "yahoo_A2 0.0 0.0 0.0\n",
      "yahoo_A2 0.0 0.0 -0.0\n",
      "yahoo_A2 0.0 0.0 0.0\n",
      "yahoo_A2 0.0 0.0 0.0\n",
      "yahoo_A2 0.0 0.0 0.0\n",
      "yahoo_A2 0.0 0.0 0.0\n",
      "yahoo_A2 0.0 0.0 0.0\n",
      "yahoo_A2 0.0 0.0 0.0\n",
      "yahoo_A2 0.0 0.0 0.0\n",
      "yahoo_A2 0.0 0.0 0.0\n",
      "yahoo_A2 0.0 0.0 0.0\n",
      "yahoo_A2 0.0 0.0 0.0\n",
      "yahoo_A2 0.0 0.0 0.0\n",
      "yahoo_A2 0.0 0.0 0.0\n",
      "yahoo_A2 0.0 0.0 0.0\n",
      "yahoo_A2 0.0 0.0 0.0\n",
      "yahoo_A2 0.0 0.0 0.0\n",
      "yahoo_A2 0.0 0.0 0.0\n",
      "yahoo_A2 0.0 0.0 0.0\n",
      "yahoo_A2 0.0 0.0 0.0\n",
      "yahoo_A2 0.0 0.0 0.0\n",
      "yahoo_A2 0.0 0.0 0.0\n",
      "yahoo_A2 0.0 0.0 0.0\n",
      "yahoo_A2 0.0 0.0 0.0\n",
      "yahoo_A2 0.0 0.0 -0.0\n",
      "yahoo_A2 0.0 0.0 0.0\n",
      "yahoo_A2 0.0 0.0 0.0\n",
      "yahoo_A2 0.0 0.0 0.0\n",
      "yahoo_A2 0.0 0.0 0.0\n",
      "yahoo_A2 0.0 0.0 -0.0\n",
      "yahoo_A2 0.0 0.0 0.0\n",
      "yahoo_A2 0.0 0.0 0.0\n",
      "yahoo_A2 0.0 0.0 -0.0\n",
      "yahoo_A2 0.0 0.0 0.0\n",
      "yahoo_A2 0.0 0.0 0.0\n",
      "yahoo_A2 0.0 0.0 0.0\n",
      "yahoo_A2 0.0 0.0 0.0\n",
      "yahoo_A2 0.0 0.0 0.0\n",
      "yahoo_A2 0.0 0.0 0.0\n",
      "yahoo_A2 0.0 0.0 0.0\n",
      "yahoo_A2 0.0 0.0 -0.0\n",
      "yahoo_A2 0.0 0.0 0.0\n",
      "yahoo_A2 0.0 0.0 0.0\n",
      "yahoo_A2 0.0 0.0 0.0\n",
      "yahoo_A2 0.0 0.0 0.0\n",
      "yahoo_A2 0.0 0.0 0.0\n",
      "yahoo_A2 0.0 0.0 0.0\n",
      "yahoo_A2 0.0 0.0 -0.0\n"
     ]
    },
    {
     "data": {
      "application/vnd.jupyter.widget-view+json": {
       "model_id": "93ef8ac49bd845808743fc7996afbf77",
       "version_major": 2,
       "version_minor": 0
      },
      "text/plain": [
       "  0%|          | 0/100 [00:00<?, ?it/s]"
      ]
     },
     "metadata": {},
     "output_type": "display_data"
    },
    {
     "data": {
      "application/vnd.jupyter.widget-view+json": {
       "model_id": "795e9b7bcce346898beb279de341e8fb",
       "version_major": 2,
       "version_minor": 0
      },
      "text/plain": [
       "  0%|          | 0/100 [00:00<?, ?it/s]"
      ]
     },
     "metadata": {},
     "output_type": "display_data"
    },
    {
     "name": "stdout",
     "output_type": "stream",
     "text": [
      "yahoo_A3 0.4999999562500026 2.5252523422138635e-09 0.0\n",
      "yahoo_A3 0.5882352456747433 0.14467592519269648 -0.0\n",
      "yahoo_A3 0.736842050969532 3.0862191832992026e-09 0.0\n",
      "yahoo_A3 0.4999999562500026 0.0 0.0\n",
      "yahoo_A3 0.8571428000000028 6.079996228979668e-09 0.0\n",
      "yahoo_A3 0.4999999562500026 0.0 0.0\n",
      "yahoo_A3 0.749999943750003 0.41666662648401226 0.8999999420000038\n",
      "yahoo_A3 0.6666666148148177 0.07142858473067244 -0.0\n",
      "yahoo_A3 0.799999944000003 1.741834889734491e-08 0.0\n",
      "yahoo_A3 0.0 0.0 -0.0\n",
      "yahoo_A3 0.9565216809073751 0.19875000447749328 0.0\n",
      "yahoo_A3 0.9523808934240391 0.5138888721369566 -0.0\n",
      "yahoo_A3 0.799999944000003 0.10000001875168127 0.0\n",
      "yahoo_A3 0.3076922769230785 0.06250000001420417 0.2999999720000025\n",
      "yahoo_A3 0.736842050969532 0.0 0.0\n",
      "yahoo_A3 0.15384613727810673 0.04166666215277823 -0.0\n",
      "yahoo_A3 0.9090908512396723 0.0 0.0\n",
      "yahoo_A3 0.4999999562500026 0.0 0.0\n",
      "yahoo_A3 0.4999999562500026 0.05555556362513912 -0.0\n",
      "yahoo_A3 0.5882352456747433 0.06250001071706508 -0.0\n",
      "yahoo_A3 0.28571425714285853 0.04545454693526121 0.0\n",
      "yahoo_A3 0.3076922769230785 7.045453450738438e-09 0.09999999400000031\n",
      "yahoo_A3 0.736842050969532 0.08333334928826763 -0.0\n",
      "yahoo_A3 0.9565216809073751 0.25000002354554557 -0.0\n",
      "yahoo_A3 0.3999999626666689 0.0833333370310236 0.4444444117283975\n",
      "yahoo_A3 0.4999999562500026 0.0 0.0\n",
      "yahoo_A3 0.736842050969532 0.0 0.0\n",
      "yahoo_A3 0.5882352456747433 0.0 0.0\n",
      "yahoo_A3 0.0 0.0 0.0\n",
      "yahoo_A3 0.4999999562500026 0.0 0.0\n",
      "yahoo_A3 0.6666666148148177 6.843433941114833e-09 0.0\n",
      "yahoo_A3 0.8571428000000028 0.0 0.0\n",
      "yahoo_A3 0.0 0.0 -0.0\n",
      "yahoo_A3 0.9999999416666693 0.49999999166666675 0.0\n",
      "yahoo_A3 0.9565216809073751 1.361499299370165e-08 0.0\n",
      "yahoo_A3 0.736842050969532 2.854421857005125e-08 0.5999999413333387\n",
      "yahoo_A3 0.9565216809073751 0.0 0.0\n",
      "yahoo_A3 0.842105205540169 0.2500000012594693 -0.0\n",
      "yahoo_A3 0.9090908512396723 0.0 0.0\n",
      "yahoo_A3 0.8571428000000028 0.0 0.0\n",
      "yahoo_A3 0.799999944000003 0.0 0.0\n",
      "yahoo_A3 0.736842050969532 0.28130951848973407 0.3499999842500005\n",
      "yahoo_A3 0.9090908512396723 0.22222223162457802 0.0\n",
      "yahoo_A3 0.15384613727810673 0.0 0.0\n",
      "yahoo_A3 0.9999999416666693 7.57575662263717e-10 0.0\n",
      "yahoo_A3 0.28571425714285853 0.04545454693526121 -0.0\n",
      "yahoo_A3 0.4999999562500026 0.05555556362513912 -0.0\n",
      "yahoo_A3 0.8571428000000028 3.927218513552482e-09 0.0\n",
      "yahoo_A3 0.0 0.0 0.0\n",
      "yahoo_A3 0.9565216809073751 2.0073325770143093e-08 0.0\n",
      "yahoo_A3 0.9999999416666693 5.952380854173713e-09 0.0\n",
      "yahoo_A3 0.8571428000000028 0.2708333333617422 -0.0\n",
      "yahoo_A3 0.0 0.0 -0.0\n",
      "yahoo_A3 0.0 0.0 -0.0\n",
      "yahoo_A3 0.3999999626666689 0.0 0.0\n",
      "yahoo_A3 0.5882352456747433 0.06250001071706508 -0.0\n",
      "yahoo_A3 0.6666666148148177 0.0 0.0\n",
      "yahoo_A3 0.736842050969532 0.17460317695266825 0.0\n",
      "yahoo_A3 0.7777777216049413 1.7405722457359905e-08 0.24999998541666732\n",
      "yahoo_A3 0.9565216809073751 0.0 0.0\n",
      "yahoo_A3 0.8571428000000028 0.1250000216603509 0.0\n",
      "yahoo_A3 0.6666666148148177 1.5909090497462517e-09 0.0\n",
      "yahoo_A3 0.8571428000000028 1.025883832329092e-09 0.0\n",
      "yahoo_A3 0.4999999562500026 0.0 0.0\n",
      "yahoo_A3 0.9090908512396723 4.64393883978219e-08 0.0\n",
      "yahoo_A3 0.9565216809073751 3.187887991639882e-08 0.0\n",
      "yahoo_A3 0.799999944000003 0.0 0.0\n",
      "yahoo_A3 0.8571428000000028 0.6218664540001991 0.5694444097800944\n",
      "yahoo_A3 0.4999999562500026 1.4242422449570196e-08 0.0\n",
      "yahoo_A3 0.799999944000003 1.1069143219769037e-08 0.0\n",
      "yahoo_A3 0.0 0.0 -0.0\n",
      "yahoo_A3 0.8571428000000028 0.0 0.0\n",
      "yahoo_A3 0.0 0.0 -0.0\n",
      "yahoo_A3 0.8571428000000028 0.0 0.0\n",
      "yahoo_A3 0.6666666148148177 0.0 0.0\n",
      "yahoo_A3 0.9999999416666693 0.0 0.0\n",
      "yahoo_A3 0.9090908512396723 2.560605869571567e-08 0.0\n",
      "yahoo_A3 0.28571425714285853 0.04545454693526121 -0.0\n",
      "yahoo_A3 0.736842050969532 0.08333334512160165 0.0\n",
      "yahoo_A3 0.6666666148148177 0.15000000575360653 0.3333333202777782\n",
      "yahoo_A3 0.799999944000003 0.15000001025168233 -0.0\n",
      "yahoo_A3 0.6666666148148177 0.20696428298749958 0.0555555527777779\n",
      "yahoo_A3 0.4999999562500026 0.0 0.0\n",
      "yahoo_A3 0.4999999562500026 0.06250000852640865 0.12499999427083351\n",
      "yahoo_A3 0.799999944000003 0.0 0.0\n",
      "yahoo_A3 0.5882352456747433 0.0 0.0\n",
      "yahoo_A3 0.4999999562500026 0.15810184755305956 0.33333331388888987\n",
      "yahoo_A3 0.8571428000000028 0.12500001541035197 0.0\n",
      "yahoo_A3 0.8888888296296326 0.3472222167361111 0.0\n",
      "yahoo_A3 0.799999944000003 0.0 0.0\n",
      "yahoo_A3 0.8571428000000028 2.1035352012772012e-08 0.0\n",
      "yahoo_A3 0.6666666148148177 0.16269841363515225 0.1111111055555558\n",
      "yahoo_A3 0.5882352456747433 0.06250001071706508 -0.0\n",
      "yahoo_A3 0.6666666148148177 0.0 0.0\n",
      "yahoo_A3 0.5882352456747433 0.06250001071706508 -0.0\n",
      "yahoo_A3 0.899999941500003 0.47361109880429325 -0.0\n",
      "yahoo_A3 0.5882352456747433 9.577019387257779e-09 0.14285713605442196\n",
      "yahoo_A3 0.6666666148148177 0.15178571576277414 -0.0\n",
      "yahoo_A3 0.736842050969532 2.5677155541314532e-08 0.0\n",
      "yahoo_A3 0.4999999562500026 0.12037036907781506 -0.0\n"
     ]
    },
    {
     "data": {
      "application/vnd.jupyter.widget-view+json": {
       "model_id": "70a854184c2146f3adf08f3a76515ba1",
       "version_major": 2,
       "version_minor": 0
      },
      "text/plain": [
       "  0%|          | 0/100 [00:00<?, ?it/s]"
      ]
     },
     "metadata": {},
     "output_type": "display_data"
    },
    {
     "data": {
      "application/vnd.jupyter.widget-view+json": {
       "model_id": "64563c3cf6624a62855e0895cb5b75b2",
       "version_major": 2,
       "version_minor": 0
      },
      "text/plain": [
       "  0%|          | 0/100 [00:00<?, ?it/s]"
      ]
     },
     "metadata": {},
     "output_type": "display_data"
    },
    {
     "name": "stdout",
     "output_type": "stream",
     "text": [
      "yahoo_A4 0.6666666148148177 0.0 0.0\n",
      "yahoo_A4 0.0 0.0 0.0\n",
      "yahoo_A4 0.5333332871111137 0.3263392625770806 0.3958333162326395\n",
      "yahoo_A4 0.6666666148148177 2.1465365509595665e-08 0.0\n",
      "yahoo_A4 0.666666611111114 0.10000001155158537 0.49999998125000056\n",
      "yahoo_A4 0.9090908512396723 0.585813467106676 0.49999995833333605\n",
      "yahoo_A4 0.736842050969532 0.2739748628486687 -0.0\n",
      "yahoo_A4 0.4999999562500026 0.0 0.0\n",
      "yahoo_A4 0.0 0.0 0.0\n",
      "yahoo_A4 0.5882352456747433 0.0 0.0\n",
      "yahoo_A4 0.0 0.0 -0.0\n",
      "yahoo_A4 0.9090908512396723 3.449975957793404e-09 0.0\n",
      "yahoo_A4 0.736842050969532 0.083333349346138 0.0\n",
      "yahoo_A4 0.9090908512396723 2.041245759923482e-09 0.0\n",
      "yahoo_A4 0.6666666148148177 0.07142858473067246 -0.0\n",
      "yahoo_A4 0.736842050969532 0.20064484155150275 -0.0\n",
      "yahoo_A4 0.0 0.0 -0.0\n",
      "yahoo_A4 0.3999999626666689 0.0 0.0\n",
      "yahoo_A4 0.16666664861111138 0.045454540495868265 0.09090908099173658\n",
      "yahoo_A4 0.4999999562500026 0.0 0.0\n",
      "yahoo_A4 0.9090908512396723 0.0 0.0\n",
      "yahoo_A4 0.8571428000000028 0.0 0.0\n",
      "yahoo_A4 0.9999999416666693 1.1666666245447896e-08 0.0\n",
      "yahoo_A4 0.9473683612188393 0.25000002171060526 0.0\n",
      "yahoo_A4 0.4999999562500026 0.05555556362513912 -0.0\n",
      "yahoo_A4 0.736842050969532 0.08333334928826763 -0.0\n",
      "yahoo_A4 0.799999944000003 2.6352813019987666e-09 0.0\n",
      "yahoo_A4 0.4999999562500026 0.05555556362513912 -0.0\n",
      "yahoo_A4 0.6666666148148177 0.0 0.0\n",
      "yahoo_A4 0.799999944000003 0.17063491765685496 0.0\n",
      "yahoo_A4 0.9999999416666693 0.4999999916666668 0.0\n",
      "yahoo_A4 0.0 0.0 0.0\n",
      "yahoo_A4 0.4999999562500026 0.0 0.0\n",
      "yahoo_A4 0.8571428000000028 1.025883832329092e-09 0.0\n",
      "yahoo_A4 0.9565216809073751 6.104554114518096e-08 0.0\n",
      "yahoo_A4 0.2222221975308647 0.06249999296875071 0.3636363239669461\n",
      "yahoo_A4 0.6666666148148177 0.0 0.0\n",
      "yahoo_A4 0.4999999562500026 0.05555556362513912 -0.0\n",
      "yahoo_A4 0.5882352456747433 4.715908772761518e-09 0.0\n",
      "yahoo_A4 0.799999944000003 0.0 0.0\n",
      "yahoo_A4 0.899999941500003 0.11086309492399017 0.33333331851851905\n",
      "yahoo_A4 0.736842050969532 0.28055554965434104 0.36666664711111197\n",
      "yahoo_A4 0.0 0.0 0.0\n",
      "yahoo_A4 0.8749999398437528 0.1666666874338593 0.0\n",
      "yahoo_A4 0.736842050969532 0.18750000737689268 0.3999999830000005\n",
      "yahoo_A4 0.0 0.0 0.0\n",
      "yahoo_A4 0.5882352456747433 0.0 0.0\n",
      "yahoo_A4 0.0 0.0 0.0\n",
      "yahoo_A4 0.9090908512396723 0.0 0.0\n",
      "yahoo_A4 0.0 0.0 -0.0\n",
      "yahoo_A4 0.0 0.0 -0.0\n",
      "yahoo_A4 0.0 0.0 0.0\n",
      "yahoo_A4 0.799999944000003 1.1634199478898787e-09 0.0\n",
      "yahoo_A4 0.4999999562500026 0.0 0.0\n",
      "yahoo_A4 0.5882352456747433 1.950757460325847e-09 0.0\n",
      "yahoo_A4 0.0 0.0 0.0\n",
      "yahoo_A4 0.4999999562500026 0.0 0.0\n",
      "yahoo_A4 0.6666666148148177 0.3976587141477031 0.47222220486111166\n",
      "yahoo_A4 0.4999999562500026 0.0 0.0\n",
      "yahoo_A4 0.736842050969532 2.5677155541314532e-08 0.0\n",
      "yahoo_A4 0.736842050969532 0.08333334928826763 -0.0\n",
      "yahoo_A4 0.0 0.0 0.0\n",
      "yahoo_A4 0.799999944000003 0.0 0.0\n",
      "yahoo_A4 0.0 0.0 -0.0\n",
      "yahoo_A4 0.7058822989619408 0.16071428671998442 0.0\n",
      "yahoo_A4 0.4999999562500026 0.08333333692760879 -0.0\n",
      "yahoo_A4 0.3999999626666689 0.08333333332912428 0.11111109876543339\n",
      "yahoo_A4 0.9090908512396723 0.0 0.0\n",
      "yahoo_A4 0.6666666148148177 1.5909090497462517e-09 0.0\n",
      "yahoo_A4 0.6666666148148177 6.782827886406658e-09 0.0\n",
      "yahoo_A4 0.0 0.0 0.0\n",
      "yahoo_A4 0.4999999562500026 0.0 0.0\n",
      "yahoo_A4 0.3999999626666689 0.08333333498737315 0.4444444006172881\n",
      "yahoo_A4 0.799999944000003 2.6352813019987666e-09 0.0\n",
      "yahoo_A4 0.6666666148148177 0.0 0.0\n",
      "yahoo_A4 0.8571428000000028 0.0 0.0\n",
      "yahoo_A4 0.8571428000000028 0.47859125478272196 0.32499998204166736\n",
      "yahoo_A4 0.0 0.0 0.0\n",
      "yahoo_A4 0.8571428000000028 0.0 0.0\n",
      "yahoo_A4 0.3999999626666689 0.0 0.0\n",
      "yahoo_A4 0.6666666148148177 2.2655841471307062e-08 0.0\n",
      "yahoo_A4 0.6666666148148177 0.0 0.0\n",
      "yahoo_A4 0.0 0.0 -0.0\n",
      "yahoo_A4 0.3999999626666689 1.1376261053476584e-08 0.11111110432098807\n",
      "yahoo_A4 0.6666666148148177 0.0 0.0\n",
      "yahoo_A4 0.8571428000000028 0.0 0.0\n",
      "yahoo_A4 0.28571425714285853 6.439392944080749e-09 0.0\n",
      "yahoo_A4 0.8888888296296326 4.453703150844604e-08 0.0\n",
      "yahoo_A4 0.8571428000000028 1.025883832329092e-09 0.0\n",
      "yahoo_A4 0.0 0.0 0.0\n",
      "yahoo_A4 0.799999944000003 0.10000001875168127 0.0\n",
      "yahoo_A4 0.4615384071005967 0.13343253448395 -0.0\n",
      "yahoo_A4 0.9090908512396723 5.268758876957312e-09 0.0\n",
      "yahoo_A4 0.6666666148148177 0.07142858473067244 0.0\n",
      "yahoo_A4 0.5882352456747433 0.08333334135942647 0.2857142530612278\n",
      "yahoo_A4 0.736842050969532 5.447330150360655e-09 0.0\n",
      "yahoo_A4 0.0 0.0 0.0\n",
      "yahoo_A4 0.7777777216049413 0.41989751847189055 -0.0\n",
      "yahoo_A4 0.8571428000000028 3.7285349284581525e-08 0.0\n",
      "yahoo_A4 0.3999999626666689 0.0 0.0\n"
     ]
    }
   ],
   "source": [
    "for loader in [load_yahoo_A1, load_yahoo_A2, load_yahoo_A3, load_yahoo_A4]:\n",
    "    datasets = loader(128, 32)\n",
    "    x_trains, x_tests, y_tests = datasets['x_train'], datasets['x_test'], datasets['y_test']\n",
    "    \n",
    "    for i in tqdm(range(len(x_trains))):\n",
    "        X_train = x_trains[i]\n",
    "        X_test = x_tests[i]\n",
    "        \n",
    "        GRU = layers.GRU\n",
    "        model = keras.Sequential(\n",
    "            [\n",
    "                layers.InputLayer(input_shape=(X_train.shape[1], X_train.shape[2])),\n",
    "                GRU(64, return_sequences=True),\n",
    "                GRU(32),\n",
    "                layers.RepeatVector(X_train.shape[1]),\n",
    "                GRU(32, return_sequences=True),\n",
    "                GRU(64),\n",
    "                layers.Dense(X_train.shape[1] *  X_train.shape[2]),\n",
    "                layers.Reshape([X_train.shape[1], X_train.shape[2]])\n",
    "            ]\n",
    "        )\n",
    "        model.compile(optimizer=keras.optimizers.Adam(learning_rate=0.001), loss=\"mse\")\n",
    "        history = model.fit(X_train, X_train, epochs=50, batch_size=128, validation_split=0.3, verbose=0,\n",
    "                        callbacks=[keras.callbacks.EarlyStopping(monitor=\"val_loss\", patience=5, mode=\"min\", restore_best_weights=True)])    \n",
    "        \n",
    "        scores = evaluate(X_test, model.predict(X_test), y_tests[i], is_reconstructed=True)\n",
    "    \n",
    "        total_scores['dataset'].append(loader.__name__.replace('load_', ''))\n",
    "        total_scores['f1'].append(np.max(scores['f1']))\n",
    "        total_scores['pr_auc'].append(scores['pr_auc'])\n",
    "        total_scores['roc_auc'].append(scores['roc_auc'])\n",
    "        print(loader.__name__.replace('load_', ''), np.max(scores['f1']), scores['pr_auc'], scores['roc_auc'])   "
   ]
  },
  {
   "cell_type": "code",
   "execution_count": 5,
   "id": "bd9e37fd-124c-4f5c-8f1f-a9d61a4b0315",
   "metadata": {},
   "outputs": [],
   "source": [
    "yahoo_results = pd.DataFrame(total_scores)"
   ]
  },
  {
   "cell_type": "code",
   "execution_count": 6,
   "id": "dd0ffd29-f548-4ff5-bced-b8ea85ef0697",
   "metadata": {},
   "outputs": [
    {
     "data": {
      "text/html": [
       "<div>\n",
       "<style scoped>\n",
       "    .dataframe tbody tr th:only-of-type {\n",
       "        vertical-align: middle;\n",
       "    }\n",
       "\n",
       "    .dataframe tbody tr th {\n",
       "        vertical-align: top;\n",
       "    }\n",
       "\n",
       "    .dataframe thead th {\n",
       "        text-align: right;\n",
       "    }\n",
       "</style>\n",
       "<table border=\"1\" class=\"dataframe\">\n",
       "  <thead>\n",
       "    <tr style=\"text-align: right;\">\n",
       "      <th></th>\n",
       "      <th>f1</th>\n",
       "      <th>pr_auc</th>\n",
       "      <th>roc_auc</th>\n",
       "    </tr>\n",
       "    <tr>\n",
       "      <th>dataset</th>\n",
       "      <th></th>\n",
       "      <th></th>\n",
       "      <th></th>\n",
       "    </tr>\n",
       "  </thead>\n",
       "  <tbody>\n",
       "    <tr>\n",
       "      <th>yahoo_A1</th>\n",
       "      <td>0.456335</td>\n",
       "      <td>0.181156</td>\n",
       "      <td>0.226509</td>\n",
       "    </tr>\n",
       "    <tr>\n",
       "      <th>yahoo_A2</th>\n",
       "      <td>0.000000</td>\n",
       "      <td>0.000000</td>\n",
       "      <td>0.000000</td>\n",
       "    </tr>\n",
       "    <tr>\n",
       "      <th>yahoo_A3</th>\n",
       "      <td>0.646223</td>\n",
       "      <td>0.071011</td>\n",
       "      <td>0.046151</td>\n",
       "    </tr>\n",
       "    <tr>\n",
       "      <th>yahoo_A4</th>\n",
       "      <td>0.553478</td>\n",
       "      <td>0.058441</td>\n",
       "      <td>0.047000</td>\n",
       "    </tr>\n",
       "  </tbody>\n",
       "</table>\n",
       "</div>"
      ],
      "text/plain": [
       "                f1    pr_auc   roc_auc\n",
       "dataset                               \n",
       "yahoo_A1  0.456335  0.181156  0.226509\n",
       "yahoo_A2  0.000000  0.000000  0.000000\n",
       "yahoo_A3  0.646223  0.071011  0.046151\n",
       "yahoo_A4  0.553478  0.058441  0.047000"
      ]
     },
     "execution_count": 6,
     "metadata": {},
     "output_type": "execute_result"
    }
   ],
   "source": [
    "yahoo_results.groupby('dataset').mean()"
   ]
  },
  {
   "cell_type": "markdown",
   "id": "8890a678-6116-4222-b0ff-395fcd7f41aa",
   "metadata": {},
   "source": [
    "### NASA"
   ]
  },
  {
   "cell_type": "code",
   "execution_count": 7,
   "id": "e4387a80-585a-488e-94a8-546f42d47632",
   "metadata": {},
   "outputs": [],
   "source": [
    "total_scores = {'dataset': [], 'f1': [], 'pr_auc': [], 'roc_auc': []}"
   ]
  },
  {
   "cell_type": "code",
   "execution_count": 8,
   "id": "106a238d-c5cb-49e9-9764-b1bc37f09436",
   "metadata": {},
   "outputs": [
    {
     "data": {
      "application/vnd.jupyter.widget-view+json": {
       "model_id": "6c4029ee03ad449ebe73bbd48526d818",
       "version_major": 2,
       "version_minor": 0
      },
      "text/plain": [
       "  0%|          | 0/2 [00:00<?, ?it/s]"
      ]
     },
     "metadata": {},
     "output_type": "display_data"
    },
    {
     "data": {
      "application/vnd.jupyter.widget-view+json": {
       "model_id": "cef0ceabaf284cf4a72c399bc53addb5",
       "version_major": 2,
       "version_minor": 0
      },
      "text/plain": [
       "  0%|          | 0/2 [00:00<?, ?it/s]"
      ]
     },
     "metadata": {},
     "output_type": "display_data"
    },
    {
     "name": "stdout",
     "output_type": "stream",
     "text": [
      "D1 0.2624006636053196 0.0660586020802229 0.2584784535712093\n",
      "D2 0.29583972461604124 0.1395964108494039 0.5077868659595938\n"
     ]
    }
   ],
   "source": [
    "for loader in [load_nasa]:\n",
    "    datasets = loader(100, 100)\n",
    "    x_trains, x_tests, y_tests = datasets['x_train'], datasets['x_test'], datasets['y_test']\n",
    "    \n",
    "    for i in tqdm(range(len(x_trains))):\n",
    "        X_train = x_trains[i]\n",
    "        X_test = x_tests[i]\n",
    "        \n",
    "        GRU = layers.GRU\n",
    "        model = keras.Sequential(\n",
    "            [\n",
    "                layers.InputLayer(input_shape=(X_train.shape[1], X_train.shape[2])),\n",
    "                GRU(64, return_sequences=True),\n",
    "                GRU(32),\n",
    "                layers.RepeatVector(X_train.shape[1]),\n",
    "                GRU(32, return_sequences=True),\n",
    "                GRU(64),\n",
    "                layers.Dense(X_train.shape[1] *  X_train.shape[2]),\n",
    "                layers.Reshape([X_train.shape[1], X_train.shape[2]])\n",
    "            ]\n",
    "        )\n",
    "        model.compile(optimizer=keras.optimizers.Adam(learning_rate=0.001), loss=\"mse\")\n",
    "        history = model.fit(X_train, X_train, epochs=50, batch_size=128, validation_split=0.3, verbose=0,\n",
    "                        callbacks=[keras.callbacks.EarlyStopping(monitor=\"val_loss\", patience=5, mode=\"min\", restore_best_weights=True)])    \n",
    "        \n",
    "        scores = evaluate(X_test, model.predict(X_test), y_tests[i], is_reconstructed=True)\n",
    "        \n",
    "        total_scores['dataset'].append(f'D{i+1}')\n",
    "        total_scores['f1'].append(np.max(scores['f1']))\n",
    "        total_scores['pr_auc'].append(scores['pr_auc'])\n",
    "        total_scores['roc_auc'].append(scores['roc_auc'])\n",
    "        print(f'D{i+1}', np.max(scores['f1']), scores['pr_auc'], scores['roc_auc'])   "
   ]
  },
  {
   "cell_type": "code",
   "execution_count": 9,
   "id": "abb7a6a5-3924-4a33-bc54-871559819602",
   "metadata": {},
   "outputs": [],
   "source": [
    "nasa_results = pd.DataFrame(total_scores)"
   ]
  },
  {
   "cell_type": "code",
   "execution_count": 10,
   "id": "47b35a95-f236-4ae8-b244-5395fe9955bd",
   "metadata": {},
   "outputs": [
    {
     "data": {
      "text/html": [
       "<div>\n",
       "<style scoped>\n",
       "    .dataframe tbody tr th:only-of-type {\n",
       "        vertical-align: middle;\n",
       "    }\n",
       "\n",
       "    .dataframe tbody tr th {\n",
       "        vertical-align: top;\n",
       "    }\n",
       "\n",
       "    .dataframe thead th {\n",
       "        text-align: right;\n",
       "    }\n",
       "</style>\n",
       "<table border=\"1\" class=\"dataframe\">\n",
       "  <thead>\n",
       "    <tr style=\"text-align: right;\">\n",
       "      <th></th>\n",
       "      <th>f1</th>\n",
       "      <th>pr_auc</th>\n",
       "      <th>roc_auc</th>\n",
       "    </tr>\n",
       "    <tr>\n",
       "      <th>dataset</th>\n",
       "      <th></th>\n",
       "      <th></th>\n",
       "      <th></th>\n",
       "    </tr>\n",
       "  </thead>\n",
       "  <tbody>\n",
       "    <tr>\n",
       "      <th>D1</th>\n",
       "      <td>0.262401</td>\n",
       "      <td>0.066059</td>\n",
       "      <td>0.258478</td>\n",
       "    </tr>\n",
       "    <tr>\n",
       "      <th>D2</th>\n",
       "      <td>0.295840</td>\n",
       "      <td>0.139596</td>\n",
       "      <td>0.507787</td>\n",
       "    </tr>\n",
       "  </tbody>\n",
       "</table>\n",
       "</div>"
      ],
      "text/plain": [
       "               f1    pr_auc   roc_auc\n",
       "dataset                              \n",
       "D1       0.262401  0.066059  0.258478\n",
       "D2       0.295840  0.139596  0.507787"
      ]
     },
     "execution_count": 10,
     "metadata": {},
     "output_type": "execute_result"
    }
   ],
   "source": [
    "nasa_results.groupby('dataset').mean()"
   ]
  },
  {
   "cell_type": "markdown",
   "id": "41754734-5c75-4caf-9069-fb3b39c7a0da",
   "metadata": {},
   "source": [
    "### SMD"
   ]
  },
  {
   "cell_type": "code",
   "execution_count": 11,
   "id": "60a26807-8359-42d4-82b4-9e1d37b6acaa",
   "metadata": {},
   "outputs": [],
   "source": [
    "total_scores = {'dataset': [], 'f1': [], 'pr_auc': [], 'roc_auc': []}"
   ]
  },
  {
   "cell_type": "code",
   "execution_count": 12,
   "id": "41af318e-1b08-4cc9-a680-6b4a978544f2",
   "metadata": {},
   "outputs": [
    {
     "data": {
      "application/vnd.jupyter.widget-view+json": {
       "model_id": "f688490b85cf47179eb9e45b6f31d2ca",
       "version_major": 2,
       "version_minor": 0
      },
      "text/plain": [
       "  0%|          | 0/28 [00:00<?, ?it/s]"
      ]
     },
     "metadata": {},
     "output_type": "display_data"
    },
    {
     "data": {
      "application/vnd.jupyter.widget-view+json": {
       "model_id": "429d6f8948eb4f1f9abb81785da88e4e",
       "version_major": 2,
       "version_minor": 0
      },
      "text/plain": [
       "  0%|          | 0/28 [00:00<?, ?it/s]"
      ]
     },
     "metadata": {},
     "output_type": "display_data"
    },
    {
     "name": "stdout",
     "output_type": "stream",
     "text": [
      "smd 0.21943571700356884 0.06161971811210573 0.49999999837062536\n",
      "smd 0.1295546436492987 0.017747097966200467 0.12835768310313056\n",
      "smd 0.17391299612477615 0.07791452892244566 0.552305021960078\n",
      "smd 0.1913043199092667 0.09306108803792014 0.5806148402591004\n",
      "smd 0.0737327117246072 0.0191387557324695 0.56113536391981\n",
      "smd 0.44525543871543777 0.26610936255540923 0.5315064778577574\n",
      "smd 0.2647058591911784 0.11349762862276463 0.43835812365718074\n",
      "smd 0.19157086375713953 0.07504709717600982 0.4223545900913297\n",
      "smd 0.2380951879818695 0.1386990655871239 0.5653067253928539\n",
      "smd 0.42857138576468035 0.17603861235881257 0.6989371591639427\n",
      "smd 0.14285712755102062 0.5198084625652851 0.538461532924218\n",
      "smd 0.2710622474312033 0.09507942697285253 0.26663386771494707\n",
      "smd 0.2290076131344345 0.1756536191468478 0.459693531987835\n",
      "smd 0.08026755077012628 0.025588471562191274 0.48954545028789254\n",
      "smd 0.22222220082304656 0.12008803004227606 0.2956929129115833\n",
      "smd 0.02499999751041683 0.006329113710409663 0.4999999831196587\n",
      "smd 0.1719745064647667 0.04703832733552671 0.4999999979558404\n",
      "smd 0.054421763376371404 0.0139860138062986 0.49999999357014396\n",
      "smd 0.19157086375713953 0.0 0.0\n",
      "smd 0.0275862041569562 0.006993006815736715 0.4999999873226953\n",
      "smd 0.16279068259419638 0.0 0.0\n",
      "smd 0.25735291856347503 0.0 0.0\n",
      "smd 0.15624998547363408 0.09178021427017814 0.5277777748405351\n",
      "smd 0.13438733913668502 0.04637186328128867 0.38968125794931885\n",
      "smd 0.1739130274732213 0.06818431568814753 0.4472398998772463\n",
      "smd 0.06081080487353959 0.015679442329031557 0.4999999942645884\n",
      "smd 0.32941173337024493 0.10621835099249682 0.8437499948738524\n",
      "smd 0.054237282822177976 0.013937282050892934 0.49999999357078856\n"
     ]
    }
   ],
   "source": [
    "for loader in [load_smd]:\n",
    "    datasets = loader(100, 100)\n",
    "    x_trains, x_tests, y_tests = datasets['x_train'], datasets['x_test'], datasets['y_test']\n",
    "    \n",
    "    for i in tqdm(range(len(x_trains))):\n",
    "        X_train = x_trains[i]\n",
    "        X_test = x_tests[i]\n",
    "        \n",
    "        GRU = layers.GRU\n",
    "        model = keras.Sequential(\n",
    "            [\n",
    "                layers.InputLayer(input_shape=(X_train.shape[1], X_train.shape[2])),\n",
    "                GRU(64, return_sequences=True),\n",
    "                GRU(32),\n",
    "                layers.RepeatVector(X_train.shape[1]),\n",
    "                GRU(32, return_sequences=True),\n",
    "                GRU(64),\n",
    "                layers.Dense(X_train.shape[1] *  X_train.shape[2]),\n",
    "                layers.Reshape([X_train.shape[1], X_train.shape[2]])\n",
    "            ]\n",
    "        )\n",
    "        model.compile(optimizer=keras.optimizers.Adam(learning_rate=0.001), loss=\"mse\")\n",
    "        history = model.fit(X_train, X_train, epochs=50, batch_size=128, validation_split=0.3, verbose=0,\n",
    "                        callbacks=[keras.callbacks.EarlyStopping(monitor=\"val_loss\", patience=5, mode=\"min\", restore_best_weights=True)])    \n",
    "        \n",
    "        scores = evaluate(X_test, model.predict(X_test), y_tests[i], is_reconstructed=True)\n",
    "\n",
    "        total_scores['dataset'].append(loader.__name__.replace('load_', ''))\n",
    "        total_scores['f1'].append(np.max(scores['f1']))\n",
    "        total_scores['pr_auc'].append(scores['pr_auc'])\n",
    "        total_scores['roc_auc'].append(scores['roc_auc'])\n",
    "        print(loader.__name__.replace('load_', ''), np.max(scores['f1']), scores['pr_auc'], scores['roc_auc'])   "
   ]
  },
  {
   "cell_type": "code",
   "execution_count": 13,
   "id": "23474773-bac1-4145-ac75-c1a686bca5c6",
   "metadata": {},
   "outputs": [],
   "source": [
    "smd_results = pd.DataFrame(total_scores)"
   ]
  },
  {
   "cell_type": "code",
   "execution_count": 14,
   "id": "0f82f57f-4d93-4003-b22b-93bd75cf36e7",
   "metadata": {},
   "outputs": [
    {
     "data": {
      "text/html": [
       "<div>\n",
       "<style scoped>\n",
       "    .dataframe tbody tr th:only-of-type {\n",
       "        vertical-align: middle;\n",
       "    }\n",
       "\n",
       "    .dataframe tbody tr th {\n",
       "        vertical-align: top;\n",
       "    }\n",
       "\n",
       "    .dataframe thead th {\n",
       "        text-align: right;\n",
       "    }\n",
       "</style>\n",
       "<table border=\"1\" class=\"dataframe\">\n",
       "  <thead>\n",
       "    <tr style=\"text-align: right;\">\n",
       "      <th></th>\n",
       "      <th>f1</th>\n",
       "      <th>pr_auc</th>\n",
       "      <th>roc_auc</th>\n",
       "    </tr>\n",
       "    <tr>\n",
       "      <th>dataset</th>\n",
       "      <th></th>\n",
       "      <th></th>\n",
       "      <th></th>\n",
       "    </tr>\n",
       "  </thead>\n",
       "  <tbody>\n",
       "    <tr>\n",
       "      <th>smd</th>\n",
       "      <td>0.182188</td>\n",
       "      <td>0.085415</td>\n",
       "      <td>0.437048</td>\n",
       "    </tr>\n",
       "  </tbody>\n",
       "</table>\n",
       "</div>"
      ],
      "text/plain": [
       "               f1    pr_auc   roc_auc\n",
       "dataset                              \n",
       "smd      0.182188  0.085415  0.437048"
      ]
     },
     "execution_count": 14,
     "metadata": {},
     "output_type": "execute_result"
    }
   ],
   "source": [
    "smd_results.groupby('dataset').mean()"
   ]
  },
  {
   "cell_type": "code",
   "execution_count": null,
   "id": "8a2f4c6f-5b06-4a68-82c5-f12bdbc6e527",
   "metadata": {},
   "outputs": [],
   "source": []
  }
 ],
 "metadata": {
  "kernelspec": {
   "display_name": "Python 3",
   "language": "python",
   "name": "python3"
  },
  "language_info": {
   "codemirror_mode": {
    "name": "ipython",
    "version": 3
   },
   "file_extension": ".py",
   "mimetype": "text/x-python",
   "name": "python",
   "nbconvert_exporter": "python",
   "pygments_lexer": "ipython3",
   "version": "3.9.4"
  }
 },
 "nbformat": 4,
 "nbformat_minor": 5
}
