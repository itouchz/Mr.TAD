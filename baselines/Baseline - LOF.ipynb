{
 "cells": [
  {
   "cell_type": "code",
   "execution_count": 1,
   "id": "52bbdf47-4321-41d6-a3e3-d3c91adb69c1",
   "metadata": {},
   "outputs": [],
   "source": [
    "import random\n",
    "import numpy as np\n",
    "import pandas as pd\n",
    "\n",
    "\n",
    "from evaluator import evaluate\n",
    "\n",
    "from data_loader import load_kdd_cup_urc, load_yahoo_A1, load_yahoo_A2, load_yahoo_A3, load_yahoo_A4, load_power_demand # Univariate Datasets\n",
    "from data_loader import load_nasa, load_ecg, load_gesture, load_smd # Multivariate Datasets\n",
    "\n",
    "from tqdm.notebook import tqdm\n",
    "from matplotlib import pyplot as plt\n",
    "from sklearn.neighbors import LocalOutlierFactor as LOF\n",
    "\n",
    "# THESE LINES ARE FOR REPRODUCIBILITY\n",
    "random.seed(0)\n",
    "np.random.seed(0)\n",
    "# tf.random.set_seed(0)"
   ]
  },
  {
   "cell_type": "markdown",
   "id": "5bfcdb8c-20d2-4378-b8b9-78dbe39b2150",
   "metadata": {},
   "source": [
    "### Yahoo S5"
   ]
  },
  {
   "cell_type": "code",
   "execution_count": 2,
   "id": "7120f818-ae90-427c-8f14-f0f66dd8f0e9",
   "metadata": {},
   "outputs": [],
   "source": [
    "total_scores = {'dataset': [], 'f1': [], 'pr_auc': [], 'roc_auc': []}"
   ]
  },
  {
   "cell_type": "code",
   "execution_count": 3,
   "id": "c6fdcfe0-de4a-4ed4-8eac-31dcc8dc19b0",
   "metadata": {
    "scrolled": true,
    "tags": []
   },
   "outputs": [
    {
     "data": {
      "application/vnd.jupyter.widget-view+json": {
       "model_id": "8abf26f25dbc4783ab6bedc57193b593",
       "version_major": 2,
       "version_minor": 0
      },
      "text/plain": [
       "  0%|          | 0/67 [00:00<?, ?it/s]"
      ]
     },
     "metadata": {},
     "output_type": "display_data"
    },
    {
     "data": {
      "application/vnd.jupyter.widget-view+json": {
       "model_id": "dafd982152e44bf49a6b70928aa7ad04",
       "version_major": 2,
       "version_minor": 0
      },
      "text/plain": [
       "  0%|          | 0/67 [00:00<?, ?it/s]"
      ]
     },
     "metadata": {},
     "output_type": "display_data"
    },
    {
     "name": "stdout",
     "output_type": "stream",
     "text": [
      "yahoo_A1 0.9999999000000052 0.4999999375000063 0.09198112745472166\n",
      "yahoo_A1 0.999999942307695 0.9230768955275719 0.016746411350428723\n",
      "yahoo_A1 0.9444443893518544 0.842105243409232 0.013030148114256592\n",
      "yahoo_A1 0.09090908181818227 0.023809522562358344 0.00699300664172659\n",
      "yahoo_A1 0.7999999360000031 0.6150793287462228 0.018823529093610153\n",
      "yahoo_A1 0.0 0.0 -0.0\n",
      "yahoo_A1 0.8888888197530895 0.6944444003950644 0.021126760135885745\n",
      "yahoo_A1 0.9999999166666703 0.6666666055555603 0.027586205970669863\n",
      "yahoo_A1 0.287878762798441 0.15929203258343735 0.0\n",
      "yahoo_A1 0.0 0.0 -0.0\n",
      "yahoo_A1 0.2777777444058681 0.05847953191751309 0.0\n",
      "yahoo_A1 0.9374999441406277 0.8730468521630876 0.42010541895985787\n",
      "yahoo_A1 0.07792205707539746 0.007352941083958095 0.0051958432663621315\n",
      "yahoo_A1 0.9999999333333361 0.8333332883333356 0.021428571066326535\n",
      "yahoo_A1 0.9508196206261782 0.9008108252968194 0.001967729236791059\n",
      "yahoo_A1 0.0 0.0 0.0\n",
      "yahoo_A1 0.999999943333336 0.9333333085252997 0.009456264710136423\n",
      "yahoo_A1 0.9662920827168313 0.4673913022448015 0.0\n",
      "yahoo_A1 0.9933774321301723 0.9205072351443236 0.01513615021029655\n",
      "yahoo_A1 0.9999999000000052 0.4999999375000063 0.046948354449073276\n",
      "yahoo_A1 0.0 0.0 -0.0\n",
      "yahoo_A1 0.39999995200000177 0.02964743492151548 0.032126167413638766\n",
      "yahoo_A1 0.9999999428571453 0.9285714025398619 0.004716981097270254\n",
      "yahoo_A1 0.9999999375000026 0.8749999621205375 0.030232557754597086\n",
      "yahoo_A1 0.6799999473600036 0.6131763176614027 0.6391295351325552\n",
      "yahoo_A1 0.4852940717019938 0.16290125486751833 0.29298598243481316\n",
      "yahoo_A1 0.09090908181818227 0.023809522562358344 0.00699300664172659\n",
      "yahoo_A1 0.9999999333333361 0.8333332883333356 0.030805686683063428\n",
      "yahoo_A1 0.0 0.0 -0.0\n",
      "yahoo_A1 0.0 0.0 -0.0\n",
      "yahoo_A1 0.11111110000000053 0.029411762413494996 0.0014854426571691893\n",
      "yahoo_A1 0.666666611111114 0.37499997708333477 0.024999999681547622\n",
      "yahoo_A1 0.9999999000000052 0.4999999375000063 0.04225351900416594\n",
      "yahoo_A1 0.999999930000003 0.7999999503333362 0.05463182787300908\n",
      "yahoo_A1 0.9937887686431877 0.9121874711840942 0.014295976989516243\n",
      "yahoo_A1 0.9999999000000052 0.4999999375000063 0.11448597555736338\n",
      "yahoo_A1 0.9999999477272752 0.9772727162757454 0.3840206175849524\n",
      "yahoo_A1 0.0 0.0 -0.0\n",
      "yahoo_A1 0.0 0.0 -0.0\n",
      "yahoo_A1 0.18181816198347142 0.049999994500000554 0.0011600926911461615\n",
      "yahoo_A1 0.0 0.0 0.0\n",
      "yahoo_A1 0.33333329444444565 0.0 0.0009456264584052895\n",
      "yahoo_A1 0.0 0.0 -0.0\n",
      "yahoo_A1 0.0 0.0 -0.0\n",
      "yahoo_A1 0.0 0.0 -0.0\n",
      "yahoo_A1 0.9999999357142885 0.8571428160204102 0.018867924254310123\n",
      "yahoo_A1 0.4999999375000028 0.030024508622660193 0.04941176304719729\n",
      "yahoo_A1 0.4444444000000022 0.14285713010204187 0.06770480605804462\n",
      "yahoo_A1 0.999999943333336 0.9333333085252997 0.009456264710136423\n",
      "yahoo_A1 0.0 0.0 -0.0\n",
      "yahoo_A1 0.39999995200000177 0.0434027761887539 0.01945754667878361\n",
      "yahoo_A1 0.6666666000000033 0.2735042478282463 0.07429245095535561\n",
      "yahoo_A1 0.0 0.0 -0.0\n",
      "yahoo_A1 0.886597886959297 0.3981481464849108 0.0\n",
      "yahoo_A1 0.0 0.0 -0.0\n",
      "yahoo_A1 0.5833332840277811 0.19140624641113288 0.0031028368399136333\n",
      "yahoo_A1 0.8999999410000029 0.8654059511461678 0.09719626068757097\n",
      "yahoo_A1 0.16666664861111138 0.045454540495868265 0.010440834220315456\n",
      "yahoo_A1 0.9999999250000032 0.7499999447916703 0.045871558465196555\n",
      "yahoo_A1 0.933333271111114 0.8006213094800826 0.03693853380849562\n",
      "yahoo_A1 0.0 0.0 -0.0\n",
      "yahoo_A1 0.3846153363905378 0.324701192850662 0.45767575042428194\n",
      "yahoo_A1 0.3584905335884684 0.10112044757878053 0.06796856639663876\n",
      "yahoo_A1 0.9999999456521764 0.9565217210040262 0.0\n",
      "yahoo_A1 0.21311471085730505 0.026472430976515148 0.016752577271184222\n",
      "yahoo_A1 0.2258064308532794 0.06363636261157025 0.050119331014291335\n",
      "yahoo_A1 0.9999999000000052 0.4999999375000063 0.013761467198678597\n"
     ]
    },
    {
     "data": {
      "application/vnd.jupyter.widget-view+json": {
       "model_id": "ce0293b3e9664414a1e73b30b81a9eee",
       "version_major": 2,
       "version_minor": 0
      },
      "text/plain": [
       "  0%|          | 0/100 [00:00<?, ?it/s]"
      ]
     },
     "metadata": {},
     "output_type": "display_data"
    },
    {
     "data": {
      "application/vnd.jupyter.widget-view+json": {
       "model_id": "c9fa980f9ab343c7bce6aeedad2e0712",
       "version_major": 2,
       "version_minor": 0
      },
      "text/plain": [
       "  0%|          | 0/100 [00:00<?, ?it/s]"
      ]
     },
     "metadata": {},
     "output_type": "display_data"
    },
    {
     "name": "stdout",
     "output_type": "stream",
     "text": [
      "yahoo_A2 0.0 0.0 0.0\n",
      "yahoo_A2 0.0 0.0 -0.0\n",
      "yahoo_A2 0.0 0.0 -0.0\n",
      "yahoo_A2 0.0 0.0 -0.0\n",
      "yahoo_A2 0.0 0.0 -0.0\n",
      "yahoo_A2 0.0 0.0 -0.0\n",
      "yahoo_A2 0.0 0.0 -0.0\n",
      "yahoo_A2 0.0 0.0 -0.0\n",
      "yahoo_A2 0.0 0.0 -0.0\n",
      "yahoo_A2 0.0 0.0 -0.0\n",
      "yahoo_A2 0.0 0.0 -0.0\n",
      "yahoo_A2 0.0 0.0 -0.0\n",
      "yahoo_A2 0.0 0.0 -0.0\n",
      "yahoo_A2 0.0 0.0 -0.0\n",
      "yahoo_A2 0.0 0.0 -0.0\n",
      "yahoo_A2 0.0 0.0 -0.0\n",
      "yahoo_A2 0.0 0.0 -0.0\n",
      "yahoo_A2 0.0 0.0 -0.0\n",
      "yahoo_A2 0.0 0.0 -0.0\n",
      "yahoo_A2 0.0 0.0 -0.0\n",
      "yahoo_A2 0.0 0.0 -0.0\n",
      "yahoo_A2 0.0 0.0 -0.0\n",
      "yahoo_A2 0.0 0.0 -0.0\n",
      "yahoo_A2 0.0 0.0 -0.0\n",
      "yahoo_A2 0.0 0.0 -0.0\n",
      "yahoo_A2 0.0 0.0 -0.0\n",
      "yahoo_A2 0.0 0.0 -0.0\n",
      "yahoo_A2 0.0 0.0 -0.0\n",
      "yahoo_A2 0.0 0.0 -0.0\n",
      "yahoo_A2 0.0 0.0 -0.0\n",
      "yahoo_A2 0.0 0.0 -0.0\n",
      "yahoo_A2 0.0 0.0 -0.0\n",
      "yahoo_A2 0.0 0.0 -0.0\n",
      "yahoo_A2 0.0 0.0 -0.0\n",
      "yahoo_A2 0.0 0.0 -0.0\n",
      "yahoo_A2 0.0 0.0 -0.0\n",
      "yahoo_A2 0.0 0.0 -0.0\n",
      "yahoo_A2 0.0 0.0 -0.0\n",
      "yahoo_A2 0.0 0.0 -0.0\n",
      "yahoo_A2 0.0 0.0 -0.0\n",
      "yahoo_A2 0.0 0.0 -0.0\n",
      "yahoo_A2 0.0 0.0 -0.0\n",
      "yahoo_A2 0.0 0.0 -0.0\n",
      "yahoo_A2 0.0 0.0 -0.0\n",
      "yahoo_A2 0.0 0.0 -0.0\n",
      "yahoo_A2 0.0 0.0 -0.0\n",
      "yahoo_A2 0.0 0.0 -0.0\n",
      "yahoo_A2 0.0 0.0 -0.0\n",
      "yahoo_A2 0.0 0.0 -0.0\n",
      "yahoo_A2 0.0 0.0 -0.0\n",
      "yahoo_A2 0.0 0.0 -0.0\n",
      "yahoo_A2 0.0 0.0 -0.0\n",
      "yahoo_A2 0.0 0.0 -0.0\n",
      "yahoo_A2 0.0 0.0 -0.0\n",
      "yahoo_A2 0.0 0.0 -0.0\n",
      "yahoo_A2 0.0 0.0 -0.0\n",
      "yahoo_A2 0.0 0.0 -0.0\n",
      "yahoo_A2 0.0 0.0 -0.0\n",
      "yahoo_A2 0.0 0.0 -0.0\n",
      "yahoo_A2 0.0 0.0 -0.0\n",
      "yahoo_A2 0.0 0.0 -0.0\n",
      "yahoo_A2 0.0 0.0 -0.0\n",
      "yahoo_A2 0.0 0.0 -0.0\n",
      "yahoo_A2 0.0 0.0 -0.0\n",
      "yahoo_A2 0.0 0.0 -0.0\n",
      "yahoo_A2 0.0 0.0 -0.0\n",
      "yahoo_A2 0.0 0.0 -0.0\n",
      "yahoo_A2 0.0 0.0 -0.0\n",
      "yahoo_A2 0.0 0.0 -0.0\n",
      "yahoo_A2 0.0 0.0 -0.0\n",
      "yahoo_A2 0.0 0.0 -0.0\n",
      "yahoo_A2 0.0 0.0 -0.0\n",
      "yahoo_A2 0.0 0.0 -0.0\n",
      "yahoo_A2 0.0 0.0 -0.0\n",
      "yahoo_A2 0.0 0.0 -0.0\n",
      "yahoo_A2 0.0 0.0 -0.0\n",
      "yahoo_A2 0.0 0.0 -0.0\n",
      "yahoo_A2 0.0 0.0 -0.0\n",
      "yahoo_A2 0.0 0.0 -0.0\n",
      "yahoo_A2 0.0 0.0 -0.0\n",
      "yahoo_A2 0.0 0.0 -0.0\n",
      "yahoo_A2 0.0 0.0 -0.0\n",
      "yahoo_A2 0.0 0.0 -0.0\n",
      "yahoo_A2 0.0 0.0 -0.0\n",
      "yahoo_A2 0.0 0.0 -0.0\n",
      "yahoo_A2 0.0 0.0 -0.0\n",
      "yahoo_A2 0.0 0.0 -0.0\n",
      "yahoo_A2 0.0 0.0 -0.0\n",
      "yahoo_A2 0.0 0.0 -0.0\n",
      "yahoo_A2 0.0 0.0 -0.0\n",
      "yahoo_A2 0.0 0.0 -0.0\n",
      "yahoo_A2 0.0 0.0 -0.0\n",
      "yahoo_A2 0.0 0.0 -0.0\n",
      "yahoo_A2 0.0 0.0 -0.0\n",
      "yahoo_A2 0.0 0.0 -0.0\n",
      "yahoo_A2 0.0 0.0 -0.0\n",
      "yahoo_A2 0.0 0.0 -0.0\n",
      "yahoo_A2 0.0 0.0 -0.0\n",
      "yahoo_A2 0.0 0.0 -0.0\n",
      "yahoo_A2 0.0 0.0 -0.0\n"
     ]
    },
    {
     "data": {
      "application/vnd.jupyter.widget-view+json": {
       "model_id": "f8be597883174ec09c4a864adf0629e6",
       "version_major": 2,
       "version_minor": 0
      },
      "text/plain": [
       "  0%|          | 0/100 [00:00<?, ?it/s]"
      ]
     },
     "metadata": {},
     "output_type": "display_data"
    },
    {
     "data": {
      "application/vnd.jupyter.widget-view+json": {
       "model_id": "5f28c85a630546068296f90250baef15",
       "version_major": 2,
       "version_minor": 0
      },
      "text/plain": [
       "  0%|          | 0/100 [00:00<?, ?it/s]"
      ]
     },
     "metadata": {},
     "output_type": "display_data"
    },
    {
     "name": "stdout",
     "output_type": "stream",
     "text": [
      "yahoo_A3 0.0 0.0 -0.0\n",
      "yahoo_A3 0.28571425306122533 0.008453829209802309 0.32095046312720765\n",
      "yahoo_A3 0.7999999200000041 0.33333329722222554 0.0013306719447332893\n",
      "yahoo_A3 0.0 0.0 -0.0\n",
      "yahoo_A3 0.8888888197530895 0.5999999580000026 0.0\n",
      "yahoo_A3 0.0 0.0 -0.0\n",
      "yahoo_A3 0.017241374256838495 0.002713833917201305 0.1743641202182223\n",
      "yahoo_A3 0.07692305591716472 0.007246376538542332 0.039254822369632035\n",
      "yahoo_A3 0.4999999375000028 0.0 0.11510312321942952\n",
      "yahoo_A3 0.0 0.0 -0.0\n",
      "yahoo_A3 0.33333329444444565 0.007897440673361756 0.1456913798225068\n",
      "yahoo_A3 0.33333329444444565 0.018014705413792177 0.027655310062594134\n",
      "yahoo_A3 0.33333329444444565 0.013543945955639554 0.3831663249252173\n",
      "yahoo_A3 0.02941176172145329 0.00746268580975726 0.21968188653684473\n",
      "yahoo_A3 0.28571425306122533 0.006695709617988059 0.4277108361590943\n",
      "yahoo_A3 0.0 0.0 -0.0\n",
      "yahoo_A3 0.9090908429752097 0.718333289169447 0.007214428711981079\n",
      "yahoo_A3 0.0 0.0 0.0\n",
      "yahoo_A3 0.020202018161412108 0.0051020403009163365 0.33001984764811054\n",
      "yahoo_A3 0.0 0.0 -0.0\n",
      "yahoo_A3 0.055555549845679036 0.014285712816326677 0.35387670410460054\n",
      "yahoo_A3 0.0 0.0 -0.0\n",
      "yahoo_A3 0.0 0.0 -0.0\n",
      "yahoo_A3 0.0 0.0 -0.0\n",
      "yahoo_A3 0.7999999200000041 0.36865938285139355 0.8882235231094705\n",
      "yahoo_A3 0.0 0.0 -0.0\n",
      "yahoo_A3 0.5714285061224537 0.13888888032407448 0.006653359723666447\n",
      "yahoo_A3 0.7999999200000041 0.41666662777778063 0.0019920317725115526\n",
      "yahoo_A3 0.0 0.0 -0.0\n",
      "yahoo_A3 0.0 0.0 -0.0\n",
      "yahoo_A3 0.16666663611111507 0.03327228134954487 0.16932270066348198\n",
      "yahoo_A3 0.8571427836734729 0.4999999583333364 0.0\n",
      "yahoo_A3 0.0 0.0 -0.0\n",
      "yahoo_A3 0.2666666133333427 0.03365934430706613 0.38473698781525034\n",
      "yahoo_A3 0.3999999420000064 0.10666666151111129 0.12565130006700378\n",
      "yahoo_A3 0.010638293696244175 0.0006793478087340505 0.06599999833680004\n",
      "yahoo_A3 0.7499999343750033 0.39999996866666887 0.014428857423962157\n",
      "yahoo_A3 0.12499996796875695 0.012820512294543084 0.17099134489822765\n",
      "yahoo_A3 0.33333329444444565 0.0012748080284311902 0.22625250043962886\n",
      "yahoo_A3 0.7999999200000041 0.33333329722222554 0.0013306719447332893\n",
      "yahoo_A3 0.6666666000000033 0.24999997500000218 0.0\n",
      "yahoo_A3 0.1333333084444478 0.019230768121301835 0.19820716136489952\n",
      "yahoo_A3 0.4999999500000025 0.17985549521334052 0.07362784347026662\n",
      "yahoo_A3 0.9999998500000123 0.0 0.5168985565572818\n",
      "yahoo_A3 0.8571427836734729 0.4999999583333364 0.0014999999622000006\n",
      "yahoo_A3 0.0 0.0 -0.0\n",
      "yahoo_A3 0.03809523069387881 0.010061541573857018 0.5607499858691004\n",
      "yahoo_A3 0.39999995200000177 0.005799278692202961 0.13949999648460007\n",
      "yahoo_A3 0.0 0.0 -0.0\n",
      "yahoo_A3 0.12499995156251753 0.02346434757257032 0.07998661176997147\n",
      "yahoo_A3 0.7142856551020442 0.4489583090980917 0.04233870913964947\n",
      "yahoo_A3 0.39999995200000177 0.0 0.062499998425000036\n",
      "yahoo_A3 0.0 0.0 -0.0\n",
      "yahoo_A3 0.0 0.0 -0.0\n",
      "yahoo_A3 0.0 0.0 0.0\n",
      "yahoo_A3 0.39999993600000633 0.08333332638888935 0.17031871654973776\n",
      "yahoo_A3 0.9999999000000052 0.4999999375000063 0.00796812709004621\n",
      "yahoo_A3 0.008620687094976893 0.0007278020132678215 0.03293413063214892\n",
      "yahoo_A3 0.0 0.0 -0.0\n",
      "yahoo_A3 0.03225806027286437 0.009731349478797459 0.5747499855163003\n",
      "yahoo_A3 0.6666666000000033 0.24999997500000218 0.2239999943552001\n",
      "yahoo_A3 0.9999999250000032 0.7499999447916703 0.005999999848800003\n",
      "yahoo_A3 0.4999999375000028 0.0 0.0006653359723666446\n",
      "yahoo_A3 0.9999998500000123 0.0 0.03379721331336073\n",
      "yahoo_A3 0.09523805804990017 0.006249999835937502 0.05711422730318353\n",
      "yahoo_A3 0.6666666000000033 0.2714285458193049 0.07074999821710004\n",
      "yahoo_A3 0.9999999000000052 0.4999999375000063 0.005976095317534659\n",
      "yahoo_A3 0.7999999200000041 0.33333329722222554 0.005322687778933158\n",
      "yahoo_A3 0.04255318714350386 0.010869564106805403 0.5785287690698806\n",
      "yahoo_A3 0.33333329444444565 0.009502745719805675 0.40120239670517\n",
      "yahoo_A3 0.0 0.0 -0.0\n",
      "yahoo_A3 0.33333329444444565 0.0 0.0008016031902201199\n",
      "yahoo_A3 0.0 0.0 -0.0\n",
      "yahoo_A3 0.4999999500000025 0.23855818398838524 0.05488621058692603\n",
      "yahoo_A3 0.666666577777783 0.0 0.0019920317725115526\n",
      "yahoo_A3 0.8571427959183704 0.6249999688541683 0.007560483774937405\n",
      "yahoo_A3 0.33333329444444565 0.050534766827294644 0.234068131544275\n",
      "yahoo_A3 0.0 0.0 -0.0\n",
      "yahoo_A3 0.666666577777783 0.0 0.302788829421756\n",
      "yahoo_A3 0.010204078607872515 0.00212301965313799 0.14304723405882858\n",
      "yahoo_A3 0.3636363074380234 0.05333333131111117 0.11863727215257772\n",
      "yahoo_A3 0.13333329244445566 0.01524303879620344 0.12149999693820006\n",
      "yahoo_A3 0.9999998500000123 0.0 0.02385685645648993\n",
      "yahoo_A3 0.0 0.0 -0.0\n",
      "yahoo_A3 0.666666577777783 0.0 0.0009960158862557763\n",
      "yahoo_A3 0.9999999166666703 0.6666666055555603 0.003992015834199868\n",
      "yahoo_A3 0.666666577777783 0.0 0.0009960158862557763\n",
      "yahoo_A3 0.33333327777778377 0.07905137822483976 0.01599999959680001\n",
      "yahoo_A3 0.7499999343750033 0.407324529916022 0.12024047853301797\n",
      "yahoo_A3 0.8571427836734729 0.4999999583333364 0.05249999867700003\n",
      "yahoo_A3 0.49999993750000526 0.10416666111111132 0.25899999347320013\n",
      "yahoo_A3 0.9999999000000052 0.4999999375000063 0.0019920317725115526\n",
      "yahoo_A3 0.9999999000000052 0.4999999375000063 0.009960158862557765\n",
      "yahoo_A3 0.8571427836734729 0.4999999583333364 0.005999999848800001\n",
      "yahoo_A3 0.0 0.0 -0.0\n",
      "yahoo_A3 0.024193544416623886 0.004083404727853461 0.28176352136237215\n",
      "yahoo_A3 0.0 0.0 -0.0\n",
      "yahoo_A3 0.07692306213017959 0.010416666102430585 0.2036852487393063\n",
      "yahoo_A3 0.08695649829868218 0.018011562939011586 0.0685296051537644\n",
      "yahoo_A3 0.4285713816326568 0.13502391349381132 0.6742499830089003\n"
     ]
    },
    {
     "data": {
      "application/vnd.jupyter.widget-view+json": {
       "model_id": "0086e9c0946d4c3fafe16c2bf10437c0",
       "version_major": 2,
       "version_minor": 0
      },
      "text/plain": [
       "  0%|          | 0/100 [00:00<?, ?it/s]"
      ]
     },
     "metadata": {},
     "output_type": "display_data"
    },
    {
     "data": {
      "application/vnd.jupyter.widget-view+json": {
       "model_id": "42c6f085fbae4996bc693febdf365f04",
       "version_major": 2,
       "version_minor": 0
      },
      "text/plain": [
       "  0%|          | 0/100 [00:00<?, ?it/s]"
      ]
     },
     "metadata": {},
     "output_type": "display_data"
    },
    {
     "name": "stdout",
     "output_type": "stream",
     "text": [
      "yahoo_A4 0.4999999375000028 0.0 0.0\n",
      "yahoo_A4 0.0 0.0 -0.0\n",
      "yahoo_A4 0.008097165178908029 0.002032520121125012 0.04174949879885739\n",
      "yahoo_A4 0.04255318315980203 0.005555555265432114 0.17529879598101666\n",
      "yahoo_A4 0.010050249256332211 0.0012690354688989702 0.24103584447389786\n",
      "yahoo_A4 0.8571427836734729 0.4999999583333364 0.16049999595540004\n",
      "yahoo_A4 0.8888888197530895 0.5999999588333359 0.04969939779364743\n",
      "yahoo_A4 0.4999999375000028 0.0 0.0026613438894665786\n",
      "yahoo_A4 0.0 0.0 -0.0\n",
      "yahoo_A4 0.0 0.0 0.0\n",
      "yahoo_A4 0.0 0.0 -0.0\n",
      "yahoo_A4 0.1999999725000028 0.041929270045562704 0.24617430977565857\n",
      "yahoo_A4 0.4999999250000064 0.12991269794946186 0.7410358193742976\n",
      "yahoo_A4 0.2499999437500102 0.031249998437500058 0.009999999748000006\n",
      "yahoo_A4 0.04651161882098564 0.0060975606558596246 0.3466135284170102\n",
      "yahoo_A4 0.0 0.0 -0.0\n",
      "yahoo_A4 0.0 0.0 -0.0\n",
      "yahoo_A4 0.0 0.0 -0.0\n",
      "yahoo_A4 0.0 0.0 -0.0\n",
      "yahoo_A4 0.0 0.0 0.0\n",
      "yahoo_A4 0.2857142367346995 0.0499999965000002 0.037274548345235574\n",
      "yahoo_A4 0.0 0.0 -0.0\n",
      "yahoo_A4 0.33333329444444565 0.045238093647392334 0.0829659301877824\n",
      "yahoo_A4 0.7999999200000041 0.46031741802721443 0.011310711530232961\n",
      "yahoo_A4 0.10526314681440453 0.027777774845679302 0.3777335605610904\n",
      "yahoo_A4 0.010752687096774247 0.0027553367200710164 0.28137448786725683\n",
      "yahoo_A4 0.4999999375000028 0.02420634828221847 0.05921490154063138\n",
      "yahoo_A4 0.15384613727810673 0.04166666215277823 0.39562620290345796\n",
      "yahoo_A4 0.9999999000000052 0.4999999375000063 0.0\n",
      "yahoo_A4 0.0 0.0 -0.0\n",
      "yahoo_A4 0.5454544958677713 0.24999998229166795 0.0\n",
      "yahoo_A4 0.0 0.0 0.0\n",
      "yahoo_A4 0.0 0.0 0.0\n",
      "yahoo_A4 0.3636363074380234 0.09014651711662985 0.038476953130565754\n",
      "yahoo_A4 0.3999999420000064 0.10666666151111129 0.12565130006700378\n",
      "yahoo_A4 0.9999999000000052 0.4999999375000063 0.13346612875827404\n",
      "yahoo_A4 0.15384613224852298 0.033973271788784246 0.09713905196553013\n",
      "yahoo_A4 0.0 0.0 -0.0\n",
      "yahoo_A4 0.666666577777783 0.0 0.003984063545023105\n",
      "yahoo_A4 0.0 0.0 0.0\n",
      "yahoo_A4 0.33333328333333917 0.13099386024714366 0.07299999816040004\n",
      "yahoo_A4 0.7999999200000041 0.33333329722222554 0.06121090945773132\n",
      "yahoo_A4 0.0 0.0 -0.0\n",
      "yahoo_A4 0.4999999375000028 0.0 0.0006653359723666446\n",
      "yahoo_A4 0.018348622023959944 0.005113390059830217 0.31337324298468966\n",
      "yahoo_A4 0.0 0.0 -0.0\n",
      "yahoo_A4 0.666666577777783 0.0 0.01892430183885975\n",
      "yahoo_A4 0.0 0.0 -0.0\n",
      "yahoo_A4 0.7999999200000041 0.33333329722222554 0.005322687778933157\n",
      "yahoo_A4 0.0 0.0 -0.0\n",
      "yahoo_A4 0.0 0.0 -0.0\n",
      "yahoo_A4 0.0 0.0 0.0\n",
      "yahoo_A4 0.2499999437500102 0.031249998437500058 0.023999999395200013\n",
      "yahoo_A4 0.047619038321996814 0.006249999671875017 0.009960158862557765\n",
      "yahoo_A4 0.0 0.0 -0.0\n",
      "yahoo_A4 0.0 0.0 0.0\n",
      "yahoo_A4 0.9999998500000123 0.0 0.0\n",
      "yahoo_A4 0.666666577777783 0.0 0.1982071613648995\n",
      "yahoo_A4 0.0 0.0 0.0\n",
      "yahoo_A4 0.011299433341313355 0.002289415873733354 0.1636726492021946\n",
      "yahoo_A4 0.1333333084444478 0.019230768121301835 0.37250994145966043\n",
      "yahoo_A4 0.0 0.0 -0.0\n",
      "yahoo_A4 0.7999999360000031 0.4999999673611131 0.002677376126191514\n",
      "yahoo_A4 0.0 0.0 -0.0\n",
      "yahoo_A4 0.5714285142857172 0.25833331248379793 0.16953907473155536\n",
      "yahoo_A4 0.0 0.0 -0.0\n",
      "yahoo_A4 0.9999998500000123 0.0 0.05367792702710232\n",
      "yahoo_A4 0.0 0.0 0.0\n",
      "yahoo_A4 0.666666577777783 0.0 0.0009960158862557763\n",
      "yahoo_A4 0.666666577777783 0.0 0.026892428928905962\n",
      "yahoo_A4 0.0 0.0 -0.0\n",
      "yahoo_A4 0.0 0.0 -0.0\n",
      "yahoo_A4 0.28571425306122533 0.08333332361111209 0.5367792702710232\n",
      "yahoo_A4 0.0 0.0 -0.0\n",
      "yahoo_A4 0.0 0.0 -0.0\n",
      "yahoo_A4 0.0 0.0 0.0\n",
      "yahoo_A4 0.16666661944445615 0.02585397810941046 0.08999999773200004\n",
      "yahoo_A4 0.0 0.0 0.0\n",
      "yahoo_A4 0.33333329444444565 0.0 0.0008016031902201199\n",
      "yahoo_A4 0.0 0.0 0.0\n",
      "yahoo_A4 0.4999999375000028 0.0 0.004657351806566514\n",
      "yahoo_A4 0.9999999000000052 0.4999999375000063 0.0\n",
      "yahoo_A4 0.0 0.0 -0.0\n",
      "yahoo_A4 0.0 0.0 -0.0\n",
      "yahoo_A4 0.0 0.0 0.0\n",
      "yahoo_A4 0.39999995200000177 0.03522727151497937 0.018499999533800007\n",
      "yahoo_A4 0.0 0.0 -0.0\n",
      "yahoo_A4 0.6666666074074105 0.3333333083333351 0.0\n",
      "yahoo_A4 0.4999999472222262 0.18675594366452342 0.029499999256600015\n",
      "yahoo_A4 0.0 0.0 -0.0\n",
      "yahoo_A4 0.307692253254446 0.10434433418164099 0.07898259572264966\n",
      "yahoo_A4 0.03921567858516067 0.005102040550812175 0.351593607848289\n",
      "yahoo_A4 0.042105256952909294 0.007926020376004893 0.4657351806566513\n",
      "yahoo_A4 0.0 0.0 0.0\n",
      "yahoo_A4 0.0 0.0 -0.0\n",
      "yahoo_A4 0.04255318315980203 0.005555555265432114 0.08964142976301989\n",
      "yahoo_A4 0.0 0.0 0.0\n",
      "yahoo_A4 0.11320752965468371 0.03202171025432971 0.4841683268929524\n",
      "yahoo_A4 0.019753083971346088 0.005056500112934923 0.21422845258632703\n",
      "yahoo_A4 0.0 0.0 -0.0\n"
     ]
    }
   ],
   "source": [
    "for loader in [load_yahoo_A1, load_yahoo_A2, load_yahoo_A3, load_yahoo_A4]:\n",
    "    datasets = loader()\n",
    "    x_trains, x_tests, y_tests = datasets['x_train'], datasets['x_test'], datasets['y_test']\n",
    "    \n",
    "    for i in tqdm(range(len(x_trains))):\n",
    "        X_train = x_trains[i]\n",
    "        X_test = x_tests[i]\n",
    "        \n",
    "        clf = LOF(novelty=True, n_jobs=32).fit(X_train)\n",
    "        # 1 -> 0 for inliers, -1 -> 1 for outliers.\n",
    "        X_test_rec = -clf.decision_function(X_test)\n",
    "        X_test_rec = X_test_rec.reshape(y_tests[i].shape)\n",
    "        \n",
    "        scores = evaluate(X_test, X_test_rec, y_tests[i], is_reconstructed=False)\n",
    "\n",
    "        total_scores['dataset'].append(loader.__name__.replace('load_', ''))\n",
    "        total_scores['f1'].append(np.max(scores['f1']))\n",
    "        total_scores['pr_auc'].append(scores['pr_auc'])\n",
    "        total_scores['roc_auc'].append(scores['roc_auc'])\n",
    "        print(loader.__name__.replace('load_', ''), np.max(scores['f1']), scores['pr_auc'], scores['roc_auc'])   "
   ]
  },
  {
   "cell_type": "code",
   "execution_count": 4,
   "id": "cccf779a-730b-4703-8e6c-97724ab860f7",
   "metadata": {},
   "outputs": [],
   "source": [
    "yahoo_results = pd.DataFrame(total_scores)"
   ]
  },
  {
   "cell_type": "code",
   "execution_count": 5,
   "id": "d7ca355f-135c-49bb-884c-0f568351845f",
   "metadata": {},
   "outputs": [
    {
     "data": {
      "text/html": [
       "<div>\n",
       "<style scoped>\n",
       "    .dataframe tbody tr th:only-of-type {\n",
       "        vertical-align: middle;\n",
       "    }\n",
       "\n",
       "    .dataframe tbody tr th {\n",
       "        vertical-align: top;\n",
       "    }\n",
       "\n",
       "    .dataframe thead th {\n",
       "        text-align: right;\n",
       "    }\n",
       "</style>\n",
       "<table border=\"1\" class=\"dataframe\">\n",
       "  <thead>\n",
       "    <tr style=\"text-align: right;\">\n",
       "      <th></th>\n",
       "      <th>f1</th>\n",
       "      <th>pr_auc</th>\n",
       "      <th>roc_auc</th>\n",
       "    </tr>\n",
       "    <tr>\n",
       "      <th>dataset</th>\n",
       "      <th></th>\n",
       "      <th></th>\n",
       "      <th></th>\n",
       "    </tr>\n",
       "  </thead>\n",
       "  <tbody>\n",
       "    <tr>\n",
       "      <th>yahoo_A1</th>\n",
       "      <td>0.534654</td>\n",
       "      <td>0.370639</td>\n",
       "      <td>0.051206</td>\n",
       "    </tr>\n",
       "    <tr>\n",
       "      <th>yahoo_A2</th>\n",
       "      <td>0.000000</td>\n",
       "      <td>0.000000</td>\n",
       "      <td>0.000000</td>\n",
       "    </tr>\n",
       "    <tr>\n",
       "      <th>yahoo_A3</th>\n",
       "      <td>0.362414</td>\n",
       "      <td>0.126611</td>\n",
       "      <td>0.111553</td>\n",
       "    </tr>\n",
       "    <tr>\n",
       "      <th>yahoo_A4</th>\n",
       "      <td>0.234707</td>\n",
       "      <td>0.063954</td>\n",
       "      <td>0.075182</td>\n",
       "    </tr>\n",
       "  </tbody>\n",
       "</table>\n",
       "</div>"
      ],
      "text/plain": [
       "                f1    pr_auc   roc_auc\n",
       "dataset                               \n",
       "yahoo_A1  0.534654  0.370639  0.051206\n",
       "yahoo_A2  0.000000  0.000000  0.000000\n",
       "yahoo_A3  0.362414  0.126611  0.111553\n",
       "yahoo_A4  0.234707  0.063954  0.075182"
      ]
     },
     "execution_count": 5,
     "metadata": {},
     "output_type": "execute_result"
    }
   ],
   "source": [
    "yahoo_results.groupby('dataset').mean()"
   ]
  },
  {
   "cell_type": "markdown",
   "id": "1ef9799a-dc1c-4402-823b-73686adb75fe",
   "metadata": {},
   "source": [
    "### NASA"
   ]
  },
  {
   "cell_type": "code",
   "execution_count": 6,
   "id": "aadd094c-c63d-4d7c-b5d8-68fab9affcf6",
   "metadata": {},
   "outputs": [],
   "source": [
    "total_scores = {'dataset': [], 'f1': [], 'pr_auc': [], 'roc_auc': []}"
   ]
  },
  {
   "cell_type": "code",
   "execution_count": 7,
   "id": "4fe4df3d-d02a-4b9b-a5c1-aaf26a8300ae",
   "metadata": {},
   "outputs": [
    {
     "data": {
      "application/vnd.jupyter.widget-view+json": {
       "model_id": "84a9c8954209419cab74c56678186188",
       "version_major": 2,
       "version_minor": 0
      },
      "text/plain": [
       "  0%|          | 0/2 [00:00<?, ?it/s]"
      ]
     },
     "metadata": {},
     "output_type": "display_data"
    },
    {
     "data": {
      "application/vnd.jupyter.widget-view+json": {
       "model_id": "10371bc0a7d245f090d6c14e1c6dbcfb",
       "version_major": 2,
       "version_minor": 0
      },
      "text/plain": [
       "  0%|          | 0/2 [00:00<?, ?it/s]"
      ]
     },
     "metadata": {},
     "output_type": "display_data"
    },
    {
     "name": "stdout",
     "output_type": "stream",
     "text": [
      "D1 0.27691717680931155 0.06326111389153746 0.05818273884468656\n",
      "D2 0.17418910929857026 0.022050569409797712 0.011746298950966886\n"
     ]
    }
   ],
   "source": [
    "for loader in [load_nasa]:\n",
    "    datasets = loader()\n",
    "    x_trains, x_tests, y_tests = datasets['x_train'], datasets['x_test'], datasets['y_test']\n",
    "    \n",
    "    for i in tqdm(range(len(x_trains))):\n",
    "        X_train = x_trains[i]\n",
    "        X_test = x_tests[i]\n",
    "        \n",
    "        clf = LOF(novelty=True, n_jobs=32).fit(X_train)\n",
    "        # 1 -> 0 for inliers, -1 -> 1 for outliers.\n",
    "        X_test_rec = -clf.decision_function(X_test)        \n",
    "        X_test_rec = X_test_rec.reshape(y_tests[i].shape)\n",
    "        \n",
    "        scores = evaluate(X_test, X_test_rec, y_tests[i], is_reconstructed=False)\n",
    "\n",
    "        total_scores['dataset'].append(f'D{i+1}')\n",
    "        total_scores['f1'].append(np.max(scores['f1']))\n",
    "        total_scores['pr_auc'].append(scores['pr_auc'])\n",
    "        total_scores['roc_auc'].append(scores['roc_auc'])\n",
    "        print(f'D{i+1}', np.max(scores['f1']), scores['pr_auc'], scores['roc_auc'])   "
   ]
  },
  {
   "cell_type": "code",
   "execution_count": 8,
   "id": "44ae8daa-b8bd-4c69-96b3-38185b1e5dc2",
   "metadata": {},
   "outputs": [],
   "source": [
    "nasa_results = pd.DataFrame(total_scores)"
   ]
  },
  {
   "cell_type": "code",
   "execution_count": 9,
   "id": "9be63bda-5984-460f-986a-0382cb344494",
   "metadata": {},
   "outputs": [
    {
     "data": {
      "text/html": [
       "<div>\n",
       "<style scoped>\n",
       "    .dataframe tbody tr th:only-of-type {\n",
       "        vertical-align: middle;\n",
       "    }\n",
       "\n",
       "    .dataframe tbody tr th {\n",
       "        vertical-align: top;\n",
       "    }\n",
       "\n",
       "    .dataframe thead th {\n",
       "        text-align: right;\n",
       "    }\n",
       "</style>\n",
       "<table border=\"1\" class=\"dataframe\">\n",
       "  <thead>\n",
       "    <tr style=\"text-align: right;\">\n",
       "      <th></th>\n",
       "      <th>f1</th>\n",
       "      <th>pr_auc</th>\n",
       "      <th>roc_auc</th>\n",
       "    </tr>\n",
       "    <tr>\n",
       "      <th>dataset</th>\n",
       "      <th></th>\n",
       "      <th></th>\n",
       "      <th></th>\n",
       "    </tr>\n",
       "  </thead>\n",
       "  <tbody>\n",
       "    <tr>\n",
       "      <th>D1</th>\n",
       "      <td>0.276917</td>\n",
       "      <td>0.063261</td>\n",
       "      <td>0.058183</td>\n",
       "    </tr>\n",
       "    <tr>\n",
       "      <th>D2</th>\n",
       "      <td>0.174189</td>\n",
       "      <td>0.022051</td>\n",
       "      <td>0.011746</td>\n",
       "    </tr>\n",
       "  </tbody>\n",
       "</table>\n",
       "</div>"
      ],
      "text/plain": [
       "               f1    pr_auc   roc_auc\n",
       "dataset                              \n",
       "D1       0.276917  0.063261  0.058183\n",
       "D2       0.174189  0.022051  0.011746"
      ]
     },
     "execution_count": 9,
     "metadata": {},
     "output_type": "execute_result"
    }
   ],
   "source": [
    "nasa_results.groupby('dataset').mean()"
   ]
  },
  {
   "cell_type": "markdown",
   "id": "58c6a2d1-049b-41e2-9945-880812f374ed",
   "metadata": {},
   "source": [
    "### SMD"
   ]
  },
  {
   "cell_type": "code",
   "execution_count": 10,
   "id": "db3a6273-3f92-41b3-bafa-d217a421f5fe",
   "metadata": {},
   "outputs": [],
   "source": [
    "total_scores = {'dataset': [], 'f1': [], 'pr_auc': [], 'roc_auc': []}"
   ]
  },
  {
   "cell_type": "code",
   "execution_count": 11,
   "id": "efa87945-2e91-4dc7-8162-1e2ed2dbc41d",
   "metadata": {},
   "outputs": [
    {
     "data": {
      "application/vnd.jupyter.widget-view+json": {
       "model_id": "2fa489086a354f66bcaa34c66497b705",
       "version_major": 2,
       "version_minor": 0
      },
      "text/plain": [
       "  0%|          | 0/28 [00:00<?, ?it/s]"
      ]
     },
     "metadata": {},
     "output_type": "display_data"
    },
    {
     "data": {
      "application/vnd.jupyter.widget-view+json": {
       "model_id": "40b6678092614db28b19270e77a5c9e3",
       "version_major": 2,
       "version_minor": 0
      },
      "text/plain": [
       "  0%|          | 0/28 [00:00<?, ?it/s]"
      ]
     },
     "metadata": {},
     "output_type": "display_data"
    },
    {
     "name": "stdout",
     "output_type": "stream",
     "text": [
      "smd 0.4275491470697072 0.3867900784990223 0.4796741557648693\n",
      "smd 0.06765712114644812 0.014370975372284897 0.08838946909742083\n",
      "smd 0.08503355570417467 0.03333539599274667 0.43838913234897586\n",
      "smd 0.06974381344297607 0.027857754202542617 0.4225699428540658\n",
      "smd 0.5194804732669968 0.4825758650310196 0.25794819087880544\n",
      "smd 0.5941391505342919 0.6246389607248989 0.6297691477144405\n",
      "smd 0.341447945326267 0.16409650953541777 0.23473706372921424\n",
      "smd 0.26378375483418876 0.18134674392955874 0.212152563306662\n",
      "smd 0.3215590243982268 0.18525684065132028 0.06143980133837958\n",
      "smd 0.10101511900680198 0.019237644010614337 0.015327927562266678\n",
      "smd 0.11834316270264536 0.07023666429034979 0.15730335645944335\n",
      "smd 0.32856435336728446 0.2994171195454677 0.19950359007554297\n",
      "smd 0.27407402411366777 0.21402674496893465 0.5275849905211638\n",
      "smd 0.4272559508846928 0.31056329806193167 0.32121069119178797\n",
      "smd 0.7860962071352515 0.7292212840536423 0.6610055911729585\n",
      "smd 0.9266666163177805 0.8816770274199182 0.809391540236928\n",
      "smd 0.6683238166257528 0.6539326835303638 0.6013582074254684\n",
      "smd 0.5740318485271485 0.4710158327968841 0.6004069188911857\n",
      "smd 0.3598471228482509 0.14238489238932828 0.18668040578873057\n",
      "smd 0.3064934563751136 0.23311789724498835 0.6727540153569992\n",
      "smd 0.08034237843159105 0.026857469948052316 0.31930748307234896\n",
      "smd 0.15477625264027386 0.04094686417299144 0.01182703613144443\n",
      "smd 0.24348805925934294 0.20224450145460482 0.49919029347459953\n",
      "smd 0.2084690128192428 0.08295768478814497 0.46806694443093433\n",
      "smd 0.40242052871134676 0.3070579174321769 0.20034763566197988\n",
      "smd 0.06498556240284127 0.0158195078791563 0.13324909810671373\n",
      "smd 0.20332478652342573 0.19020562747002673 0.502374501886784\n",
      "smd 0.47290636584120277 0.4012234002474468 0.5765129414925784\n"
     ]
    }
   ],
   "source": [
    "for loader in [load_smd]:\n",
    "    datasets = loader()\n",
    "    x_trains, x_tests, y_tests = datasets['x_train'], datasets['x_test'], datasets['y_test']\n",
    "    \n",
    "    for i in tqdm(range(len(x_trains))):\n",
    "        X_train = x_trains[i]\n",
    "        X_test = x_tests[i]\n",
    "        \n",
    "        clf = LOF(novelty=True, n_jobs=32).fit(X_train)\n",
    "        # 1 -> 0 for inliers, -1 -> 1 for outliers.\n",
    "        X_test_rec = -clf.decision_function(X_test)\n",
    "        X_test_rec = X_test_rec.reshape(y_tests[i].shape)\n",
    "        \n",
    "        scores = evaluate(X_test, X_test_rec, y_tests[i], is_reconstructed=False)\n",
    "\n",
    "        total_scores['dataset'].append(loader.__name__.replace('load_', ''))\n",
    "        total_scores['f1'].append(np.max(scores['f1']))\n",
    "        total_scores['pr_auc'].append(scores['pr_auc'])\n",
    "        total_scores['roc_auc'].append(scores['roc_auc'])\n",
    "        print(loader.__name__.replace('load_', ''), np.max(scores['f1']), scores['pr_auc'], scores['roc_auc'])   "
   ]
  },
  {
   "cell_type": "code",
   "execution_count": 12,
   "id": "9dc39b15-12b3-4c10-a4c4-507b07f08c6c",
   "metadata": {},
   "outputs": [],
   "source": [
    "smd_results = pd.DataFrame(total_scores)"
   ]
  },
  {
   "cell_type": "code",
   "execution_count": 13,
   "id": "6d35efa9-e8b3-4468-bc0e-b874d96337ee",
   "metadata": {},
   "outputs": [
    {
     "data": {
      "text/html": [
       "<div>\n",
       "<style scoped>\n",
       "    .dataframe tbody tr th:only-of-type {\n",
       "        vertical-align: middle;\n",
       "    }\n",
       "\n",
       "    .dataframe tbody tr th {\n",
       "        vertical-align: top;\n",
       "    }\n",
       "\n",
       "    .dataframe thead th {\n",
       "        text-align: right;\n",
       "    }\n",
       "</style>\n",
       "<table border=\"1\" class=\"dataframe\">\n",
       "  <thead>\n",
       "    <tr style=\"text-align: right;\">\n",
       "      <th></th>\n",
       "      <th>f1</th>\n",
       "      <th>pr_auc</th>\n",
       "      <th>roc_auc</th>\n",
       "    </tr>\n",
       "    <tr>\n",
       "      <th>dataset</th>\n",
       "      <th></th>\n",
       "      <th></th>\n",
       "      <th></th>\n",
       "    </tr>\n",
       "  </thead>\n",
       "  <tbody>\n",
       "    <tr>\n",
       "      <th>smd</th>\n",
       "      <td>0.335422</td>\n",
       "      <td>0.264015</td>\n",
       "      <td>0.367445</td>\n",
       "    </tr>\n",
       "  </tbody>\n",
       "</table>\n",
       "</div>"
      ],
      "text/plain": [
       "               f1    pr_auc   roc_auc\n",
       "dataset                              \n",
       "smd      0.335422  0.264015  0.367445"
      ]
     },
     "execution_count": 13,
     "metadata": {},
     "output_type": "execute_result"
    }
   ],
   "source": [
    "smd_results.groupby('dataset').mean()"
   ]
  },
  {
   "cell_type": "code",
   "execution_count": null,
   "id": "dd25bab6-df3a-4b12-823c-9ad6ceb7b1c1",
   "metadata": {},
   "outputs": [],
   "source": []
  }
 ],
 "metadata": {
  "kernelspec": {
   "display_name": "Python 3",
   "language": "python",
   "name": "python3"
  },
  "language_info": {
   "codemirror_mode": {
    "name": "ipython",
    "version": 3
   },
   "file_extension": ".py",
   "mimetype": "text/x-python",
   "name": "python",
   "nbconvert_exporter": "python",
   "pygments_lexer": "ipython3",
   "version": "3.9.4"
  }
 },
 "nbformat": 4,
 "nbformat_minor": 5
}
