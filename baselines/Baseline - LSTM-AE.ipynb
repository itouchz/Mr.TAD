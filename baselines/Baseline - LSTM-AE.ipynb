{
 "cells": [
  {
   "cell_type": "code",
   "execution_count": 1,
   "id": "a80a379b-932c-4401-8d76-b5ae5dedc6cc",
   "metadata": {},
   "outputs": [],
   "source": [
    "import os\n",
    "import random\n",
    "\n",
    "os.environ[\"CUDA_DEVICE_ORDER\"] = \"PCI_BUS_ID\";\n",
    "os.environ[\"CUDA_VISIBLE_DEVICES\"] = \"1\"\n",
    "os.environ[\"TF_FORCE_GPU_ALLOW_GROWTH\"] = \"true\""
   ]
  },
  {
   "cell_type": "code",
   "execution_count": 2,
   "id": "saving-behavior",
   "metadata": {},
   "outputs": [],
   "source": [
    "import numpy as np\n",
    "import pandas as pd\n",
    "import tensorflow as tf\n",
    "\n",
    "from evaluator import evaluate\n",
    "from data_loader import load_kdd_cup_urc, load_yahoo_A1, load_yahoo_A2, load_yahoo_A3, load_yahoo_A4, load_power_demand # Univariate Datasets\n",
    "from data_loader import load_nasa, load_ecg, load_gesture, load_smd # Multivariate Datasets\n",
    "\n",
    "from tensorflow import keras\n",
    "from tensorflow.keras import layers\n",
    "from tqdm.notebook import tqdm\n",
    "\n",
    "# THESE LINES ARE FOR REPRODUCIBILITY\n",
    "random.seed(0)\n",
    "np.random.seed(0)\n",
    "tf.random.set_seed(0)"
   ]
  },
  {
   "cell_type": "markdown",
   "id": "fa97c067-d18d-4c06-ae1b-2cbfe88788b6",
   "metadata": {},
   "source": [
    "### Yahoo S5"
   ]
  },
  {
   "cell_type": "code",
   "execution_count": 3,
   "id": "eight-partition",
   "metadata": {},
   "outputs": [],
   "source": [
    "total_scores = {'dataset': [], 'f1': [], 'pr_auc': [], 'roc_auc': []}"
   ]
  },
  {
   "cell_type": "code",
   "execution_count": 4,
   "id": "71866d92-1163-4975-bb99-4302ccda66c3",
   "metadata": {
    "scrolled": true,
    "tags": []
   },
   "outputs": [
    {
     "data": {
      "application/vnd.jupyter.widget-view+json": {
       "model_id": "b12f2788ba634d4dabdf85445451b832",
       "version_major": 2,
       "version_minor": 0
      },
      "text/plain": [
       "  0%|          | 0/67 [00:00<?, ?it/s]"
      ]
     },
     "metadata": {},
     "output_type": "display_data"
    },
    {
     "data": {
      "application/vnd.jupyter.widget-view+json": {
       "model_id": "d5d630d2129b4879af056f4a16dc8ec3",
       "version_major": 2,
       "version_minor": 0
      },
      "text/plain": [
       "  0%|          | 0/67 [00:00<?, ?it/s]"
      ]
     },
     "metadata": {},
     "output_type": "display_data"
    },
    {
     "name": "stdout",
     "output_type": "stream",
     "text": [
      "yahoo_A1 0.5714285224489823 0.0833333434821412 0.1666666583333337\n",
      "yahoo_A1 0.0 0.0 -0.0\n",
      "yahoo_A1 0.9999998500000123 0.49999990000001493 0.9999998888889001\n",
      "yahoo_A1 0.0 0.0 0.0\n",
      "WARNING:tensorflow:5 out of the last 5 calls to <function Model.make_predict_function.<locals>.predict_function at 0x7f271c54d670> triggered tf.function retracing. Tracing is expensive and the excessive number of tracings could be due to (1) creating @tf.function repeatedly in a loop, (2) passing tensors with different shapes, (3) passing Python objects instead of tensors. For (1), please define your @tf.function outside of the loop. For (2), @tf.function has experimental_relax_shapes=True option that relaxes argument shapes that can avoid unnecessary retracing. For (3), please refer to https://www.tensorflow.org/guide/function#controlling_retracing and https://www.tensorflow.org/api_docs/python/tf/function for  more details.\n",
      "yahoo_A1 0.0 0.0 0.0\n",
      "WARNING:tensorflow:6 out of the last 6 calls to <function Model.make_predict_function.<locals>.predict_function at 0x7f2784440b80> triggered tf.function retracing. Tracing is expensive and the excessive number of tracings could be due to (1) creating @tf.function repeatedly in a loop, (2) passing tensors with different shapes, (3) passing Python objects instead of tensors. For (1), please define your @tf.function outside of the loop. For (2), @tf.function has experimental_relax_shapes=True option that relaxes argument shapes that can avoid unnecessary retracing. For (3), please refer to https://www.tensorflow.org/guide/function#controlling_retracing and https://www.tensorflow.org/api_docs/python/tf/function for  more details.\n",
      "yahoo_A1 0.0 0.0 -0.0\n",
      "yahoo_A1 0.0 0.0 -0.0\n",
      "yahoo_A1 0.46153841893491365 0.14999999350000026 0.49999997619047704\n",
      "yahoo_A1 0.6666666133333363 0.6937499446348423 0.699999968500001\n",
      "yahoo_A1 0.0 0.0 0.0\n",
      "yahoo_A1 0.8571427836734729 0.8283332727972265 0.9149999600250012\n",
      "yahoo_A1 0.33333330000000166 0.055555557160493235 0.06249999296875069\n",
      "yahoo_A1 0.8749999398437528 0.16666668743763857 -0.0\n",
      "yahoo_A1 0.6666666133333363 0.08333334749999795 0.49999994000000614\n",
      "yahoo_A1 0.9999999000000052 0.49999995000000386 0.9999999375000034\n",
      "yahoo_A1 0.18181816198347142 0.0 0.0\n",
      "yahoo_A1 0.46153841893491365 0.0 0.0\n",
      "yahoo_A1 0.9999998500000123 0.49999990000001493 0.9999998888889001\n",
      "yahoo_A1 0.6666666133333363 0.2899801496316494 0.09999999550000015\n",
      "yahoo_A1 0.6666666133333363 0.08333334620204845 -0.0\n",
      "yahoo_A1 0.666666611111114 0.10000001155158537 -0.0\n",
      "yahoo_A1 0.749999943750003 0.0 0.0\n",
      "yahoo_A1 0.0 0.0 0.0\n",
      "yahoo_A1 0.0 0.0 0.0\n",
      "yahoo_A1 0.999999930000003 0.6666666339880968 0.9999999488888909\n",
      "yahoo_A1 0.9999999333333361 0.7499999507341313 0.9999999500000019\n",
      "yahoo_A1 0.0 0.0 0.0\n",
      "yahoo_A1 0.8235293536332209 0.1250000193660688 -0.0\n",
      "yahoo_A1 0.0 0.0 0.0\n",
      "yahoo_A1 0.0 0.0 0.0\n",
      "yahoo_A1 0.7999999360000031 0.6212499609744073 0.799999966000001\n",
      "yahoo_A1 0.6666666133333363 0.0 0.0\n",
      "yahoo_A1 0.6666666133333363 0.0 0.0\n",
      "yahoo_A1 0.9999998500000123 0.49999990000001493 0.9999998888889001\n",
      "yahoo_A1 0.9999999400000027 1.1111110802941596e-09 0.0\n",
      "yahoo_A1 0.5714285224489823 0.07142858100339988 -0.0\n",
      "yahoo_A1 0.7999999200000041 0.3333333055555574 0.9374999414062533\n",
      "yahoo_A1 0.5714285224489823 0.21190475388548777 0.277777761111112\n",
      "yahoo_A1 0.0 0.0 0.0\n",
      "yahoo_A1 0.5714285224489823 0.07142858121173319 -0.0\n",
      "yahoo_A1 0.749999943750003 0.10000001611639997 -0.0\n",
      "yahoo_A1 0.6666666133333363 0.0 0.0\n",
      "yahoo_A1 0.0 0.0 0.0\n",
      "yahoo_A1 0.0 0.0 0.0\n",
      "yahoo_A1 0.0 0.0 0.0\n",
      "yahoo_A1 0.0 0.0 0.0\n",
      "yahoo_A1 0.6666666133333363 0.0 0.0\n",
      "yahoo_A1 0.749999943750003 0.0 0.0\n",
      "yahoo_A1 0.46153841893491365 0.0 0.0\n",
      "yahoo_A1 0.0 0.0 0.0\n",
      "yahoo_A1 0.8888888296296326 0.0 0.0\n",
      "yahoo_A1 0.8888888296296326 0.0 0.0\n",
      "yahoo_A1 0.749999943750003 0.10000001611639998 -0.0\n",
      "yahoo_A1 0.18181816198347142 0.049999994500000554 0.49999994444445006\n",
      "yahoo_A1 0.0 0.0 0.0\n",
      "yahoo_A1 0.0 0.0 -0.0\n",
      "yahoo_A1 0.5714285224489823 0.29861108862930086 0.6111110500000057\n",
      "yahoo_A1 0.0 0.0 -0.0\n",
      "yahoo_A1 0.0 0.0 0.0\n",
      "yahoo_A1 0.0 0.0 0.0\n",
      "yahoo_A1 0.0 0.0 -0.0\n",
      "yahoo_A1 0.749999943750003 0.20000000225925868 0.6249999568750024\n",
      "yahoo_A1 0.5714285224489823 0.1999999930000002 0.49999997916666733\n",
      "yahoo_A1 0.18181816198347142 0.049999994500000554 0.49999994444445006\n",
      "yahoo_A1 0.9999999000000052 0.7499998933333472 0.9999999404761936\n",
      "yahoo_A1 0.6666666133333363 0.08333334620204845 -0.0\n",
      "yahoo_A1 0.5714285224489823 0.0 0.0\n"
     ]
    },
    {
     "data": {
      "application/vnd.jupyter.widget-view+json": {
       "model_id": "21e46bf30b2647509965ef54d55346e7",
       "version_major": 2,
       "version_minor": 0
      },
      "text/plain": [
       "  0%|          | 0/100 [00:00<?, ?it/s]"
      ]
     },
     "metadata": {},
     "output_type": "display_data"
    },
    {
     "data": {
      "application/vnd.jupyter.widget-view+json": {
       "model_id": "3eaa622518814f188aa4e45c6df5dd34",
       "version_major": 2,
       "version_minor": 0
      },
      "text/plain": [
       "  0%|          | 0/100 [00:00<?, ?it/s]"
      ]
     },
     "metadata": {},
     "output_type": "display_data"
    },
    {
     "name": "stdout",
     "output_type": "stream",
     "text": [
      "yahoo_A2 0.0 0.0 0.0\n",
      "yahoo_A2 0.0 0.0 0.0\n",
      "yahoo_A2 0.0 0.0 0.0\n",
      "yahoo_A2 0.0 0.0 0.0\n",
      "yahoo_A2 0.0 0.0 0.0\n",
      "yahoo_A2 0.0 0.0 0.0\n",
      "yahoo_A2 0.0 0.0 0.0\n",
      "yahoo_A2 0.0 0.0 0.0\n",
      "yahoo_A2 0.0 0.0 0.0\n",
      "yahoo_A2 0.0 0.0 0.0\n",
      "yahoo_A2 0.0 0.0 0.0\n",
      "yahoo_A2 0.0 0.0 0.0\n",
      "yahoo_A2 0.0 0.0 0.0\n",
      "yahoo_A2 0.0 0.0 0.0\n",
      "yahoo_A2 0.0 0.0 0.0\n",
      "yahoo_A2 0.0 0.0 0.0\n",
      "yahoo_A2 0.0 0.0 0.0\n",
      "yahoo_A2 0.0 0.0 0.0\n",
      "yahoo_A2 0.0 0.0 0.0\n",
      "yahoo_A2 0.0 0.0 0.0\n",
      "yahoo_A2 0.0 0.0 0.0\n",
      "yahoo_A2 0.0 0.0 0.0\n",
      "yahoo_A2 0.0 0.0 0.0\n",
      "yahoo_A2 0.0 0.0 0.0\n",
      "yahoo_A2 0.0 0.0 0.0\n",
      "yahoo_A2 0.0 0.0 0.0\n",
      "yahoo_A2 0.0 0.0 0.0\n",
      "yahoo_A2 0.0 0.0 0.0\n",
      "yahoo_A2 0.0 0.0 0.0\n",
      "yahoo_A2 0.0 0.0 0.0\n",
      "yahoo_A2 0.0 0.0 0.0\n",
      "yahoo_A2 0.0 0.0 0.0\n",
      "yahoo_A2 0.0 0.0 0.0\n",
      "yahoo_A2 0.0 0.0 0.0\n",
      "yahoo_A2 0.0 0.0 -0.0\n",
      "yahoo_A2 0.0 0.0 -0.0\n",
      "yahoo_A2 0.0 0.0 0.0\n",
      "yahoo_A2 0.0 0.0 0.0\n",
      "yahoo_A2 0.0 0.0 -0.0\n",
      "yahoo_A2 0.0 0.0 0.0\n",
      "yahoo_A2 0.0 0.0 -0.0\n",
      "yahoo_A2 0.0 0.0 0.0\n",
      "yahoo_A2 0.0 0.0 0.0\n",
      "yahoo_A2 0.0 0.0 -0.0\n",
      "yahoo_A2 0.0 0.0 0.0\n",
      "yahoo_A2 0.0 0.0 0.0\n",
      "yahoo_A2 0.0 0.0 -0.0\n",
      "yahoo_A2 0.0 0.0 0.0\n",
      "yahoo_A2 0.0 0.0 0.0\n",
      "yahoo_A2 0.0 0.0 0.0\n",
      "yahoo_A2 0.0 0.0 -0.0\n",
      "yahoo_A2 0.0 0.0 0.0\n",
      "yahoo_A2 0.0 0.0 0.0\n",
      "yahoo_A2 0.0 0.0 0.0\n",
      "yahoo_A2 0.0 0.0 0.0\n",
      "yahoo_A2 0.0 0.0 0.0\n",
      "yahoo_A2 0.0 0.0 0.0\n",
      "yahoo_A2 0.0 0.0 0.0\n",
      "yahoo_A2 0.0 0.0 0.0\n",
      "yahoo_A2 0.0 0.0 0.0\n",
      "yahoo_A2 0.0 0.0 0.0\n",
      "yahoo_A2 0.0 0.0 0.0\n",
      "yahoo_A2 0.0 0.0 0.0\n",
      "yahoo_A2 0.0 0.0 0.0\n",
      "yahoo_A2 0.0 0.0 0.0\n",
      "yahoo_A2 0.0 0.0 0.0\n",
      "yahoo_A2 0.0 0.0 0.0\n",
      "yahoo_A2 0.0 0.0 0.0\n",
      "yahoo_A2 0.0 0.0 0.0\n",
      "yahoo_A2 0.0 0.0 0.0\n",
      "yahoo_A2 0.0 0.0 0.0\n",
      "yahoo_A2 0.0 0.0 0.0\n",
      "yahoo_A2 0.0 0.0 0.0\n",
      "yahoo_A2 0.0 0.0 0.0\n",
      "yahoo_A2 0.0 0.0 0.0\n",
      "yahoo_A2 0.0 0.0 0.0\n",
      "yahoo_A2 0.0 0.0 0.0\n",
      "yahoo_A2 0.0 0.0 0.0\n",
      "yahoo_A2 0.0 0.0 0.0\n",
      "yahoo_A2 0.0 0.0 -0.0\n",
      "yahoo_A2 0.0 0.0 0.0\n",
      "yahoo_A2 0.0 0.0 -0.0\n",
      "yahoo_A2 0.0 0.0 0.0\n",
      "yahoo_A2 0.0 0.0 0.0\n",
      "yahoo_A2 0.0 0.0 0.0\n",
      "yahoo_A2 0.0 0.0 0.0\n",
      "yahoo_A2 0.0 0.0 -0.0\n",
      "yahoo_A2 0.0 0.0 0.0\n",
      "yahoo_A2 0.0 0.0 0.0\n",
      "yahoo_A2 0.0 0.0 0.0\n",
      "yahoo_A2 0.0 0.0 0.0\n",
      "yahoo_A2 0.0 0.0 0.0\n",
      "yahoo_A2 0.0 0.0 0.0\n",
      "yahoo_A2 0.0 0.0 0.0\n",
      "yahoo_A2 0.0 0.0 0.0\n",
      "yahoo_A2 0.0 0.0 0.0\n",
      "yahoo_A2 0.0 0.0 -0.0\n",
      "yahoo_A2 0.0 0.0 0.0\n",
      "yahoo_A2 0.0 0.0 0.0\n",
      "yahoo_A2 0.0 0.0 0.0\n"
     ]
    },
    {
     "data": {
      "application/vnd.jupyter.widget-view+json": {
       "model_id": "3726e208090842d994876c8325bc7071",
       "version_major": 2,
       "version_minor": 0
      },
      "text/plain": [
       "  0%|          | 0/100 [00:00<?, ?it/s]"
      ]
     },
     "metadata": {},
     "output_type": "display_data"
    },
    {
     "data": {
      "application/vnd.jupyter.widget-view+json": {
       "model_id": "21a46264c86f4332acb7ad8e187f4eb3",
       "version_major": 2,
       "version_minor": 0
      },
      "text/plain": [
       "  0%|          | 0/100 [00:00<?, ?it/s]"
      ]
     },
     "metadata": {},
     "output_type": "display_data"
    },
    {
     "name": "stdout",
     "output_type": "stream",
     "text": [
      "yahoo_A3 0.4999999562500026 6.464645887944386e-09 0.0\n",
      "yahoo_A3 0.5882352456747433 0.18356481098050528 -0.0\n",
      "yahoo_A3 0.736842050969532 0.0 0.0\n",
      "yahoo_A3 0.4999999562500026 0.0 0.0\n",
      "yahoo_A3 0.8571428000000028 1.025883832329092e-09 0.0\n",
      "yahoo_A3 0.4999999562500026 0.05555556362513912 0.0\n",
      "yahoo_A3 0.8333332708333363 0.6545832784733282 0.8499999622500013\n",
      "yahoo_A3 0.6666666148148177 2.1465365509595665e-08 0.0\n",
      "yahoo_A3 0.799999944000003 0.27083332641140634 0.43749994843750517\n",
      "yahoo_A3 0.0 0.0 0.0\n",
      "yahoo_A3 0.9565216809073751 0.4661111014103642 0.0\n",
      "yahoo_A3 0.9523808934240391 0.4166666588267708 0.0\n",
      "yahoo_A3 0.799999944000003 0.0 0.0\n",
      "yahoo_A3 0.3636363272727291 8.680554187702419e-09 0.399999971000002\n",
      "yahoo_A3 0.736842050969532 0.0 0.0\n",
      "yahoo_A3 0.15384613727810673 0.04166666215277823 -0.0\n",
      "yahoo_A3 0.9090908512396723 0.0 0.0\n",
      "yahoo_A3 0.4999999562500026 0.0 0.0\n",
      "yahoo_A3 0.4999999562500026 0.0 0.0\n",
      "yahoo_A3 0.5882352456747433 0.0 0.0\n",
      "yahoo_A3 0.28571425714285853 0.0 0.0\n",
      "yahoo_A3 0.28571425714285853 6.439392944080749e-09 0.0\n",
      "yahoo_A3 0.736842050969532 0.0 0.0\n",
      "yahoo_A3 0.9565216809073751 0.0 0.0\n",
      "yahoo_A3 0.3999999626666689 0.0 0.0\n",
      "yahoo_A3 0.4999999562500026 0.0 0.0\n",
      "yahoo_A3 0.736842050969532 0.0 0.0\n",
      "yahoo_A3 0.5882352456747433 0.0 0.0\n",
      "yahoo_A3 0.0 0.0 -0.0\n",
      "yahoo_A3 0.4999999562500026 1.4242422449570196e-08 0.0\n",
      "yahoo_A3 0.6666666148148177 0.07142858473067244 -0.0\n",
      "yahoo_A3 0.8571428000000028 0.0 0.0\n",
      "yahoo_A3 0.0 0.0 0.0\n",
      "yahoo_A3 0.9999999416666693 0.49999999166666675 0.0\n",
      "yahoo_A3 0.9565216809073751 0.2500000235455455 -0.0\n",
      "yahoo_A3 0.7777777216049413 1.625492894945503e-08 0.3999999791428581\n",
      "yahoo_A3 0.9565216809073751 0.0 0.0\n",
      "yahoo_A3 0.7272726677685981 0.27083332429067475 0.0\n",
      "yahoo_A3 0.9090908512396723 0.0 0.0\n",
      "yahoo_A3 0.8571428000000028 0.0 0.0\n",
      "yahoo_A3 0.799999944000003 0.0 0.0\n",
      "yahoo_A3 0.736842050969532 9.316377470976084e-09 0.39999998033333406\n",
      "yahoo_A3 0.9090908512396723 2.560605869571567e-08 0.0\n",
      "yahoo_A3 0.15384613727810673 0.0 0.0\n",
      "yahoo_A3 0.9999999416666693 0.0 0.0\n",
      "yahoo_A3 0.28571425714285853 0.0 0.0\n",
      "yahoo_A3 0.4999999562500026 0.0 0.0\n",
      "yahoo_A3 0.8571428000000028 0.1250000229252316 0.0\n",
      "yahoo_A3 0.0 0.0 0.0\n",
      "yahoo_A3 0.9565216809073751 0.0 0.0\n",
      "yahoo_A3 0.9999999416666693 2.7777776475390628e-09 0.0\n",
      "yahoo_A3 0.8571428000000028 0.18750001072285225 0.0\n",
      "yahoo_A3 0.0 0.0 0.0\n",
      "yahoo_A3 0.0 0.0 -0.0\n",
      "yahoo_A3 0.3999999626666689 0.0 0.0\n",
      "yahoo_A3 0.5882352456747433 0.06250001071706508 -0.0\n",
      "yahoo_A3 0.6666666148148177 0.0 0.0\n",
      "yahoo_A3 0.736842050969532 0.2672198129505098 0.0\n",
      "yahoo_A3 0.749999943750003 0.38392854796653164 0.5357142343112289\n",
      "yahoo_A3 0.9565216809073751 0.25000002354554557 0.0\n",
      "yahoo_A3 0.8571428000000028 0.0 0.0\n",
      "yahoo_A3 0.6666666148148177 1.5909090497462517e-09 0.0\n",
      "yahoo_A3 0.8571428000000028 0.0 0.0\n",
      "yahoo_A3 0.4999999562500026 0.0 0.0\n",
      "yahoo_A3 0.9090908512396723 2.560605869571567e-08 0.0\n",
      "yahoo_A3 0.9565216809073751 4.6521250587237894e-09 0.0\n",
      "yahoo_A3 0.799999944000003 0.0 0.0\n",
      "yahoo_A3 0.8571428000000028 0.1250000216603509 -0.0\n",
      "yahoo_A3 0.4999999562500026 0.0 0.0\n",
      "yahoo_A3 0.799999944000003 0.0 0.0\n",
      "yahoo_A3 0.0 0.0 -0.0\n",
      "yahoo_A3 0.8571428000000028 0.0 0.0\n",
      "yahoo_A3 0.0 0.0 -0.0\n",
      "yahoo_A3 0.8571428000000028 1.025883832329092e-09 0.0\n",
      "yahoo_A3 0.6666666148148177 0.0 0.0\n",
      "yahoo_A3 0.9999999416666693 0.0 0.0\n",
      "yahoo_A3 0.9090908512396723 0.25000000685605983 0.0\n",
      "yahoo_A3 0.0 0.0 -0.0\n",
      "yahoo_A3 0.736842050969532 0.20238095178732457 0.0\n",
      "yahoo_A3 0.749999943750003 0.3128968172273008 0.33333332222222256\n",
      "yahoo_A3 0.799999944000003 7.200095899153609e-09 0.0\n",
      "yahoo_A3 0.6666666148148177 0.07142858473067246 0.0\n",
      "yahoo_A3 0.4999999562500026 0.0 0.0\n",
      "yahoo_A3 0.4999999562500026 1.555765794254777e-08 0.12499999427083351\n",
      "yahoo_A3 0.799999944000003 0.0 0.0\n",
      "yahoo_A3 0.5882352456747433 0.0 0.0\n",
      "yahoo_A3 0.4999999562500026 0.0 0.0\n",
      "yahoo_A3 0.8571428000000028 0.0 0.0\n",
      "yahoo_A3 0.8749999398437528 0.2500000054894168 0.0\n",
      "yahoo_A3 0.799999944000003 0.0 0.0\n",
      "yahoo_A3 0.8571428000000028 0.0 0.0\n",
      "yahoo_A3 0.6666666148148177 0.07142858473067246 -0.0\n",
      "yahoo_A3 0.5882352456747433 4.715908772761518e-09 0.0\n",
      "yahoo_A3 0.6666666148148177 0.0 0.0\n",
      "yahoo_A3 0.5882352456747433 0.06250001071706508 -0.0\n",
      "yahoo_A3 0.8333332708333363 0.7649999382134973 0.6249999531250028\n",
      "yahoo_A3 0.5333332871111137 0.07142858071299588 0.14285713605442196\n",
      "yahoo_A3 0.6249999492187529 0.16369047491449554 -0.0\n",
      "yahoo_A3 0.736842050969532 1.4367633554077069e-08 0.0\n",
      "yahoo_A3 0.4999999562500026 0.10714285735466887 0.24999997187500275\n"
     ]
    },
    {
     "data": {
      "application/vnd.jupyter.widget-view+json": {
       "model_id": "ae9ce818ba2f4576af66a43abe6b667c",
       "version_major": 2,
       "version_minor": 0
      },
      "text/plain": [
       "  0%|          | 0/100 [00:00<?, ?it/s]"
      ]
     },
     "metadata": {},
     "output_type": "display_data"
    },
    {
     "data": {
      "application/vnd.jupyter.widget-view+json": {
       "model_id": "eb6cfa9a4c724452b1cca929e8bfdeb2",
       "version_major": 2,
       "version_minor": 0
      },
      "text/plain": [
       "  0%|          | 0/100 [00:00<?, ?it/s]"
      ]
     },
     "metadata": {},
     "output_type": "display_data"
    },
    {
     "name": "stdout",
     "output_type": "stream",
     "text": [
      "yahoo_A4 0.6666666148148177 0.0 0.0\n",
      "yahoo_A4 0.0 0.0 0.0\n",
      "yahoo_A4 0.4999999562500026 0.05555556362513912 -0.0\n",
      "yahoo_A4 0.6666666148148177 0.0 0.0\n",
      "yahoo_A4 0.6666666000000033 0.24999999136453824 0.8749999453125035\n",
      "yahoo_A4 0.9090908512396723 0.5694444152819887 0.5833332861111141\n",
      "yahoo_A4 0.736842050969532 0.12500000901049071 0.249999982500001\n",
      "yahoo_A4 0.4999999562500026 0.0 0.0\n",
      "yahoo_A4 0.0 0.0 0.0\n",
      "yahoo_A4 0.5882352456747433 0.0 0.0\n",
      "yahoo_A4 0.0 0.0 -0.0\n",
      "yahoo_A4 0.9090908512396723 1.6439393062381173e-08 0.0\n",
      "yahoo_A4 0.736842050969532 1.4367633554077069e-08 0.0\n",
      "yahoo_A4 0.9090908512396723 0.0 0.0\n",
      "yahoo_A4 0.6666666148148177 0.0 0.0\n",
      "yahoo_A4 0.736842050969532 0.08333334928826763 0.0\n",
      "yahoo_A4 0.0 0.0 -0.0\n",
      "yahoo_A4 0.3999999626666689 0.0 0.0\n",
      "yahoo_A4 0.15384613727810673 0.04166666215277823 -0.0\n",
      "yahoo_A4 0.4999999562500026 0.0 0.0\n",
      "yahoo_A4 0.9090908512396723 0.0 0.0\n",
      "yahoo_A4 0.8571428000000028 0.0 0.0\n",
      "yahoo_A4 0.9999999416666693 0.7499999500000051 0.0\n",
      "yahoo_A4 0.9473683612188393 5.921060086288456e-08 0.0\n",
      "yahoo_A4 0.4999999562500026 0.05555556362513912 -0.0\n",
      "yahoo_A4 0.736842050969532 0.14285714804110344 -0.0\n",
      "yahoo_A4 0.799999944000003 0.0 0.0\n",
      "yahoo_A4 0.4999999562500026 0.05555556362513912 0.0\n",
      "yahoo_A4 0.6666666148148177 0.0 0.0\n",
      "yahoo_A4 0.799999944000003 0.10000001875168128 0.0\n",
      "yahoo_A4 0.9999999400000027 0.4999999900000002 0.0\n",
      "yahoo_A4 0.0 0.0 0.0\n",
      "yahoo_A4 0.4999999562500026 0.0 0.0\n",
      "yahoo_A4 0.8571428000000028 6.079996228979668e-09 0.0\n",
      "yahoo_A4 0.9565216809073751 0.2500000235455455 -0.0\n",
      "yahoo_A4 0.15384613727810673 0.0 0.0\n",
      "yahoo_A4 0.6666666148148177 0.0 0.0\n",
      "yahoo_A4 0.4999999562500026 0.0 0.0\n",
      "yahoo_A4 0.5882352456747433 0.0 0.0\n",
      "yahoo_A4 0.799999944000003 0.0 0.0\n",
      "yahoo_A4 0.8571428000000028 9.071067466603282e-09 0.0\n",
      "yahoo_A4 0.736842050969532 0.08333334928826763 -0.0\n",
      "yahoo_A4 0.0 0.0 -0.0\n",
      "yahoo_A4 0.9090908512396723 5.268758876957312e-09 0.0\n",
      "yahoo_A4 0.7058822989619408 0.08333334794447264 -0.0\n",
      "yahoo_A4 0.0 0.0 0.0\n",
      "yahoo_A4 0.5882352456747433 0.0 0.0\n",
      "yahoo_A4 0.0 0.0 0.0\n",
      "yahoo_A4 0.9090908512396723 0.0 0.0\n",
      "yahoo_A4 0.0 0.0 -0.0\n",
      "yahoo_A4 0.0 0.0 0.0\n",
      "yahoo_A4 0.0 0.0 0.0\n",
      "yahoo_A4 0.799999944000003 2.6352813019987666e-09 0.0\n",
      "yahoo_A4 0.4999999562500026 0.0 0.0\n",
      "yahoo_A4 0.5882352456747433 0.0 0.0\n",
      "yahoo_A4 0.0 0.0 0.0\n",
      "yahoo_A4 0.4999999562500026 0.0 0.0\n",
      "yahoo_A4 0.49999994687500443 0.1101587281951751 -0.0\n",
      "yahoo_A4 0.4999999562500026 0.0 0.0\n",
      "yahoo_A4 0.736842050969532 0.08333334928826763 -0.0\n",
      "yahoo_A4 0.736842050969532 0.0 0.0\n",
      "yahoo_A4 0.0 0.0 0.0\n",
      "yahoo_A4 0.799999944000003 0.0 0.0\n",
      "yahoo_A4 0.0 0.0 -0.0\n",
      "yahoo_A4 0.736842050969532 0.1250000090104907 0.0\n",
      "yahoo_A4 0.4999999562500026 0.05555556362513912 -0.0\n",
      "yahoo_A4 0.3999999626666689 0.05000000514393849 -0.0\n",
      "yahoo_A4 0.9090908512396723 0.0 0.0\n",
      "yahoo_A4 0.6666666148148177 6.782827886406658e-09 0.0\n",
      "yahoo_A4 0.6666666148148177 0.07142858473067244 -0.0\n",
      "yahoo_A4 0.0 0.0 0.0\n",
      "yahoo_A4 0.4999999562500026 0.0 0.0\n",
      "yahoo_A4 0.33333330000000166 0.055555557160493235 0.11111110432098807\n",
      "yahoo_A4 0.799999944000003 0.0 0.0\n",
      "yahoo_A4 0.6666666148148177 0.07142858473067246 -0.0\n",
      "yahoo_A4 0.8571428000000028 0.0 0.0\n",
      "yahoo_A4 0.8571428000000028 0.12500002166035093 -0.0\n",
      "yahoo_A4 0.0 0.0 0.0\n",
      "yahoo_A4 0.8571428000000028 0.0 0.0\n",
      "yahoo_A4 0.3999999626666689 0.05000000514393849 0.0\n",
      "yahoo_A4 0.6666666148148177 1.5909090497462517e-09 0.0\n",
      "yahoo_A4 0.6666666148148177 0.0 0.0\n",
      "yahoo_A4 0.0 0.0 0.0\n",
      "yahoo_A4 0.3076922769230785 7.045453450738438e-09 0.11111109876543339\n",
      "yahoo_A4 0.6666666148148177 0.0 0.0\n",
      "yahoo_A4 0.8571428000000028 0.0 0.0\n",
      "yahoo_A4 0.28571425714285853 0.04545454693526121 -0.0\n",
      "yahoo_A4 0.8888888296296326 0.16666668887433553 0.0\n",
      "yahoo_A4 0.8571428000000028 0.0 0.0\n",
      "yahoo_A4 0.0 0.0 0.0\n",
      "yahoo_A4 0.799999944000003 0.10000001875168127 -0.0\n",
      "yahoo_A4 0.33333328333333917 0.0714285683992348 -0.0\n",
      "yahoo_A4 0.8888888296296326 0.253086415537674 0.0\n",
      "yahoo_A4 0.6666666148148177 0.0 0.0\n",
      "yahoo_A4 0.5882352456747433 0.0 0.0\n",
      "yahoo_A4 0.736842050969532 0.08333334928826763 0.0\n",
      "yahoo_A4 0.0 0.0 0.0\n",
      "yahoo_A4 0.4999999437500051 0.12499999687500007 -0.0\n",
      "yahoo_A4 0.8571428000000028 0.0 0.0\n",
      "yahoo_A4 0.3999999626666689 0.0 0.0\n"
     ]
    }
   ],
   "source": [
    "for loader in [load_yahoo_A1, load_yahoo_A2, load_yahoo_A3, load_yahoo_A4]:\n",
    "    datasets = loader(128, 32)\n",
    "    x_trains, x_tests, y_tests = datasets['x_train'], datasets['x_test'], datasets['y_test']\n",
    "    \n",
    "    for i in tqdm(range(len(x_trains))):\n",
    "        X_train = x_trains[i]\n",
    "        X_test = x_tests[i]\n",
    "        \n",
    "        LSTM = layers.LSTM\n",
    "        model = keras.Sequential(\n",
    "            [\n",
    "                layers.InputLayer(input_shape=(X_train.shape[1], X_train.shape[2])),\n",
    "                LSTM(64, return_sequences=True),\n",
    "                LSTM(32),\n",
    "                layers.RepeatVector(X_train.shape[1]),\n",
    "                LSTM(32, return_sequences=True),\n",
    "                LSTM(64),\n",
    "                layers.Dense(X_train.shape[1] *  X_train.shape[2]),\n",
    "                layers.Reshape([X_train.shape[1], X_train.shape[2]])\n",
    "            ]\n",
    "        )\n",
    "        model.compile(optimizer=keras.optimizers.Adam(learning_rate=0.001), loss=\"mse\")\n",
    "        history = model.fit(X_train, X_train, epochs=50, batch_size=128, validation_split=0.3, verbose=0,\n",
    "                        callbacks=[keras.callbacks.EarlyStopping(monitor=\"val_loss\", patience=5, mode=\"min\", restore_best_weights=True)])    \n",
    "        \n",
    "        scores = evaluate(X_test, model.predict(X_test), y_tests[i], is_reconstructed=True)\n",
    "    \n",
    "        total_scores['dataset'].append(loader.__name__.replace('load_', ''))\n",
    "        total_scores['f1'].append(np.max(scores['f1']))\n",
    "        total_scores['pr_auc'].append(scores['pr_auc'])\n",
    "        total_scores['roc_auc'].append(scores['roc_auc'])\n",
    "        print(loader.__name__.replace('load_', ''), np.max(scores['f1']), scores['pr_auc'], scores['roc_auc'])   "
   ]
  },
  {
   "cell_type": "code",
   "execution_count": 5,
   "id": "bd9e37fd-124c-4f5c-8f1f-a9d61a4b0315",
   "metadata": {},
   "outputs": [],
   "source": [
    "yahoo_results = pd.DataFrame(total_scores)"
   ]
  },
  {
   "cell_type": "code",
   "execution_count": 6,
   "id": "dd0ffd29-f548-4ff5-bced-b8ea85ef0697",
   "metadata": {},
   "outputs": [
    {
     "data": {
      "text/html": [
       "<div>\n",
       "<style scoped>\n",
       "    .dataframe tbody tr th:only-of-type {\n",
       "        vertical-align: middle;\n",
       "    }\n",
       "\n",
       "    .dataframe tbody tr th {\n",
       "        vertical-align: top;\n",
       "    }\n",
       "\n",
       "    .dataframe thead th {\n",
       "        text-align: right;\n",
       "    }\n",
       "</style>\n",
       "<table border=\"1\" class=\"dataframe\">\n",
       "  <thead>\n",
       "    <tr style=\"text-align: right;\">\n",
       "      <th></th>\n",
       "      <th>f1</th>\n",
       "      <th>pr_auc</th>\n",
       "      <th>roc_auc</th>\n",
       "    </tr>\n",
       "    <tr>\n",
       "      <th>dataset</th>\n",
       "      <th></th>\n",
       "      <th></th>\n",
       "      <th></th>\n",
       "    </tr>\n",
       "  </thead>\n",
       "  <tbody>\n",
       "    <tr>\n",
       "      <th>yahoo_A1</th>\n",
       "      <td>0.456918</td>\n",
       "      <td>0.137571</td>\n",
       "      <td>0.219337</td>\n",
       "    </tr>\n",
       "    <tr>\n",
       "      <th>yahoo_A2</th>\n",
       "      <td>0.000000</td>\n",
       "      <td>0.000000</td>\n",
       "      <td>0.000000</td>\n",
       "    </tr>\n",
       "    <tr>\n",
       "      <th>yahoo_A3</th>\n",
       "      <td>0.642584</td>\n",
       "      <td>0.069103</td>\n",
       "      <td>0.044994</td>\n",
       "    </tr>\n",
       "    <tr>\n",
       "      <th>yahoo_A4</th>\n",
       "      <td>0.544727</td>\n",
       "      <td>0.047881</td>\n",
       "      <td>0.019306</td>\n",
       "    </tr>\n",
       "  </tbody>\n",
       "</table>\n",
       "</div>"
      ],
      "text/plain": [
       "                f1    pr_auc   roc_auc\n",
       "dataset                               \n",
       "yahoo_A1  0.456918  0.137571  0.219337\n",
       "yahoo_A2  0.000000  0.000000  0.000000\n",
       "yahoo_A3  0.642584  0.069103  0.044994\n",
       "yahoo_A4  0.544727  0.047881  0.019306"
      ]
     },
     "execution_count": 6,
     "metadata": {},
     "output_type": "execute_result"
    }
   ],
   "source": [
    "yahoo_results.groupby('dataset').mean()"
   ]
  },
  {
   "cell_type": "markdown",
   "id": "8890a678-6116-4222-b0ff-395fcd7f41aa",
   "metadata": {},
   "source": [
    "### NASA"
   ]
  },
  {
   "cell_type": "code",
   "execution_count": 7,
   "id": "e4387a80-585a-488e-94a8-546f42d47632",
   "metadata": {},
   "outputs": [],
   "source": [
    "total_scores = {'dataset': [], 'f1': [], 'pr_auc': [], 'roc_auc': []}"
   ]
  },
  {
   "cell_type": "code",
   "execution_count": 8,
   "id": "106a238d-c5cb-49e9-9764-b1bc37f09436",
   "metadata": {},
   "outputs": [
    {
     "data": {
      "application/vnd.jupyter.widget-view+json": {
       "model_id": "81a5523771ce4d92b7835029409e5145",
       "version_major": 2,
       "version_minor": 0
      },
      "text/plain": [
       "  0%|          | 0/2 [00:00<?, ?it/s]"
      ]
     },
     "metadata": {},
     "output_type": "display_data"
    },
    {
     "data": {
      "application/vnd.jupyter.widget-view+json": {
       "model_id": "44575d1b71c14fe5b728dfe3271c91c2",
       "version_major": 2,
       "version_minor": 0
      },
      "text/plain": [
       "  0%|          | 0/2 [00:00<?, ?it/s]"
      ]
     },
     "metadata": {},
     "output_type": "display_data"
    },
    {
     "name": "stdout",
     "output_type": "stream",
     "text": [
      "D1 0.26609987030716387 0.06071534928748652 0.23365349582437323\n",
      "D2 0.3108974057317377 0.14059263929554916 0.509857249384132\n"
     ]
    }
   ],
   "source": [
    "for loader in [load_nasa]:\n",
    "    datasets = loader(100, 100)\n",
    "    x_trains, x_tests, y_tests = datasets['x_train'], datasets['x_test'], datasets['y_test']\n",
    "    \n",
    "    for i in tqdm(range(len(x_trains))):\n",
    "        X_train = x_trains[i]\n",
    "        X_test = x_tests[i]\n",
    "        \n",
    "        LSTM = layers.LSTM\n",
    "        model = keras.Sequential(\n",
    "            [\n",
    "                layers.InputLayer(input_shape=(X_train.shape[1], X_train.shape[2])),\n",
    "                LSTM(64, return_sequences=True),\n",
    "                LSTM(32),\n",
    "                layers.RepeatVector(X_train.shape[1]),\n",
    "                LSTM(32, return_sequences=True),\n",
    "                LSTM(64),\n",
    "                layers.Dense(X_train.shape[1] * X_train.shape[2]),\n",
    "                layers.Reshape([X_train.shape[1], X_train.shape[2]])\n",
    "            ]\n",
    "        )\n",
    "        model.compile(optimizer=keras.optimizers.Adam(learning_rate=0.001), loss=\"mse\")\n",
    "        history = model.fit(X_train, X_train, epochs=50, batch_size=128, validation_split=0.3, verbose=0,\n",
    "                        callbacks=[keras.callbacks.EarlyStopping(monitor=\"val_loss\", patience=5, mode=\"min\", restore_best_weights=True)])    \n",
    "        \n",
    "        scores = evaluate(X_test, model.predict(X_test), y_tests[i], is_reconstructed=True)\n",
    "        \n",
    "        total_scores['dataset'].append(f'D{i+1}')\n",
    "        total_scores['f1'].append(np.max(scores['f1']))\n",
    "        total_scores['pr_auc'].append(scores['pr_auc'])\n",
    "        total_scores['roc_auc'].append(scores['roc_auc'])\n",
    "        print(f'D{i+1}', np.max(scores['f1']), scores['pr_auc'], scores['roc_auc'])   "
   ]
  },
  {
   "cell_type": "code",
   "execution_count": 9,
   "id": "abb7a6a5-3924-4a33-bc54-871559819602",
   "metadata": {},
   "outputs": [],
   "source": [
    "nasa_results = pd.DataFrame(total_scores)"
   ]
  },
  {
   "cell_type": "code",
   "execution_count": 10,
   "id": "47b35a95-f236-4ae8-b244-5395fe9955bd",
   "metadata": {},
   "outputs": [
    {
     "data": {
      "text/html": [
       "<div>\n",
       "<style scoped>\n",
       "    .dataframe tbody tr th:only-of-type {\n",
       "        vertical-align: middle;\n",
       "    }\n",
       "\n",
       "    .dataframe tbody tr th {\n",
       "        vertical-align: top;\n",
       "    }\n",
       "\n",
       "    .dataframe thead th {\n",
       "        text-align: right;\n",
       "    }\n",
       "</style>\n",
       "<table border=\"1\" class=\"dataframe\">\n",
       "  <thead>\n",
       "    <tr style=\"text-align: right;\">\n",
       "      <th></th>\n",
       "      <th>f1</th>\n",
       "      <th>pr_auc</th>\n",
       "      <th>roc_auc</th>\n",
       "    </tr>\n",
       "    <tr>\n",
       "      <th>dataset</th>\n",
       "      <th></th>\n",
       "      <th></th>\n",
       "      <th></th>\n",
       "    </tr>\n",
       "  </thead>\n",
       "  <tbody>\n",
       "    <tr>\n",
       "      <th>D1</th>\n",
       "      <td>0.266100</td>\n",
       "      <td>0.060715</td>\n",
       "      <td>0.233653</td>\n",
       "    </tr>\n",
       "    <tr>\n",
       "      <th>D2</th>\n",
       "      <td>0.310897</td>\n",
       "      <td>0.140593</td>\n",
       "      <td>0.509857</td>\n",
       "    </tr>\n",
       "  </tbody>\n",
       "</table>\n",
       "</div>"
      ],
      "text/plain": [
       "               f1    pr_auc   roc_auc\n",
       "dataset                              \n",
       "D1       0.266100  0.060715  0.233653\n",
       "D2       0.310897  0.140593  0.509857"
      ]
     },
     "execution_count": 10,
     "metadata": {},
     "output_type": "execute_result"
    }
   ],
   "source": [
    "nasa_results.groupby('dataset').mean()"
   ]
  },
  {
   "cell_type": "markdown",
   "id": "41754734-5c75-4caf-9069-fb3b39c7a0da",
   "metadata": {},
   "source": [
    "### SMD"
   ]
  },
  {
   "cell_type": "code",
   "execution_count": 11,
   "id": "60a26807-8359-42d4-82b4-9e1d37b6acaa",
   "metadata": {},
   "outputs": [],
   "source": [
    "total_scores = {'dataset': [], 'f1': [], 'pr_auc': [], 'roc_auc': []}"
   ]
  },
  {
   "cell_type": "code",
   "execution_count": 12,
   "id": "41af318e-1b08-4cc9-a680-6b4a978544f2",
   "metadata": {},
   "outputs": [
    {
     "data": {
      "application/vnd.jupyter.widget-view+json": {
       "model_id": "405ad605ec2a40c3ae3708b28e4b545e",
       "version_major": 2,
       "version_minor": 0
      },
      "text/plain": [
       "  0%|          | 0/28 [00:00<?, ?it/s]"
      ]
     },
     "metadata": {},
     "output_type": "display_data"
    },
    {
     "data": {
      "application/vnd.jupyter.widget-view+json": {
       "model_id": "3101620279764aa7b709b925e3be0de4",
       "version_major": 2,
       "version_minor": 0
      },
      "text/plain": [
       "  0%|          | 0/28 [00:00<?, ?it/s]"
      ]
     },
     "metadata": {},
     "output_type": "display_data"
    },
    {
     "name": "stdout",
     "output_type": "stream",
     "text": [
      "smd 0.21943571700356884 0.06161971811210573 0.49999999837062536\n",
      "smd 0.1269841149911827 0.0 0.0\n",
      "smd 0.1556420088722022 0.032738515035395335 0.44368004935039196\n",
      "smd 0.1556420088722022 0.02805855430924667 0.35315708233255905\n",
      "smd 0.07048457463564264 0.018264839945997792 0.539301303066899\n",
      "smd 0.4370860582693768 0.09905660369385144 0.49999999851540616\n",
      "smd 0.2666666210975133 0.13237241665827884 0.5041226347653743\n",
      "smd 0.19157086375713953 0.070299126894654 0.46049303663978836\n",
      "smd 0.18461536771597778 0.04082120156742021 0.4205974810077555\n",
      "smd 0.463414583135044 0.2644084922170394 0.6904854853188263\n",
      "smd 0.1044176607022476 0.027542372657821033 0.49999999592963096\n",
      "smd 0.2710622474312033 0.07812435888314712 0.1381344429969452\n",
      "smd 0.22556388959240378 0.03393665165933668 0.49999999642394827\n",
      "smd 0.08026755077012628 0.025142726056084974 0.4171212084935215\n",
      "smd 0.18461536771597778 0.013761468306413635 0.49999999143081775\n",
      "smd 0.02499999751041683 0.006329113710409663 0.4999999831196587\n",
      "smd 0.1719745064647667 0.04703832733552671 0.4999999979558404\n",
      "smd 0.054421763376371404 0.0139860138062986 0.49999999357014396\n",
      "smd 0.19157086375713953 0.0 0.0\n",
      "smd 0.0275862041569562 0.006993006815736715 0.4999999873226953\n",
      "smd 0.16279068259419638 0.0 0.0\n",
      "smd 0.25735291856347503 0.0 0.0\n",
      "smd 0.15624998547363408 0.042372881126113184 0.43749999760995373\n",
      "smd 0.13438733913668502 0.02918344397141811 0.4615384577774176\n",
      "smd 0.158844750000653 0.05284925722826836 0.3336157476060229\n",
      "smd 0.06081080487353959 0.015679442329031557 0.4999999942645884\n",
      "smd 0.12418299480755367 0.03310104511041775 0.49999999718185384\n",
      "smd 0.054237282822177976 0.013937282050892934 0.49999999357078856\n"
     ]
    }
   ],
   "source": [
    "for loader in [load_smd]:\n",
    "    datasets = loader(100, 100)\n",
    "    x_trains, x_tests, y_tests = datasets['x_train'], datasets['x_test'], datasets['y_test']\n",
    "    \n",
    "    for i in tqdm(range(len(x_trains))):\n",
    "        X_train = x_trains[i]\n",
    "        X_test = x_tests[i]\n",
    "        \n",
    "        LSTM = layers.LSTM\n",
    "        model = keras.Sequential(\n",
    "            [\n",
    "                layers.InputLayer(input_shape=(X_train.shape[1], X_train.shape[2])),\n",
    "                LSTM(64, return_sequences=True),\n",
    "                LSTM(32),\n",
    "                layers.RepeatVector(X_train.shape[1]),\n",
    "                LSTM(32, return_sequences=True),\n",
    "                LSTM(64),\n",
    "                layers.Dense(X_train.shape[1] *  X_train.shape[2]),\n",
    "                layers.Reshape([X_train.shape[1], X_train.shape[2]])\n",
    "            ]\n",
    "        )\n",
    "        model.compile(optimizer=keras.optimizers.Adam(learning_rate=0.001), loss=\"mse\")\n",
    "        history = model.fit(X_train, X_train, epochs=50, batch_size=128, validation_split=0.3, verbose=0,\n",
    "                        callbacks=[keras.callbacks.EarlyStopping(monitor=\"val_loss\", patience=5, mode=\"min\", restore_best_weights=True)])    \n",
    "        \n",
    "        scores = evaluate(X_test, model.predict(X_test), y_tests[i], is_reconstructed=True)\n",
    "\n",
    "        total_scores['dataset'].append(loader.__name__.replace('load_', ''))\n",
    "        total_scores['f1'].append(np.max(scores['f1']))\n",
    "        total_scores['pr_auc'].append(scores['pr_auc'])\n",
    "        total_scores['roc_auc'].append(scores['roc_auc'])\n",
    "        print(loader.__name__.replace('load_', ''), np.max(scores['f1']), scores['pr_auc'], scores['roc_auc'])   "
   ]
  },
  {
   "cell_type": "code",
   "execution_count": 13,
   "id": "23474773-bac1-4145-ac75-c1a686bca5c6",
   "metadata": {},
   "outputs": [],
   "source": [
    "smd_results = pd.DataFrame(total_scores)"
   ]
  },
  {
   "cell_type": "code",
   "execution_count": 14,
   "id": "0f82f57f-4d93-4003-b22b-93bd75cf36e7",
   "metadata": {},
   "outputs": [
    {
     "data": {
      "text/html": [
       "<div>\n",
       "<style scoped>\n",
       "    .dataframe tbody tr th:only-of-type {\n",
       "        vertical-align: middle;\n",
       "    }\n",
       "\n",
       "    .dataframe tbody tr th {\n",
       "        vertical-align: top;\n",
       "    }\n",
       "\n",
       "    .dataframe thead th {\n",
       "        text-align: right;\n",
       "    }\n",
       "</style>\n",
       "<table border=\"1\" class=\"dataframe\">\n",
       "  <thead>\n",
       "    <tr style=\"text-align: right;\">\n",
       "      <th></th>\n",
       "      <th>f1</th>\n",
       "      <th>pr_auc</th>\n",
       "      <th>roc_auc</th>\n",
       "    </tr>\n",
       "    <tr>\n",
       "      <th>dataset</th>\n",
       "      <th></th>\n",
       "      <th></th>\n",
       "      <th></th>\n",
       "    </tr>\n",
       "  </thead>\n",
       "  <tbody>\n",
       "    <tr>\n",
       "      <th>smd</th>\n",
       "      <td>0.16846</td>\n",
       "      <td>0.042415</td>\n",
       "      <td>0.399991</td>\n",
       "    </tr>\n",
       "  </tbody>\n",
       "</table>\n",
       "</div>"
      ],
      "text/plain": [
       "              f1    pr_auc   roc_auc\n",
       "dataset                             \n",
       "smd      0.16846  0.042415  0.399991"
      ]
     },
     "execution_count": 14,
     "metadata": {},
     "output_type": "execute_result"
    }
   ],
   "source": [
    "smd_results.groupby('dataset').mean()"
   ]
  },
  {
   "cell_type": "code",
   "execution_count": null,
   "id": "8a2f4c6f-5b06-4a68-82c5-f12bdbc6e527",
   "metadata": {},
   "outputs": [],
   "source": []
  }
 ],
 "metadata": {
  "kernelspec": {
   "display_name": "Python 3",
   "language": "python",
   "name": "python3"
  },
  "language_info": {
   "codemirror_mode": {
    "name": "ipython",
    "version": 3
   },
   "file_extension": ".py",
   "mimetype": "text/x-python",
   "name": "python",
   "nbconvert_exporter": "python",
   "pygments_lexer": "ipython3",
   "version": "3.9.4"
  }
 },
 "nbformat": 4,
 "nbformat_minor": 5
}
