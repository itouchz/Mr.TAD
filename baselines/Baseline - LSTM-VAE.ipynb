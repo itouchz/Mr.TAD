{
 "cells": [
  {
   "cell_type": "code",
   "execution_count": 1,
   "id": "a80a379b-932c-4401-8d76-b5ae5dedc6cc",
   "metadata": {},
   "outputs": [],
   "source": [
    "import os\n",
    "import random\n",
    "\n",
    "os.environ[\"CUDA_DEVICE_ORDER\"] = \"PCI_BUS_ID\";\n",
    "os.environ[\"CUDA_VISIBLE_DEVICES\"] = \"1\"\n",
    "os.environ[\"TF_FORCE_GPU_ALLOW_GROWTH\"] = \"true\""
   ]
  },
  {
   "cell_type": "code",
   "execution_count": 2,
   "id": "saving-behavior",
   "metadata": {},
   "outputs": [],
   "source": [
    "import numpy as np\n",
    "import pandas as pd\n",
    "import tensorflow as tf\n",
    "\n",
    "from evaluator import evaluate\n",
    "from data_loader import load_kdd_cup_urc, load_yahoo_A1, load_yahoo_A2, load_yahoo_A3, load_yahoo_A4, load_power_demand # Univariate Datasets\n",
    "from data_loader import load_nasa, load_ecg, load_gesture, load_smd # Multivariate Datasets\n",
    "\n",
    "from tensorflow import keras\n",
    "from tensorflow.keras import layers\n",
    "from tqdm.notebook import tqdm\n",
    "\n",
    "# THESE LINES ARE FOR REPRODUCIBILITY\n",
    "random.seed(0)\n",
    "np.random.seed(0)\n",
    "tf.random.set_seed(0)"
   ]
  },
  {
   "cell_type": "code",
   "execution_count": 3,
   "id": "49c0a8e3-705d-429b-b7a0-c3c26a3a7b2b",
   "metadata": {},
   "outputs": [],
   "source": [
    "class Sampling(layers.Layer):\n",
    "    \"\"\"Uses (z_mean, z_log_var) to sample z, the vector encoding a digit.\"\"\"\n",
    "\n",
    "    def call(self, inputs):\n",
    "        z_mean, z_log_var = inputs\n",
    "        batch = tf.shape(z_mean)[0]\n",
    "        dim = tf.shape(z_mean)[1]\n",
    "        epsilon = tf.keras.backend.random_normal(shape=(batch, dim))\n",
    "        return z_mean + tf.exp(0.5 * z_log_var) * epsilon"
   ]
  },
  {
   "cell_type": "code",
   "execution_count": 4,
   "id": "24e86739-e767-4960-b7ea-9904d224a0d4",
   "metadata": {},
   "outputs": [],
   "source": [
    "class VAE(keras.Model):\n",
    "    def __init__(self, encoder, decoder, **kwargs):\n",
    "        super(VAE, self).__init__(**kwargs)\n",
    "        self.encoder = encoder\n",
    "        self.decoder = decoder\n",
    "        self.total_loss_tracker = keras.metrics.Mean(name=\"total_loss\")\n",
    "        self.reconstruction_loss_tracker = keras.metrics.Mean(\n",
    "            name=\"reconstruction_loss\"\n",
    "        )\n",
    "        self.kl_loss_tracker = keras.metrics.Mean(name=\"kl_loss\")\n",
    "\n",
    "    @property\n",
    "    def metrics(self):\n",
    "        return [\n",
    "            self.total_loss_tracker,\n",
    "            self.reconstruction_loss_tracker,\n",
    "            self.kl_loss_tracker,\n",
    "        ]\n",
    "\n",
    "    def train_step(self, data):\n",
    "        with tf.GradientTape() as tape:\n",
    "            z_mean, z_log_var, z = self.encoder(data)\n",
    "            reconstruction = self.decoder(z)\n",
    "            reconstruction_loss = tf.reduce_mean(\n",
    "                tf.reduce_sum(\n",
    "                    keras.losses.binary_crossentropy(data, reconstruction), axis=1\n",
    "                )\n",
    "            )\n",
    "            kl_loss = -0.5 * (1 + z_log_var - tf.square(z_mean) - tf.exp(z_log_var))\n",
    "            kl_loss = tf.reduce_mean(tf.reduce_sum(kl_loss, axis=1))\n",
    "            total_loss = reconstruction_loss + kl_loss\n",
    "        grads = tape.gradient(total_loss, self.trainable_weights)\n",
    "        self.optimizer.apply_gradients(zip(grads, self.trainable_weights))\n",
    "        self.total_loss_tracker.update_state(total_loss)\n",
    "        self.reconstruction_loss_tracker.update_state(reconstruction_loss)\n",
    "        self.kl_loss_tracker.update_state(kl_loss)\n",
    "        return {\n",
    "            \"loss\": self.total_loss_tracker.result(),\n",
    "            \"reconstruction_loss\": self.reconstruction_loss_tracker.result(),\n",
    "            \"kl_loss\": self.kl_loss_tracker.result(),\n",
    "        }"
   ]
  },
  {
   "cell_type": "markdown",
   "id": "fa97c067-d18d-4c06-ae1b-2cbfe88788b6",
   "metadata": {},
   "source": [
    "### Yahoo S5"
   ]
  },
  {
   "cell_type": "code",
   "execution_count": 5,
   "id": "eight-partition",
   "metadata": {},
   "outputs": [],
   "source": [
    "total_scores = {'dataset': [], 'f1': [], 'pr_auc': [], 'roc_auc': []}"
   ]
  },
  {
   "cell_type": "code",
   "execution_count": 6,
   "id": "71866d92-1163-4975-bb99-4302ccda66c3",
   "metadata": {
    "scrolled": true,
    "tags": []
   },
   "outputs": [
    {
     "data": {
      "application/vnd.jupyter.widget-view+json": {
       "model_id": "8074dee1dcce45f587b36ca244691461",
       "version_major": 2,
       "version_minor": 0
      },
      "text/plain": [
       "  0%|          | 0/67 [00:00<?, ?it/s]"
      ]
     },
     "metadata": {},
     "output_type": "display_data"
    },
    {
     "data": {
      "application/vnd.jupyter.widget-view+json": {
       "model_id": "a9a72537c2394d0b85c3a38b9f1d4762",
       "version_major": 2,
       "version_minor": 0
      },
      "text/plain": [
       "  0%|          | 0/67 [00:00<?, ?it/s]"
      ]
     },
     "metadata": {},
     "output_type": "display_data"
    },
    {
     "name": "stdout",
     "output_type": "stream",
     "text": [
      "yahoo_A1 0.5714285224489823 0.08333334134920505 0.1666666472222242\n",
      "yahoo_A1 0.0 0.0 -0.0\n",
      "WARNING:tensorflow:5 out of the last 5 calls to <function Model.make_predict_function.<locals>.predict_function at 0x7f67546d2c10> triggered tf.function retracing. Tracing is expensive and the excessive number of tracings could be due to (1) creating @tf.function repeatedly in a loop, (2) passing tensors with different shapes, (3) passing Python objects instead of tensors. For (1), please define your @tf.function outside of the loop. For (2), @tf.function has experimental_relax_shapes=True option that relaxes argument shapes that can avoid unnecessary retracing. For (3), please refer to https://www.tensorflow.org/guide/function#controlling_retracing and https://www.tensorflow.org/api_docs/python/tf/function for  more details.\n",
      "WARNING:tensorflow:6 out of the last 6 calls to <function Model.make_predict_function.<locals>.predict_function at 0x7f67546809d0> triggered tf.function retracing. Tracing is expensive and the excessive number of tracings could be due to (1) creating @tf.function repeatedly in a loop, (2) passing tensors with different shapes, (3) passing Python objects instead of tensors. For (1), please define your @tf.function outside of the loop. For (2), @tf.function has experimental_relax_shapes=True option that relaxes argument shapes that can avoid unnecessary retracing. For (3), please refer to https://www.tensorflow.org/guide/function#controlling_retracing and https://www.tensorflow.org/api_docs/python/tf/function for  more details.\n",
      "yahoo_A1 0.18181816198347142 0.049999994500000554 -0.0\n",
      "yahoo_A1 0.0 0.0 -0.0\n",
      "yahoo_A1 0.0 0.0 -0.0\n",
      "yahoo_A1 0.0 0.0 -0.0\n",
      "yahoo_A1 0.0 0.0 -0.0\n",
      "yahoo_A1 0.46153841893491365 0.14999999350000026 0.49999997619047704\n",
      "yahoo_A1 0.6153845633136124 0.2839285605050551 0.21999999070000026\n",
      "yahoo_A1 0.0 0.0 -0.0\n",
      "yahoo_A1 0.6666666133333363 0.35079363651969214 0.3666666479444452\n",
      "yahoo_A1 0.33333330000000166 0.09999999400000033 -0.0\n",
      "yahoo_A1 0.8749999398437528 0.3194444407903436 -0.0\n",
      "yahoo_A1 0.28571425306122533 0.08333332361111209 -0.0\n",
      "yahoo_A1 0.399999960000002 0.11904761327947858 0.437499969531252\n",
      "yahoo_A1 0.18181816198347142 0.049999994500000554 -0.0\n",
      "yahoo_A1 0.3636363272727291 0.0625000016493049 -0.0\n",
      "yahoo_A1 0.2222221975308647 0.06249999296875071 0.3888888456790167\n",
      "yahoo_A1 0.7272726677685981 0.4145833100962317 0.5299999765500008\n",
      "yahoo_A1 0.6153845633136124 0.08333334384093748 -0.0\n",
      "yahoo_A1 0.7142856581632683 0.1000000141904741 -0.0\n",
      "yahoo_A1 0.749999943750003 0.10000001611639997 -0.0\n",
      "yahoo_A1 0.0 0.0 -0.0\n",
      "yahoo_A1 0.0 0.0 -0.0\n",
      "yahoo_A1 0.7999999413333363 0.5642856779943338 0.4142856902403639\n",
      "yahoo_A1 0.9999998500000123 0.8333332044047825 0.9999999027777865\n",
      "yahoo_A1 0.0 0.0 -0.0\n",
      "yahoo_A1 0.7999999413333363 0.1250000177331324 -0.0\n",
      "yahoo_A1 0.0 0.0 -0.0\n",
      "yahoo_A1 0.0 0.0 -0.0\n",
      "yahoo_A1 0.6666666133333363 0.2305555497953043 0.26666664911111204\n",
      "yahoo_A1 0.6666666133333363 0.2301587239821902 0.26666664911111204\n",
      "yahoo_A1 0.6153845633136124 0.08333334384093748 -0.0\n",
      "yahoo_A1 0.0 0.0 -0.0\n",
      "yahoo_A1 0.9999999375000026 0.9285713728954118 0.0\n",
      "yahoo_A1 0.5714285224489823 0.0714285810033999 -0.0\n",
      "yahoo_A1 0.33333330000000166 0.09999999400000033 -0.0\n",
      "yahoo_A1 0.5714285224489823 0.0714285810033999 0.0\n",
      "yahoo_A1 0.0 0.0 -0.0\n",
      "yahoo_A1 0.5714285224489823 0.07142858100339988 -0.0\n",
      "yahoo_A1 0.749999943750003 0.10000001611639997 -0.0\n",
      "yahoo_A1 0.6666666133333363 0.08333334620204845 -0.0\n",
      "yahoo_A1 0.0 0.0 0.0\n",
      "yahoo_A1 0.0 0.0 -0.0\n",
      "yahoo_A1 0.0 0.0 0.0\n",
      "yahoo_A1 0.0 0.0 -0.0\n",
      "yahoo_A1 0.6666666133333363 0.10000001059093759 0.19999997600000247\n",
      "yahoo_A1 0.7142856581632683 0.1000000141904741 -0.0\n",
      "yahoo_A1 0.46153841893491365 0.06250000600115631 -0.0\n",
      "yahoo_A1 0.0 0.0 -0.0\n",
      "yahoo_A1 0.8333332708333363 0.37499997623016124 0.4999999250000088\n",
      "yahoo_A1 0.8749999398437528 0.4305555410218259 0.12499999062500056\n",
      "yahoo_A1 0.666666611111114 0.10000001174999805 -0.0\n",
      "yahoo_A1 0.18181816198347142 0.049999994500000554 0.4444443950617334\n",
      "yahoo_A1 0.0 0.0 -0.0\n",
      "yahoo_A1 0.0 0.0 -0.0\n",
      "yahoo_A1 0.5714285224489823 0.07142858100339988 -0.0\n",
      "yahoo_A1 0.0 0.0 -0.0\n",
      "yahoo_A1 0.0 0.0 0.0\n",
      "yahoo_A1 0.0 0.0 -0.0\n",
      "yahoo_A1 0.0 0.0 -0.0\n",
      "yahoo_A1 0.7142856581632683 0.1250000132638867 0.24999996875000327\n",
      "yahoo_A1 0.5714285224489823 0.1999999930000002 0.49999997916666733\n",
      "yahoo_A1 0.18181816198347142 0.049999994500000554 0.49999994444445006\n",
      "yahoo_A1 0.5999999460000028 0.208333327113095 0.6428571086734708\n",
      "yahoo_A1 0.6666666133333363 0.08333334620204845 -0.0\n",
      "yahoo_A1 0.24999997187500062 0.07142856326530694 0.0\n"
     ]
    },
    {
     "data": {
      "application/vnd.jupyter.widget-view+json": {
       "model_id": "f6b99332b1694d859c4ad0bf3de943d6",
       "version_major": 2,
       "version_minor": 0
      },
      "text/plain": [
       "  0%|          | 0/100 [00:00<?, ?it/s]"
      ]
     },
     "metadata": {},
     "output_type": "display_data"
    },
    {
     "data": {
      "application/vnd.jupyter.widget-view+json": {
       "model_id": "7c1f72a3f4e34413a31ec4f8e47bf1db",
       "version_major": 2,
       "version_minor": 0
      },
      "text/plain": [
       "  0%|          | 0/100 [00:00<?, ?it/s]"
      ]
     },
     "metadata": {},
     "output_type": "display_data"
    },
    {
     "name": "stdout",
     "output_type": "stream",
     "text": [
      "yahoo_A2 0.0 0.0 -0.0\n",
      "yahoo_A2 0.0 0.0 -0.0\n",
      "yahoo_A2 0.0 0.0 -0.0\n",
      "yahoo_A2 0.0 0.0 -0.0\n",
      "yahoo_A2 0.0 0.0 -0.0\n",
      "yahoo_A2 0.0 0.0 -0.0\n",
      "yahoo_A2 0.0 0.0 -0.0\n",
      "yahoo_A2 0.0 0.0 -0.0\n",
      "yahoo_A2 0.0 0.0 -0.0\n",
      "yahoo_A2 0.0 0.0 -0.0\n",
      "yahoo_A2 0.0 0.0 -0.0\n",
      "yahoo_A2 0.0 0.0 -0.0\n",
      "yahoo_A2 0.0 0.0 -0.0\n",
      "yahoo_A2 0.0 0.0 -0.0\n",
      "yahoo_A2 0.0 0.0 -0.0\n",
      "yahoo_A2 0.0 0.0 -0.0\n",
      "yahoo_A2 0.0 0.0 -0.0\n",
      "yahoo_A2 0.0 0.0 -0.0\n",
      "yahoo_A2 0.0 0.0 -0.0\n",
      "yahoo_A2 0.0 0.0 -0.0\n",
      "yahoo_A2 0.0 0.0 -0.0\n",
      "yahoo_A2 0.0 0.0 -0.0\n",
      "yahoo_A2 0.0 0.0 -0.0\n",
      "yahoo_A2 0.0 0.0 -0.0\n",
      "yahoo_A2 0.0 0.0 -0.0\n",
      "yahoo_A2 0.0 0.0 -0.0\n",
      "yahoo_A2 0.0 0.0 -0.0\n",
      "yahoo_A2 0.0 0.0 -0.0\n",
      "yahoo_A2 0.0 0.0 -0.0\n",
      "yahoo_A2 0.0 0.0 -0.0\n",
      "yahoo_A2 0.0 0.0 -0.0\n",
      "yahoo_A2 0.0 0.0 -0.0\n",
      "yahoo_A2 0.0 0.0 -0.0\n",
      "yahoo_A2 0.0 0.0 -0.0\n",
      "yahoo_A2 0.0 0.0 -0.0\n",
      "yahoo_A2 0.0 0.0 -0.0\n",
      "yahoo_A2 0.0 0.0 -0.0\n",
      "yahoo_A2 0.0 0.0 -0.0\n",
      "yahoo_A2 0.0 0.0 -0.0\n",
      "yahoo_A2 0.0 0.0 -0.0\n",
      "yahoo_A2 0.0 0.0 -0.0\n",
      "yahoo_A2 0.0 0.0 -0.0\n",
      "yahoo_A2 0.0 0.0 -0.0\n",
      "yahoo_A2 0.0 0.0 -0.0\n",
      "yahoo_A2 0.0 0.0 -0.0\n",
      "yahoo_A2 0.0 0.0 -0.0\n",
      "yahoo_A2 0.0 0.0 -0.0\n",
      "yahoo_A2 0.0 0.0 -0.0\n",
      "yahoo_A2 0.0 0.0 -0.0\n",
      "yahoo_A2 0.0 0.0 -0.0\n",
      "yahoo_A2 0.0 0.0 -0.0\n",
      "yahoo_A2 0.0 0.0 -0.0\n",
      "yahoo_A2 0.0 0.0 -0.0\n",
      "yahoo_A2 0.0 0.0 -0.0\n",
      "yahoo_A2 0.0 0.0 -0.0\n",
      "yahoo_A2 0.0 0.0 -0.0\n",
      "yahoo_A2 0.0 0.0 -0.0\n",
      "yahoo_A2 0.0 0.0 -0.0\n",
      "yahoo_A2 0.0 0.0 -0.0\n",
      "yahoo_A2 0.0 0.0 -0.0\n",
      "yahoo_A2 0.0 0.0 -0.0\n",
      "yahoo_A2 0.0 0.0 -0.0\n",
      "yahoo_A2 0.0 0.0 -0.0\n",
      "yahoo_A2 0.0 0.0 -0.0\n",
      "yahoo_A2 0.0 0.0 -0.0\n",
      "yahoo_A2 0.0 0.0 -0.0\n",
      "yahoo_A2 0.0 0.0 -0.0\n",
      "yahoo_A2 0.0 0.0 -0.0\n",
      "yahoo_A2 0.0 0.0 -0.0\n",
      "yahoo_A2 0.0 0.0 -0.0\n",
      "yahoo_A2 0.0 0.0 -0.0\n",
      "yahoo_A2 0.0 0.0 -0.0\n",
      "yahoo_A2 0.0 0.0 -0.0\n",
      "yahoo_A2 0.0 0.0 -0.0\n",
      "yahoo_A2 0.0 0.0 -0.0\n",
      "yahoo_A2 0.0 0.0 -0.0\n",
      "yahoo_A2 0.0 0.0 -0.0\n",
      "yahoo_A2 0.0 0.0 -0.0\n",
      "yahoo_A2 0.0 0.0 -0.0\n",
      "yahoo_A2 0.0 0.0 -0.0\n",
      "yahoo_A2 0.0 0.0 -0.0\n",
      "yahoo_A2 0.0 0.0 -0.0\n",
      "yahoo_A2 0.0 0.0 -0.0\n",
      "yahoo_A2 0.0 0.0 -0.0\n",
      "yahoo_A2 0.0 0.0 -0.0\n",
      "yahoo_A2 0.0 0.0 -0.0\n",
      "yahoo_A2 0.0 0.0 -0.0\n",
      "yahoo_A2 0.0 0.0 -0.0\n",
      "yahoo_A2 0.0 0.0 -0.0\n",
      "yahoo_A2 0.0 0.0 -0.0\n",
      "yahoo_A2 0.0 0.0 -0.0\n",
      "yahoo_A2 0.0 0.0 -0.0\n",
      "yahoo_A2 0.0 0.0 -0.0\n",
      "yahoo_A2 0.0 0.0 -0.0\n",
      "yahoo_A2 0.0 0.0 -0.0\n",
      "yahoo_A2 0.0 0.0 -0.0\n",
      "yahoo_A2 0.0 0.0 -0.0\n",
      "yahoo_A2 0.0 0.0 -0.0\n",
      "yahoo_A2 0.0 0.0 -0.0\n",
      "yahoo_A2 0.0 0.0 -0.0\n"
     ]
    },
    {
     "data": {
      "application/vnd.jupyter.widget-view+json": {
       "model_id": "4f93003a412b4f47898d11cbe48a4027",
       "version_major": 2,
       "version_minor": 0
      },
      "text/plain": [
       "  0%|          | 0/100 [00:00<?, ?it/s]"
      ]
     },
     "metadata": {},
     "output_type": "display_data"
    },
    {
     "data": {
      "application/vnd.jupyter.widget-view+json": {
       "model_id": "8eed385fb8de4697a9a92ed89ff15d96",
       "version_major": 2,
       "version_minor": 0
      },
      "text/plain": [
       "  0%|          | 0/100 [00:00<?, ?it/s]"
      ]
     },
     "metadata": {},
     "output_type": "display_data"
    },
    {
     "name": "stdout",
     "output_type": "stream",
     "text": [
      "yahoo_A3 0.4999999562500026 0.05555556362513912 0.0\n",
      "yahoo_A3 0.5333332871111137 0.10416666935658608 -0.0\n",
      "yahoo_A3 0.7058822989619408 0.245833327158099 0.4749999586250034\n",
      "yahoo_A3 0.4999999562500026 0.05555556362513912 -0.0\n",
      "yahoo_A3 0.8571428000000028 0.1250000216603509 -0.0\n",
      "yahoo_A3 0.4285713887755125 0.05555556109988678 -0.0\n",
      "yahoo_A3 0.736842050969532 0.2750992006086117 0.25833331809722293\n",
      "yahoo_A3 0.6249999492187529 0.07142858313976339 -0.0\n",
      "yahoo_A3 0.7142856581632683 0.1000000141904741 -0.0\n",
      "yahoo_A3 0.0 0.0 -0.0\n",
      "yahoo_A3 0.9999999000000052 0.8333332582677795 0.9999998500000176\n",
      "yahoo_A3 0.9473683612188393 0.6020833100161656 -0.0\n",
      "yahoo_A3 0.7777777216049413 0.2722222180723905 -0.0\n",
      "yahoo_A3 0.16666664861111138 0.045454540495868265 -0.0\n",
      "yahoo_A3 0.7058822989619408 0.34444441966669936 0.33333331555555634\n",
      "yahoo_A3 0.15384613727810673 0.04166666215277823 -0.0\n",
      "yahoo_A3 0.9090908512396723 0.16666669091558128 -0.0\n",
      "yahoo_A3 0.4999999562500026 0.05555556362513912 -0.0\n",
      "yahoo_A3 0.4999999562500026 0.05555556362513912 -0.0\n",
      "yahoo_A3 0.46153841893491365 0.06250000600115631 -0.0\n",
      "yahoo_A3 0.28571425714285853 0.04545454693526121 -0.0\n",
      "yahoo_A3 0.28571425714285853 0.04545454693526121 -0.0\n",
      "yahoo_A3 0.7058822989619408 0.08333334794447264 -0.0\n",
      "yahoo_A3 0.9411764096885841 0.374999995469742 -0.0\n",
      "yahoo_A3 0.3999999626666689 0.08571428606230636 0.16666665648148205\n",
      "yahoo_A3 0.4285713887755125 0.05555556109988678 -0.0\n",
      "yahoo_A3 0.736842050969532 0.10000001367715677 0.19999997600000247\n",
      "yahoo_A3 0.5882352456747433 0.06250001071706508 -0.0\n",
      "yahoo_A3 0.0 0.0 -0.0\n",
      "yahoo_A3 0.4285713887755125 0.05555556109988678 -0.0\n",
      "yahoo_A3 0.6249999492187529 0.0714285831397634 -0.0\n",
      "yahoo_A3 0.8571428000000028 0.18750001072285225 -0.0\n",
      "yahoo_A3 0.0 0.0 -0.0\n",
      "yahoo_A3 0.9999999416666693 0.8749999364583394 0.0\n",
      "yahoo_A3 0.9411764096885841 0.2500000204683213 -0.0\n",
      "yahoo_A3 0.6666666133333363 0.08333334620204845 -0.0\n",
      "yahoo_A3 0.9473683612188393 0.521428549404488 0.1428571265306139\n",
      "yahoo_A3 0.8571428000000028 0.16666668172979612 0.33333328888889363\n",
      "yahoo_A3 0.899999941500003 0.16666668999807288 -0.0\n",
      "yahoo_A3 0.842105205540169 0.12500002063446708 -0.0\n",
      "yahoo_A3 0.799999944000003 0.10000001875168127 -0.0\n",
      "yahoo_A3 0.6666666133333363 0.12500000898974714 0.39999996200000326\n",
      "yahoo_A3 0.9090908512396723 0.36666666105050516 0.24999997500000196\n",
      "yahoo_A3 0.0 0.0 -0.0\n",
      "yahoo_A3 0.9999999400000027 0.4999999900000002 0.0\n",
      "yahoo_A3 0.16666664861111138 0.045454540495868265 -0.0\n",
      "yahoo_A3 0.4999999562500026 0.08333333785353454 0.3749999578125042\n",
      "yahoo_A3 0.8235293536332209 0.1250000193601164 -0.0\n",
      "yahoo_A3 0.0 0.0 -0.0\n",
      "yahoo_A3 0.9523808934240391 0.44444443475269674 -0.0\n",
      "yahoo_A3 0.9999999416666693 0.7499999291666773 0.0\n",
      "yahoo_A3 0.7999999413333363 0.1250000177331324 -0.0\n",
      "yahoo_A3 0.0 0.0 -0.0\n",
      "yahoo_A3 0.0 0.0 -0.0\n",
      "yahoo_A3 0.3999999626666689 0.08333333369949457 -0.0\n",
      "yahoo_A3 0.5882352456747433 0.06250001071706508 -0.0\n",
      "yahoo_A3 0.6249999492187529 0.0714285831397634 -0.0\n",
      "yahoo_A3 0.6666666133333363 0.2083333249619715 0.599999948000004\n",
      "yahoo_A3 0.799999944000003 0.10000001875168128 -0.0\n",
      "yahoo_A3 0.9565216809073751 0.2500000235455455 -0.0\n",
      "yahoo_A3 0.842105205540169 0.20000000600946896 -0.0\n",
      "yahoo_A3 0.5714285224489823 0.0714285810033999 -0.0\n",
      "yahoo_A3 0.7692307100591745 0.18750000464285602 -0.0\n",
      "yahoo_A3 0.4285713887755125 0.05555556109988678 -0.0\n",
      "yahoo_A3 0.899999941500003 0.16666668996632683 -0.0\n",
      "yahoo_A3 0.9565216809073751 0.2500000235455455 -0.0\n",
      "yahoo_A3 0.799999944000003 0.10000001875168127 -0.0\n",
      "yahoo_A3 0.7999999413333363 0.12500001777777525 -0.0\n",
      "yahoo_A3 0.4285713887755125 0.2321428383115611 0.437499964843753\n",
      "yahoo_A3 0.7777777216049413 0.10000001758826134 -0.0\n",
      "yahoo_A3 0.0 0.0 -0.0\n",
      "yahoo_A3 0.8571428000000028 0.3749999747853571 0.6666665777777874\n",
      "yahoo_A3 0.0 0.0 -0.0\n",
      "yahoo_A3 0.8235293536332209 0.1250000193601164 -0.0\n",
      "yahoo_A3 0.5714285224489823 0.0714285810033999 -0.0\n",
      "yahoo_A3 0.9999999409090937 0.7499999541035397 0.0\n",
      "yahoo_A3 0.899999941500003 0.2500000163552159 0.4999999500000039\n",
      "yahoo_A3 0.28571425714285853 6.439392944080749e-09 0.0\n",
      "yahoo_A3 0.736842050969532 0.08333334928826763 -0.0\n",
      "yahoo_A3 0.6249999492187529 0.15337301803361353 0.16666665740740788\n",
      "yahoo_A3 0.749999943750003 0.20555555567195732 -0.0\n",
      "yahoo_A3 0.6666666148148177 2.1465365509595662e-08 0.3333332944444484\n",
      "yahoo_A3 0.4999999562500026 0.08333333692760879 -0.0\n",
      "yahoo_A3 0.4285713887755125 0.05555556109988678 -0.0\n",
      "yahoo_A3 0.749999943750003 0.16250000642890106 0.12499999062500056\n",
      "yahoo_A3 0.5333332871111137 0.09375000368818322 -0.0\n",
      "yahoo_A3 0.4999999562500026 0.05555556362513912 -0.0\n",
      "yahoo_A3 0.842105205540169 0.12500002063446708 -0.0\n",
      "yahoo_A3 0.899999941500003 0.2666666712996625 0.0\n",
      "yahoo_A3 0.799999944000003 0.10000001875168128 -0.0\n",
      "yahoo_A3 0.8571428000000028 0.21875000759785246 -0.0\n",
      "yahoo_A3 0.6666666148148177 0.07142858473067246 -0.0\n",
      "yahoo_A3 0.46153841893491365 0.06250000600115631 -0.0\n",
      "yahoo_A3 0.6666666148148177 0.10000000946536675 0.3333332944444484\n",
      "yahoo_A3 0.5882352456747433 0.06250001071706508 -0.0\n",
      "yahoo_A3 0.8333332708333363 0.16666668317460023 -0.0\n",
      "yahoo_A3 0.5882352456747433 0.06250001071706508 -0.0\n",
      "yahoo_A3 0.49999995416666926 0.07142857794784456 -0.0\n",
      "yahoo_A3 0.736842050969532 0.12500000901049071 -0.0\n",
      "yahoo_A3 0.4999999562500026 0.09375000303582638 0.1249999921875004\n"
     ]
    },
    {
     "data": {
      "application/vnd.jupyter.widget-view+json": {
       "model_id": "02161661ae134c6798c1d92cff0d3358",
       "version_major": 2,
       "version_minor": 0
      },
      "text/plain": [
       "  0%|          | 0/100 [00:00<?, ?it/s]"
      ]
     },
     "metadata": {},
     "output_type": "display_data"
    },
    {
     "data": {
      "application/vnd.jupyter.widget-view+json": {
       "model_id": "ec1c48613bdf417da284803fe3c4784b",
       "version_major": 2,
       "version_minor": 0
      },
      "text/plain": [
       "  0%|          | 0/100 [00:00<?, ?it/s]"
      ]
     },
     "metadata": {},
     "output_type": "display_data"
    },
    {
     "name": "stdout",
     "output_type": "stream",
     "text": [
      "yahoo_A4 0.6666666148148177 0.11904762532024238 0.02777777638888895\n",
      "yahoo_A4 0.0 0.0 -0.0\n",
      "yahoo_A4 0.4285713887755125 0.05555556109988678 -0.0\n",
      "yahoo_A4 0.5714285224489823 0.10714286085033937 -0.0\n",
      "yahoo_A4 0.4285713887755125 0.05555556109988678 -0.0\n",
      "yahoo_A4 0.8888888296296326 0.3125000001273142 0.12499999062500056\n",
      "yahoo_A4 0.7058822989619408 0.20626983973109564 0.03999999840000004\n",
      "yahoo_A4 0.4999999562500026 0.05555556362513912 -0.0\n",
      "yahoo_A4 0.0 0.0 -0.0\n",
      "yahoo_A4 0.5882352456747433 0.06250001071706508 -0.0\n",
      "yahoo_A4 0.0 0.0 -0.0\n",
      "yahoo_A4 0.8888888296296326 0.4166666471759278 0.4999999375000063\n",
      "yahoo_A4 0.7058822989619408 0.17460317560887328 -0.0\n",
      "yahoo_A4 0.899999941500003 0.3194444433228112 -0.0\n",
      "yahoo_A4 0.6249999492187529 0.1250000042494581 0.4999999416666726\n",
      "yahoo_A4 0.736842050969532 0.2763888807561932 0.3519047400473934\n",
      "yahoo_A4 0.0 0.0 -0.0\n",
      "yahoo_A4 0.3999999626666689 0.05000000514393849 -0.0\n",
      "yahoo_A4 0.15384613727810673 0.04166666215277823 -0.0\n",
      "yahoo_A4 0.4285713887755125 0.06250000468592082 0.12499998593750138\n",
      "yahoo_A4 0.9090908512396723 0.2500000210921683 0.4999999625000022\n",
      "yahoo_A4 0.8235293536332209 0.18750000842261774 -0.0\n",
      "yahoo_A4 0.9999999400000027 0.4999999900000002 0.0\n",
      "yahoo_A4 0.9473683612188393 0.25000002171060526 0.0\n",
      "yahoo_A4 0.4999999562500026 0.05555556362513912 -0.0\n",
      "yahoo_A4 0.736842050969532 0.08333334928826763 -0.0\n",
      "yahoo_A4 0.799999944000003 0.10000001875168127 -0.0\n",
      "yahoo_A4 0.4285713887755125 0.09821428497928879 0.18749998203125157\n",
      "yahoo_A4 0.6249999492187529 0.0714285831397634 -0.0\n",
      "yahoo_A4 0.666666611111114 0.10000001155158537 -0.0\n",
      "yahoo_A4 0.9999999375000026 0.9545453883235817 0.0\n",
      "yahoo_A4 0.0 0.0 -0.0\n",
      "yahoo_A4 0.4999999562500026 0.05555556362513912 -0.0\n",
      "yahoo_A4 0.842105205540169 0.2916666609122479 0.33333328888889363\n",
      "yahoo_A4 0.9473683612188393 0.3749999967106087 -0.0\n",
      "yahoo_A4 0.15384613727810673 0.04166666215277823 -0.0\n",
      "yahoo_A4 0.6666666148148177 0.07142858473067244 -0.0\n",
      "yahoo_A4 0.4999999562500026 0.0937500030358264 0.1249999921875004\n",
      "yahoo_A4 0.5882352456747433 0.06250001071706508 -0.0\n",
      "yahoo_A4 0.7777777216049413 0.10000001758826133 -0.0\n",
      "yahoo_A4 0.7272726677685981 0.12500001258928345 -0.0\n",
      "yahoo_A4 0.736842050969532 0.08333334928826763 -0.0\n",
      "yahoo_A4 0.0 0.0 -0.0\n",
      "yahoo_A4 0.9090908512396723 0.16666669088383526 -0.0\n",
      "yahoo_A4 0.7058822989619408 0.28571427940682337 0.3049999866750004\n",
      "yahoo_A4 0.0 0.0 0.0\n",
      "yahoo_A4 0.5882352456747433 0.06250001071706508 -0.0\n",
      "yahoo_A4 0.0 0.0 -0.0\n",
      "yahoo_A4 0.899999941500003 0.3194444433228112 -0.0\n",
      "yahoo_A4 0.0 0.0 -0.0\n",
      "yahoo_A4 0.0 0.0 -0.0\n",
      "yahoo_A4 0.0 0.0 -0.0\n",
      "yahoo_A4 0.799999944000003 0.10000001875168127 -0.0\n",
      "yahoo_A4 0.4999999562500026 0.07142857841050702 0.24999997812500177\n",
      "yahoo_A4 0.5882352456747433 0.08333334135942647 0.2857142530612278\n",
      "yahoo_A4 0.0 0.0 -0.0\n",
      "yahoo_A4 0.4285713887755125 0.05555556109988678 -0.0\n",
      "yahoo_A4 0.399999960000002 0.07142857308673395 -0.0\n",
      "yahoo_A4 0.4285713887755125 0.05555556109988678 -0.0\n",
      "yahoo_A4 0.7058822989619408 0.10000001233336178 0.19999997600000247\n",
      "yahoo_A4 0.736842050969532 0.1250000090104907 -0.0\n",
      "yahoo_A4 0.0 0.0 -0.0\n",
      "yahoo_A4 0.749999943750003 0.10000001611639997 -0.0\n",
      "yahoo_A4 0.0 0.0 -0.0\n",
      "yahoo_A4 0.736842050969532 0.08333334928826763 -0.0\n",
      "yahoo_A4 0.4285713887755125 0.05555556109988678 -0.0\n",
      "yahoo_A4 0.18181816198347142 0.049999994500000554 -0.0\n",
      "yahoo_A4 0.8888888296296326 0.1666666888425895 -0.0\n",
      "yahoo_A4 0.6249999492187529 0.0714285831397634 -0.0\n",
      "yahoo_A4 0.5714285224489823 0.1583333313075394 0.24999997500000232\n",
      "yahoo_A4 0.0 0.0 -0.0\n",
      "yahoo_A4 0.4285713887755125 0.05555556109988678 -0.0\n",
      "yahoo_A4 0.3999999626666689 0.05000000514393849 -0.0\n",
      "yahoo_A4 0.7142856581632683 0.1000000141904741 -0.0\n",
      "yahoo_A4 0.6666666148148177 0.07142858473067244 -0.0\n",
      "yahoo_A4 0.8235293536332209 0.1250000193601164 -0.0\n",
      "yahoo_A4 0.8235293536332209 0.12500001936011643 -0.0\n",
      "yahoo_A4 0.0 0.0 -0.0\n",
      "yahoo_A4 0.842105205540169 0.12500002063446708 -0.0\n",
      "yahoo_A4 0.3076922769230785 0.050000001545454004 -0.0\n",
      "yahoo_A4 0.6666666148148177 0.1000000095259728 0.3333332944444484\n",
      "yahoo_A4 0.6249999492187529 0.07142858320036946 -0.0\n",
      "yahoo_A4 0.0 0.0 -0.0\n",
      "yahoo_A4 0.3999999626666689 0.05000000514393849 -0.0\n",
      "yahoo_A4 0.6666666148148177 0.07142858473067243 -0.0\n",
      "yahoo_A4 0.7999999413333363 0.1250000177331324 -0.0\n",
      "yahoo_A4 0.28571425714285853 0.04545454693526121 -0.0\n",
      "yahoo_A4 0.899999941500003 0.2941666637968855 0.0\n",
      "yahoo_A4 0.8571428000000028 0.1666666817297961 0.33333328888889363\n",
      "yahoo_A4 0.0 0.0 -0.0\n",
      "yahoo_A4 0.7777777216049413 0.10000001758826134 -0.0\n",
      "yahoo_A4 0.666666611111114 0.10000001155158537 -0.0\n",
      "yahoo_A4 0.9090908512396723 0.16666669088383523 -0.0\n",
      "yahoo_A4 0.6249999492187529 0.16666666570779193 0.3333333027777804\n",
      "yahoo_A4 0.5882352456747433 0.06250001071706508 -0.0\n",
      "yahoo_A4 0.7058822989619408 0.08333334794447264 -0.0\n",
      "yahoo_A4 0.0 0.0 -0.0\n",
      "yahoo_A4 0.7777777216049413 0.27916666196127937 0.14583332534722254\n",
      "yahoo_A4 0.842105205540169 0.18750000969696842 -0.0\n",
      "yahoo_A4 0.3076922769230785 0.050000001545454004 -0.0\n"
     ]
    }
   ],
   "source": [
    "for loader in [load_yahoo_A1, load_yahoo_A2, load_yahoo_A3, load_yahoo_A4]:\n",
    "    datasets = loader(128, 32)\n",
    "    x_trains, x_tests, y_tests = datasets['x_train'], datasets['x_test'], datasets['y_test']\n",
    "    \n",
    "    for i in tqdm(range(len(x_trains))):\n",
    "        tf.keras.backend.clear_session()\n",
    "\n",
    "        X_train = x_trains[i]\n",
    "        X_test = x_tests[i]\n",
    "        \n",
    "        latent_dim = 16\n",
    "\n",
    "        encoder_inputs = keras.Input(shape=(X_train.shape[1], X_train.shape[2]))\n",
    "        x = layers.LSTM(64, return_sequences=True)(encoder_inputs)\n",
    "        x = layers.LSTM(32)(x)\n",
    "        z_mean = layers.Dense(latent_dim, name=\"z_mean\")(x)\n",
    "        z_log_var = layers.Dense(latent_dim, name=\"z_log_var\")(x)\n",
    "        z = Sampling()([z_mean, z_log_var])\n",
    "        encoder = keras.Model(encoder_inputs, [z_mean, z_log_var, z], name=\"encoder\")\n",
    "        \n",
    "        latent_inputs = keras.Input(shape=(latent_dim,))\n",
    "        x = layers.RepeatVector(X_train.shape[1])(latent_inputs)\n",
    "        x = layers.LSTM(32, return_sequences=True)(x)\n",
    "        x = layers.LSTM(64)(x)\n",
    "        x = layers.Dense(X_train.shape[1] *  X_train.shape[2])(x)\n",
    "        decoder_outputs = layers.Reshape([X_train.shape[1], X_train.shape[2]])(x)\n",
    "        decoder = keras.Model(latent_inputs, decoder_outputs, name=\"decoder\")\n",
    "        \n",
    "#         (x_train, _), (x_test, _) = keras.datasets.mnist.load_data()\n",
    "\n",
    "        model = VAE(encoder, decoder)\n",
    "        model.compile(optimizer=keras.optimizers.Adam(learning_rate=0.001))\n",
    "        history = model.fit(X_train, epochs=50, batch_size=128, verbose=0)\n",
    "        \n",
    "        X_test_rec = model.decoder.predict(model.encoder.predict(X_test)[-1])\n",
    "        scores = evaluate(X_test, X_test_rec, y_tests[i], is_reconstructed=True)\n",
    "    \n",
    "        total_scores['dataset'].append(loader.__name__.replace('load_', ''))\n",
    "        total_scores['f1'].append(np.max(scores['f1']))\n",
    "        total_scores['pr_auc'].append(scores['pr_auc'])\n",
    "        total_scores['roc_auc'].append(scores['roc_auc'])\n",
    "        print(loader.__name__.replace('load_', ''), np.max(scores['f1']), scores['pr_auc'], scores['roc_auc'])   "
   ]
  },
  {
   "cell_type": "code",
   "execution_count": 7,
   "id": "bd9e37fd-124c-4f5c-8f1f-a9d61a4b0315",
   "metadata": {},
   "outputs": [],
   "source": [
    "yahoo_results = pd.DataFrame(total_scores)"
   ]
  },
  {
   "cell_type": "code",
   "execution_count": 8,
   "id": "dd0ffd29-f548-4ff5-bced-b8ea85ef0697",
   "metadata": {},
   "outputs": [
    {
     "data": {
      "text/html": [
       "<div>\n",
       "<style scoped>\n",
       "    .dataframe tbody tr th:only-of-type {\n",
       "        vertical-align: middle;\n",
       "    }\n",
       "\n",
       "    .dataframe tbody tr th {\n",
       "        vertical-align: top;\n",
       "    }\n",
       "\n",
       "    .dataframe thead th {\n",
       "        text-align: right;\n",
       "    }\n",
       "</style>\n",
       "<table border=\"1\" class=\"dataframe\">\n",
       "  <thead>\n",
       "    <tr style=\"text-align: right;\">\n",
       "      <th></th>\n",
       "      <th>f1</th>\n",
       "      <th>pr_auc</th>\n",
       "      <th>roc_auc</th>\n",
       "    </tr>\n",
       "    <tr>\n",
       "      <th>dataset</th>\n",
       "      <th></th>\n",
       "      <th></th>\n",
       "      <th></th>\n",
       "    </tr>\n",
       "  </thead>\n",
       "  <tbody>\n",
       "    <tr>\n",
       "      <th>yahoo_A1</th>\n",
       "      <td>0.372141</td>\n",
       "      <td>0.118406</td>\n",
       "      <td>0.115219</td>\n",
       "    </tr>\n",
       "    <tr>\n",
       "      <th>yahoo_A2</th>\n",
       "      <td>0.000000</td>\n",
       "      <td>0.000000</td>\n",
       "      <td>0.000000</td>\n",
       "    </tr>\n",
       "    <tr>\n",
       "      <th>yahoo_A3</th>\n",
       "      <td>0.619585</td>\n",
       "      <td>0.158426</td>\n",
       "      <td>0.072220</td>\n",
       "    </tr>\n",
       "    <tr>\n",
       "      <th>yahoo_A4</th>\n",
       "      <td>0.527761</td>\n",
       "      <td>0.113948</td>\n",
       "      <td>0.052521</td>\n",
       "    </tr>\n",
       "  </tbody>\n",
       "</table>\n",
       "</div>"
      ],
      "text/plain": [
       "                f1    pr_auc   roc_auc\n",
       "dataset                               \n",
       "yahoo_A1  0.372141  0.118406  0.115219\n",
       "yahoo_A2  0.000000  0.000000  0.000000\n",
       "yahoo_A3  0.619585  0.158426  0.072220\n",
       "yahoo_A4  0.527761  0.113948  0.052521"
      ]
     },
     "execution_count": 8,
     "metadata": {},
     "output_type": "execute_result"
    }
   ],
   "source": [
    "yahoo_results.groupby('dataset').mean()"
   ]
  },
  {
   "cell_type": "markdown",
   "id": "8890a678-6116-4222-b0ff-395fcd7f41aa",
   "metadata": {},
   "source": [
    "### NASA"
   ]
  },
  {
   "cell_type": "code",
   "execution_count": 9,
   "id": "e4387a80-585a-488e-94a8-546f42d47632",
   "metadata": {},
   "outputs": [],
   "source": [
    "total_scores = {'dataset': [], 'f1': [], 'pr_auc': [], 'roc_auc': []}"
   ]
  },
  {
   "cell_type": "code",
   "execution_count": 10,
   "id": "106a238d-c5cb-49e9-9764-b1bc37f09436",
   "metadata": {},
   "outputs": [
    {
     "data": {
      "application/vnd.jupyter.widget-view+json": {
       "model_id": "fb3c46114b7641129da916f04631963e",
       "version_major": 2,
       "version_minor": 0
      },
      "text/plain": [
       "  0%|          | 0/2 [00:00<?, ?it/s]"
      ]
     },
     "metadata": {},
     "output_type": "display_data"
    },
    {
     "data": {
      "application/vnd.jupyter.widget-view+json": {
       "model_id": "fcb6e22bb2504b4aa4354820918a7429",
       "version_major": 2,
       "version_minor": 0
      },
      "text/plain": [
       "  0%|          | 0/2 [00:00<?, ?it/s]"
      ]
     },
     "metadata": {},
     "output_type": "display_data"
    },
    {
     "name": "stdout",
     "output_type": "stream",
     "text": [
      "D1 0.2535044200740443 0.1447806601986309 0.496892986858861\n",
      "D2 0.27027024683202794 0.1430758257118818 0.5224966503580902\n"
     ]
    }
   ],
   "source": [
    "for loader in [load_nasa]:\n",
    "    datasets = loader(100, 100)\n",
    "    x_trains, x_tests, y_tests = datasets['x_train'], datasets['x_test'], datasets['y_test']\n",
    "    \n",
    "    for i in tqdm(range(len(x_trains))):\n",
    "        tf.keras.backend.clear_session()\n",
    "\n",
    "        X_train = x_trains[i]\n",
    "        X_test = x_tests[i]\n",
    "        \n",
    "        latent_dim = 16\n",
    "\n",
    "        encoder_inputs = keras.Input(shape=(X_train.shape[1], X_train.shape[2]))\n",
    "        x = layers.LSTM(64, return_sequences=True)(encoder_inputs)\n",
    "        x = layers.LSTM(32)(x)\n",
    "        z_mean = layers.Dense(latent_dim, name=\"z_mean\")(x)\n",
    "        z_log_var = layers.Dense(latent_dim, name=\"z_log_var\")(x)\n",
    "        z = Sampling()([z_mean, z_log_var])\n",
    "        encoder = keras.Model(encoder_inputs, [z_mean, z_log_var, z], name=\"encoder\")\n",
    "        \n",
    "        latent_inputs = keras.Input(shape=(latent_dim,))\n",
    "        x = layers.RepeatVector(X_train.shape[1])(latent_inputs)\n",
    "        x = layers.LSTM(32, return_sequences=True)(x)\n",
    "        x = layers.LSTM(64)(x)\n",
    "        x = layers.Dense(X_train.shape[1] *  X_train.shape[2])(x)\n",
    "        decoder_outputs = layers.Reshape([X_train.shape[1], X_train.shape[2]])(x)\n",
    "        decoder = keras.Model(latent_inputs, decoder_outputs, name=\"decoder\")\n",
    "        \n",
    "#         (x_train, _), (x_test, _) = keras.datasets.mnist.load_data()\n",
    "\n",
    "        model = VAE(encoder, decoder)\n",
    "        model.compile(optimizer=keras.optimizers.Adam(learning_rate=0.001))\n",
    "        history = model.fit(X_train, epochs=50, batch_size=128, verbose=0)\n",
    "        \n",
    "        X_test_rec = model.decoder.predict(model.encoder.predict(X_test)[-1])\n",
    "        scores = evaluate(X_test, X_test_rec, y_tests[i], is_reconstructed=True)\n",
    "        \n",
    "        total_scores['dataset'].append(f'D{i+1}')\n",
    "        total_scores['f1'].append(np.max(scores['f1']))\n",
    "        total_scores['pr_auc'].append(scores['pr_auc'])\n",
    "        total_scores['roc_auc'].append(scores['roc_auc'])\n",
    "        print(f'D{i+1}', np.max(scores['f1']), scores['pr_auc'], scores['roc_auc'])   "
   ]
  },
  {
   "cell_type": "code",
   "execution_count": 11,
   "id": "abb7a6a5-3924-4a33-bc54-871559819602",
   "metadata": {},
   "outputs": [],
   "source": [
    "nasa_results = pd.DataFrame(total_scores)"
   ]
  },
  {
   "cell_type": "code",
   "execution_count": 12,
   "id": "47b35a95-f236-4ae8-b244-5395fe9955bd",
   "metadata": {},
   "outputs": [
    {
     "data": {
      "text/html": [
       "<div>\n",
       "<style scoped>\n",
       "    .dataframe tbody tr th:only-of-type {\n",
       "        vertical-align: middle;\n",
       "    }\n",
       "\n",
       "    .dataframe tbody tr th {\n",
       "        vertical-align: top;\n",
       "    }\n",
       "\n",
       "    .dataframe thead th {\n",
       "        text-align: right;\n",
       "    }\n",
       "</style>\n",
       "<table border=\"1\" class=\"dataframe\">\n",
       "  <thead>\n",
       "    <tr style=\"text-align: right;\">\n",
       "      <th></th>\n",
       "      <th>f1</th>\n",
       "      <th>pr_auc</th>\n",
       "      <th>roc_auc</th>\n",
       "    </tr>\n",
       "    <tr>\n",
       "      <th>dataset</th>\n",
       "      <th></th>\n",
       "      <th></th>\n",
       "      <th></th>\n",
       "    </tr>\n",
       "  </thead>\n",
       "  <tbody>\n",
       "    <tr>\n",
       "      <th>D1</th>\n",
       "      <td>0.253504</td>\n",
       "      <td>0.144781</td>\n",
       "      <td>0.496893</td>\n",
       "    </tr>\n",
       "    <tr>\n",
       "      <th>D2</th>\n",
       "      <td>0.270270</td>\n",
       "      <td>0.143076</td>\n",
       "      <td>0.522497</td>\n",
       "    </tr>\n",
       "  </tbody>\n",
       "</table>\n",
       "</div>"
      ],
      "text/plain": [
       "               f1    pr_auc   roc_auc\n",
       "dataset                              \n",
       "D1       0.253504  0.144781  0.496893\n",
       "D2       0.270270  0.143076  0.522497"
      ]
     },
     "execution_count": 12,
     "metadata": {},
     "output_type": "execute_result"
    }
   ],
   "source": [
    "nasa_results.groupby('dataset').mean()"
   ]
  },
  {
   "cell_type": "markdown",
   "id": "41754734-5c75-4caf-9069-fb3b39c7a0da",
   "metadata": {},
   "source": [
    "### SMD"
   ]
  },
  {
   "cell_type": "code",
   "execution_count": 13,
   "id": "60a26807-8359-42d4-82b4-9e1d37b6acaa",
   "metadata": {},
   "outputs": [],
   "source": [
    "total_scores = {'dataset': [], 'f1': [], 'pr_auc': [], 'roc_auc': []}"
   ]
  },
  {
   "cell_type": "code",
   "execution_count": 14,
   "id": "41af318e-1b08-4cc9-a680-6b4a978544f2",
   "metadata": {},
   "outputs": [
    {
     "data": {
      "application/vnd.jupyter.widget-view+json": {
       "model_id": "cb0c65e9471649df935d4241e815bf0f",
       "version_major": 2,
       "version_minor": 0
      },
      "text/plain": [
       "  0%|          | 0/28 [00:00<?, ?it/s]"
      ]
     },
     "metadata": {},
     "output_type": "display_data"
    },
    {
     "data": {
      "application/vnd.jupyter.widget-view+json": {
       "model_id": "0b9dce1648cb4a7fb0429df79b19a82d",
       "version_major": 2,
       "version_minor": 0
      },
      "text/plain": [
       "  0%|          | 0/28 [00:00<?, ?it/s]"
      ]
     },
     "metadata": {},
     "output_type": "display_data"
    },
    {
     "name": "stdout",
     "output_type": "stream",
     "text": [
      "smd 0.21943571700356884 0.06161971811210573 0.49999999837062536\n",
      "smd 0.1300812885451792 0.008766601878491102 0.10738636288987174\n",
      "smd 0.1599999851520013 0.06945027615120641 0.45430939502032086\n",
      "smd 0.15873013963775034 0.054326076248608496 0.5134792598687884\n",
      "smd 0.06611569603169239 0.01709401687303675 0.5065502117875327\n",
      "smd 0.4429529853520138 0.2074377908237624 0.4577452786027556\n",
      "smd 0.2647058591911784 0.11059659097718144 0.44507614186600203\n",
      "smd 0.1930501754595206 0.04655828879055052 0.23773304459930272\n",
      "smd 0.18532816836958452 0.058510958597963084 0.3252422075259167\n",
      "smd 0.28363633908892766 0.08436972606604197 0.49733176991578426\n",
      "smd 0.1044176607022476 0.027524555330189233 0.49420776847819725\n",
      "smd 0.2710622474312033 0.08909967542668079 0.2933352702495944\n",
      "smd 0.22556388959240378 0.07662499893437098 0.37106765630034616\n",
      "smd 0.08080807299935448 0.020835594001211342 0.40636363179541324\n",
      "smd 0.18972330283554026 0.056273405926430854 0.4097415000233758\n",
      "smd 0.02499999751041683 0.006329113710409663 0.4999999831196587\n",
      "smd 0.1719745064647667 0.04703832733552671 0.4999999979558404\n",
      "smd 0.054421763376371404 0.0139860138062986 0.49999999357014396\n",
      "smd 0.1951219328012443 0.004210526296895111 0.06502369638602354\n",
      "smd 0.0275862041569562 0.006993006815736715 0.4999999873226953\n",
      "smd 0.16342410937940147 0.0 0.004629629605440509\n",
      "smd 0.2592592365020595 0.0 0.009900990065819954\n",
      "smd 0.15624998547363408 0.05320687071592932 0.3091130587104881\n",
      "smd 0.13438733913668502 0.035435929571510094 0.45236692816585233\n",
      "smd 0.15737703457780294 0.051004467921667136 0.35794476493597377\n",
      "smd 0.06081080487353959 0.015679442329031557 0.4999999942645884\n",
      "smd 0.12709028901690242 0.052305010775446664 0.49528917583405696\n",
      "smd 0.054237282822177976 0.013937282050892934 0.49999999357078856\n"
     ]
    }
   ],
   "source": [
    "for loader in [load_smd]:\n",
    "    datasets = loader(100, 100)\n",
    "    x_trains, x_tests, y_tests = datasets['x_train'], datasets['x_test'], datasets['y_test']\n",
    "    \n",
    "    for i in tqdm(range(len(x_trains))):\n",
    "        tf.keras.backend.clear_session()\n",
    "\n",
    "        X_train = x_trains[i]\n",
    "        X_test = x_tests[i]\n",
    "        \n",
    "        latent_dim = 16\n",
    "\n",
    "        encoder_inputs = keras.Input(shape=(X_train.shape[1], X_train.shape[2]))\n",
    "        x = layers.LSTM(64, return_sequences=True)(encoder_inputs)\n",
    "        x = layers.LSTM(32)(x)\n",
    "        z_mean = layers.Dense(latent_dim, name=\"z_mean\")(x)\n",
    "        z_log_var = layers.Dense(latent_dim, name=\"z_log_var\")(x)\n",
    "        z = Sampling()([z_mean, z_log_var])\n",
    "        encoder = keras.Model(encoder_inputs, [z_mean, z_log_var, z], name=\"encoder\")\n",
    "        \n",
    "        latent_inputs = keras.Input(shape=(latent_dim,))\n",
    "        x = layers.RepeatVector(X_train.shape[1])(latent_inputs)\n",
    "        x = layers.LSTM(32, return_sequences=True)(x)\n",
    "        x = layers.LSTM(64)(x)\n",
    "        x = layers.Dense(X_train.shape[1] *  X_train.shape[2])(x)\n",
    "        decoder_outputs = layers.Reshape([X_train.shape[1], X_train.shape[2]])(x)\n",
    "        decoder = keras.Model(latent_inputs, decoder_outputs, name=\"decoder\")\n",
    "        \n",
    "#         (x_train, _), (x_test, _) = keras.datasets.mnist.load_data()\n",
    "\n",
    "        model = VAE(encoder, decoder)\n",
    "        model.compile(optimizer=keras.optimizers.Adam(learning_rate=0.001))\n",
    "        history = model.fit(X_train, epochs=50, batch_size=128, verbose=0)\n",
    "        \n",
    "        X_test_rec = model.decoder.predict(model.encoder.predict(X_test)[-1])\n",
    "        scores = evaluate(X_test, X_test_rec, y_tests[i], is_reconstructed=True)\n",
    "\n",
    "        total_scores['dataset'].append(loader.__name__.replace('load_', ''))\n",
    "        total_scores['f1'].append(np.max(scores['f1']))\n",
    "        total_scores['pr_auc'].append(scores['pr_auc'])\n",
    "        total_scores['roc_auc'].append(scores['roc_auc'])\n",
    "        print(loader.__name__.replace('load_', ''), np.max(scores['f1']), scores['pr_auc'], scores['roc_auc'])   "
   ]
  },
  {
   "cell_type": "code",
   "execution_count": 15,
   "id": "23474773-bac1-4145-ac75-c1a686bca5c6",
   "metadata": {},
   "outputs": [],
   "source": [
    "smd_results = pd.DataFrame(total_scores)"
   ]
  },
  {
   "cell_type": "code",
   "execution_count": 16,
   "id": "0f82f57f-4d93-4003-b22b-93bd75cf36e7",
   "metadata": {},
   "outputs": [
    {
     "data": {
      "text/html": [
       "<div>\n",
       "<style scoped>\n",
       "    .dataframe tbody tr th:only-of-type {\n",
       "        vertical-align: middle;\n",
       "    }\n",
       "\n",
       "    .dataframe tbody tr th {\n",
       "        vertical-align: top;\n",
       "    }\n",
       "\n",
       "    .dataframe thead th {\n",
       "        text-align: right;\n",
       "    }\n",
       "</style>\n",
       "<table border=\"1\" class=\"dataframe\">\n",
       "  <thead>\n",
       "    <tr style=\"text-align: right;\">\n",
       "      <th></th>\n",
       "      <th>f1</th>\n",
       "      <th>pr_auc</th>\n",
       "      <th>roc_auc</th>\n",
       "    </tr>\n",
       "    <tr>\n",
       "      <th>dataset</th>\n",
       "      <th></th>\n",
       "      <th></th>\n",
       "      <th></th>\n",
       "    </tr>\n",
       "  </thead>\n",
       "  <tbody>\n",
       "    <tr>\n",
       "      <th>smd</th>\n",
       "      <td>0.162948</td>\n",
       "      <td>0.046043</td>\n",
       "      <td>0.382637</td>\n",
       "    </tr>\n",
       "  </tbody>\n",
       "</table>\n",
       "</div>"
      ],
      "text/plain": [
       "               f1    pr_auc   roc_auc\n",
       "dataset                              \n",
       "smd      0.162948  0.046043  0.382637"
      ]
     },
     "execution_count": 16,
     "metadata": {},
     "output_type": "execute_result"
    }
   ],
   "source": [
    "smd_results.groupby('dataset').mean()"
   ]
  },
  {
   "cell_type": "code",
   "execution_count": null,
   "id": "8a2f4c6f-5b06-4a68-82c5-f12bdbc6e527",
   "metadata": {},
   "outputs": [],
   "source": []
  }
 ],
 "metadata": {
  "kernelspec": {
   "display_name": "Python 3",
   "language": "python",
   "name": "python3"
  },
  "language_info": {
   "codemirror_mode": {
    "name": "ipython",
    "version": 3
   },
   "file_extension": ".py",
   "mimetype": "text/x-python",
   "name": "python",
   "nbconvert_exporter": "python",
   "pygments_lexer": "ipython3",
   "version": "3.9.4"
  }
 },
 "nbformat": 4,
 "nbformat_minor": 5
}
